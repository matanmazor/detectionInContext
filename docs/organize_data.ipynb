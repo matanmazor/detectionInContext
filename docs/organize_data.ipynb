{
 "cells": [
  {
   "cell_type": "code",
   "execution_count": 1,
   "metadata": {},
   "outputs": [],
   "source": [
    "import json\n",
    "import pandas as pd\n",
    "import numpy as np\n",
    "from os import path as path\n",
    "import glob\n",
    "\n",
    "def to_csv(filename):\n",
    "    dfs=[]\n",
    "    with open(filename+'.txt') as json_file:\n",
    "        for i,line in enumerate(json_file):\n",
    "            if line[0:14]!='Consent given.':\n",
    "                dfs.append(pd.read_json(line))\n",
    "\n",
    "\n",
    "    group_df = pd.concat(dfs)\n",
    "    group_df.to_csv(filename+'.csv', index=False)\n",
    "    return(group_df)\n",
    "\n",
    "# group_df = to_csv(path.join('..','experiments','pilots','letters','data','jatos_results_batch3'))"
   ]
  },
  {
   "cell_type": "code",
   "execution_count": 2,
   "metadata": {},
   "outputs": [],
   "source": [
    "def to_csv_multiple_files(dirname):\n",
    "    dfs=[]\n",
    "    json_files = glob.glob(path.join(dirname,'*','*.json'))\n",
    "    for i,file in enumerate(json_files):\n",
    "                dfs.append(pd.read_json(file).drop('presented_pixel_data',axis=1));\n",
    "    group_df = pd.concat(dfs)\n",
    "    group_df.to_csv(dirname+'/all_data.csv', index=False)\n",
    "    return(group_df)\n"
   ]
  },
  {
   "cell_type": "code",
   "execution_count": 12,
   "metadata": {},
   "outputs": [],
   "source": [
    "group_df=to_csv_multiple_files(path.join('..','experiments','letters2','data','jatos_resultfiles_batch1'))"
   ]
  },
  {
   "cell_type": "code",
   "execution_count": 49,
   "metadata": {},
   "outputs": [
    {
     "data": {
      "text/plain": [
       "0      0                                             ...\n",
       "1      0                                             ...\n",
       "2      0                                             ...\n",
       "3      0                                             ...\n",
       "4      0                                             ...\n",
       "                             ...                        \n",
       "285    0                                             ...\n",
       "286    0                                             ...\n",
       "287    0                                             ...\n",
       "288    0                                             ...\n",
       "289    0                                             ...\n",
       "Name: presented_pixel_data, Length: 5631, dtype: object"
      ]
     },
     "execution_count": 49,
     "metadata": {},
     "output_type": "execute_result"
    }
   ],
   "source": [
    "group_df.presented_pixel_data"
   ]
  }
 ],
 "metadata": {
  "kernelspec": {
   "display_name": "Python 3",
   "language": "python",
   "name": "python3"
  },
  "language_info": {
   "codemirror_mode": {
    "name": "ipython",
    "version": 3
   },
   "file_extension": ".py",
   "mimetype": "text/x-python",
   "name": "python",
   "nbconvert_exporter": "python",
   "pygments_lexer": "ipython3",
   "version": "3.7.3"
  }
 },
 "nbformat": 4,
 "nbformat_minor": 2
}
