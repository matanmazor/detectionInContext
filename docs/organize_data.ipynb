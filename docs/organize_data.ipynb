{
 "cells": [
  {
   "cell_type": "code",
   "execution_count": 33,
   "metadata": {},
   "outputs": [],
   "source": [
    "import json\n",
    "import pandas as pd\n",
    "import numpy as np\n",
    "from os import path as path\n",
    "import glob\n",
    "import imageio\n",
    "import numpy.ma as ma\n",
    "\n",
    "def to_csv(filename):\n",
    "    dfs=[]\n",
    "    with open(filename+'.txt') as json_file:\n",
    "        for i,line in enumerate(json_file):\n",
    "            if line[0:14]!='Consent given.':\n",
    "                dfs.append(pd.read_json(line))\n",
    "    group_df = pd.concat(dfs)\n",
    "    group_df.to_csv(filename+'.csv', index=False)\n",
    "    return(group_df)\n",
    "\n",
    "# group_df = to_csv(path.join('..','experiments','pilots','letters','data','jatos_results_batch3'))"
   ]
  },
  {
   "cell_type": "code",
   "execution_count": 45,
   "metadata": {},
   "outputs": [],
   "source": [
    "A = imageio.imread('stimuli/A.png')[:,:,1]\n",
    "S = imageio.imread('stimuli/S.png')[:,:,1]\n",
    "\n",
    "targets = {'A': A, 'S':S}\n",
    "\n",
    "def get_correlation_with_target_letter(row):\n",
    "    if str(row['presented_pixel_data'])=='nan':\n",
    "        return 0\n",
    "    else:\n",
    "        presented_pixel_data = np.array(row['presented_pixel_data'], dtype=float)\n",
    "        target = targets[row['target']];\n",
    "        correlation_per_frame = np.array([ma.corrcoef(ma.masked_invalid(frame.flatten()),\n",
    "                                            ma.masked_invalid(target.flatten()))[0,1] for frame in presented_pixel_data])\n",
    "        return correlation_per_frame\n",
    "    \n",
    "def get_correlation_with_mask(row):\n",
    "    if str(row['presented_pixel_data'])=='nan':\n",
    "        return 0\n",
    "    else:\n",
    "        presented_pixel_data = np.array(row['presented_pixel_data'], dtype=float)\n",
    "        target = targets[row['target']];\n",
    "        correlation_per_frame = np.array([ma.corrcoef(ma.masked_invalid(frame.flatten()),\n",
    "                                            ma.masked_invalid(target.flatten()))[0,1] for frame in presented_pixel_data])\n",
    "        return correlation_per_frame"
   ]
  },
  {
   "cell_type": "code",
   "execution_count": 46,
   "metadata": {},
   "outputs": [],
   "source": [
    "def get_num_pixels_hidden(row):\n",
    "    if str(row['presented_pixel_data'])=='nan':\n",
    "        return 0\n",
    "    else:\n",
    "        presented_pixel_data = row['presented_pixel_data']\n",
    "        first_frame = presented_pixel_data[0];\n",
    "        number_of_hidden_pixels = len([item for sublist in first_frame for item in sublist if str(item) == 'None'])\n",
    "        return number_of_hidden_pixels\n",
    "\n",
    "def to_csv_multiple_files(dirname):\n",
    "    dfs=[]\n",
    "    json_files = glob.glob(path.join(dirname,'*','*.json'))\n",
    "    for i,file in enumerate(json_files):\n",
    "                mydf = pd.read_json(file)\n",
    "                mydf['num_pixels_hidden'] = mydf.apply(get_num_pixels_hidden, axis=1)\n",
    "                mydf['correlation_with_target_letter'] = mydf.apply(get_correlation_with_target_letter, axis=1)\n",
    "                dfs.append(mydf.drop('presented_pixel_data',axis=1));\n",
    "    group_df = pd.concat(dfs)\n",
    "#     group_df.to_csv(dirname+'/all_data.csv', index=False)\n",
    "    return(group_df)\n"
   ]
  },
  {
   "cell_type": "code",
   "execution_count": null,
   "metadata": {},
   "outputs": [],
   "source": [
    "group_df=to_csv_multiple_files(path.join('..','experiments','letters3occluded','version2','data','jatos_resultfiles_batch1'))"
   ]
  }
 ],
 "metadata": {
  "kernelspec": {
   "display_name": "Python 3 (ipykernel)",
   "language": "python",
   "name": "python3"
  },
  "language_info": {
   "codemirror_mode": {
    "name": "ipython",
    "version": 3
   },
   "file_extension": ".py",
   "mimetype": "text/x-python",
   "name": "python",
   "nbconvert_exporter": "python",
   "pygments_lexer": "ipython3",
   "version": "3.9.7"
  }
 },
 "nbformat": 4,
 "nbformat_minor": 2
}
