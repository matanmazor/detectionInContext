{
 "cells": [
  {
   "cell_type": "code",
   "execution_count": 1,
   "id": "ac632b69",
   "metadata": {},
   "outputs": [],
   "source": [
    "import matplotlib.pyplot as plt\n",
    "import scipy.stats as stats\n",
    "from pyddm import Model\n",
    "from pyddm import Sample\n",
    "import pyddm as ddm\n",
    "import numpy as np\n",
    "import pandas as pd\n",
    "import random\n",
    "import os\n",
    "import copy"
   ]
  },
  {
   "cell_type": "markdown",
   "id": "7a166a97",
   "metadata": {},
   "source": [
    "## Fit M1: basic model"
   ]
  },
  {
   "cell_type": "code",
   "execution_count": 2,
   "id": "398b9802",
   "metadata": {},
   "outputs": [],
   "source": [
    "from pyddm import InitialCondition,Fittable, Fitted\n",
    "from pyddm.models import Drift, Bound, LossRobustBIC, NoiseConstant, BoundConstant, OverlayChain, OverlayNonDecision, OverlayPoissonMixture\n",
    "from pyddm.functions import fit_adjust_model\n",
    "\n",
    "class ICPointSideBiasRatio(InitialCondition):\n",
    "    name = \"A side-biased starting point expressed as a proportion of the distance between the bounds.\"\n",
    "    required_parameters = [\"x0\"]\n",
    "    required_conditions = [\"present\"]\n",
    "    def get_IC(self, x, dx, conditions):\n",
    "        x0 = self.x0/2 + .5 #rescale to between 0 and 1\n",
    "        # Bias > .5 for left side correct, bias < .5 for right side correct.\n",
    "        # On original scale, positive bias for left, negative for right\n",
    "        if not conditions['present']==1:\n",
    "            x0 = 1-x0\n",
    "        shift_i = int((len(x)-1)*x0)\n",
    "        assert shift_i >= 0 and shift_i < len(x), \"Invalid initial conditions\"\n",
    "        pdf = np.zeros(len(x))\n",
    "        pdf[shift_i] = 1. # Initial condition at x=x0*2*B.\n",
    "        return pdf\n",
    "    \n",
    "class DriftPresent(ddm.models.Drift):\n",
    "    name = \"Drift depends on target presence\"\n",
    "    required_parameters = [\"driftpresent\",\"driftabsent\"] # <-- Parameters we want to include in the model\n",
    "    required_conditions = [\"present\"] # <-- Task parameters (\"conditions\"). Should be the same name as in the sample.\n",
    "\n",
    "    # We must always define the get_drift function, which is used to compute the instantaneous value of drift.\n",
    "    def get_drift(self, conditions, **kwargs):\n",
    "        # so that driftabsent values are normally negative\n",
    "        return self.driftpresent * conditions['present'] - self.driftabsent * (1-conditions['present'])\n",
    "\n",
    "\n"
   ]
  },
  {
   "cell_type": "code",
   "execution_count": 3,
   "id": "cc6048ad",
   "metadata": {},
   "outputs": [
    {
     "name": "stderr",
     "output_type": "stream",
     "text": [
      "Warning: dt is large.  Estimated pdfs may be imprecise.  Decrease dt to 0.01 or less.\n"
     ]
    }
   ],
   "source": [
    "m1_spec = Model(name='Basic model drift varies as a function of target presence',\n",
    "                 drift=DriftPresent(driftabsent=Fittable(minval=-10, maxval=0),\n",
    "                                     driftpresent=Fittable(minval=0, maxval=10)),\n",
    "                 noise=NoiseConstant(noise=1),\n",
    "                 IC=ICPointSideBiasRatio(x0=Fittable(minval=-1, maxval=1)),\n",
    "                 bound=BoundConstant(B=Fittable(minval=0.1, maxval=2.5)),\n",
    "                 overlay=OverlayChain(overlays=[OverlayNonDecision(nondectime=Fittable(minval=0, maxval=1)),\n",
    "                                                OverlayPoissonMixture(pmixturecoef=.02,\n",
    "                                                                      rate=1)]),\n",
    "                 dx=.01, dt=.1, T_dur=5)\n",
    "\n",
    "def fit_m1(df,data_label):\n",
    "    \n",
    "    df = df.reset_index();\n",
    "    subj_id = df.subj_id[0]\n",
    "    \n",
    "    sample = Sample.from_pandas_dataframe(df, rt_column_name=\"rt\", correct_column_name=\"correct\")\n",
    "    fit_model = fit_adjust_model(sample=sample, model=m1_spec, verbose=False, lossfunction = LossRobustBIC)\n",
    "    summary_df = pd.DataFrame.from_dict({\n",
    "        'subj_id': [subj_id],\n",
    "        'driftabsent': [float(fit_model.parameters()['drift']['driftabsent'])],\n",
    "        'driftpresent': [float(fit_model.parameters()['drift']['driftpresent'])],\n",
    "        'noise': [float(fit_model.parameters()['noise']['noise'])],\n",
    "        'bound': [float(fit_model.parameters()['bound']['B'])],\n",
    "        'IC': [float(fit_model.parameters()['IC']['x0'])],\n",
    "        'nondec': [float(fit_model.parameters()['overlay']['nondectime'])],\n",
    "        'BIC': [fit_model.fitresult.value()]\n",
    "    })\n",
    "    \n",
    "    if not os.path.exists(\"model_fits/model_m1/data_\"+data_label):\n",
    "                       os.makedirs(\"model_fits/model_m1/data_\"+data_label)\n",
    "                       \n",
    "    with open(\"model_fits/model_m1/data_\"+data_label+\"/subj\"+str(subj_id)+\".txt\", \"w\") as f:\n",
    "        f.write(repr(fit_model))\n",
    "    \n",
    "    return(summary_df)\n",
    "\n",
    "    \n",
    "# loaded = pd.read_csv(\"data/E2.csv\") \n",
    "# loaded['present'] = loaded['present'].replace(-1,0)\n",
    "# summary_list = []\n",
    "# for name, group in loaded.groupby('subj_id'):\n",
    "#     print(name)\n",
    "#     a= fit_m1(group.reset_index(),'E2')\n",
    "#     summary_list.append(a)\n",
    "# summary_df = pd.concat(summary_list)\n",
    "# summary_df.to_csv(\"model_fits/model_m1/data_E2/all_subjects.csv\")"
   ]
  },
  {
   "cell_type": "markdown",
   "id": "aa992246",
   "metadata": {},
   "source": [
    "## Fit M2: boundaries can collapse"
   ]
  },
  {
   "cell_type": "code",
   "execution_count": 3,
   "id": "1da9adf8",
   "metadata": {},
   "outputs": [],
   "source": [
    "from pyddm import InitialCondition,Fittable, Fitted\n",
    "from pyddm.models import Drift, Bound, LossRobustBIC, NoiseConstant, OverlayChain, OverlayNonDecision, OverlayPoissonMixture, Noise\n",
    "from pyddm.functions import fit_adjust_model\n",
    "\n",
    "class BoundCollapse(Bound):\n",
    "    name = \"Boundary for the collapsing boundary model\"\n",
    "    required_parameters = [\"B\", \"uppercollapse\", \"lowercollapse\"]\n",
    "    required_conditions = []\n",
    "    def get_bound(self, t, conditions, **kwargs):\n",
    "        return max(0.01, self.B + t*(self.uppercollapse-self.lowercollapse)/2)\n",
    "    \n",
    "class DriftPresentCollapse(ddm.models.Drift):\n",
    "    name = \"Drift depends on target presence and collapses\"\n",
    "    required_parameters = [\"driftpresent\",\"uppercollapse\", \"lowercollapse\"] # <-- Parameters we want to include in the model\n",
    "    required_conditions = [\"present\"] # <-- Task parameters (\"conditions\"). Should be the same name as in the sample.\n",
    "\n",
    "    # We must always define the get_drift function, which is used to compute the instantaneous value of drift.\n",
    "    def get_drift(self, t, conditions, **kwargs):\n",
    "        # so that driftabsent values are normally negative\n",
    "        return conditions['present'] * (self.driftpresent - (self.uppercollapse+self.lowercollapse)/2) + \\\n",
    "    (1-conditions['present']) *(0+ (self.uppercollapse+self.lowercollapse)/2)\n",
    "\n",
    "\n",
    "\n"
   ]
  },
  {
   "cell_type": "code",
   "execution_count": 4,
   "id": "9734633f",
   "metadata": {},
   "outputs": [
    {
     "name": "stderr",
     "output_type": "stream",
     "text": [
      "Warning: dt is large.  Estimated pdfs may be imprecise.  Decrease dt to 0.01 or less.\n"
     ]
    }
   ],
   "source": [
    "uppercollapse = Fittable(minval=-5, maxval=0)\n",
    "lowercollapse = Fittable(minval=0, maxval=5)\n",
    "\n",
    "m2_spec = Model(name='Absence drift is zero boundaries can collapse',\n",
    "                 drift=DriftPresentCollapse(driftpresent=Fittable(minval=0, maxval=10),\n",
    "                                   uppercollapse=uppercollapse,\n",
    "                                   lowercollapse=lowercollapse),\n",
    "                 noise=NoiseConstant(noise=1),\n",
    "                 IC=ICPointSideBiasRatio(x0=Fittable(minval=-1, maxval=1)),\n",
    "                 bound=BoundCollapse(B=Fittable(minval=0.1, maxval=2.5),\n",
    "                                    uppercollapse=uppercollapse,\n",
    "                                    lowercollapse=lowercollapse),\n",
    "                 overlay=OverlayChain(overlays=[OverlayNonDecision(nondectime=Fittable(minval=0, maxval=1)),\n",
    "                                                OverlayPoissonMixture(pmixturecoef=.02,\n",
    "                                                                      rate=1)]),\n",
    "                 dx=.01, dt=.1, T_dur=5)\n",
    "\n",
    "def fit_m2(df,data_label):\n",
    "    \n",
    "    df = df.reset_index();\n",
    "    subj_id = df.subj_id[0]\n",
    "    \n",
    "    sample = Sample.from_pandas_dataframe(df, rt_column_name=\"rt\", correct_column_name=\"correct\")\n",
    "    fit_model = fit_adjust_model(sample=sample, model=m2_spec, verbose=False, lossfunction = LossRobustBIC)\n",
    "    summary_df = pd.DataFrame.from_dict({\n",
    "        'subj_id': [subj_id],\n",
    "        'driftpresent': [float(fit_model.parameters()['drift']['driftpresent'])],\n",
    "        'uppercollapse': [float(fit_model.parameters()['drift']['uppercollapse'])],\n",
    "        'lowercollapse': [float(fit_model.parameters()['drift']['lowercollapse'])],\n",
    "        'noise': [float(fit_model.parameters()['noise']['noise'])],\n",
    "        'bound': [float(fit_model.parameters()['bound']['B'])],\n",
    "        'IC': [float(fit_model.parameters()['IC']['x0'])],\n",
    "        'nondec': [float(fit_model.parameters()['overlay']['nondectime'])],\n",
    "        'BIC': [fit_model.fitresult.value()]\n",
    "    })\n",
    "    \n",
    "    if not os.path.exists(\"model_fits/model_m2/data_\"+data_label):\n",
    "                       os.makedirs(\"model_fits/model_m2/data_\"+data_label)\n",
    "                       \n",
    "    with open(\"model_fits/model_m2/data_\"+data_label+\"/subj\"+str(subj_id)+\".txt\", \"w\") as f:\n",
    "        f.write(repr(fit_model))\n",
    "    \n",
    "    return(summary_df)\n",
    "        \n",
    "\n",
    "# loaded = pd.read_csv(\"data/E2.csv\") \n",
    "# loaded['present'] = loaded['present'].replace(-1,0)\n",
    "# summary_list = []\n",
    "# for name, group in loaded.groupby('subj_id'):\n",
    "#     print(name)\n",
    "#     a= fit_m2(group.reset_index(),'E2')\n",
    "#     summary_list.append(a)\n",
    "# summary_df = pd.concat(summary_list)\n",
    "# summary_df.to_csv(\"model_fits/model_m2/data_E2/all_subjects.csv\")"
   ]
  },
  {
   "cell_type": "markdown",
   "id": "1a65d8db",
   "metadata": {},
   "source": [
    "## Fit M3: Lower boundary collapses rapidly\n"
   ]
  },
  {
   "cell_type": "code",
   "execution_count": 5,
   "id": "591a6a30",
   "metadata": {},
   "outputs": [],
   "source": [
    "class BoundNonlinearCollapse(Bound):\n",
    "    name = \"Lower boundary collapses nonlinearly\"\n",
    "    required_parameters = [\"B\", \"lowercollapse\", \"collapsetime\"]\n",
    "    required_conditions = []\n",
    "    def get_bound(self, t, conditions, **kwargs):\n",
    "        if t<self.collapsetime:\n",
    "            return(self.B)\n",
    "        else:\n",
    "            return max(0.01, self.B - (t-self.collapsetime)*self.lowercollapse/2)\n",
    "    \n",
    "class DriftPresentNonlinearCollapse(ddm.models.Drift):\n",
    "    name = \"Drift depends on target presence and collapses nonlinearly\"\n",
    "    required_parameters = [\"driftpresent\",\"lowercollapse\", \"collapsetime\"] # <-- Parameters we want to include in the model\n",
    "    required_conditions = [\"present\"] # <-- Task parameters (\"conditions\"). Should be the same name as in the sample.\n",
    "\n",
    "    # We must always define the get_drift function, which is used to compute the instantaneous value of drift.\n",
    "    def get_drift(self, t, conditions, **kwargs):\n",
    "        if t<self.collapsetime:\n",
    "            return conditions['present'] * (self.driftpresent)\n",
    "        else:\n",
    "            return conditions['present'] * (self.driftpresent-self.lowercollapse/2) + \\\n",
    "        (1-conditions['present']) * (0+ self.lowercollapse/2)\n"
   ]
  },
  {
   "cell_type": "code",
   "execution_count": 6,
   "id": "47574a3f",
   "metadata": {},
   "outputs": [
    {
     "name": "stderr",
     "output_type": "stream",
     "text": [
      "Warning: dt is large.  Estimated pdfs may be imprecise.  Decrease dt to 0.01 or less.\n"
     ]
    }
   ],
   "source": [
    "lowercollapse = Fittable(minval=0, maxval=10)\n",
    "collapsetime = Fittable(minval=0, maxval=5)\n",
    "\n",
    "m3_spec = Model(name='Absence drift is zero lower boundary can collapse nonlinearly',\n",
    "                 drift=DriftPresentNonlinearCollapse(driftpresent=Fittable(minval=0, maxval=10),\n",
    "                                   lowercollapse=lowercollapse,\n",
    "                                   collapsetime=collapsetime),\n",
    "                 noise=NoiseConstant(noise=1),\n",
    "                 IC=ICPointSideBiasRatio(x0=Fittable(minval=-1, maxval=1)),\n",
    "                 bound=BoundNonlinearCollapse(B=Fittable(minval=0.1, maxval=2.5),\n",
    "                                    lowercollapse=lowercollapse,\n",
    "                                    collapsetime=collapsetime),\n",
    "                 overlay=OverlayChain(overlays=[OverlayNonDecision(nondectime=Fittable(minval=0, maxval=1)),\n",
    "                                                OverlayPoissonMixture(pmixturecoef=.02,\n",
    "                                                                      rate=1)]),\n",
    "                 dx=.01, dt=.1, T_dur=5)\n",
    "\n",
    "def fit_m3(df,data_label):\n",
    "    \n",
    "    df = df.reset_index();\n",
    "    subj_id = df.subj_id[0]\n",
    "    \n",
    "    sample = Sample.from_pandas_dataframe(df, rt_column_name=\"rt\", correct_column_name=\"correct\")\n",
    "    fit_model = fit_adjust_model(sample=sample, model=m3_spec, verbose=False, lossfunction = LossRobustBIC)\n",
    "    summary_df = pd.DataFrame.from_dict({\n",
    "        'subj_id': [subj_id],\n",
    "        'driftpresent': [float(fit_model.parameters()['drift']['driftpresent'])],\n",
    "        'collapsetime': [float(fit_model.parameters()['drift']['collapsetime'])],\n",
    "        'lowercollapse': [float(fit_model.parameters()['drift']['lowercollapse'])],\n",
    "        'noise': [float(fit_model.parameters()['noise']['noise'])],\n",
    "        'bound': [float(fit_model.parameters()['bound']['B'])],\n",
    "        'IC': [float(fit_model.parameters()['IC']['x0'])],\n",
    "        'nondec': [float(fit_model.parameters()['overlay']['nondectime'])],\n",
    "        'BIC': [fit_model.fitresult.value()]\n",
    "    })\n",
    "    \n",
    "    if not os.path.exists(\"model_fits/model_m3/data_\"+data_label):\n",
    "                       os.makedirs(\"model_fits/model_m3/data_\"+data_label)\n",
    "                       \n",
    "    with open(\"model_fits/model_m3/data_\"+data_label+\"/subj\"+str(subj_id)+\".txt\", \"w\") as f:\n",
    "        f.write(repr(fit_model))\n",
    "    \n",
    "    return(summary_df)\n",
    "        \n",
    "\n",
    "# loaded = pd.read_csv(\"data/E2.csv\") \n",
    "# loaded['present'] = loaded['present'].replace(-1,0)\n",
    "# summary_list = []\n",
    "# for name, group in loaded.groupby('subj_id'):\n",
    "#     print(name)\n",
    "#     a= fit_m3(group.reset_index(),'E2')\n",
    "#     summary_list.append(a)\n",
    "# summary_df = pd.concat(summary_list)\n",
    "# summary_df.to_csv(\"model_fits/model_m3/data_E2/all_subjects.csv\")"
   ]
  },
  {
   "cell_type": "markdown",
   "id": "3d3d11c3",
   "metadata": {},
   "source": [
    "## Fit M4: unequal variance"
   ]
  },
  {
   "cell_type": "code",
   "execution_count": 7,
   "id": "83ef20dc",
   "metadata": {},
   "outputs": [],
   "source": [
    "class NoiseAsymmetric(Noise):\n",
    "    name = \"Noise is higher when a target is present\"\n",
    "    required_parameters = [\"noiseabsent\"]\n",
    "    required_conditions = ['present']\n",
    "    def get_noise(self, t, conditions, **kwargs):\n",
    "        if conditions['present']==1:\n",
    "            return 1\n",
    "        else:\n",
    "            return self.noiseabsent"
   ]
  },
  {
   "cell_type": "code",
   "execution_count": 8,
   "id": "36478ebe",
   "metadata": {},
   "outputs": [
    {
     "name": "stderr",
     "output_type": "stream",
     "text": [
      "Warning: dt is large.  Estimated pdfs may be imprecise.  Decrease dt to 0.01 or less.\n"
     ]
    }
   ],
   "source": [
    "m4_spec = Model(name='Basic model drift varies as a function of target presence',\n",
    "                 drift=DriftPresent(driftabsent=Fittable(minval=-10, maxval=0),\n",
    "                                     driftpresent=Fittable(minval=0, maxval=10)),\n",
    "                 noise=NoiseAsymmetric(noiseabsent=Fittable(minval=0.5,maxval=2)),\n",
    "                 IC=ICPointSideBiasRatio(x0=Fittable(minval=-1, maxval=1)),\n",
    "                 bound=BoundConstant(B=Fittable(minval=0.1, maxval=2.5)),\n",
    "                 overlay=OverlayChain(overlays=[OverlayNonDecision(nondectime=Fittable(minval=0, maxval=1)),\n",
    "                                                OverlayPoissonMixture(pmixturecoef=.02,\n",
    "                                                                      rate=1)]),\n",
    "                 dx=.01, dt=.1, T_dur=5)\n",
    "\n",
    "def fit_m4(df,data_label):\n",
    "    \n",
    "    df = df.reset_index();\n",
    "    subj_id = df.subj_id[0]\n",
    "    \n",
    "    sample = Sample.from_pandas_dataframe(df, rt_column_name=\"rt\", correct_column_name=\"correct\")\n",
    "    fit_model = fit_adjust_model(sample=sample, model=m4_spec, verbose=False, lossfunction = LossRobustBIC)\n",
    "    summary_df = pd.DataFrame.from_dict({\n",
    "        'subj_id': [subj_id],\n",
    "        'driftabsent': [float(fit_model.parameters()['drift']['driftabsent'])],\n",
    "        'driftpresent': [float(fit_model.parameters()['drift']['driftpresent'])],\n",
    "        'noiseabsent': [float(fit_model.parameters()['noise']['noiseabsent'])],\n",
    "        'bound': [float(fit_model.parameters()['bound']['B'])],\n",
    "        'IC': [float(fit_model.parameters()['IC']['x0'])],\n",
    "        'nondec': [float(fit_model.parameters()['overlay']['nondectime'])],\n",
    "        'BIC': [fit_model.fitresult.value()]\n",
    "    })\n",
    "    \n",
    "    if not os.path.exists(\"model_fits/model_m4/data_\"+data_label):\n",
    "                       os.makedirs(\"model_fits/model_m4/data_\"+data_label)\n",
    "                       \n",
    "    with open(\"model_fits/model_m4/data_\"+data_label+\"/subj\"+str(subj_id)+\".txt\", \"w\") as f:\n",
    "        f.write(repr(fit_model))\n",
    "    \n",
    "    return(summary_df)\n",
    "\n",
    "# loaded = pd.read_csv(\"data/E2.csv\") \n",
    "# loaded['present'] = loaded['present'].replace(-1,0)\n",
    "# summary_list = []\n",
    "# for name, group in loaded.groupby('subj_id'):\n",
    "#     print(name)\n",
    "#     a= fit_m4(group.reset_index(),'E2')\n",
    "#     summary_list.append(a)\n",
    "# summary_df = pd.concat(summary_list)\n",
    "# summary_df.to_csv(\"model_fits/model_m4/data_E2/all_subjects.csv\")"
   ]
  },
  {
   "cell_type": "markdown",
   "id": "7bb2a1bd",
   "metadata": {},
   "source": [
    "## Fit M5: unequal variance + collapsing boundaries"
   ]
  },
  {
   "cell_type": "code",
   "execution_count": 9,
   "id": "7a4e4c25",
   "metadata": {},
   "outputs": [
    {
     "name": "stderr",
     "output_type": "stream",
     "text": [
      "Warning: dt is large.  Estimated pdfs may be imprecise.  Decrease dt to 0.01 or less.\n"
     ]
    }
   ],
   "source": [
    "m5_spec = Model(name='Absence drift is zero boundaries can collapse',\n",
    "                 drift=DriftPresentCollapse(driftpresent=Fittable(minval=0, maxval=10),\n",
    "                                   uppercollapse=uppercollapse,\n",
    "                                   lowercollapse=lowercollapse),\n",
    "                 noise=NoiseAsymmetric(noiseabsent=Fittable(minval=0.5,maxval=2)),\n",
    "                 IC=ICPointSideBiasRatio(x0=Fittable(minval=-1, maxval=1)),\n",
    "                 bound=BoundCollapse(B=Fittable(minval=0.1, maxval=2.5),\n",
    "                                    uppercollapse=uppercollapse,\n",
    "                                    lowercollapse=lowercollapse),\n",
    "                 overlay=OverlayChain(overlays=[OverlayNonDecision(nondectime=Fittable(minval=0, maxval=1)),\n",
    "                                                OverlayPoissonMixture(pmixturecoef=.02,\n",
    "                                                                      rate=1)]),\n",
    "                 dx=.01, dt=.1, T_dur=5)\n",
    "\n",
    "def fit_m5(df,data_label):\n",
    "    \n",
    "    df = df.reset_index();\n",
    "    subj_id = df.subj_id[0]\n",
    "    \n",
    "    sample = Sample.from_pandas_dataframe(df, rt_column_name=\"rt\", correct_column_name=\"correct\")\n",
    "    fit_model = fit_adjust_model(sample=sample, model=m5_spec, verbose=False, lossfunction = LossRobustBIC)\n",
    "    summary_df = pd.DataFrame.from_dict({\n",
    "        'subj_id': [subj_id],\n",
    "        'driftpresent': [float(fit_model.parameters()['drift']['driftpresent'])],\n",
    "        'uppercollapse': [float(fit_model.parameters()['drift']['uppercollapse'])],\n",
    "        'lowercollapse': [float(fit_model.parameters()['drift']['lowercollapse'])],\n",
    "        'noiseabsent': [float(fit_model.parameters()['noise']['noiseabsent'])],\n",
    "        'bound': [float(fit_model.parameters()['bound']['B'])],\n",
    "        'IC': [float(fit_model.parameters()['IC']['x0'])],\n",
    "        'nondec': [float(fit_model.parameters()['overlay']['nondectime'])],\n",
    "        'BIC': [fit_model.fitresult.value()]\n",
    "    })\n",
    "    \n",
    "    if not os.path.exists(\"model_fits/model_m5/data_\"+data_label):\n",
    "                       os.makedirs(\"model_fits/model_m5/data_\"+data_label)\n",
    "                       \n",
    "    with open(\"model_fits/model_m5/data_\"+data_label+\"/subj\"+str(subj_id)+\".txt\", \"w\") as f:\n",
    "        f.write(repr(fit_model))\n",
    "    \n",
    "    return(summary_df)\n",
    "        \n",
    "\n",
    "# loaded = pd.read_csv(\"data/E2.csv\") \n",
    "# loaded['present'] = loaded['present'].replace(-1,0)\n",
    "# summary_list = []\n",
    "# for name, group in loaded.groupby('subj_id'):\n",
    "#     print(name)\n",
    "#     a= fit_m5(group.reset_index(),'E2')\n",
    "#     summary_list.append(a)\n",
    "# summary_df = pd.concat(summary_list)\n",
    "# summary_df.to_csv(\"model_fits/model_m5/data_E2/all_subjects.csv\")"
   ]
  },
  {
   "cell_type": "markdown",
   "id": "5bf5aa0c",
   "metadata": {},
   "source": [
    "## Fit M6: unequal variance + nonlinearly collapsing boundary"
   ]
  },
  {
   "cell_type": "code",
   "execution_count": 10,
   "id": "5fd1dd50",
   "metadata": {},
   "outputs": [
    {
     "name": "stderr",
     "output_type": "stream",
     "text": [
      "Warning: dt is large.  Estimated pdfs may be imprecise.  Decrease dt to 0.01 or less.\n"
     ]
    }
   ],
   "source": [
    "m6_spec = Model(name='Absence drift is zero lower boundary can collapse nonlinearly',\n",
    "                 drift=DriftPresentNonlinearCollapse(driftpresent=Fittable(minval=0, maxval=10),\n",
    "                                   lowercollapse=lowercollapse,\n",
    "                                   collapsetime=collapsetime),\n",
    "                 noise=NoiseAsymmetric(noiseabsent=Fittable(minval=0,maxval=3)),\n",
    "                 IC=ICPointSideBiasRatio(x0=Fittable(minval=-1, maxval=1)),\n",
    "                 bound=BoundNonlinearCollapse(B=Fittable(minval=0.1, maxval=2.5),\n",
    "                                    lowercollapse=lowercollapse,\n",
    "                                    collapsetime=collapsetime),\n",
    "                 overlay=OverlayChain(overlays=[OverlayNonDecision(nondectime=Fittable(minval=0, maxval=1)),\n",
    "                                                OverlayPoissonMixture(pmixturecoef=.02,\n",
    "                                                                      rate=1)]),\n",
    "                 dx=.01, dt=.1, T_dur=5)\n",
    "\n",
    "def fit_m6(df,data_label):\n",
    "    \n",
    "    df = df.reset_index();\n",
    "    subj_id = df.subj_id[0]\n",
    "    \n",
    "    sample = Sample.from_pandas_dataframe(df, rt_column_name=\"rt\", correct_column_name=\"correct\")\n",
    "    fit_model = fit_adjust_model(sample=sample, model=m6_spec, verbose=False, lossfunction = LossRobustBIC)\n",
    "    summary_df = pd.DataFrame.from_dict({\n",
    "        'subj_id': [subj_id],\n",
    "        'driftpresent': [float(fit_model.parameters()['drift']['driftpresent'])],\n",
    "        'collapsetime': [float(fit_model.parameters()['drift']['collapsetime'])],\n",
    "        'lowercollapse': [float(fit_model.parameters()['drift']['lowercollapse'])],\n",
    "        'noiseabsent': [float(fit_model.parameters()['noise']['noiseabsent'])],\n",
    "        'bound': [float(fit_model.parameters()['bound']['B'])],\n",
    "        'IC': [float(fit_model.parameters()['IC']['x0'])],\n",
    "        'nondec': [float(fit_model.parameters()['overlay']['nondectime'])],\n",
    "        'BIC': [fit_model.fitresult.value()]\n",
    "    })\n",
    "    \n",
    "    if not os.path.exists(\"model_fits/model_m6/data_\"+data_label):\n",
    "                       os.makedirs(\"model_fits/model_m6/data_\"+data_label)\n",
    "                       \n",
    "    with open(\"model_fits/model_m6/data_\"+data_label+\"/subj\"+str(subj_id)+\".txt\", \"w\") as f:\n",
    "        f.write(repr(fit_model))\n",
    "    \n",
    "    return(summary_df)\n",
    "        \n",
    "\n",
    "# loaded = pd.read_csv(\"data/E2.csv\") \n",
    "# loaded['present'] = loaded['present'].replace(-1,0)\n",
    "# summary_list = []\n",
    "# for name, group in loaded.groupby('subj_id'):\n",
    "#     print(name)\n",
    "#     a= fit_m6(group.reset_index(),'E2')\n",
    "#     summary_list.append(a)\n",
    "# summary_df = pd.concat(summary_list)\n",
    "# summary_df.to_csv(\"model_fits/model_m6/data_E2/all_subjects.csv\")"
   ]
  },
  {
   "cell_type": "markdown",
   "id": "a36a88e9",
   "metadata": {},
   "source": [
    "## Fit M7: basic model with changing t0"
   ]
  },
  {
   "cell_type": "code",
   "execution_count": 34,
   "id": "f77a7437",
   "metadata": {},
   "outputs": [],
   "source": [
    "from pyddm import OverlayNonDecision, Solution\n",
    "class OverlayNonDecisionPresent(OverlayNonDecision):\n",
    "    name = \"Separate non-decision time for target presence or absence\"\n",
    "    required_parameters = [\"nondectimepresent\", \"nondectimeabsent\"]\n",
    "    required_conditions = ['present']\n",
    "    def get_nondecision_time(self, conditions):\n",
    "        return self.nondectimepresent if conditions['present'] == 1 else self.nondectimeabsent"
   ]
  },
  {
   "cell_type": "code",
   "execution_count": 35,
   "id": "a15227e2",
   "metadata": {},
   "outputs": [
    {
     "name": "stderr",
     "output_type": "stream",
     "text": [
      "Warning: dt is large.  Estimated pdfs may be imprecise.  Decrease dt to 0.01 or less.\n"
     ]
    }
   ],
   "source": [
    "m7_spec = Model(name='Basic model drift varies as a function of target presence',\n",
    "                 drift=DriftPresent(driftabsent=Fittable(minval=-10, maxval=0),\n",
    "                                     driftpresent=Fittable(minval=0, maxval=10)),\n",
    "                 noise=NoiseConstant(noise=1),\n",
    "                 IC=ICPointSideBiasRatio(x0=Fittable(minval=-1, maxval=1)),\n",
    "                 bound=BoundConstant(B=Fittable(minval=0.1, maxval=2.5)),\n",
    "                 overlay=OverlayChain(overlays=[OverlayNonDecisionPresent(nondectimepresent=Fittable(minval=0, maxval=1),\n",
    "                                                                         nondectimeabsent = Fittable(minval=0, maxval=1)),\n",
    "                                                OverlayPoissonMixture(pmixturecoef=.02,\n",
    "                                                                      rate=1)]),\n",
    "                 dx=.01, dt=.1, T_dur=5)\n",
    "\n",
    "def fit_m7(df,data_label):\n",
    "    \n",
    "    df = df.reset_index();\n",
    "    subj_id = df.subj_id[0]\n",
    "    \n",
    "    sample = Sample.from_pandas_dataframe(df, rt_column_name=\"rt\", correct_column_name=\"correct\")\n",
    "    fit_model = fit_adjust_model(sample=sample, model=m7_spec, verbose=False, lossfunction = LossRobustBIC)\n",
    "    summary_df = pd.DataFrame.from_dict({\n",
    "        'subj_id': [subj_id],\n",
    "        'driftabsent': [float(fit_model.parameters()['drift']['driftabsent'])],\n",
    "        'driftpresent': [float(fit_model.parameters()['drift']['driftpresent'])],\n",
    "        'noise': [float(fit_model.parameters()['noise']['noise'])],\n",
    "        'bound': [float(fit_model.parameters()['bound']['B'])],\n",
    "        'IC': [float(fit_model.parameters()['IC']['x0'])],\n",
    "        'nondecpresent': [float(fit_model.parameters()['overlay']['nondectimepresent'])],\n",
    "        'nondecabsent': [float(fit_model.parameters()['overlay']['nondectimeabsent'])],\n",
    "        'BIC': [fit_model.fitresult.value()]\n",
    "    })\n",
    "    \n",
    "    if not os.path.exists(\"model_fits/model_m7/data_\"+data_label):\n",
    "                       os.makedirs(\"model_fits/model_m7/data_\"+data_label)\n",
    "                       \n",
    "    with open(\"model_fits/model_m7/data_\"+data_label+\"/subj\"+str(subj_id)+\".txt\", \"w\") as f:\n",
    "        f.write(repr(fit_model))\n",
    "    \n",
    "    return(summary_df)"
   ]
  },
  {
   "cell_type": "code",
   "execution_count": null,
   "id": "9b030b79",
   "metadata": {},
   "outputs": [
    {
     "name": "stdout",
     "output_type": "stream",
     "text": [
      "1\n"
     ]
    },
    {
     "name": "stderr",
     "output_type": "stream",
     "text": [
      "Info: Params [ 0.40251789 -1.34956371  1.38440093  0.23084832  0.92918123] gave 210.11483117741562\n"
     ]
    },
    {
     "name": "stdout",
     "output_type": "stream",
     "text": [
      "2\n"
     ]
    },
    {
     "name": "stderr",
     "output_type": "stream",
     "text": [
      "Info: Params [ 1.71068887 -1.85767097  0.56922261  0.07482092  0.43234318] gave 23.593523417861512\n"
     ]
    },
    {
     "name": "stdout",
     "output_type": "stream",
     "text": [
      "3\n"
     ]
    },
    {
     "name": "stderr",
     "output_type": "stream",
     "text": [
      "Info: Params [ 0.699724   -1.80951176  0.78489846  0.39105153  0.57594428] gave 86.78983032917714\n"
     ]
    },
    {
     "name": "stdout",
     "output_type": "stream",
     "text": [
      "4\n"
     ]
    },
    {
     "name": "stderr",
     "output_type": "stream",
     "text": [
      "Info: Params [ 0.22800678 -2.3519409   0.78360143  0.3337493   0.66474407] gave 80.86879866951455\n"
     ]
    },
    {
     "name": "stdout",
     "output_type": "stream",
     "text": [
      "5\n"
     ]
    },
    {
     "name": "stderr",
     "output_type": "stream",
     "text": [
      "Info: Params [ 0.         -1.21279957  1.44748237  0.40420965  0.71504618] gave 231.0774713976406\n"
     ]
    },
    {
     "name": "stdout",
     "output_type": "stream",
     "text": [
      "6\n"
     ]
    },
    {
     "name": "stderr",
     "output_type": "stream",
     "text": [
      "Info: Params [ 0.37510907 -2.14851621  0.78086031  0.19487934  0.82033383] gave 120.7255179645377\n"
     ]
    },
    {
     "name": "stdout",
     "output_type": "stream",
     "text": [
      "7\n"
     ]
    },
    {
     "name": "stderr",
     "output_type": "stream",
     "text": [
      "Info: Params [ 0.14916632 -1.52050711  1.41231769  0.51136546  0.65052044] gave 193.1804335953907\n"
     ]
    },
    {
     "name": "stdout",
     "output_type": "stream",
     "text": [
      "8\n"
     ]
    },
    {
     "name": "stderr",
     "output_type": "stream",
     "text": [
      "Info: Params [ 0.055554   -1.97716184  0.75162596  0.26635472  0.8260319 ] gave 117.93220679549798\n"
     ]
    },
    {
     "name": "stdout",
     "output_type": "stream",
     "text": [
      "9\n"
     ]
    },
    {
     "name": "stderr",
     "output_type": "stream",
     "text": [
      "Info: Params [ 0.12278076 -1.08471132  1.67592411  0.69218171  0.74792428] gave 207.52958597923578\n"
     ]
    },
    {
     "name": "stdout",
     "output_type": "stream",
     "text": [
      "10\n"
     ]
    },
    {
     "name": "stderr",
     "output_type": "stream",
     "text": [
      "Info: Params [ 0.39570384 -1.64810066  0.73195975  0.11091175  0.54995313] gave 128.44767673877698\n"
     ]
    },
    {
     "name": "stdout",
     "output_type": "stream",
     "text": [
      "11\n"
     ]
    },
    {
     "name": "stderr",
     "output_type": "stream",
     "text": [
      "Info: Params [ 0.09277125 -1.98686208  0.67006115  0.39642173  0.93650861] gave 108.81839117195338\n"
     ]
    },
    {
     "name": "stdout",
     "output_type": "stream",
     "text": [
      "12\n"
     ]
    },
    {
     "name": "stderr",
     "output_type": "stream",
     "text": [
      "Info: Params [ 0.47229575 -1.00787752  0.97985716  0.06850243  0.97697104] gave 174.52390057794094\n"
     ]
    },
    {
     "name": "stdout",
     "output_type": "stream",
     "text": [
      "13\n"
     ]
    },
    {
     "name": "stderr",
     "output_type": "stream",
     "text": [
      "Info: Params [ 0.53360203 -1.59667788  0.78790328  0.29963645  0.78942086] gave 103.52458953662551\n"
     ]
    },
    {
     "name": "stdout",
     "output_type": "stream",
     "text": [
      "14\n"
     ]
    },
    {
     "name": "stderr",
     "output_type": "stream",
     "text": [
      "Info: Params [ 0.5408818  -0.90981312  0.90872379 -0.06768135  0.93851711] gave 168.37582202468863\n"
     ]
    },
    {
     "name": "stdout",
     "output_type": "stream",
     "text": [
      "15\n"
     ]
    },
    {
     "name": "stderr",
     "output_type": "stream",
     "text": [
      "Info: Params [ 0.57998467 -1.48251235  0.7525143   0.30904575  0.77485855] gave 109.64810656593528\n"
     ]
    },
    {
     "name": "stdout",
     "output_type": "stream",
     "text": [
      "16\n"
     ]
    },
    {
     "name": "stderr",
     "output_type": "stream",
     "text": [
      "Info: Params [ 0.40712849 -1.34403299  1.34163124  0.26373264  0.9568937 ] gave 192.3352593227492\n"
     ]
    },
    {
     "name": "stdout",
     "output_type": "stream",
     "text": [
      "17\n"
     ]
    },
    {
     "name": "stderr",
     "output_type": "stream",
     "text": [
      "Info: Params [ 0.         -1.35570165  1.18788694  0.53998323  0.80595345] gave 206.11650138024294\n"
     ]
    },
    {
     "name": "stdout",
     "output_type": "stream",
     "text": [
      "18\n"
     ]
    },
    {
     "name": "stderr",
     "output_type": "stream",
     "text": [
      "Info: Params [ 0.92491528 -1.47958376  0.88605091  0.20677012  0.9364682 ] gave 116.84427315921604\n"
     ]
    },
    {
     "name": "stdout",
     "output_type": "stream",
     "text": [
      "19\n"
     ]
    },
    {
     "name": "stderr",
     "output_type": "stream",
     "text": [
      "Info: Params [ 0.         -1.26370942  1.5311444   0.5025448   0.85190459] gave 219.75386989108446\n"
     ]
    },
    {
     "name": "stdout",
     "output_type": "stream",
     "text": [
      "20\n"
     ]
    },
    {
     "name": "stderr",
     "output_type": "stream",
     "text": [
      "Info: Params [ 0.26551205 -0.79311293  1.10806346  0.13043484  0.75226556] gave 221.28731348150012\n"
     ]
    },
    {
     "name": "stdout",
     "output_type": "stream",
     "text": [
      "21\n"
     ]
    },
    {
     "name": "stderr",
     "output_type": "stream",
     "text": [
      "Info: Params [ 0.52685026 -1.02991043  2.00323125  0.18985121  0.91446694] gave 227.08641564047429\n"
     ]
    },
    {
     "name": "stdout",
     "output_type": "stream",
     "text": [
      "22\n"
     ]
    },
    {
     "name": "stderr",
     "output_type": "stream",
     "text": [
      "Info: Params [ 0.03959132 -2.2081445   0.94889285  0.49190272  0.87049491] gave 122.3696546094602\n"
     ]
    },
    {
     "name": "stdout",
     "output_type": "stream",
     "text": [
      "23\n"
     ]
    },
    {
     "name": "stderr",
     "output_type": "stream",
     "text": [
      "Info: Params [ 0.05015417 -1.19710057  2.11818305  0.3159531   0.97039048] gave 223.62710257205606\n"
     ]
    },
    {
     "name": "stdout",
     "output_type": "stream",
     "text": [
      "24\n"
     ]
    },
    {
     "name": "stderr",
     "output_type": "stream",
     "text": [
      "Info: Params [ 0.73213724 -0.90603304  1.01063651  0.18392453  0.87551702] gave 189.08412717484862\n"
     ]
    },
    {
     "name": "stdout",
     "output_type": "stream",
     "text": [
      "25\n"
     ]
    },
    {
     "name": "stderr",
     "output_type": "stream",
     "text": [
      "Info: Params [ 0.81430204 -0.82704033  1.07599433  0.42123463  0.69758798] gave 178.46090407729935\n"
     ]
    },
    {
     "name": "stdout",
     "output_type": "stream",
     "text": [
      "26\n"
     ]
    },
    {
     "name": "stderr",
     "output_type": "stream",
     "text": [
      "Info: Params [ 0.31710005 -1.15651855  1.05795968  0.39135808  0.45724336] gave 180.95648755483901\n"
     ]
    },
    {
     "name": "stdout",
     "output_type": "stream",
     "text": [
      "27\n"
     ]
    },
    {
     "name": "stderr",
     "output_type": "stream",
     "text": [
      "Info: Params [ 0.47306867 -1.12066869  1.00734553  0.25530359  0.94762731] gave 190.1038242411288\n"
     ]
    },
    {
     "name": "stdout",
     "output_type": "stream",
     "text": [
      "28\n"
     ]
    },
    {
     "name": "stderr",
     "output_type": "stream",
     "text": [
      "Info: Params [ 0.30328043 -1.38480626  1.13439723  0.41405191  0.83567209] gave 176.56093572386226\n"
     ]
    },
    {
     "name": "stdout",
     "output_type": "stream",
     "text": [
      "29\n"
     ]
    },
    {
     "name": "stderr",
     "output_type": "stream",
     "text": [
      "Info: Params [ 0.82097284 -0.81334026  0.94923661  0.1508171   0.6735938 ] gave 167.02211331958836\n"
     ]
    },
    {
     "name": "stdout",
     "output_type": "stream",
     "text": [
      "30\n"
     ]
    },
    {
     "name": "stderr",
     "output_type": "stream",
     "text": [
      "Info: Params [ 0.04644171 -1.25778181  1.41986743  0.54155242  0.67069205] gave 209.03804394724818\n"
     ]
    },
    {
     "name": "stdout",
     "output_type": "stream",
     "text": [
      "31\n"
     ]
    },
    {
     "name": "stderr",
     "output_type": "stream",
     "text": [
      "Info: Params [ 0.55759172 -1.28927194  0.99672152  0.33787429  0.94085708] gave 159.56115498727686\n"
     ]
    },
    {
     "name": "stdout",
     "output_type": "stream",
     "text": [
      "32\n"
     ]
    },
    {
     "name": "stderr",
     "output_type": "stream",
     "text": [
      "Info: Params [ 0.14748243 -1.2395857   1.61941129  0.31667676  0.99880993] gave 216.6476749948922\n"
     ]
    },
    {
     "name": "stdout",
     "output_type": "stream",
     "text": [
      "33\n"
     ]
    },
    {
     "name": "stderr",
     "output_type": "stream",
     "text": [
      "Info: Params [ 0.59416873 -0.82223691  1.0242005  -0.1563541   0.78204807] gave 199.39574735226597\n"
     ]
    },
    {
     "name": "stdout",
     "output_type": "stream",
     "text": [
      "34\n"
     ]
    },
    {
     "name": "stderr",
     "output_type": "stream",
     "text": [
      "Info: Params [ 0.59297563 -1.08956651  0.88258788  0.03163478  0.74617036] gave 172.93325154864272\n"
     ]
    },
    {
     "name": "stdout",
     "output_type": "stream",
     "text": [
      "35\n"
     ]
    },
    {
     "name": "stderr",
     "output_type": "stream",
     "text": [
      "Info: Params [ 0.1935155  -1.20207601  0.88506422  0.36079677  0.54265046] gave 174.3867526592719\n"
     ]
    },
    {
     "name": "stdout",
     "output_type": "stream",
     "text": [
      "36\n"
     ]
    },
    {
     "name": "stderr",
     "output_type": "stream",
     "text": [
      "Info: Params [ 0.84240757 -1.02873775  0.87899896  0.21758533  0.61571842] gave 147.2250712611815\n"
     ]
    },
    {
     "name": "stdout",
     "output_type": "stream",
     "text": [
      "37\n"
     ]
    },
    {
     "name": "stderr",
     "output_type": "stream",
     "text": [
      "Info: Params [ 0.11393863 -1.3093817   1.38208293  0.50964141  0.60067513] gave 195.90299050669572\n"
     ]
    },
    {
     "name": "stdout",
     "output_type": "stream",
     "text": [
      "38\n"
     ]
    },
    {
     "name": "stderr",
     "output_type": "stream",
     "text": [
      "Info: Params [ 0.33871714 -1.28831172  1.07945861  0.36421181  0.78712354] gave 162.05039369137788\n"
     ]
    },
    {
     "name": "stdout",
     "output_type": "stream",
     "text": [
      "39\n"
     ]
    },
    {
     "name": "stderr",
     "output_type": "stream",
     "text": [
      "Info: Params [ 0.         -1.89252139  0.84174627  0.48307904  0.6713017 ] gave 128.25667270159332\n"
     ]
    },
    {
     "name": "stdout",
     "output_type": "stream",
     "text": [
      "40\n"
     ]
    },
    {
     "name": "stderr",
     "output_type": "stream",
     "text": [
      "Info: Params [ 0.28767212 -1.7568384   1.06838653  0.45907261  0.79244449] gave 166.62241890370925\n"
     ]
    },
    {
     "name": "stdout",
     "output_type": "stream",
     "text": [
      "41\n"
     ]
    },
    {
     "name": "stderr",
     "output_type": "stream",
     "text": [
      "Info: Params [ 0.35298074 -0.9277422   1.4614572   0.42361481  0.97540973] gave 214.04706183843103\n"
     ]
    },
    {
     "name": "stdout",
     "output_type": "stream",
     "text": [
      "42\n"
     ]
    },
    {
     "name": "stderr",
     "output_type": "stream",
     "text": [
      "Info: Params [ 1.02136787 -1.472001    0.67555778  0.38662914  0.57618135] gave 65.08645097397313\n"
     ]
    },
    {
     "name": "stdout",
     "output_type": "stream",
     "text": [
      "43\n"
     ]
    },
    {
     "name": "stderr",
     "output_type": "stream",
     "text": [
      "Info: Params [ 0.91193808 -1.23204185  1.2595457   0.15162722  0.8369249 ] gave 162.11679735837703\n"
     ]
    },
    {
     "name": "stdout",
     "output_type": "stream",
     "text": [
      "44\n"
     ]
    },
    {
     "name": "stderr",
     "output_type": "stream",
     "text": [
      "Info: Params [ 0.34245982 -1.09626132  1.86545388  0.29627294  0.97743092] gave 235.63387552506825\n"
     ]
    },
    {
     "name": "stdout",
     "output_type": "stream",
     "text": [
      "45\n"
     ]
    },
    {
     "name": "stderr",
     "output_type": "stream",
     "text": [
      "Info: Params [ 0.39604213 -0.74193305  1.79451765  0.16531282  0.96255302] gave 269.52614500938887\n"
     ]
    },
    {
     "name": "stdout",
     "output_type": "stream",
     "text": [
      "46\n"
     ]
    },
    {
     "name": "stderr",
     "output_type": "stream",
     "text": [
      "Info: Params [ 0.         -1.78472072  1.05961618  0.41444107  0.67581374] gave 152.83350835825476\n"
     ]
    },
    {
     "name": "stdout",
     "output_type": "stream",
     "text": [
      "47\n"
     ]
    },
    {
     "name": "stderr",
     "output_type": "stream",
     "text": [
      "Info: Params [ 0.74135398 -1.67450934  0.67502541  0.08539128  0.76994691] gave 97.02397476346655\n"
     ]
    },
    {
     "name": "stdout",
     "output_type": "stream",
     "text": [
      "48\n"
     ]
    },
    {
     "name": "stderr",
     "output_type": "stream",
     "text": [
      "Info: Params [ 0.01366577 -1.83576537  1.18750963  0.43966381  0.75786909] gave 158.54648854061463\n"
     ]
    },
    {
     "name": "stdout",
     "output_type": "stream",
     "text": [
      "49\n"
     ]
    },
    {
     "name": "stderr",
     "output_type": "stream",
     "text": [
      "Info: Params [ 0.46635665 -1.03474945  1.10094491  0.31939264  0.9628904 ] gave 196.2912382266124\n"
     ]
    },
    {
     "name": "stdout",
     "output_type": "stream",
     "text": [
      "50\n"
     ]
    },
    {
     "name": "stderr",
     "output_type": "stream",
     "text": [
      "Info: Params [ 0.81396091 -0.85043651  1.37814195  0.18258991  0.85443792] gave 212.77383458491812\n"
     ]
    },
    {
     "name": "stdout",
     "output_type": "stream",
     "text": [
      "51\n"
     ]
    },
    {
     "name": "stderr",
     "output_type": "stream",
     "text": [
      "Info: Params [ 0.69694964 -0.73393046  1.26003679  0.20569453  0.85188626] gave 226.66412894810986\n"
     ]
    },
    {
     "name": "stdout",
     "output_type": "stream",
     "text": [
      "52\n"
     ]
    },
    {
     "name": "stderr",
     "output_type": "stream",
     "text": [
      "Info: Params [ 0.         -1.7218272   1.29188719  0.36241795  0.87220815] gave 185.83761147736203\n"
     ]
    },
    {
     "name": "stdout",
     "output_type": "stream",
     "text": [
      "53\n"
     ]
    },
    {
     "name": "stderr",
     "output_type": "stream",
     "text": [
      "Info: Params [ 0.26669106 -1.36407442  1.09482609  0.42782588  0.87212904] gave 194.5855074609546\n"
     ]
    },
    {
     "name": "stdout",
     "output_type": "stream",
     "text": [
      "54\n"
     ]
    },
    {
     "name": "stderr",
     "output_type": "stream",
     "text": [
      "Info: Params [ 0.00998644 -2.26303198  1.07123877  0.57057997  0.888195  ] gave 129.38356495851022\n"
     ]
    },
    {
     "name": "stdout",
     "output_type": "stream",
     "text": [
      "55\n"
     ]
    },
    {
     "name": "stderr",
     "output_type": "stream",
     "text": [
      "Info: Params [ 0.31490581 -1.21189323  1.0810957   0.19491413  0.95913354] gave 183.71895737994544\n"
     ]
    },
    {
     "name": "stdout",
     "output_type": "stream",
     "text": [
      "56\n"
     ]
    },
    {
     "name": "stderr",
     "output_type": "stream",
     "text": [
      "Info: Params [ 0.27491545 -1.37019072  0.82588515  0.42435336  0.73119277] gave 135.02520834623263\n"
     ]
    },
    {
     "name": "stdout",
     "output_type": "stream",
     "text": [
      "57\n"
     ]
    },
    {
     "name": "stderr",
     "output_type": "stream",
     "text": [
      "Info: Params [ 0.43043445 -0.70976592  1.59952409  0.41858862  0.68956264] gave 232.22927285061155\n"
     ]
    },
    {
     "name": "stdout",
     "output_type": "stream",
     "text": [
      "58\n"
     ]
    },
    {
     "name": "stderr",
     "output_type": "stream",
     "text": [
      "Info: Params [ 0.00202322 -1.4526535   0.86363842  0.26154686  0.70294804] gave 140.47938412762278\n"
     ]
    },
    {
     "name": "stdout",
     "output_type": "stream",
     "text": [
      "59\n"
     ]
    },
    {
     "name": "stderr",
     "output_type": "stream",
     "text": [
      "Info: Params [ 0.01449442 -1.75205626  1.15301875  0.50406567  0.85887549] gave 146.5637429659208\n"
     ]
    },
    {
     "name": "stdout",
     "output_type": "stream",
     "text": [
      "60\n"
     ]
    },
    {
     "name": "stderr",
     "output_type": "stream",
     "text": [
      "Info: Params [ 0.47833471 -0.88112311  0.92637213  0.23705874  0.59472637] gave 174.64822371744884\n"
     ]
    },
    {
     "name": "stdout",
     "output_type": "stream",
     "text": [
      "61\n"
     ]
    },
    {
     "name": "stderr",
     "output_type": "stream",
     "text": [
      "Info: Params [ 0.48654857 -0.93589977  1.48494357  0.29013624  0.99969966] gave 228.73914572366274\n"
     ]
    },
    {
     "name": "stdout",
     "output_type": "stream",
     "text": [
      "62\n"
     ]
    },
    {
     "name": "stderr",
     "output_type": "stream",
     "text": [
      "Info: Params [ 0.70884046 -0.55366519  1.17572746  0.2154726   0.84297528] gave 223.45400047577863\n"
     ]
    },
    {
     "name": "stdout",
     "output_type": "stream",
     "text": [
      "63\n"
     ]
    },
    {
     "name": "stderr",
     "output_type": "stream",
     "text": [
      "Info: Params [ 0.87654563 -0.33554389  0.75805299  0.20905104  0.65603559] gave 127.45862658730928\n"
     ]
    },
    {
     "name": "stdout",
     "output_type": "stream",
     "text": [
      "64\n"
     ]
    },
    {
     "name": "stderr",
     "output_type": "stream",
     "text": [
      "Info: Params [ 0.37138173 -0.97881839  1.08710873  0.22141005  0.892964  ] gave 208.5365201877521\n"
     ]
    },
    {
     "name": "stdout",
     "output_type": "stream",
     "text": [
      "65\n"
     ]
    },
    {
     "name": "stderr",
     "output_type": "stream",
     "text": [
      "Info: Params [ 0.40048331 -0.74021642  1.32577538  0.32603506  0.88226067] gave 228.01642333631952\n"
     ]
    },
    {
     "name": "stdout",
     "output_type": "stream",
     "text": [
      "66\n"
     ]
    },
    {
     "name": "stderr",
     "output_type": "stream",
     "text": [
      "Info: Params [ 0.07343956 -0.80509558  1.45144839  0.67863621  0.77616845] gave 235.91018199844908\n"
     ]
    },
    {
     "name": "stdout",
     "output_type": "stream",
     "text": [
      "67\n"
     ]
    },
    {
     "name": "stderr",
     "output_type": "stream",
     "text": [
      "Info: Params [ 1.27167735 -0.68963105  0.73520207  0.3380872   0.71806737] gave 90.72235628672414\n"
     ]
    },
    {
     "name": "stdout",
     "output_type": "stream",
     "text": [
      "68\n"
     ]
    },
    {
     "name": "stderr",
     "output_type": "stream",
     "text": [
      "Info: Params [ 1.53268494 -0.90375699  0.73686754  0.15795485  0.93620177] gave 89.00717809432564\n"
     ]
    },
    {
     "name": "stdout",
     "output_type": "stream",
     "text": [
      "69\n"
     ]
    },
    {
     "name": "stderr",
     "output_type": "stream",
     "text": [
      "Info: Params [ 0.10150419 -1.32316639  1.3761513   0.56167339  0.87704479] gave 202.37148724761676\n"
     ]
    },
    {
     "name": "stdout",
     "output_type": "stream",
     "text": [
      "70\n"
     ]
    },
    {
     "name": "stderr",
     "output_type": "stream",
     "text": [
      "Info: Params [ 0.44615491 -2.71907723  0.82208933  0.53407579  0.65218779] gave 53.49691461152145\n"
     ]
    },
    {
     "name": "stdout",
     "output_type": "stream",
     "text": [
      "71\n"
     ]
    },
    {
     "name": "stderr",
     "output_type": "stream",
     "text": [
      "Info: Params [ 0.11361596 -2.11269656  1.02002337  0.64358926  0.77921969] gave 132.89912703050106\n"
     ]
    },
    {
     "name": "stdout",
     "output_type": "stream",
     "text": [
      "72\n"
     ]
    },
    {
     "name": "stderr",
     "output_type": "stream",
     "text": [
      "Info: Params [ 0.39601067 -0.75991084  1.64481952  0.60124354  0.74175009] gave 229.29946939944332\n"
     ]
    },
    {
     "name": "stdout",
     "output_type": "stream",
     "text": [
      "73\n"
     ]
    },
    {
     "name": "stderr",
     "output_type": "stream",
     "text": [
      "Info: Params [ 0.51062034 -1.39753339  0.93817657  0.3919734   0.65106383] gave 147.51714731645558\n"
     ]
    },
    {
     "name": "stdout",
     "output_type": "stream",
     "text": [
      "74\n"
     ]
    },
    {
     "name": "stderr",
     "output_type": "stream",
     "text": [
      "Info: Params [ 0.4023091  -0.74788855  1.62656225  0.09651851  0.86497566] gave 251.2568245739248\n"
     ]
    },
    {
     "name": "stdout",
     "output_type": "stream",
     "text": [
      "75\n"
     ]
    },
    {
     "name": "stderr",
     "output_type": "stream",
     "text": [
      "Info: Params [ 0.36137847 -1.3622359   0.79374295  0.33669723  0.69666459] gave 135.95327238552522\n"
     ]
    },
    {
     "name": "stdout",
     "output_type": "stream",
     "text": [
      "76\n"
     ]
    },
    {
     "name": "stderr",
     "output_type": "stream",
     "text": [
      "Info: Params [ 0.14833215 -1.1974161   1.86553534  0.57080254  0.63306045] gave 245.2753786371268\n"
     ]
    },
    {
     "name": "stdout",
     "output_type": "stream",
     "text": [
      "77\n"
     ]
    },
    {
     "name": "stderr",
     "output_type": "stream",
     "text": [
      "Info: Params [ 0.         -1.45753396  0.90656907  0.38518226  0.74748384] gave 141.68784934413705\n"
     ]
    },
    {
     "name": "stdout",
     "output_type": "stream",
     "text": [
      "78\n"
     ]
    },
    {
     "name": "stderr",
     "output_type": "stream",
     "text": [
      "Info: Params [ 3.73909225 -0.27052305  0.67458581 -0.3471229   0.53097809] gave 85.7981811142439\n"
     ]
    },
    {
     "name": "stdout",
     "output_type": "stream",
     "text": [
      "79\n"
     ]
    },
    {
     "name": "stderr",
     "output_type": "stream",
     "text": [
      "Info: Params [ 0.57433723 -1.03857261  1.64582478  0.22153496  0.93893382] gave 214.09224911040695\n"
     ]
    },
    {
     "name": "stdout",
     "output_type": "stream",
     "text": [
      "80\n"
     ]
    },
    {
     "name": "stderr",
     "output_type": "stream",
     "text": [
      "Info: Params [ 1.26293716 -1.00046186  0.79776733  0.3822485   0.64896687] gave 100.71173013087156\n"
     ]
    },
    {
     "name": "stdout",
     "output_type": "stream",
     "text": [
      "81\n"
     ]
    },
    {
     "name": "stderr",
     "output_type": "stream",
     "text": [
      "Info: Params [ 0.59719859 -1.8965798   0.67053231  0.37990514  0.57603761] gave 79.08446704606067\n"
     ]
    },
    {
     "name": "stdout",
     "output_type": "stream",
     "text": [
      "82\n"
     ]
    },
    {
     "name": "stderr",
     "output_type": "stream",
     "text": [
      "Info: Params [ 0.35117741 -0.82918649  0.90730584  0.12759269  0.61806381] gave 185.56303081534853\n"
     ]
    },
    {
     "name": "stdout",
     "output_type": "stream",
     "text": [
      "83\n"
     ]
    },
    {
     "name": "stderr",
     "output_type": "stream",
     "text": [
      "Info: Params [ 0.25556761 -1.20370613  1.133745    0.40607665  0.69176588] gave 181.86052542864815\n"
     ]
    },
    {
     "name": "stdout",
     "output_type": "stream",
     "text": [
      "84\n"
     ]
    },
    {
     "name": "stderr",
     "output_type": "stream",
     "text": [
      "Info: Params [ 0.77029759 -0.87874598  1.08516159  0.19691649  0.8380057 ] gave 175.62730440750022\n"
     ]
    },
    {
     "name": "stdout",
     "output_type": "stream",
     "text": [
      "85\n"
     ]
    },
    {
     "name": "stderr",
     "output_type": "stream",
     "text": [
      "Info: Params [ 1.56141402 -0.73571928  0.85399321  0.10907085  0.61668444] gave 110.84772889889277\n"
     ]
    },
    {
     "name": "stdout",
     "output_type": "stream",
     "text": [
      "86\n"
     ]
    },
    {
     "name": "stderr",
     "output_type": "stream",
     "text": [
      "Info: Params [ 0.12571751 -1.70272514  1.38066439  0.54386936  0.62943713] gave 190.46000779993454\n"
     ]
    },
    {
     "name": "stdout",
     "output_type": "stream",
     "text": [
      "87\n"
     ]
    },
    {
     "name": "stderr",
     "output_type": "stream",
     "text": [
      "Info: Params [ 0.09853133 -1.13570597  1.28460247  0.40511773  0.79639291] gave 218.2505102165544\n"
     ]
    },
    {
     "name": "stdout",
     "output_type": "stream",
     "text": [
      "88\n"
     ]
    },
    {
     "name": "stderr",
     "output_type": "stream",
     "text": [
      "Info: Params [ 0.13409982 -1.03323067  1.0913271   0.2652115   0.70266248] gave 212.95250606772004\n"
     ]
    },
    {
     "name": "stdout",
     "output_type": "stream",
     "text": [
      "89\n"
     ]
    },
    {
     "name": "stderr",
     "output_type": "stream",
     "text": [
      "Info: Params [ 0.62187846 -1.68761967  0.84526696  0.30779533  0.74770381] gave 106.23049090241149\n"
     ]
    },
    {
     "name": "stdout",
     "output_type": "stream",
     "text": [
      "90\n"
     ]
    },
    {
     "name": "stderr",
     "output_type": "stream",
     "text": [
      "Info: Params [ 0.46520297 -1.00189587  1.10131065  0.0567661   0.87528478] gave 204.85122286989952\n"
     ]
    },
    {
     "name": "stdout",
     "output_type": "stream",
     "text": [
      "91\n"
     ]
    },
    {
     "name": "stderr",
     "output_type": "stream",
     "text": [
      "Info: Params [ 0.37368148 -1.0627357   1.22438493  0.47260529  0.91458726] gave 204.5303098316993\n"
     ]
    },
    {
     "name": "stdout",
     "output_type": "stream",
     "text": [
      "92\n"
     ]
    },
    {
     "name": "stderr",
     "output_type": "stream",
     "text": [
      "Info: Params [ 0.12443092 -1.25421769  1.46420614  0.33910754  0.92291758] gave 211.6307356865315\n"
     ]
    },
    {
     "name": "stdout",
     "output_type": "stream",
     "text": [
      "93\n"
     ]
    },
    {
     "name": "stderr",
     "output_type": "stream",
     "text": [
      "Info: Params [ 0.42699728 -0.88721351  1.05459562  0.25934487  0.65471846] gave 199.78652624006065\n"
     ]
    },
    {
     "name": "stdout",
     "output_type": "stream",
     "text": [
      "94\n"
     ]
    },
    {
     "name": "stderr",
     "output_type": "stream",
     "text": [
      "Info: Params [ 0.60184747 -1.02693488  0.93296975  0.37378491  0.78250209] gave 146.3735394489628\n"
     ]
    },
    {
     "name": "stdout",
     "output_type": "stream",
     "text": [
      "95\n"
     ]
    },
    {
     "name": "stderr",
     "output_type": "stream",
     "text": [
      "Info: Params [ 0.7188206  -0.8068537   1.53590812  0.53031733  0.68950298] gave 178.26657477182403\n"
     ]
    },
    {
     "name": "stdout",
     "output_type": "stream",
     "text": [
      "96\n"
     ]
    },
    {
     "name": "stderr",
     "output_type": "stream",
     "text": [
      "Info: Params [ 0.02930939 -1.49594688  0.97611515  0.29880127  0.85078353] gave 155.4590380233316\n"
     ]
    },
    {
     "name": "stdout",
     "output_type": "stream",
     "text": [
      "97\n"
     ]
    },
    {
     "name": "stderr",
     "output_type": "stream",
     "text": [
      "Info: Params [ 0.59551456 -0.64427116  1.42221156  0.15348059  0.64006939] gave 211.90123557492842\n"
     ]
    },
    {
     "name": "stdout",
     "output_type": "stream",
     "text": [
      "98\n"
     ]
    },
    {
     "name": "stderr",
     "output_type": "stream",
     "text": [
      "Info: Params [ 0.         -1.12201184  1.39928543  0.43079827  0.76882711] gave 219.57645970512755\n"
     ]
    },
    {
     "name": "stdout",
     "output_type": "stream",
     "text": [
      "99\n"
     ]
    },
    {
     "name": "stderr",
     "output_type": "stream",
     "text": [
      "Info: Params [ 0.         -2.20149552  0.99867618  0.41317026  0.83736506] gave 146.3901023674895\n"
     ]
    },
    {
     "name": "stdout",
     "output_type": "stream",
     "text": [
      "100\n"
     ]
    },
    {
     "name": "stderr",
     "output_type": "stream",
     "text": [
      "Info: Params [ 0.41480586 -1.12665828  1.16359144  0.17733925  0.73944247] gave 203.5804185652051\n"
     ]
    },
    {
     "name": "stdout",
     "output_type": "stream",
     "text": [
      "101\n"
     ]
    },
    {
     "name": "stderr",
     "output_type": "stream",
     "text": [
      "Info: Params [ 0.22136758 -0.87422687  1.40106638  0.16632386  0.90314827] gave 247.61949502534026\n"
     ]
    },
    {
     "name": "stdout",
     "output_type": "stream",
     "text": [
      "102\n"
     ]
    },
    {
     "name": "stderr",
     "output_type": "stream",
     "text": [
      "Info: Params [ 0.         -1.98445885  0.57724494  0.44726488  0.75028718] gave 48.38923525302736\n"
     ]
    },
    {
     "name": "stdout",
     "output_type": "stream",
     "text": [
      "103\n"
     ]
    },
    {
     "name": "stderr",
     "output_type": "stream",
     "text": [
      "Info: Params [ 0.25109876 -1.30789322  1.53275656  0.5775451   0.94955448] gave 214.8496576883492\n"
     ]
    },
    {
     "name": "stdout",
     "output_type": "stream",
     "text": [
      "104\n"
     ]
    },
    {
     "name": "stderr",
     "output_type": "stream",
     "text": [
      "Info: Params [ 0.30921442 -1.01903033  1.49425804  0.26328685  0.97195587] gave 229.46416328401008\n"
     ]
    },
    {
     "name": "stdout",
     "output_type": "stream",
     "text": [
      "105\n"
     ]
    },
    {
     "name": "stderr",
     "output_type": "stream",
     "text": [
      "Info: Params [ 0.33877051 -1.40120896  1.28115105  0.47812498  0.72572565] gave 175.033843793131\n"
     ]
    },
    {
     "name": "stdout",
     "output_type": "stream",
     "text": [
      "106\n"
     ]
    },
    {
     "name": "stderr",
     "output_type": "stream",
     "text": [
      "Info: Params [ 0.95368844 -1.08444634  0.81584585  0.25498963  0.85377241] gave 125.94287909621016\n"
     ]
    },
    {
     "name": "stdout",
     "output_type": "stream",
     "text": [
      "107\n"
     ]
    },
    {
     "name": "stderr",
     "output_type": "stream",
     "text": [
      "Info: Params [ 0.3097188  -1.14783679  1.18781381  0.44580703  0.74728212] gave 204.498706865663\n"
     ]
    },
    {
     "name": "stdout",
     "output_type": "stream",
     "text": [
      "108\n"
     ]
    },
    {
     "name": "stderr",
     "output_type": "stream",
     "text": [
      "Info: Params [ 0.18226986 -0.87478029  1.34146326  0.40814633  0.61481838] gave 239.67742316877155\n"
     ]
    },
    {
     "name": "stdout",
     "output_type": "stream",
     "text": [
      "109\n"
     ]
    },
    {
     "name": "stderr",
     "output_type": "stream",
     "text": [
      "Info: Params [ 0.         -1.47089331  1.4690396   0.49806684  0.91253391] gave 220.35824730871767\n"
     ]
    },
    {
     "name": "stdout",
     "output_type": "stream",
     "text": [
      "110\n"
     ]
    },
    {
     "name": "stderr",
     "output_type": "stream",
     "text": [
      "Info: Params [ 0.40106163 -1.49436292  0.81837785  0.33839223  0.83144109] gave 148.4751070893073\n"
     ]
    },
    {
     "name": "stdout",
     "output_type": "stream",
     "text": [
      "111\n"
     ]
    },
    {
     "name": "stderr",
     "output_type": "stream",
     "text": [
      "Info: Params [ 0.15746349 -1.36961081  1.20354658  0.61755628  0.84347252] gave 171.31181075318284\n"
     ]
    },
    {
     "name": "stdout",
     "output_type": "stream",
     "text": [
      "112\n"
     ]
    },
    {
     "name": "stderr",
     "output_type": "stream",
     "text": [
      "Info: Params [ 0.281062   -1.95965438  1.10763086  0.34397205  0.97344796] gave 158.26630652428753\n"
     ]
    },
    {
     "name": "stdout",
     "output_type": "stream",
     "text": [
      "113\n"
     ]
    },
    {
     "name": "stderr",
     "output_type": "stream",
     "text": [
      "Info: Params [ 0.30318604 -1.96167888  0.71585516  0.2957354   0.90063624] gave 129.08197873302066\n"
     ]
    },
    {
     "name": "stdout",
     "output_type": "stream",
     "text": [
      "114\n"
     ]
    },
    {
     "name": "stderr",
     "output_type": "stream",
     "text": [
      "Info: Params [ 0.63686819 -1.79370564  0.84636864  0.23215677  0.68667701] gave 113.20908564537022\n"
     ]
    },
    {
     "name": "stdout",
     "output_type": "stream",
     "text": [
      "115\n"
     ]
    },
    {
     "name": "stderr",
     "output_type": "stream",
     "text": [
      "Info: Params [ 0.41950465 -1.02624727  1.46892366  0.32832424  0.8387001 ] gave 199.1621610405477\n"
     ]
    },
    {
     "name": "stdout",
     "output_type": "stream",
     "text": [
      "116\n"
     ]
    },
    {
     "name": "stderr",
     "output_type": "stream",
     "text": [
      "Info: Params [ 0.26800415 -1.21341697  1.59116623  0.54729192  0.73791151] gave 206.3782155196069\n"
     ]
    },
    {
     "name": "stdout",
     "output_type": "stream",
     "text": [
      "117\n"
     ]
    },
    {
     "name": "stderr",
     "output_type": "stream",
     "text": [
      "Info: Params [ 0.88701254 -0.61244812  1.60018915  0.17280251  0.92608674] gave 229.04696588011413\n"
     ]
    },
    {
     "name": "stdout",
     "output_type": "stream",
     "text": [
      "118\n"
     ]
    },
    {
     "name": "stderr",
     "output_type": "stream",
     "text": [
      "Info: Params [ 0.8921753  -2.18392523  0.68302575  0.0693334   0.84104614] gave 87.99875527993098\n"
     ]
    },
    {
     "name": "stdout",
     "output_type": "stream",
     "text": [
      "119\n"
     ]
    },
    {
     "name": "stderr",
     "output_type": "stream",
     "text": [
      "Info: Params [ 0.         -1.55667509  1.21820234  0.59549731  0.82931855] gave 186.10885952761703\n"
     ]
    },
    {
     "name": "stdout",
     "output_type": "stream",
     "text": [
      "120\n"
     ]
    },
    {
     "name": "stderr",
     "output_type": "stream",
     "text": [
      "Info: Params [ 0.27630726 -1.24677242  1.56514452  0.17453589  0.90810755] gave 227.3792344283998\n"
     ]
    },
    {
     "name": "stdout",
     "output_type": "stream",
     "text": [
      "121\n"
     ]
    },
    {
     "name": "stderr",
     "output_type": "stream",
     "text": [
      "Info: Params [ 0.06208163 -0.9683313   1.47617454  0.34268698  0.71558647] gave 226.32523142155785\n"
     ]
    },
    {
     "name": "stdout",
     "output_type": "stream",
     "text": [
      "122\n"
     ]
    },
    {
     "name": "stderr",
     "output_type": "stream",
     "text": [
      "Info: Params [ 0.         -1.66547242  1.09834205  0.33445333  0.81353793] gave 182.48293812462236\n"
     ]
    },
    {
     "name": "stdout",
     "output_type": "stream",
     "text": [
      "123\n"
     ]
    },
    {
     "name": "stderr",
     "output_type": "stream",
     "text": [
      "Info: Params [ 0.2680223  -0.84823781  1.23158114  0.30827188  0.78908074] gave 227.83924443126256\n"
     ]
    },
    {
     "name": "stdout",
     "output_type": "stream",
     "text": [
      "124\n"
     ]
    },
    {
     "name": "stderr",
     "output_type": "stream",
     "text": [
      "Info: Params [ 0.30180102 -2.3539505   0.5330258   0.38931448  0.68361984] gave 42.265104870814866\n"
     ]
    },
    {
     "name": "stdout",
     "output_type": "stream",
     "text": [
      "125\n"
     ]
    },
    {
     "name": "stderr",
     "output_type": "stream",
     "text": [
      "Info: Params [ 0.         -1.12751716  1.13625216  0.41984532  0.8715346 ] gave 211.07530271615158\n"
     ]
    },
    {
     "name": "stdout",
     "output_type": "stream",
     "text": [
      "126\n"
     ]
    },
    {
     "name": "stderr",
     "output_type": "stream",
     "text": [
      "Info: Params [ 0.36382257 -1.06411516  1.35439175  0.2827469   0.9159804 ] gave 219.0542621978197\n"
     ]
    },
    {
     "name": "stdout",
     "output_type": "stream",
     "text": [
      "127\n"
     ]
    },
    {
     "name": "stderr",
     "output_type": "stream",
     "text": [
      "Info: Params [ 0.68059408 -0.37791275  1.39295996  0.28688165  0.85560449] gave 226.52300911182866\n"
     ]
    },
    {
     "name": "stdout",
     "output_type": "stream",
     "text": [
      "128\n"
     ]
    },
    {
     "name": "stderr",
     "output_type": "stream",
     "text": [
      "Info: Params [ 0.58357211 -2.07633297  0.81485459  0.33875324  0.6981658 ] gave 87.84071814145109\n"
     ]
    },
    {
     "name": "stdout",
     "output_type": "stream",
     "text": [
      "129\n"
     ]
    },
    {
     "name": "stderr",
     "output_type": "stream",
     "text": [
      "Info: Params [ 0.25753524 -1.5065185   0.86085642  0.26573905  0.83445565] gave 143.0183151668865\n"
     ]
    },
    {
     "name": "stdout",
     "output_type": "stream",
     "text": [
      "130\n"
     ]
    },
    {
     "name": "stderr",
     "output_type": "stream",
     "text": [
      "Info: Params [ 0.10143703 -1.04414236  0.88632217  0.24884131  0.55124799] gave 160.3919957468159\n"
     ]
    },
    {
     "name": "stdout",
     "output_type": "stream",
     "text": [
      "131\n"
     ]
    },
    {
     "name": "stderr",
     "output_type": "stream",
     "text": [
      "Info: Params [ 0.35045593 -1.11752867  1.02570851  0.29212568  0.78361803] gave 169.26415686504043\n"
     ]
    },
    {
     "name": "stdout",
     "output_type": "stream",
     "text": [
      "132\n"
     ]
    },
    {
     "name": "stderr",
     "output_type": "stream",
     "text": [
      "Info: Params [ 0.50369378 -1.22953953  1.02592828  0.37052222  0.72313955] gave 152.4207878031292\n"
     ]
    },
    {
     "name": "stdout",
     "output_type": "stream",
     "text": [
      "133\n"
     ]
    },
    {
     "name": "stderr",
     "output_type": "stream",
     "text": [
      "Info: Params [ 0.44958628 -1.56426073  0.79995059  0.27805505  0.8983109 ] gave 120.17540046530755\n"
     ]
    },
    {
     "name": "stdout",
     "output_type": "stream",
     "text": [
      "134\n"
     ]
    },
    {
     "name": "stderr",
     "output_type": "stream",
     "text": [
      "Info: Params [ 0.         -1.23062286  1.46758524  0.4223147   0.83699981] gave 220.76011068401021\n"
     ]
    },
    {
     "name": "stdout",
     "output_type": "stream",
     "text": [
      "135\n"
     ]
    },
    {
     "name": "stderr",
     "output_type": "stream",
     "text": [
      "Info: Params [ 2.27941968 -1.208908    0.66895141  0.33423714  0.62679367] gave 43.38372040819621\n"
     ]
    },
    {
     "name": "stdout",
     "output_type": "stream",
     "text": [
      "136\n"
     ]
    },
    {
     "name": "stderr",
     "output_type": "stream",
     "text": [
      "Info: Params [ 0.56859591 -0.67197681  1.12561551  0.23012241  0.9570298 ] gave 201.87569425618472\n"
     ]
    },
    {
     "name": "stdout",
     "output_type": "stream",
     "text": [
      "137\n"
     ]
    },
    {
     "name": "stderr",
     "output_type": "stream",
     "text": [
      "Info: Params [ 0.03679433 -1.31155871  1.18997282  0.34898175  0.60230584] gave 213.54482448164708\n"
     ]
    },
    {
     "name": "stdout",
     "output_type": "stream",
     "text": [
      "138\n"
     ]
    },
    {
     "name": "stderr",
     "output_type": "stream",
     "text": [
      "Info: Params [ 0.65320928 -1.86125756  0.65873696  0.07945569  0.73240011] gave 92.96299486786504\n"
     ]
    },
    {
     "name": "stdout",
     "output_type": "stream",
     "text": [
      "139\n"
     ]
    },
    {
     "name": "stderr",
     "output_type": "stream",
     "text": [
      "Info: Params [ 0.36121499 -1.04138131  1.04969077  0.26533973  0.71077786] gave 187.6742552674396\n"
     ]
    },
    {
     "name": "stdout",
     "output_type": "stream",
     "text": [
      "140\n"
     ]
    },
    {
     "name": "stderr",
     "output_type": "stream",
     "text": [
      "Info: Params [ 1.05256209 -0.52908471  1.355792    0.30815933  0.87209522] gave 202.27039098979108\n"
     ]
    },
    {
     "name": "stdout",
     "output_type": "stream",
     "text": [
      "141\n"
     ]
    },
    {
     "name": "stderr",
     "output_type": "stream",
     "text": [
      "Info: Params [ 0.5268257  -1.32819293  1.00732241  0.40723498  0.62526837] gave 153.0767947872986\n"
     ]
    },
    {
     "name": "stdout",
     "output_type": "stream",
     "text": [
      "142\n"
     ]
    },
    {
     "name": "stderr",
     "output_type": "stream",
     "text": [
      "Info: Params [ 0.58390144 -0.90359877  1.45610537  0.3390158   0.92507511] gave 222.09782916832322\n"
     ]
    },
    {
     "name": "stdout",
     "output_type": "stream",
     "text": [
      "143\n"
     ]
    },
    {
     "name": "stderr",
     "output_type": "stream",
     "text": [
      "Info: Params [ 0.8595409  -1.20717147  0.76890488  0.42226555  0.7093829 ] gave 115.51979830817587\n"
     ]
    },
    {
     "name": "stdout",
     "output_type": "stream",
     "text": [
      "144\n"
     ]
    },
    {
     "name": "stderr",
     "output_type": "stream",
     "text": [
      "Info: Params [ 0.81265586 -0.58537944  1.11255451  0.08657065  0.57569964] gave 211.81143342223515\n"
     ]
    },
    {
     "name": "stdout",
     "output_type": "stream",
     "text": [
      "145\n"
     ]
    },
    {
     "name": "stderr",
     "output_type": "stream",
     "text": [
      "Info: Params [ 0.61408093 -1.13793261  0.92510905  0.20612678  0.60048865] gave 161.05085778942606\n"
     ]
    },
    {
     "name": "stdout",
     "output_type": "stream",
     "text": [
      "146\n"
     ]
    },
    {
     "name": "stderr",
     "output_type": "stream",
     "text": [
      "Info: Params [ 0.3281229  -0.7146034   1.43406775  0.26450982  0.59025761] gave 247.33085528306006\n"
     ]
    },
    {
     "name": "stdout",
     "output_type": "stream",
     "text": [
      "147\n"
     ]
    },
    {
     "name": "stderr",
     "output_type": "stream",
     "text": [
      "Info: Params [ 0.         -1.86608386  1.76131884  0.56899266  0.94113163] gave 193.58317111933707\n"
     ]
    },
    {
     "name": "stdout",
     "output_type": "stream",
     "text": [
      "148\n"
     ]
    },
    {
     "name": "stderr",
     "output_type": "stream",
     "text": [
      "Info: Params [ 0.71277216 -2.19915763  0.6326724   0.34480284  0.65282859] gave 46.52460475167928\n"
     ]
    },
    {
     "name": "stdout",
     "output_type": "stream",
     "text": [
      "149\n"
     ]
    },
    {
     "name": "stderr",
     "output_type": "stream",
     "text": [
      "Info: Params [ 0.1836816  -0.86004933  1.2042497   0.23439922  0.83633985] gave 227.16065930605657\n"
     ]
    },
    {
     "name": "stdout",
     "output_type": "stream",
     "text": [
      "150\n"
     ]
    },
    {
     "name": "stderr",
     "output_type": "stream",
     "text": [
      "Info: Params [ 0.32184751 -0.80666151  1.55764272  0.57826935  0.66250478] gave 189.71942868131245\n"
     ]
    },
    {
     "name": "stdout",
     "output_type": "stream",
     "text": [
      "151\n"
     ]
    },
    {
     "name": "stderr",
     "output_type": "stream",
     "text": [
      "Info: Params [ 0.47092032 -0.85289554  0.97966154  0.29404992  0.85186468] gave 179.96041077574895\n"
     ]
    },
    {
     "name": "stdout",
     "output_type": "stream",
     "text": [
      "152\n"
     ]
    },
    {
     "name": "stderr",
     "output_type": "stream",
     "text": [
      "Info: Params [ 0.17725759 -1.27990739  1.21463944  0.61749335  0.70597988] gave 180.05533730516316\n"
     ]
    },
    {
     "name": "stdout",
     "output_type": "stream",
     "text": [
      "153\n"
     ]
    },
    {
     "name": "stderr",
     "output_type": "stream",
     "text": [
      "Info: Params [ 0.30111078 -1.78466772  0.65769416  0.46330398  0.53379089] gave 91.708402795105\n"
     ]
    },
    {
     "name": "stdout",
     "output_type": "stream",
     "text": [
      "154\n"
     ]
    },
    {
     "name": "stderr",
     "output_type": "stream",
     "text": [
      "Info: Params [ 0.17271983 -1.28618475  1.63635074  0.59724704  0.6150156 ] gave 202.63175105719463\n"
     ]
    },
    {
     "name": "stdout",
     "output_type": "stream",
     "text": [
      "155\n"
     ]
    },
    {
     "name": "stderr",
     "output_type": "stream",
     "text": [
      "Info: Params [ 0.         -1.37709126  1.47540048  0.55324171  0.6550603 ] gave 208.6077110271037\n"
     ]
    },
    {
     "name": "stdout",
     "output_type": "stream",
     "text": [
      "156\n"
     ]
    },
    {
     "name": "stderr",
     "output_type": "stream",
     "text": [
      "Info: Params [ 1.09465005 -2.04809209  0.74695904  0.24917183  0.86097673] gave 70.14498076397237\n"
     ]
    },
    {
     "name": "stdout",
     "output_type": "stream",
     "text": [
      "157\n"
     ]
    },
    {
     "name": "stderr",
     "output_type": "stream",
     "text": [
      "Info: Params [ 0.14141824 -2.83160512  0.77859504  0.36505504  0.75736765] gave 80.81150291655919\n"
     ]
    },
    {
     "name": "stdout",
     "output_type": "stream",
     "text": [
      "158\n"
     ]
    },
    {
     "name": "stderr",
     "output_type": "stream",
     "text": [
      "Info: Params [ 0.07634601 -1.01040281  1.70709114  0.38161668  0.99388289] gave 192.67125563113225\n"
     ]
    },
    {
     "name": "stdout",
     "output_type": "stream",
     "text": [
      "159\n"
     ]
    },
    {
     "name": "stderr",
     "output_type": "stream",
     "text": [
      "Info: Params [ 0.30931996 -1.35027836  1.10173441  0.5503342   0.67246599] gave 150.4781107375957\n"
     ]
    },
    {
     "name": "stdout",
     "output_type": "stream",
     "text": [
      "160\n"
     ]
    },
    {
     "name": "stderr",
     "output_type": "stream",
     "text": [
      "Info: Params [ 0.16827669 -0.62131787  1.13976866  0.34798792  0.73495775] gave 246.35666695590302\n"
     ]
    },
    {
     "name": "stdout",
     "output_type": "stream",
     "text": [
      "161\n"
     ]
    },
    {
     "name": "stderr",
     "output_type": "stream",
     "text": [
      "Info: Params [ 0.1452901  -1.28952304  1.0102079   0.34817265  0.83135601] gave 175.06029010646242\n"
     ]
    },
    {
     "name": "stdout",
     "output_type": "stream",
     "text": [
      "162\n"
     ]
    },
    {
     "name": "stderr",
     "output_type": "stream",
     "text": [
      "Info: Params [ 0.84879917 -1.17846542  0.8926361  -0.01159683  0.65992731] gave 151.0986813888803\n"
     ]
    },
    {
     "name": "stdout",
     "output_type": "stream",
     "text": [
      "163\n"
     ]
    },
    {
     "name": "stderr",
     "output_type": "stream",
     "text": [
      "Info: Params [ 0.39781934 -0.32963581  0.94431934 -0.14397722  0.09427536] gave 178.7124933517085\n"
     ]
    },
    {
     "name": "stdout",
     "output_type": "stream",
     "text": [
      "164\n"
     ]
    },
    {
     "name": "stderr",
     "output_type": "stream",
     "text": [
      "Info: Params [ 0.44831494 -0.98904015  1.07594538  0.2431492   0.82995838] gave 193.8098085465933\n"
     ]
    },
    {
     "name": "stdout",
     "output_type": "stream",
     "text": [
      "165\n"
     ]
    },
    {
     "name": "stderr",
     "output_type": "stream",
     "text": [
      "Info: Params [ 0.60759735 -0.67751088  0.86912374  0.10796001  0.87218871] gave 172.5994691969221\n"
     ]
    },
    {
     "name": "stdout",
     "output_type": "stream",
     "text": [
      "166\n"
     ]
    },
    {
     "name": "stderr",
     "output_type": "stream",
     "text": [
      "Info: Params [ 0.25972087 -1.20375327  1.05896022  0.39910364  0.59429284] gave 186.91738039337065\n"
     ]
    },
    {
     "name": "stdout",
     "output_type": "stream",
     "text": [
      "167\n"
     ]
    },
    {
     "name": "stderr",
     "output_type": "stream",
     "text": [
      "Info: Params [ 0.32433432 -1.16796356  0.86850825  0.39532827  0.79053442] gave 154.33575741877146\n"
     ]
    },
    {
     "name": "stdout",
     "output_type": "stream",
     "text": [
      "168\n"
     ]
    },
    {
     "name": "stderr",
     "output_type": "stream",
     "text": [
      "Info: Params [ 0.00955372 -1.98255851  0.83890997  0.44364779  0.78940188] gave 126.31736409435064\n"
     ]
    },
    {
     "name": "stdout",
     "output_type": "stream",
     "text": [
      "169\n"
     ]
    },
    {
     "name": "stderr",
     "output_type": "stream",
     "text": [
      "Info: Params [ 0.         -3.65415527  0.83301759  0.5558972   0.78022661] gave 111.5913878454725\n"
     ]
    },
    {
     "name": "stdout",
     "output_type": "stream",
     "text": [
      "170\n"
     ]
    },
    {
     "name": "stderr",
     "output_type": "stream",
     "text": [
      "Info: Params [ 0.70699245 -0.87320477  0.93057843  0.17382003  0.47877579] gave 160.68042403809875\n"
     ]
    },
    {
     "name": "stdout",
     "output_type": "stream",
     "text": [
      "171\n"
     ]
    },
    {
     "name": "stderr",
     "output_type": "stream",
     "text": [
      "Info: Params [ 0.25109664 -1.54960914  0.83126273  0.17305844  0.53322601] gave 150.84813535520792\n"
     ]
    },
    {
     "name": "stdout",
     "output_type": "stream",
     "text": [
      "172\n"
     ]
    },
    {
     "name": "stderr",
     "output_type": "stream",
     "text": [
      "Info: Params [ 0.69381548 -0.80738642  1.00742584  0.20178972  0.48310353] gave 170.58197257903666\n"
     ]
    },
    {
     "name": "stdout",
     "output_type": "stream",
     "text": [
      "173\n"
     ]
    },
    {
     "name": "stderr",
     "output_type": "stream",
     "text": [
      "Info: Params [ 0.05984179 -0.95241631  1.25796489  0.13948731  0.8425036 ] gave 233.36615947281567\n"
     ]
    },
    {
     "name": "stdout",
     "output_type": "stream",
     "text": [
      "174\n"
     ]
    },
    {
     "name": "stderr",
     "output_type": "stream",
     "text": [
      "Info: Params [ 0.21379552 -1.16374771  1.05180567  0.11888963  0.87553092] gave 198.3931994778332\n"
     ]
    },
    {
     "name": "stdout",
     "output_type": "stream",
     "text": [
      "175\n"
     ]
    },
    {
     "name": "stderr",
     "output_type": "stream",
     "text": [
      "Info: Params [ 1.5066519  -0.6564545   0.91321762  0.18901695  0.66265009] gave 128.36438493441855\n"
     ]
    },
    {
     "name": "stdout",
     "output_type": "stream",
     "text": [
      "176\n"
     ]
    },
    {
     "name": "stderr",
     "output_type": "stream",
     "text": [
      "Info: Params [ 0.77334018 -0.66110821  1.06856392  0.11336846  0.87589778] gave 198.54450343297654\n"
     ]
    },
    {
     "name": "stdout",
     "output_type": "stream",
     "text": [
      "177\n"
     ]
    },
    {
     "name": "stderr",
     "output_type": "stream",
     "text": [
      "Info: Params [ 0.09064579 -1.38454708  1.37237225  0.22863715  0.91760459] gave 206.63917243469646\n"
     ]
    },
    {
     "name": "stdout",
     "output_type": "stream",
     "text": [
      "178\n"
     ]
    },
    {
     "name": "stderr",
     "output_type": "stream",
     "text": [
      "Info: Params [ 0.33103966 -3.06105296  0.73774869  0.4005056   0.60711431] gave 113.4910514365385\n"
     ]
    },
    {
     "name": "stdout",
     "output_type": "stream",
     "text": [
      "179\n"
     ]
    },
    {
     "name": "stderr",
     "output_type": "stream",
     "text": [
      "Info: Params [ 0.66944727 -0.5641272   1.28200642  0.21931125  0.74817873] gave 225.7789759994149\n"
     ]
    },
    {
     "name": "stdout",
     "output_type": "stream",
     "text": [
      "180\n"
     ]
    },
    {
     "name": "stderr",
     "output_type": "stream",
     "text": [
      "Info: Params [ 0.32171896 -0.95700872  1.29099638  0.3108264   0.78294087] gave 219.63574603159822\n"
     ]
    },
    {
     "name": "stdout",
     "output_type": "stream",
     "text": [
      "181\n"
     ]
    },
    {
     "name": "stderr",
     "output_type": "stream",
     "text": [
      "Info: Params [ 0.26353978 -1.3585999   1.03486821  0.48609843  0.67298737] gave 156.0745669040373\n"
     ]
    },
    {
     "name": "stdout",
     "output_type": "stream",
     "text": [
      "182\n"
     ]
    },
    {
     "name": "stderr",
     "output_type": "stream",
     "text": [
      "Info: Params [ 0.         -1.20236252  1.02160331  0.53135178  0.71458198] gave 174.86880339914654\n"
     ]
    },
    {
     "name": "stdout",
     "output_type": "stream",
     "text": [
      "183\n"
     ]
    },
    {
     "name": "stderr",
     "output_type": "stream",
     "text": [
      "Info: Params [ 0.56910557 -1.10226678  0.97430101  0.17374115  0.90956148] gave 176.33485804944152\n"
     ]
    },
    {
     "name": "stdout",
     "output_type": "stream",
     "text": [
      "184\n"
     ]
    },
    {
     "name": "stderr",
     "output_type": "stream",
     "text": [
      "Info: Params [ 0.25428068 -2.48909416  0.69454185  0.3087111   0.61549732] gave 77.04158331332664\n"
     ]
    },
    {
     "name": "stdout",
     "output_type": "stream",
     "text": [
      "185\n"
     ]
    },
    {
     "name": "stderr",
     "output_type": "stream",
     "text": [
      "Info: Params [ 0.24470773 -1.39415115  0.96013592  0.51085886  0.67694452] gave 139.99129439955055\n"
     ]
    },
    {
     "name": "stdout",
     "output_type": "stream",
     "text": [
      "186\n"
     ]
    },
    {
     "name": "stderr",
     "output_type": "stream",
     "text": [
      "Info: Params [ 0.70092274 -0.85346141  1.46382715  0.25976895  0.92976368] gave 199.613304838099\n"
     ]
    },
    {
     "name": "stdout",
     "output_type": "stream",
     "text": [
      "187\n"
     ]
    },
    {
     "name": "stderr",
     "output_type": "stream",
     "text": [
      "Info: Params [ 0.67422408 -1.14786485  0.97990719  0.22881799  0.94181622] gave 160.3452808144167\n"
     ]
    },
    {
     "name": "stdout",
     "output_type": "stream",
     "text": [
      "188\n"
     ]
    },
    {
     "name": "stderr",
     "output_type": "stream",
     "text": [
      "Info: Params [ 0.         -1.83972927  1.08289851  0.2735428   0.70481232] gave 175.58867617948135\n"
     ]
    },
    {
     "name": "stdout",
     "output_type": "stream",
     "text": [
      "189\n"
     ]
    },
    {
     "name": "stderr",
     "output_type": "stream",
     "text": [
      "Info: Params [ 2.04914384 -1.26646317  0.53090974  0.06213824  0.66734249] gave 42.21650157241259\n"
     ]
    },
    {
     "name": "stdout",
     "output_type": "stream",
     "text": [
      "190\n"
     ]
    },
    {
     "name": "stderr",
     "output_type": "stream",
     "text": [
      "Info: Params [ 0.06254279 -1.63051595  1.15648628  0.39817829  0.6522602 ] gave 174.69010643087626\n"
     ]
    },
    {
     "name": "stdout",
     "output_type": "stream",
     "text": [
      "191\n"
     ]
    },
    {
     "name": "stderr",
     "output_type": "stream",
     "text": [
      "Info: Params [ 0.73187394 -1.2034542   1.01707854  0.29655902  0.63158184] gave 148.5919824998792\n"
     ]
    },
    {
     "name": "stdout",
     "output_type": "stream",
     "text": [
      "192\n"
     ]
    },
    {
     "name": "stderr",
     "output_type": "stream",
     "text": [
      "Info: Params [ 0.47060637 -0.99359415  1.12520374  0.27793142  0.88761708] gave 203.57930551742498\n"
     ]
    },
    {
     "name": "stdout",
     "output_type": "stream",
     "text": [
      "193\n"
     ]
    },
    {
     "name": "stderr",
     "output_type": "stream",
     "text": [
      "Info: Params [ 0.1109949  -1.36976437  1.05419778  0.51503584  0.62436   ] gave 158.394423617135\n"
     ]
    },
    {
     "name": "stdout",
     "output_type": "stream",
     "text": [
      "194\n"
     ]
    },
    {
     "name": "stderr",
     "output_type": "stream",
     "text": [
      "Info: Params [ 0.11589083 -1.17457015  1.94371584  0.57149551  0.7168166 ] gave 223.61330292780417\n"
     ]
    },
    {
     "name": "stdout",
     "output_type": "stream",
     "text": [
      "195\n"
     ]
    },
    {
     "name": "stderr",
     "output_type": "stream",
     "text": [
      "Info: Params [ 0.23110135 -0.70030446  1.10048677  0.03406633  0.70029414] gave 228.7146147021444\n"
     ]
    },
    {
     "name": "stdout",
     "output_type": "stream",
     "text": [
      "196\n"
     ]
    },
    {
     "name": "stderr",
     "output_type": "stream",
     "text": [
      "Info: Params [ 0.33870439 -1.1856415   0.98128758  0.32099137  0.80413474] gave 173.45091242044103\n"
     ]
    },
    {
     "name": "stdout",
     "output_type": "stream",
     "text": [
      "197\n"
     ]
    },
    {
     "name": "stderr",
     "output_type": "stream",
     "text": [
      "Info: Params [ 0.         -1.97970877  1.0627444   0.5751      0.82741928] gave 131.52887470602604\n"
     ]
    },
    {
     "name": "stdout",
     "output_type": "stream",
     "text": [
      "198\n"
     ]
    },
    {
     "name": "stderr",
     "output_type": "stream",
     "text": [
      "Info: Params [ 1.02042652 -0.47583874  0.97142842 -0.05604045  0.55009428] gave 174.70358847936012\n"
     ]
    },
    {
     "name": "stdout",
     "output_type": "stream",
     "text": [
      "199\n"
     ]
    },
    {
     "name": "stderr",
     "output_type": "stream",
     "text": [
      "Info: Params [ 0.45831921 -1.02428707  1.19207276 -0.10426945  0.85358232] gave 198.70456801253334\n"
     ]
    },
    {
     "name": "stdout",
     "output_type": "stream",
     "text": [
      "200\n"
     ]
    },
    {
     "name": "stderr",
     "output_type": "stream",
     "text": [
      "Info: Params [ 0.34475692 -2.05183621  0.75488258  0.15626783  0.63470137] gave 104.34240930429212\n"
     ]
    },
    {
     "name": "stdout",
     "output_type": "stream",
     "text": [
      "201\n"
     ]
    },
    {
     "name": "stderr",
     "output_type": "stream",
     "text": [
      "Info: Params [ 0.37151777 -2.52085759  0.71512391  0.36473586  0.61708083] gave 79.39597951998014\n"
     ]
    },
    {
     "name": "stdout",
     "output_type": "stream",
     "text": [
      "202\n"
     ]
    },
    {
     "name": "stderr",
     "output_type": "stream",
     "text": [
      "Info: Params [ 0.42358048 -1.12514715  0.99662471  0.34504325  0.76409123] gave 168.731856404467\n"
     ]
    },
    {
     "name": "stdout",
     "output_type": "stream",
     "text": [
      "203\n"
     ]
    },
    {
     "name": "stderr",
     "output_type": "stream",
     "text": [
      "Info: Params [ 0.71867297 -0.84015371  1.10052041  0.36057497  0.84086845] gave 183.27251555273085\n"
     ]
    },
    {
     "name": "stdout",
     "output_type": "stream",
     "text": [
      "204\n"
     ]
    },
    {
     "name": "stderr",
     "output_type": "stream",
     "text": [
      "Info: Params [ 0.10116744 -1.46431425  1.53776898  0.31749188  0.94162303] gave 218.5964748868316\n"
     ]
    },
    {
     "name": "stdout",
     "output_type": "stream",
     "text": [
      "205\n"
     ]
    },
    {
     "name": "stderr",
     "output_type": "stream",
     "text": [
      "Info: Params [ 0.96943264 -1.28376946  0.61569329  0.09422656  0.75000059] gave 91.51795979838414\n"
     ]
    },
    {
     "name": "stdout",
     "output_type": "stream",
     "text": [
      "206\n"
     ]
    },
    {
     "name": "stderr",
     "output_type": "stream",
     "text": [
      "Info: Params [ 0.42978389 -0.84487081  1.21476328  0.31049762  0.88029853] gave 209.44392912411035\n"
     ]
    },
    {
     "name": "stdout",
     "output_type": "stream",
     "text": [
      "207\n"
     ]
    },
    {
     "name": "stderr",
     "output_type": "stream",
     "text": [
      "Info: Params [ 0.06675233 -1.67908897  1.06438699  0.46411688  0.85933416] gave 167.95940860895573\n"
     ]
    },
    {
     "name": "stdout",
     "output_type": "stream",
     "text": [
      "208\n"
     ]
    },
    {
     "name": "stderr",
     "output_type": "stream",
     "text": [
      "Info: Params [ 0.53849247 -1.9645284   0.73453139  0.32017214  0.67582275] gave 77.73375629827271\n"
     ]
    },
    {
     "name": "stdout",
     "output_type": "stream",
     "text": [
      "209\n"
     ]
    },
    {
     "name": "stderr",
     "output_type": "stream",
     "text": [
      "Info: Params [ 0.46611507 -1.06320939  1.18659538  0.38882501  0.82522661] gave 197.27253476741632\n"
     ]
    },
    {
     "name": "stdout",
     "output_type": "stream",
     "text": [
      "210\n"
     ]
    },
    {
     "name": "stderr",
     "output_type": "stream",
     "text": [
      "Info: Params [ 0.54613243 -0.96336705  1.5126569   0.33858097  0.84972322] gave 188.15087864912329\n"
     ]
    },
    {
     "name": "stdout",
     "output_type": "stream",
     "text": [
      "211\n"
     ]
    },
    {
     "name": "stderr",
     "output_type": "stream",
     "text": [
      "Info: Params [ 0.41003478 -1.09657936  0.79334405  0.06044487  0.79545967] gave 151.15126228504403\n"
     ]
    },
    {
     "name": "stdout",
     "output_type": "stream",
     "text": [
      "212\n"
     ]
    },
    {
     "name": "stderr",
     "output_type": "stream",
     "text": [
      "Info: Params [ 0.14886414 -1.25926572  1.11276315  0.26668929  0.52407537] gave 192.17801814440497\n"
     ]
    },
    {
     "name": "stdout",
     "output_type": "stream",
     "text": [
      "213\n"
     ]
    },
    {
     "name": "stderr",
     "output_type": "stream",
     "text": [
      "Info: Params [ 1.19697685 -0.91827719  0.72269281  0.2002389   0.96571735] gave 117.62575360180355\n"
     ]
    },
    {
     "name": "stdout",
     "output_type": "stream",
     "text": [
      "214\n"
     ]
    },
    {
     "name": "stderr",
     "output_type": "stream",
     "text": [
      "Info: Params [ 5.07249802e-04 -1.37682189e+00  1.27205841e+00  3.64548043e-01\n",
      "  5.53198699e-01] gave 212.00460138353438\n"
     ]
    },
    {
     "name": "stdout",
     "output_type": "stream",
     "text": [
      "215\n"
     ]
    },
    {
     "name": "stderr",
     "output_type": "stream",
     "text": [
      "Info: Params [ 0.21824755 -1.19465899  0.90470653  0.34860128  0.7727919 ] gave 169.63000242633635\n"
     ]
    },
    {
     "name": "stdout",
     "output_type": "stream",
     "text": [
      "216\n"
     ]
    },
    {
     "name": "stderr",
     "output_type": "stream",
     "text": [
      "Info: Params [ 0.         -1.66712479  1.07393642  0.47097395  0.79747568] gave 161.17421037649905\n"
     ]
    },
    {
     "name": "stdout",
     "output_type": "stream",
     "text": [
      "217\n"
     ]
    },
    {
     "name": "stderr",
     "output_type": "stream",
     "text": [
      "Info: Params [ 0.06509547 -1.29654469  1.1623315   0.33781571  0.35514845] gave 189.93061905750403\n"
     ]
    },
    {
     "name": "stdout",
     "output_type": "stream",
     "text": [
      "218\n"
     ]
    },
    {
     "name": "stderr",
     "output_type": "stream",
     "text": [
      "Info: Params [ 0.89293289 -1.23195341  0.86365161  0.26237377  0.72842186] gave 126.25639660813206\n"
     ]
    },
    {
     "name": "stdout",
     "output_type": "stream",
     "text": [
      "219\n"
     ]
    },
    {
     "name": "stderr",
     "output_type": "stream",
     "text": [
      "Info: Params [ 0.33373206 -1.03460095  1.14016135  0.15262428  0.94495173] gave 204.58786500649018\n"
     ]
    },
    {
     "name": "stdout",
     "output_type": "stream",
     "text": [
      "220\n"
     ]
    },
    {
     "name": "stderr",
     "output_type": "stream",
     "text": [
      "Info: Params [ 0.24465083 -2.16233506  0.50902592  0.38903251  0.76173626] gave 58.430749546366265\n"
     ]
    },
    {
     "name": "stdout",
     "output_type": "stream",
     "text": [
      "221\n"
     ]
    },
    {
     "name": "stderr",
     "output_type": "stream",
     "text": [
      "Info: Params [ 0.21889755 -1.01562191  1.27570568  0.49919925  0.54529581] gave 209.17581074870415\n"
     ]
    },
    {
     "name": "stdout",
     "output_type": "stream",
     "text": [
      "222\n"
     ]
    },
    {
     "name": "stderr",
     "output_type": "stream",
     "text": [
      "Info: Params [ 0.         -1.14391474  0.97302902  0.24131842  0.54301975] gave 181.20157054796647\n"
     ]
    },
    {
     "name": "stdout",
     "output_type": "stream",
     "text": [
      "223\n"
     ]
    },
    {
     "name": "stderr",
     "output_type": "stream",
     "text": [
      "Info: Params [ 1.08917641 -1.00687189  0.7888527   0.34372765  0.61352192] gave 90.48310178642947\n"
     ]
    },
    {
     "name": "stdout",
     "output_type": "stream",
     "text": [
      "224\n"
     ]
    },
    {
     "name": "stderr",
     "output_type": "stream",
     "text": [
      "Info: Params [ 0.         -1.1602044   1.4674912   0.48378222  0.92250189] gave 236.55194585108407\n"
     ]
    },
    {
     "name": "stdout",
     "output_type": "stream",
     "text": [
      "225\n"
     ]
    },
    {
     "name": "stderr",
     "output_type": "stream",
     "text": [
      "Info: Params [ 0.13062929 -1.61108821  0.92708045  0.36065334  0.78669934] gave 146.83259943973815\n"
     ]
    },
    {
     "name": "stdout",
     "output_type": "stream",
     "text": [
      "226\n"
     ]
    },
    {
     "name": "stderr",
     "output_type": "stream",
     "text": [
      "Info: Params [ 0.20646501 -1.69844294  0.91175624  0.50320377  0.86134438] gave 153.6324596308766\n"
     ]
    },
    {
     "name": "stdout",
     "output_type": "stream",
     "text": [
      "227\n"
     ]
    },
    {
     "name": "stderr",
     "output_type": "stream",
     "text": [
      "Info: Params [ 1.03137041 -0.98315568  0.66254594  0.35253366  0.54691225] gave 88.3559077883009\n"
     ]
    },
    {
     "name": "stdout",
     "output_type": "stream",
     "text": [
      "228\n"
     ]
    },
    {
     "name": "stderr",
     "output_type": "stream",
     "text": [
      "Info: Params [ 0.15767491 -1.13172419  0.92398071  0.16257032  0.75460174] gave 184.6433757425553\n"
     ]
    },
    {
     "name": "stdout",
     "output_type": "stream",
     "text": [
      "229\n"
     ]
    },
    {
     "name": "stderr",
     "output_type": "stream",
     "text": [
      "Info: Params [ 0.08108452 -1.56487995  1.30838521  0.46208817  0.68676589] gave 173.13541092393547\n"
     ]
    },
    {
     "name": "stdout",
     "output_type": "stream",
     "text": [
      "230\n"
     ]
    },
    {
     "name": "stderr",
     "output_type": "stream",
     "text": [
      "Info: Params [ 0.         -1.19048039  1.40877777  0.55645431  0.65681919] gave 212.3127613317073\n"
     ]
    },
    {
     "name": "stdout",
     "output_type": "stream",
     "text": [
      "231\n"
     ]
    },
    {
     "name": "stderr",
     "output_type": "stream",
     "text": [
      "Info: Params [ 0.35500242 -0.69833631  1.25419545  0.39864672  0.96403212] gave 200.05681095245637\n"
     ]
    },
    {
     "name": "stdout",
     "output_type": "stream",
     "text": [
      "232\n"
     ]
    },
    {
     "name": "stderr",
     "output_type": "stream",
     "text": [
      "Info: Params [ 0.56374474 -0.75772973  1.12772414  0.08152794  0.6100122 ] gave 217.81268377175005\n"
     ]
    },
    {
     "name": "stdout",
     "output_type": "stream",
     "text": [
      "233\n"
     ]
    },
    {
     "name": "stderr",
     "output_type": "stream",
     "text": [
      "Info: Params [ 0.53711066 -1.18190788  0.96787129  0.18700353  0.79921256] gave 170.76795007160757\n"
     ]
    },
    {
     "name": "stdout",
     "output_type": "stream",
     "text": [
      "234\n"
     ]
    },
    {
     "name": "stderr",
     "output_type": "stream",
     "text": [
      "Info: Params [ 0.40135692 -0.94729823  1.02595832  0.23678434  0.4483346 ] gave 197.58720778619872\n"
     ]
    },
    {
     "name": "stdout",
     "output_type": "stream",
     "text": [
      "235\n"
     ]
    },
    {
     "name": "stderr",
     "output_type": "stream",
     "text": [
      "Info: Params [ 0.32212985 -0.56315167  1.33864093  0.1909643   0.76100493] gave 254.0244962174229\n"
     ]
    },
    {
     "name": "stdout",
     "output_type": "stream",
     "text": [
      "236\n"
     ]
    },
    {
     "name": "stderr",
     "output_type": "stream",
     "text": [
      "Info: Params [ 0.35321654 -2.0526167   1.17109808  0.53379387  0.74799404] gave 126.7894283325131\n"
     ]
    },
    {
     "name": "stdout",
     "output_type": "stream",
     "text": [
      "237\n"
     ]
    },
    {
     "name": "stderr",
     "output_type": "stream",
     "text": [
      "Info: Params [ 0.11972754 -1.0957588   1.03077992  0.28080516  0.79667541] gave 205.5739749714446\n"
     ]
    },
    {
     "name": "stdout",
     "output_type": "stream",
     "text": [
      "238\n"
     ]
    },
    {
     "name": "stderr",
     "output_type": "stream",
     "text": [
      "Info: Params [ 0.96604441 -0.01512534  1.06090171 -0.34873174  0.76567001] gave 201.68995496240427\n"
     ]
    },
    {
     "name": "stdout",
     "output_type": "stream",
     "text": [
      "239\n"
     ]
    },
    {
     "name": "stderr",
     "output_type": "stream",
     "text": [
      "Info: Params [ 0.64411401 -0.85102981  1.22660291  0.16316416  0.68489634] gave 200.1004035372546\n"
     ]
    },
    {
     "name": "stdout",
     "output_type": "stream",
     "text": [
      "240\n"
     ]
    },
    {
     "name": "stderr",
     "output_type": "stream",
     "text": [
      "Info: Params [ 0.95975432 -0.29602617  1.07496335  0.06291413  0.59160668] gave 201.10127982720283\n"
     ]
    },
    {
     "name": "stdout",
     "output_type": "stream",
     "text": [
      "241\n"
     ]
    },
    {
     "name": "stderr",
     "output_type": "stream",
     "text": [
      "Info: Params [ 0.34764242 -1.2508797   1.2378396   0.28518224  0.75336956] gave 185.85966207060386\n"
     ]
    },
    {
     "name": "stdout",
     "output_type": "stream",
     "text": [
      "242\n"
     ]
    },
    {
     "name": "stderr",
     "output_type": "stream",
     "text": [
      "Info: Params [ 0.26136928 -0.81071882  1.14794862  0.10623921  0.8998486 ] gave 228.30388052664603\n"
     ]
    },
    {
     "name": "stdout",
     "output_type": "stream",
     "text": [
      "243\n"
     ]
    },
    {
     "name": "stderr",
     "output_type": "stream",
     "text": [
      "Info: Params [ 0.8583243  -1.16871927  0.96218478  0.49103214  0.55183416] gave 128.2892847054202\n"
     ]
    },
    {
     "name": "stdout",
     "output_type": "stream",
     "text": [
      "244\n"
     ]
    },
    {
     "name": "stderr",
     "output_type": "stream",
     "text": [
      "Info: Params [ 0.         -1.41343316  1.17355761  0.54241727  0.94944915] gave 197.55269267824642\n"
     ]
    },
    {
     "name": "stdout",
     "output_type": "stream",
     "text": [
      "245\n"
     ]
    },
    {
     "name": "stderr",
     "output_type": "stream",
     "text": [
      "Info: Params [ 0.73469238 -0.81619751  0.9044399   0.24992811  0.66932666] gave 156.82422057141633\n"
     ]
    },
    {
     "name": "stdout",
     "output_type": "stream",
     "text": [
      "246\n"
     ]
    },
    {
     "name": "stderr",
     "output_type": "stream",
     "text": [
      "Info: Params [ 0.83319925 -1.23505202  1.30557384  0.33655113  0.78952481] gave 161.14463620371188\n"
     ]
    },
    {
     "name": "stdout",
     "output_type": "stream",
     "text": [
      "247\n"
     ]
    },
    {
     "name": "stderr",
     "output_type": "stream",
     "text": [
      "Info: Params [ 0.39708935 -0.44183571  1.11110181  0.35035898  0.75765956] gave 217.8890732787978\n"
     ]
    },
    {
     "name": "stdout",
     "output_type": "stream",
     "text": [
      "248\n"
     ]
    },
    {
     "name": "stderr",
     "output_type": "stream",
     "text": [
      "Info: Params [ 0.         -1.68430554  1.0423736   0.45227323  0.89367719] gave 152.6047392499382\n"
     ]
    },
    {
     "name": "stdout",
     "output_type": "stream",
     "text": [
      "249\n"
     ]
    },
    {
     "name": "stderr",
     "output_type": "stream",
     "text": [
      "Info: Params [ 0.66981192 -1.00222306  1.08928015  0.28678582  0.52068392] gave 170.8584634879513\n"
     ]
    },
    {
     "name": "stdout",
     "output_type": "stream",
     "text": [
      "250\n"
     ]
    },
    {
     "name": "stderr",
     "output_type": "stream",
     "text": [
      "Info: Params [ 0.68204679 -0.51743956  1.32652093 -0.01740063  0.93543851] gave 226.92409265661277\n"
     ]
    },
    {
     "name": "stdout",
     "output_type": "stream",
     "text": [
      "251\n"
     ]
    },
    {
     "name": "stderr",
     "output_type": "stream",
     "text": [
      "Info: Params [ 0.49856341 -0.93086817  1.28235346  0.38244077  0.52946276] gave 181.84024970791216\n"
     ]
    },
    {
     "name": "stdout",
     "output_type": "stream",
     "text": [
      "1\n"
     ]
    },
    {
     "name": "stderr",
     "output_type": "stream",
     "text": [
      "Info: Params [ 1.21166666  0.          1.07999999  2.43433137 -0.06216433  0.57045949] gave 220.6092421603417\n"
     ]
    },
    {
     "name": "stdout",
     "output_type": "stream",
     "text": [
      "2\n"
     ]
    },
    {
     "name": "stderr",
     "output_type": "stream",
     "text": [
      "Info: Params [ 3.37939999  0.          1.86666664  0.76450666 -0.13933406  0.45942767] gave 15.045865365543204\n"
     ]
    },
    {
     "name": "stdout",
     "output_type": "stream",
     "text": [
      "3\n"
     ]
    },
    {
     "name": "stderr",
     "output_type": "stream",
     "text": [
      "Info: Params [2.0173836  0.         1.14999999 0.94000279 0.10617743 0.56414417] gave 91.47732644998072\n"
     ]
    },
    {
     "name": "stdout",
     "output_type": "stream",
     "text": [
      "4\n"
     ]
    },
    {
     "name": "stderr",
     "output_type": "stream",
     "text": [
      "Info: Params [ 1.82112516  0.          1.24000002  0.96788516 -0.10185454  0.64990814] gave 95.22965073854901\n"
     ]
    },
    {
     "name": "stdout",
     "output_type": "stream",
     "text": [
      "5\n"
     ]
    },
    {
     "name": "stderr",
     "output_type": "stream",
     "text": [
      "Info: Params [0.64812629 0.         0.80571428 2.22138162 0.10317953 0.35343159] gave 253.07170431984323\n"
     ]
    },
    {
     "name": "stdout",
     "output_type": "stream",
     "text": [
      "6\n"
     ]
    },
    {
     "name": "stderr",
     "output_type": "stream",
     "text": [
      "Info: Params [ 1.17403407  0.          0.55238095  0.96545842 -0.14722842  0.79749885] gave 149.24526222147733\n"
     ]
    },
    {
     "name": "stdout",
     "output_type": "stream",
     "text": [
      "7\n"
     ]
    },
    {
     "name": "stderr",
     "output_type": "stream",
     "text": [
      "Info: Params [0.86324221 0.         0.67272726 1.83246791 0.12096668 0.34967782] gave 229.6032786091257\n"
     ]
    },
    {
     "name": "stdout",
     "output_type": "stream",
     "text": [
      "8\n"
     ]
    },
    {
     "name": "stderr",
     "output_type": "stream",
     "text": [
      "Info: Params [ 1.20554501  0.          0.84444445  1.01163725 -0.09281935  0.73621685] gave 136.52072528116707\n"
     ]
    },
    {
     "name": "stdout",
     "output_type": "stream",
     "text": [
      "9\n"
     ]
    },
    {
     "name": "stderr",
     "output_type": "stream",
     "text": [
      "Info: Params [0.67324455 0.         0.75199996 1.98120866 0.55965106 0.67134408] gave 222.4817340720897\n"
     ]
    },
    {
     "name": "stdout",
     "output_type": "stream",
     "text": [
      "10\n"
     ]
    },
    {
     "name": "stderr",
     "output_type": "stream",
     "text": [
      "Info: Params [ 0.89751681  0.          0.          0.70485143 -0.23276516  0.56465444] gave 152.67917931802924\n"
     ]
    },
    {
     "name": "stdout",
     "output_type": "stream",
     "text": [
      "11\n"
     ]
    },
    {
     "name": "stderr",
     "output_type": "stream",
     "text": [
      "Info: Params [ 1.24212701  0.          0.45        0.81292641 -0.07900403  0.81512935] gave 131.65724672572583\n"
     ]
    },
    {
     "name": "stdout",
     "output_type": "stream",
     "text": [
      "12\n"
     ]
    },
    {
     "name": "stderr",
     "output_type": "stream",
     "text": [
      "Info: Params [ 1.15563143  0.          0.86666666  1.40344318 -0.1135291   0.80823987] gave 178.42990771702614\n"
     ]
    },
    {
     "name": "stdout",
     "output_type": "stream",
     "text": [
      "13\n"
     ]
    },
    {
     "name": "stderr",
     "output_type": "stream",
     "text": [
      "Info: Params [1.63188842 0.         1.23999999 1.01308855 0.0746791  0.7801714 ] gave 104.74469502026166\n"
     ]
    },
    {
     "name": "stdout",
     "output_type": "stream",
     "text": [
      "14\n"
     ]
    },
    {
     "name": "stderr",
     "output_type": "stream",
     "text": [
      "Info: Params [ 1.14655818  0.          0.42677916  1.05808815 -0.29372188  0.98624052] gave 179.31910619471432\n"
     ]
    },
    {
     "name": "stdout",
     "output_type": "stream",
     "text": [
      "15\n"
     ]
    },
    {
     "name": "stderr",
     "output_type": "stream",
     "text": [
      "Info: Params [1.51821718 0.         0.59999999 0.80950274 0.00835984 0.71351233] gave 131.25559299052253\n"
     ]
    },
    {
     "name": "stdout",
     "output_type": "stream",
     "text": [
      "16\n"
     ]
    },
    {
     "name": "stderr",
     "output_type": "stream",
     "text": [
      "Info: Params [ 1.1451068   0.          0.9         1.8660115  -0.00776606  0.73442757] gave 202.89865159035952\n"
     ]
    },
    {
     "name": "stdout",
     "output_type": "stream",
     "text": [
      "17\n"
     ]
    },
    {
     "name": "stderr",
     "output_type": "stream",
     "text": [
      "Info: Params [0.60473995 0.         0.73809523 1.87429554 0.19887283 0.38499832] gave 234.7954486644544\n"
     ]
    },
    {
     "name": "stdout",
     "output_type": "stream",
     "text": [
      "18\n"
     ]
    },
    {
     "name": "stderr",
     "output_type": "stream",
     "text": [
      "Info: Params [1.77658125 0.         1.425      1.28007723 0.06373623 0.83872789] gave 108.05697673794016\n"
     ]
    },
    {
     "name": "stdout",
     "output_type": "stream",
     "text": [
      "19\n"
     ]
    },
    {
     "name": "stderr",
     "output_type": "stream",
     "text": [
      "Info: Params [0.61444912 0.         0.91034482 2.35095589 0.21210193 0.38820105] gave 231.71188359463557\n"
     ]
    },
    {
     "name": "stdout",
     "output_type": "stream",
     "text": [
      "20\n"
     ]
    },
    {
     "name": "stderr",
     "output_type": "stream",
     "text": [
      "Info: Params [ 7.67388614e-01 -7.05163629e-04  3.99294832e-01  1.35722670e+00\n",
      " -6.77385126e-02  6.14685133e-01] gave 235.06519372746075\n"
     ]
    },
    {
     "name": "stdout",
     "output_type": "stream",
     "text": [
      "21\n"
     ]
    },
    {
     "name": "stderr",
     "output_type": "stream",
     "text": [
      "Info: Params [0.98584221 0.         1.02857143 2.49906936 0.10096424 0.90164374] gave 206.68867663327083\n"
     ]
    },
    {
     "name": "stdout",
     "output_type": "stream",
     "text": [
      "22\n"
     ]
    },
    {
     "name": "stderr",
     "output_type": "stream",
     "text": [
      "Info: Params [1.18189344 0.         1.16666667 1.36426207 0.1071013  0.63723907] gave 149.39733594934677\n"
     ]
    },
    {
     "name": "stdout",
     "output_type": "stream",
     "text": [
      "23\n"
     ]
    },
    {
     "name": "stderr",
     "output_type": "stream",
     "text": [
      "Info: Params [0.71328205 0.         0.94285714 2.48602274 0.08896489 0.96398028] gave 211.45624830699387\n"
     ]
    },
    {
     "name": "stdout",
     "output_type": "stream",
     "text": [
      "24\n"
     ]
    },
    {
     "name": "stderr",
     "output_type": "stream",
     "text": [
      "Info: Params [ 1.23100553  0.          0.44        1.35675445 -0.08017296  0.66382   ] gave 203.797565348638\n"
     ]
    },
    {
     "name": "stdout",
     "output_type": "stream",
     "text": [
      "25\n"
     ]
    },
    {
     "name": "stderr",
     "output_type": "stream",
     "text": [
      "Info: Params [1.21987054 0.         0.3        1.19542013 0.17182832 0.52891293] gave 192.97211611824048\n"
     ]
    },
    {
     "name": "stdout",
     "output_type": "stream",
     "text": [
      "26\n"
     ]
    },
    {
     "name": "stderr",
     "output_type": "stream",
     "text": [
      "Info: Params [0.71871002 0.         0.10476523 0.99479253 0.10043415 0.49956756] gave 206.2456018516905\n"
     ]
    },
    {
     "name": "stdout",
     "output_type": "stream",
     "text": [
      "27\n"
     ]
    },
    {
     "name": "stderr",
     "output_type": "stream",
     "text": [
      "Info: Params [ 1.15894795  0.          0.68        1.5812935  -0.03307397  0.6205649 ] gave 209.95711185710803\n"
     ]
    },
    {
     "name": "stdout",
     "output_type": "stream",
     "text": [
      "28\n"
     ]
    },
    {
     "name": "stderr",
     "output_type": "stream",
     "text": [
      "Info: Params [0.90082996 0.         0.5        1.38197963 0.06133432 0.63248963] gave 206.33052758701191\n"
     ]
    },
    {
     "name": "stdout",
     "output_type": "stream",
     "text": [
      "29\n"
     ]
    },
    {
     "name": "stderr",
     "output_type": "stream",
     "text": [
      "Info: Params [1.64328101 0.         1.02222221 1.42177888 0.01549188 0.55977872] gave 171.17539828055186\n"
     ]
    },
    {
     "name": "stdout",
     "output_type": "stream",
     "text": [
      "30\n"
     ]
    },
    {
     "name": "stderr",
     "output_type": "stream",
     "text": [
      "Info: Params [0.82412875 0.         1.26896552 2.32679095 0.35873072 0.39189367] gave 225.13245670647717\n"
     ]
    },
    {
     "name": "stdout",
     "output_type": "stream",
     "text": [
      "31\n"
     ]
    },
    {
     "name": "stderr",
     "output_type": "stream",
     "text": [
      "Info: Params [1.86083297e+00 0.00000000e+00 1.09999993e+00 1.58563572e+00\n",
      " 1.32393061e-03 7.25352273e-01] gave 172.51470387763203\n"
     ]
    },
    {
     "name": "stdout",
     "output_type": "stream",
     "text": [
      "32\n"
     ]
    },
    {
     "name": "stderr",
     "output_type": "stream",
     "text": [
      "Info: Params [1.00228383 0.         1.14999999 2.45121236 0.06644536 0.70858841] gave 207.66454571116208\n"
     ]
    },
    {
     "name": "stdout",
     "output_type": "stream",
     "text": [
      "33\n"
     ]
    },
    {
     "name": "stderr",
     "output_type": "stream",
     "text": [
      "Info: Params [ 0.91337474  0.          0.18666629  1.13617741 -0.34657181  0.71783212] gave 215.81942399530485\n"
     ]
    },
    {
     "name": "stdout",
     "output_type": "stream",
     "text": [
      "34\n"
     ]
    },
    {
     "name": "stderr",
     "output_type": "stream",
     "text": [
      "Info: Params [ 1.01452567  0.          0.16        0.93955761 -0.24727714  0.7532654 ] gave 189.5583010451798\n"
     ]
    },
    {
     "name": "stdout",
     "output_type": "stream",
     "text": [
      "35\n"
     ]
    },
    {
     "name": "stderr",
     "output_type": "stream",
     "text": [
      "Info: Params [ 0.5392306  -0.0051275   0.17605347  0.88846841  0.10375065  0.55160023] gave 199.31467223615942\n"
     ]
    },
    {
     "name": "stdout",
     "output_type": "stream",
     "text": [
      "36\n"
     ]
    },
    {
     "name": "stderr",
     "output_type": "stream",
     "text": [
      "Info: Params [1.34524866 0.         0.76666666 1.117029   0.07243238 0.53246251] gave 159.05816527824018\n"
     ]
    },
    {
     "name": "stdout",
     "output_type": "stream",
     "text": [
      "37\n"
     ]
    },
    {
     "name": "stderr",
     "output_type": "stream",
     "text": [
      "Info: Params [1.05874902 0.         1.37142865 2.35903368 0.28380064 0.36886088] gave 197.441229646375\n"
     ]
    },
    {
     "name": "stdout",
     "output_type": "stream",
     "text": [
      "38\n"
     ]
    },
    {
     "name": "stderr",
     "output_type": "stream",
     "text": [
      "Info: Params [1.06948834 0.         0.9        1.27991318 0.17954849 0.71439004] gave 177.08880888332146\n"
     ]
    },
    {
     "name": "stdout",
     "output_type": "stream",
     "text": [
      "39\n"
     ]
    },
    {
     "name": "stderr",
     "output_type": "stream",
     "text": [
      "Info: Params [0.86641225 0.         0.6        0.96652555 0.13341214 0.5385626 ] gave 154.7226556482343\n"
     ]
    },
    {
     "name": "stdout",
     "output_type": "stream",
     "text": [
      "40\n"
     ]
    },
    {
     "name": "stderr",
     "output_type": "stream",
     "text": [
      "Info: Params [1.31828725 0.         0.71428571 1.13511827 0.01744615 0.67053565] gave 204.6330611891962\n"
     ]
    },
    {
     "name": "stdout",
     "output_type": "stream",
     "text": [
      "41\n"
     ]
    },
    {
     "name": "stderr",
     "output_type": "stream",
     "text": [
      "Info: Params [0.99189551 0.         0.875      2.22048964 0.23794861 0.61453009] gave 220.37717609829707\n"
     ]
    },
    {
     "name": "stdout",
     "output_type": "stream",
     "text": [
      "42\n"
     ]
    },
    {
     "name": "stderr",
     "output_type": "stream",
     "text": [
      "Info: Params [1.98560177 0.         1.05714291 0.77199227 0.2297455  0.57773551] gave 76.24039640979062\n"
     ]
    },
    {
     "name": "stdout",
     "output_type": "stream",
     "text": [
      "43\n"
     ]
    },
    {
     "name": "stderr",
     "output_type": "stream",
     "text": [
      "Info: Params [ 1.69151298  0.          0.92998932  1.6925826  -0.09837066  0.79612451] gave 168.60992720202975\n"
     ]
    },
    {
     "name": "stdout",
     "output_type": "stream",
     "text": [
      "44\n"
     ]
    },
    {
     "name": "stderr",
     "output_type": "stream",
     "text": [
      "Info: Params [1.06024449 0.         1.38749999 2.49378261 0.17927082 0.93920587] gave 190.57960495421236\n"
     ]
    },
    {
     "name": "stdout",
     "output_type": "stream",
     "text": [
      "45\n"
     ]
    },
    {
     "name": "stderr",
     "output_type": "stream",
     "text": [
      "Info: Params [0.86587273 0.         1.05263163 2.49562784 0.11272983 0.99195629] gave 231.273596991056\n"
     ]
    },
    {
     "name": "stdout",
     "output_type": "stream",
     "text": [
      "46\n"
     ]
    }
   ],
   "source": [
    "models = [0, fit_m1, fit_m2, fit_m3, fit_m4, fit_m5, fit_m6]\n",
    "\n",
    "for i_data in list(range(3,5)):\n",
    "    loaded = pd.read_csv(\"data/E\"+str(i_data)+\".csv\") \n",
    "    loaded['present'] = loaded['present'].replace(-1,0)\n",
    "    for i_model in list(range(1,7)):\n",
    "        summary_list = []\n",
    "        for name, group in loaded.groupby('subj_id'):\n",
    "            print(name)\n",
    "            fit_result = models[i_model](group.reset_index(),'E2')\n",
    "            summary_list.append(fit_result)\n",
    "        summary_df = pd.concat(summary_list)\n",
    "        if not os.path.exists(\"model_fits/model_m\"+str(i_model)+\"/data_E\"+str(i_data)):\n",
    "                   os.makedirs(\"model_fits/model_m\"+str(i_model)+\"/data_E\"+str(i_data))\n",
    "        summary_df.to_csv(\"model_fits/model_m\"+str(i_model)+\"/data_E\"+str(i_data)+\"/all_subjects.csv\")"
   ]
  },
  {
   "cell_type": "code",
   "execution_count": 16,
   "id": "eaadbe54",
   "metadata": {},
   "outputs": [],
   "source": [
    "from pyddm import FitResult\n",
    "from pyddm import Fittable, Fitted\n",
    "import pyddm.plot\n",
    "\n",
    "\n",
    "def plotSubj(subj_id, model_fit, exp):\n",
    "    \n",
    "    with open(\"model_fits/model_\"+model_fit+\"/data_\"+exp+\"/subj\"+str(subj_id)+\".txt\", \"r\") as f:\n",
    "        model = eval(f.read())\n",
    "        \n",
    "    data_loaded = pd.read_csv(\"data/\"+exp+\".csv\") \n",
    "\n",
    "    pyddm.plot.model_gui(model=model, sample = Sample.from_pandas_dataframe(data_loaded[data_loaded.subj_id==subj_id], rt_column_name=\"rt\", correct_column_name=\"correct\"))\n"
   ]
  },
  {
   "cell_type": "code",
   "execution_count": 46,
   "id": "92c89e11",
   "metadata": {},
   "outputs": [
    {
     "name": "stderr",
     "output_type": "stream",
     "text": [
      "Warning: dt is large.  Estimated pdfs may be imprecise.  Decrease dt to 0.01 or less.\n"
     ]
    }
   ],
   "source": [
    "plotSubj(8,'m3','E2')"
   ]
  },
  {
   "cell_type": "code",
   "execution_count": 21,
   "id": "3f9261d8",
   "metadata": {},
   "outputs": [
    {
     "name": "stderr",
     "output_type": "stream",
     "text": [
      "Warning: dt is large.  Estimated pdfs may be imprecise.  Decrease dt to 0.01 or less.\n",
      "Warning: dt is large.  Estimated pdfs may be imprecise.  Decrease dt to 0.01 or less.\n",
      "Warning: dt is large.  Estimated pdfs may be imprecise.  Decrease dt to 0.01 or less.\n",
      "Warning: dt is large.  Estimated pdfs may be imprecise.  Decrease dt to 0.01 or less.\n",
      "Warning: dt is large.  Estimated pdfs may be imprecise.  Decrease dt to 0.01 or less.\n",
      "Warning: dt is large.  Estimated pdfs may be imprecise.  Decrease dt to 0.01 or less.\n",
      "Warning: dt is large.  Estimated pdfs may be imprecise.  Decrease dt to 0.01 or less.\n",
      "Warning: dt is large.  Estimated pdfs may be imprecise.  Decrease dt to 0.01 or less.\n",
      "Warning: dt is large.  Estimated pdfs may be imprecise.  Decrease dt to 0.01 or less.\n",
      "Warning: dt is large.  Estimated pdfs may be imprecise.  Decrease dt to 0.01 or less.\n",
      "Warning: dt is large.  Estimated pdfs may be imprecise.  Decrease dt to 0.01 or less.\n",
      "Warning: dt is large.  Estimated pdfs may be imprecise.  Decrease dt to 0.01 or less.\n",
      "Warning: dt is large.  Estimated pdfs may be imprecise.  Decrease dt to 0.01 or less.\n",
      "Warning: dt is large.  Estimated pdfs may be imprecise.  Decrease dt to 0.01 or less.\n",
      "Warning: dt is large.  Estimated pdfs may be imprecise.  Decrease dt to 0.01 or less.\n",
      "Warning: dt is large.  Estimated pdfs may be imprecise.  Decrease dt to 0.01 or less.\n",
      "Warning: dt is large.  Estimated pdfs may be imprecise.  Decrease dt to 0.01 or less.\n",
      "Warning: dt is large.  Estimated pdfs may be imprecise.  Decrease dt to 0.01 or less.\n",
      "Warning: dt is large.  Estimated pdfs may be imprecise.  Decrease dt to 0.01 or less.\n",
      "Warning: dt is large.  Estimated pdfs may be imprecise.  Decrease dt to 0.01 or less.\n",
      "Warning: dt is large.  Estimated pdfs may be imprecise.  Decrease dt to 0.01 or less.\n",
      "Warning: dt is large.  Estimated pdfs may be imprecise.  Decrease dt to 0.01 or less.\n",
      "Warning: dt is large.  Estimated pdfs may be imprecise.  Decrease dt to 0.01 or less.\n",
      "Warning: dt is large.  Estimated pdfs may be imprecise.  Decrease dt to 0.01 or less.\n",
      "Warning: dt is large.  Estimated pdfs may be imprecise.  Decrease dt to 0.01 or less.\n",
      "Warning: dt is large.  Estimated pdfs may be imprecise.  Decrease dt to 0.01 or less.\n",
      "Warning: dt is large.  Estimated pdfs may be imprecise.  Decrease dt to 0.01 or less.\n",
      "Warning: dt is large.  Estimated pdfs may be imprecise.  Decrease dt to 0.01 or less.\n",
      "Warning: dt is large.  Estimated pdfs may be imprecise.  Decrease dt to 0.01 or less.\n",
      "Warning: dt is large.  Estimated pdfs may be imprecise.  Decrease dt to 0.01 or less.\n",
      "Warning: dt is large.  Estimated pdfs may be imprecise.  Decrease dt to 0.01 or less.\n",
      "Warning: dt is large.  Estimated pdfs may be imprecise.  Decrease dt to 0.01 or less.\n",
      "Warning: dt is large.  Estimated pdfs may be imprecise.  Decrease dt to 0.01 or less.\n",
      "Warning: dt is large.  Estimated pdfs may be imprecise.  Decrease dt to 0.01 or less.\n",
      "Warning: dt is large.  Estimated pdfs may be imprecise.  Decrease dt to 0.01 or less.\n",
      "Warning: dt is large.  Estimated pdfs may be imprecise.  Decrease dt to 0.01 or less.\n",
      "Warning: dt is large.  Estimated pdfs may be imprecise.  Decrease dt to 0.01 or less.\n",
      "Warning: dt is large.  Estimated pdfs may be imprecise.  Decrease dt to 0.01 or less.\n",
      "Warning: dt is large.  Estimated pdfs may be imprecise.  Decrease dt to 0.01 or less.\n",
      "Warning: dt is large.  Estimated pdfs may be imprecise.  Decrease dt to 0.01 or less.\n",
      "Warning: dt is large.  Estimated pdfs may be imprecise.  Decrease dt to 0.01 or less.\n",
      "Warning: dt is large.  Estimated pdfs may be imprecise.  Decrease dt to 0.01 or less.\n",
      "Warning: dt is large.  Estimated pdfs may be imprecise.  Decrease dt to 0.01 or less.\n",
      "Warning: dt is large.  Estimated pdfs may be imprecise.  Decrease dt to 0.01 or less.\n",
      "Warning: dt is large.  Estimated pdfs may be imprecise.  Decrease dt to 0.01 or less.\n",
      "Warning: dt is large.  Estimated pdfs may be imprecise.  Decrease dt to 0.01 or less.\n",
      "Warning: dt is large.  Estimated pdfs may be imprecise.  Decrease dt to 0.01 or less.\n",
      "Warning: dt is large.  Estimated pdfs may be imprecise.  Decrease dt to 0.01 or less.\n",
      "Warning: dt is large.  Estimated pdfs may be imprecise.  Decrease dt to 0.01 or less.\n",
      "Warning: dt is large.  Estimated pdfs may be imprecise.  Decrease dt to 0.01 or less.\n",
      "Warning: dt is large.  Estimated pdfs may be imprecise.  Decrease dt to 0.01 or less.\n",
      "Warning: dt is large.  Estimated pdfs may be imprecise.  Decrease dt to 0.01 or less.\n",
      "Warning: dt is large.  Estimated pdfs may be imprecise.  Decrease dt to 0.01 or less.\n",
      "Warning: dt is large.  Estimated pdfs may be imprecise.  Decrease dt to 0.01 or less.\n",
      "Warning: dt is large.  Estimated pdfs may be imprecise.  Decrease dt to 0.01 or less.\n",
      "Warning: dt is large.  Estimated pdfs may be imprecise.  Decrease dt to 0.01 or less.\n",
      "Warning: dt is large.  Estimated pdfs may be imprecise.  Decrease dt to 0.01 or less.\n",
      "Warning: dt is large.  Estimated pdfs may be imprecise.  Decrease dt to 0.01 or less.\n",
      "Warning: dt is large.  Estimated pdfs may be imprecise.  Decrease dt to 0.01 or less.\n",
      "Warning: dt is large.  Estimated pdfs may be imprecise.  Decrease dt to 0.01 or less.\n",
      "Warning: dt is large.  Estimated pdfs may be imprecise.  Decrease dt to 0.01 or less.\n",
      "Warning: dt is large.  Estimated pdfs may be imprecise.  Decrease dt to 0.01 or less.\n",
      "Warning: dt is large.  Estimated pdfs may be imprecise.  Decrease dt to 0.01 or less.\n",
      "Warning: dt is large.  Estimated pdfs may be imprecise.  Decrease dt to 0.01 or less.\n",
      "Warning: dt is large.  Estimated pdfs may be imprecise.  Decrease dt to 0.01 or less.\n",
      "Warning: dt is large.  Estimated pdfs may be imprecise.  Decrease dt to 0.01 or less.\n",
      "Warning: dt is large.  Estimated pdfs may be imprecise.  Decrease dt to 0.01 or less.\n",
      "Warning: dt is large.  Estimated pdfs may be imprecise.  Decrease dt to 0.01 or less.\n",
      "Warning: dt is large.  Estimated pdfs may be imprecise.  Decrease dt to 0.01 or less.\n",
      "Warning: dt is large.  Estimated pdfs may be imprecise.  Decrease dt to 0.01 or less.\n",
      "Warning: dt is large.  Estimated pdfs may be imprecise.  Decrease dt to 0.01 or less.\n",
      "Warning: dt is large.  Estimated pdfs may be imprecise.  Decrease dt to 0.01 or less.\n",
      "Warning: dt is large.  Estimated pdfs may be imprecise.  Decrease dt to 0.01 or less.\n",
      "Warning: dt is large.  Estimated pdfs may be imprecise.  Decrease dt to 0.01 or less.\n",
      "Warning: dt is large.  Estimated pdfs may be imprecise.  Decrease dt to 0.01 or less.\n",
      "Warning: dt is large.  Estimated pdfs may be imprecise.  Decrease dt to 0.01 or less.\n",
      "Warning: dt is large.  Estimated pdfs may be imprecise.  Decrease dt to 0.01 or less.\n",
      "Warning: dt is large.  Estimated pdfs may be imprecise.  Decrease dt to 0.01 or less.\n",
      "Warning: dt is large.  Estimated pdfs may be imprecise.  Decrease dt to 0.01 or less.\n",
      "Warning: dt is large.  Estimated pdfs may be imprecise.  Decrease dt to 0.01 or less.\n",
      "Warning: dt is large.  Estimated pdfs may be imprecise.  Decrease dt to 0.01 or less.\n",
      "Warning: dt is large.  Estimated pdfs may be imprecise.  Decrease dt to 0.01 or less.\n",
      "Warning: dt is large.  Estimated pdfs may be imprecise.  Decrease dt to 0.01 or less.\n",
      "Warning: dt is large.  Estimated pdfs may be imprecise.  Decrease dt to 0.01 or less.\n",
      "Warning: dt is large.  Estimated pdfs may be imprecise.  Decrease dt to 0.01 or less.\n",
      "Warning: dt is large.  Estimated pdfs may be imprecise.  Decrease dt to 0.01 or less.\n",
      "Warning: dt is large.  Estimated pdfs may be imprecise.  Decrease dt to 0.01 or less.\n",
      "Warning: dt is large.  Estimated pdfs may be imprecise.  Decrease dt to 0.01 or less.\n",
      "Warning: dt is large.  Estimated pdfs may be imprecise.  Decrease dt to 0.01 or less.\n",
      "Warning: dt is large.  Estimated pdfs may be imprecise.  Decrease dt to 0.01 or less.\n",
      "Warning: dt is large.  Estimated pdfs may be imprecise.  Decrease dt to 0.01 or less.\n",
      "Warning: dt is large.  Estimated pdfs may be imprecise.  Decrease dt to 0.01 or less.\n",
      "Warning: dt is large.  Estimated pdfs may be imprecise.  Decrease dt to 0.01 or less.\n",
      "Warning: dt is large.  Estimated pdfs may be imprecise.  Decrease dt to 0.01 or less.\n",
      "Warning: dt is large.  Estimated pdfs may be imprecise.  Decrease dt to 0.01 or less.\n",
      "Warning: dt is large.  Estimated pdfs may be imprecise.  Decrease dt to 0.01 or less.\n"
     ]
    },
    {
     "name": "stderr",
     "output_type": "stream",
     "text": [
      "Warning: dt is large.  Estimated pdfs may be imprecise.  Decrease dt to 0.01 or less.\n",
      "Warning: dt is large.  Estimated pdfs may be imprecise.  Decrease dt to 0.01 or less.\n",
      "Warning: dt is large.  Estimated pdfs may be imprecise.  Decrease dt to 0.01 or less.\n",
      "Warning: dt is large.  Estimated pdfs may be imprecise.  Decrease dt to 0.01 or less.\n",
      "Warning: dt is large.  Estimated pdfs may be imprecise.  Decrease dt to 0.01 or less.\n",
      "Warning: dt is large.  Estimated pdfs may be imprecise.  Decrease dt to 0.01 or less.\n",
      "Warning: dt is large.  Estimated pdfs may be imprecise.  Decrease dt to 0.01 or less.\n",
      "Warning: dt is large.  Estimated pdfs may be imprecise.  Decrease dt to 0.01 or less.\n",
      "Warning: dt is large.  Estimated pdfs may be imprecise.  Decrease dt to 0.01 or less.\n",
      "Warning: dt is large.  Estimated pdfs may be imprecise.  Decrease dt to 0.01 or less.\n",
      "Warning: dt is large.  Estimated pdfs may be imprecise.  Decrease dt to 0.01 or less.\n",
      "Warning: dt is large.  Estimated pdfs may be imprecise.  Decrease dt to 0.01 or less.\n",
      "Warning: dt is large.  Estimated pdfs may be imprecise.  Decrease dt to 0.01 or less.\n",
      "Warning: dt is large.  Estimated pdfs may be imprecise.  Decrease dt to 0.01 or less.\n",
      "Warning: dt is large.  Estimated pdfs may be imprecise.  Decrease dt to 0.01 or less.\n",
      "Warning: dt is large.  Estimated pdfs may be imprecise.  Decrease dt to 0.01 or less.\n",
      "Warning: dt is large.  Estimated pdfs may be imprecise.  Decrease dt to 0.01 or less.\n",
      "Warning: dt is large.  Estimated pdfs may be imprecise.  Decrease dt to 0.01 or less.\n",
      "Warning: dt is large.  Estimated pdfs may be imprecise.  Decrease dt to 0.01 or less.\n",
      "Warning: dt is large.  Estimated pdfs may be imprecise.  Decrease dt to 0.01 or less.\n",
      "Warning: dt is large.  Estimated pdfs may be imprecise.  Decrease dt to 0.01 or less.\n",
      "Warning: dt is large.  Estimated pdfs may be imprecise.  Decrease dt to 0.01 or less.\n",
      "Warning: dt is large.  Estimated pdfs may be imprecise.  Decrease dt to 0.01 or less.\n",
      "Warning: dt is large.  Estimated pdfs may be imprecise.  Decrease dt to 0.01 or less.\n",
      "Warning: dt is large.  Estimated pdfs may be imprecise.  Decrease dt to 0.01 or less.\n",
      "Warning: dt is large.  Estimated pdfs may be imprecise.  Decrease dt to 0.01 or less.\n",
      "Warning: dt is large.  Estimated pdfs may be imprecise.  Decrease dt to 0.01 or less.\n",
      "Warning: dt is large.  Estimated pdfs may be imprecise.  Decrease dt to 0.01 or less.\n",
      "Warning: dt is large.  Estimated pdfs may be imprecise.  Decrease dt to 0.01 or less.\n",
      "Warning: dt is large.  Estimated pdfs may be imprecise.  Decrease dt to 0.01 or less.\n",
      "Warning: dt is large.  Estimated pdfs may be imprecise.  Decrease dt to 0.01 or less.\n",
      "Warning: dt is large.  Estimated pdfs may be imprecise.  Decrease dt to 0.01 or less.\n",
      "Warning: dt is large.  Estimated pdfs may be imprecise.  Decrease dt to 0.01 or less.\n",
      "Warning: dt is large.  Estimated pdfs may be imprecise.  Decrease dt to 0.01 or less.\n",
      "Warning: dt is large.  Estimated pdfs may be imprecise.  Decrease dt to 0.01 or less.\n",
      "Warning: dt is large.  Estimated pdfs may be imprecise.  Decrease dt to 0.01 or less.\n",
      "Warning: dt is large.  Estimated pdfs may be imprecise.  Decrease dt to 0.01 or less.\n",
      "Warning: dt is large.  Estimated pdfs may be imprecise.  Decrease dt to 0.01 or less.\n",
      "Warning: dt is large.  Estimated pdfs may be imprecise.  Decrease dt to 0.01 or less.\n",
      "Warning: dt is large.  Estimated pdfs may be imprecise.  Decrease dt to 0.01 or less.\n",
      "Warning: dt is large.  Estimated pdfs may be imprecise.  Decrease dt to 0.01 or less.\n",
      "Warning: dt is large.  Estimated pdfs may be imprecise.  Decrease dt to 0.01 or less.\n",
      "Warning: dt is large.  Estimated pdfs may be imprecise.  Decrease dt to 0.01 or less.\n",
      "Warning: dt is large.  Estimated pdfs may be imprecise.  Decrease dt to 0.01 or less.\n",
      "Warning: dt is large.  Estimated pdfs may be imprecise.  Decrease dt to 0.01 or less.\n",
      "Warning: dt is large.  Estimated pdfs may be imprecise.  Decrease dt to 0.01 or less.\n",
      "Warning: dt is large.  Estimated pdfs may be imprecise.  Decrease dt to 0.01 or less.\n",
      "Warning: dt is large.  Estimated pdfs may be imprecise.  Decrease dt to 0.01 or less.\n",
      "Warning: dt is large.  Estimated pdfs may be imprecise.  Decrease dt to 0.01 or less.\n",
      "Warning: dt is large.  Estimated pdfs may be imprecise.  Decrease dt to 0.01 or less.\n",
      "Warning: dt is large.  Estimated pdfs may be imprecise.  Decrease dt to 0.01 or less.\n",
      "Warning: dt is large.  Estimated pdfs may be imprecise.  Decrease dt to 0.01 or less.\n",
      "Warning: dt is large.  Estimated pdfs may be imprecise.  Decrease dt to 0.01 or less.\n",
      "Warning: dt is large.  Estimated pdfs may be imprecise.  Decrease dt to 0.01 or less.\n",
      "Warning: dt is large.  Estimated pdfs may be imprecise.  Decrease dt to 0.01 or less.\n",
      "Warning: dt is large.  Estimated pdfs may be imprecise.  Decrease dt to 0.01 or less.\n",
      "Warning: dt is large.  Estimated pdfs may be imprecise.  Decrease dt to 0.01 or less.\n",
      "Warning: dt is large.  Estimated pdfs may be imprecise.  Decrease dt to 0.01 or less.\n",
      "Warning: dt is large.  Estimated pdfs may be imprecise.  Decrease dt to 0.01 or less.\n",
      "Warning: dt is large.  Estimated pdfs may be imprecise.  Decrease dt to 0.01 or less.\n",
      "Warning: dt is large.  Estimated pdfs may be imprecise.  Decrease dt to 0.01 or less.\n",
      "Warning: dt is large.  Estimated pdfs may be imprecise.  Decrease dt to 0.01 or less.\n",
      "Warning: dt is large.  Estimated pdfs may be imprecise.  Decrease dt to 0.01 or less.\n",
      "Warning: dt is large.  Estimated pdfs may be imprecise.  Decrease dt to 0.01 or less.\n",
      "Warning: dt is large.  Estimated pdfs may be imprecise.  Decrease dt to 0.01 or less.\n",
      "Warning: dt is large.  Estimated pdfs may be imprecise.  Decrease dt to 0.01 or less.\n",
      "Warning: dt is large.  Estimated pdfs may be imprecise.  Decrease dt to 0.01 or less.\n",
      "Warning: dt is large.  Estimated pdfs may be imprecise.  Decrease dt to 0.01 or less.\n",
      "Warning: dt is large.  Estimated pdfs may be imprecise.  Decrease dt to 0.01 or less.\n",
      "Warning: dt is large.  Estimated pdfs may be imprecise.  Decrease dt to 0.01 or less.\n",
      "Warning: dt is large.  Estimated pdfs may be imprecise.  Decrease dt to 0.01 or less.\n",
      "Warning: dt is large.  Estimated pdfs may be imprecise.  Decrease dt to 0.01 or less.\n",
      "Warning: dt is large.  Estimated pdfs may be imprecise.  Decrease dt to 0.01 or less.\n",
      "Warning: dt is large.  Estimated pdfs may be imprecise.  Decrease dt to 0.01 or less.\n",
      "Warning: dt is large.  Estimated pdfs may be imprecise.  Decrease dt to 0.01 or less.\n",
      "Warning: dt is large.  Estimated pdfs may be imprecise.  Decrease dt to 0.01 or less.\n",
      "Warning: dt is large.  Estimated pdfs may be imprecise.  Decrease dt to 0.01 or less.\n",
      "Warning: dt is large.  Estimated pdfs may be imprecise.  Decrease dt to 0.01 or less.\n",
      "Warning: dt is large.  Estimated pdfs may be imprecise.  Decrease dt to 0.01 or less.\n",
      "Warning: dt is large.  Estimated pdfs may be imprecise.  Decrease dt to 0.01 or less.\n",
      "Warning: dt is large.  Estimated pdfs may be imprecise.  Decrease dt to 0.01 or less.\n",
      "Warning: dt is large.  Estimated pdfs may be imprecise.  Decrease dt to 0.01 or less.\n",
      "Warning: dt is large.  Estimated pdfs may be imprecise.  Decrease dt to 0.01 or less.\n",
      "Warning: dt is large.  Estimated pdfs may be imprecise.  Decrease dt to 0.01 or less.\n",
      "Warning: dt is large.  Estimated pdfs may be imprecise.  Decrease dt to 0.01 or less.\n",
      "Warning: dt is large.  Estimated pdfs may be imprecise.  Decrease dt to 0.01 or less.\n",
      "Warning: dt is large.  Estimated pdfs may be imprecise.  Decrease dt to 0.01 or less.\n",
      "Warning: dt is large.  Estimated pdfs may be imprecise.  Decrease dt to 0.01 or less.\n",
      "Warning: dt is large.  Estimated pdfs may be imprecise.  Decrease dt to 0.01 or less.\n",
      "Warning: dt is large.  Estimated pdfs may be imprecise.  Decrease dt to 0.01 or less.\n",
      "Warning: dt is large.  Estimated pdfs may be imprecise.  Decrease dt to 0.01 or less.\n",
      "Warning: dt is large.  Estimated pdfs may be imprecise.  Decrease dt to 0.01 or less.\n",
      "Warning: dt is large.  Estimated pdfs may be imprecise.  Decrease dt to 0.01 or less.\n",
      "Warning: dt is large.  Estimated pdfs may be imprecise.  Decrease dt to 0.01 or less.\n",
      "Warning: dt is large.  Estimated pdfs may be imprecise.  Decrease dt to 0.01 or less.\n",
      "Warning: dt is large.  Estimated pdfs may be imprecise.  Decrease dt to 0.01 or less.\n"
     ]
    },
    {
     "name": "stderr",
     "output_type": "stream",
     "text": [
      "Warning: dt is large.  Estimated pdfs may be imprecise.  Decrease dt to 0.01 or less.\n",
      "Warning: dt is large.  Estimated pdfs may be imprecise.  Decrease dt to 0.01 or less.\n",
      "Warning: dt is large.  Estimated pdfs may be imprecise.  Decrease dt to 0.01 or less.\n",
      "Warning: dt is large.  Estimated pdfs may be imprecise.  Decrease dt to 0.01 or less.\n",
      "Warning: dt is large.  Estimated pdfs may be imprecise.  Decrease dt to 0.01 or less.\n",
      "Warning: dt is large.  Estimated pdfs may be imprecise.  Decrease dt to 0.01 or less.\n",
      "Warning: dt is large.  Estimated pdfs may be imprecise.  Decrease dt to 0.01 or less.\n",
      "Warning: dt is large.  Estimated pdfs may be imprecise.  Decrease dt to 0.01 or less.\n",
      "Warning: dt is large.  Estimated pdfs may be imprecise.  Decrease dt to 0.01 or less.\n",
      "Warning: dt is large.  Estimated pdfs may be imprecise.  Decrease dt to 0.01 or less.\n",
      "Warning: dt is large.  Estimated pdfs may be imprecise.  Decrease dt to 0.01 or less.\n",
      "Warning: dt is large.  Estimated pdfs may be imprecise.  Decrease dt to 0.01 or less.\n",
      "Warning: dt is large.  Estimated pdfs may be imprecise.  Decrease dt to 0.01 or less.\n",
      "Warning: dt is large.  Estimated pdfs may be imprecise.  Decrease dt to 0.01 or less.\n",
      "Warning: dt is large.  Estimated pdfs may be imprecise.  Decrease dt to 0.01 or less.\n",
      "Warning: dt is large.  Estimated pdfs may be imprecise.  Decrease dt to 0.01 or less.\n",
      "Warning: dt is large.  Estimated pdfs may be imprecise.  Decrease dt to 0.01 or less.\n",
      "Warning: dt is large.  Estimated pdfs may be imprecise.  Decrease dt to 0.01 or less.\n",
      "Warning: dt is large.  Estimated pdfs may be imprecise.  Decrease dt to 0.01 or less.\n",
      "Warning: dt is large.  Estimated pdfs may be imprecise.  Decrease dt to 0.01 or less.\n",
      "Warning: dt is large.  Estimated pdfs may be imprecise.  Decrease dt to 0.01 or less.\n",
      "Warning: dt is large.  Estimated pdfs may be imprecise.  Decrease dt to 0.01 or less.\n",
      "Warning: dt is large.  Estimated pdfs may be imprecise.  Decrease dt to 0.01 or less.\n",
      "Warning: dt is large.  Estimated pdfs may be imprecise.  Decrease dt to 0.01 or less.\n",
      "Warning: dt is large.  Estimated pdfs may be imprecise.  Decrease dt to 0.01 or less.\n",
      "Warning: dt is large.  Estimated pdfs may be imprecise.  Decrease dt to 0.01 or less.\n",
      "Warning: dt is large.  Estimated pdfs may be imprecise.  Decrease dt to 0.01 or less.\n",
      "Warning: dt is large.  Estimated pdfs may be imprecise.  Decrease dt to 0.01 or less.\n",
      "Warning: dt is large.  Estimated pdfs may be imprecise.  Decrease dt to 0.01 or less.\n",
      "Warning: dt is large.  Estimated pdfs may be imprecise.  Decrease dt to 0.01 or less.\n",
      "Warning: dt is large.  Estimated pdfs may be imprecise.  Decrease dt to 0.01 or less.\n",
      "Warning: dt is large.  Estimated pdfs may be imprecise.  Decrease dt to 0.01 or less.\n",
      "Warning: dt is large.  Estimated pdfs may be imprecise.  Decrease dt to 0.01 or less.\n",
      "Warning: dt is large.  Estimated pdfs may be imprecise.  Decrease dt to 0.01 or less.\n",
      "Warning: dt is large.  Estimated pdfs may be imprecise.  Decrease dt to 0.01 or less.\n",
      "Warning: dt is large.  Estimated pdfs may be imprecise.  Decrease dt to 0.01 or less.\n",
      "Warning: dt is large.  Estimated pdfs may be imprecise.  Decrease dt to 0.01 or less.\n",
      "Warning: dt is large.  Estimated pdfs may be imprecise.  Decrease dt to 0.01 or less.\n",
      "Warning: dt is large.  Estimated pdfs may be imprecise.  Decrease dt to 0.01 or less.\n",
      "Warning: dt is large.  Estimated pdfs may be imprecise.  Decrease dt to 0.01 or less.\n",
      "Warning: dt is large.  Estimated pdfs may be imprecise.  Decrease dt to 0.01 or less.\n",
      "Warning: dt is large.  Estimated pdfs may be imprecise.  Decrease dt to 0.01 or less.\n",
      "Warning: dt is large.  Estimated pdfs may be imprecise.  Decrease dt to 0.01 or less.\n",
      "Warning: dt is large.  Estimated pdfs may be imprecise.  Decrease dt to 0.01 or less.\n",
      "Warning: dt is large.  Estimated pdfs may be imprecise.  Decrease dt to 0.01 or less.\n",
      "Warning: dt is large.  Estimated pdfs may be imprecise.  Decrease dt to 0.01 or less.\n",
      "Warning: dt is large.  Estimated pdfs may be imprecise.  Decrease dt to 0.01 or less.\n",
      "Warning: dt is large.  Estimated pdfs may be imprecise.  Decrease dt to 0.01 or less.\n",
      "Warning: dt is large.  Estimated pdfs may be imprecise.  Decrease dt to 0.01 or less.\n",
      "Warning: dt is large.  Estimated pdfs may be imprecise.  Decrease dt to 0.01 or less.\n",
      "Warning: dt is large.  Estimated pdfs may be imprecise.  Decrease dt to 0.01 or less.\n",
      "Warning: dt is large.  Estimated pdfs may be imprecise.  Decrease dt to 0.01 or less.\n",
      "Warning: dt is large.  Estimated pdfs may be imprecise.  Decrease dt to 0.01 or less.\n",
      "Warning: dt is large.  Estimated pdfs may be imprecise.  Decrease dt to 0.01 or less.\n",
      "Warning: dt is large.  Estimated pdfs may be imprecise.  Decrease dt to 0.01 or less.\n",
      "Warning: dt is large.  Estimated pdfs may be imprecise.  Decrease dt to 0.01 or less.\n",
      "Warning: dt is large.  Estimated pdfs may be imprecise.  Decrease dt to 0.01 or less.\n",
      "Warning: dt is large.  Estimated pdfs may be imprecise.  Decrease dt to 0.01 or less.\n",
      "Warning: dt is large.  Estimated pdfs may be imprecise.  Decrease dt to 0.01 or less.\n",
      "Warning: dt is large.  Estimated pdfs may be imprecise.  Decrease dt to 0.01 or less.\n",
      "Warning: dt is large.  Estimated pdfs may be imprecise.  Decrease dt to 0.01 or less.\n",
      "Warning: dt is large.  Estimated pdfs may be imprecise.  Decrease dt to 0.01 or less.\n",
      "Warning: dt is large.  Estimated pdfs may be imprecise.  Decrease dt to 0.01 or less.\n",
      "Warning: dt is large.  Estimated pdfs may be imprecise.  Decrease dt to 0.01 or less.\n",
      "Warning: dt is large.  Estimated pdfs may be imprecise.  Decrease dt to 0.01 or less.\n",
      "Warning: dt is large.  Estimated pdfs may be imprecise.  Decrease dt to 0.01 or less.\n",
      "Warning: dt is large.  Estimated pdfs may be imprecise.  Decrease dt to 0.01 or less.\n",
      "Warning: dt is large.  Estimated pdfs may be imprecise.  Decrease dt to 0.01 or less.\n",
      "Warning: dt is large.  Estimated pdfs may be imprecise.  Decrease dt to 0.01 or less.\n",
      "Warning: dt is large.  Estimated pdfs may be imprecise.  Decrease dt to 0.01 or less.\n",
      "Warning: dt is large.  Estimated pdfs may be imprecise.  Decrease dt to 0.01 or less.\n",
      "Warning: dt is large.  Estimated pdfs may be imprecise.  Decrease dt to 0.01 or less.\n",
      "Warning: dt is large.  Estimated pdfs may be imprecise.  Decrease dt to 0.01 or less.\n",
      "Warning: dt is large.  Estimated pdfs may be imprecise.  Decrease dt to 0.01 or less.\n",
      "Warning: dt is large.  Estimated pdfs may be imprecise.  Decrease dt to 0.01 or less.\n",
      "Warning: dt is large.  Estimated pdfs may be imprecise.  Decrease dt to 0.01 or less.\n",
      "Warning: dt is large.  Estimated pdfs may be imprecise.  Decrease dt to 0.01 or less.\n",
      "Warning: dt is large.  Estimated pdfs may be imprecise.  Decrease dt to 0.01 or less.\n",
      "Warning: dt is large.  Estimated pdfs may be imprecise.  Decrease dt to 0.01 or less.\n",
      "Warning: dt is large.  Estimated pdfs may be imprecise.  Decrease dt to 0.01 or less.\n",
      "Warning: dt is large.  Estimated pdfs may be imprecise.  Decrease dt to 0.01 or less.\n",
      "Warning: dt is large.  Estimated pdfs may be imprecise.  Decrease dt to 0.01 or less.\n",
      "Warning: dt is large.  Estimated pdfs may be imprecise.  Decrease dt to 0.01 or less.\n",
      "Warning: dt is large.  Estimated pdfs may be imprecise.  Decrease dt to 0.01 or less.\n",
      "Warning: dt is large.  Estimated pdfs may be imprecise.  Decrease dt to 0.01 or less.\n",
      "Warning: dt is large.  Estimated pdfs may be imprecise.  Decrease dt to 0.01 or less.\n",
      "Warning: dt is large.  Estimated pdfs may be imprecise.  Decrease dt to 0.01 or less.\n",
      "Warning: dt is large.  Estimated pdfs may be imprecise.  Decrease dt to 0.01 or less.\n",
      "Warning: dt is large.  Estimated pdfs may be imprecise.  Decrease dt to 0.01 or less.\n",
      "Warning: dt is large.  Estimated pdfs may be imprecise.  Decrease dt to 0.01 or less.\n",
      "Warning: dt is large.  Estimated pdfs may be imprecise.  Decrease dt to 0.01 or less.\n",
      "Warning: dt is large.  Estimated pdfs may be imprecise.  Decrease dt to 0.01 or less.\n",
      "Warning: dt is large.  Estimated pdfs may be imprecise.  Decrease dt to 0.01 or less.\n",
      "Warning: dt is large.  Estimated pdfs may be imprecise.  Decrease dt to 0.01 or less.\n",
      "Warning: dt is large.  Estimated pdfs may be imprecise.  Decrease dt to 0.01 or less.\n",
      "Warning: dt is large.  Estimated pdfs may be imprecise.  Decrease dt to 0.01 or less.\n"
     ]
    },
    {
     "name": "stderr",
     "output_type": "stream",
     "text": [
      "Warning: dt is large.  Estimated pdfs may be imprecise.  Decrease dt to 0.01 or less.\n",
      "Warning: dt is large.  Estimated pdfs may be imprecise.  Decrease dt to 0.01 or less.\n",
      "Warning: dt is large.  Estimated pdfs may be imprecise.  Decrease dt to 0.01 or less.\n",
      "Warning: dt is large.  Estimated pdfs may be imprecise.  Decrease dt to 0.01 or less.\n",
      "Warning: dt is large.  Estimated pdfs may be imprecise.  Decrease dt to 0.01 or less.\n",
      "Warning: dt is large.  Estimated pdfs may be imprecise.  Decrease dt to 0.01 or less.\n",
      "Warning: dt is large.  Estimated pdfs may be imprecise.  Decrease dt to 0.01 or less.\n",
      "Warning: dt is large.  Estimated pdfs may be imprecise.  Decrease dt to 0.01 or less.\n",
      "Warning: dt is large.  Estimated pdfs may be imprecise.  Decrease dt to 0.01 or less.\n",
      "Warning: dt is large.  Estimated pdfs may be imprecise.  Decrease dt to 0.01 or less.\n",
      "Warning: dt is large.  Estimated pdfs may be imprecise.  Decrease dt to 0.01 or less.\n",
      "Warning: dt is large.  Estimated pdfs may be imprecise.  Decrease dt to 0.01 or less.\n",
      "Warning: dt is large.  Estimated pdfs may be imprecise.  Decrease dt to 0.01 or less.\n",
      "Warning: dt is large.  Estimated pdfs may be imprecise.  Decrease dt to 0.01 or less.\n",
      "Warning: dt is large.  Estimated pdfs may be imprecise.  Decrease dt to 0.01 or less.\n",
      "Warning: dt is large.  Estimated pdfs may be imprecise.  Decrease dt to 0.01 or less.\n",
      "Warning: dt is large.  Estimated pdfs may be imprecise.  Decrease dt to 0.01 or less.\n",
      "Warning: dt is large.  Estimated pdfs may be imprecise.  Decrease dt to 0.01 or less.\n",
      "Warning: dt is large.  Estimated pdfs may be imprecise.  Decrease dt to 0.01 or less.\n",
      "Warning: dt is large.  Estimated pdfs may be imprecise.  Decrease dt to 0.01 or less.\n",
      "Warning: dt is large.  Estimated pdfs may be imprecise.  Decrease dt to 0.01 or less.\n",
      "Warning: dt is large.  Estimated pdfs may be imprecise.  Decrease dt to 0.01 or less.\n",
      "Warning: dt is large.  Estimated pdfs may be imprecise.  Decrease dt to 0.01 or less.\n",
      "Warning: dt is large.  Estimated pdfs may be imprecise.  Decrease dt to 0.01 or less.\n",
      "Warning: dt is large.  Estimated pdfs may be imprecise.  Decrease dt to 0.01 or less.\n",
      "Warning: dt is large.  Estimated pdfs may be imprecise.  Decrease dt to 0.01 or less.\n",
      "Warning: dt is large.  Estimated pdfs may be imprecise.  Decrease dt to 0.01 or less.\n",
      "Warning: dt is large.  Estimated pdfs may be imprecise.  Decrease dt to 0.01 or less.\n",
      "Warning: dt is large.  Estimated pdfs may be imprecise.  Decrease dt to 0.01 or less.\n",
      "Warning: dt is large.  Estimated pdfs may be imprecise.  Decrease dt to 0.01 or less.\n",
      "Warning: dt is large.  Estimated pdfs may be imprecise.  Decrease dt to 0.01 or less.\n",
      "Warning: dt is large.  Estimated pdfs may be imprecise.  Decrease dt to 0.01 or less.\n",
      "Warning: dt is large.  Estimated pdfs may be imprecise.  Decrease dt to 0.01 or less.\n",
      "Warning: dt is large.  Estimated pdfs may be imprecise.  Decrease dt to 0.01 or less.\n",
      "Warning: dt is large.  Estimated pdfs may be imprecise.  Decrease dt to 0.01 or less.\n",
      "Warning: dt is large.  Estimated pdfs may be imprecise.  Decrease dt to 0.01 or less.\n",
      "Warning: dt is large.  Estimated pdfs may be imprecise.  Decrease dt to 0.01 or less.\n",
      "Warning: dt is large.  Estimated pdfs may be imprecise.  Decrease dt to 0.01 or less.\n",
      "Warning: dt is large.  Estimated pdfs may be imprecise.  Decrease dt to 0.01 or less.\n",
      "Warning: dt is large.  Estimated pdfs may be imprecise.  Decrease dt to 0.01 or less.\n",
      "Warning: dt is large.  Estimated pdfs may be imprecise.  Decrease dt to 0.01 or less.\n",
      "Warning: dt is large.  Estimated pdfs may be imprecise.  Decrease dt to 0.01 or less.\n",
      "Warning: dt is large.  Estimated pdfs may be imprecise.  Decrease dt to 0.01 or less.\n",
      "Warning: dt is large.  Estimated pdfs may be imprecise.  Decrease dt to 0.01 or less.\n",
      "Warning: dt is large.  Estimated pdfs may be imprecise.  Decrease dt to 0.01 or less.\n",
      "Warning: dt is large.  Estimated pdfs may be imprecise.  Decrease dt to 0.01 or less.\n",
      "Warning: dt is large.  Estimated pdfs may be imprecise.  Decrease dt to 0.01 or less.\n",
      "Warning: dt is large.  Estimated pdfs may be imprecise.  Decrease dt to 0.01 or less.\n",
      "Warning: dt is large.  Estimated pdfs may be imprecise.  Decrease dt to 0.01 or less.\n",
      "Warning: dt is large.  Estimated pdfs may be imprecise.  Decrease dt to 0.01 or less.\n",
      "Warning: dt is large.  Estimated pdfs may be imprecise.  Decrease dt to 0.01 or less.\n",
      "Warning: dt is large.  Estimated pdfs may be imprecise.  Decrease dt to 0.01 or less.\n",
      "Warning: dt is large.  Estimated pdfs may be imprecise.  Decrease dt to 0.01 or less.\n",
      "Warning: dt is large.  Estimated pdfs may be imprecise.  Decrease dt to 0.01 or less.\n",
      "Warning: dt is large.  Estimated pdfs may be imprecise.  Decrease dt to 0.01 or less.\n",
      "Warning: dt is large.  Estimated pdfs may be imprecise.  Decrease dt to 0.01 or less.\n",
      "Warning: dt is large.  Estimated pdfs may be imprecise.  Decrease dt to 0.01 or less.\n",
      "Warning: dt is large.  Estimated pdfs may be imprecise.  Decrease dt to 0.01 or less.\n",
      "Warning: dt is large.  Estimated pdfs may be imprecise.  Decrease dt to 0.01 or less.\n",
      "Warning: dt is large.  Estimated pdfs may be imprecise.  Decrease dt to 0.01 or less.\n",
      "Warning: dt is large.  Estimated pdfs may be imprecise.  Decrease dt to 0.01 or less.\n",
      "Warning: dt is large.  Estimated pdfs may be imprecise.  Decrease dt to 0.01 or less.\n",
      "Warning: dt is large.  Estimated pdfs may be imprecise.  Decrease dt to 0.01 or less.\n",
      "Warning: dt is large.  Estimated pdfs may be imprecise.  Decrease dt to 0.01 or less.\n",
      "Warning: dt is large.  Estimated pdfs may be imprecise.  Decrease dt to 0.01 or less.\n",
      "Warning: dt is large.  Estimated pdfs may be imprecise.  Decrease dt to 0.01 or less.\n",
      "Warning: dt is large.  Estimated pdfs may be imprecise.  Decrease dt to 0.01 or less.\n",
      "Warning: dt is large.  Estimated pdfs may be imprecise.  Decrease dt to 0.01 or less.\n",
      "Warning: dt is large.  Estimated pdfs may be imprecise.  Decrease dt to 0.01 or less.\n",
      "Warning: dt is large.  Estimated pdfs may be imprecise.  Decrease dt to 0.01 or less.\n",
      "Warning: dt is large.  Estimated pdfs may be imprecise.  Decrease dt to 0.01 or less.\n",
      "Warning: dt is large.  Estimated pdfs may be imprecise.  Decrease dt to 0.01 or less.\n",
      "Warning: dt is large.  Estimated pdfs may be imprecise.  Decrease dt to 0.01 or less.\n",
      "Warning: dt is large.  Estimated pdfs may be imprecise.  Decrease dt to 0.01 or less.\n",
      "Warning: dt is large.  Estimated pdfs may be imprecise.  Decrease dt to 0.01 or less.\n",
      "Warning: dt is large.  Estimated pdfs may be imprecise.  Decrease dt to 0.01 or less.\n",
      "Warning: dt is large.  Estimated pdfs may be imprecise.  Decrease dt to 0.01 or less.\n",
      "Warning: dt is large.  Estimated pdfs may be imprecise.  Decrease dt to 0.01 or less.\n",
      "Warning: dt is large.  Estimated pdfs may be imprecise.  Decrease dt to 0.01 or less.\n",
      "Warning: dt is large.  Estimated pdfs may be imprecise.  Decrease dt to 0.01 or less.\n",
      "Warning: dt is large.  Estimated pdfs may be imprecise.  Decrease dt to 0.01 or less.\n",
      "Warning: dt is large.  Estimated pdfs may be imprecise.  Decrease dt to 0.01 or less.\n",
      "Warning: dt is large.  Estimated pdfs may be imprecise.  Decrease dt to 0.01 or less.\n",
      "Warning: dt is large.  Estimated pdfs may be imprecise.  Decrease dt to 0.01 or less.\n",
      "Warning: dt is large.  Estimated pdfs may be imprecise.  Decrease dt to 0.01 or less.\n",
      "Warning: dt is large.  Estimated pdfs may be imprecise.  Decrease dt to 0.01 or less.\n",
      "Warning: dt is large.  Estimated pdfs may be imprecise.  Decrease dt to 0.01 or less.\n",
      "Warning: dt is large.  Estimated pdfs may be imprecise.  Decrease dt to 0.01 or less.\n",
      "Warning: dt is large.  Estimated pdfs may be imprecise.  Decrease dt to 0.01 or less.\n",
      "Warning: dt is large.  Estimated pdfs may be imprecise.  Decrease dt to 0.01 or less.\n",
      "Warning: dt is large.  Estimated pdfs may be imprecise.  Decrease dt to 0.01 or less.\n",
      "Warning: dt is large.  Estimated pdfs may be imprecise.  Decrease dt to 0.01 or less.\n",
      "Warning: dt is large.  Estimated pdfs may be imprecise.  Decrease dt to 0.01 or less.\n",
      "Warning: dt is large.  Estimated pdfs may be imprecise.  Decrease dt to 0.01 or less.\n",
      "Warning: dt is large.  Estimated pdfs may be imprecise.  Decrease dt to 0.01 or less.\n",
      "Warning: dt is large.  Estimated pdfs may be imprecise.  Decrease dt to 0.01 or less.\n"
     ]
    },
    {
     "name": "stderr",
     "output_type": "stream",
     "text": [
      "Warning: dt is large.  Estimated pdfs may be imprecise.  Decrease dt to 0.01 or less.\n",
      "Warning: dt is large.  Estimated pdfs may be imprecise.  Decrease dt to 0.01 or less.\n",
      "Warning: dt is large.  Estimated pdfs may be imprecise.  Decrease dt to 0.01 or less.\n",
      "Warning: dt is large.  Estimated pdfs may be imprecise.  Decrease dt to 0.01 or less.\n",
      "Warning: dt is large.  Estimated pdfs may be imprecise.  Decrease dt to 0.01 or less.\n",
      "Warning: dt is large.  Estimated pdfs may be imprecise.  Decrease dt to 0.01 or less.\n",
      "Warning: dt is large.  Estimated pdfs may be imprecise.  Decrease dt to 0.01 or less.\n",
      "Warning: dt is large.  Estimated pdfs may be imprecise.  Decrease dt to 0.01 or less.\n",
      "Warning: dt is large.  Estimated pdfs may be imprecise.  Decrease dt to 0.01 or less.\n",
      "Warning: dt is large.  Estimated pdfs may be imprecise.  Decrease dt to 0.01 or less.\n",
      "Warning: dt is large.  Estimated pdfs may be imprecise.  Decrease dt to 0.01 or less.\n",
      "Warning: dt is large.  Estimated pdfs may be imprecise.  Decrease dt to 0.01 or less.\n",
      "Warning: dt is large.  Estimated pdfs may be imprecise.  Decrease dt to 0.01 or less.\n",
      "Warning: dt is large.  Estimated pdfs may be imprecise.  Decrease dt to 0.01 or less.\n",
      "Warning: dt is large.  Estimated pdfs may be imprecise.  Decrease dt to 0.01 or less.\n",
      "Warning: dt is large.  Estimated pdfs may be imprecise.  Decrease dt to 0.01 or less.\n",
      "Warning: dt is large.  Estimated pdfs may be imprecise.  Decrease dt to 0.01 or less.\n",
      "Warning: dt is large.  Estimated pdfs may be imprecise.  Decrease dt to 0.01 or less.\n",
      "Warning: dt is large.  Estimated pdfs may be imprecise.  Decrease dt to 0.01 or less.\n",
      "Warning: dt is large.  Estimated pdfs may be imprecise.  Decrease dt to 0.01 or less.\n",
      "Warning: dt is large.  Estimated pdfs may be imprecise.  Decrease dt to 0.01 or less.\n",
      "Warning: dt is large.  Estimated pdfs may be imprecise.  Decrease dt to 0.01 or less.\n",
      "Warning: dt is large.  Estimated pdfs may be imprecise.  Decrease dt to 0.01 or less.\n",
      "Warning: dt is large.  Estimated pdfs may be imprecise.  Decrease dt to 0.01 or less.\n",
      "Warning: dt is large.  Estimated pdfs may be imprecise.  Decrease dt to 0.01 or less.\n",
      "Warning: dt is large.  Estimated pdfs may be imprecise.  Decrease dt to 0.01 or less.\n",
      "Warning: dt is large.  Estimated pdfs may be imprecise.  Decrease dt to 0.01 or less.\n",
      "Warning: dt is large.  Estimated pdfs may be imprecise.  Decrease dt to 0.01 or less.\n",
      "Warning: dt is large.  Estimated pdfs may be imprecise.  Decrease dt to 0.01 or less.\n",
      "Warning: dt is large.  Estimated pdfs may be imprecise.  Decrease dt to 0.01 or less.\n",
      "Warning: dt is large.  Estimated pdfs may be imprecise.  Decrease dt to 0.01 or less.\n",
      "Warning: dt is large.  Estimated pdfs may be imprecise.  Decrease dt to 0.01 or less.\n",
      "Warning: dt is large.  Estimated pdfs may be imprecise.  Decrease dt to 0.01 or less.\n",
      "Warning: dt is large.  Estimated pdfs may be imprecise.  Decrease dt to 0.01 or less.\n",
      "Warning: dt is large.  Estimated pdfs may be imprecise.  Decrease dt to 0.01 or less.\n",
      "Warning: dt is large.  Estimated pdfs may be imprecise.  Decrease dt to 0.01 or less.\n",
      "Warning: dt is large.  Estimated pdfs may be imprecise.  Decrease dt to 0.01 or less.\n",
      "Warning: dt is large.  Estimated pdfs may be imprecise.  Decrease dt to 0.01 or less.\n",
      "Warning: dt is large.  Estimated pdfs may be imprecise.  Decrease dt to 0.01 or less.\n",
      "Warning: dt is large.  Estimated pdfs may be imprecise.  Decrease dt to 0.01 or less.\n",
      "Warning: dt is large.  Estimated pdfs may be imprecise.  Decrease dt to 0.01 or less.\n",
      "Warning: dt is large.  Estimated pdfs may be imprecise.  Decrease dt to 0.01 or less.\n",
      "Warning: dt is large.  Estimated pdfs may be imprecise.  Decrease dt to 0.01 or less.\n",
      "Warning: dt is large.  Estimated pdfs may be imprecise.  Decrease dt to 0.01 or less.\n",
      "Warning: dt is large.  Estimated pdfs may be imprecise.  Decrease dt to 0.01 or less.\n",
      "Warning: dt is large.  Estimated pdfs may be imprecise.  Decrease dt to 0.01 or less.\n",
      "Warning: dt is large.  Estimated pdfs may be imprecise.  Decrease dt to 0.01 or less.\n",
      "Warning: dt is large.  Estimated pdfs may be imprecise.  Decrease dt to 0.01 or less.\n",
      "Warning: dt is large.  Estimated pdfs may be imprecise.  Decrease dt to 0.01 or less.\n",
      "Warning: dt is large.  Estimated pdfs may be imprecise.  Decrease dt to 0.01 or less.\n",
      "Warning: dt is large.  Estimated pdfs may be imprecise.  Decrease dt to 0.01 or less.\n",
      "Warning: dt is large.  Estimated pdfs may be imprecise.  Decrease dt to 0.01 or less.\n",
      "Warning: dt is large.  Estimated pdfs may be imprecise.  Decrease dt to 0.01 or less.\n",
      "Warning: dt is large.  Estimated pdfs may be imprecise.  Decrease dt to 0.01 or less.\n",
      "Warning: dt is large.  Estimated pdfs may be imprecise.  Decrease dt to 0.01 or less.\n",
      "Warning: dt is large.  Estimated pdfs may be imprecise.  Decrease dt to 0.01 or less.\n",
      "Warning: dt is large.  Estimated pdfs may be imprecise.  Decrease dt to 0.01 or less.\n",
      "Warning: dt is large.  Estimated pdfs may be imprecise.  Decrease dt to 0.01 or less.\n",
      "Warning: dt is large.  Estimated pdfs may be imprecise.  Decrease dt to 0.01 or less.\n",
      "Warning: dt is large.  Estimated pdfs may be imprecise.  Decrease dt to 0.01 or less.\n",
      "Warning: dt is large.  Estimated pdfs may be imprecise.  Decrease dt to 0.01 or less.\n",
      "Warning: dt is large.  Estimated pdfs may be imprecise.  Decrease dt to 0.01 or less.\n",
      "Warning: dt is large.  Estimated pdfs may be imprecise.  Decrease dt to 0.01 or less.\n",
      "Warning: dt is large.  Estimated pdfs may be imprecise.  Decrease dt to 0.01 or less.\n",
      "Warning: dt is large.  Estimated pdfs may be imprecise.  Decrease dt to 0.01 or less.\n",
      "Warning: dt is large.  Estimated pdfs may be imprecise.  Decrease dt to 0.01 or less.\n",
      "Warning: dt is large.  Estimated pdfs may be imprecise.  Decrease dt to 0.01 or less.\n",
      "Warning: dt is large.  Estimated pdfs may be imprecise.  Decrease dt to 0.01 or less.\n",
      "Warning: dt is large.  Estimated pdfs may be imprecise.  Decrease dt to 0.01 or less.\n",
      "Warning: dt is large.  Estimated pdfs may be imprecise.  Decrease dt to 0.01 or less.\n",
      "Warning: dt is large.  Estimated pdfs may be imprecise.  Decrease dt to 0.01 or less.\n",
      "Warning: dt is large.  Estimated pdfs may be imprecise.  Decrease dt to 0.01 or less.\n",
      "Warning: dt is large.  Estimated pdfs may be imprecise.  Decrease dt to 0.01 or less.\n",
      "Warning: dt is large.  Estimated pdfs may be imprecise.  Decrease dt to 0.01 or less.\n",
      "Warning: dt is large.  Estimated pdfs may be imprecise.  Decrease dt to 0.01 or less.\n",
      "Warning: dt is large.  Estimated pdfs may be imprecise.  Decrease dt to 0.01 or less.\n",
      "Warning: dt is large.  Estimated pdfs may be imprecise.  Decrease dt to 0.01 or less.\n",
      "Warning: dt is large.  Estimated pdfs may be imprecise.  Decrease dt to 0.01 or less.\n",
      "Warning: dt is large.  Estimated pdfs may be imprecise.  Decrease dt to 0.01 or less.\n",
      "Warning: dt is large.  Estimated pdfs may be imprecise.  Decrease dt to 0.01 or less.\n",
      "Warning: dt is large.  Estimated pdfs may be imprecise.  Decrease dt to 0.01 or less.\n",
      "Warning: dt is large.  Estimated pdfs may be imprecise.  Decrease dt to 0.01 or less.\n",
      "Warning: dt is large.  Estimated pdfs may be imprecise.  Decrease dt to 0.01 or less.\n",
      "Warning: dt is large.  Estimated pdfs may be imprecise.  Decrease dt to 0.01 or less.\n",
      "Warning: dt is large.  Estimated pdfs may be imprecise.  Decrease dt to 0.01 or less.\n",
      "Warning: dt is large.  Estimated pdfs may be imprecise.  Decrease dt to 0.01 or less.\n",
      "Warning: dt is large.  Estimated pdfs may be imprecise.  Decrease dt to 0.01 or less.\n",
      "Warning: dt is large.  Estimated pdfs may be imprecise.  Decrease dt to 0.01 or less.\n",
      "Warning: dt is large.  Estimated pdfs may be imprecise.  Decrease dt to 0.01 or less.\n",
      "Warning: dt is large.  Estimated pdfs may be imprecise.  Decrease dt to 0.01 or less.\n",
      "Warning: dt is large.  Estimated pdfs may be imprecise.  Decrease dt to 0.01 or less.\n",
      "Warning: dt is large.  Estimated pdfs may be imprecise.  Decrease dt to 0.01 or less.\n",
      "Warning: dt is large.  Estimated pdfs may be imprecise.  Decrease dt to 0.01 or less.\n",
      "Warning: dt is large.  Estimated pdfs may be imprecise.  Decrease dt to 0.01 or less.\n",
      "Warning: dt is large.  Estimated pdfs may be imprecise.  Decrease dt to 0.01 or less.\n",
      "Warning: dt is large.  Estimated pdfs may be imprecise.  Decrease dt to 0.01 or less.\n"
     ]
    },
    {
     "name": "stderr",
     "output_type": "stream",
     "text": [
      "Warning: dt is large.  Estimated pdfs may be imprecise.  Decrease dt to 0.01 or less.\n",
      "Warning: dt is large.  Estimated pdfs may be imprecise.  Decrease dt to 0.01 or less.\n",
      "Warning: dt is large.  Estimated pdfs may be imprecise.  Decrease dt to 0.01 or less.\n",
      "Warning: dt is large.  Estimated pdfs may be imprecise.  Decrease dt to 0.01 or less.\n",
      "Warning: dt is large.  Estimated pdfs may be imprecise.  Decrease dt to 0.01 or less.\n",
      "Warning: dt is large.  Estimated pdfs may be imprecise.  Decrease dt to 0.01 or less.\n",
      "Warning: dt is large.  Estimated pdfs may be imprecise.  Decrease dt to 0.01 or less.\n",
      "Warning: dt is large.  Estimated pdfs may be imprecise.  Decrease dt to 0.01 or less.\n",
      "Warning: dt is large.  Estimated pdfs may be imprecise.  Decrease dt to 0.01 or less.\n",
      "Warning: dt is large.  Estimated pdfs may be imprecise.  Decrease dt to 0.01 or less.\n",
      "Warning: dt is large.  Estimated pdfs may be imprecise.  Decrease dt to 0.01 or less.\n",
      "Warning: dt is large.  Estimated pdfs may be imprecise.  Decrease dt to 0.01 or less.\n",
      "Warning: dt is large.  Estimated pdfs may be imprecise.  Decrease dt to 0.01 or less.\n",
      "Warning: dt is large.  Estimated pdfs may be imprecise.  Decrease dt to 0.01 or less.\n",
      "Warning: dt is large.  Estimated pdfs may be imprecise.  Decrease dt to 0.01 or less.\n",
      "Warning: dt is large.  Estimated pdfs may be imprecise.  Decrease dt to 0.01 or less.\n",
      "Warning: dt is large.  Estimated pdfs may be imprecise.  Decrease dt to 0.01 or less.\n",
      "Warning: dt is large.  Estimated pdfs may be imprecise.  Decrease dt to 0.01 or less.\n",
      "Warning: dt is large.  Estimated pdfs may be imprecise.  Decrease dt to 0.01 or less.\n",
      "Warning: dt is large.  Estimated pdfs may be imprecise.  Decrease dt to 0.01 or less.\n",
      "Warning: dt is large.  Estimated pdfs may be imprecise.  Decrease dt to 0.01 or less.\n",
      "Warning: dt is large.  Estimated pdfs may be imprecise.  Decrease dt to 0.01 or less.\n",
      "Warning: dt is large.  Estimated pdfs may be imprecise.  Decrease dt to 0.01 or less.\n",
      "Warning: dt is large.  Estimated pdfs may be imprecise.  Decrease dt to 0.01 or less.\n",
      "Warning: dt is large.  Estimated pdfs may be imprecise.  Decrease dt to 0.01 or less.\n",
      "Warning: dt is large.  Estimated pdfs may be imprecise.  Decrease dt to 0.01 or less.\n",
      "Warning: dt is large.  Estimated pdfs may be imprecise.  Decrease dt to 0.01 or less.\n",
      "Warning: dt is large.  Estimated pdfs may be imprecise.  Decrease dt to 0.01 or less.\n",
      "Warning: dt is large.  Estimated pdfs may be imprecise.  Decrease dt to 0.01 or less.\n",
      "Warning: dt is large.  Estimated pdfs may be imprecise.  Decrease dt to 0.01 or less.\n",
      "Warning: dt is large.  Estimated pdfs may be imprecise.  Decrease dt to 0.01 or less.\n",
      "Warning: dt is large.  Estimated pdfs may be imprecise.  Decrease dt to 0.01 or less.\n",
      "Warning: dt is large.  Estimated pdfs may be imprecise.  Decrease dt to 0.01 or less.\n",
      "Warning: dt is large.  Estimated pdfs may be imprecise.  Decrease dt to 0.01 or less.\n",
      "Warning: dt is large.  Estimated pdfs may be imprecise.  Decrease dt to 0.01 or less.\n",
      "Warning: dt is large.  Estimated pdfs may be imprecise.  Decrease dt to 0.01 or less.\n",
      "Warning: dt is large.  Estimated pdfs may be imprecise.  Decrease dt to 0.01 or less.\n",
      "Warning: dt is large.  Estimated pdfs may be imprecise.  Decrease dt to 0.01 or less.\n",
      "Warning: dt is large.  Estimated pdfs may be imprecise.  Decrease dt to 0.01 or less.\n",
      "Warning: dt is large.  Estimated pdfs may be imprecise.  Decrease dt to 0.01 or less.\n",
      "Warning: dt is large.  Estimated pdfs may be imprecise.  Decrease dt to 0.01 or less.\n",
      "Warning: dt is large.  Estimated pdfs may be imprecise.  Decrease dt to 0.01 or less.\n",
      "Warning: dt is large.  Estimated pdfs may be imprecise.  Decrease dt to 0.01 or less.\n",
      "Warning: dt is large.  Estimated pdfs may be imprecise.  Decrease dt to 0.01 or less.\n",
      "Warning: dt is large.  Estimated pdfs may be imprecise.  Decrease dt to 0.01 or less.\n",
      "Warning: dt is large.  Estimated pdfs may be imprecise.  Decrease dt to 0.01 or less.\n",
      "Warning: dt is large.  Estimated pdfs may be imprecise.  Decrease dt to 0.01 or less.\n",
      "Warning: dt is large.  Estimated pdfs may be imprecise.  Decrease dt to 0.01 or less.\n",
      "Warning: dt is large.  Estimated pdfs may be imprecise.  Decrease dt to 0.01 or less.\n",
      "Warning: dt is large.  Estimated pdfs may be imprecise.  Decrease dt to 0.01 or less.\n",
      "Warning: dt is large.  Estimated pdfs may be imprecise.  Decrease dt to 0.01 or less.\n",
      "Warning: dt is large.  Estimated pdfs may be imprecise.  Decrease dt to 0.01 or less.\n",
      "Warning: dt is large.  Estimated pdfs may be imprecise.  Decrease dt to 0.01 or less.\n",
      "Warning: dt is large.  Estimated pdfs may be imprecise.  Decrease dt to 0.01 or less.\n",
      "Warning: dt is large.  Estimated pdfs may be imprecise.  Decrease dt to 0.01 or less.\n",
      "Warning: dt is large.  Estimated pdfs may be imprecise.  Decrease dt to 0.01 or less.\n",
      "Warning: dt is large.  Estimated pdfs may be imprecise.  Decrease dt to 0.01 or less.\n",
      "Warning: dt is large.  Estimated pdfs may be imprecise.  Decrease dt to 0.01 or less.\n",
      "Warning: dt is large.  Estimated pdfs may be imprecise.  Decrease dt to 0.01 or less.\n",
      "Warning: dt is large.  Estimated pdfs may be imprecise.  Decrease dt to 0.01 or less.\n",
      "Warning: dt is large.  Estimated pdfs may be imprecise.  Decrease dt to 0.01 or less.\n",
      "Warning: dt is large.  Estimated pdfs may be imprecise.  Decrease dt to 0.01 or less.\n",
      "Warning: dt is large.  Estimated pdfs may be imprecise.  Decrease dt to 0.01 or less.\n",
      "Warning: dt is large.  Estimated pdfs may be imprecise.  Decrease dt to 0.01 or less.\n",
      "Warning: dt is large.  Estimated pdfs may be imprecise.  Decrease dt to 0.01 or less.\n",
      "Warning: dt is large.  Estimated pdfs may be imprecise.  Decrease dt to 0.01 or less.\n",
      "Warning: dt is large.  Estimated pdfs may be imprecise.  Decrease dt to 0.01 or less.\n",
      "Warning: dt is large.  Estimated pdfs may be imprecise.  Decrease dt to 0.01 or less.\n",
      "Warning: dt is large.  Estimated pdfs may be imprecise.  Decrease dt to 0.01 or less.\n",
      "Warning: dt is large.  Estimated pdfs may be imprecise.  Decrease dt to 0.01 or less.\n",
      "Warning: dt is large.  Estimated pdfs may be imprecise.  Decrease dt to 0.01 or less.\n",
      "Warning: dt is large.  Estimated pdfs may be imprecise.  Decrease dt to 0.01 or less.\n",
      "Warning: dt is large.  Estimated pdfs may be imprecise.  Decrease dt to 0.01 or less.\n",
      "Warning: dt is large.  Estimated pdfs may be imprecise.  Decrease dt to 0.01 or less.\n",
      "Warning: dt is large.  Estimated pdfs may be imprecise.  Decrease dt to 0.01 or less.\n",
      "Warning: dt is large.  Estimated pdfs may be imprecise.  Decrease dt to 0.01 or less.\n",
      "Warning: dt is large.  Estimated pdfs may be imprecise.  Decrease dt to 0.01 or less.\n",
      "Warning: dt is large.  Estimated pdfs may be imprecise.  Decrease dt to 0.01 or less.\n",
      "Warning: dt is large.  Estimated pdfs may be imprecise.  Decrease dt to 0.01 or less.\n",
      "Warning: dt is large.  Estimated pdfs may be imprecise.  Decrease dt to 0.01 or less.\n",
      "Warning: dt is large.  Estimated pdfs may be imprecise.  Decrease dt to 0.01 or less.\n",
      "Warning: dt is large.  Estimated pdfs may be imprecise.  Decrease dt to 0.01 or less.\n",
      "Warning: dt is large.  Estimated pdfs may be imprecise.  Decrease dt to 0.01 or less.\n",
      "Warning: dt is large.  Estimated pdfs may be imprecise.  Decrease dt to 0.01 or less.\n",
      "Warning: dt is large.  Estimated pdfs may be imprecise.  Decrease dt to 0.01 or less.\n",
      "Warning: dt is large.  Estimated pdfs may be imprecise.  Decrease dt to 0.01 or less.\n",
      "Warning: dt is large.  Estimated pdfs may be imprecise.  Decrease dt to 0.01 or less.\n",
      "Warning: dt is large.  Estimated pdfs may be imprecise.  Decrease dt to 0.01 or less.\n",
      "Warning: dt is large.  Estimated pdfs may be imprecise.  Decrease dt to 0.01 or less.\n",
      "Warning: dt is large.  Estimated pdfs may be imprecise.  Decrease dt to 0.01 or less.\n",
      "Warning: dt is large.  Estimated pdfs may be imprecise.  Decrease dt to 0.01 or less.\n",
      "Warning: dt is large.  Estimated pdfs may be imprecise.  Decrease dt to 0.01 or less.\n",
      "Warning: dt is large.  Estimated pdfs may be imprecise.  Decrease dt to 0.01 or less.\n",
      "Warning: dt is large.  Estimated pdfs may be imprecise.  Decrease dt to 0.01 or less.\n",
      "Warning: dt is large.  Estimated pdfs may be imprecise.  Decrease dt to 0.01 or less.\n",
      "Warning: dt is large.  Estimated pdfs may be imprecise.  Decrease dt to 0.01 or less.\n"
     ]
    },
    {
     "name": "stderr",
     "output_type": "stream",
     "text": [
      "Warning: dt is large.  Estimated pdfs may be imprecise.  Decrease dt to 0.01 or less.\n",
      "Warning: dt is large.  Estimated pdfs may be imprecise.  Decrease dt to 0.01 or less.\n",
      "Warning: dt is large.  Estimated pdfs may be imprecise.  Decrease dt to 0.01 or less.\n",
      "Warning: dt is large.  Estimated pdfs may be imprecise.  Decrease dt to 0.01 or less.\n",
      "Warning: dt is large.  Estimated pdfs may be imprecise.  Decrease dt to 0.01 or less.\n",
      "Warning: dt is large.  Estimated pdfs may be imprecise.  Decrease dt to 0.01 or less.\n",
      "Warning: dt is large.  Estimated pdfs may be imprecise.  Decrease dt to 0.01 or less.\n",
      "Warning: dt is large.  Estimated pdfs may be imprecise.  Decrease dt to 0.01 or less.\n",
      "Warning: dt is large.  Estimated pdfs may be imprecise.  Decrease dt to 0.01 or less.\n",
      "Warning: dt is large.  Estimated pdfs may be imprecise.  Decrease dt to 0.01 or less.\n",
      "Warning: dt is large.  Estimated pdfs may be imprecise.  Decrease dt to 0.01 or less.\n",
      "Warning: dt is large.  Estimated pdfs may be imprecise.  Decrease dt to 0.01 or less.\n",
      "Warning: dt is large.  Estimated pdfs may be imprecise.  Decrease dt to 0.01 or less.\n",
      "Warning: dt is large.  Estimated pdfs may be imprecise.  Decrease dt to 0.01 or less.\n",
      "Warning: dt is large.  Estimated pdfs may be imprecise.  Decrease dt to 0.01 or less.\n",
      "Warning: dt is large.  Estimated pdfs may be imprecise.  Decrease dt to 0.01 or less.\n",
      "Warning: dt is large.  Estimated pdfs may be imprecise.  Decrease dt to 0.01 or less.\n",
      "Warning: dt is large.  Estimated pdfs may be imprecise.  Decrease dt to 0.01 or less.\n",
      "Warning: dt is large.  Estimated pdfs may be imprecise.  Decrease dt to 0.01 or less.\n",
      "Warning: dt is large.  Estimated pdfs may be imprecise.  Decrease dt to 0.01 or less.\n",
      "Warning: dt is large.  Estimated pdfs may be imprecise.  Decrease dt to 0.01 or less.\n",
      "Warning: dt is large.  Estimated pdfs may be imprecise.  Decrease dt to 0.01 or less.\n",
      "Warning: dt is large.  Estimated pdfs may be imprecise.  Decrease dt to 0.01 or less.\n",
      "Warning: dt is large.  Estimated pdfs may be imprecise.  Decrease dt to 0.01 or less.\n",
      "Warning: dt is large.  Estimated pdfs may be imprecise.  Decrease dt to 0.01 or less.\n",
      "Warning: dt is large.  Estimated pdfs may be imprecise.  Decrease dt to 0.01 or less.\n",
      "Warning: dt is large.  Estimated pdfs may be imprecise.  Decrease dt to 0.01 or less.\n",
      "Warning: dt is large.  Estimated pdfs may be imprecise.  Decrease dt to 0.01 or less.\n",
      "Warning: dt is large.  Estimated pdfs may be imprecise.  Decrease dt to 0.01 or less.\n",
      "Warning: dt is large.  Estimated pdfs may be imprecise.  Decrease dt to 0.01 or less.\n",
      "Warning: dt is large.  Estimated pdfs may be imprecise.  Decrease dt to 0.01 or less.\n",
      "Warning: dt is large.  Estimated pdfs may be imprecise.  Decrease dt to 0.01 or less.\n",
      "Warning: dt is large.  Estimated pdfs may be imprecise.  Decrease dt to 0.01 or less.\n",
      "Warning: dt is large.  Estimated pdfs may be imprecise.  Decrease dt to 0.01 or less.\n",
      "Warning: dt is large.  Estimated pdfs may be imprecise.  Decrease dt to 0.01 or less.\n",
      "Warning: dt is large.  Estimated pdfs may be imprecise.  Decrease dt to 0.01 or less.\n",
      "Warning: dt is large.  Estimated pdfs may be imprecise.  Decrease dt to 0.01 or less.\n",
      "Warning: dt is large.  Estimated pdfs may be imprecise.  Decrease dt to 0.01 or less.\n",
      "Warning: dt is large.  Estimated pdfs may be imprecise.  Decrease dt to 0.01 or less.\n",
      "Warning: dt is large.  Estimated pdfs may be imprecise.  Decrease dt to 0.01 or less.\n",
      "Warning: dt is large.  Estimated pdfs may be imprecise.  Decrease dt to 0.01 or less.\n",
      "Warning: dt is large.  Estimated pdfs may be imprecise.  Decrease dt to 0.01 or less.\n",
      "Warning: dt is large.  Estimated pdfs may be imprecise.  Decrease dt to 0.01 or less.\n",
      "Warning: dt is large.  Estimated pdfs may be imprecise.  Decrease dt to 0.01 or less.\n",
      "Warning: dt is large.  Estimated pdfs may be imprecise.  Decrease dt to 0.01 or less.\n",
      "Warning: dt is large.  Estimated pdfs may be imprecise.  Decrease dt to 0.01 or less.\n",
      "Warning: dt is large.  Estimated pdfs may be imprecise.  Decrease dt to 0.01 or less.\n",
      "Warning: dt is large.  Estimated pdfs may be imprecise.  Decrease dt to 0.01 or less.\n",
      "Warning: dt is large.  Estimated pdfs may be imprecise.  Decrease dt to 0.01 or less.\n",
      "Warning: dt is large.  Estimated pdfs may be imprecise.  Decrease dt to 0.01 or less.\n",
      "Warning: dt is large.  Estimated pdfs may be imprecise.  Decrease dt to 0.01 or less.\n",
      "Warning: dt is large.  Estimated pdfs may be imprecise.  Decrease dt to 0.01 or less.\n",
      "Warning: dt is large.  Estimated pdfs may be imprecise.  Decrease dt to 0.01 or less.\n",
      "Warning: dt is large.  Estimated pdfs may be imprecise.  Decrease dt to 0.01 or less.\n",
      "Warning: dt is large.  Estimated pdfs may be imprecise.  Decrease dt to 0.01 or less.\n",
      "Warning: dt is large.  Estimated pdfs may be imprecise.  Decrease dt to 0.01 or less.\n",
      "Warning: dt is large.  Estimated pdfs may be imprecise.  Decrease dt to 0.01 or less.\n",
      "Warning: dt is large.  Estimated pdfs may be imprecise.  Decrease dt to 0.01 or less.\n",
      "Warning: dt is large.  Estimated pdfs may be imprecise.  Decrease dt to 0.01 or less.\n",
      "Warning: dt is large.  Estimated pdfs may be imprecise.  Decrease dt to 0.01 or less.\n",
      "Warning: dt is large.  Estimated pdfs may be imprecise.  Decrease dt to 0.01 or less.\n",
      "Warning: dt is large.  Estimated pdfs may be imprecise.  Decrease dt to 0.01 or less.\n",
      "Warning: dt is large.  Estimated pdfs may be imprecise.  Decrease dt to 0.01 or less.\n",
      "Warning: dt is large.  Estimated pdfs may be imprecise.  Decrease dt to 0.01 or less.\n",
      "Warning: dt is large.  Estimated pdfs may be imprecise.  Decrease dt to 0.01 or less.\n",
      "Warning: dt is large.  Estimated pdfs may be imprecise.  Decrease dt to 0.01 or less.\n",
      "Warning: dt is large.  Estimated pdfs may be imprecise.  Decrease dt to 0.01 or less.\n",
      "Warning: dt is large.  Estimated pdfs may be imprecise.  Decrease dt to 0.01 or less.\n",
      "Warning: dt is large.  Estimated pdfs may be imprecise.  Decrease dt to 0.01 or less.\n",
      "Warning: dt is large.  Estimated pdfs may be imprecise.  Decrease dt to 0.01 or less.\n",
      "Warning: dt is large.  Estimated pdfs may be imprecise.  Decrease dt to 0.01 or less.\n",
      "Warning: dt is large.  Estimated pdfs may be imprecise.  Decrease dt to 0.01 or less.\n",
      "Warning: dt is large.  Estimated pdfs may be imprecise.  Decrease dt to 0.01 or less.\n",
      "Warning: dt is large.  Estimated pdfs may be imprecise.  Decrease dt to 0.01 or less.\n",
      "Warning: dt is large.  Estimated pdfs may be imprecise.  Decrease dt to 0.01 or less.\n",
      "Warning: dt is large.  Estimated pdfs may be imprecise.  Decrease dt to 0.01 or less.\n",
      "Warning: dt is large.  Estimated pdfs may be imprecise.  Decrease dt to 0.01 or less.\n",
      "Warning: dt is large.  Estimated pdfs may be imprecise.  Decrease dt to 0.01 or less.\n",
      "Warning: dt is large.  Estimated pdfs may be imprecise.  Decrease dt to 0.01 or less.\n",
      "Warning: dt is large.  Estimated pdfs may be imprecise.  Decrease dt to 0.01 or less.\n",
      "Warning: dt is large.  Estimated pdfs may be imprecise.  Decrease dt to 0.01 or less.\n",
      "Warning: dt is large.  Estimated pdfs may be imprecise.  Decrease dt to 0.01 or less.\n",
      "Warning: dt is large.  Estimated pdfs may be imprecise.  Decrease dt to 0.01 or less.\n",
      "Warning: dt is large.  Estimated pdfs may be imprecise.  Decrease dt to 0.01 or less.\n",
      "Warning: dt is large.  Estimated pdfs may be imprecise.  Decrease dt to 0.01 or less.\n",
      "Warning: dt is large.  Estimated pdfs may be imprecise.  Decrease dt to 0.01 or less.\n",
      "Warning: dt is large.  Estimated pdfs may be imprecise.  Decrease dt to 0.01 or less.\n",
      "Warning: dt is large.  Estimated pdfs may be imprecise.  Decrease dt to 0.01 or less.\n",
      "Warning: dt is large.  Estimated pdfs may be imprecise.  Decrease dt to 0.01 or less.\n",
      "Warning: dt is large.  Estimated pdfs may be imprecise.  Decrease dt to 0.01 or less.\n",
      "Warning: dt is large.  Estimated pdfs may be imprecise.  Decrease dt to 0.01 or less.\n",
      "Warning: dt is large.  Estimated pdfs may be imprecise.  Decrease dt to 0.01 or less.\n",
      "Warning: dt is large.  Estimated pdfs may be imprecise.  Decrease dt to 0.01 or less.\n",
      "Warning: dt is large.  Estimated pdfs may be imprecise.  Decrease dt to 0.01 or less.\n",
      "Warning: dt is large.  Estimated pdfs may be imprecise.  Decrease dt to 0.01 or less.\n",
      "Warning: dt is large.  Estimated pdfs may be imprecise.  Decrease dt to 0.01 or less.\n"
     ]
    },
    {
     "name": "stderr",
     "output_type": "stream",
     "text": [
      "Warning: dt is large.  Estimated pdfs may be imprecise.  Decrease dt to 0.01 or less.\n",
      "Warning: dt is large.  Estimated pdfs may be imprecise.  Decrease dt to 0.01 or less.\n",
      "Warning: dt is large.  Estimated pdfs may be imprecise.  Decrease dt to 0.01 or less.\n",
      "Warning: dt is large.  Estimated pdfs may be imprecise.  Decrease dt to 0.01 or less.\n",
      "Warning: dt is large.  Estimated pdfs may be imprecise.  Decrease dt to 0.01 or less.\n",
      "Warning: dt is large.  Estimated pdfs may be imprecise.  Decrease dt to 0.01 or less.\n",
      "Warning: dt is large.  Estimated pdfs may be imprecise.  Decrease dt to 0.01 or less.\n",
      "Warning: dt is large.  Estimated pdfs may be imprecise.  Decrease dt to 0.01 or less.\n",
      "Warning: dt is large.  Estimated pdfs may be imprecise.  Decrease dt to 0.01 or less.\n",
      "Warning: dt is large.  Estimated pdfs may be imprecise.  Decrease dt to 0.01 or less.\n",
      "Warning: dt is large.  Estimated pdfs may be imprecise.  Decrease dt to 0.01 or less.\n",
      "Warning: dt is large.  Estimated pdfs may be imprecise.  Decrease dt to 0.01 or less.\n",
      "Warning: dt is large.  Estimated pdfs may be imprecise.  Decrease dt to 0.01 or less.\n",
      "Warning: dt is large.  Estimated pdfs may be imprecise.  Decrease dt to 0.01 or less.\n",
      "Warning: dt is large.  Estimated pdfs may be imprecise.  Decrease dt to 0.01 or less.\n",
      "Warning: dt is large.  Estimated pdfs may be imprecise.  Decrease dt to 0.01 or less.\n",
      "Warning: dt is large.  Estimated pdfs may be imprecise.  Decrease dt to 0.01 or less.\n",
      "Warning: dt is large.  Estimated pdfs may be imprecise.  Decrease dt to 0.01 or less.\n",
      "Warning: dt is large.  Estimated pdfs may be imprecise.  Decrease dt to 0.01 or less.\n",
      "Warning: dt is large.  Estimated pdfs may be imprecise.  Decrease dt to 0.01 or less.\n",
      "Warning: dt is large.  Estimated pdfs may be imprecise.  Decrease dt to 0.01 or less.\n",
      "Warning: dt is large.  Estimated pdfs may be imprecise.  Decrease dt to 0.01 or less.\n",
      "Warning: dt is large.  Estimated pdfs may be imprecise.  Decrease dt to 0.01 or less.\n",
      "Warning: dt is large.  Estimated pdfs may be imprecise.  Decrease dt to 0.01 or less.\n",
      "Warning: dt is large.  Estimated pdfs may be imprecise.  Decrease dt to 0.01 or less.\n",
      "Warning: dt is large.  Estimated pdfs may be imprecise.  Decrease dt to 0.01 or less.\n",
      "Warning: dt is large.  Estimated pdfs may be imprecise.  Decrease dt to 0.01 or less.\n",
      "Warning: dt is large.  Estimated pdfs may be imprecise.  Decrease dt to 0.01 or less.\n",
      "Warning: dt is large.  Estimated pdfs may be imprecise.  Decrease dt to 0.01 or less.\n",
      "Warning: dt is large.  Estimated pdfs may be imprecise.  Decrease dt to 0.01 or less.\n",
      "Warning: dt is large.  Estimated pdfs may be imprecise.  Decrease dt to 0.01 or less.\n",
      "Warning: dt is large.  Estimated pdfs may be imprecise.  Decrease dt to 0.01 or less.\n",
      "Warning: dt is large.  Estimated pdfs may be imprecise.  Decrease dt to 0.01 or less.\n",
      "Warning: dt is large.  Estimated pdfs may be imprecise.  Decrease dt to 0.01 or less.\n",
      "Warning: dt is large.  Estimated pdfs may be imprecise.  Decrease dt to 0.01 or less.\n",
      "Warning: dt is large.  Estimated pdfs may be imprecise.  Decrease dt to 0.01 or less.\n",
      "Warning: dt is large.  Estimated pdfs may be imprecise.  Decrease dt to 0.01 or less.\n",
      "Warning: dt is large.  Estimated pdfs may be imprecise.  Decrease dt to 0.01 or less.\n",
      "Warning: dt is large.  Estimated pdfs may be imprecise.  Decrease dt to 0.01 or less.\n",
      "Warning: dt is large.  Estimated pdfs may be imprecise.  Decrease dt to 0.01 or less.\n",
      "Warning: dt is large.  Estimated pdfs may be imprecise.  Decrease dt to 0.01 or less.\n",
      "Warning: dt is large.  Estimated pdfs may be imprecise.  Decrease dt to 0.01 or less.\n",
      "Warning: dt is large.  Estimated pdfs may be imprecise.  Decrease dt to 0.01 or less.\n",
      "Warning: dt is large.  Estimated pdfs may be imprecise.  Decrease dt to 0.01 or less.\n",
      "Warning: dt is large.  Estimated pdfs may be imprecise.  Decrease dt to 0.01 or less.\n",
      "Warning: dt is large.  Estimated pdfs may be imprecise.  Decrease dt to 0.01 or less.\n",
      "Warning: dt is large.  Estimated pdfs may be imprecise.  Decrease dt to 0.01 or less.\n",
      "Warning: dt is large.  Estimated pdfs may be imprecise.  Decrease dt to 0.01 or less.\n",
      "Warning: dt is large.  Estimated pdfs may be imprecise.  Decrease dt to 0.01 or less.\n",
      "Warning: dt is large.  Estimated pdfs may be imprecise.  Decrease dt to 0.01 or less.\n",
      "Warning: dt is large.  Estimated pdfs may be imprecise.  Decrease dt to 0.01 or less.\n",
      "Warning: dt is large.  Estimated pdfs may be imprecise.  Decrease dt to 0.01 or less.\n",
      "Warning: dt is large.  Estimated pdfs may be imprecise.  Decrease dt to 0.01 or less.\n",
      "Warning: dt is large.  Estimated pdfs may be imprecise.  Decrease dt to 0.01 or less.\n",
      "Warning: dt is large.  Estimated pdfs may be imprecise.  Decrease dt to 0.01 or less.\n",
      "Warning: dt is large.  Estimated pdfs may be imprecise.  Decrease dt to 0.01 or less.\n",
      "Warning: dt is large.  Estimated pdfs may be imprecise.  Decrease dt to 0.01 or less.\n",
      "Warning: dt is large.  Estimated pdfs may be imprecise.  Decrease dt to 0.01 or less.\n",
      "Warning: dt is large.  Estimated pdfs may be imprecise.  Decrease dt to 0.01 or less.\n",
      "Warning: dt is large.  Estimated pdfs may be imprecise.  Decrease dt to 0.01 or less.\n",
      "Warning: dt is large.  Estimated pdfs may be imprecise.  Decrease dt to 0.01 or less.\n",
      "Warning: dt is large.  Estimated pdfs may be imprecise.  Decrease dt to 0.01 or less.\n",
      "Warning: dt is large.  Estimated pdfs may be imprecise.  Decrease dt to 0.01 or less.\n",
      "Warning: dt is large.  Estimated pdfs may be imprecise.  Decrease dt to 0.01 or less.\n",
      "Warning: dt is large.  Estimated pdfs may be imprecise.  Decrease dt to 0.01 or less.\n",
      "Warning: dt is large.  Estimated pdfs may be imprecise.  Decrease dt to 0.01 or less.\n",
      "Warning: dt is large.  Estimated pdfs may be imprecise.  Decrease dt to 0.01 or less.\n",
      "Warning: dt is large.  Estimated pdfs may be imprecise.  Decrease dt to 0.01 or less.\n",
      "Warning: dt is large.  Estimated pdfs may be imprecise.  Decrease dt to 0.01 or less.\n",
      "Warning: dt is large.  Estimated pdfs may be imprecise.  Decrease dt to 0.01 or less.\n",
      "Warning: dt is large.  Estimated pdfs may be imprecise.  Decrease dt to 0.01 or less.\n",
      "Warning: dt is large.  Estimated pdfs may be imprecise.  Decrease dt to 0.01 or less.\n",
      "Warning: dt is large.  Estimated pdfs may be imprecise.  Decrease dt to 0.01 or less.\n",
      "Warning: dt is large.  Estimated pdfs may be imprecise.  Decrease dt to 0.01 or less.\n",
      "Warning: dt is large.  Estimated pdfs may be imprecise.  Decrease dt to 0.01 or less.\n",
      "Warning: dt is large.  Estimated pdfs may be imprecise.  Decrease dt to 0.01 or less.\n",
      "Warning: dt is large.  Estimated pdfs may be imprecise.  Decrease dt to 0.01 or less.\n",
      "Warning: dt is large.  Estimated pdfs may be imprecise.  Decrease dt to 0.01 or less.\n",
      "Warning: dt is large.  Estimated pdfs may be imprecise.  Decrease dt to 0.01 or less.\n",
      "Warning: dt is large.  Estimated pdfs may be imprecise.  Decrease dt to 0.01 or less.\n",
      "Warning: dt is large.  Estimated pdfs may be imprecise.  Decrease dt to 0.01 or less.\n",
      "Warning: dt is large.  Estimated pdfs may be imprecise.  Decrease dt to 0.01 or less.\n",
      "Warning: dt is large.  Estimated pdfs may be imprecise.  Decrease dt to 0.01 or less.\n",
      "Warning: dt is large.  Estimated pdfs may be imprecise.  Decrease dt to 0.01 or less.\n",
      "Warning: dt is large.  Estimated pdfs may be imprecise.  Decrease dt to 0.01 or less.\n",
      "Warning: dt is large.  Estimated pdfs may be imprecise.  Decrease dt to 0.01 or less.\n",
      "Warning: dt is large.  Estimated pdfs may be imprecise.  Decrease dt to 0.01 or less.\n",
      "Warning: dt is large.  Estimated pdfs may be imprecise.  Decrease dt to 0.01 or less.\n",
      "Warning: dt is large.  Estimated pdfs may be imprecise.  Decrease dt to 0.01 or less.\n",
      "Warning: dt is large.  Estimated pdfs may be imprecise.  Decrease dt to 0.01 or less.\n",
      "Warning: dt is large.  Estimated pdfs may be imprecise.  Decrease dt to 0.01 or less.\n",
      "Warning: dt is large.  Estimated pdfs may be imprecise.  Decrease dt to 0.01 or less.\n",
      "Warning: dt is large.  Estimated pdfs may be imprecise.  Decrease dt to 0.01 or less.\n",
      "Warning: dt is large.  Estimated pdfs may be imprecise.  Decrease dt to 0.01 or less.\n",
      "Warning: dt is large.  Estimated pdfs may be imprecise.  Decrease dt to 0.01 or less.\n",
      "Warning: dt is large.  Estimated pdfs may be imprecise.  Decrease dt to 0.01 or less.\n"
     ]
    },
    {
     "name": "stderr",
     "output_type": "stream",
     "text": [
      "Warning: dt is large.  Estimated pdfs may be imprecise.  Decrease dt to 0.01 or less.\n",
      "Warning: dt is large.  Estimated pdfs may be imprecise.  Decrease dt to 0.01 or less.\n",
      "Warning: dt is large.  Estimated pdfs may be imprecise.  Decrease dt to 0.01 or less.\n",
      "Warning: dt is large.  Estimated pdfs may be imprecise.  Decrease dt to 0.01 or less.\n",
      "Warning: dt is large.  Estimated pdfs may be imprecise.  Decrease dt to 0.01 or less.\n",
      "Warning: dt is large.  Estimated pdfs may be imprecise.  Decrease dt to 0.01 or less.\n",
      "Warning: dt is large.  Estimated pdfs may be imprecise.  Decrease dt to 0.01 or less.\n",
      "Warning: dt is large.  Estimated pdfs may be imprecise.  Decrease dt to 0.01 or less.\n",
      "Warning: dt is large.  Estimated pdfs may be imprecise.  Decrease dt to 0.01 or less.\n",
      "Warning: dt is large.  Estimated pdfs may be imprecise.  Decrease dt to 0.01 or less.\n",
      "Warning: dt is large.  Estimated pdfs may be imprecise.  Decrease dt to 0.01 or less.\n",
      "Warning: dt is large.  Estimated pdfs may be imprecise.  Decrease dt to 0.01 or less.\n",
      "Warning: dt is large.  Estimated pdfs may be imprecise.  Decrease dt to 0.01 or less.\n",
      "Warning: dt is large.  Estimated pdfs may be imprecise.  Decrease dt to 0.01 or less.\n",
      "Warning: dt is large.  Estimated pdfs may be imprecise.  Decrease dt to 0.01 or less.\n",
      "Warning: dt is large.  Estimated pdfs may be imprecise.  Decrease dt to 0.01 or less.\n",
      "Warning: dt is large.  Estimated pdfs may be imprecise.  Decrease dt to 0.01 or less.\n",
      "Warning: dt is large.  Estimated pdfs may be imprecise.  Decrease dt to 0.01 or less.\n",
      "Warning: dt is large.  Estimated pdfs may be imprecise.  Decrease dt to 0.01 or less.\n",
      "Warning: dt is large.  Estimated pdfs may be imprecise.  Decrease dt to 0.01 or less.\n",
      "Warning: dt is large.  Estimated pdfs may be imprecise.  Decrease dt to 0.01 or less.\n",
      "Warning: dt is large.  Estimated pdfs may be imprecise.  Decrease dt to 0.01 or less.\n",
      "Warning: dt is large.  Estimated pdfs may be imprecise.  Decrease dt to 0.01 or less.\n",
      "Warning: dt is large.  Estimated pdfs may be imprecise.  Decrease dt to 0.01 or less.\n",
      "Warning: dt is large.  Estimated pdfs may be imprecise.  Decrease dt to 0.01 or less.\n",
      "Warning: dt is large.  Estimated pdfs may be imprecise.  Decrease dt to 0.01 or less.\n",
      "Warning: dt is large.  Estimated pdfs may be imprecise.  Decrease dt to 0.01 or less.\n",
      "Warning: dt is large.  Estimated pdfs may be imprecise.  Decrease dt to 0.01 or less.\n",
      "Warning: dt is large.  Estimated pdfs may be imprecise.  Decrease dt to 0.01 or less.\n",
      "Warning: dt is large.  Estimated pdfs may be imprecise.  Decrease dt to 0.01 or less.\n",
      "Warning: dt is large.  Estimated pdfs may be imprecise.  Decrease dt to 0.01 or less.\n",
      "Warning: dt is large.  Estimated pdfs may be imprecise.  Decrease dt to 0.01 or less.\n",
      "Warning: dt is large.  Estimated pdfs may be imprecise.  Decrease dt to 0.01 or less.\n",
      "Warning: dt is large.  Estimated pdfs may be imprecise.  Decrease dt to 0.01 or less.\n",
      "Warning: dt is large.  Estimated pdfs may be imprecise.  Decrease dt to 0.01 or less.\n",
      "Warning: dt is large.  Estimated pdfs may be imprecise.  Decrease dt to 0.01 or less.\n",
      "Warning: dt is large.  Estimated pdfs may be imprecise.  Decrease dt to 0.01 or less.\n",
      "Warning: dt is large.  Estimated pdfs may be imprecise.  Decrease dt to 0.01 or less.\n",
      "Warning: dt is large.  Estimated pdfs may be imprecise.  Decrease dt to 0.01 or less.\n",
      "Warning: dt is large.  Estimated pdfs may be imprecise.  Decrease dt to 0.01 or less.\n",
      "Warning: dt is large.  Estimated pdfs may be imprecise.  Decrease dt to 0.01 or less.\n",
      "Warning: dt is large.  Estimated pdfs may be imprecise.  Decrease dt to 0.01 or less.\n",
      "Warning: dt is large.  Estimated pdfs may be imprecise.  Decrease dt to 0.01 or less.\n",
      "Warning: dt is large.  Estimated pdfs may be imprecise.  Decrease dt to 0.01 or less.\n",
      "Warning: dt is large.  Estimated pdfs may be imprecise.  Decrease dt to 0.01 or less.\n",
      "Warning: dt is large.  Estimated pdfs may be imprecise.  Decrease dt to 0.01 or less.\n",
      "Warning: dt is large.  Estimated pdfs may be imprecise.  Decrease dt to 0.01 or less.\n",
      "Warning: dt is large.  Estimated pdfs may be imprecise.  Decrease dt to 0.01 or less.\n",
      "Warning: dt is large.  Estimated pdfs may be imprecise.  Decrease dt to 0.01 or less.\n",
      "Warning: dt is large.  Estimated pdfs may be imprecise.  Decrease dt to 0.01 or less.\n",
      "Warning: dt is large.  Estimated pdfs may be imprecise.  Decrease dt to 0.01 or less.\n",
      "Warning: dt is large.  Estimated pdfs may be imprecise.  Decrease dt to 0.01 or less.\n",
      "Warning: dt is large.  Estimated pdfs may be imprecise.  Decrease dt to 0.01 or less.\n",
      "Warning: dt is large.  Estimated pdfs may be imprecise.  Decrease dt to 0.01 or less.\n",
      "Warning: dt is large.  Estimated pdfs may be imprecise.  Decrease dt to 0.01 or less.\n",
      "Warning: dt is large.  Estimated pdfs may be imprecise.  Decrease dt to 0.01 or less.\n",
      "Warning: dt is large.  Estimated pdfs may be imprecise.  Decrease dt to 0.01 or less.\n",
      "Warning: dt is large.  Estimated pdfs may be imprecise.  Decrease dt to 0.01 or less.\n",
      "Warning: dt is large.  Estimated pdfs may be imprecise.  Decrease dt to 0.01 or less.\n",
      "Warning: dt is large.  Estimated pdfs may be imprecise.  Decrease dt to 0.01 or less.\n",
      "Warning: dt is large.  Estimated pdfs may be imprecise.  Decrease dt to 0.01 or less.\n",
      "Warning: dt is large.  Estimated pdfs may be imprecise.  Decrease dt to 0.01 or less.\n",
      "Warning: dt is large.  Estimated pdfs may be imprecise.  Decrease dt to 0.01 or less.\n",
      "Warning: dt is large.  Estimated pdfs may be imprecise.  Decrease dt to 0.01 or less.\n",
      "Warning: dt is large.  Estimated pdfs may be imprecise.  Decrease dt to 0.01 or less.\n",
      "Warning: dt is large.  Estimated pdfs may be imprecise.  Decrease dt to 0.01 or less.\n",
      "Warning: dt is large.  Estimated pdfs may be imprecise.  Decrease dt to 0.01 or less.\n",
      "Warning: dt is large.  Estimated pdfs may be imprecise.  Decrease dt to 0.01 or less.\n",
      "Warning: dt is large.  Estimated pdfs may be imprecise.  Decrease dt to 0.01 or less.\n",
      "Warning: dt is large.  Estimated pdfs may be imprecise.  Decrease dt to 0.01 or less.\n",
      "Warning: dt is large.  Estimated pdfs may be imprecise.  Decrease dt to 0.01 or less.\n",
      "Warning: dt is large.  Estimated pdfs may be imprecise.  Decrease dt to 0.01 or less.\n",
      "Warning: dt is large.  Estimated pdfs may be imprecise.  Decrease dt to 0.01 or less.\n",
      "Warning: dt is large.  Estimated pdfs may be imprecise.  Decrease dt to 0.01 or less.\n",
      "Warning: dt is large.  Estimated pdfs may be imprecise.  Decrease dt to 0.01 or less.\n",
      "Warning: dt is large.  Estimated pdfs may be imprecise.  Decrease dt to 0.01 or less.\n",
      "Warning: dt is large.  Estimated pdfs may be imprecise.  Decrease dt to 0.01 or less.\n",
      "Warning: dt is large.  Estimated pdfs may be imprecise.  Decrease dt to 0.01 or less.\n",
      "Warning: dt is large.  Estimated pdfs may be imprecise.  Decrease dt to 0.01 or less.\n",
      "Warning: dt is large.  Estimated pdfs may be imprecise.  Decrease dt to 0.01 or less.\n",
      "Warning: dt is large.  Estimated pdfs may be imprecise.  Decrease dt to 0.01 or less.\n",
      "Warning: dt is large.  Estimated pdfs may be imprecise.  Decrease dt to 0.01 or less.\n",
      "Warning: dt is large.  Estimated pdfs may be imprecise.  Decrease dt to 0.01 or less.\n",
      "Warning: dt is large.  Estimated pdfs may be imprecise.  Decrease dt to 0.01 or less.\n",
      "Warning: dt is large.  Estimated pdfs may be imprecise.  Decrease dt to 0.01 or less.\n",
      "Warning: dt is large.  Estimated pdfs may be imprecise.  Decrease dt to 0.01 or less.\n",
      "Warning: dt is large.  Estimated pdfs may be imprecise.  Decrease dt to 0.01 or less.\n",
      "Warning: dt is large.  Estimated pdfs may be imprecise.  Decrease dt to 0.01 or less.\n",
      "Warning: dt is large.  Estimated pdfs may be imprecise.  Decrease dt to 0.01 or less.\n",
      "Warning: dt is large.  Estimated pdfs may be imprecise.  Decrease dt to 0.01 or less.\n",
      "Warning: dt is large.  Estimated pdfs may be imprecise.  Decrease dt to 0.01 or less.\n",
      "Warning: dt is large.  Estimated pdfs may be imprecise.  Decrease dt to 0.01 or less.\n",
      "Warning: dt is large.  Estimated pdfs may be imprecise.  Decrease dt to 0.01 or less.\n",
      "Warning: dt is large.  Estimated pdfs may be imprecise.  Decrease dt to 0.01 or less.\n",
      "Warning: dt is large.  Estimated pdfs may be imprecise.  Decrease dt to 0.01 or less.\n",
      "Warning: dt is large.  Estimated pdfs may be imprecise.  Decrease dt to 0.01 or less.\n"
     ]
    },
    {
     "name": "stderr",
     "output_type": "stream",
     "text": [
      "Warning: dt is large.  Estimated pdfs may be imprecise.  Decrease dt to 0.01 or less.\n",
      "Warning: dt is large.  Estimated pdfs may be imprecise.  Decrease dt to 0.01 or less.\n",
      "Warning: dt is large.  Estimated pdfs may be imprecise.  Decrease dt to 0.01 or less.\n",
      "Warning: dt is large.  Estimated pdfs may be imprecise.  Decrease dt to 0.01 or less.\n",
      "Warning: dt is large.  Estimated pdfs may be imprecise.  Decrease dt to 0.01 or less.\n",
      "Warning: dt is large.  Estimated pdfs may be imprecise.  Decrease dt to 0.01 or less.\n",
      "Warning: dt is large.  Estimated pdfs may be imprecise.  Decrease dt to 0.01 or less.\n",
      "Warning: dt is large.  Estimated pdfs may be imprecise.  Decrease dt to 0.01 or less.\n",
      "Warning: dt is large.  Estimated pdfs may be imprecise.  Decrease dt to 0.01 or less.\n",
      "Warning: dt is large.  Estimated pdfs may be imprecise.  Decrease dt to 0.01 or less.\n",
      "Warning: dt is large.  Estimated pdfs may be imprecise.  Decrease dt to 0.01 or less.\n",
      "Warning: dt is large.  Estimated pdfs may be imprecise.  Decrease dt to 0.01 or less.\n",
      "Warning: dt is large.  Estimated pdfs may be imprecise.  Decrease dt to 0.01 or less.\n",
      "Warning: dt is large.  Estimated pdfs may be imprecise.  Decrease dt to 0.01 or less.\n",
      "Warning: dt is large.  Estimated pdfs may be imprecise.  Decrease dt to 0.01 or less.\n",
      "Warning: dt is large.  Estimated pdfs may be imprecise.  Decrease dt to 0.01 or less.\n",
      "Warning: dt is large.  Estimated pdfs may be imprecise.  Decrease dt to 0.01 or less.\n",
      "Warning: dt is large.  Estimated pdfs may be imprecise.  Decrease dt to 0.01 or less.\n",
      "Warning: dt is large.  Estimated pdfs may be imprecise.  Decrease dt to 0.01 or less.\n",
      "Warning: dt is large.  Estimated pdfs may be imprecise.  Decrease dt to 0.01 or less.\n",
      "Warning: dt is large.  Estimated pdfs may be imprecise.  Decrease dt to 0.01 or less.\n",
      "Warning: dt is large.  Estimated pdfs may be imprecise.  Decrease dt to 0.01 or less.\n",
      "Warning: dt is large.  Estimated pdfs may be imprecise.  Decrease dt to 0.01 or less.\n",
      "Warning: dt is large.  Estimated pdfs may be imprecise.  Decrease dt to 0.01 or less.\n",
      "Warning: dt is large.  Estimated pdfs may be imprecise.  Decrease dt to 0.01 or less.\n",
      "Warning: dt is large.  Estimated pdfs may be imprecise.  Decrease dt to 0.01 or less.\n",
      "Warning: dt is large.  Estimated pdfs may be imprecise.  Decrease dt to 0.01 or less.\n",
      "Warning: dt is large.  Estimated pdfs may be imprecise.  Decrease dt to 0.01 or less.\n",
      "Warning: dt is large.  Estimated pdfs may be imprecise.  Decrease dt to 0.01 or less.\n",
      "Warning: dt is large.  Estimated pdfs may be imprecise.  Decrease dt to 0.01 or less.\n",
      "Warning: dt is large.  Estimated pdfs may be imprecise.  Decrease dt to 0.01 or less.\n",
      "Warning: dt is large.  Estimated pdfs may be imprecise.  Decrease dt to 0.01 or less.\n",
      "Warning: dt is large.  Estimated pdfs may be imprecise.  Decrease dt to 0.01 or less.\n",
      "Warning: dt is large.  Estimated pdfs may be imprecise.  Decrease dt to 0.01 or less.\n",
      "Warning: dt is large.  Estimated pdfs may be imprecise.  Decrease dt to 0.01 or less.\n",
      "Warning: dt is large.  Estimated pdfs may be imprecise.  Decrease dt to 0.01 or less.\n",
      "Warning: dt is large.  Estimated pdfs may be imprecise.  Decrease dt to 0.01 or less.\n",
      "Warning: dt is large.  Estimated pdfs may be imprecise.  Decrease dt to 0.01 or less.\n",
      "Warning: dt is large.  Estimated pdfs may be imprecise.  Decrease dt to 0.01 or less.\n",
      "Warning: dt is large.  Estimated pdfs may be imprecise.  Decrease dt to 0.01 or less.\n",
      "Warning: dt is large.  Estimated pdfs may be imprecise.  Decrease dt to 0.01 or less.\n",
      "Warning: dt is large.  Estimated pdfs may be imprecise.  Decrease dt to 0.01 or less.\n",
      "Warning: dt is large.  Estimated pdfs may be imprecise.  Decrease dt to 0.01 or less.\n",
      "Warning: dt is large.  Estimated pdfs may be imprecise.  Decrease dt to 0.01 or less.\n",
      "Warning: dt is large.  Estimated pdfs may be imprecise.  Decrease dt to 0.01 or less.\n",
      "Warning: dt is large.  Estimated pdfs may be imprecise.  Decrease dt to 0.01 or less.\n",
      "Warning: dt is large.  Estimated pdfs may be imprecise.  Decrease dt to 0.01 or less.\n",
      "Warning: dt is large.  Estimated pdfs may be imprecise.  Decrease dt to 0.01 or less.\n",
      "Warning: dt is large.  Estimated pdfs may be imprecise.  Decrease dt to 0.01 or less.\n",
      "Warning: dt is large.  Estimated pdfs may be imprecise.  Decrease dt to 0.01 or less.\n",
      "Warning: dt is large.  Estimated pdfs may be imprecise.  Decrease dt to 0.01 or less.\n",
      "Warning: dt is large.  Estimated pdfs may be imprecise.  Decrease dt to 0.01 or less.\n",
      "Warning: dt is large.  Estimated pdfs may be imprecise.  Decrease dt to 0.01 or less.\n",
      "Warning: dt is large.  Estimated pdfs may be imprecise.  Decrease dt to 0.01 or less.\n",
      "Warning: dt is large.  Estimated pdfs may be imprecise.  Decrease dt to 0.01 or less.\n",
      "Warning: dt is large.  Estimated pdfs may be imprecise.  Decrease dt to 0.01 or less.\n",
      "Warning: dt is large.  Estimated pdfs may be imprecise.  Decrease dt to 0.01 or less.\n",
      "Warning: dt is large.  Estimated pdfs may be imprecise.  Decrease dt to 0.01 or less.\n",
      "Warning: dt is large.  Estimated pdfs may be imprecise.  Decrease dt to 0.01 or less.\n",
      "Warning: dt is large.  Estimated pdfs may be imprecise.  Decrease dt to 0.01 or less.\n",
      "Warning: dt is large.  Estimated pdfs may be imprecise.  Decrease dt to 0.01 or less.\n",
      "Warning: dt is large.  Estimated pdfs may be imprecise.  Decrease dt to 0.01 or less.\n",
      "Warning: dt is large.  Estimated pdfs may be imprecise.  Decrease dt to 0.01 or less.\n",
      "Warning: dt is large.  Estimated pdfs may be imprecise.  Decrease dt to 0.01 or less.\n",
      "Warning: dt is large.  Estimated pdfs may be imprecise.  Decrease dt to 0.01 or less.\n",
      "Warning: dt is large.  Estimated pdfs may be imprecise.  Decrease dt to 0.01 or less.\n",
      "Warning: dt is large.  Estimated pdfs may be imprecise.  Decrease dt to 0.01 or less.\n",
      "Warning: dt is large.  Estimated pdfs may be imprecise.  Decrease dt to 0.01 or less.\n",
      "Warning: dt is large.  Estimated pdfs may be imprecise.  Decrease dt to 0.01 or less.\n",
      "Warning: dt is large.  Estimated pdfs may be imprecise.  Decrease dt to 0.01 or less.\n",
      "Warning: dt is large.  Estimated pdfs may be imprecise.  Decrease dt to 0.01 or less.\n",
      "Warning: dt is large.  Estimated pdfs may be imprecise.  Decrease dt to 0.01 or less.\n",
      "Warning: dt is large.  Estimated pdfs may be imprecise.  Decrease dt to 0.01 or less.\n",
      "Warning: dt is large.  Estimated pdfs may be imprecise.  Decrease dt to 0.01 or less.\n",
      "Warning: dt is large.  Estimated pdfs may be imprecise.  Decrease dt to 0.01 or less.\n",
      "Warning: dt is large.  Estimated pdfs may be imprecise.  Decrease dt to 0.01 or less.\n",
      "Warning: dt is large.  Estimated pdfs may be imprecise.  Decrease dt to 0.01 or less.\n",
      "Warning: dt is large.  Estimated pdfs may be imprecise.  Decrease dt to 0.01 or less.\n",
      "Warning: dt is large.  Estimated pdfs may be imprecise.  Decrease dt to 0.01 or less.\n",
      "Warning: dt is large.  Estimated pdfs may be imprecise.  Decrease dt to 0.01 or less.\n",
      "Warning: dt is large.  Estimated pdfs may be imprecise.  Decrease dt to 0.01 or less.\n",
      "Warning: dt is large.  Estimated pdfs may be imprecise.  Decrease dt to 0.01 or less.\n",
      "Warning: dt is large.  Estimated pdfs may be imprecise.  Decrease dt to 0.01 or less.\n",
      "Warning: dt is large.  Estimated pdfs may be imprecise.  Decrease dt to 0.01 or less.\n",
      "Warning: dt is large.  Estimated pdfs may be imprecise.  Decrease dt to 0.01 or less.\n",
      "Warning: dt is large.  Estimated pdfs may be imprecise.  Decrease dt to 0.01 or less.\n",
      "Warning: dt is large.  Estimated pdfs may be imprecise.  Decrease dt to 0.01 or less.\n",
      "Warning: dt is large.  Estimated pdfs may be imprecise.  Decrease dt to 0.01 or less.\n",
      "Warning: dt is large.  Estimated pdfs may be imprecise.  Decrease dt to 0.01 or less.\n",
      "Warning: dt is large.  Estimated pdfs may be imprecise.  Decrease dt to 0.01 or less.\n",
      "Warning: dt is large.  Estimated pdfs may be imprecise.  Decrease dt to 0.01 or less.\n",
      "Warning: dt is large.  Estimated pdfs may be imprecise.  Decrease dt to 0.01 or less.\n",
      "Warning: dt is large.  Estimated pdfs may be imprecise.  Decrease dt to 0.01 or less.\n",
      "Warning: dt is large.  Estimated pdfs may be imprecise.  Decrease dt to 0.01 or less.\n",
      "Warning: dt is large.  Estimated pdfs may be imprecise.  Decrease dt to 0.01 or less.\n",
      "Warning: dt is large.  Estimated pdfs may be imprecise.  Decrease dt to 0.01 or less.\n"
     ]
    },
    {
     "name": "stderr",
     "output_type": "stream",
     "text": [
      "Warning: dt is large.  Estimated pdfs may be imprecise.  Decrease dt to 0.01 or less.\n",
      "Warning: dt is large.  Estimated pdfs may be imprecise.  Decrease dt to 0.01 or less.\n",
      "Warning: dt is large.  Estimated pdfs may be imprecise.  Decrease dt to 0.01 or less.\n",
      "Warning: dt is large.  Estimated pdfs may be imprecise.  Decrease dt to 0.01 or less.\n",
      "Warning: dt is large.  Estimated pdfs may be imprecise.  Decrease dt to 0.01 or less.\n",
      "Warning: dt is large.  Estimated pdfs may be imprecise.  Decrease dt to 0.01 or less.\n",
      "Warning: dt is large.  Estimated pdfs may be imprecise.  Decrease dt to 0.01 or less.\n",
      "Warning: dt is large.  Estimated pdfs may be imprecise.  Decrease dt to 0.01 or less.\n",
      "Warning: dt is large.  Estimated pdfs may be imprecise.  Decrease dt to 0.01 or less.\n",
      "Warning: dt is large.  Estimated pdfs may be imprecise.  Decrease dt to 0.01 or less.\n",
      "Warning: dt is large.  Estimated pdfs may be imprecise.  Decrease dt to 0.01 or less.\n",
      "Warning: dt is large.  Estimated pdfs may be imprecise.  Decrease dt to 0.01 or less.\n",
      "Warning: dt is large.  Estimated pdfs may be imprecise.  Decrease dt to 0.01 or less.\n",
      "Warning: dt is large.  Estimated pdfs may be imprecise.  Decrease dt to 0.01 or less.\n",
      "Warning: dt is large.  Estimated pdfs may be imprecise.  Decrease dt to 0.01 or less.\n",
      "Warning: dt is large.  Estimated pdfs may be imprecise.  Decrease dt to 0.01 or less.\n",
      "Warning: dt is large.  Estimated pdfs may be imprecise.  Decrease dt to 0.01 or less.\n",
      "Warning: dt is large.  Estimated pdfs may be imprecise.  Decrease dt to 0.01 or less.\n",
      "Warning: dt is large.  Estimated pdfs may be imprecise.  Decrease dt to 0.01 or less.\n",
      "Warning: dt is large.  Estimated pdfs may be imprecise.  Decrease dt to 0.01 or less.\n",
      "Warning: dt is large.  Estimated pdfs may be imprecise.  Decrease dt to 0.01 or less.\n",
      "Warning: dt is large.  Estimated pdfs may be imprecise.  Decrease dt to 0.01 or less.\n",
      "Warning: dt is large.  Estimated pdfs may be imprecise.  Decrease dt to 0.01 or less.\n",
      "Warning: dt is large.  Estimated pdfs may be imprecise.  Decrease dt to 0.01 or less.\n",
      "Warning: dt is large.  Estimated pdfs may be imprecise.  Decrease dt to 0.01 or less.\n",
      "Warning: dt is large.  Estimated pdfs may be imprecise.  Decrease dt to 0.01 or less.\n",
      "Warning: dt is large.  Estimated pdfs may be imprecise.  Decrease dt to 0.01 or less.\n",
      "Warning: dt is large.  Estimated pdfs may be imprecise.  Decrease dt to 0.01 or less.\n",
      "Warning: dt is large.  Estimated pdfs may be imprecise.  Decrease dt to 0.01 or less.\n",
      "Warning: dt is large.  Estimated pdfs may be imprecise.  Decrease dt to 0.01 or less.\n",
      "Warning: dt is large.  Estimated pdfs may be imprecise.  Decrease dt to 0.01 or less.\n",
      "Warning: dt is large.  Estimated pdfs may be imprecise.  Decrease dt to 0.01 or less.\n",
      "Warning: dt is large.  Estimated pdfs may be imprecise.  Decrease dt to 0.01 or less.\n",
      "Warning: dt is large.  Estimated pdfs may be imprecise.  Decrease dt to 0.01 or less.\n",
      "Warning: dt is large.  Estimated pdfs may be imprecise.  Decrease dt to 0.01 or less.\n",
      "Warning: dt is large.  Estimated pdfs may be imprecise.  Decrease dt to 0.01 or less.\n",
      "Warning: dt is large.  Estimated pdfs may be imprecise.  Decrease dt to 0.01 or less.\n",
      "Warning: dt is large.  Estimated pdfs may be imprecise.  Decrease dt to 0.01 or less.\n",
      "Warning: dt is large.  Estimated pdfs may be imprecise.  Decrease dt to 0.01 or less.\n",
      "Warning: dt is large.  Estimated pdfs may be imprecise.  Decrease dt to 0.01 or less.\n",
      "Warning: dt is large.  Estimated pdfs may be imprecise.  Decrease dt to 0.01 or less.\n",
      "Warning: dt is large.  Estimated pdfs may be imprecise.  Decrease dt to 0.01 or less.\n",
      "Warning: dt is large.  Estimated pdfs may be imprecise.  Decrease dt to 0.01 or less.\n",
      "Warning: dt is large.  Estimated pdfs may be imprecise.  Decrease dt to 0.01 or less.\n",
      "Warning: dt is large.  Estimated pdfs may be imprecise.  Decrease dt to 0.01 or less.\n",
      "Warning: dt is large.  Estimated pdfs may be imprecise.  Decrease dt to 0.01 or less.\n",
      "Warning: dt is large.  Estimated pdfs may be imprecise.  Decrease dt to 0.01 or less.\n",
      "Warning: dt is large.  Estimated pdfs may be imprecise.  Decrease dt to 0.01 or less.\n",
      "Warning: dt is large.  Estimated pdfs may be imprecise.  Decrease dt to 0.01 or less.\n",
      "Warning: dt is large.  Estimated pdfs may be imprecise.  Decrease dt to 0.01 or less.\n",
      "Warning: dt is large.  Estimated pdfs may be imprecise.  Decrease dt to 0.01 or less.\n",
      "Warning: dt is large.  Estimated pdfs may be imprecise.  Decrease dt to 0.01 or less.\n",
      "Warning: dt is large.  Estimated pdfs may be imprecise.  Decrease dt to 0.01 or less.\n",
      "Warning: dt is large.  Estimated pdfs may be imprecise.  Decrease dt to 0.01 or less.\n",
      "Warning: dt is large.  Estimated pdfs may be imprecise.  Decrease dt to 0.01 or less.\n",
      "Warning: dt is large.  Estimated pdfs may be imprecise.  Decrease dt to 0.01 or less.\n",
      "Warning: dt is large.  Estimated pdfs may be imprecise.  Decrease dt to 0.01 or less.\n",
      "Warning: dt is large.  Estimated pdfs may be imprecise.  Decrease dt to 0.01 or less.\n",
      "Warning: dt is large.  Estimated pdfs may be imprecise.  Decrease dt to 0.01 or less.\n",
      "Warning: dt is large.  Estimated pdfs may be imprecise.  Decrease dt to 0.01 or less.\n",
      "Warning: dt is large.  Estimated pdfs may be imprecise.  Decrease dt to 0.01 or less.\n",
      "Warning: dt is large.  Estimated pdfs may be imprecise.  Decrease dt to 0.01 or less.\n",
      "Warning: dt is large.  Estimated pdfs may be imprecise.  Decrease dt to 0.01 or less.\n",
      "Warning: dt is large.  Estimated pdfs may be imprecise.  Decrease dt to 0.01 or less.\n",
      "Warning: dt is large.  Estimated pdfs may be imprecise.  Decrease dt to 0.01 or less.\n",
      "Warning: dt is large.  Estimated pdfs may be imprecise.  Decrease dt to 0.01 or less.\n",
      "Warning: dt is large.  Estimated pdfs may be imprecise.  Decrease dt to 0.01 or less.\n",
      "Warning: dt is large.  Estimated pdfs may be imprecise.  Decrease dt to 0.01 or less.\n",
      "Warning: dt is large.  Estimated pdfs may be imprecise.  Decrease dt to 0.01 or less.\n",
      "Warning: dt is large.  Estimated pdfs may be imprecise.  Decrease dt to 0.01 or less.\n",
      "Warning: dt is large.  Estimated pdfs may be imprecise.  Decrease dt to 0.01 or less.\n",
      "Warning: dt is large.  Estimated pdfs may be imprecise.  Decrease dt to 0.01 or less.\n",
      "Warning: dt is large.  Estimated pdfs may be imprecise.  Decrease dt to 0.01 or less.\n",
      "Warning: dt is large.  Estimated pdfs may be imprecise.  Decrease dt to 0.01 or less.\n",
      "Warning: dt is large.  Estimated pdfs may be imprecise.  Decrease dt to 0.01 or less.\n",
      "Warning: dt is large.  Estimated pdfs may be imprecise.  Decrease dt to 0.01 or less.\n",
      "Warning: dt is large.  Estimated pdfs may be imprecise.  Decrease dt to 0.01 or less.\n",
      "Warning: dt is large.  Estimated pdfs may be imprecise.  Decrease dt to 0.01 or less.\n",
      "Warning: dt is large.  Estimated pdfs may be imprecise.  Decrease dt to 0.01 or less.\n",
      "Warning: dt is large.  Estimated pdfs may be imprecise.  Decrease dt to 0.01 or less.\n",
      "Warning: dt is large.  Estimated pdfs may be imprecise.  Decrease dt to 0.01 or less.\n",
      "Warning: dt is large.  Estimated pdfs may be imprecise.  Decrease dt to 0.01 or less.\n",
      "Warning: dt is large.  Estimated pdfs may be imprecise.  Decrease dt to 0.01 or less.\n",
      "Warning: dt is large.  Estimated pdfs may be imprecise.  Decrease dt to 0.01 or less.\n",
      "Warning: dt is large.  Estimated pdfs may be imprecise.  Decrease dt to 0.01 or less.\n",
      "Warning: dt is large.  Estimated pdfs may be imprecise.  Decrease dt to 0.01 or less.\n",
      "Warning: dt is large.  Estimated pdfs may be imprecise.  Decrease dt to 0.01 or less.\n",
      "Warning: dt is large.  Estimated pdfs may be imprecise.  Decrease dt to 0.01 or less.\n",
      "Warning: dt is large.  Estimated pdfs may be imprecise.  Decrease dt to 0.01 or less.\n",
      "Warning: dt is large.  Estimated pdfs may be imprecise.  Decrease dt to 0.01 or less.\n",
      "Warning: dt is large.  Estimated pdfs may be imprecise.  Decrease dt to 0.01 or less.\n",
      "Warning: dt is large.  Estimated pdfs may be imprecise.  Decrease dt to 0.01 or less.\n",
      "Warning: dt is large.  Estimated pdfs may be imprecise.  Decrease dt to 0.01 or less.\n",
      "Warning: dt is large.  Estimated pdfs may be imprecise.  Decrease dt to 0.01 or less.\n",
      "Warning: dt is large.  Estimated pdfs may be imprecise.  Decrease dt to 0.01 or less.\n",
      "Warning: dt is large.  Estimated pdfs may be imprecise.  Decrease dt to 0.01 or less.\n"
     ]
    },
    {
     "name": "stderr",
     "output_type": "stream",
     "text": [
      "Warning: dt is large.  Estimated pdfs may be imprecise.  Decrease dt to 0.01 or less.\n",
      "Warning: dt is large.  Estimated pdfs may be imprecise.  Decrease dt to 0.01 or less.\n",
      "Warning: dt is large.  Estimated pdfs may be imprecise.  Decrease dt to 0.01 or less.\n",
      "Warning: dt is large.  Estimated pdfs may be imprecise.  Decrease dt to 0.01 or less.\n",
      "Warning: dt is large.  Estimated pdfs may be imprecise.  Decrease dt to 0.01 or less.\n",
      "Warning: dt is large.  Estimated pdfs may be imprecise.  Decrease dt to 0.01 or less.\n",
      "Warning: dt is large.  Estimated pdfs may be imprecise.  Decrease dt to 0.01 or less.\n",
      "Warning: dt is large.  Estimated pdfs may be imprecise.  Decrease dt to 0.01 or less.\n",
      "Warning: dt is large.  Estimated pdfs may be imprecise.  Decrease dt to 0.01 or less.\n",
      "Warning: dt is large.  Estimated pdfs may be imprecise.  Decrease dt to 0.01 or less.\n",
      "Warning: dt is large.  Estimated pdfs may be imprecise.  Decrease dt to 0.01 or less.\n",
      "Warning: dt is large.  Estimated pdfs may be imprecise.  Decrease dt to 0.01 or less.\n",
      "Warning: dt is large.  Estimated pdfs may be imprecise.  Decrease dt to 0.01 or less.\n",
      "Warning: dt is large.  Estimated pdfs may be imprecise.  Decrease dt to 0.01 or less.\n",
      "Warning: dt is large.  Estimated pdfs may be imprecise.  Decrease dt to 0.01 or less.\n",
      "Warning: dt is large.  Estimated pdfs may be imprecise.  Decrease dt to 0.01 or less.\n",
      "Warning: dt is large.  Estimated pdfs may be imprecise.  Decrease dt to 0.01 or less.\n",
      "Warning: dt is large.  Estimated pdfs may be imprecise.  Decrease dt to 0.01 or less.\n",
      "Warning: dt is large.  Estimated pdfs may be imprecise.  Decrease dt to 0.01 or less.\n",
      "Warning: dt is large.  Estimated pdfs may be imprecise.  Decrease dt to 0.01 or less.\n",
      "Warning: dt is large.  Estimated pdfs may be imprecise.  Decrease dt to 0.01 or less.\n",
      "Warning: dt is large.  Estimated pdfs may be imprecise.  Decrease dt to 0.01 or less.\n",
      "Warning: dt is large.  Estimated pdfs may be imprecise.  Decrease dt to 0.01 or less.\n",
      "Warning: dt is large.  Estimated pdfs may be imprecise.  Decrease dt to 0.01 or less.\n",
      "Warning: dt is large.  Estimated pdfs may be imprecise.  Decrease dt to 0.01 or less.\n",
      "Warning: dt is large.  Estimated pdfs may be imprecise.  Decrease dt to 0.01 or less.\n",
      "Warning: dt is large.  Estimated pdfs may be imprecise.  Decrease dt to 0.01 or less.\n",
      "Warning: dt is large.  Estimated pdfs may be imprecise.  Decrease dt to 0.01 or less.\n",
      "Warning: dt is large.  Estimated pdfs may be imprecise.  Decrease dt to 0.01 or less.\n",
      "Warning: dt is large.  Estimated pdfs may be imprecise.  Decrease dt to 0.01 or less.\n",
      "Warning: dt is large.  Estimated pdfs may be imprecise.  Decrease dt to 0.01 or less.\n",
      "Warning: dt is large.  Estimated pdfs may be imprecise.  Decrease dt to 0.01 or less.\n",
      "Warning: dt is large.  Estimated pdfs may be imprecise.  Decrease dt to 0.01 or less.\n",
      "Warning: dt is large.  Estimated pdfs may be imprecise.  Decrease dt to 0.01 or less.\n",
      "Warning: dt is large.  Estimated pdfs may be imprecise.  Decrease dt to 0.01 or less.\n",
      "Warning: dt is large.  Estimated pdfs may be imprecise.  Decrease dt to 0.01 or less.\n",
      "Warning: dt is large.  Estimated pdfs may be imprecise.  Decrease dt to 0.01 or less.\n",
      "Warning: dt is large.  Estimated pdfs may be imprecise.  Decrease dt to 0.01 or less.\n",
      "Warning: dt is large.  Estimated pdfs may be imprecise.  Decrease dt to 0.01 or less.\n",
      "Warning: dt is large.  Estimated pdfs may be imprecise.  Decrease dt to 0.01 or less.\n",
      "Warning: dt is large.  Estimated pdfs may be imprecise.  Decrease dt to 0.01 or less.\n",
      "Warning: dt is large.  Estimated pdfs may be imprecise.  Decrease dt to 0.01 or less.\n",
      "Warning: dt is large.  Estimated pdfs may be imprecise.  Decrease dt to 0.01 or less.\n",
      "Warning: dt is large.  Estimated pdfs may be imprecise.  Decrease dt to 0.01 or less.\n",
      "Warning: dt is large.  Estimated pdfs may be imprecise.  Decrease dt to 0.01 or less.\n",
      "Warning: dt is large.  Estimated pdfs may be imprecise.  Decrease dt to 0.01 or less.\n",
      "Warning: dt is large.  Estimated pdfs may be imprecise.  Decrease dt to 0.01 or less.\n",
      "Warning: dt is large.  Estimated pdfs may be imprecise.  Decrease dt to 0.01 or less.\n",
      "Warning: dt is large.  Estimated pdfs may be imprecise.  Decrease dt to 0.01 or less.\n",
      "Warning: dt is large.  Estimated pdfs may be imprecise.  Decrease dt to 0.01 or less.\n",
      "Warning: dt is large.  Estimated pdfs may be imprecise.  Decrease dt to 0.01 or less.\n",
      "Warning: dt is large.  Estimated pdfs may be imprecise.  Decrease dt to 0.01 or less.\n",
      "Warning: dt is large.  Estimated pdfs may be imprecise.  Decrease dt to 0.01 or less.\n",
      "Warning: dt is large.  Estimated pdfs may be imprecise.  Decrease dt to 0.01 or less.\n",
      "Warning: dt is large.  Estimated pdfs may be imprecise.  Decrease dt to 0.01 or less.\n",
      "Warning: dt is large.  Estimated pdfs may be imprecise.  Decrease dt to 0.01 or less.\n",
      "Warning: dt is large.  Estimated pdfs may be imprecise.  Decrease dt to 0.01 or less.\n",
      "Warning: dt is large.  Estimated pdfs may be imprecise.  Decrease dt to 0.01 or less.\n",
      "Warning: dt is large.  Estimated pdfs may be imprecise.  Decrease dt to 0.01 or less.\n",
      "Warning: dt is large.  Estimated pdfs may be imprecise.  Decrease dt to 0.01 or less.\n",
      "Warning: dt is large.  Estimated pdfs may be imprecise.  Decrease dt to 0.01 or less.\n",
      "Warning: dt is large.  Estimated pdfs may be imprecise.  Decrease dt to 0.01 or less.\n",
      "Warning: dt is large.  Estimated pdfs may be imprecise.  Decrease dt to 0.01 or less.\n",
      "Warning: dt is large.  Estimated pdfs may be imprecise.  Decrease dt to 0.01 or less.\n",
      "Warning: dt is large.  Estimated pdfs may be imprecise.  Decrease dt to 0.01 or less.\n",
      "Warning: dt is large.  Estimated pdfs may be imprecise.  Decrease dt to 0.01 or less.\n",
      "Warning: dt is large.  Estimated pdfs may be imprecise.  Decrease dt to 0.01 or less.\n",
      "Warning: dt is large.  Estimated pdfs may be imprecise.  Decrease dt to 0.01 or less.\n",
      "Warning: dt is large.  Estimated pdfs may be imprecise.  Decrease dt to 0.01 or less.\n",
      "Warning: dt is large.  Estimated pdfs may be imprecise.  Decrease dt to 0.01 or less.\n",
      "Warning: dt is large.  Estimated pdfs may be imprecise.  Decrease dt to 0.01 or less.\n",
      "Warning: dt is large.  Estimated pdfs may be imprecise.  Decrease dt to 0.01 or less.\n",
      "Warning: dt is large.  Estimated pdfs may be imprecise.  Decrease dt to 0.01 or less.\n",
      "Warning: dt is large.  Estimated pdfs may be imprecise.  Decrease dt to 0.01 or less.\n",
      "Warning: dt is large.  Estimated pdfs may be imprecise.  Decrease dt to 0.01 or less.\n",
      "Warning: dt is large.  Estimated pdfs may be imprecise.  Decrease dt to 0.01 or less.\n",
      "Warning: dt is large.  Estimated pdfs may be imprecise.  Decrease dt to 0.01 or less.\n",
      "Warning: dt is large.  Estimated pdfs may be imprecise.  Decrease dt to 0.01 or less.\n",
      "Warning: dt is large.  Estimated pdfs may be imprecise.  Decrease dt to 0.01 or less.\n",
      "Warning: dt is large.  Estimated pdfs may be imprecise.  Decrease dt to 0.01 or less.\n",
      "Warning: dt is large.  Estimated pdfs may be imprecise.  Decrease dt to 0.01 or less.\n",
      "Warning: dt is large.  Estimated pdfs may be imprecise.  Decrease dt to 0.01 or less.\n",
      "Warning: dt is large.  Estimated pdfs may be imprecise.  Decrease dt to 0.01 or less.\n",
      "Warning: dt is large.  Estimated pdfs may be imprecise.  Decrease dt to 0.01 or less.\n",
      "Warning: dt is large.  Estimated pdfs may be imprecise.  Decrease dt to 0.01 or less.\n",
      "Warning: dt is large.  Estimated pdfs may be imprecise.  Decrease dt to 0.01 or less.\n",
      "Warning: dt is large.  Estimated pdfs may be imprecise.  Decrease dt to 0.01 or less.\n",
      "Warning: dt is large.  Estimated pdfs may be imprecise.  Decrease dt to 0.01 or less.\n",
      "Warning: dt is large.  Estimated pdfs may be imprecise.  Decrease dt to 0.01 or less.\n",
      "Warning: dt is large.  Estimated pdfs may be imprecise.  Decrease dt to 0.01 or less.\n",
      "Warning: dt is large.  Estimated pdfs may be imprecise.  Decrease dt to 0.01 or less.\n",
      "Warning: dt is large.  Estimated pdfs may be imprecise.  Decrease dt to 0.01 or less.\n",
      "Warning: dt is large.  Estimated pdfs may be imprecise.  Decrease dt to 0.01 or less.\n",
      "Warning: dt is large.  Estimated pdfs may be imprecise.  Decrease dt to 0.01 or less.\n",
      "Warning: dt is large.  Estimated pdfs may be imprecise.  Decrease dt to 0.01 or less.\n",
      "Warning: dt is large.  Estimated pdfs may be imprecise.  Decrease dt to 0.01 or less.\n"
     ]
    },
    {
     "name": "stderr",
     "output_type": "stream",
     "text": [
      "Warning: dt is large.  Estimated pdfs may be imprecise.  Decrease dt to 0.01 or less.\n",
      "Warning: dt is large.  Estimated pdfs may be imprecise.  Decrease dt to 0.01 or less.\n",
      "Warning: dt is large.  Estimated pdfs may be imprecise.  Decrease dt to 0.01 or less.\n",
      "Warning: dt is large.  Estimated pdfs may be imprecise.  Decrease dt to 0.01 or less.\n",
      "Warning: dt is large.  Estimated pdfs may be imprecise.  Decrease dt to 0.01 or less.\n",
      "Warning: dt is large.  Estimated pdfs may be imprecise.  Decrease dt to 0.01 or less.\n",
      "Warning: dt is large.  Estimated pdfs may be imprecise.  Decrease dt to 0.01 or less.\n",
      "Warning: dt is large.  Estimated pdfs may be imprecise.  Decrease dt to 0.01 or less.\n",
      "Warning: dt is large.  Estimated pdfs may be imprecise.  Decrease dt to 0.01 or less.\n",
      "Warning: dt is large.  Estimated pdfs may be imprecise.  Decrease dt to 0.01 or less.\n",
      "Warning: dt is large.  Estimated pdfs may be imprecise.  Decrease dt to 0.01 or less.\n",
      "Warning: dt is large.  Estimated pdfs may be imprecise.  Decrease dt to 0.01 or less.\n",
      "Warning: dt is large.  Estimated pdfs may be imprecise.  Decrease dt to 0.01 or less.\n",
      "Warning: dt is large.  Estimated pdfs may be imprecise.  Decrease dt to 0.01 or less.\n",
      "Warning: dt is large.  Estimated pdfs may be imprecise.  Decrease dt to 0.01 or less.\n",
      "Warning: dt is large.  Estimated pdfs may be imprecise.  Decrease dt to 0.01 or less.\n",
      "Warning: dt is large.  Estimated pdfs may be imprecise.  Decrease dt to 0.01 or less.\n",
      "Warning: dt is large.  Estimated pdfs may be imprecise.  Decrease dt to 0.01 or less.\n",
      "Warning: dt is large.  Estimated pdfs may be imprecise.  Decrease dt to 0.01 or less.\n",
      "Warning: dt is large.  Estimated pdfs may be imprecise.  Decrease dt to 0.01 or less.\n",
      "Warning: dt is large.  Estimated pdfs may be imprecise.  Decrease dt to 0.01 or less.\n",
      "Warning: dt is large.  Estimated pdfs may be imprecise.  Decrease dt to 0.01 or less.\n",
      "Warning: dt is large.  Estimated pdfs may be imprecise.  Decrease dt to 0.01 or less.\n",
      "Warning: dt is large.  Estimated pdfs may be imprecise.  Decrease dt to 0.01 or less.\n",
      "Warning: dt is large.  Estimated pdfs may be imprecise.  Decrease dt to 0.01 or less.\n",
      "Warning: dt is large.  Estimated pdfs may be imprecise.  Decrease dt to 0.01 or less.\n",
      "Warning: dt is large.  Estimated pdfs may be imprecise.  Decrease dt to 0.01 or less.\n",
      "Warning: dt is large.  Estimated pdfs may be imprecise.  Decrease dt to 0.01 or less.\n",
      "Warning: dt is large.  Estimated pdfs may be imprecise.  Decrease dt to 0.01 or less.\n",
      "Warning: dt is large.  Estimated pdfs may be imprecise.  Decrease dt to 0.01 or less.\n",
      "Warning: dt is large.  Estimated pdfs may be imprecise.  Decrease dt to 0.01 or less.\n",
      "Warning: dt is large.  Estimated pdfs may be imprecise.  Decrease dt to 0.01 or less.\n",
      "Warning: dt is large.  Estimated pdfs may be imprecise.  Decrease dt to 0.01 or less.\n",
      "Warning: dt is large.  Estimated pdfs may be imprecise.  Decrease dt to 0.01 or less.\n",
      "Warning: dt is large.  Estimated pdfs may be imprecise.  Decrease dt to 0.01 or less.\n",
      "Warning: dt is large.  Estimated pdfs may be imprecise.  Decrease dt to 0.01 or less.\n",
      "Warning: dt is large.  Estimated pdfs may be imprecise.  Decrease dt to 0.01 or less.\n",
      "Warning: dt is large.  Estimated pdfs may be imprecise.  Decrease dt to 0.01 or less.\n",
      "Warning: dt is large.  Estimated pdfs may be imprecise.  Decrease dt to 0.01 or less.\n",
      "Warning: dt is large.  Estimated pdfs may be imprecise.  Decrease dt to 0.01 or less.\n",
      "Warning: dt is large.  Estimated pdfs may be imprecise.  Decrease dt to 0.01 or less.\n",
      "Warning: dt is large.  Estimated pdfs may be imprecise.  Decrease dt to 0.01 or less.\n",
      "Warning: dt is large.  Estimated pdfs may be imprecise.  Decrease dt to 0.01 or less.\n",
      "Warning: dt is large.  Estimated pdfs may be imprecise.  Decrease dt to 0.01 or less.\n",
      "Warning: dt is large.  Estimated pdfs may be imprecise.  Decrease dt to 0.01 or less.\n",
      "Warning: dt is large.  Estimated pdfs may be imprecise.  Decrease dt to 0.01 or less.\n",
      "Warning: dt is large.  Estimated pdfs may be imprecise.  Decrease dt to 0.01 or less.\n",
      "Warning: dt is large.  Estimated pdfs may be imprecise.  Decrease dt to 0.01 or less.\n",
      "Warning: dt is large.  Estimated pdfs may be imprecise.  Decrease dt to 0.01 or less.\n",
      "Warning: dt is large.  Estimated pdfs may be imprecise.  Decrease dt to 0.01 or less.\n",
      "Warning: dt is large.  Estimated pdfs may be imprecise.  Decrease dt to 0.01 or less.\n",
      "Warning: dt is large.  Estimated pdfs may be imprecise.  Decrease dt to 0.01 or less.\n",
      "Warning: dt is large.  Estimated pdfs may be imprecise.  Decrease dt to 0.01 or less.\n",
      "Warning: dt is large.  Estimated pdfs may be imprecise.  Decrease dt to 0.01 or less.\n",
      "Warning: dt is large.  Estimated pdfs may be imprecise.  Decrease dt to 0.01 or less.\n",
      "Warning: dt is large.  Estimated pdfs may be imprecise.  Decrease dt to 0.01 or less.\n",
      "Warning: dt is large.  Estimated pdfs may be imprecise.  Decrease dt to 0.01 or less.\n",
      "Warning: dt is large.  Estimated pdfs may be imprecise.  Decrease dt to 0.01 or less.\n",
      "Warning: dt is large.  Estimated pdfs may be imprecise.  Decrease dt to 0.01 or less.\n",
      "Warning: dt is large.  Estimated pdfs may be imprecise.  Decrease dt to 0.01 or less.\n",
      "Warning: dt is large.  Estimated pdfs may be imprecise.  Decrease dt to 0.01 or less.\n",
      "Warning: dt is large.  Estimated pdfs may be imprecise.  Decrease dt to 0.01 or less.\n",
      "Warning: dt is large.  Estimated pdfs may be imprecise.  Decrease dt to 0.01 or less.\n",
      "Warning: dt is large.  Estimated pdfs may be imprecise.  Decrease dt to 0.01 or less.\n",
      "Warning: dt is large.  Estimated pdfs may be imprecise.  Decrease dt to 0.01 or less.\n",
      "Warning: dt is large.  Estimated pdfs may be imprecise.  Decrease dt to 0.01 or less.\n",
      "Warning: dt is large.  Estimated pdfs may be imprecise.  Decrease dt to 0.01 or less.\n",
      "Warning: dt is large.  Estimated pdfs may be imprecise.  Decrease dt to 0.01 or less.\n",
      "Warning: dt is large.  Estimated pdfs may be imprecise.  Decrease dt to 0.01 or less.\n",
      "Warning: dt is large.  Estimated pdfs may be imprecise.  Decrease dt to 0.01 or less.\n",
      "Warning: dt is large.  Estimated pdfs may be imprecise.  Decrease dt to 0.01 or less.\n",
      "Warning: dt is large.  Estimated pdfs may be imprecise.  Decrease dt to 0.01 or less.\n",
      "Warning: dt is large.  Estimated pdfs may be imprecise.  Decrease dt to 0.01 or less.\n",
      "Warning: dt is large.  Estimated pdfs may be imprecise.  Decrease dt to 0.01 or less.\n",
      "Warning: dt is large.  Estimated pdfs may be imprecise.  Decrease dt to 0.01 or less.\n",
      "Warning: dt is large.  Estimated pdfs may be imprecise.  Decrease dt to 0.01 or less.\n",
      "Warning: dt is large.  Estimated pdfs may be imprecise.  Decrease dt to 0.01 or less.\n",
      "Warning: dt is large.  Estimated pdfs may be imprecise.  Decrease dt to 0.01 or less.\n",
      "Warning: dt is large.  Estimated pdfs may be imprecise.  Decrease dt to 0.01 or less.\n",
      "Warning: dt is large.  Estimated pdfs may be imprecise.  Decrease dt to 0.01 or less.\n",
      "Warning: dt is large.  Estimated pdfs may be imprecise.  Decrease dt to 0.01 or less.\n",
      "Warning: dt is large.  Estimated pdfs may be imprecise.  Decrease dt to 0.01 or less.\n",
      "Warning: dt is large.  Estimated pdfs may be imprecise.  Decrease dt to 0.01 or less.\n",
      "Warning: dt is large.  Estimated pdfs may be imprecise.  Decrease dt to 0.01 or less.\n",
      "Warning: dt is large.  Estimated pdfs may be imprecise.  Decrease dt to 0.01 or less.\n",
      "Warning: dt is large.  Estimated pdfs may be imprecise.  Decrease dt to 0.01 or less.\n",
      "Warning: dt is large.  Estimated pdfs may be imprecise.  Decrease dt to 0.01 or less.\n",
      "Warning: dt is large.  Estimated pdfs may be imprecise.  Decrease dt to 0.01 or less.\n",
      "Warning: dt is large.  Estimated pdfs may be imprecise.  Decrease dt to 0.01 or less.\n",
      "Warning: dt is large.  Estimated pdfs may be imprecise.  Decrease dt to 0.01 or less.\n",
      "Warning: dt is large.  Estimated pdfs may be imprecise.  Decrease dt to 0.01 or less.\n",
      "Warning: dt is large.  Estimated pdfs may be imprecise.  Decrease dt to 0.01 or less.\n",
      "Warning: dt is large.  Estimated pdfs may be imprecise.  Decrease dt to 0.01 or less.\n",
      "Warning: dt is large.  Estimated pdfs may be imprecise.  Decrease dt to 0.01 or less.\n",
      "Warning: dt is large.  Estimated pdfs may be imprecise.  Decrease dt to 0.01 or less.\n",
      "Warning: dt is large.  Estimated pdfs may be imprecise.  Decrease dt to 0.01 or less.\n"
     ]
    },
    {
     "name": "stderr",
     "output_type": "stream",
     "text": [
      "Warning: dt is large.  Estimated pdfs may be imprecise.  Decrease dt to 0.01 or less.\n",
      "Warning: dt is large.  Estimated pdfs may be imprecise.  Decrease dt to 0.01 or less.\n",
      "Warning: dt is large.  Estimated pdfs may be imprecise.  Decrease dt to 0.01 or less.\n",
      "Warning: dt is large.  Estimated pdfs may be imprecise.  Decrease dt to 0.01 or less.\n",
      "Warning: dt is large.  Estimated pdfs may be imprecise.  Decrease dt to 0.01 or less.\n",
      "Warning: dt is large.  Estimated pdfs may be imprecise.  Decrease dt to 0.01 or less.\n",
      "Warning: dt is large.  Estimated pdfs may be imprecise.  Decrease dt to 0.01 or less.\n",
      "Warning: dt is large.  Estimated pdfs may be imprecise.  Decrease dt to 0.01 or less.\n",
      "Warning: dt is large.  Estimated pdfs may be imprecise.  Decrease dt to 0.01 or less.\n",
      "Warning: dt is large.  Estimated pdfs may be imprecise.  Decrease dt to 0.01 or less.\n",
      "Warning: dt is large.  Estimated pdfs may be imprecise.  Decrease dt to 0.01 or less.\n",
      "Warning: dt is large.  Estimated pdfs may be imprecise.  Decrease dt to 0.01 or less.\n",
      "Warning: dt is large.  Estimated pdfs may be imprecise.  Decrease dt to 0.01 or less.\n",
      "Warning: dt is large.  Estimated pdfs may be imprecise.  Decrease dt to 0.01 or less.\n",
      "Warning: dt is large.  Estimated pdfs may be imprecise.  Decrease dt to 0.01 or less.\n",
      "Warning: dt is large.  Estimated pdfs may be imprecise.  Decrease dt to 0.01 or less.\n",
      "Warning: dt is large.  Estimated pdfs may be imprecise.  Decrease dt to 0.01 or less.\n",
      "Warning: dt is large.  Estimated pdfs may be imprecise.  Decrease dt to 0.01 or less.\n",
      "Warning: dt is large.  Estimated pdfs may be imprecise.  Decrease dt to 0.01 or less.\n",
      "Warning: dt is large.  Estimated pdfs may be imprecise.  Decrease dt to 0.01 or less.\n",
      "Warning: dt is large.  Estimated pdfs may be imprecise.  Decrease dt to 0.01 or less.\n",
      "Warning: dt is large.  Estimated pdfs may be imprecise.  Decrease dt to 0.01 or less.\n",
      "Warning: dt is large.  Estimated pdfs may be imprecise.  Decrease dt to 0.01 or less.\n",
      "Warning: dt is large.  Estimated pdfs may be imprecise.  Decrease dt to 0.01 or less.\n",
      "Warning: dt is large.  Estimated pdfs may be imprecise.  Decrease dt to 0.01 or less.\n",
      "Warning: dt is large.  Estimated pdfs may be imprecise.  Decrease dt to 0.01 or less.\n",
      "Warning: dt is large.  Estimated pdfs may be imprecise.  Decrease dt to 0.01 or less.\n",
      "Warning: dt is large.  Estimated pdfs may be imprecise.  Decrease dt to 0.01 or less.\n",
      "Warning: dt is large.  Estimated pdfs may be imprecise.  Decrease dt to 0.01 or less.\n",
      "Warning: dt is large.  Estimated pdfs may be imprecise.  Decrease dt to 0.01 or less.\n",
      "Warning: dt is large.  Estimated pdfs may be imprecise.  Decrease dt to 0.01 or less.\n",
      "Warning: dt is large.  Estimated pdfs may be imprecise.  Decrease dt to 0.01 or less.\n",
      "Warning: dt is large.  Estimated pdfs may be imprecise.  Decrease dt to 0.01 or less.\n",
      "Warning: dt is large.  Estimated pdfs may be imprecise.  Decrease dt to 0.01 or less.\n",
      "Warning: dt is large.  Estimated pdfs may be imprecise.  Decrease dt to 0.01 or less.\n",
      "Warning: dt is large.  Estimated pdfs may be imprecise.  Decrease dt to 0.01 or less.\n",
      "Warning: dt is large.  Estimated pdfs may be imprecise.  Decrease dt to 0.01 or less.\n",
      "Warning: dt is large.  Estimated pdfs may be imprecise.  Decrease dt to 0.01 or less.\n",
      "Warning: dt is large.  Estimated pdfs may be imprecise.  Decrease dt to 0.01 or less.\n",
      "Warning: dt is large.  Estimated pdfs may be imprecise.  Decrease dt to 0.01 or less.\n",
      "Warning: dt is large.  Estimated pdfs may be imprecise.  Decrease dt to 0.01 or less.\n",
      "Warning: dt is large.  Estimated pdfs may be imprecise.  Decrease dt to 0.01 or less.\n",
      "Warning: dt is large.  Estimated pdfs may be imprecise.  Decrease dt to 0.01 or less.\n",
      "Warning: dt is large.  Estimated pdfs may be imprecise.  Decrease dt to 0.01 or less.\n",
      "Warning: dt is large.  Estimated pdfs may be imprecise.  Decrease dt to 0.01 or less.\n",
      "Warning: dt is large.  Estimated pdfs may be imprecise.  Decrease dt to 0.01 or less.\n",
      "Warning: dt is large.  Estimated pdfs may be imprecise.  Decrease dt to 0.01 or less.\n",
      "Warning: dt is large.  Estimated pdfs may be imprecise.  Decrease dt to 0.01 or less.\n",
      "Warning: dt is large.  Estimated pdfs may be imprecise.  Decrease dt to 0.01 or less.\n",
      "Warning: dt is large.  Estimated pdfs may be imprecise.  Decrease dt to 0.01 or less.\n",
      "Warning: dt is large.  Estimated pdfs may be imprecise.  Decrease dt to 0.01 or less.\n",
      "Warning: dt is large.  Estimated pdfs may be imprecise.  Decrease dt to 0.01 or less.\n",
      "Warning: dt is large.  Estimated pdfs may be imprecise.  Decrease dt to 0.01 or less.\n",
      "Warning: dt is large.  Estimated pdfs may be imprecise.  Decrease dt to 0.01 or less.\n",
      "Warning: dt is large.  Estimated pdfs may be imprecise.  Decrease dt to 0.01 or less.\n",
      "Warning: dt is large.  Estimated pdfs may be imprecise.  Decrease dt to 0.01 or less.\n",
      "Warning: dt is large.  Estimated pdfs may be imprecise.  Decrease dt to 0.01 or less.\n",
      "Warning: dt is large.  Estimated pdfs may be imprecise.  Decrease dt to 0.01 or less.\n",
      "Warning: dt is large.  Estimated pdfs may be imprecise.  Decrease dt to 0.01 or less.\n",
      "Warning: dt is large.  Estimated pdfs may be imprecise.  Decrease dt to 0.01 or less.\n",
      "Warning: dt is large.  Estimated pdfs may be imprecise.  Decrease dt to 0.01 or less.\n",
      "Warning: dt is large.  Estimated pdfs may be imprecise.  Decrease dt to 0.01 or less.\n",
      "Warning: dt is large.  Estimated pdfs may be imprecise.  Decrease dt to 0.01 or less.\n",
      "Warning: dt is large.  Estimated pdfs may be imprecise.  Decrease dt to 0.01 or less.\n",
      "Warning: dt is large.  Estimated pdfs may be imprecise.  Decrease dt to 0.01 or less.\n",
      "Warning: dt is large.  Estimated pdfs may be imprecise.  Decrease dt to 0.01 or less.\n",
      "Warning: dt is large.  Estimated pdfs may be imprecise.  Decrease dt to 0.01 or less.\n",
      "Warning: dt is large.  Estimated pdfs may be imprecise.  Decrease dt to 0.01 or less.\n",
      "Warning: dt is large.  Estimated pdfs may be imprecise.  Decrease dt to 0.01 or less.\n",
      "Warning: dt is large.  Estimated pdfs may be imprecise.  Decrease dt to 0.01 or less.\n",
      "Warning: dt is large.  Estimated pdfs may be imprecise.  Decrease dt to 0.01 or less.\n",
      "Warning: dt is large.  Estimated pdfs may be imprecise.  Decrease dt to 0.01 or less.\n",
      "Warning: dt is large.  Estimated pdfs may be imprecise.  Decrease dt to 0.01 or less.\n",
      "Warning: dt is large.  Estimated pdfs may be imprecise.  Decrease dt to 0.01 or less.\n",
      "Warning: dt is large.  Estimated pdfs may be imprecise.  Decrease dt to 0.01 or less.\n",
      "Warning: dt is large.  Estimated pdfs may be imprecise.  Decrease dt to 0.01 or less.\n",
      "Warning: dt is large.  Estimated pdfs may be imprecise.  Decrease dt to 0.01 or less.\n",
      "Warning: dt is large.  Estimated pdfs may be imprecise.  Decrease dt to 0.01 or less.\n",
      "Warning: dt is large.  Estimated pdfs may be imprecise.  Decrease dt to 0.01 or less.\n",
      "Warning: dt is large.  Estimated pdfs may be imprecise.  Decrease dt to 0.01 or less.\n",
      "Warning: dt is large.  Estimated pdfs may be imprecise.  Decrease dt to 0.01 or less.\n",
      "Warning: dt is large.  Estimated pdfs may be imprecise.  Decrease dt to 0.01 or less.\n",
      "Warning: dt is large.  Estimated pdfs may be imprecise.  Decrease dt to 0.01 or less.\n",
      "Warning: dt is large.  Estimated pdfs may be imprecise.  Decrease dt to 0.01 or less.\n",
      "Warning: dt is large.  Estimated pdfs may be imprecise.  Decrease dt to 0.01 or less.\n",
      "Warning: dt is large.  Estimated pdfs may be imprecise.  Decrease dt to 0.01 or less.\n",
      "Warning: dt is large.  Estimated pdfs may be imprecise.  Decrease dt to 0.01 or less.\n",
      "Warning: dt is large.  Estimated pdfs may be imprecise.  Decrease dt to 0.01 or less.\n",
      "Warning: dt is large.  Estimated pdfs may be imprecise.  Decrease dt to 0.01 or less.\n",
      "Warning: dt is large.  Estimated pdfs may be imprecise.  Decrease dt to 0.01 or less.\n",
      "Warning: dt is large.  Estimated pdfs may be imprecise.  Decrease dt to 0.01 or less.\n",
      "Warning: dt is large.  Estimated pdfs may be imprecise.  Decrease dt to 0.01 or less.\n",
      "Warning: dt is large.  Estimated pdfs may be imprecise.  Decrease dt to 0.01 or less.\n",
      "Warning: dt is large.  Estimated pdfs may be imprecise.  Decrease dt to 0.01 or less.\n",
      "Warning: dt is large.  Estimated pdfs may be imprecise.  Decrease dt to 0.01 or less.\n",
      "Warning: dt is large.  Estimated pdfs may be imprecise.  Decrease dt to 0.01 or less.\n"
     ]
    },
    {
     "name": "stderr",
     "output_type": "stream",
     "text": [
      "Warning: dt is large.  Estimated pdfs may be imprecise.  Decrease dt to 0.01 or less.\n",
      "Warning: dt is large.  Estimated pdfs may be imprecise.  Decrease dt to 0.01 or less.\n",
      "Warning: dt is large.  Estimated pdfs may be imprecise.  Decrease dt to 0.01 or less.\n",
      "Warning: dt is large.  Estimated pdfs may be imprecise.  Decrease dt to 0.01 or less.\n",
      "Warning: dt is large.  Estimated pdfs may be imprecise.  Decrease dt to 0.01 or less.\n",
      "Warning: dt is large.  Estimated pdfs may be imprecise.  Decrease dt to 0.01 or less.\n",
      "Warning: dt is large.  Estimated pdfs may be imprecise.  Decrease dt to 0.01 or less.\n",
      "Warning: dt is large.  Estimated pdfs may be imprecise.  Decrease dt to 0.01 or less.\n",
      "Warning: dt is large.  Estimated pdfs may be imprecise.  Decrease dt to 0.01 or less.\n",
      "Warning: dt is large.  Estimated pdfs may be imprecise.  Decrease dt to 0.01 or less.\n",
      "Warning: dt is large.  Estimated pdfs may be imprecise.  Decrease dt to 0.01 or less.\n",
      "Warning: dt is large.  Estimated pdfs may be imprecise.  Decrease dt to 0.01 or less.\n",
      "Warning: dt is large.  Estimated pdfs may be imprecise.  Decrease dt to 0.01 or less.\n",
      "Warning: dt is large.  Estimated pdfs may be imprecise.  Decrease dt to 0.01 or less.\n",
      "Warning: dt is large.  Estimated pdfs may be imprecise.  Decrease dt to 0.01 or less.\n",
      "Warning: dt is large.  Estimated pdfs may be imprecise.  Decrease dt to 0.01 or less.\n",
      "Warning: dt is large.  Estimated pdfs may be imprecise.  Decrease dt to 0.01 or less.\n",
      "Warning: dt is large.  Estimated pdfs may be imprecise.  Decrease dt to 0.01 or less.\n",
      "Warning: dt is large.  Estimated pdfs may be imprecise.  Decrease dt to 0.01 or less.\n",
      "Warning: dt is large.  Estimated pdfs may be imprecise.  Decrease dt to 0.01 or less.\n",
      "Warning: dt is large.  Estimated pdfs may be imprecise.  Decrease dt to 0.01 or less.\n",
      "Warning: dt is large.  Estimated pdfs may be imprecise.  Decrease dt to 0.01 or less.\n",
      "Warning: dt is large.  Estimated pdfs may be imprecise.  Decrease dt to 0.01 or less.\n",
      "Warning: dt is large.  Estimated pdfs may be imprecise.  Decrease dt to 0.01 or less.\n",
      "Warning: dt is large.  Estimated pdfs may be imprecise.  Decrease dt to 0.01 or less.\n",
      "Warning: dt is large.  Estimated pdfs may be imprecise.  Decrease dt to 0.01 or less.\n",
      "Warning: dt is large.  Estimated pdfs may be imprecise.  Decrease dt to 0.01 or less.\n",
      "Warning: dt is large.  Estimated pdfs may be imprecise.  Decrease dt to 0.01 or less.\n",
      "Warning: dt is large.  Estimated pdfs may be imprecise.  Decrease dt to 0.01 or less.\n",
      "Warning: dt is large.  Estimated pdfs may be imprecise.  Decrease dt to 0.01 or less.\n",
      "Warning: dt is large.  Estimated pdfs may be imprecise.  Decrease dt to 0.01 or less.\n",
      "Warning: dt is large.  Estimated pdfs may be imprecise.  Decrease dt to 0.01 or less.\n",
      "Warning: dt is large.  Estimated pdfs may be imprecise.  Decrease dt to 0.01 or less.\n",
      "Warning: dt is large.  Estimated pdfs may be imprecise.  Decrease dt to 0.01 or less.\n",
      "Warning: dt is large.  Estimated pdfs may be imprecise.  Decrease dt to 0.01 or less.\n",
      "Warning: dt is large.  Estimated pdfs may be imprecise.  Decrease dt to 0.01 or less.\n",
      "Warning: dt is large.  Estimated pdfs may be imprecise.  Decrease dt to 0.01 or less.\n",
      "Warning: dt is large.  Estimated pdfs may be imprecise.  Decrease dt to 0.01 or less.\n",
      "Warning: dt is large.  Estimated pdfs may be imprecise.  Decrease dt to 0.01 or less.\n",
      "Warning: dt is large.  Estimated pdfs may be imprecise.  Decrease dt to 0.01 or less.\n",
      "Warning: dt is large.  Estimated pdfs may be imprecise.  Decrease dt to 0.01 or less.\n",
      "Warning: dt is large.  Estimated pdfs may be imprecise.  Decrease dt to 0.01 or less.\n",
      "Warning: dt is large.  Estimated pdfs may be imprecise.  Decrease dt to 0.01 or less.\n",
      "Warning: dt is large.  Estimated pdfs may be imprecise.  Decrease dt to 0.01 or less.\n",
      "Warning: dt is large.  Estimated pdfs may be imprecise.  Decrease dt to 0.01 or less.\n",
      "Warning: dt is large.  Estimated pdfs may be imprecise.  Decrease dt to 0.01 or less.\n",
      "Warning: dt is large.  Estimated pdfs may be imprecise.  Decrease dt to 0.01 or less.\n",
      "Warning: dt is large.  Estimated pdfs may be imprecise.  Decrease dt to 0.01 or less.\n",
      "Warning: dt is large.  Estimated pdfs may be imprecise.  Decrease dt to 0.01 or less.\n",
      "Warning: dt is large.  Estimated pdfs may be imprecise.  Decrease dt to 0.01 or less.\n",
      "Warning: dt is large.  Estimated pdfs may be imprecise.  Decrease dt to 0.01 or less.\n",
      "Warning: dt is large.  Estimated pdfs may be imprecise.  Decrease dt to 0.01 or less.\n",
      "Warning: dt is large.  Estimated pdfs may be imprecise.  Decrease dt to 0.01 or less.\n",
      "Warning: dt is large.  Estimated pdfs may be imprecise.  Decrease dt to 0.01 or less.\n",
      "Warning: dt is large.  Estimated pdfs may be imprecise.  Decrease dt to 0.01 or less.\n",
      "Warning: dt is large.  Estimated pdfs may be imprecise.  Decrease dt to 0.01 or less.\n",
      "Warning: dt is large.  Estimated pdfs may be imprecise.  Decrease dt to 0.01 or less.\n",
      "Warning: dt is large.  Estimated pdfs may be imprecise.  Decrease dt to 0.01 or less.\n",
      "Warning: dt is large.  Estimated pdfs may be imprecise.  Decrease dt to 0.01 or less.\n",
      "Warning: dt is large.  Estimated pdfs may be imprecise.  Decrease dt to 0.01 or less.\n",
      "Warning: dt is large.  Estimated pdfs may be imprecise.  Decrease dt to 0.01 or less.\n",
      "Warning: dt is large.  Estimated pdfs may be imprecise.  Decrease dt to 0.01 or less.\n",
      "Warning: dt is large.  Estimated pdfs may be imprecise.  Decrease dt to 0.01 or less.\n",
      "Warning: dt is large.  Estimated pdfs may be imprecise.  Decrease dt to 0.01 or less.\n",
      "Warning: dt is large.  Estimated pdfs may be imprecise.  Decrease dt to 0.01 or less.\n",
      "Warning: dt is large.  Estimated pdfs may be imprecise.  Decrease dt to 0.01 or less.\n",
      "Warning: dt is large.  Estimated pdfs may be imprecise.  Decrease dt to 0.01 or less.\n",
      "Warning: dt is large.  Estimated pdfs may be imprecise.  Decrease dt to 0.01 or less.\n",
      "Warning: dt is large.  Estimated pdfs may be imprecise.  Decrease dt to 0.01 or less.\n",
      "Warning: dt is large.  Estimated pdfs may be imprecise.  Decrease dt to 0.01 or less.\n",
      "Warning: dt is large.  Estimated pdfs may be imprecise.  Decrease dt to 0.01 or less.\n",
      "Warning: dt is large.  Estimated pdfs may be imprecise.  Decrease dt to 0.01 or less.\n",
      "Warning: dt is large.  Estimated pdfs may be imprecise.  Decrease dt to 0.01 or less.\n",
      "Warning: dt is large.  Estimated pdfs may be imprecise.  Decrease dt to 0.01 or less.\n",
      "Warning: dt is large.  Estimated pdfs may be imprecise.  Decrease dt to 0.01 or less.\n",
      "Warning: dt is large.  Estimated pdfs may be imprecise.  Decrease dt to 0.01 or less.\n",
      "Warning: dt is large.  Estimated pdfs may be imprecise.  Decrease dt to 0.01 or less.\n",
      "Warning: dt is large.  Estimated pdfs may be imprecise.  Decrease dt to 0.01 or less.\n",
      "Warning: dt is large.  Estimated pdfs may be imprecise.  Decrease dt to 0.01 or less.\n",
      "Warning: dt is large.  Estimated pdfs may be imprecise.  Decrease dt to 0.01 or less.\n",
      "Warning: dt is large.  Estimated pdfs may be imprecise.  Decrease dt to 0.01 or less.\n",
      "Warning: dt is large.  Estimated pdfs may be imprecise.  Decrease dt to 0.01 or less.\n",
      "Warning: dt is large.  Estimated pdfs may be imprecise.  Decrease dt to 0.01 or less.\n",
      "Warning: dt is large.  Estimated pdfs may be imprecise.  Decrease dt to 0.01 or less.\n",
      "Warning: dt is large.  Estimated pdfs may be imprecise.  Decrease dt to 0.01 or less.\n",
      "Warning: dt is large.  Estimated pdfs may be imprecise.  Decrease dt to 0.01 or less.\n",
      "Warning: dt is large.  Estimated pdfs may be imprecise.  Decrease dt to 0.01 or less.\n",
      "Warning: dt is large.  Estimated pdfs may be imprecise.  Decrease dt to 0.01 or less.\n",
      "Warning: dt is large.  Estimated pdfs may be imprecise.  Decrease dt to 0.01 or less.\n",
      "Warning: dt is large.  Estimated pdfs may be imprecise.  Decrease dt to 0.01 or less.\n",
      "Warning: dt is large.  Estimated pdfs may be imprecise.  Decrease dt to 0.01 or less.\n",
      "Warning: dt is large.  Estimated pdfs may be imprecise.  Decrease dt to 0.01 or less.\n",
      "Warning: dt is large.  Estimated pdfs may be imprecise.  Decrease dt to 0.01 or less.\n",
      "Warning: dt is large.  Estimated pdfs may be imprecise.  Decrease dt to 0.01 or less.\n",
      "Warning: dt is large.  Estimated pdfs may be imprecise.  Decrease dt to 0.01 or less.\n",
      "Warning: dt is large.  Estimated pdfs may be imprecise.  Decrease dt to 0.01 or less.\n"
     ]
    },
    {
     "name": "stderr",
     "output_type": "stream",
     "text": [
      "Warning: dt is large.  Estimated pdfs may be imprecise.  Decrease dt to 0.01 or less.\n",
      "Warning: dt is large.  Estimated pdfs may be imprecise.  Decrease dt to 0.01 or less.\n",
      "Warning: dt is large.  Estimated pdfs may be imprecise.  Decrease dt to 0.01 or less.\n",
      "Warning: dt is large.  Estimated pdfs may be imprecise.  Decrease dt to 0.01 or less.\n",
      "Warning: dt is large.  Estimated pdfs may be imprecise.  Decrease dt to 0.01 or less.\n",
      "Warning: dt is large.  Estimated pdfs may be imprecise.  Decrease dt to 0.01 or less.\n",
      "Warning: dt is large.  Estimated pdfs may be imprecise.  Decrease dt to 0.01 or less.\n",
      "Warning: dt is large.  Estimated pdfs may be imprecise.  Decrease dt to 0.01 or less.\n",
      "Warning: dt is large.  Estimated pdfs may be imprecise.  Decrease dt to 0.01 or less.\n",
      "Warning: dt is large.  Estimated pdfs may be imprecise.  Decrease dt to 0.01 or less.\n",
      "Warning: dt is large.  Estimated pdfs may be imprecise.  Decrease dt to 0.01 or less.\n",
      "Warning: dt is large.  Estimated pdfs may be imprecise.  Decrease dt to 0.01 or less.\n",
      "Warning: dt is large.  Estimated pdfs may be imprecise.  Decrease dt to 0.01 or less.\n",
      "Warning: dt is large.  Estimated pdfs may be imprecise.  Decrease dt to 0.01 or less.\n",
      "Warning: dt is large.  Estimated pdfs may be imprecise.  Decrease dt to 0.01 or less.\n",
      "Warning: dt is large.  Estimated pdfs may be imprecise.  Decrease dt to 0.01 or less.\n",
      "Warning: dt is large.  Estimated pdfs may be imprecise.  Decrease dt to 0.01 or less.\n",
      "Warning: dt is large.  Estimated pdfs may be imprecise.  Decrease dt to 0.01 or less.\n",
      "Warning: dt is large.  Estimated pdfs may be imprecise.  Decrease dt to 0.01 or less.\n",
      "Warning: dt is large.  Estimated pdfs may be imprecise.  Decrease dt to 0.01 or less.\n",
      "Warning: dt is large.  Estimated pdfs may be imprecise.  Decrease dt to 0.01 or less.\n",
      "Warning: dt is large.  Estimated pdfs may be imprecise.  Decrease dt to 0.01 or less.\n",
      "Warning: dt is large.  Estimated pdfs may be imprecise.  Decrease dt to 0.01 or less.\n",
      "Warning: dt is large.  Estimated pdfs may be imprecise.  Decrease dt to 0.01 or less.\n",
      "Warning: dt is large.  Estimated pdfs may be imprecise.  Decrease dt to 0.01 or less.\n",
      "Warning: dt is large.  Estimated pdfs may be imprecise.  Decrease dt to 0.01 or less.\n",
      "Warning: dt is large.  Estimated pdfs may be imprecise.  Decrease dt to 0.01 or less.\n",
      "Warning: dt is large.  Estimated pdfs may be imprecise.  Decrease dt to 0.01 or less.\n",
      "Warning: dt is large.  Estimated pdfs may be imprecise.  Decrease dt to 0.01 or less.\n",
      "Warning: dt is large.  Estimated pdfs may be imprecise.  Decrease dt to 0.01 or less.\n",
      "Warning: dt is large.  Estimated pdfs may be imprecise.  Decrease dt to 0.01 or less.\n",
      "Warning: dt is large.  Estimated pdfs may be imprecise.  Decrease dt to 0.01 or less.\n",
      "Warning: dt is large.  Estimated pdfs may be imprecise.  Decrease dt to 0.01 or less.\n",
      "Warning: dt is large.  Estimated pdfs may be imprecise.  Decrease dt to 0.01 or less.\n",
      "Warning: dt is large.  Estimated pdfs may be imprecise.  Decrease dt to 0.01 or less.\n",
      "Warning: dt is large.  Estimated pdfs may be imprecise.  Decrease dt to 0.01 or less.\n",
      "Warning: dt is large.  Estimated pdfs may be imprecise.  Decrease dt to 0.01 or less.\n",
      "Warning: dt is large.  Estimated pdfs may be imprecise.  Decrease dt to 0.01 or less.\n",
      "Warning: dt is large.  Estimated pdfs may be imprecise.  Decrease dt to 0.01 or less.\n",
      "Warning: dt is large.  Estimated pdfs may be imprecise.  Decrease dt to 0.01 or less.\n",
      "Warning: dt is large.  Estimated pdfs may be imprecise.  Decrease dt to 0.01 or less.\n",
      "Warning: dt is large.  Estimated pdfs may be imprecise.  Decrease dt to 0.01 or less.\n",
      "Warning: dt is large.  Estimated pdfs may be imprecise.  Decrease dt to 0.01 or less.\n",
      "Warning: dt is large.  Estimated pdfs may be imprecise.  Decrease dt to 0.01 or less.\n",
      "Warning: dt is large.  Estimated pdfs may be imprecise.  Decrease dt to 0.01 or less.\n",
      "Warning: dt is large.  Estimated pdfs may be imprecise.  Decrease dt to 0.01 or less.\n",
      "Warning: dt is large.  Estimated pdfs may be imprecise.  Decrease dt to 0.01 or less.\n",
      "Warning: dt is large.  Estimated pdfs may be imprecise.  Decrease dt to 0.01 or less.\n",
      "Warning: dt is large.  Estimated pdfs may be imprecise.  Decrease dt to 0.01 or less.\n",
      "Warning: dt is large.  Estimated pdfs may be imprecise.  Decrease dt to 0.01 or less.\n",
      "Warning: dt is large.  Estimated pdfs may be imprecise.  Decrease dt to 0.01 or less.\n",
      "Warning: dt is large.  Estimated pdfs may be imprecise.  Decrease dt to 0.01 or less.\n",
      "Warning: dt is large.  Estimated pdfs may be imprecise.  Decrease dt to 0.01 or less.\n",
      "Warning: dt is large.  Estimated pdfs may be imprecise.  Decrease dt to 0.01 or less.\n",
      "Warning: dt is large.  Estimated pdfs may be imprecise.  Decrease dt to 0.01 or less.\n",
      "Warning: dt is large.  Estimated pdfs may be imprecise.  Decrease dt to 0.01 or less.\n",
      "Warning: dt is large.  Estimated pdfs may be imprecise.  Decrease dt to 0.01 or less.\n",
      "Warning: dt is large.  Estimated pdfs may be imprecise.  Decrease dt to 0.01 or less.\n",
      "Warning: dt is large.  Estimated pdfs may be imprecise.  Decrease dt to 0.01 or less.\n",
      "Warning: dt is large.  Estimated pdfs may be imprecise.  Decrease dt to 0.01 or less.\n",
      "Warning: dt is large.  Estimated pdfs may be imprecise.  Decrease dt to 0.01 or less.\n",
      "Warning: dt is large.  Estimated pdfs may be imprecise.  Decrease dt to 0.01 or less.\n",
      "Warning: dt is large.  Estimated pdfs may be imprecise.  Decrease dt to 0.01 or less.\n",
      "Warning: dt is large.  Estimated pdfs may be imprecise.  Decrease dt to 0.01 or less.\n",
      "Warning: dt is large.  Estimated pdfs may be imprecise.  Decrease dt to 0.01 or less.\n",
      "Warning: dt is large.  Estimated pdfs may be imprecise.  Decrease dt to 0.01 or less.\n",
      "Warning: dt is large.  Estimated pdfs may be imprecise.  Decrease dt to 0.01 or less.\n",
      "Warning: dt is large.  Estimated pdfs may be imprecise.  Decrease dt to 0.01 or less.\n",
      "Warning: dt is large.  Estimated pdfs may be imprecise.  Decrease dt to 0.01 or less.\n",
      "Warning: dt is large.  Estimated pdfs may be imprecise.  Decrease dt to 0.01 or less.\n",
      "Warning: dt is large.  Estimated pdfs may be imprecise.  Decrease dt to 0.01 or less.\n",
      "Warning: dt is large.  Estimated pdfs may be imprecise.  Decrease dt to 0.01 or less.\n",
      "Warning: dt is large.  Estimated pdfs may be imprecise.  Decrease dt to 0.01 or less.\n",
      "Warning: dt is large.  Estimated pdfs may be imprecise.  Decrease dt to 0.01 or less.\n",
      "Warning: dt is large.  Estimated pdfs may be imprecise.  Decrease dt to 0.01 or less.\n",
      "Warning: dt is large.  Estimated pdfs may be imprecise.  Decrease dt to 0.01 or less.\n",
      "Warning: dt is large.  Estimated pdfs may be imprecise.  Decrease dt to 0.01 or less.\n",
      "Warning: dt is large.  Estimated pdfs may be imprecise.  Decrease dt to 0.01 or less.\n",
      "Warning: dt is large.  Estimated pdfs may be imprecise.  Decrease dt to 0.01 or less.\n",
      "Warning: dt is large.  Estimated pdfs may be imprecise.  Decrease dt to 0.01 or less.\n",
      "Warning: dt is large.  Estimated pdfs may be imprecise.  Decrease dt to 0.01 or less.\n",
      "Warning: dt is large.  Estimated pdfs may be imprecise.  Decrease dt to 0.01 or less.\n",
      "Warning: dt is large.  Estimated pdfs may be imprecise.  Decrease dt to 0.01 or less.\n",
      "Warning: dt is large.  Estimated pdfs may be imprecise.  Decrease dt to 0.01 or less.\n",
      "Warning: dt is large.  Estimated pdfs may be imprecise.  Decrease dt to 0.01 or less.\n",
      "Warning: dt is large.  Estimated pdfs may be imprecise.  Decrease dt to 0.01 or less.\n",
      "Warning: dt is large.  Estimated pdfs may be imprecise.  Decrease dt to 0.01 or less.\n",
      "Warning: dt is large.  Estimated pdfs may be imprecise.  Decrease dt to 0.01 or less.\n",
      "Warning: dt is large.  Estimated pdfs may be imprecise.  Decrease dt to 0.01 or less.\n",
      "Warning: dt is large.  Estimated pdfs may be imprecise.  Decrease dt to 0.01 or less.\n",
      "Warning: dt is large.  Estimated pdfs may be imprecise.  Decrease dt to 0.01 or less.\n",
      "Warning: dt is large.  Estimated pdfs may be imprecise.  Decrease dt to 0.01 or less.\n",
      "Warning: dt is large.  Estimated pdfs may be imprecise.  Decrease dt to 0.01 or less.\n",
      "Warning: dt is large.  Estimated pdfs may be imprecise.  Decrease dt to 0.01 or less.\n",
      "Warning: dt is large.  Estimated pdfs may be imprecise.  Decrease dt to 0.01 or less.\n",
      "Warning: dt is large.  Estimated pdfs may be imprecise.  Decrease dt to 0.01 or less.\n"
     ]
    },
    {
     "name": "stderr",
     "output_type": "stream",
     "text": [
      "Warning: dt is large.  Estimated pdfs may be imprecise.  Decrease dt to 0.01 or less.\n",
      "Warning: dt is large.  Estimated pdfs may be imprecise.  Decrease dt to 0.01 or less.\n",
      "Warning: dt is large.  Estimated pdfs may be imprecise.  Decrease dt to 0.01 or less.\n",
      "Warning: dt is large.  Estimated pdfs may be imprecise.  Decrease dt to 0.01 or less.\n",
      "Warning: dt is large.  Estimated pdfs may be imprecise.  Decrease dt to 0.01 or less.\n",
      "Warning: dt is large.  Estimated pdfs may be imprecise.  Decrease dt to 0.01 or less.\n",
      "Warning: dt is large.  Estimated pdfs may be imprecise.  Decrease dt to 0.01 or less.\n",
      "Warning: dt is large.  Estimated pdfs may be imprecise.  Decrease dt to 0.01 or less.\n",
      "Warning: dt is large.  Estimated pdfs may be imprecise.  Decrease dt to 0.01 or less.\n",
      "Warning: dt is large.  Estimated pdfs may be imprecise.  Decrease dt to 0.01 or less.\n",
      "Warning: dt is large.  Estimated pdfs may be imprecise.  Decrease dt to 0.01 or less.\n",
      "Warning: dt is large.  Estimated pdfs may be imprecise.  Decrease dt to 0.01 or less.\n",
      "Warning: dt is large.  Estimated pdfs may be imprecise.  Decrease dt to 0.01 or less.\n",
      "Warning: dt is large.  Estimated pdfs may be imprecise.  Decrease dt to 0.01 or less.\n",
      "Warning: dt is large.  Estimated pdfs may be imprecise.  Decrease dt to 0.01 or less.\n",
      "Warning: dt is large.  Estimated pdfs may be imprecise.  Decrease dt to 0.01 or less.\n",
      "Warning: dt is large.  Estimated pdfs may be imprecise.  Decrease dt to 0.01 or less.\n",
      "Warning: dt is large.  Estimated pdfs may be imprecise.  Decrease dt to 0.01 or less.\n",
      "Warning: dt is large.  Estimated pdfs may be imprecise.  Decrease dt to 0.01 or less.\n",
      "Warning: dt is large.  Estimated pdfs may be imprecise.  Decrease dt to 0.01 or less.\n",
      "Warning: dt is large.  Estimated pdfs may be imprecise.  Decrease dt to 0.01 or less.\n",
      "Warning: dt is large.  Estimated pdfs may be imprecise.  Decrease dt to 0.01 or less.\n",
      "Warning: dt is large.  Estimated pdfs may be imprecise.  Decrease dt to 0.01 or less.\n",
      "Warning: dt is large.  Estimated pdfs may be imprecise.  Decrease dt to 0.01 or less.\n",
      "Warning: dt is large.  Estimated pdfs may be imprecise.  Decrease dt to 0.01 or less.\n",
      "Warning: dt is large.  Estimated pdfs may be imprecise.  Decrease dt to 0.01 or less.\n",
      "Warning: dt is large.  Estimated pdfs may be imprecise.  Decrease dt to 0.01 or less.\n",
      "Warning: dt is large.  Estimated pdfs may be imprecise.  Decrease dt to 0.01 or less.\n",
      "Warning: dt is large.  Estimated pdfs may be imprecise.  Decrease dt to 0.01 or less.\n",
      "Warning: dt is large.  Estimated pdfs may be imprecise.  Decrease dt to 0.01 or less.\n",
      "Warning: dt is large.  Estimated pdfs may be imprecise.  Decrease dt to 0.01 or less.\n",
      "Warning: dt is large.  Estimated pdfs may be imprecise.  Decrease dt to 0.01 or less.\n",
      "Warning: dt is large.  Estimated pdfs may be imprecise.  Decrease dt to 0.01 or less.\n",
      "Warning: dt is large.  Estimated pdfs may be imprecise.  Decrease dt to 0.01 or less.\n",
      "Warning: dt is large.  Estimated pdfs may be imprecise.  Decrease dt to 0.01 or less.\n",
      "Warning: dt is large.  Estimated pdfs may be imprecise.  Decrease dt to 0.01 or less.\n",
      "Warning: dt is large.  Estimated pdfs may be imprecise.  Decrease dt to 0.01 or less.\n",
      "Warning: dt is large.  Estimated pdfs may be imprecise.  Decrease dt to 0.01 or less.\n",
      "Warning: dt is large.  Estimated pdfs may be imprecise.  Decrease dt to 0.01 or less.\n",
      "Warning: dt is large.  Estimated pdfs may be imprecise.  Decrease dt to 0.01 or less.\n",
      "Warning: dt is large.  Estimated pdfs may be imprecise.  Decrease dt to 0.01 or less.\n",
      "Warning: dt is large.  Estimated pdfs may be imprecise.  Decrease dt to 0.01 or less.\n",
      "Warning: dt is large.  Estimated pdfs may be imprecise.  Decrease dt to 0.01 or less.\n",
      "Warning: dt is large.  Estimated pdfs may be imprecise.  Decrease dt to 0.01 or less.\n",
      "Warning: dt is large.  Estimated pdfs may be imprecise.  Decrease dt to 0.01 or less.\n",
      "Warning: dt is large.  Estimated pdfs may be imprecise.  Decrease dt to 0.01 or less.\n",
      "Warning: dt is large.  Estimated pdfs may be imprecise.  Decrease dt to 0.01 or less.\n",
      "Warning: dt is large.  Estimated pdfs may be imprecise.  Decrease dt to 0.01 or less.\n",
      "Warning: dt is large.  Estimated pdfs may be imprecise.  Decrease dt to 0.01 or less.\n",
      "Warning: dt is large.  Estimated pdfs may be imprecise.  Decrease dt to 0.01 or less.\n",
      "Warning: dt is large.  Estimated pdfs may be imprecise.  Decrease dt to 0.01 or less.\n",
      "Warning: dt is large.  Estimated pdfs may be imprecise.  Decrease dt to 0.01 or less.\n",
      "Warning: dt is large.  Estimated pdfs may be imprecise.  Decrease dt to 0.01 or less.\n",
      "Warning: dt is large.  Estimated pdfs may be imprecise.  Decrease dt to 0.01 or less.\n",
      "Warning: dt is large.  Estimated pdfs may be imprecise.  Decrease dt to 0.01 or less.\n",
      "Warning: dt is large.  Estimated pdfs may be imprecise.  Decrease dt to 0.01 or less.\n",
      "Warning: dt is large.  Estimated pdfs may be imprecise.  Decrease dt to 0.01 or less.\n",
      "Warning: dt is large.  Estimated pdfs may be imprecise.  Decrease dt to 0.01 or less.\n",
      "Warning: dt is large.  Estimated pdfs may be imprecise.  Decrease dt to 0.01 or less.\n",
      "Warning: dt is large.  Estimated pdfs may be imprecise.  Decrease dt to 0.01 or less.\n",
      "Warning: dt is large.  Estimated pdfs may be imprecise.  Decrease dt to 0.01 or less.\n",
      "Warning: dt is large.  Estimated pdfs may be imprecise.  Decrease dt to 0.01 or less.\n",
      "Warning: dt is large.  Estimated pdfs may be imprecise.  Decrease dt to 0.01 or less.\n",
      "Warning: dt is large.  Estimated pdfs may be imprecise.  Decrease dt to 0.01 or less.\n",
      "Warning: dt is large.  Estimated pdfs may be imprecise.  Decrease dt to 0.01 or less.\n",
      "Warning: dt is large.  Estimated pdfs may be imprecise.  Decrease dt to 0.01 or less.\n",
      "Warning: dt is large.  Estimated pdfs may be imprecise.  Decrease dt to 0.01 or less.\n",
      "Warning: dt is large.  Estimated pdfs may be imprecise.  Decrease dt to 0.01 or less.\n",
      "Warning: dt is large.  Estimated pdfs may be imprecise.  Decrease dt to 0.01 or less.\n",
      "Warning: dt is large.  Estimated pdfs may be imprecise.  Decrease dt to 0.01 or less.\n",
      "Warning: dt is large.  Estimated pdfs may be imprecise.  Decrease dt to 0.01 or less.\n",
      "Warning: dt is large.  Estimated pdfs may be imprecise.  Decrease dt to 0.01 or less.\n",
      "Warning: dt is large.  Estimated pdfs may be imprecise.  Decrease dt to 0.01 or less.\n",
      "Warning: dt is large.  Estimated pdfs may be imprecise.  Decrease dt to 0.01 or less.\n",
      "Warning: dt is large.  Estimated pdfs may be imprecise.  Decrease dt to 0.01 or less.\n",
      "Warning: dt is large.  Estimated pdfs may be imprecise.  Decrease dt to 0.01 or less.\n",
      "Warning: dt is large.  Estimated pdfs may be imprecise.  Decrease dt to 0.01 or less.\n",
      "Warning: dt is large.  Estimated pdfs may be imprecise.  Decrease dt to 0.01 or less.\n",
      "Warning: dt is large.  Estimated pdfs may be imprecise.  Decrease dt to 0.01 or less.\n",
      "Warning: dt is large.  Estimated pdfs may be imprecise.  Decrease dt to 0.01 or less.\n",
      "Warning: dt is large.  Estimated pdfs may be imprecise.  Decrease dt to 0.01 or less.\n",
      "Warning: dt is large.  Estimated pdfs may be imprecise.  Decrease dt to 0.01 or less.\n",
      "Warning: dt is large.  Estimated pdfs may be imprecise.  Decrease dt to 0.01 or less.\n",
      "Warning: dt is large.  Estimated pdfs may be imprecise.  Decrease dt to 0.01 or less.\n",
      "Warning: dt is large.  Estimated pdfs may be imprecise.  Decrease dt to 0.01 or less.\n",
      "Warning: dt is large.  Estimated pdfs may be imprecise.  Decrease dt to 0.01 or less.\n",
      "Warning: dt is large.  Estimated pdfs may be imprecise.  Decrease dt to 0.01 or less.\n",
      "Warning: dt is large.  Estimated pdfs may be imprecise.  Decrease dt to 0.01 or less.\n",
      "Warning: dt is large.  Estimated pdfs may be imprecise.  Decrease dt to 0.01 or less.\n",
      "Warning: dt is large.  Estimated pdfs may be imprecise.  Decrease dt to 0.01 or less.\n",
      "Warning: dt is large.  Estimated pdfs may be imprecise.  Decrease dt to 0.01 or less.\n",
      "Warning: dt is large.  Estimated pdfs may be imprecise.  Decrease dt to 0.01 or less.\n",
      "Warning: dt is large.  Estimated pdfs may be imprecise.  Decrease dt to 0.01 or less.\n",
      "Warning: dt is large.  Estimated pdfs may be imprecise.  Decrease dt to 0.01 or less.\n",
      "Warning: dt is large.  Estimated pdfs may be imprecise.  Decrease dt to 0.01 or less.\n",
      "Warning: dt is large.  Estimated pdfs may be imprecise.  Decrease dt to 0.01 or less.\n"
     ]
    },
    {
     "name": "stderr",
     "output_type": "stream",
     "text": [
      "Warning: dt is large.  Estimated pdfs may be imprecise.  Decrease dt to 0.01 or less.\n",
      "Warning: dt is large.  Estimated pdfs may be imprecise.  Decrease dt to 0.01 or less.\n",
      "Warning: dt is large.  Estimated pdfs may be imprecise.  Decrease dt to 0.01 or less.\n",
      "Warning: dt is large.  Estimated pdfs may be imprecise.  Decrease dt to 0.01 or less.\n",
      "Warning: dt is large.  Estimated pdfs may be imprecise.  Decrease dt to 0.01 or less.\n",
      "Warning: dt is large.  Estimated pdfs may be imprecise.  Decrease dt to 0.01 or less.\n",
      "Warning: dt is large.  Estimated pdfs may be imprecise.  Decrease dt to 0.01 or less.\n",
      "Warning: dt is large.  Estimated pdfs may be imprecise.  Decrease dt to 0.01 or less.\n",
      "Warning: dt is large.  Estimated pdfs may be imprecise.  Decrease dt to 0.01 or less.\n",
      "Warning: dt is large.  Estimated pdfs may be imprecise.  Decrease dt to 0.01 or less.\n",
      "Warning: dt is large.  Estimated pdfs may be imprecise.  Decrease dt to 0.01 or less.\n",
      "Warning: dt is large.  Estimated pdfs may be imprecise.  Decrease dt to 0.01 or less.\n",
      "Warning: dt is large.  Estimated pdfs may be imprecise.  Decrease dt to 0.01 or less.\n",
      "Warning: dt is large.  Estimated pdfs may be imprecise.  Decrease dt to 0.01 or less.\n",
      "Warning: dt is large.  Estimated pdfs may be imprecise.  Decrease dt to 0.01 or less.\n",
      "Warning: dt is large.  Estimated pdfs may be imprecise.  Decrease dt to 0.01 or less.\n",
      "Warning: dt is large.  Estimated pdfs may be imprecise.  Decrease dt to 0.01 or less.\n",
      "Warning: dt is large.  Estimated pdfs may be imprecise.  Decrease dt to 0.01 or less.\n",
      "Warning: dt is large.  Estimated pdfs may be imprecise.  Decrease dt to 0.01 or less.\n",
      "Warning: dt is large.  Estimated pdfs may be imprecise.  Decrease dt to 0.01 or less.\n",
      "Warning: dt is large.  Estimated pdfs may be imprecise.  Decrease dt to 0.01 or less.\n",
      "Warning: dt is large.  Estimated pdfs may be imprecise.  Decrease dt to 0.01 or less.\n",
      "Warning: dt is large.  Estimated pdfs may be imprecise.  Decrease dt to 0.01 or less.\n",
      "Warning: dt is large.  Estimated pdfs may be imprecise.  Decrease dt to 0.01 or less.\n",
      "Warning: dt is large.  Estimated pdfs may be imprecise.  Decrease dt to 0.01 or less.\n",
      "Warning: dt is large.  Estimated pdfs may be imprecise.  Decrease dt to 0.01 or less.\n",
      "Warning: dt is large.  Estimated pdfs may be imprecise.  Decrease dt to 0.01 or less.\n",
      "Warning: dt is large.  Estimated pdfs may be imprecise.  Decrease dt to 0.01 or less.\n",
      "Warning: dt is large.  Estimated pdfs may be imprecise.  Decrease dt to 0.01 or less.\n",
      "Warning: dt is large.  Estimated pdfs may be imprecise.  Decrease dt to 0.01 or less.\n",
      "Warning: dt is large.  Estimated pdfs may be imprecise.  Decrease dt to 0.01 or less.\n",
      "Warning: dt is large.  Estimated pdfs may be imprecise.  Decrease dt to 0.01 or less.\n",
      "Warning: dt is large.  Estimated pdfs may be imprecise.  Decrease dt to 0.01 or less.\n",
      "Warning: dt is large.  Estimated pdfs may be imprecise.  Decrease dt to 0.01 or less.\n",
      "Warning: dt is large.  Estimated pdfs may be imprecise.  Decrease dt to 0.01 or less.\n",
      "Warning: dt is large.  Estimated pdfs may be imprecise.  Decrease dt to 0.01 or less.\n",
      "Warning: dt is large.  Estimated pdfs may be imprecise.  Decrease dt to 0.01 or less.\n",
      "Warning: dt is large.  Estimated pdfs may be imprecise.  Decrease dt to 0.01 or less.\n",
      "Warning: dt is large.  Estimated pdfs may be imprecise.  Decrease dt to 0.01 or less.\n",
      "Warning: dt is large.  Estimated pdfs may be imprecise.  Decrease dt to 0.01 or less.\n",
      "Warning: dt is large.  Estimated pdfs may be imprecise.  Decrease dt to 0.01 or less.\n",
      "Warning: dt is large.  Estimated pdfs may be imprecise.  Decrease dt to 0.01 or less.\n",
      "Warning: dt is large.  Estimated pdfs may be imprecise.  Decrease dt to 0.01 or less.\n",
      "Warning: dt is large.  Estimated pdfs may be imprecise.  Decrease dt to 0.01 or less.\n",
      "Warning: dt is large.  Estimated pdfs may be imprecise.  Decrease dt to 0.01 or less.\n",
      "Warning: dt is large.  Estimated pdfs may be imprecise.  Decrease dt to 0.01 or less.\n",
      "Warning: dt is large.  Estimated pdfs may be imprecise.  Decrease dt to 0.01 or less.\n",
      "Warning: dt is large.  Estimated pdfs may be imprecise.  Decrease dt to 0.01 or less.\n",
      "Warning: dt is large.  Estimated pdfs may be imprecise.  Decrease dt to 0.01 or less.\n",
      "Warning: dt is large.  Estimated pdfs may be imprecise.  Decrease dt to 0.01 or less.\n",
      "Warning: dt is large.  Estimated pdfs may be imprecise.  Decrease dt to 0.01 or less.\n",
      "Warning: dt is large.  Estimated pdfs may be imprecise.  Decrease dt to 0.01 or less.\n",
      "Warning: dt is large.  Estimated pdfs may be imprecise.  Decrease dt to 0.01 or less.\n",
      "Warning: dt is large.  Estimated pdfs may be imprecise.  Decrease dt to 0.01 or less.\n",
      "Warning: dt is large.  Estimated pdfs may be imprecise.  Decrease dt to 0.01 or less.\n",
      "Warning: dt is large.  Estimated pdfs may be imprecise.  Decrease dt to 0.01 or less.\n",
      "Warning: dt is large.  Estimated pdfs may be imprecise.  Decrease dt to 0.01 or less.\n",
      "Warning: dt is large.  Estimated pdfs may be imprecise.  Decrease dt to 0.01 or less.\n",
      "Warning: dt is large.  Estimated pdfs may be imprecise.  Decrease dt to 0.01 or less.\n",
      "Warning: dt is large.  Estimated pdfs may be imprecise.  Decrease dt to 0.01 or less.\n",
      "Warning: dt is large.  Estimated pdfs may be imprecise.  Decrease dt to 0.01 or less.\n",
      "Warning: dt is large.  Estimated pdfs may be imprecise.  Decrease dt to 0.01 or less.\n",
      "Warning: dt is large.  Estimated pdfs may be imprecise.  Decrease dt to 0.01 or less.\n",
      "Warning: dt is large.  Estimated pdfs may be imprecise.  Decrease dt to 0.01 or less.\n",
      "Warning: dt is large.  Estimated pdfs may be imprecise.  Decrease dt to 0.01 or less.\n",
      "Warning: dt is large.  Estimated pdfs may be imprecise.  Decrease dt to 0.01 or less.\n",
      "Warning: dt is large.  Estimated pdfs may be imprecise.  Decrease dt to 0.01 or less.\n",
      "Warning: dt is large.  Estimated pdfs may be imprecise.  Decrease dt to 0.01 or less.\n",
      "Warning: dt is large.  Estimated pdfs may be imprecise.  Decrease dt to 0.01 or less.\n",
      "Warning: dt is large.  Estimated pdfs may be imprecise.  Decrease dt to 0.01 or less.\n",
      "Warning: dt is large.  Estimated pdfs may be imprecise.  Decrease dt to 0.01 or less.\n",
      "Warning: dt is large.  Estimated pdfs may be imprecise.  Decrease dt to 0.01 or less.\n",
      "Warning: dt is large.  Estimated pdfs may be imprecise.  Decrease dt to 0.01 or less.\n",
      "Warning: dt is large.  Estimated pdfs may be imprecise.  Decrease dt to 0.01 or less.\n",
      "Warning: dt is large.  Estimated pdfs may be imprecise.  Decrease dt to 0.01 or less.\n",
      "Warning: dt is large.  Estimated pdfs may be imprecise.  Decrease dt to 0.01 or less.\n",
      "Warning: dt is large.  Estimated pdfs may be imprecise.  Decrease dt to 0.01 or less.\n",
      "Warning: dt is large.  Estimated pdfs may be imprecise.  Decrease dt to 0.01 or less.\n",
      "Warning: dt is large.  Estimated pdfs may be imprecise.  Decrease dt to 0.01 or less.\n",
      "Warning: dt is large.  Estimated pdfs may be imprecise.  Decrease dt to 0.01 or less.\n",
      "Warning: dt is large.  Estimated pdfs may be imprecise.  Decrease dt to 0.01 or less.\n",
      "Warning: dt is large.  Estimated pdfs may be imprecise.  Decrease dt to 0.01 or less.\n",
      "Warning: dt is large.  Estimated pdfs may be imprecise.  Decrease dt to 0.01 or less.\n",
      "Warning: dt is large.  Estimated pdfs may be imprecise.  Decrease dt to 0.01 or less.\n",
      "Warning: dt is large.  Estimated pdfs may be imprecise.  Decrease dt to 0.01 or less.\n",
      "Warning: dt is large.  Estimated pdfs may be imprecise.  Decrease dt to 0.01 or less.\n",
      "Warning: dt is large.  Estimated pdfs may be imprecise.  Decrease dt to 0.01 or less.\n",
      "Warning: dt is large.  Estimated pdfs may be imprecise.  Decrease dt to 0.01 or less.\n",
      "Warning: dt is large.  Estimated pdfs may be imprecise.  Decrease dt to 0.01 or less.\n",
      "Warning: dt is large.  Estimated pdfs may be imprecise.  Decrease dt to 0.01 or less.\n",
      "Warning: dt is large.  Estimated pdfs may be imprecise.  Decrease dt to 0.01 or less.\n",
      "Warning: dt is large.  Estimated pdfs may be imprecise.  Decrease dt to 0.01 or less.\n",
      "Warning: dt is large.  Estimated pdfs may be imprecise.  Decrease dt to 0.01 or less.\n",
      "Warning: dt is large.  Estimated pdfs may be imprecise.  Decrease dt to 0.01 or less.\n",
      "Warning: dt is large.  Estimated pdfs may be imprecise.  Decrease dt to 0.01 or less.\n",
      "Warning: dt is large.  Estimated pdfs may be imprecise.  Decrease dt to 0.01 or less.\n"
     ]
    },
    {
     "name": "stderr",
     "output_type": "stream",
     "text": [
      "Warning: dt is large.  Estimated pdfs may be imprecise.  Decrease dt to 0.01 or less.\n",
      "Warning: dt is large.  Estimated pdfs may be imprecise.  Decrease dt to 0.01 or less.\n",
      "Warning: dt is large.  Estimated pdfs may be imprecise.  Decrease dt to 0.01 or less.\n",
      "Warning: dt is large.  Estimated pdfs may be imprecise.  Decrease dt to 0.01 or less.\n",
      "Warning: dt is large.  Estimated pdfs may be imprecise.  Decrease dt to 0.01 or less.\n",
      "Warning: dt is large.  Estimated pdfs may be imprecise.  Decrease dt to 0.01 or less.\n",
      "Warning: dt is large.  Estimated pdfs may be imprecise.  Decrease dt to 0.01 or less.\n",
      "Warning: dt is large.  Estimated pdfs may be imprecise.  Decrease dt to 0.01 or less.\n",
      "Warning: dt is large.  Estimated pdfs may be imprecise.  Decrease dt to 0.01 or less.\n",
      "Warning: dt is large.  Estimated pdfs may be imprecise.  Decrease dt to 0.01 or less.\n",
      "Warning: dt is large.  Estimated pdfs may be imprecise.  Decrease dt to 0.01 or less.\n",
      "Warning: dt is large.  Estimated pdfs may be imprecise.  Decrease dt to 0.01 or less.\n",
      "Warning: dt is large.  Estimated pdfs may be imprecise.  Decrease dt to 0.01 or less.\n",
      "Warning: dt is large.  Estimated pdfs may be imprecise.  Decrease dt to 0.01 or less.\n",
      "Warning: dt is large.  Estimated pdfs may be imprecise.  Decrease dt to 0.01 or less.\n",
      "Warning: dt is large.  Estimated pdfs may be imprecise.  Decrease dt to 0.01 or less.\n",
      "Warning: dt is large.  Estimated pdfs may be imprecise.  Decrease dt to 0.01 or less.\n",
      "Warning: dt is large.  Estimated pdfs may be imprecise.  Decrease dt to 0.01 or less.\n",
      "Warning: dt is large.  Estimated pdfs may be imprecise.  Decrease dt to 0.01 or less.\n",
      "Warning: dt is large.  Estimated pdfs may be imprecise.  Decrease dt to 0.01 or less.\n",
      "Warning: dt is large.  Estimated pdfs may be imprecise.  Decrease dt to 0.01 or less.\n",
      "Warning: dt is large.  Estimated pdfs may be imprecise.  Decrease dt to 0.01 or less.\n",
      "Warning: dt is large.  Estimated pdfs may be imprecise.  Decrease dt to 0.01 or less.\n",
      "Warning: dt is large.  Estimated pdfs may be imprecise.  Decrease dt to 0.01 or less.\n",
      "Warning: dt is large.  Estimated pdfs may be imprecise.  Decrease dt to 0.01 or less.\n",
      "Warning: dt is large.  Estimated pdfs may be imprecise.  Decrease dt to 0.01 or less.\n",
      "Warning: dt is large.  Estimated pdfs may be imprecise.  Decrease dt to 0.01 or less.\n",
      "Warning: dt is large.  Estimated pdfs may be imprecise.  Decrease dt to 0.01 or less.\n",
      "Warning: dt is large.  Estimated pdfs may be imprecise.  Decrease dt to 0.01 or less.\n",
      "Warning: dt is large.  Estimated pdfs may be imprecise.  Decrease dt to 0.01 or less.\n",
      "Warning: dt is large.  Estimated pdfs may be imprecise.  Decrease dt to 0.01 or less.\n",
      "Warning: dt is large.  Estimated pdfs may be imprecise.  Decrease dt to 0.01 or less.\n",
      "Warning: dt is large.  Estimated pdfs may be imprecise.  Decrease dt to 0.01 or less.\n",
      "Warning: dt is large.  Estimated pdfs may be imprecise.  Decrease dt to 0.01 or less.\n",
      "Warning: dt is large.  Estimated pdfs may be imprecise.  Decrease dt to 0.01 or less.\n",
      "Warning: dt is large.  Estimated pdfs may be imprecise.  Decrease dt to 0.01 or less.\n",
      "Warning: dt is large.  Estimated pdfs may be imprecise.  Decrease dt to 0.01 or less.\n",
      "Warning: dt is large.  Estimated pdfs may be imprecise.  Decrease dt to 0.01 or less.\n",
      "Warning: dt is large.  Estimated pdfs may be imprecise.  Decrease dt to 0.01 or less.\n",
      "Warning: dt is large.  Estimated pdfs may be imprecise.  Decrease dt to 0.01 or less.\n",
      "Warning: dt is large.  Estimated pdfs may be imprecise.  Decrease dt to 0.01 or less.\n",
      "Warning: dt is large.  Estimated pdfs may be imprecise.  Decrease dt to 0.01 or less.\n",
      "Warning: dt is large.  Estimated pdfs may be imprecise.  Decrease dt to 0.01 or less.\n",
      "Warning: dt is large.  Estimated pdfs may be imprecise.  Decrease dt to 0.01 or less.\n",
      "Warning: dt is large.  Estimated pdfs may be imprecise.  Decrease dt to 0.01 or less.\n",
      "Warning: dt is large.  Estimated pdfs may be imprecise.  Decrease dt to 0.01 or less.\n",
      "Warning: dt is large.  Estimated pdfs may be imprecise.  Decrease dt to 0.01 or less.\n",
      "Warning: dt is large.  Estimated pdfs may be imprecise.  Decrease dt to 0.01 or less.\n",
      "Warning: dt is large.  Estimated pdfs may be imprecise.  Decrease dt to 0.01 or less.\n",
      "Warning: dt is large.  Estimated pdfs may be imprecise.  Decrease dt to 0.01 or less.\n",
      "Warning: dt is large.  Estimated pdfs may be imprecise.  Decrease dt to 0.01 or less.\n",
      "Warning: dt is large.  Estimated pdfs may be imprecise.  Decrease dt to 0.01 or less.\n",
      "Warning: dt is large.  Estimated pdfs may be imprecise.  Decrease dt to 0.01 or less.\n",
      "Warning: dt is large.  Estimated pdfs may be imprecise.  Decrease dt to 0.01 or less.\n",
      "Warning: dt is large.  Estimated pdfs may be imprecise.  Decrease dt to 0.01 or less.\n",
      "Warning: dt is large.  Estimated pdfs may be imprecise.  Decrease dt to 0.01 or less.\n",
      "Warning: dt is large.  Estimated pdfs may be imprecise.  Decrease dt to 0.01 or less.\n",
      "Warning: dt is large.  Estimated pdfs may be imprecise.  Decrease dt to 0.01 or less.\n",
      "Warning: dt is large.  Estimated pdfs may be imprecise.  Decrease dt to 0.01 or less.\n",
      "Warning: dt is large.  Estimated pdfs may be imprecise.  Decrease dt to 0.01 or less.\n",
      "Warning: dt is large.  Estimated pdfs may be imprecise.  Decrease dt to 0.01 or less.\n",
      "Warning: dt is large.  Estimated pdfs may be imprecise.  Decrease dt to 0.01 or less.\n",
      "Warning: dt is large.  Estimated pdfs may be imprecise.  Decrease dt to 0.01 or less.\n",
      "Warning: dt is large.  Estimated pdfs may be imprecise.  Decrease dt to 0.01 or less.\n",
      "Warning: dt is large.  Estimated pdfs may be imprecise.  Decrease dt to 0.01 or less.\n",
      "Warning: dt is large.  Estimated pdfs may be imprecise.  Decrease dt to 0.01 or less.\n",
      "Warning: dt is large.  Estimated pdfs may be imprecise.  Decrease dt to 0.01 or less.\n",
      "Warning: dt is large.  Estimated pdfs may be imprecise.  Decrease dt to 0.01 or less.\n",
      "Warning: dt is large.  Estimated pdfs may be imprecise.  Decrease dt to 0.01 or less.\n",
      "Warning: dt is large.  Estimated pdfs may be imprecise.  Decrease dt to 0.01 or less.\n",
      "Warning: dt is large.  Estimated pdfs may be imprecise.  Decrease dt to 0.01 or less.\n",
      "Warning: dt is large.  Estimated pdfs may be imprecise.  Decrease dt to 0.01 or less.\n",
      "Warning: dt is large.  Estimated pdfs may be imprecise.  Decrease dt to 0.01 or less.\n",
      "Warning: dt is large.  Estimated pdfs may be imprecise.  Decrease dt to 0.01 or less.\n",
      "Warning: dt is large.  Estimated pdfs may be imprecise.  Decrease dt to 0.01 or less.\n",
      "Warning: dt is large.  Estimated pdfs may be imprecise.  Decrease dt to 0.01 or less.\n",
      "Warning: dt is large.  Estimated pdfs may be imprecise.  Decrease dt to 0.01 or less.\n",
      "Warning: dt is large.  Estimated pdfs may be imprecise.  Decrease dt to 0.01 or less.\n",
      "Warning: dt is large.  Estimated pdfs may be imprecise.  Decrease dt to 0.01 or less.\n",
      "Warning: dt is large.  Estimated pdfs may be imprecise.  Decrease dt to 0.01 or less.\n",
      "Warning: dt is large.  Estimated pdfs may be imprecise.  Decrease dt to 0.01 or less.\n",
      "Warning: dt is large.  Estimated pdfs may be imprecise.  Decrease dt to 0.01 or less.\n",
      "Warning: dt is large.  Estimated pdfs may be imprecise.  Decrease dt to 0.01 or less.\n",
      "Warning: dt is large.  Estimated pdfs may be imprecise.  Decrease dt to 0.01 or less.\n",
      "Warning: dt is large.  Estimated pdfs may be imprecise.  Decrease dt to 0.01 or less.\n",
      "Warning: dt is large.  Estimated pdfs may be imprecise.  Decrease dt to 0.01 or less.\n",
      "Warning: dt is large.  Estimated pdfs may be imprecise.  Decrease dt to 0.01 or less.\n",
      "Warning: dt is large.  Estimated pdfs may be imprecise.  Decrease dt to 0.01 or less.\n",
      "Warning: dt is large.  Estimated pdfs may be imprecise.  Decrease dt to 0.01 or less.\n",
      "Warning: dt is large.  Estimated pdfs may be imprecise.  Decrease dt to 0.01 or less.\n",
      "Warning: dt is large.  Estimated pdfs may be imprecise.  Decrease dt to 0.01 or less.\n",
      "Warning: dt is large.  Estimated pdfs may be imprecise.  Decrease dt to 0.01 or less.\n",
      "Warning: dt is large.  Estimated pdfs may be imprecise.  Decrease dt to 0.01 or less.\n",
      "Warning: dt is large.  Estimated pdfs may be imprecise.  Decrease dt to 0.01 or less.\n",
      "Warning: dt is large.  Estimated pdfs may be imprecise.  Decrease dt to 0.01 or less.\n",
      "Warning: dt is large.  Estimated pdfs may be imprecise.  Decrease dt to 0.01 or less.\n"
     ]
    },
    {
     "name": "stderr",
     "output_type": "stream",
     "text": [
      "Warning: dt is large.  Estimated pdfs may be imprecise.  Decrease dt to 0.01 or less.\n",
      "Warning: dt is large.  Estimated pdfs may be imprecise.  Decrease dt to 0.01 or less.\n",
      "Warning: dt is large.  Estimated pdfs may be imprecise.  Decrease dt to 0.01 or less.\n",
      "Warning: dt is large.  Estimated pdfs may be imprecise.  Decrease dt to 0.01 or less.\n",
      "Warning: dt is large.  Estimated pdfs may be imprecise.  Decrease dt to 0.01 or less.\n",
      "Warning: dt is large.  Estimated pdfs may be imprecise.  Decrease dt to 0.01 or less.\n",
      "Warning: dt is large.  Estimated pdfs may be imprecise.  Decrease dt to 0.01 or less.\n",
      "Warning: dt is large.  Estimated pdfs may be imprecise.  Decrease dt to 0.01 or less.\n",
      "Warning: dt is large.  Estimated pdfs may be imprecise.  Decrease dt to 0.01 or less.\n",
      "Warning: dt is large.  Estimated pdfs may be imprecise.  Decrease dt to 0.01 or less.\n",
      "Warning: dt is large.  Estimated pdfs may be imprecise.  Decrease dt to 0.01 or less.\n",
      "Warning: dt is large.  Estimated pdfs may be imprecise.  Decrease dt to 0.01 or less.\n",
      "Warning: dt is large.  Estimated pdfs may be imprecise.  Decrease dt to 0.01 or less.\n",
      "Warning: dt is large.  Estimated pdfs may be imprecise.  Decrease dt to 0.01 or less.\n",
      "Warning: dt is large.  Estimated pdfs may be imprecise.  Decrease dt to 0.01 or less.\n",
      "Warning: dt is large.  Estimated pdfs may be imprecise.  Decrease dt to 0.01 or less.\n",
      "Warning: dt is large.  Estimated pdfs may be imprecise.  Decrease dt to 0.01 or less.\n",
      "Warning: dt is large.  Estimated pdfs may be imprecise.  Decrease dt to 0.01 or less.\n",
      "Warning: dt is large.  Estimated pdfs may be imprecise.  Decrease dt to 0.01 or less.\n",
      "Warning: dt is large.  Estimated pdfs may be imprecise.  Decrease dt to 0.01 or less.\n",
      "Warning: dt is large.  Estimated pdfs may be imprecise.  Decrease dt to 0.01 or less.\n",
      "Warning: dt is large.  Estimated pdfs may be imprecise.  Decrease dt to 0.01 or less.\n",
      "Warning: dt is large.  Estimated pdfs may be imprecise.  Decrease dt to 0.01 or less.\n",
      "Warning: dt is large.  Estimated pdfs may be imprecise.  Decrease dt to 0.01 or less.\n",
      "Warning: dt is large.  Estimated pdfs may be imprecise.  Decrease dt to 0.01 or less.\n",
      "Warning: dt is large.  Estimated pdfs may be imprecise.  Decrease dt to 0.01 or less.\n",
      "Warning: dt is large.  Estimated pdfs may be imprecise.  Decrease dt to 0.01 or less.\n",
      "Warning: dt is large.  Estimated pdfs may be imprecise.  Decrease dt to 0.01 or less.\n",
      "Warning: dt is large.  Estimated pdfs may be imprecise.  Decrease dt to 0.01 or less.\n",
      "Warning: dt is large.  Estimated pdfs may be imprecise.  Decrease dt to 0.01 or less.\n",
      "Warning: dt is large.  Estimated pdfs may be imprecise.  Decrease dt to 0.01 or less.\n",
      "Warning: dt is large.  Estimated pdfs may be imprecise.  Decrease dt to 0.01 or less.\n",
      "Warning: dt is large.  Estimated pdfs may be imprecise.  Decrease dt to 0.01 or less.\n",
      "Warning: dt is large.  Estimated pdfs may be imprecise.  Decrease dt to 0.01 or less.\n",
      "Warning: dt is large.  Estimated pdfs may be imprecise.  Decrease dt to 0.01 or less.\n",
      "Warning: dt is large.  Estimated pdfs may be imprecise.  Decrease dt to 0.01 or less.\n",
      "Warning: dt is large.  Estimated pdfs may be imprecise.  Decrease dt to 0.01 or less.\n",
      "Warning: dt is large.  Estimated pdfs may be imprecise.  Decrease dt to 0.01 or less.\n",
      "Warning: dt is large.  Estimated pdfs may be imprecise.  Decrease dt to 0.01 or less.\n",
      "Warning: dt is large.  Estimated pdfs may be imprecise.  Decrease dt to 0.01 or less.\n",
      "Warning: dt is large.  Estimated pdfs may be imprecise.  Decrease dt to 0.01 or less.\n",
      "Warning: dt is large.  Estimated pdfs may be imprecise.  Decrease dt to 0.01 or less.\n",
      "Warning: dt is large.  Estimated pdfs may be imprecise.  Decrease dt to 0.01 or less.\n",
      "Warning: dt is large.  Estimated pdfs may be imprecise.  Decrease dt to 0.01 or less.\n",
      "Warning: dt is large.  Estimated pdfs may be imprecise.  Decrease dt to 0.01 or less.\n",
      "Warning: dt is large.  Estimated pdfs may be imprecise.  Decrease dt to 0.01 or less.\n",
      "Warning: dt is large.  Estimated pdfs may be imprecise.  Decrease dt to 0.01 or less.\n",
      "Warning: dt is large.  Estimated pdfs may be imprecise.  Decrease dt to 0.01 or less.\n",
      "Warning: dt is large.  Estimated pdfs may be imprecise.  Decrease dt to 0.01 or less.\n",
      "Warning: dt is large.  Estimated pdfs may be imprecise.  Decrease dt to 0.01 or less.\n",
      "Warning: dt is large.  Estimated pdfs may be imprecise.  Decrease dt to 0.01 or less.\n",
      "Warning: dt is large.  Estimated pdfs may be imprecise.  Decrease dt to 0.01 or less.\n",
      "Warning: dt is large.  Estimated pdfs may be imprecise.  Decrease dt to 0.01 or less.\n",
      "Warning: dt is large.  Estimated pdfs may be imprecise.  Decrease dt to 0.01 or less.\n",
      "Warning: dt is large.  Estimated pdfs may be imprecise.  Decrease dt to 0.01 or less.\n",
      "Warning: dt is large.  Estimated pdfs may be imprecise.  Decrease dt to 0.01 or less.\n",
      "Warning: dt is large.  Estimated pdfs may be imprecise.  Decrease dt to 0.01 or less.\n",
      "Warning: dt is large.  Estimated pdfs may be imprecise.  Decrease dt to 0.01 or less.\n",
      "Warning: dt is large.  Estimated pdfs may be imprecise.  Decrease dt to 0.01 or less.\n",
      "Warning: dt is large.  Estimated pdfs may be imprecise.  Decrease dt to 0.01 or less.\n",
      "Warning: dt is large.  Estimated pdfs may be imprecise.  Decrease dt to 0.01 or less.\n",
      "Warning: dt is large.  Estimated pdfs may be imprecise.  Decrease dt to 0.01 or less.\n",
      "Warning: dt is large.  Estimated pdfs may be imprecise.  Decrease dt to 0.01 or less.\n",
      "Warning: dt is large.  Estimated pdfs may be imprecise.  Decrease dt to 0.01 or less.\n",
      "Warning: dt is large.  Estimated pdfs may be imprecise.  Decrease dt to 0.01 or less.\n",
      "Warning: dt is large.  Estimated pdfs may be imprecise.  Decrease dt to 0.01 or less.\n",
      "Warning: dt is large.  Estimated pdfs may be imprecise.  Decrease dt to 0.01 or less.\n",
      "Warning: dt is large.  Estimated pdfs may be imprecise.  Decrease dt to 0.01 or less.\n",
      "Warning: dt is large.  Estimated pdfs may be imprecise.  Decrease dt to 0.01 or less.\n",
      "Warning: dt is large.  Estimated pdfs may be imprecise.  Decrease dt to 0.01 or less.\n",
      "Warning: dt is large.  Estimated pdfs may be imprecise.  Decrease dt to 0.01 or less.\n",
      "Warning: dt is large.  Estimated pdfs may be imprecise.  Decrease dt to 0.01 or less.\n",
      "Warning: dt is large.  Estimated pdfs may be imprecise.  Decrease dt to 0.01 or less.\n",
      "Warning: dt is large.  Estimated pdfs may be imprecise.  Decrease dt to 0.01 or less.\n",
      "Warning: dt is large.  Estimated pdfs may be imprecise.  Decrease dt to 0.01 or less.\n",
      "Warning: dt is large.  Estimated pdfs may be imprecise.  Decrease dt to 0.01 or less.\n",
      "Warning: dt is large.  Estimated pdfs may be imprecise.  Decrease dt to 0.01 or less.\n",
      "Warning: dt is large.  Estimated pdfs may be imprecise.  Decrease dt to 0.01 or less.\n",
      "Warning: dt is large.  Estimated pdfs may be imprecise.  Decrease dt to 0.01 or less.\n",
      "Warning: dt is large.  Estimated pdfs may be imprecise.  Decrease dt to 0.01 or less.\n",
      "Warning: dt is large.  Estimated pdfs may be imprecise.  Decrease dt to 0.01 or less.\n",
      "Warning: dt is large.  Estimated pdfs may be imprecise.  Decrease dt to 0.01 or less.\n",
      "Warning: dt is large.  Estimated pdfs may be imprecise.  Decrease dt to 0.01 or less.\n",
      "Warning: dt is large.  Estimated pdfs may be imprecise.  Decrease dt to 0.01 or less.\n",
      "Warning: dt is large.  Estimated pdfs may be imprecise.  Decrease dt to 0.01 or less.\n",
      "Warning: dt is large.  Estimated pdfs may be imprecise.  Decrease dt to 0.01 or less.\n",
      "Warning: dt is large.  Estimated pdfs may be imprecise.  Decrease dt to 0.01 or less.\n",
      "Warning: dt is large.  Estimated pdfs may be imprecise.  Decrease dt to 0.01 or less.\n",
      "Warning: dt is large.  Estimated pdfs may be imprecise.  Decrease dt to 0.01 or less.\n",
      "Warning: dt is large.  Estimated pdfs may be imprecise.  Decrease dt to 0.01 or less.\n",
      "Warning: dt is large.  Estimated pdfs may be imprecise.  Decrease dt to 0.01 or less.\n",
      "Warning: dt is large.  Estimated pdfs may be imprecise.  Decrease dt to 0.01 or less.\n",
      "Warning: dt is large.  Estimated pdfs may be imprecise.  Decrease dt to 0.01 or less.\n",
      "Warning: dt is large.  Estimated pdfs may be imprecise.  Decrease dt to 0.01 or less.\n",
      "Warning: dt is large.  Estimated pdfs may be imprecise.  Decrease dt to 0.01 or less.\n",
      "Warning: dt is large.  Estimated pdfs may be imprecise.  Decrease dt to 0.01 or less.\n"
     ]
    },
    {
     "name": "stderr",
     "output_type": "stream",
     "text": [
      "Warning: dt is large.  Estimated pdfs may be imprecise.  Decrease dt to 0.01 or less.\n",
      "Warning: dt is large.  Estimated pdfs may be imprecise.  Decrease dt to 0.01 or less.\n",
      "Warning: dt is large.  Estimated pdfs may be imprecise.  Decrease dt to 0.01 or less.\n",
      "Warning: dt is large.  Estimated pdfs may be imprecise.  Decrease dt to 0.01 or less.\n",
      "Warning: dt is large.  Estimated pdfs may be imprecise.  Decrease dt to 0.01 or less.\n",
      "Warning: dt is large.  Estimated pdfs may be imprecise.  Decrease dt to 0.01 or less.\n",
      "Warning: dt is large.  Estimated pdfs may be imprecise.  Decrease dt to 0.01 or less.\n",
      "Warning: dt is large.  Estimated pdfs may be imprecise.  Decrease dt to 0.01 or less.\n",
      "Warning: dt is large.  Estimated pdfs may be imprecise.  Decrease dt to 0.01 or less.\n",
      "Warning: dt is large.  Estimated pdfs may be imprecise.  Decrease dt to 0.01 or less.\n",
      "Warning: dt is large.  Estimated pdfs may be imprecise.  Decrease dt to 0.01 or less.\n",
      "Warning: dt is large.  Estimated pdfs may be imprecise.  Decrease dt to 0.01 or less.\n",
      "Warning: dt is large.  Estimated pdfs may be imprecise.  Decrease dt to 0.01 or less.\n",
      "Warning: dt is large.  Estimated pdfs may be imprecise.  Decrease dt to 0.01 or less.\n",
      "Warning: dt is large.  Estimated pdfs may be imprecise.  Decrease dt to 0.01 or less.\n",
      "Warning: dt is large.  Estimated pdfs may be imprecise.  Decrease dt to 0.01 or less.\n",
      "Warning: dt is large.  Estimated pdfs may be imprecise.  Decrease dt to 0.01 or less.\n",
      "Warning: dt is large.  Estimated pdfs may be imprecise.  Decrease dt to 0.01 or less.\n",
      "Warning: dt is large.  Estimated pdfs may be imprecise.  Decrease dt to 0.01 or less.\n",
      "Warning: dt is large.  Estimated pdfs may be imprecise.  Decrease dt to 0.01 or less.\n",
      "Warning: dt is large.  Estimated pdfs may be imprecise.  Decrease dt to 0.01 or less.\n",
      "Warning: dt is large.  Estimated pdfs may be imprecise.  Decrease dt to 0.01 or less.\n",
      "Warning: dt is large.  Estimated pdfs may be imprecise.  Decrease dt to 0.01 or less.\n",
      "Warning: dt is large.  Estimated pdfs may be imprecise.  Decrease dt to 0.01 or less.\n",
      "Warning: dt is large.  Estimated pdfs may be imprecise.  Decrease dt to 0.01 or less.\n",
      "Warning: dt is large.  Estimated pdfs may be imprecise.  Decrease dt to 0.01 or less.\n",
      "Warning: dt is large.  Estimated pdfs may be imprecise.  Decrease dt to 0.01 or less.\n",
      "Warning: dt is large.  Estimated pdfs may be imprecise.  Decrease dt to 0.01 or less.\n",
      "Warning: dt is large.  Estimated pdfs may be imprecise.  Decrease dt to 0.01 or less.\n",
      "Warning: dt is large.  Estimated pdfs may be imprecise.  Decrease dt to 0.01 or less.\n",
      "Warning: dt is large.  Estimated pdfs may be imprecise.  Decrease dt to 0.01 or less.\n",
      "Warning: dt is large.  Estimated pdfs may be imprecise.  Decrease dt to 0.01 or less.\n",
      "Warning: dt is large.  Estimated pdfs may be imprecise.  Decrease dt to 0.01 or less.\n",
      "Warning: dt is large.  Estimated pdfs may be imprecise.  Decrease dt to 0.01 or less.\n",
      "Warning: dt is large.  Estimated pdfs may be imprecise.  Decrease dt to 0.01 or less.\n",
      "Warning: dt is large.  Estimated pdfs may be imprecise.  Decrease dt to 0.01 or less.\n",
      "Warning: dt is large.  Estimated pdfs may be imprecise.  Decrease dt to 0.01 or less.\n",
      "Warning: dt is large.  Estimated pdfs may be imprecise.  Decrease dt to 0.01 or less.\n",
      "Warning: dt is large.  Estimated pdfs may be imprecise.  Decrease dt to 0.01 or less.\n",
      "Warning: dt is large.  Estimated pdfs may be imprecise.  Decrease dt to 0.01 or less.\n",
      "Warning: dt is large.  Estimated pdfs may be imprecise.  Decrease dt to 0.01 or less.\n",
      "Warning: dt is large.  Estimated pdfs may be imprecise.  Decrease dt to 0.01 or less.\n",
      "Warning: dt is large.  Estimated pdfs may be imprecise.  Decrease dt to 0.01 or less.\n",
      "Warning: dt is large.  Estimated pdfs may be imprecise.  Decrease dt to 0.01 or less.\n",
      "Warning: dt is large.  Estimated pdfs may be imprecise.  Decrease dt to 0.01 or less.\n",
      "Warning: dt is large.  Estimated pdfs may be imprecise.  Decrease dt to 0.01 or less.\n",
      "Warning: dt is large.  Estimated pdfs may be imprecise.  Decrease dt to 0.01 or less.\n",
      "Warning: dt is large.  Estimated pdfs may be imprecise.  Decrease dt to 0.01 or less.\n",
      "Warning: dt is large.  Estimated pdfs may be imprecise.  Decrease dt to 0.01 or less.\n",
      "Warning: dt is large.  Estimated pdfs may be imprecise.  Decrease dt to 0.01 or less.\n",
      "Warning: dt is large.  Estimated pdfs may be imprecise.  Decrease dt to 0.01 or less.\n",
      "Warning: dt is large.  Estimated pdfs may be imprecise.  Decrease dt to 0.01 or less.\n",
      "Warning: dt is large.  Estimated pdfs may be imprecise.  Decrease dt to 0.01 or less.\n",
      "Warning: dt is large.  Estimated pdfs may be imprecise.  Decrease dt to 0.01 or less.\n",
      "Warning: dt is large.  Estimated pdfs may be imprecise.  Decrease dt to 0.01 or less.\n",
      "Warning: dt is large.  Estimated pdfs may be imprecise.  Decrease dt to 0.01 or less.\n",
      "Warning: dt is large.  Estimated pdfs may be imprecise.  Decrease dt to 0.01 or less.\n",
      "Warning: dt is large.  Estimated pdfs may be imprecise.  Decrease dt to 0.01 or less.\n",
      "Warning: dt is large.  Estimated pdfs may be imprecise.  Decrease dt to 0.01 or less.\n",
      "Warning: dt is large.  Estimated pdfs may be imprecise.  Decrease dt to 0.01 or less.\n",
      "Warning: dt is large.  Estimated pdfs may be imprecise.  Decrease dt to 0.01 or less.\n",
      "Warning: dt is large.  Estimated pdfs may be imprecise.  Decrease dt to 0.01 or less.\n",
      "Warning: dt is large.  Estimated pdfs may be imprecise.  Decrease dt to 0.01 or less.\n",
      "Warning: dt is large.  Estimated pdfs may be imprecise.  Decrease dt to 0.01 or less.\n",
      "Warning: dt is large.  Estimated pdfs may be imprecise.  Decrease dt to 0.01 or less.\n",
      "Warning: dt is large.  Estimated pdfs may be imprecise.  Decrease dt to 0.01 or less.\n",
      "Warning: dt is large.  Estimated pdfs may be imprecise.  Decrease dt to 0.01 or less.\n",
      "Warning: dt is large.  Estimated pdfs may be imprecise.  Decrease dt to 0.01 or less.\n",
      "Warning: dt is large.  Estimated pdfs may be imprecise.  Decrease dt to 0.01 or less.\n",
      "Warning: dt is large.  Estimated pdfs may be imprecise.  Decrease dt to 0.01 or less.\n",
      "Warning: dt is large.  Estimated pdfs may be imprecise.  Decrease dt to 0.01 or less.\n",
      "Warning: dt is large.  Estimated pdfs may be imprecise.  Decrease dt to 0.01 or less.\n",
      "Warning: dt is large.  Estimated pdfs may be imprecise.  Decrease dt to 0.01 or less.\n",
      "Warning: dt is large.  Estimated pdfs may be imprecise.  Decrease dt to 0.01 or less.\n",
      "Warning: dt is large.  Estimated pdfs may be imprecise.  Decrease dt to 0.01 or less.\n",
      "Warning: dt is large.  Estimated pdfs may be imprecise.  Decrease dt to 0.01 or less.\n",
      "Warning: dt is large.  Estimated pdfs may be imprecise.  Decrease dt to 0.01 or less.\n",
      "Warning: dt is large.  Estimated pdfs may be imprecise.  Decrease dt to 0.01 or less.\n",
      "Warning: dt is large.  Estimated pdfs may be imprecise.  Decrease dt to 0.01 or less.\n",
      "Warning: dt is large.  Estimated pdfs may be imprecise.  Decrease dt to 0.01 or less.\n",
      "Warning: dt is large.  Estimated pdfs may be imprecise.  Decrease dt to 0.01 or less.\n",
      "Warning: dt is large.  Estimated pdfs may be imprecise.  Decrease dt to 0.01 or less.\n",
      "Warning: dt is large.  Estimated pdfs may be imprecise.  Decrease dt to 0.01 or less.\n",
      "Warning: dt is large.  Estimated pdfs may be imprecise.  Decrease dt to 0.01 or less.\n",
      "Warning: dt is large.  Estimated pdfs may be imprecise.  Decrease dt to 0.01 or less.\n",
      "Warning: dt is large.  Estimated pdfs may be imprecise.  Decrease dt to 0.01 or less.\n",
      "Warning: dt is large.  Estimated pdfs may be imprecise.  Decrease dt to 0.01 or less.\n",
      "Warning: dt is large.  Estimated pdfs may be imprecise.  Decrease dt to 0.01 or less.\n",
      "Warning: dt is large.  Estimated pdfs may be imprecise.  Decrease dt to 0.01 or less.\n",
      "Warning: dt is large.  Estimated pdfs may be imprecise.  Decrease dt to 0.01 or less.\n",
      "Warning: dt is large.  Estimated pdfs may be imprecise.  Decrease dt to 0.01 or less.\n",
      "Warning: dt is large.  Estimated pdfs may be imprecise.  Decrease dt to 0.01 or less.\n",
      "Warning: dt is large.  Estimated pdfs may be imprecise.  Decrease dt to 0.01 or less.\n",
      "Warning: dt is large.  Estimated pdfs may be imprecise.  Decrease dt to 0.01 or less.\n",
      "Warning: dt is large.  Estimated pdfs may be imprecise.  Decrease dt to 0.01 or less.\n",
      "Warning: dt is large.  Estimated pdfs may be imprecise.  Decrease dt to 0.01 or less.\n"
     ]
    },
    {
     "name": "stderr",
     "output_type": "stream",
     "text": [
      "Warning: dt is large.  Estimated pdfs may be imprecise.  Decrease dt to 0.01 or less.\n",
      "Warning: dt is large.  Estimated pdfs may be imprecise.  Decrease dt to 0.01 or less.\n",
      "Warning: dt is large.  Estimated pdfs may be imprecise.  Decrease dt to 0.01 or less.\n",
      "Warning: dt is large.  Estimated pdfs may be imprecise.  Decrease dt to 0.01 or less.\n",
      "Warning: dt is large.  Estimated pdfs may be imprecise.  Decrease dt to 0.01 or less.\n",
      "Warning: dt is large.  Estimated pdfs may be imprecise.  Decrease dt to 0.01 or less.\n",
      "Warning: dt is large.  Estimated pdfs may be imprecise.  Decrease dt to 0.01 or less.\n",
      "Warning: dt is large.  Estimated pdfs may be imprecise.  Decrease dt to 0.01 or less.\n",
      "Warning: dt is large.  Estimated pdfs may be imprecise.  Decrease dt to 0.01 or less.\n",
      "Warning: dt is large.  Estimated pdfs may be imprecise.  Decrease dt to 0.01 or less.\n",
      "Warning: dt is large.  Estimated pdfs may be imprecise.  Decrease dt to 0.01 or less.\n",
      "Warning: dt is large.  Estimated pdfs may be imprecise.  Decrease dt to 0.01 or less.\n",
      "Warning: dt is large.  Estimated pdfs may be imprecise.  Decrease dt to 0.01 or less.\n",
      "Warning: dt is large.  Estimated pdfs may be imprecise.  Decrease dt to 0.01 or less.\n",
      "Warning: dt is large.  Estimated pdfs may be imprecise.  Decrease dt to 0.01 or less.\n",
      "Warning: dt is large.  Estimated pdfs may be imprecise.  Decrease dt to 0.01 or less.\n",
      "Warning: dt is large.  Estimated pdfs may be imprecise.  Decrease dt to 0.01 or less.\n",
      "Warning: dt is large.  Estimated pdfs may be imprecise.  Decrease dt to 0.01 or less.\n",
      "Warning: dt is large.  Estimated pdfs may be imprecise.  Decrease dt to 0.01 or less.\n",
      "Warning: dt is large.  Estimated pdfs may be imprecise.  Decrease dt to 0.01 or less.\n",
      "Warning: dt is large.  Estimated pdfs may be imprecise.  Decrease dt to 0.01 or less.\n",
      "Warning: dt is large.  Estimated pdfs may be imprecise.  Decrease dt to 0.01 or less.\n",
      "Warning: dt is large.  Estimated pdfs may be imprecise.  Decrease dt to 0.01 or less.\n",
      "Warning: dt is large.  Estimated pdfs may be imprecise.  Decrease dt to 0.01 or less.\n",
      "Warning: dt is large.  Estimated pdfs may be imprecise.  Decrease dt to 0.01 or less.\n",
      "Warning: dt is large.  Estimated pdfs may be imprecise.  Decrease dt to 0.01 or less.\n",
      "Warning: dt is large.  Estimated pdfs may be imprecise.  Decrease dt to 0.01 or less.\n",
      "Warning: dt is large.  Estimated pdfs may be imprecise.  Decrease dt to 0.01 or less.\n",
      "Warning: dt is large.  Estimated pdfs may be imprecise.  Decrease dt to 0.01 or less.\n",
      "Warning: dt is large.  Estimated pdfs may be imprecise.  Decrease dt to 0.01 or less.\n",
      "Warning: dt is large.  Estimated pdfs may be imprecise.  Decrease dt to 0.01 or less.\n",
      "Warning: dt is large.  Estimated pdfs may be imprecise.  Decrease dt to 0.01 or less.\n",
      "Warning: dt is large.  Estimated pdfs may be imprecise.  Decrease dt to 0.01 or less.\n",
      "Warning: dt is large.  Estimated pdfs may be imprecise.  Decrease dt to 0.01 or less.\n",
      "Warning: dt is large.  Estimated pdfs may be imprecise.  Decrease dt to 0.01 or less.\n",
      "Warning: dt is large.  Estimated pdfs may be imprecise.  Decrease dt to 0.01 or less.\n",
      "Warning: dt is large.  Estimated pdfs may be imprecise.  Decrease dt to 0.01 or less.\n",
      "Warning: dt is large.  Estimated pdfs may be imprecise.  Decrease dt to 0.01 or less.\n",
      "Warning: dt is large.  Estimated pdfs may be imprecise.  Decrease dt to 0.01 or less.\n",
      "Warning: dt is large.  Estimated pdfs may be imprecise.  Decrease dt to 0.01 or less.\n",
      "Warning: dt is large.  Estimated pdfs may be imprecise.  Decrease dt to 0.01 or less.\n",
      "Warning: dt is large.  Estimated pdfs may be imprecise.  Decrease dt to 0.01 or less.\n",
      "Warning: dt is large.  Estimated pdfs may be imprecise.  Decrease dt to 0.01 or less.\n",
      "Warning: dt is large.  Estimated pdfs may be imprecise.  Decrease dt to 0.01 or less.\n",
      "Warning: dt is large.  Estimated pdfs may be imprecise.  Decrease dt to 0.01 or less.\n",
      "Warning: dt is large.  Estimated pdfs may be imprecise.  Decrease dt to 0.01 or less.\n",
      "Warning: dt is large.  Estimated pdfs may be imprecise.  Decrease dt to 0.01 or less.\n",
      "Warning: dt is large.  Estimated pdfs may be imprecise.  Decrease dt to 0.01 or less.\n",
      "Warning: dt is large.  Estimated pdfs may be imprecise.  Decrease dt to 0.01 or less.\n",
      "Warning: dt is large.  Estimated pdfs may be imprecise.  Decrease dt to 0.01 or less.\n",
      "Warning: dt is large.  Estimated pdfs may be imprecise.  Decrease dt to 0.01 or less.\n",
      "Warning: dt is large.  Estimated pdfs may be imprecise.  Decrease dt to 0.01 or less.\n",
      "Warning: dt is large.  Estimated pdfs may be imprecise.  Decrease dt to 0.01 or less.\n",
      "Warning: dt is large.  Estimated pdfs may be imprecise.  Decrease dt to 0.01 or less.\n",
      "Warning: dt is large.  Estimated pdfs may be imprecise.  Decrease dt to 0.01 or less.\n",
      "Warning: dt is large.  Estimated pdfs may be imprecise.  Decrease dt to 0.01 or less.\n",
      "Warning: dt is large.  Estimated pdfs may be imprecise.  Decrease dt to 0.01 or less.\n",
      "Warning: dt is large.  Estimated pdfs may be imprecise.  Decrease dt to 0.01 or less.\n",
      "Warning: dt is large.  Estimated pdfs may be imprecise.  Decrease dt to 0.01 or less.\n",
      "Warning: dt is large.  Estimated pdfs may be imprecise.  Decrease dt to 0.01 or less.\n",
      "Warning: dt is large.  Estimated pdfs may be imprecise.  Decrease dt to 0.01 or less.\n",
      "Warning: dt is large.  Estimated pdfs may be imprecise.  Decrease dt to 0.01 or less.\n",
      "Warning: dt is large.  Estimated pdfs may be imprecise.  Decrease dt to 0.01 or less.\n",
      "Warning: dt is large.  Estimated pdfs may be imprecise.  Decrease dt to 0.01 or less.\n",
      "Warning: dt is large.  Estimated pdfs may be imprecise.  Decrease dt to 0.01 or less.\n",
      "Warning: dt is large.  Estimated pdfs may be imprecise.  Decrease dt to 0.01 or less.\n",
      "Warning: dt is large.  Estimated pdfs may be imprecise.  Decrease dt to 0.01 or less.\n",
      "Warning: dt is large.  Estimated pdfs may be imprecise.  Decrease dt to 0.01 or less.\n",
      "Warning: dt is large.  Estimated pdfs may be imprecise.  Decrease dt to 0.01 or less.\n",
      "Warning: dt is large.  Estimated pdfs may be imprecise.  Decrease dt to 0.01 or less.\n",
      "Warning: dt is large.  Estimated pdfs may be imprecise.  Decrease dt to 0.01 or less.\n",
      "Warning: dt is large.  Estimated pdfs may be imprecise.  Decrease dt to 0.01 or less.\n",
      "Warning: dt is large.  Estimated pdfs may be imprecise.  Decrease dt to 0.01 or less.\n",
      "Warning: dt is large.  Estimated pdfs may be imprecise.  Decrease dt to 0.01 or less.\n",
      "Warning: dt is large.  Estimated pdfs may be imprecise.  Decrease dt to 0.01 or less.\n",
      "Warning: dt is large.  Estimated pdfs may be imprecise.  Decrease dt to 0.01 or less.\n",
      "Warning: dt is large.  Estimated pdfs may be imprecise.  Decrease dt to 0.01 or less.\n",
      "Warning: dt is large.  Estimated pdfs may be imprecise.  Decrease dt to 0.01 or less.\n",
      "Warning: dt is large.  Estimated pdfs may be imprecise.  Decrease dt to 0.01 or less.\n",
      "Warning: dt is large.  Estimated pdfs may be imprecise.  Decrease dt to 0.01 or less.\n",
      "Warning: dt is large.  Estimated pdfs may be imprecise.  Decrease dt to 0.01 or less.\n",
      "Warning: dt is large.  Estimated pdfs may be imprecise.  Decrease dt to 0.01 or less.\n",
      "Warning: dt is large.  Estimated pdfs may be imprecise.  Decrease dt to 0.01 or less.\n",
      "Warning: dt is large.  Estimated pdfs may be imprecise.  Decrease dt to 0.01 or less.\n",
      "Warning: dt is large.  Estimated pdfs may be imprecise.  Decrease dt to 0.01 or less.\n",
      "Warning: dt is large.  Estimated pdfs may be imprecise.  Decrease dt to 0.01 or less.\n",
      "Warning: dt is large.  Estimated pdfs may be imprecise.  Decrease dt to 0.01 or less.\n",
      "Warning: dt is large.  Estimated pdfs may be imprecise.  Decrease dt to 0.01 or less.\n",
      "Warning: dt is large.  Estimated pdfs may be imprecise.  Decrease dt to 0.01 or less.\n",
      "Warning: dt is large.  Estimated pdfs may be imprecise.  Decrease dt to 0.01 or less.\n",
      "Warning: dt is large.  Estimated pdfs may be imprecise.  Decrease dt to 0.01 or less.\n",
      "Warning: dt is large.  Estimated pdfs may be imprecise.  Decrease dt to 0.01 or less.\n",
      "Warning: dt is large.  Estimated pdfs may be imprecise.  Decrease dt to 0.01 or less.\n",
      "Warning: dt is large.  Estimated pdfs may be imprecise.  Decrease dt to 0.01 or less.\n",
      "Warning: dt is large.  Estimated pdfs may be imprecise.  Decrease dt to 0.01 or less.\n",
      "Warning: dt is large.  Estimated pdfs may be imprecise.  Decrease dt to 0.01 or less.\n"
     ]
    },
    {
     "name": "stderr",
     "output_type": "stream",
     "text": [
      "Warning: dt is large.  Estimated pdfs may be imprecise.  Decrease dt to 0.01 or less.\n",
      "Warning: dt is large.  Estimated pdfs may be imprecise.  Decrease dt to 0.01 or less.\n",
      "Warning: dt is large.  Estimated pdfs may be imprecise.  Decrease dt to 0.01 or less.\n",
      "Warning: dt is large.  Estimated pdfs may be imprecise.  Decrease dt to 0.01 or less.\n",
      "Warning: dt is large.  Estimated pdfs may be imprecise.  Decrease dt to 0.01 or less.\n",
      "Warning: dt is large.  Estimated pdfs may be imprecise.  Decrease dt to 0.01 or less.\n",
      "Warning: dt is large.  Estimated pdfs may be imprecise.  Decrease dt to 0.01 or less.\n",
      "Warning: dt is large.  Estimated pdfs may be imprecise.  Decrease dt to 0.01 or less.\n",
      "Warning: dt is large.  Estimated pdfs may be imprecise.  Decrease dt to 0.01 or less.\n",
      "Warning: dt is large.  Estimated pdfs may be imprecise.  Decrease dt to 0.01 or less.\n",
      "Warning: dt is large.  Estimated pdfs may be imprecise.  Decrease dt to 0.01 or less.\n",
      "Warning: dt is large.  Estimated pdfs may be imprecise.  Decrease dt to 0.01 or less.\n",
      "Warning: dt is large.  Estimated pdfs may be imprecise.  Decrease dt to 0.01 or less.\n",
      "Warning: dt is large.  Estimated pdfs may be imprecise.  Decrease dt to 0.01 or less.\n",
      "Warning: dt is large.  Estimated pdfs may be imprecise.  Decrease dt to 0.01 or less.\n",
      "Warning: dt is large.  Estimated pdfs may be imprecise.  Decrease dt to 0.01 or less.\n",
      "Warning: dt is large.  Estimated pdfs may be imprecise.  Decrease dt to 0.01 or less.\n",
      "Warning: dt is large.  Estimated pdfs may be imprecise.  Decrease dt to 0.01 or less.\n",
      "Warning: dt is large.  Estimated pdfs may be imprecise.  Decrease dt to 0.01 or less.\n",
      "Warning: dt is large.  Estimated pdfs may be imprecise.  Decrease dt to 0.01 or less.\n",
      "Warning: dt is large.  Estimated pdfs may be imprecise.  Decrease dt to 0.01 or less.\n",
      "Warning: dt is large.  Estimated pdfs may be imprecise.  Decrease dt to 0.01 or less.\n",
      "Warning: dt is large.  Estimated pdfs may be imprecise.  Decrease dt to 0.01 or less.\n",
      "Warning: dt is large.  Estimated pdfs may be imprecise.  Decrease dt to 0.01 or less.\n",
      "Warning: dt is large.  Estimated pdfs may be imprecise.  Decrease dt to 0.01 or less.\n",
      "Warning: dt is large.  Estimated pdfs may be imprecise.  Decrease dt to 0.01 or less.\n",
      "Warning: dt is large.  Estimated pdfs may be imprecise.  Decrease dt to 0.01 or less.\n",
      "Warning: dt is large.  Estimated pdfs may be imprecise.  Decrease dt to 0.01 or less.\n",
      "Warning: dt is large.  Estimated pdfs may be imprecise.  Decrease dt to 0.01 or less.\n",
      "Warning: dt is large.  Estimated pdfs may be imprecise.  Decrease dt to 0.01 or less.\n",
      "Warning: dt is large.  Estimated pdfs may be imprecise.  Decrease dt to 0.01 or less.\n",
      "Warning: dt is large.  Estimated pdfs may be imprecise.  Decrease dt to 0.01 or less.\n",
      "Warning: dt is large.  Estimated pdfs may be imprecise.  Decrease dt to 0.01 or less.\n",
      "Warning: dt is large.  Estimated pdfs may be imprecise.  Decrease dt to 0.01 or less.\n",
      "Warning: dt is large.  Estimated pdfs may be imprecise.  Decrease dt to 0.01 or less.\n",
      "Warning: dt is large.  Estimated pdfs may be imprecise.  Decrease dt to 0.01 or less.\n",
      "Warning: dt is large.  Estimated pdfs may be imprecise.  Decrease dt to 0.01 or less.\n",
      "Warning: dt is large.  Estimated pdfs may be imprecise.  Decrease dt to 0.01 or less.\n",
      "Warning: dt is large.  Estimated pdfs may be imprecise.  Decrease dt to 0.01 or less.\n",
      "Warning: dt is large.  Estimated pdfs may be imprecise.  Decrease dt to 0.01 or less.\n",
      "Warning: dt is large.  Estimated pdfs may be imprecise.  Decrease dt to 0.01 or less.\n",
      "Warning: dt is large.  Estimated pdfs may be imprecise.  Decrease dt to 0.01 or less.\n",
      "Warning: dt is large.  Estimated pdfs may be imprecise.  Decrease dt to 0.01 or less.\n",
      "Warning: dt is large.  Estimated pdfs may be imprecise.  Decrease dt to 0.01 or less.\n",
      "Warning: dt is large.  Estimated pdfs may be imprecise.  Decrease dt to 0.01 or less.\n",
      "Warning: dt is large.  Estimated pdfs may be imprecise.  Decrease dt to 0.01 or less.\n",
      "Warning: dt is large.  Estimated pdfs may be imprecise.  Decrease dt to 0.01 or less.\n",
      "Warning: dt is large.  Estimated pdfs may be imprecise.  Decrease dt to 0.01 or less.\n",
      "Warning: dt is large.  Estimated pdfs may be imprecise.  Decrease dt to 0.01 or less.\n",
      "Warning: dt is large.  Estimated pdfs may be imprecise.  Decrease dt to 0.01 or less.\n",
      "Warning: dt is large.  Estimated pdfs may be imprecise.  Decrease dt to 0.01 or less.\n",
      "Warning: dt is large.  Estimated pdfs may be imprecise.  Decrease dt to 0.01 or less.\n",
      "Warning: dt is large.  Estimated pdfs may be imprecise.  Decrease dt to 0.01 or less.\n",
      "Warning: dt is large.  Estimated pdfs may be imprecise.  Decrease dt to 0.01 or less.\n",
      "Warning: dt is large.  Estimated pdfs may be imprecise.  Decrease dt to 0.01 or less.\n",
      "Warning: dt is large.  Estimated pdfs may be imprecise.  Decrease dt to 0.01 or less.\n",
      "Warning: dt is large.  Estimated pdfs may be imprecise.  Decrease dt to 0.01 or less.\n",
      "Warning: dt is large.  Estimated pdfs may be imprecise.  Decrease dt to 0.01 or less.\n",
      "Warning: dt is large.  Estimated pdfs may be imprecise.  Decrease dt to 0.01 or less.\n",
      "Warning: dt is large.  Estimated pdfs may be imprecise.  Decrease dt to 0.01 or less.\n",
      "Warning: dt is large.  Estimated pdfs may be imprecise.  Decrease dt to 0.01 or less.\n",
      "Warning: dt is large.  Estimated pdfs may be imprecise.  Decrease dt to 0.01 or less.\n",
      "Warning: dt is large.  Estimated pdfs may be imprecise.  Decrease dt to 0.01 or less.\n",
      "Warning: dt is large.  Estimated pdfs may be imprecise.  Decrease dt to 0.01 or less.\n",
      "Warning: dt is large.  Estimated pdfs may be imprecise.  Decrease dt to 0.01 or less.\n",
      "Warning: dt is large.  Estimated pdfs may be imprecise.  Decrease dt to 0.01 or less.\n",
      "Warning: dt is large.  Estimated pdfs may be imprecise.  Decrease dt to 0.01 or less.\n",
      "Warning: dt is large.  Estimated pdfs may be imprecise.  Decrease dt to 0.01 or less.\n",
      "Warning: dt is large.  Estimated pdfs may be imprecise.  Decrease dt to 0.01 or less.\n",
      "Warning: dt is large.  Estimated pdfs may be imprecise.  Decrease dt to 0.01 or less.\n",
      "Warning: dt is large.  Estimated pdfs may be imprecise.  Decrease dt to 0.01 or less.\n",
      "Warning: dt is large.  Estimated pdfs may be imprecise.  Decrease dt to 0.01 or less.\n",
      "Warning: dt is large.  Estimated pdfs may be imprecise.  Decrease dt to 0.01 or less.\n",
      "Warning: dt is large.  Estimated pdfs may be imprecise.  Decrease dt to 0.01 or less.\n",
      "Warning: dt is large.  Estimated pdfs may be imprecise.  Decrease dt to 0.01 or less.\n",
      "Warning: dt is large.  Estimated pdfs may be imprecise.  Decrease dt to 0.01 or less.\n",
      "Warning: dt is large.  Estimated pdfs may be imprecise.  Decrease dt to 0.01 or less.\n",
      "Warning: dt is large.  Estimated pdfs may be imprecise.  Decrease dt to 0.01 or less.\n",
      "Warning: dt is large.  Estimated pdfs may be imprecise.  Decrease dt to 0.01 or less.\n",
      "Warning: dt is large.  Estimated pdfs may be imprecise.  Decrease dt to 0.01 or less.\n",
      "Warning: dt is large.  Estimated pdfs may be imprecise.  Decrease dt to 0.01 or less.\n",
      "Warning: dt is large.  Estimated pdfs may be imprecise.  Decrease dt to 0.01 or less.\n",
      "Warning: dt is large.  Estimated pdfs may be imprecise.  Decrease dt to 0.01 or less.\n",
      "Warning: dt is large.  Estimated pdfs may be imprecise.  Decrease dt to 0.01 or less.\n",
      "Warning: dt is large.  Estimated pdfs may be imprecise.  Decrease dt to 0.01 or less.\n",
      "Warning: dt is large.  Estimated pdfs may be imprecise.  Decrease dt to 0.01 or less.\n",
      "Warning: dt is large.  Estimated pdfs may be imprecise.  Decrease dt to 0.01 or less.\n",
      "Warning: dt is large.  Estimated pdfs may be imprecise.  Decrease dt to 0.01 or less.\n",
      "Warning: dt is large.  Estimated pdfs may be imprecise.  Decrease dt to 0.01 or less.\n",
      "Warning: dt is large.  Estimated pdfs may be imprecise.  Decrease dt to 0.01 or less.\n",
      "Warning: dt is large.  Estimated pdfs may be imprecise.  Decrease dt to 0.01 or less.\n",
      "Warning: dt is large.  Estimated pdfs may be imprecise.  Decrease dt to 0.01 or less.\n",
      "Warning: dt is large.  Estimated pdfs may be imprecise.  Decrease dt to 0.01 or less.\n",
      "Warning: dt is large.  Estimated pdfs may be imprecise.  Decrease dt to 0.01 or less.\n",
      "Warning: dt is large.  Estimated pdfs may be imprecise.  Decrease dt to 0.01 or less.\n",
      "Warning: dt is large.  Estimated pdfs may be imprecise.  Decrease dt to 0.01 or less.\n"
     ]
    },
    {
     "name": "stderr",
     "output_type": "stream",
     "text": [
      "Warning: dt is large.  Estimated pdfs may be imprecise.  Decrease dt to 0.01 or less.\n",
      "Warning: dt is large.  Estimated pdfs may be imprecise.  Decrease dt to 0.01 or less.\n",
      "Warning: dt is large.  Estimated pdfs may be imprecise.  Decrease dt to 0.01 or less.\n",
      "Warning: dt is large.  Estimated pdfs may be imprecise.  Decrease dt to 0.01 or less.\n",
      "Warning: dt is large.  Estimated pdfs may be imprecise.  Decrease dt to 0.01 or less.\n",
      "Warning: dt is large.  Estimated pdfs may be imprecise.  Decrease dt to 0.01 or less.\n",
      "Warning: dt is large.  Estimated pdfs may be imprecise.  Decrease dt to 0.01 or less.\n",
      "Warning: dt is large.  Estimated pdfs may be imprecise.  Decrease dt to 0.01 or less.\n",
      "Warning: dt is large.  Estimated pdfs may be imprecise.  Decrease dt to 0.01 or less.\n",
      "Warning: dt is large.  Estimated pdfs may be imprecise.  Decrease dt to 0.01 or less.\n",
      "Warning: dt is large.  Estimated pdfs may be imprecise.  Decrease dt to 0.01 or less.\n",
      "Warning: dt is large.  Estimated pdfs may be imprecise.  Decrease dt to 0.01 or less.\n",
      "Warning: dt is large.  Estimated pdfs may be imprecise.  Decrease dt to 0.01 or less.\n",
      "Warning: dt is large.  Estimated pdfs may be imprecise.  Decrease dt to 0.01 or less.\n",
      "Warning: dt is large.  Estimated pdfs may be imprecise.  Decrease dt to 0.01 or less.\n",
      "Warning: dt is large.  Estimated pdfs may be imprecise.  Decrease dt to 0.01 or less.\n",
      "Warning: dt is large.  Estimated pdfs may be imprecise.  Decrease dt to 0.01 or less.\n",
      "Warning: dt is large.  Estimated pdfs may be imprecise.  Decrease dt to 0.01 or less.\n",
      "Warning: dt is large.  Estimated pdfs may be imprecise.  Decrease dt to 0.01 or less.\n",
      "Warning: dt is large.  Estimated pdfs may be imprecise.  Decrease dt to 0.01 or less.\n",
      "Warning: dt is large.  Estimated pdfs may be imprecise.  Decrease dt to 0.01 or less.\n",
      "Warning: dt is large.  Estimated pdfs may be imprecise.  Decrease dt to 0.01 or less.\n",
      "Warning: dt is large.  Estimated pdfs may be imprecise.  Decrease dt to 0.01 or less.\n",
      "Warning: dt is large.  Estimated pdfs may be imprecise.  Decrease dt to 0.01 or less.\n",
      "Warning: dt is large.  Estimated pdfs may be imprecise.  Decrease dt to 0.01 or less.\n",
      "Warning: dt is large.  Estimated pdfs may be imprecise.  Decrease dt to 0.01 or less.\n",
      "Warning: dt is large.  Estimated pdfs may be imprecise.  Decrease dt to 0.01 or less.\n",
      "Warning: dt is large.  Estimated pdfs may be imprecise.  Decrease dt to 0.01 or less.\n",
      "Warning: dt is large.  Estimated pdfs may be imprecise.  Decrease dt to 0.01 or less.\n",
      "Warning: dt is large.  Estimated pdfs may be imprecise.  Decrease dt to 0.01 or less.\n",
      "Warning: dt is large.  Estimated pdfs may be imprecise.  Decrease dt to 0.01 or less.\n",
      "Warning: dt is large.  Estimated pdfs may be imprecise.  Decrease dt to 0.01 or less.\n",
      "Warning: dt is large.  Estimated pdfs may be imprecise.  Decrease dt to 0.01 or less.\n",
      "Warning: dt is large.  Estimated pdfs may be imprecise.  Decrease dt to 0.01 or less.\n",
      "Warning: dt is large.  Estimated pdfs may be imprecise.  Decrease dt to 0.01 or less.\n",
      "Warning: dt is large.  Estimated pdfs may be imprecise.  Decrease dt to 0.01 or less.\n",
      "Warning: dt is large.  Estimated pdfs may be imprecise.  Decrease dt to 0.01 or less.\n",
      "Warning: dt is large.  Estimated pdfs may be imprecise.  Decrease dt to 0.01 or less.\n",
      "Warning: dt is large.  Estimated pdfs may be imprecise.  Decrease dt to 0.01 or less.\n",
      "Warning: dt is large.  Estimated pdfs may be imprecise.  Decrease dt to 0.01 or less.\n",
      "Warning: dt is large.  Estimated pdfs may be imprecise.  Decrease dt to 0.01 or less.\n",
      "Warning: dt is large.  Estimated pdfs may be imprecise.  Decrease dt to 0.01 or less.\n",
      "Warning: dt is large.  Estimated pdfs may be imprecise.  Decrease dt to 0.01 or less.\n",
      "Warning: dt is large.  Estimated pdfs may be imprecise.  Decrease dt to 0.01 or less.\n",
      "Warning: dt is large.  Estimated pdfs may be imprecise.  Decrease dt to 0.01 or less.\n",
      "Warning: dt is large.  Estimated pdfs may be imprecise.  Decrease dt to 0.01 or less.\n",
      "Warning: dt is large.  Estimated pdfs may be imprecise.  Decrease dt to 0.01 or less.\n",
      "Warning: dt is large.  Estimated pdfs may be imprecise.  Decrease dt to 0.01 or less.\n",
      "Warning: dt is large.  Estimated pdfs may be imprecise.  Decrease dt to 0.01 or less.\n",
      "Warning: dt is large.  Estimated pdfs may be imprecise.  Decrease dt to 0.01 or less.\n",
      "Warning: dt is large.  Estimated pdfs may be imprecise.  Decrease dt to 0.01 or less.\n",
      "Warning: dt is large.  Estimated pdfs may be imprecise.  Decrease dt to 0.01 or less.\n",
      "Warning: dt is large.  Estimated pdfs may be imprecise.  Decrease dt to 0.01 or less.\n",
      "Warning: dt is large.  Estimated pdfs may be imprecise.  Decrease dt to 0.01 or less.\n",
      "Warning: dt is large.  Estimated pdfs may be imprecise.  Decrease dt to 0.01 or less.\n",
      "Warning: dt is large.  Estimated pdfs may be imprecise.  Decrease dt to 0.01 or less.\n",
      "Warning: dt is large.  Estimated pdfs may be imprecise.  Decrease dt to 0.01 or less.\n",
      "Warning: dt is large.  Estimated pdfs may be imprecise.  Decrease dt to 0.01 or less.\n",
      "Warning: dt is large.  Estimated pdfs may be imprecise.  Decrease dt to 0.01 or less.\n",
      "Warning: dt is large.  Estimated pdfs may be imprecise.  Decrease dt to 0.01 or less.\n",
      "Warning: dt is large.  Estimated pdfs may be imprecise.  Decrease dt to 0.01 or less.\n",
      "Warning: dt is large.  Estimated pdfs may be imprecise.  Decrease dt to 0.01 or less.\n",
      "Warning: dt is large.  Estimated pdfs may be imprecise.  Decrease dt to 0.01 or less.\n",
      "Warning: dt is large.  Estimated pdfs may be imprecise.  Decrease dt to 0.01 or less.\n",
      "Warning: dt is large.  Estimated pdfs may be imprecise.  Decrease dt to 0.01 or less.\n",
      "Warning: dt is large.  Estimated pdfs may be imprecise.  Decrease dt to 0.01 or less.\n",
      "Warning: dt is large.  Estimated pdfs may be imprecise.  Decrease dt to 0.01 or less.\n",
      "Warning: dt is large.  Estimated pdfs may be imprecise.  Decrease dt to 0.01 or less.\n",
      "Warning: dt is large.  Estimated pdfs may be imprecise.  Decrease dt to 0.01 or less.\n",
      "Warning: dt is large.  Estimated pdfs may be imprecise.  Decrease dt to 0.01 or less.\n",
      "Warning: dt is large.  Estimated pdfs may be imprecise.  Decrease dt to 0.01 or less.\n",
      "Warning: dt is large.  Estimated pdfs may be imprecise.  Decrease dt to 0.01 or less.\n",
      "Warning: dt is large.  Estimated pdfs may be imprecise.  Decrease dt to 0.01 or less.\n",
      "Warning: dt is large.  Estimated pdfs may be imprecise.  Decrease dt to 0.01 or less.\n",
      "Warning: dt is large.  Estimated pdfs may be imprecise.  Decrease dt to 0.01 or less.\n",
      "Warning: dt is large.  Estimated pdfs may be imprecise.  Decrease dt to 0.01 or less.\n",
      "Warning: dt is large.  Estimated pdfs may be imprecise.  Decrease dt to 0.01 or less.\n",
      "Warning: dt is large.  Estimated pdfs may be imprecise.  Decrease dt to 0.01 or less.\n",
      "Warning: dt is large.  Estimated pdfs may be imprecise.  Decrease dt to 0.01 or less.\n",
      "Warning: dt is large.  Estimated pdfs may be imprecise.  Decrease dt to 0.01 or less.\n",
      "Warning: dt is large.  Estimated pdfs may be imprecise.  Decrease dt to 0.01 or less.\n",
      "Warning: dt is large.  Estimated pdfs may be imprecise.  Decrease dt to 0.01 or less.\n",
      "Warning: dt is large.  Estimated pdfs may be imprecise.  Decrease dt to 0.01 or less.\n",
      "Warning: dt is large.  Estimated pdfs may be imprecise.  Decrease dt to 0.01 or less.\n",
      "Warning: dt is large.  Estimated pdfs may be imprecise.  Decrease dt to 0.01 or less.\n",
      "Warning: dt is large.  Estimated pdfs may be imprecise.  Decrease dt to 0.01 or less.\n",
      "Warning: dt is large.  Estimated pdfs may be imprecise.  Decrease dt to 0.01 or less.\n",
      "Warning: dt is large.  Estimated pdfs may be imprecise.  Decrease dt to 0.01 or less.\n",
      "Warning: dt is large.  Estimated pdfs may be imprecise.  Decrease dt to 0.01 or less.\n",
      "Warning: dt is large.  Estimated pdfs may be imprecise.  Decrease dt to 0.01 or less.\n",
      "Warning: dt is large.  Estimated pdfs may be imprecise.  Decrease dt to 0.01 or less.\n",
      "Warning: dt is large.  Estimated pdfs may be imprecise.  Decrease dt to 0.01 or less.\n",
      "Warning: dt is large.  Estimated pdfs may be imprecise.  Decrease dt to 0.01 or less.\n",
      "Warning: dt is large.  Estimated pdfs may be imprecise.  Decrease dt to 0.01 or less.\n",
      "Warning: dt is large.  Estimated pdfs may be imprecise.  Decrease dt to 0.01 or less.\n",
      "Warning: dt is large.  Estimated pdfs may be imprecise.  Decrease dt to 0.01 or less.\n"
     ]
    },
    {
     "name": "stderr",
     "output_type": "stream",
     "text": [
      "Warning: dt is large.  Estimated pdfs may be imprecise.  Decrease dt to 0.01 or less.\n",
      "Warning: dt is large.  Estimated pdfs may be imprecise.  Decrease dt to 0.01 or less.\n",
      "Warning: dt is large.  Estimated pdfs may be imprecise.  Decrease dt to 0.01 or less.\n",
      "Warning: dt is large.  Estimated pdfs may be imprecise.  Decrease dt to 0.01 or less.\n",
      "Warning: dt is large.  Estimated pdfs may be imprecise.  Decrease dt to 0.01 or less.\n",
      "Warning: dt is large.  Estimated pdfs may be imprecise.  Decrease dt to 0.01 or less.\n",
      "Warning: dt is large.  Estimated pdfs may be imprecise.  Decrease dt to 0.01 or less.\n",
      "Warning: dt is large.  Estimated pdfs may be imprecise.  Decrease dt to 0.01 or less.\n",
      "Warning: dt is large.  Estimated pdfs may be imprecise.  Decrease dt to 0.01 or less.\n",
      "Warning: dt is large.  Estimated pdfs may be imprecise.  Decrease dt to 0.01 or less.\n",
      "Warning: dt is large.  Estimated pdfs may be imprecise.  Decrease dt to 0.01 or less.\n",
      "Warning: dt is large.  Estimated pdfs may be imprecise.  Decrease dt to 0.01 or less.\n",
      "Warning: dt is large.  Estimated pdfs may be imprecise.  Decrease dt to 0.01 or less.\n",
      "Warning: dt is large.  Estimated pdfs may be imprecise.  Decrease dt to 0.01 or less.\n",
      "Warning: dt is large.  Estimated pdfs may be imprecise.  Decrease dt to 0.01 or less.\n",
      "Warning: dt is large.  Estimated pdfs may be imprecise.  Decrease dt to 0.01 or less.\n",
      "Warning: dt is large.  Estimated pdfs may be imprecise.  Decrease dt to 0.01 or less.\n",
      "Warning: dt is large.  Estimated pdfs may be imprecise.  Decrease dt to 0.01 or less.\n",
      "Warning: dt is large.  Estimated pdfs may be imprecise.  Decrease dt to 0.01 or less.\n",
      "Warning: dt is large.  Estimated pdfs may be imprecise.  Decrease dt to 0.01 or less.\n",
      "Warning: dt is large.  Estimated pdfs may be imprecise.  Decrease dt to 0.01 or less.\n",
      "Warning: dt is large.  Estimated pdfs may be imprecise.  Decrease dt to 0.01 or less.\n",
      "Warning: dt is large.  Estimated pdfs may be imprecise.  Decrease dt to 0.01 or less.\n",
      "Warning: dt is large.  Estimated pdfs may be imprecise.  Decrease dt to 0.01 or less.\n",
      "Warning: dt is large.  Estimated pdfs may be imprecise.  Decrease dt to 0.01 or less.\n",
      "Warning: dt is large.  Estimated pdfs may be imprecise.  Decrease dt to 0.01 or less.\n",
      "Warning: dt is large.  Estimated pdfs may be imprecise.  Decrease dt to 0.01 or less.\n",
      "Warning: dt is large.  Estimated pdfs may be imprecise.  Decrease dt to 0.01 or less.\n",
      "Warning: dt is large.  Estimated pdfs may be imprecise.  Decrease dt to 0.01 or less.\n",
      "Warning: dt is large.  Estimated pdfs may be imprecise.  Decrease dt to 0.01 or less.\n",
      "Warning: dt is large.  Estimated pdfs may be imprecise.  Decrease dt to 0.01 or less.\n",
      "Warning: dt is large.  Estimated pdfs may be imprecise.  Decrease dt to 0.01 or less.\n",
      "Warning: dt is large.  Estimated pdfs may be imprecise.  Decrease dt to 0.01 or less.\n",
      "Warning: dt is large.  Estimated pdfs may be imprecise.  Decrease dt to 0.01 or less.\n",
      "Warning: dt is large.  Estimated pdfs may be imprecise.  Decrease dt to 0.01 or less.\n",
      "Warning: dt is large.  Estimated pdfs may be imprecise.  Decrease dt to 0.01 or less.\n",
      "Warning: dt is large.  Estimated pdfs may be imprecise.  Decrease dt to 0.01 or less.\n",
      "Warning: dt is large.  Estimated pdfs may be imprecise.  Decrease dt to 0.01 or less.\n",
      "Warning: dt is large.  Estimated pdfs may be imprecise.  Decrease dt to 0.01 or less.\n",
      "Warning: dt is large.  Estimated pdfs may be imprecise.  Decrease dt to 0.01 or less.\n",
      "Warning: dt is large.  Estimated pdfs may be imprecise.  Decrease dt to 0.01 or less.\n",
      "Warning: dt is large.  Estimated pdfs may be imprecise.  Decrease dt to 0.01 or less.\n",
      "Warning: dt is large.  Estimated pdfs may be imprecise.  Decrease dt to 0.01 or less.\n",
      "Warning: dt is large.  Estimated pdfs may be imprecise.  Decrease dt to 0.01 or less.\n",
      "Warning: dt is large.  Estimated pdfs may be imprecise.  Decrease dt to 0.01 or less.\n",
      "Warning: dt is large.  Estimated pdfs may be imprecise.  Decrease dt to 0.01 or less.\n",
      "Warning: dt is large.  Estimated pdfs may be imprecise.  Decrease dt to 0.01 or less.\n",
      "Warning: dt is large.  Estimated pdfs may be imprecise.  Decrease dt to 0.01 or less.\n",
      "Warning: dt is large.  Estimated pdfs may be imprecise.  Decrease dt to 0.01 or less.\n",
      "Warning: dt is large.  Estimated pdfs may be imprecise.  Decrease dt to 0.01 or less.\n",
      "Warning: dt is large.  Estimated pdfs may be imprecise.  Decrease dt to 0.01 or less.\n",
      "Warning: dt is large.  Estimated pdfs may be imprecise.  Decrease dt to 0.01 or less.\n",
      "Warning: dt is large.  Estimated pdfs may be imprecise.  Decrease dt to 0.01 or less.\n",
      "Warning: dt is large.  Estimated pdfs may be imprecise.  Decrease dt to 0.01 or less.\n",
      "Warning: dt is large.  Estimated pdfs may be imprecise.  Decrease dt to 0.01 or less.\n",
      "Warning: dt is large.  Estimated pdfs may be imprecise.  Decrease dt to 0.01 or less.\n",
      "Warning: dt is large.  Estimated pdfs may be imprecise.  Decrease dt to 0.01 or less.\n",
      "Warning: dt is large.  Estimated pdfs may be imprecise.  Decrease dt to 0.01 or less.\n",
      "Warning: dt is large.  Estimated pdfs may be imprecise.  Decrease dt to 0.01 or less.\n",
      "Warning: dt is large.  Estimated pdfs may be imprecise.  Decrease dt to 0.01 or less.\n",
      "Warning: dt is large.  Estimated pdfs may be imprecise.  Decrease dt to 0.01 or less.\n",
      "Warning: dt is large.  Estimated pdfs may be imprecise.  Decrease dt to 0.01 or less.\n",
      "Warning: dt is large.  Estimated pdfs may be imprecise.  Decrease dt to 0.01 or less.\n",
      "Warning: dt is large.  Estimated pdfs may be imprecise.  Decrease dt to 0.01 or less.\n",
      "Warning: dt is large.  Estimated pdfs may be imprecise.  Decrease dt to 0.01 or less.\n",
      "Warning: dt is large.  Estimated pdfs may be imprecise.  Decrease dt to 0.01 or less.\n",
      "Warning: dt is large.  Estimated pdfs may be imprecise.  Decrease dt to 0.01 or less.\n",
      "Warning: dt is large.  Estimated pdfs may be imprecise.  Decrease dt to 0.01 or less.\n",
      "Warning: dt is large.  Estimated pdfs may be imprecise.  Decrease dt to 0.01 or less.\n",
      "Warning: dt is large.  Estimated pdfs may be imprecise.  Decrease dt to 0.01 or less.\n",
      "Warning: dt is large.  Estimated pdfs may be imprecise.  Decrease dt to 0.01 or less.\n",
      "Warning: dt is large.  Estimated pdfs may be imprecise.  Decrease dt to 0.01 or less.\n",
      "Warning: dt is large.  Estimated pdfs may be imprecise.  Decrease dt to 0.01 or less.\n",
      "Warning: dt is large.  Estimated pdfs may be imprecise.  Decrease dt to 0.01 or less.\n",
      "Warning: dt is large.  Estimated pdfs may be imprecise.  Decrease dt to 0.01 or less.\n",
      "Warning: dt is large.  Estimated pdfs may be imprecise.  Decrease dt to 0.01 or less.\n",
      "Warning: dt is large.  Estimated pdfs may be imprecise.  Decrease dt to 0.01 or less.\n",
      "Warning: dt is large.  Estimated pdfs may be imprecise.  Decrease dt to 0.01 or less.\n",
      "Warning: dt is large.  Estimated pdfs may be imprecise.  Decrease dt to 0.01 or less.\n",
      "Warning: dt is large.  Estimated pdfs may be imprecise.  Decrease dt to 0.01 or less.\n",
      "Warning: dt is large.  Estimated pdfs may be imprecise.  Decrease dt to 0.01 or less.\n",
      "Warning: dt is large.  Estimated pdfs may be imprecise.  Decrease dt to 0.01 or less.\n",
      "Warning: dt is large.  Estimated pdfs may be imprecise.  Decrease dt to 0.01 or less.\n",
      "Warning: dt is large.  Estimated pdfs may be imprecise.  Decrease dt to 0.01 or less.\n",
      "Warning: dt is large.  Estimated pdfs may be imprecise.  Decrease dt to 0.01 or less.\n",
      "Warning: dt is large.  Estimated pdfs may be imprecise.  Decrease dt to 0.01 or less.\n",
      "Warning: dt is large.  Estimated pdfs may be imprecise.  Decrease dt to 0.01 or less.\n",
      "Warning: dt is large.  Estimated pdfs may be imprecise.  Decrease dt to 0.01 or less.\n",
      "Warning: dt is large.  Estimated pdfs may be imprecise.  Decrease dt to 0.01 or less.\n",
      "Warning: dt is large.  Estimated pdfs may be imprecise.  Decrease dt to 0.01 or less.\n",
      "Warning: dt is large.  Estimated pdfs may be imprecise.  Decrease dt to 0.01 or less.\n",
      "Warning: dt is large.  Estimated pdfs may be imprecise.  Decrease dt to 0.01 or less.\n",
      "Warning: dt is large.  Estimated pdfs may be imprecise.  Decrease dt to 0.01 or less.\n",
      "Warning: dt is large.  Estimated pdfs may be imprecise.  Decrease dt to 0.01 or less.\n",
      "Warning: dt is large.  Estimated pdfs may be imprecise.  Decrease dt to 0.01 or less.\n",
      "Warning: dt is large.  Estimated pdfs may be imprecise.  Decrease dt to 0.01 or less.\n"
     ]
    },
    {
     "name": "stderr",
     "output_type": "stream",
     "text": [
      "Warning: dt is large.  Estimated pdfs may be imprecise.  Decrease dt to 0.01 or less.\n",
      "Warning: dt is large.  Estimated pdfs may be imprecise.  Decrease dt to 0.01 or less.\n",
      "Warning: dt is large.  Estimated pdfs may be imprecise.  Decrease dt to 0.01 or less.\n",
      "Warning: dt is large.  Estimated pdfs may be imprecise.  Decrease dt to 0.01 or less.\n",
      "Warning: dt is large.  Estimated pdfs may be imprecise.  Decrease dt to 0.01 or less.\n",
      "Warning: dt is large.  Estimated pdfs may be imprecise.  Decrease dt to 0.01 or less.\n",
      "Warning: dt is large.  Estimated pdfs may be imprecise.  Decrease dt to 0.01 or less.\n",
      "Warning: dt is large.  Estimated pdfs may be imprecise.  Decrease dt to 0.01 or less.\n",
      "Warning: dt is large.  Estimated pdfs may be imprecise.  Decrease dt to 0.01 or less.\n",
      "Warning: dt is large.  Estimated pdfs may be imprecise.  Decrease dt to 0.01 or less.\n",
      "Warning: dt is large.  Estimated pdfs may be imprecise.  Decrease dt to 0.01 or less.\n",
      "Warning: dt is large.  Estimated pdfs may be imprecise.  Decrease dt to 0.01 or less.\n",
      "Warning: dt is large.  Estimated pdfs may be imprecise.  Decrease dt to 0.01 or less.\n",
      "Warning: dt is large.  Estimated pdfs may be imprecise.  Decrease dt to 0.01 or less.\n",
      "Warning: dt is large.  Estimated pdfs may be imprecise.  Decrease dt to 0.01 or less.\n",
      "Warning: dt is large.  Estimated pdfs may be imprecise.  Decrease dt to 0.01 or less.\n",
      "Warning: dt is large.  Estimated pdfs may be imprecise.  Decrease dt to 0.01 or less.\n",
      "Warning: dt is large.  Estimated pdfs may be imprecise.  Decrease dt to 0.01 or less.\n",
      "Warning: dt is large.  Estimated pdfs may be imprecise.  Decrease dt to 0.01 or less.\n",
      "Warning: dt is large.  Estimated pdfs may be imprecise.  Decrease dt to 0.01 or less.\n",
      "Warning: dt is large.  Estimated pdfs may be imprecise.  Decrease dt to 0.01 or less.\n",
      "Warning: dt is large.  Estimated pdfs may be imprecise.  Decrease dt to 0.01 or less.\n",
      "Warning: dt is large.  Estimated pdfs may be imprecise.  Decrease dt to 0.01 or less.\n",
      "Warning: dt is large.  Estimated pdfs may be imprecise.  Decrease dt to 0.01 or less.\n",
      "Warning: dt is large.  Estimated pdfs may be imprecise.  Decrease dt to 0.01 or less.\n",
      "Warning: dt is large.  Estimated pdfs may be imprecise.  Decrease dt to 0.01 or less.\n",
      "Warning: dt is large.  Estimated pdfs may be imprecise.  Decrease dt to 0.01 or less.\n",
      "Warning: dt is large.  Estimated pdfs may be imprecise.  Decrease dt to 0.01 or less.\n",
      "Warning: dt is large.  Estimated pdfs may be imprecise.  Decrease dt to 0.01 or less.\n",
      "Warning: dt is large.  Estimated pdfs may be imprecise.  Decrease dt to 0.01 or less.\n",
      "Warning: dt is large.  Estimated pdfs may be imprecise.  Decrease dt to 0.01 or less.\n",
      "Warning: dt is large.  Estimated pdfs may be imprecise.  Decrease dt to 0.01 or less.\n",
      "Warning: dt is large.  Estimated pdfs may be imprecise.  Decrease dt to 0.01 or less.\n",
      "Warning: dt is large.  Estimated pdfs may be imprecise.  Decrease dt to 0.01 or less.\n",
      "Warning: dt is large.  Estimated pdfs may be imprecise.  Decrease dt to 0.01 or less.\n",
      "Warning: dt is large.  Estimated pdfs may be imprecise.  Decrease dt to 0.01 or less.\n",
      "Warning: dt is large.  Estimated pdfs may be imprecise.  Decrease dt to 0.01 or less.\n",
      "Warning: dt is large.  Estimated pdfs may be imprecise.  Decrease dt to 0.01 or less.\n",
      "Warning: dt is large.  Estimated pdfs may be imprecise.  Decrease dt to 0.01 or less.\n",
      "Warning: dt is large.  Estimated pdfs may be imprecise.  Decrease dt to 0.01 or less.\n",
      "Warning: dt is large.  Estimated pdfs may be imprecise.  Decrease dt to 0.01 or less.\n",
      "Warning: dt is large.  Estimated pdfs may be imprecise.  Decrease dt to 0.01 or less.\n",
      "Warning: dt is large.  Estimated pdfs may be imprecise.  Decrease dt to 0.01 or less.\n",
      "Warning: dt is large.  Estimated pdfs may be imprecise.  Decrease dt to 0.01 or less.\n",
      "Warning: dt is large.  Estimated pdfs may be imprecise.  Decrease dt to 0.01 or less.\n",
      "Warning: dt is large.  Estimated pdfs may be imprecise.  Decrease dt to 0.01 or less.\n",
      "Warning: dt is large.  Estimated pdfs may be imprecise.  Decrease dt to 0.01 or less.\n",
      "Warning: dt is large.  Estimated pdfs may be imprecise.  Decrease dt to 0.01 or less.\n",
      "Warning: dt is large.  Estimated pdfs may be imprecise.  Decrease dt to 0.01 or less.\n",
      "Warning: dt is large.  Estimated pdfs may be imprecise.  Decrease dt to 0.01 or less.\n",
      "Warning: dt is large.  Estimated pdfs may be imprecise.  Decrease dt to 0.01 or less.\n",
      "Warning: dt is large.  Estimated pdfs may be imprecise.  Decrease dt to 0.01 or less.\n",
      "Warning: dt is large.  Estimated pdfs may be imprecise.  Decrease dt to 0.01 or less.\n",
      "Warning: dt is large.  Estimated pdfs may be imprecise.  Decrease dt to 0.01 or less.\n",
      "Warning: dt is large.  Estimated pdfs may be imprecise.  Decrease dt to 0.01 or less.\n",
      "Warning: dt is large.  Estimated pdfs may be imprecise.  Decrease dt to 0.01 or less.\n",
      "Warning: dt is large.  Estimated pdfs may be imprecise.  Decrease dt to 0.01 or less.\n",
      "Warning: dt is large.  Estimated pdfs may be imprecise.  Decrease dt to 0.01 or less.\n",
      "Warning: dt is large.  Estimated pdfs may be imprecise.  Decrease dt to 0.01 or less.\n",
      "Warning: dt is large.  Estimated pdfs may be imprecise.  Decrease dt to 0.01 or less.\n",
      "Warning: dt is large.  Estimated pdfs may be imprecise.  Decrease dt to 0.01 or less.\n",
      "Warning: dt is large.  Estimated pdfs may be imprecise.  Decrease dt to 0.01 or less.\n",
      "Warning: dt is large.  Estimated pdfs may be imprecise.  Decrease dt to 0.01 or less.\n",
      "Warning: dt is large.  Estimated pdfs may be imprecise.  Decrease dt to 0.01 or less.\n",
      "Warning: dt is large.  Estimated pdfs may be imprecise.  Decrease dt to 0.01 or less.\n",
      "Warning: dt is large.  Estimated pdfs may be imprecise.  Decrease dt to 0.01 or less.\n",
      "Warning: dt is large.  Estimated pdfs may be imprecise.  Decrease dt to 0.01 or less.\n",
      "Warning: dt is large.  Estimated pdfs may be imprecise.  Decrease dt to 0.01 or less.\n",
      "Warning: dt is large.  Estimated pdfs may be imprecise.  Decrease dt to 0.01 or less.\n",
      "Warning: dt is large.  Estimated pdfs may be imprecise.  Decrease dt to 0.01 or less.\n",
      "Warning: dt is large.  Estimated pdfs may be imprecise.  Decrease dt to 0.01 or less.\n",
      "Warning: dt is large.  Estimated pdfs may be imprecise.  Decrease dt to 0.01 or less.\n",
      "Warning: dt is large.  Estimated pdfs may be imprecise.  Decrease dt to 0.01 or less.\n",
      "Warning: dt is large.  Estimated pdfs may be imprecise.  Decrease dt to 0.01 or less.\n",
      "Warning: dt is large.  Estimated pdfs may be imprecise.  Decrease dt to 0.01 or less.\n",
      "Warning: dt is large.  Estimated pdfs may be imprecise.  Decrease dt to 0.01 or less.\n",
      "Warning: dt is large.  Estimated pdfs may be imprecise.  Decrease dt to 0.01 or less.\n",
      "Warning: dt is large.  Estimated pdfs may be imprecise.  Decrease dt to 0.01 or less.\n",
      "Warning: dt is large.  Estimated pdfs may be imprecise.  Decrease dt to 0.01 or less.\n",
      "Warning: dt is large.  Estimated pdfs may be imprecise.  Decrease dt to 0.01 or less.\n",
      "Warning: dt is large.  Estimated pdfs may be imprecise.  Decrease dt to 0.01 or less.\n",
      "Warning: dt is large.  Estimated pdfs may be imprecise.  Decrease dt to 0.01 or less.\n",
      "Warning: dt is large.  Estimated pdfs may be imprecise.  Decrease dt to 0.01 or less.\n",
      "Warning: dt is large.  Estimated pdfs may be imprecise.  Decrease dt to 0.01 or less.\n",
      "Warning: dt is large.  Estimated pdfs may be imprecise.  Decrease dt to 0.01 or less.\n",
      "Warning: dt is large.  Estimated pdfs may be imprecise.  Decrease dt to 0.01 or less.\n",
      "Warning: dt is large.  Estimated pdfs may be imprecise.  Decrease dt to 0.01 or less.\n",
      "Warning: dt is large.  Estimated pdfs may be imprecise.  Decrease dt to 0.01 or less.\n",
      "Warning: dt is large.  Estimated pdfs may be imprecise.  Decrease dt to 0.01 or less.\n",
      "Warning: dt is large.  Estimated pdfs may be imprecise.  Decrease dt to 0.01 or less.\n",
      "Warning: dt is large.  Estimated pdfs may be imprecise.  Decrease dt to 0.01 or less.\n",
      "Warning: dt is large.  Estimated pdfs may be imprecise.  Decrease dt to 0.01 or less.\n",
      "Warning: dt is large.  Estimated pdfs may be imprecise.  Decrease dt to 0.01 or less.\n",
      "Warning: dt is large.  Estimated pdfs may be imprecise.  Decrease dt to 0.01 or less.\n",
      "Warning: dt is large.  Estimated pdfs may be imprecise.  Decrease dt to 0.01 or less.\n",
      "Warning: dt is large.  Estimated pdfs may be imprecise.  Decrease dt to 0.01 or less.\n"
     ]
    },
    {
     "name": "stderr",
     "output_type": "stream",
     "text": [
      "Warning: dt is large.  Estimated pdfs may be imprecise.  Decrease dt to 0.01 or less.\n",
      "Warning: dt is large.  Estimated pdfs may be imprecise.  Decrease dt to 0.01 or less.\n",
      "Warning: dt is large.  Estimated pdfs may be imprecise.  Decrease dt to 0.01 or less.\n",
      "Warning: dt is large.  Estimated pdfs may be imprecise.  Decrease dt to 0.01 or less.\n",
      "Warning: dt is large.  Estimated pdfs may be imprecise.  Decrease dt to 0.01 or less.\n",
      "Warning: dt is large.  Estimated pdfs may be imprecise.  Decrease dt to 0.01 or less.\n",
      "Warning: dt is large.  Estimated pdfs may be imprecise.  Decrease dt to 0.01 or less.\n",
      "Warning: dt is large.  Estimated pdfs may be imprecise.  Decrease dt to 0.01 or less.\n",
      "Warning: dt is large.  Estimated pdfs may be imprecise.  Decrease dt to 0.01 or less.\n",
      "Warning: dt is large.  Estimated pdfs may be imprecise.  Decrease dt to 0.01 or less.\n",
      "Warning: dt is large.  Estimated pdfs may be imprecise.  Decrease dt to 0.01 or less.\n",
      "Warning: dt is large.  Estimated pdfs may be imprecise.  Decrease dt to 0.01 or less.\n",
      "Warning: dt is large.  Estimated pdfs may be imprecise.  Decrease dt to 0.01 or less.\n",
      "Warning: dt is large.  Estimated pdfs may be imprecise.  Decrease dt to 0.01 or less.\n",
      "Warning: dt is large.  Estimated pdfs may be imprecise.  Decrease dt to 0.01 or less.\n",
      "Warning: dt is large.  Estimated pdfs may be imprecise.  Decrease dt to 0.01 or less.\n",
      "Warning: dt is large.  Estimated pdfs may be imprecise.  Decrease dt to 0.01 or less.\n",
      "Warning: dt is large.  Estimated pdfs may be imprecise.  Decrease dt to 0.01 or less.\n",
      "Warning: dt is large.  Estimated pdfs may be imprecise.  Decrease dt to 0.01 or less.\n",
      "Warning: dt is large.  Estimated pdfs may be imprecise.  Decrease dt to 0.01 or less.\n",
      "Warning: dt is large.  Estimated pdfs may be imprecise.  Decrease dt to 0.01 or less.\n",
      "Warning: dt is large.  Estimated pdfs may be imprecise.  Decrease dt to 0.01 or less.\n",
      "Warning: dt is large.  Estimated pdfs may be imprecise.  Decrease dt to 0.01 or less.\n",
      "Warning: dt is large.  Estimated pdfs may be imprecise.  Decrease dt to 0.01 or less.\n",
      "Warning: dt is large.  Estimated pdfs may be imprecise.  Decrease dt to 0.01 or less.\n",
      "Warning: dt is large.  Estimated pdfs may be imprecise.  Decrease dt to 0.01 or less.\n",
      "Warning: dt is large.  Estimated pdfs may be imprecise.  Decrease dt to 0.01 or less.\n",
      "Warning: dt is large.  Estimated pdfs may be imprecise.  Decrease dt to 0.01 or less.\n",
      "Warning: dt is large.  Estimated pdfs may be imprecise.  Decrease dt to 0.01 or less.\n",
      "Warning: dt is large.  Estimated pdfs may be imprecise.  Decrease dt to 0.01 or less.\n",
      "Warning: dt is large.  Estimated pdfs may be imprecise.  Decrease dt to 0.01 or less.\n",
      "Warning: dt is large.  Estimated pdfs may be imprecise.  Decrease dt to 0.01 or less.\n",
      "Warning: dt is large.  Estimated pdfs may be imprecise.  Decrease dt to 0.01 or less.\n",
      "Warning: dt is large.  Estimated pdfs may be imprecise.  Decrease dt to 0.01 or less.\n",
      "Warning: dt is large.  Estimated pdfs may be imprecise.  Decrease dt to 0.01 or less.\n",
      "Warning: dt is large.  Estimated pdfs may be imprecise.  Decrease dt to 0.01 or less.\n",
      "Warning: dt is large.  Estimated pdfs may be imprecise.  Decrease dt to 0.01 or less.\n",
      "Warning: dt is large.  Estimated pdfs may be imprecise.  Decrease dt to 0.01 or less.\n",
      "Warning: dt is large.  Estimated pdfs may be imprecise.  Decrease dt to 0.01 or less.\n",
      "Warning: dt is large.  Estimated pdfs may be imprecise.  Decrease dt to 0.01 or less.\n",
      "Warning: dt is large.  Estimated pdfs may be imprecise.  Decrease dt to 0.01 or less.\n",
      "Warning: dt is large.  Estimated pdfs may be imprecise.  Decrease dt to 0.01 or less.\n",
      "Warning: dt is large.  Estimated pdfs may be imprecise.  Decrease dt to 0.01 or less.\n",
      "Warning: dt is large.  Estimated pdfs may be imprecise.  Decrease dt to 0.01 or less.\n",
      "Warning: dt is large.  Estimated pdfs may be imprecise.  Decrease dt to 0.01 or less.\n",
      "Warning: dt is large.  Estimated pdfs may be imprecise.  Decrease dt to 0.01 or less.\n",
      "Warning: dt is large.  Estimated pdfs may be imprecise.  Decrease dt to 0.01 or less.\n",
      "Warning: dt is large.  Estimated pdfs may be imprecise.  Decrease dt to 0.01 or less.\n",
      "Warning: dt is large.  Estimated pdfs may be imprecise.  Decrease dt to 0.01 or less.\n",
      "Warning: dt is large.  Estimated pdfs may be imprecise.  Decrease dt to 0.01 or less.\n",
      "Warning: dt is large.  Estimated pdfs may be imprecise.  Decrease dt to 0.01 or less.\n",
      "Warning: dt is large.  Estimated pdfs may be imprecise.  Decrease dt to 0.01 or less.\n",
      "Warning: dt is large.  Estimated pdfs may be imprecise.  Decrease dt to 0.01 or less.\n",
      "Warning: dt is large.  Estimated pdfs may be imprecise.  Decrease dt to 0.01 or less.\n",
      "Warning: dt is large.  Estimated pdfs may be imprecise.  Decrease dt to 0.01 or less.\n",
      "Warning: dt is large.  Estimated pdfs may be imprecise.  Decrease dt to 0.01 or less.\n",
      "Warning: dt is large.  Estimated pdfs may be imprecise.  Decrease dt to 0.01 or less.\n",
      "Warning: dt is large.  Estimated pdfs may be imprecise.  Decrease dt to 0.01 or less.\n",
      "Warning: dt is large.  Estimated pdfs may be imprecise.  Decrease dt to 0.01 or less.\n",
      "Warning: dt is large.  Estimated pdfs may be imprecise.  Decrease dt to 0.01 or less.\n",
      "Warning: dt is large.  Estimated pdfs may be imprecise.  Decrease dt to 0.01 or less.\n",
      "Warning: dt is large.  Estimated pdfs may be imprecise.  Decrease dt to 0.01 or less.\n",
      "Warning: dt is large.  Estimated pdfs may be imprecise.  Decrease dt to 0.01 or less.\n",
      "Warning: dt is large.  Estimated pdfs may be imprecise.  Decrease dt to 0.01 or less.\n",
      "Warning: dt is large.  Estimated pdfs may be imprecise.  Decrease dt to 0.01 or less.\n",
      "Warning: dt is large.  Estimated pdfs may be imprecise.  Decrease dt to 0.01 or less.\n",
      "Warning: dt is large.  Estimated pdfs may be imprecise.  Decrease dt to 0.01 or less.\n",
      "Warning: dt is large.  Estimated pdfs may be imprecise.  Decrease dt to 0.01 or less.\n",
      "Warning: dt is large.  Estimated pdfs may be imprecise.  Decrease dt to 0.01 or less.\n",
      "Warning: dt is large.  Estimated pdfs may be imprecise.  Decrease dt to 0.01 or less.\n",
      "Warning: dt is large.  Estimated pdfs may be imprecise.  Decrease dt to 0.01 or less.\n",
      "Warning: dt is large.  Estimated pdfs may be imprecise.  Decrease dt to 0.01 or less.\n",
      "Warning: dt is large.  Estimated pdfs may be imprecise.  Decrease dt to 0.01 or less.\n",
      "Warning: dt is large.  Estimated pdfs may be imprecise.  Decrease dt to 0.01 or less.\n",
      "Warning: dt is large.  Estimated pdfs may be imprecise.  Decrease dt to 0.01 or less.\n",
      "Warning: dt is large.  Estimated pdfs may be imprecise.  Decrease dt to 0.01 or less.\n",
      "Warning: dt is large.  Estimated pdfs may be imprecise.  Decrease dt to 0.01 or less.\n",
      "Warning: dt is large.  Estimated pdfs may be imprecise.  Decrease dt to 0.01 or less.\n",
      "Warning: dt is large.  Estimated pdfs may be imprecise.  Decrease dt to 0.01 or less.\n",
      "Warning: dt is large.  Estimated pdfs may be imprecise.  Decrease dt to 0.01 or less.\n",
      "Warning: dt is large.  Estimated pdfs may be imprecise.  Decrease dt to 0.01 or less.\n",
      "Warning: dt is large.  Estimated pdfs may be imprecise.  Decrease dt to 0.01 or less.\n",
      "Warning: dt is large.  Estimated pdfs may be imprecise.  Decrease dt to 0.01 or less.\n",
      "Warning: dt is large.  Estimated pdfs may be imprecise.  Decrease dt to 0.01 or less.\n",
      "Warning: dt is large.  Estimated pdfs may be imprecise.  Decrease dt to 0.01 or less.\n",
      "Warning: dt is large.  Estimated pdfs may be imprecise.  Decrease dt to 0.01 or less.\n",
      "Warning: dt is large.  Estimated pdfs may be imprecise.  Decrease dt to 0.01 or less.\n",
      "Warning: dt is large.  Estimated pdfs may be imprecise.  Decrease dt to 0.01 or less.\n",
      "Warning: dt is large.  Estimated pdfs may be imprecise.  Decrease dt to 0.01 or less.\n",
      "Warning: dt is large.  Estimated pdfs may be imprecise.  Decrease dt to 0.01 or less.\n",
      "Warning: dt is large.  Estimated pdfs may be imprecise.  Decrease dt to 0.01 or less.\n",
      "Warning: dt is large.  Estimated pdfs may be imprecise.  Decrease dt to 0.01 or less.\n",
      "Warning: dt is large.  Estimated pdfs may be imprecise.  Decrease dt to 0.01 or less.\n",
      "Warning: dt is large.  Estimated pdfs may be imprecise.  Decrease dt to 0.01 or less.\n",
      "Warning: dt is large.  Estimated pdfs may be imprecise.  Decrease dt to 0.01 or less.\n",
      "Warning: dt is large.  Estimated pdfs may be imprecise.  Decrease dt to 0.01 or less.\n"
     ]
    },
    {
     "name": "stderr",
     "output_type": "stream",
     "text": [
      "Warning: dt is large.  Estimated pdfs may be imprecise.  Decrease dt to 0.01 or less.\n",
      "Warning: dt is large.  Estimated pdfs may be imprecise.  Decrease dt to 0.01 or less.\n",
      "Warning: dt is large.  Estimated pdfs may be imprecise.  Decrease dt to 0.01 or less.\n",
      "Warning: dt is large.  Estimated pdfs may be imprecise.  Decrease dt to 0.01 or less.\n",
      "Warning: dt is large.  Estimated pdfs may be imprecise.  Decrease dt to 0.01 or less.\n",
      "Warning: dt is large.  Estimated pdfs may be imprecise.  Decrease dt to 0.01 or less.\n",
      "Warning: dt is large.  Estimated pdfs may be imprecise.  Decrease dt to 0.01 or less.\n",
      "Warning: dt is large.  Estimated pdfs may be imprecise.  Decrease dt to 0.01 or less.\n",
      "Warning: dt is large.  Estimated pdfs may be imprecise.  Decrease dt to 0.01 or less.\n",
      "Warning: dt is large.  Estimated pdfs may be imprecise.  Decrease dt to 0.01 or less.\n",
      "Warning: dt is large.  Estimated pdfs may be imprecise.  Decrease dt to 0.01 or less.\n",
      "Warning: dt is large.  Estimated pdfs may be imprecise.  Decrease dt to 0.01 or less.\n",
      "Warning: dt is large.  Estimated pdfs may be imprecise.  Decrease dt to 0.01 or less.\n",
      "Warning: dt is large.  Estimated pdfs may be imprecise.  Decrease dt to 0.01 or less.\n",
      "Warning: dt is large.  Estimated pdfs may be imprecise.  Decrease dt to 0.01 or less.\n",
      "Warning: dt is large.  Estimated pdfs may be imprecise.  Decrease dt to 0.01 or less.\n",
      "Warning: dt is large.  Estimated pdfs may be imprecise.  Decrease dt to 0.01 or less.\n",
      "Warning: dt is large.  Estimated pdfs may be imprecise.  Decrease dt to 0.01 or less.\n",
      "Warning: dt is large.  Estimated pdfs may be imprecise.  Decrease dt to 0.01 or less.\n",
      "Warning: dt is large.  Estimated pdfs may be imprecise.  Decrease dt to 0.01 or less.\n",
      "Warning: dt is large.  Estimated pdfs may be imprecise.  Decrease dt to 0.01 or less.\n",
      "Warning: dt is large.  Estimated pdfs may be imprecise.  Decrease dt to 0.01 or less.\n",
      "Warning: dt is large.  Estimated pdfs may be imprecise.  Decrease dt to 0.01 or less.\n",
      "Warning: dt is large.  Estimated pdfs may be imprecise.  Decrease dt to 0.01 or less.\n",
      "Warning: dt is large.  Estimated pdfs may be imprecise.  Decrease dt to 0.01 or less.\n",
      "Warning: dt is large.  Estimated pdfs may be imprecise.  Decrease dt to 0.01 or less.\n",
      "Warning: dt is large.  Estimated pdfs may be imprecise.  Decrease dt to 0.01 or less.\n",
      "Warning: dt is large.  Estimated pdfs may be imprecise.  Decrease dt to 0.01 or less.\n",
      "Warning: dt is large.  Estimated pdfs may be imprecise.  Decrease dt to 0.01 or less.\n",
      "Warning: dt is large.  Estimated pdfs may be imprecise.  Decrease dt to 0.01 or less.\n",
      "Warning: dt is large.  Estimated pdfs may be imprecise.  Decrease dt to 0.01 or less.\n",
      "Warning: dt is large.  Estimated pdfs may be imprecise.  Decrease dt to 0.01 or less.\n",
      "Warning: dt is large.  Estimated pdfs may be imprecise.  Decrease dt to 0.01 or less.\n",
      "Warning: dt is large.  Estimated pdfs may be imprecise.  Decrease dt to 0.01 or less.\n",
      "Warning: dt is large.  Estimated pdfs may be imprecise.  Decrease dt to 0.01 or less.\n",
      "Warning: dt is large.  Estimated pdfs may be imprecise.  Decrease dt to 0.01 or less.\n",
      "Warning: dt is large.  Estimated pdfs may be imprecise.  Decrease dt to 0.01 or less.\n",
      "Warning: dt is large.  Estimated pdfs may be imprecise.  Decrease dt to 0.01 or less.\n",
      "Warning: dt is large.  Estimated pdfs may be imprecise.  Decrease dt to 0.01 or less.\n",
      "Warning: dt is large.  Estimated pdfs may be imprecise.  Decrease dt to 0.01 or less.\n",
      "Warning: dt is large.  Estimated pdfs may be imprecise.  Decrease dt to 0.01 or less.\n",
      "Warning: dt is large.  Estimated pdfs may be imprecise.  Decrease dt to 0.01 or less.\n",
      "Warning: dt is large.  Estimated pdfs may be imprecise.  Decrease dt to 0.01 or less.\n",
      "Warning: dt is large.  Estimated pdfs may be imprecise.  Decrease dt to 0.01 or less.\n",
      "Warning: dt is large.  Estimated pdfs may be imprecise.  Decrease dt to 0.01 or less.\n",
      "Warning: dt is large.  Estimated pdfs may be imprecise.  Decrease dt to 0.01 or less.\n",
      "Warning: dt is large.  Estimated pdfs may be imprecise.  Decrease dt to 0.01 or less.\n",
      "Warning: dt is large.  Estimated pdfs may be imprecise.  Decrease dt to 0.01 or less.\n",
      "Warning: dt is large.  Estimated pdfs may be imprecise.  Decrease dt to 0.01 or less.\n",
      "Warning: dt is large.  Estimated pdfs may be imprecise.  Decrease dt to 0.01 or less.\n",
      "Warning: dt is large.  Estimated pdfs may be imprecise.  Decrease dt to 0.01 or less.\n",
      "Warning: dt is large.  Estimated pdfs may be imprecise.  Decrease dt to 0.01 or less.\n",
      "Warning: dt is large.  Estimated pdfs may be imprecise.  Decrease dt to 0.01 or less.\n",
      "Warning: dt is large.  Estimated pdfs may be imprecise.  Decrease dt to 0.01 or less.\n",
      "Warning: dt is large.  Estimated pdfs may be imprecise.  Decrease dt to 0.01 or less.\n",
      "Warning: dt is large.  Estimated pdfs may be imprecise.  Decrease dt to 0.01 or less.\n",
      "Warning: dt is large.  Estimated pdfs may be imprecise.  Decrease dt to 0.01 or less.\n",
      "Warning: dt is large.  Estimated pdfs may be imprecise.  Decrease dt to 0.01 or less.\n",
      "Warning: dt is large.  Estimated pdfs may be imprecise.  Decrease dt to 0.01 or less.\n",
      "Warning: dt is large.  Estimated pdfs may be imprecise.  Decrease dt to 0.01 or less.\n",
      "Warning: dt is large.  Estimated pdfs may be imprecise.  Decrease dt to 0.01 or less.\n",
      "Warning: dt is large.  Estimated pdfs may be imprecise.  Decrease dt to 0.01 or less.\n",
      "Warning: dt is large.  Estimated pdfs may be imprecise.  Decrease dt to 0.01 or less.\n",
      "Warning: dt is large.  Estimated pdfs may be imprecise.  Decrease dt to 0.01 or less.\n",
      "Warning: dt is large.  Estimated pdfs may be imprecise.  Decrease dt to 0.01 or less.\n",
      "Warning: dt is large.  Estimated pdfs may be imprecise.  Decrease dt to 0.01 or less.\n",
      "Warning: dt is large.  Estimated pdfs may be imprecise.  Decrease dt to 0.01 or less.\n",
      "Warning: dt is large.  Estimated pdfs may be imprecise.  Decrease dt to 0.01 or less.\n",
      "Warning: dt is large.  Estimated pdfs may be imprecise.  Decrease dt to 0.01 or less.\n",
      "Warning: dt is large.  Estimated pdfs may be imprecise.  Decrease dt to 0.01 or less.\n",
      "Warning: dt is large.  Estimated pdfs may be imprecise.  Decrease dt to 0.01 or less.\n",
      "Warning: dt is large.  Estimated pdfs may be imprecise.  Decrease dt to 0.01 or less.\n",
      "Warning: dt is large.  Estimated pdfs may be imprecise.  Decrease dt to 0.01 or less.\n",
      "Warning: dt is large.  Estimated pdfs may be imprecise.  Decrease dt to 0.01 or less.\n",
      "Warning: dt is large.  Estimated pdfs may be imprecise.  Decrease dt to 0.01 or less.\n",
      "Warning: dt is large.  Estimated pdfs may be imprecise.  Decrease dt to 0.01 or less.\n",
      "Warning: dt is large.  Estimated pdfs may be imprecise.  Decrease dt to 0.01 or less.\n",
      "Warning: dt is large.  Estimated pdfs may be imprecise.  Decrease dt to 0.01 or less.\n",
      "Warning: dt is large.  Estimated pdfs may be imprecise.  Decrease dt to 0.01 or less.\n",
      "Warning: dt is large.  Estimated pdfs may be imprecise.  Decrease dt to 0.01 or less.\n",
      "Warning: dt is large.  Estimated pdfs may be imprecise.  Decrease dt to 0.01 or less.\n",
      "Warning: dt is large.  Estimated pdfs may be imprecise.  Decrease dt to 0.01 or less.\n",
      "Warning: dt is large.  Estimated pdfs may be imprecise.  Decrease dt to 0.01 or less.\n",
      "Warning: dt is large.  Estimated pdfs may be imprecise.  Decrease dt to 0.01 or less.\n",
      "Warning: dt is large.  Estimated pdfs may be imprecise.  Decrease dt to 0.01 or less.\n",
      "Warning: dt is large.  Estimated pdfs may be imprecise.  Decrease dt to 0.01 or less.\n",
      "Warning: dt is large.  Estimated pdfs may be imprecise.  Decrease dt to 0.01 or less.\n",
      "Warning: dt is large.  Estimated pdfs may be imprecise.  Decrease dt to 0.01 or less.\n",
      "Warning: dt is large.  Estimated pdfs may be imprecise.  Decrease dt to 0.01 or less.\n",
      "Warning: dt is large.  Estimated pdfs may be imprecise.  Decrease dt to 0.01 or less.\n",
      "Warning: dt is large.  Estimated pdfs may be imprecise.  Decrease dt to 0.01 or less.\n",
      "Warning: dt is large.  Estimated pdfs may be imprecise.  Decrease dt to 0.01 or less.\n",
      "Warning: dt is large.  Estimated pdfs may be imprecise.  Decrease dt to 0.01 or less.\n",
      "Warning: dt is large.  Estimated pdfs may be imprecise.  Decrease dt to 0.01 or less.\n",
      "Warning: dt is large.  Estimated pdfs may be imprecise.  Decrease dt to 0.01 or less.\n",
      "Warning: dt is large.  Estimated pdfs may be imprecise.  Decrease dt to 0.01 or less.\n"
     ]
    },
    {
     "name": "stderr",
     "output_type": "stream",
     "text": [
      "Warning: dt is large.  Estimated pdfs may be imprecise.  Decrease dt to 0.01 or less.\n",
      "Warning: dt is large.  Estimated pdfs may be imprecise.  Decrease dt to 0.01 or less.\n",
      "Warning: dt is large.  Estimated pdfs may be imprecise.  Decrease dt to 0.01 or less.\n",
      "Warning: dt is large.  Estimated pdfs may be imprecise.  Decrease dt to 0.01 or less.\n",
      "Warning: dt is large.  Estimated pdfs may be imprecise.  Decrease dt to 0.01 or less.\n",
      "Warning: dt is large.  Estimated pdfs may be imprecise.  Decrease dt to 0.01 or less.\n",
      "Warning: dt is large.  Estimated pdfs may be imprecise.  Decrease dt to 0.01 or less.\n",
      "Warning: dt is large.  Estimated pdfs may be imprecise.  Decrease dt to 0.01 or less.\n",
      "Warning: dt is large.  Estimated pdfs may be imprecise.  Decrease dt to 0.01 or less.\n",
      "Warning: dt is large.  Estimated pdfs may be imprecise.  Decrease dt to 0.01 or less.\n",
      "Warning: dt is large.  Estimated pdfs may be imprecise.  Decrease dt to 0.01 or less.\n",
      "Warning: dt is large.  Estimated pdfs may be imprecise.  Decrease dt to 0.01 or less.\n",
      "Warning: dt is large.  Estimated pdfs may be imprecise.  Decrease dt to 0.01 or less.\n",
      "Warning: dt is large.  Estimated pdfs may be imprecise.  Decrease dt to 0.01 or less.\n",
      "Warning: dt is large.  Estimated pdfs may be imprecise.  Decrease dt to 0.01 or less.\n",
      "Warning: dt is large.  Estimated pdfs may be imprecise.  Decrease dt to 0.01 or less.\n",
      "Warning: dt is large.  Estimated pdfs may be imprecise.  Decrease dt to 0.01 or less.\n",
      "Warning: dt is large.  Estimated pdfs may be imprecise.  Decrease dt to 0.01 or less.\n",
      "Warning: dt is large.  Estimated pdfs may be imprecise.  Decrease dt to 0.01 or less.\n",
      "Warning: dt is large.  Estimated pdfs may be imprecise.  Decrease dt to 0.01 or less.\n",
      "Warning: dt is large.  Estimated pdfs may be imprecise.  Decrease dt to 0.01 or less.\n",
      "Warning: dt is large.  Estimated pdfs may be imprecise.  Decrease dt to 0.01 or less.\n",
      "Warning: dt is large.  Estimated pdfs may be imprecise.  Decrease dt to 0.01 or less.\n",
      "Warning: dt is large.  Estimated pdfs may be imprecise.  Decrease dt to 0.01 or less.\n",
      "Warning: dt is large.  Estimated pdfs may be imprecise.  Decrease dt to 0.01 or less.\n",
      "Warning: dt is large.  Estimated pdfs may be imprecise.  Decrease dt to 0.01 or less.\n",
      "Warning: dt is large.  Estimated pdfs may be imprecise.  Decrease dt to 0.01 or less.\n",
      "Warning: dt is large.  Estimated pdfs may be imprecise.  Decrease dt to 0.01 or less.\n",
      "Warning: dt is large.  Estimated pdfs may be imprecise.  Decrease dt to 0.01 or less.\n",
      "Warning: dt is large.  Estimated pdfs may be imprecise.  Decrease dt to 0.01 or less.\n",
      "Warning: dt is large.  Estimated pdfs may be imprecise.  Decrease dt to 0.01 or less.\n",
      "Warning: dt is large.  Estimated pdfs may be imprecise.  Decrease dt to 0.01 or less.\n",
      "Warning: dt is large.  Estimated pdfs may be imprecise.  Decrease dt to 0.01 or less.\n",
      "Warning: dt is large.  Estimated pdfs may be imprecise.  Decrease dt to 0.01 or less.\n",
      "Warning: dt is large.  Estimated pdfs may be imprecise.  Decrease dt to 0.01 or less.\n",
      "Warning: dt is large.  Estimated pdfs may be imprecise.  Decrease dt to 0.01 or less.\n",
      "Warning: dt is large.  Estimated pdfs may be imprecise.  Decrease dt to 0.01 or less.\n",
      "Warning: dt is large.  Estimated pdfs may be imprecise.  Decrease dt to 0.01 or less.\n",
      "Warning: dt is large.  Estimated pdfs may be imprecise.  Decrease dt to 0.01 or less.\n",
      "Warning: dt is large.  Estimated pdfs may be imprecise.  Decrease dt to 0.01 or less.\n",
      "Warning: dt is large.  Estimated pdfs may be imprecise.  Decrease dt to 0.01 or less.\n",
      "Warning: dt is large.  Estimated pdfs may be imprecise.  Decrease dt to 0.01 or less.\n",
      "Warning: dt is large.  Estimated pdfs may be imprecise.  Decrease dt to 0.01 or less.\n",
      "Warning: dt is large.  Estimated pdfs may be imprecise.  Decrease dt to 0.01 or less.\n",
      "Warning: dt is large.  Estimated pdfs may be imprecise.  Decrease dt to 0.01 or less.\n",
      "Warning: dt is large.  Estimated pdfs may be imprecise.  Decrease dt to 0.01 or less.\n",
      "Warning: dt is large.  Estimated pdfs may be imprecise.  Decrease dt to 0.01 or less.\n",
      "Warning: dt is large.  Estimated pdfs may be imprecise.  Decrease dt to 0.01 or less.\n",
      "Warning: dt is large.  Estimated pdfs may be imprecise.  Decrease dt to 0.01 or less.\n",
      "Warning: dt is large.  Estimated pdfs may be imprecise.  Decrease dt to 0.01 or less.\n",
      "Warning: dt is large.  Estimated pdfs may be imprecise.  Decrease dt to 0.01 or less.\n",
      "Warning: dt is large.  Estimated pdfs may be imprecise.  Decrease dt to 0.01 or less.\n",
      "Warning: dt is large.  Estimated pdfs may be imprecise.  Decrease dt to 0.01 or less.\n",
      "Warning: dt is large.  Estimated pdfs may be imprecise.  Decrease dt to 0.01 or less.\n",
      "Warning: dt is large.  Estimated pdfs may be imprecise.  Decrease dt to 0.01 or less.\n",
      "Warning: dt is large.  Estimated pdfs may be imprecise.  Decrease dt to 0.01 or less.\n",
      "Warning: dt is large.  Estimated pdfs may be imprecise.  Decrease dt to 0.01 or less.\n",
      "Warning: dt is large.  Estimated pdfs may be imprecise.  Decrease dt to 0.01 or less.\n",
      "Warning: dt is large.  Estimated pdfs may be imprecise.  Decrease dt to 0.01 or less.\n",
      "Warning: dt is large.  Estimated pdfs may be imprecise.  Decrease dt to 0.01 or less.\n",
      "Warning: dt is large.  Estimated pdfs may be imprecise.  Decrease dt to 0.01 or less.\n",
      "Warning: dt is large.  Estimated pdfs may be imprecise.  Decrease dt to 0.01 or less.\n",
      "Warning: dt is large.  Estimated pdfs may be imprecise.  Decrease dt to 0.01 or less.\n",
      "Warning: dt is large.  Estimated pdfs may be imprecise.  Decrease dt to 0.01 or less.\n",
      "Warning: dt is large.  Estimated pdfs may be imprecise.  Decrease dt to 0.01 or less.\n",
      "Warning: dt is large.  Estimated pdfs may be imprecise.  Decrease dt to 0.01 or less.\n",
      "Warning: dt is large.  Estimated pdfs may be imprecise.  Decrease dt to 0.01 or less.\n",
      "Warning: dt is large.  Estimated pdfs may be imprecise.  Decrease dt to 0.01 or less.\n",
      "Warning: dt is large.  Estimated pdfs may be imprecise.  Decrease dt to 0.01 or less.\n",
      "Warning: dt is large.  Estimated pdfs may be imprecise.  Decrease dt to 0.01 or less.\n",
      "Warning: dt is large.  Estimated pdfs may be imprecise.  Decrease dt to 0.01 or less.\n",
      "Warning: dt is large.  Estimated pdfs may be imprecise.  Decrease dt to 0.01 or less.\n",
      "Warning: dt is large.  Estimated pdfs may be imprecise.  Decrease dt to 0.01 or less.\n",
      "Warning: dt is large.  Estimated pdfs may be imprecise.  Decrease dt to 0.01 or less.\n",
      "Warning: dt is large.  Estimated pdfs may be imprecise.  Decrease dt to 0.01 or less.\n",
      "Warning: dt is large.  Estimated pdfs may be imprecise.  Decrease dt to 0.01 or less.\n",
      "Warning: dt is large.  Estimated pdfs may be imprecise.  Decrease dt to 0.01 or less.\n",
      "Warning: dt is large.  Estimated pdfs may be imprecise.  Decrease dt to 0.01 or less.\n",
      "Warning: dt is large.  Estimated pdfs may be imprecise.  Decrease dt to 0.01 or less.\n",
      "Warning: dt is large.  Estimated pdfs may be imprecise.  Decrease dt to 0.01 or less.\n",
      "Warning: dt is large.  Estimated pdfs may be imprecise.  Decrease dt to 0.01 or less.\n",
      "Warning: dt is large.  Estimated pdfs may be imprecise.  Decrease dt to 0.01 or less.\n",
      "Warning: dt is large.  Estimated pdfs may be imprecise.  Decrease dt to 0.01 or less.\n",
      "Warning: dt is large.  Estimated pdfs may be imprecise.  Decrease dt to 0.01 or less.\n",
      "Warning: dt is large.  Estimated pdfs may be imprecise.  Decrease dt to 0.01 or less.\n",
      "Warning: dt is large.  Estimated pdfs may be imprecise.  Decrease dt to 0.01 or less.\n",
      "Warning: dt is large.  Estimated pdfs may be imprecise.  Decrease dt to 0.01 or less.\n",
      "Warning: dt is large.  Estimated pdfs may be imprecise.  Decrease dt to 0.01 or less.\n",
      "Warning: dt is large.  Estimated pdfs may be imprecise.  Decrease dt to 0.01 or less.\n",
      "Warning: dt is large.  Estimated pdfs may be imprecise.  Decrease dt to 0.01 or less.\n",
      "Warning: dt is large.  Estimated pdfs may be imprecise.  Decrease dt to 0.01 or less.\n",
      "Warning: dt is large.  Estimated pdfs may be imprecise.  Decrease dt to 0.01 or less.\n",
      "Warning: dt is large.  Estimated pdfs may be imprecise.  Decrease dt to 0.01 or less.\n",
      "Warning: dt is large.  Estimated pdfs may be imprecise.  Decrease dt to 0.01 or less.\n",
      "Warning: dt is large.  Estimated pdfs may be imprecise.  Decrease dt to 0.01 or less.\n",
      "Warning: dt is large.  Estimated pdfs may be imprecise.  Decrease dt to 0.01 or less.\n"
     ]
    },
    {
     "name": "stderr",
     "output_type": "stream",
     "text": [
      "Warning: dt is large.  Estimated pdfs may be imprecise.  Decrease dt to 0.01 or less.\n",
      "Warning: dt is large.  Estimated pdfs may be imprecise.  Decrease dt to 0.01 or less.\n",
      "Warning: dt is large.  Estimated pdfs may be imprecise.  Decrease dt to 0.01 or less.\n",
      "Warning: dt is large.  Estimated pdfs may be imprecise.  Decrease dt to 0.01 or less.\n",
      "Warning: dt is large.  Estimated pdfs may be imprecise.  Decrease dt to 0.01 or less.\n",
      "Warning: dt is large.  Estimated pdfs may be imprecise.  Decrease dt to 0.01 or less.\n",
      "Warning: dt is large.  Estimated pdfs may be imprecise.  Decrease dt to 0.01 or less.\n",
      "Warning: dt is large.  Estimated pdfs may be imprecise.  Decrease dt to 0.01 or less.\n",
      "Warning: dt is large.  Estimated pdfs may be imprecise.  Decrease dt to 0.01 or less.\n",
      "Warning: dt is large.  Estimated pdfs may be imprecise.  Decrease dt to 0.01 or less.\n",
      "Warning: dt is large.  Estimated pdfs may be imprecise.  Decrease dt to 0.01 or less.\n",
      "Warning: dt is large.  Estimated pdfs may be imprecise.  Decrease dt to 0.01 or less.\n",
      "Warning: dt is large.  Estimated pdfs may be imprecise.  Decrease dt to 0.01 or less.\n",
      "Warning: dt is large.  Estimated pdfs may be imprecise.  Decrease dt to 0.01 or less.\n",
      "Warning: dt is large.  Estimated pdfs may be imprecise.  Decrease dt to 0.01 or less.\n",
      "Warning: dt is large.  Estimated pdfs may be imprecise.  Decrease dt to 0.01 or less.\n",
      "Warning: dt is large.  Estimated pdfs may be imprecise.  Decrease dt to 0.01 or less.\n",
      "Warning: dt is large.  Estimated pdfs may be imprecise.  Decrease dt to 0.01 or less.\n",
      "Warning: dt is large.  Estimated pdfs may be imprecise.  Decrease dt to 0.01 or less.\n",
      "Warning: dt is large.  Estimated pdfs may be imprecise.  Decrease dt to 0.01 or less.\n",
      "Warning: dt is large.  Estimated pdfs may be imprecise.  Decrease dt to 0.01 or less.\n",
      "Warning: dt is large.  Estimated pdfs may be imprecise.  Decrease dt to 0.01 or less.\n",
      "Warning: dt is large.  Estimated pdfs may be imprecise.  Decrease dt to 0.01 or less.\n",
      "Warning: dt is large.  Estimated pdfs may be imprecise.  Decrease dt to 0.01 or less.\n",
      "Warning: dt is large.  Estimated pdfs may be imprecise.  Decrease dt to 0.01 or less.\n",
      "Warning: dt is large.  Estimated pdfs may be imprecise.  Decrease dt to 0.01 or less.\n",
      "Warning: dt is large.  Estimated pdfs may be imprecise.  Decrease dt to 0.01 or less.\n",
      "Warning: dt is large.  Estimated pdfs may be imprecise.  Decrease dt to 0.01 or less.\n",
      "Warning: dt is large.  Estimated pdfs may be imprecise.  Decrease dt to 0.01 or less.\n",
      "Warning: dt is large.  Estimated pdfs may be imprecise.  Decrease dt to 0.01 or less.\n",
      "Warning: dt is large.  Estimated pdfs may be imprecise.  Decrease dt to 0.01 or less.\n",
      "Warning: dt is large.  Estimated pdfs may be imprecise.  Decrease dt to 0.01 or less.\n",
      "Warning: dt is large.  Estimated pdfs may be imprecise.  Decrease dt to 0.01 or less.\n",
      "Warning: dt is large.  Estimated pdfs may be imprecise.  Decrease dt to 0.01 or less.\n",
      "Warning: dt is large.  Estimated pdfs may be imprecise.  Decrease dt to 0.01 or less.\n",
      "Warning: dt is large.  Estimated pdfs may be imprecise.  Decrease dt to 0.01 or less.\n",
      "Warning: dt is large.  Estimated pdfs may be imprecise.  Decrease dt to 0.01 or less.\n",
      "Warning: dt is large.  Estimated pdfs may be imprecise.  Decrease dt to 0.01 or less.\n",
      "Warning: dt is large.  Estimated pdfs may be imprecise.  Decrease dt to 0.01 or less.\n",
      "Warning: dt is large.  Estimated pdfs may be imprecise.  Decrease dt to 0.01 or less.\n",
      "Warning: dt is large.  Estimated pdfs may be imprecise.  Decrease dt to 0.01 or less.\n",
      "Warning: dt is large.  Estimated pdfs may be imprecise.  Decrease dt to 0.01 or less.\n",
      "Warning: dt is large.  Estimated pdfs may be imprecise.  Decrease dt to 0.01 or less.\n",
      "Warning: dt is large.  Estimated pdfs may be imprecise.  Decrease dt to 0.01 or less.\n",
      "Warning: dt is large.  Estimated pdfs may be imprecise.  Decrease dt to 0.01 or less.\n",
      "Warning: dt is large.  Estimated pdfs may be imprecise.  Decrease dt to 0.01 or less.\n",
      "Warning: dt is large.  Estimated pdfs may be imprecise.  Decrease dt to 0.01 or less.\n",
      "Warning: dt is large.  Estimated pdfs may be imprecise.  Decrease dt to 0.01 or less.\n",
      "Warning: dt is large.  Estimated pdfs may be imprecise.  Decrease dt to 0.01 or less.\n",
      "Warning: dt is large.  Estimated pdfs may be imprecise.  Decrease dt to 0.01 or less.\n",
      "Warning: dt is large.  Estimated pdfs may be imprecise.  Decrease dt to 0.01 or less.\n",
      "Warning: dt is large.  Estimated pdfs may be imprecise.  Decrease dt to 0.01 or less.\n",
      "Warning: dt is large.  Estimated pdfs may be imprecise.  Decrease dt to 0.01 or less.\n",
      "Warning: dt is large.  Estimated pdfs may be imprecise.  Decrease dt to 0.01 or less.\n",
      "Warning: dt is large.  Estimated pdfs may be imprecise.  Decrease dt to 0.01 or less.\n",
      "Warning: dt is large.  Estimated pdfs may be imprecise.  Decrease dt to 0.01 or less.\n",
      "Warning: dt is large.  Estimated pdfs may be imprecise.  Decrease dt to 0.01 or less.\n",
      "Warning: dt is large.  Estimated pdfs may be imprecise.  Decrease dt to 0.01 or less.\n",
      "Warning: dt is large.  Estimated pdfs may be imprecise.  Decrease dt to 0.01 or less.\n",
      "Warning: dt is large.  Estimated pdfs may be imprecise.  Decrease dt to 0.01 or less.\n",
      "Warning: dt is large.  Estimated pdfs may be imprecise.  Decrease dt to 0.01 or less.\n",
      "Warning: dt is large.  Estimated pdfs may be imprecise.  Decrease dt to 0.01 or less.\n",
      "Warning: dt is large.  Estimated pdfs may be imprecise.  Decrease dt to 0.01 or less.\n",
      "Warning: dt is large.  Estimated pdfs may be imprecise.  Decrease dt to 0.01 or less.\n",
      "Warning: dt is large.  Estimated pdfs may be imprecise.  Decrease dt to 0.01 or less.\n",
      "Warning: dt is large.  Estimated pdfs may be imprecise.  Decrease dt to 0.01 or less.\n",
      "Warning: dt is large.  Estimated pdfs may be imprecise.  Decrease dt to 0.01 or less.\n",
      "Warning: dt is large.  Estimated pdfs may be imprecise.  Decrease dt to 0.01 or less.\n",
      "Warning: dt is large.  Estimated pdfs may be imprecise.  Decrease dt to 0.01 or less.\n",
      "Warning: dt is large.  Estimated pdfs may be imprecise.  Decrease dt to 0.01 or less.\n",
      "Warning: dt is large.  Estimated pdfs may be imprecise.  Decrease dt to 0.01 or less.\n",
      "Warning: dt is large.  Estimated pdfs may be imprecise.  Decrease dt to 0.01 or less.\n",
      "Warning: dt is large.  Estimated pdfs may be imprecise.  Decrease dt to 0.01 or less.\n",
      "Warning: dt is large.  Estimated pdfs may be imprecise.  Decrease dt to 0.01 or less.\n",
      "Warning: dt is large.  Estimated pdfs may be imprecise.  Decrease dt to 0.01 or less.\n",
      "Warning: dt is large.  Estimated pdfs may be imprecise.  Decrease dt to 0.01 or less.\n",
      "Warning: dt is large.  Estimated pdfs may be imprecise.  Decrease dt to 0.01 or less.\n",
      "Warning: dt is large.  Estimated pdfs may be imprecise.  Decrease dt to 0.01 or less.\n",
      "Warning: dt is large.  Estimated pdfs may be imprecise.  Decrease dt to 0.01 or less.\n",
      "Warning: dt is large.  Estimated pdfs may be imprecise.  Decrease dt to 0.01 or less.\n",
      "Warning: dt is large.  Estimated pdfs may be imprecise.  Decrease dt to 0.01 or less.\n",
      "Warning: dt is large.  Estimated pdfs may be imprecise.  Decrease dt to 0.01 or less.\n",
      "Warning: dt is large.  Estimated pdfs may be imprecise.  Decrease dt to 0.01 or less.\n",
      "Warning: dt is large.  Estimated pdfs may be imprecise.  Decrease dt to 0.01 or less.\n",
      "Warning: dt is large.  Estimated pdfs may be imprecise.  Decrease dt to 0.01 or less.\n",
      "Warning: dt is large.  Estimated pdfs may be imprecise.  Decrease dt to 0.01 or less.\n",
      "Warning: dt is large.  Estimated pdfs may be imprecise.  Decrease dt to 0.01 or less.\n",
      "Warning: dt is large.  Estimated pdfs may be imprecise.  Decrease dt to 0.01 or less.\n",
      "Warning: dt is large.  Estimated pdfs may be imprecise.  Decrease dt to 0.01 or less.\n",
      "Warning: dt is large.  Estimated pdfs may be imprecise.  Decrease dt to 0.01 or less.\n",
      "Warning: dt is large.  Estimated pdfs may be imprecise.  Decrease dt to 0.01 or less.\n",
      "Warning: dt is large.  Estimated pdfs may be imprecise.  Decrease dt to 0.01 or less.\n",
      "Warning: dt is large.  Estimated pdfs may be imprecise.  Decrease dt to 0.01 or less.\n",
      "Warning: dt is large.  Estimated pdfs may be imprecise.  Decrease dt to 0.01 or less.\n",
      "Warning: dt is large.  Estimated pdfs may be imprecise.  Decrease dt to 0.01 or less.\n",
      "Warning: dt is large.  Estimated pdfs may be imprecise.  Decrease dt to 0.01 or less.\n"
     ]
    },
    {
     "name": "stderr",
     "output_type": "stream",
     "text": [
      "Warning: dt is large.  Estimated pdfs may be imprecise.  Decrease dt to 0.01 or less.\n",
      "Warning: dt is large.  Estimated pdfs may be imprecise.  Decrease dt to 0.01 or less.\n",
      "Warning: dt is large.  Estimated pdfs may be imprecise.  Decrease dt to 0.01 or less.\n",
      "Warning: dt is large.  Estimated pdfs may be imprecise.  Decrease dt to 0.01 or less.\n",
      "Warning: dt is large.  Estimated pdfs may be imprecise.  Decrease dt to 0.01 or less.\n",
      "Warning: dt is large.  Estimated pdfs may be imprecise.  Decrease dt to 0.01 or less.\n",
      "Warning: dt is large.  Estimated pdfs may be imprecise.  Decrease dt to 0.01 or less.\n",
      "Warning: dt is large.  Estimated pdfs may be imprecise.  Decrease dt to 0.01 or less.\n",
      "Warning: dt is large.  Estimated pdfs may be imprecise.  Decrease dt to 0.01 or less.\n",
      "Warning: dt is large.  Estimated pdfs may be imprecise.  Decrease dt to 0.01 or less.\n",
      "Warning: dt is large.  Estimated pdfs may be imprecise.  Decrease dt to 0.01 or less.\n",
      "Warning: dt is large.  Estimated pdfs may be imprecise.  Decrease dt to 0.01 or less.\n",
      "Warning: dt is large.  Estimated pdfs may be imprecise.  Decrease dt to 0.01 or less.\n",
      "Warning: dt is large.  Estimated pdfs may be imprecise.  Decrease dt to 0.01 or less.\n",
      "Warning: dt is large.  Estimated pdfs may be imprecise.  Decrease dt to 0.01 or less.\n",
      "Warning: dt is large.  Estimated pdfs may be imprecise.  Decrease dt to 0.01 or less.\n",
      "Warning: dt is large.  Estimated pdfs may be imprecise.  Decrease dt to 0.01 or less.\n",
      "Warning: dt is large.  Estimated pdfs may be imprecise.  Decrease dt to 0.01 or less.\n",
      "Warning: dt is large.  Estimated pdfs may be imprecise.  Decrease dt to 0.01 or less.\n",
      "Warning: dt is large.  Estimated pdfs may be imprecise.  Decrease dt to 0.01 or less.\n",
      "Warning: dt is large.  Estimated pdfs may be imprecise.  Decrease dt to 0.01 or less.\n",
      "Warning: dt is large.  Estimated pdfs may be imprecise.  Decrease dt to 0.01 or less.\n",
      "Warning: dt is large.  Estimated pdfs may be imprecise.  Decrease dt to 0.01 or less.\n",
      "Warning: dt is large.  Estimated pdfs may be imprecise.  Decrease dt to 0.01 or less.\n",
      "Warning: dt is large.  Estimated pdfs may be imprecise.  Decrease dt to 0.01 or less.\n",
      "Warning: dt is large.  Estimated pdfs may be imprecise.  Decrease dt to 0.01 or less.\n",
      "Warning: dt is large.  Estimated pdfs may be imprecise.  Decrease dt to 0.01 or less.\n",
      "Warning: dt is large.  Estimated pdfs may be imprecise.  Decrease dt to 0.01 or less.\n",
      "Warning: dt is large.  Estimated pdfs may be imprecise.  Decrease dt to 0.01 or less.\n",
      "Warning: dt is large.  Estimated pdfs may be imprecise.  Decrease dt to 0.01 or less.\n",
      "Warning: dt is large.  Estimated pdfs may be imprecise.  Decrease dt to 0.01 or less.\n",
      "Warning: dt is large.  Estimated pdfs may be imprecise.  Decrease dt to 0.01 or less.\n",
      "Warning: dt is large.  Estimated pdfs may be imprecise.  Decrease dt to 0.01 or less.\n",
      "Warning: dt is large.  Estimated pdfs may be imprecise.  Decrease dt to 0.01 or less.\n",
      "Warning: dt is large.  Estimated pdfs may be imprecise.  Decrease dt to 0.01 or less.\n",
      "Warning: dt is large.  Estimated pdfs may be imprecise.  Decrease dt to 0.01 or less.\n",
      "Warning: dt is large.  Estimated pdfs may be imprecise.  Decrease dt to 0.01 or less.\n",
      "Warning: dt is large.  Estimated pdfs may be imprecise.  Decrease dt to 0.01 or less.\n",
      "Warning: dt is large.  Estimated pdfs may be imprecise.  Decrease dt to 0.01 or less.\n",
      "Warning: dt is large.  Estimated pdfs may be imprecise.  Decrease dt to 0.01 or less.\n",
      "Warning: dt is large.  Estimated pdfs may be imprecise.  Decrease dt to 0.01 or less.\n",
      "Warning: dt is large.  Estimated pdfs may be imprecise.  Decrease dt to 0.01 or less.\n",
      "Warning: dt is large.  Estimated pdfs may be imprecise.  Decrease dt to 0.01 or less.\n",
      "Warning: dt is large.  Estimated pdfs may be imprecise.  Decrease dt to 0.01 or less.\n",
      "Warning: dt is large.  Estimated pdfs may be imprecise.  Decrease dt to 0.01 or less.\n",
      "Warning: dt is large.  Estimated pdfs may be imprecise.  Decrease dt to 0.01 or less.\n",
      "Warning: dt is large.  Estimated pdfs may be imprecise.  Decrease dt to 0.01 or less.\n",
      "Warning: dt is large.  Estimated pdfs may be imprecise.  Decrease dt to 0.01 or less.\n",
      "Warning: dt is large.  Estimated pdfs may be imprecise.  Decrease dt to 0.01 or less.\n",
      "Warning: dt is large.  Estimated pdfs may be imprecise.  Decrease dt to 0.01 or less.\n",
      "Warning: dt is large.  Estimated pdfs may be imprecise.  Decrease dt to 0.01 or less.\n",
      "Warning: dt is large.  Estimated pdfs may be imprecise.  Decrease dt to 0.01 or less.\n",
      "Warning: dt is large.  Estimated pdfs may be imprecise.  Decrease dt to 0.01 or less.\n",
      "Warning: dt is large.  Estimated pdfs may be imprecise.  Decrease dt to 0.01 or less.\n",
      "Warning: dt is large.  Estimated pdfs may be imprecise.  Decrease dt to 0.01 or less.\n",
      "Warning: dt is large.  Estimated pdfs may be imprecise.  Decrease dt to 0.01 or less.\n",
      "Warning: dt is large.  Estimated pdfs may be imprecise.  Decrease dt to 0.01 or less.\n",
      "Warning: dt is large.  Estimated pdfs may be imprecise.  Decrease dt to 0.01 or less.\n",
      "Warning: dt is large.  Estimated pdfs may be imprecise.  Decrease dt to 0.01 or less.\n",
      "Warning: dt is large.  Estimated pdfs may be imprecise.  Decrease dt to 0.01 or less.\n",
      "Warning: dt is large.  Estimated pdfs may be imprecise.  Decrease dt to 0.01 or less.\n",
      "Warning: dt is large.  Estimated pdfs may be imprecise.  Decrease dt to 0.01 or less.\n",
      "Warning: dt is large.  Estimated pdfs may be imprecise.  Decrease dt to 0.01 or less.\n",
      "Warning: dt is large.  Estimated pdfs may be imprecise.  Decrease dt to 0.01 or less.\n",
      "Warning: dt is large.  Estimated pdfs may be imprecise.  Decrease dt to 0.01 or less.\n",
      "Warning: dt is large.  Estimated pdfs may be imprecise.  Decrease dt to 0.01 or less.\n",
      "Warning: dt is large.  Estimated pdfs may be imprecise.  Decrease dt to 0.01 or less.\n",
      "Warning: dt is large.  Estimated pdfs may be imprecise.  Decrease dt to 0.01 or less.\n",
      "Warning: dt is large.  Estimated pdfs may be imprecise.  Decrease dt to 0.01 or less.\n",
      "Warning: dt is large.  Estimated pdfs may be imprecise.  Decrease dt to 0.01 or less.\n",
      "Warning: dt is large.  Estimated pdfs may be imprecise.  Decrease dt to 0.01 or less.\n",
      "Warning: dt is large.  Estimated pdfs may be imprecise.  Decrease dt to 0.01 or less.\n",
      "Warning: dt is large.  Estimated pdfs may be imprecise.  Decrease dt to 0.01 or less.\n",
      "Warning: dt is large.  Estimated pdfs may be imprecise.  Decrease dt to 0.01 or less.\n",
      "Warning: dt is large.  Estimated pdfs may be imprecise.  Decrease dt to 0.01 or less.\n",
      "Warning: dt is large.  Estimated pdfs may be imprecise.  Decrease dt to 0.01 or less.\n",
      "Warning: dt is large.  Estimated pdfs may be imprecise.  Decrease dt to 0.01 or less.\n",
      "Warning: dt is large.  Estimated pdfs may be imprecise.  Decrease dt to 0.01 or less.\n",
      "Warning: dt is large.  Estimated pdfs may be imprecise.  Decrease dt to 0.01 or less.\n",
      "Warning: dt is large.  Estimated pdfs may be imprecise.  Decrease dt to 0.01 or less.\n",
      "Warning: dt is large.  Estimated pdfs may be imprecise.  Decrease dt to 0.01 or less.\n",
      "Warning: dt is large.  Estimated pdfs may be imprecise.  Decrease dt to 0.01 or less.\n",
      "Warning: dt is large.  Estimated pdfs may be imprecise.  Decrease dt to 0.01 or less.\n",
      "Warning: dt is large.  Estimated pdfs may be imprecise.  Decrease dt to 0.01 or less.\n",
      "Warning: dt is large.  Estimated pdfs may be imprecise.  Decrease dt to 0.01 or less.\n",
      "Warning: dt is large.  Estimated pdfs may be imprecise.  Decrease dt to 0.01 or less.\n",
      "Warning: dt is large.  Estimated pdfs may be imprecise.  Decrease dt to 0.01 or less.\n",
      "Warning: dt is large.  Estimated pdfs may be imprecise.  Decrease dt to 0.01 or less.\n",
      "Warning: dt is large.  Estimated pdfs may be imprecise.  Decrease dt to 0.01 or less.\n",
      "Warning: dt is large.  Estimated pdfs may be imprecise.  Decrease dt to 0.01 or less.\n",
      "Warning: dt is large.  Estimated pdfs may be imprecise.  Decrease dt to 0.01 or less.\n",
      "Warning: dt is large.  Estimated pdfs may be imprecise.  Decrease dt to 0.01 or less.\n",
      "Warning: dt is large.  Estimated pdfs may be imprecise.  Decrease dt to 0.01 or less.\n",
      "Warning: dt is large.  Estimated pdfs may be imprecise.  Decrease dt to 0.01 or less.\n",
      "Warning: dt is large.  Estimated pdfs may be imprecise.  Decrease dt to 0.01 or less.\n",
      "Warning: dt is large.  Estimated pdfs may be imprecise.  Decrease dt to 0.01 or less.\n"
     ]
    },
    {
     "name": "stderr",
     "output_type": "stream",
     "text": [
      "Warning: dt is large.  Estimated pdfs may be imprecise.  Decrease dt to 0.01 or less.\n",
      "Warning: dt is large.  Estimated pdfs may be imprecise.  Decrease dt to 0.01 or less.\n",
      "Warning: dt is large.  Estimated pdfs may be imprecise.  Decrease dt to 0.01 or less.\n",
      "Warning: dt is large.  Estimated pdfs may be imprecise.  Decrease dt to 0.01 or less.\n",
      "Warning: dt is large.  Estimated pdfs may be imprecise.  Decrease dt to 0.01 or less.\n",
      "Warning: dt is large.  Estimated pdfs may be imprecise.  Decrease dt to 0.01 or less.\n",
      "Warning: dt is large.  Estimated pdfs may be imprecise.  Decrease dt to 0.01 or less.\n",
      "Warning: dt is large.  Estimated pdfs may be imprecise.  Decrease dt to 0.01 or less.\n",
      "Warning: dt is large.  Estimated pdfs may be imprecise.  Decrease dt to 0.01 or less.\n",
      "Warning: dt is large.  Estimated pdfs may be imprecise.  Decrease dt to 0.01 or less.\n",
      "Warning: dt is large.  Estimated pdfs may be imprecise.  Decrease dt to 0.01 or less.\n",
      "Warning: dt is large.  Estimated pdfs may be imprecise.  Decrease dt to 0.01 or less.\n",
      "Warning: dt is large.  Estimated pdfs may be imprecise.  Decrease dt to 0.01 or less.\n",
      "Warning: dt is large.  Estimated pdfs may be imprecise.  Decrease dt to 0.01 or less.\n",
      "Warning: dt is large.  Estimated pdfs may be imprecise.  Decrease dt to 0.01 or less.\n",
      "Warning: dt is large.  Estimated pdfs may be imprecise.  Decrease dt to 0.01 or less.\n",
      "Warning: dt is large.  Estimated pdfs may be imprecise.  Decrease dt to 0.01 or less.\n",
      "Warning: dt is large.  Estimated pdfs may be imprecise.  Decrease dt to 0.01 or less.\n",
      "Warning: dt is large.  Estimated pdfs may be imprecise.  Decrease dt to 0.01 or less.\n",
      "Warning: dt is large.  Estimated pdfs may be imprecise.  Decrease dt to 0.01 or less.\n",
      "Warning: dt is large.  Estimated pdfs may be imprecise.  Decrease dt to 0.01 or less.\n",
      "Warning: dt is large.  Estimated pdfs may be imprecise.  Decrease dt to 0.01 or less.\n",
      "Warning: dt is large.  Estimated pdfs may be imprecise.  Decrease dt to 0.01 or less.\n",
      "Warning: dt is large.  Estimated pdfs may be imprecise.  Decrease dt to 0.01 or less.\n",
      "Warning: dt is large.  Estimated pdfs may be imprecise.  Decrease dt to 0.01 or less.\n",
      "Warning: dt is large.  Estimated pdfs may be imprecise.  Decrease dt to 0.01 or less.\n",
      "Warning: dt is large.  Estimated pdfs may be imprecise.  Decrease dt to 0.01 or less.\n",
      "Warning: dt is large.  Estimated pdfs may be imprecise.  Decrease dt to 0.01 or less.\n",
      "Warning: dt is large.  Estimated pdfs may be imprecise.  Decrease dt to 0.01 or less.\n",
      "Warning: dt is large.  Estimated pdfs may be imprecise.  Decrease dt to 0.01 or less.\n",
      "Warning: dt is large.  Estimated pdfs may be imprecise.  Decrease dt to 0.01 or less.\n",
      "Warning: dt is large.  Estimated pdfs may be imprecise.  Decrease dt to 0.01 or less.\n",
      "Warning: dt is large.  Estimated pdfs may be imprecise.  Decrease dt to 0.01 or less.\n",
      "Warning: dt is large.  Estimated pdfs may be imprecise.  Decrease dt to 0.01 or less.\n",
      "Warning: dt is large.  Estimated pdfs may be imprecise.  Decrease dt to 0.01 or less.\n",
      "Warning: dt is large.  Estimated pdfs may be imprecise.  Decrease dt to 0.01 or less.\n",
      "Warning: dt is large.  Estimated pdfs may be imprecise.  Decrease dt to 0.01 or less.\n",
      "Warning: dt is large.  Estimated pdfs may be imprecise.  Decrease dt to 0.01 or less.\n",
      "Warning: dt is large.  Estimated pdfs may be imprecise.  Decrease dt to 0.01 or less.\n",
      "Warning: dt is large.  Estimated pdfs may be imprecise.  Decrease dt to 0.01 or less.\n",
      "Warning: dt is large.  Estimated pdfs may be imprecise.  Decrease dt to 0.01 or less.\n",
      "Warning: dt is large.  Estimated pdfs may be imprecise.  Decrease dt to 0.01 or less.\n",
      "Warning: dt is large.  Estimated pdfs may be imprecise.  Decrease dt to 0.01 or less.\n",
      "Warning: dt is large.  Estimated pdfs may be imprecise.  Decrease dt to 0.01 or less.\n",
      "Warning: dt is large.  Estimated pdfs may be imprecise.  Decrease dt to 0.01 or less.\n",
      "Warning: dt is large.  Estimated pdfs may be imprecise.  Decrease dt to 0.01 or less.\n",
      "Warning: dt is large.  Estimated pdfs may be imprecise.  Decrease dt to 0.01 or less.\n",
      "Warning: dt is large.  Estimated pdfs may be imprecise.  Decrease dt to 0.01 or less.\n",
      "Warning: dt is large.  Estimated pdfs may be imprecise.  Decrease dt to 0.01 or less.\n",
      "Warning: dt is large.  Estimated pdfs may be imprecise.  Decrease dt to 0.01 or less.\n",
      "Warning: dt is large.  Estimated pdfs may be imprecise.  Decrease dt to 0.01 or less.\n",
      "Warning: dt is large.  Estimated pdfs may be imprecise.  Decrease dt to 0.01 or less.\n",
      "Warning: dt is large.  Estimated pdfs may be imprecise.  Decrease dt to 0.01 or less.\n",
      "Warning: dt is large.  Estimated pdfs may be imprecise.  Decrease dt to 0.01 or less.\n",
      "Warning: dt is large.  Estimated pdfs may be imprecise.  Decrease dt to 0.01 or less.\n",
      "Warning: dt is large.  Estimated pdfs may be imprecise.  Decrease dt to 0.01 or less.\n",
      "Warning: dt is large.  Estimated pdfs may be imprecise.  Decrease dt to 0.01 or less.\n",
      "Warning: dt is large.  Estimated pdfs may be imprecise.  Decrease dt to 0.01 or less.\n",
      "Warning: dt is large.  Estimated pdfs may be imprecise.  Decrease dt to 0.01 or less.\n",
      "Warning: dt is large.  Estimated pdfs may be imprecise.  Decrease dt to 0.01 or less.\n",
      "Warning: dt is large.  Estimated pdfs may be imprecise.  Decrease dt to 0.01 or less.\n",
      "Warning: dt is large.  Estimated pdfs may be imprecise.  Decrease dt to 0.01 or less.\n",
      "Warning: dt is large.  Estimated pdfs may be imprecise.  Decrease dt to 0.01 or less.\n",
      "Warning: dt is large.  Estimated pdfs may be imprecise.  Decrease dt to 0.01 or less.\n",
      "Warning: dt is large.  Estimated pdfs may be imprecise.  Decrease dt to 0.01 or less.\n",
      "Warning: dt is large.  Estimated pdfs may be imprecise.  Decrease dt to 0.01 or less.\n",
      "Warning: dt is large.  Estimated pdfs may be imprecise.  Decrease dt to 0.01 or less.\n",
      "Warning: dt is large.  Estimated pdfs may be imprecise.  Decrease dt to 0.01 or less.\n",
      "Warning: dt is large.  Estimated pdfs may be imprecise.  Decrease dt to 0.01 or less.\n",
      "Warning: dt is large.  Estimated pdfs may be imprecise.  Decrease dt to 0.01 or less.\n",
      "Warning: dt is large.  Estimated pdfs may be imprecise.  Decrease dt to 0.01 or less.\n",
      "Warning: dt is large.  Estimated pdfs may be imprecise.  Decrease dt to 0.01 or less.\n",
      "Warning: dt is large.  Estimated pdfs may be imprecise.  Decrease dt to 0.01 or less.\n",
      "Warning: dt is large.  Estimated pdfs may be imprecise.  Decrease dt to 0.01 or less.\n",
      "Warning: dt is large.  Estimated pdfs may be imprecise.  Decrease dt to 0.01 or less.\n",
      "Warning: dt is large.  Estimated pdfs may be imprecise.  Decrease dt to 0.01 or less.\n",
      "Warning: dt is large.  Estimated pdfs may be imprecise.  Decrease dt to 0.01 or less.\n",
      "Warning: dt is large.  Estimated pdfs may be imprecise.  Decrease dt to 0.01 or less.\n",
      "Warning: dt is large.  Estimated pdfs may be imprecise.  Decrease dt to 0.01 or less.\n",
      "Warning: dt is large.  Estimated pdfs may be imprecise.  Decrease dt to 0.01 or less.\n",
      "Warning: dt is large.  Estimated pdfs may be imprecise.  Decrease dt to 0.01 or less.\n",
      "Warning: dt is large.  Estimated pdfs may be imprecise.  Decrease dt to 0.01 or less.\n",
      "Warning: dt is large.  Estimated pdfs may be imprecise.  Decrease dt to 0.01 or less.\n",
      "Warning: dt is large.  Estimated pdfs may be imprecise.  Decrease dt to 0.01 or less.\n",
      "Warning: dt is large.  Estimated pdfs may be imprecise.  Decrease dt to 0.01 or less.\n",
      "Warning: dt is large.  Estimated pdfs may be imprecise.  Decrease dt to 0.01 or less.\n",
      "Warning: dt is large.  Estimated pdfs may be imprecise.  Decrease dt to 0.01 or less.\n",
      "Warning: dt is large.  Estimated pdfs may be imprecise.  Decrease dt to 0.01 or less.\n",
      "Warning: dt is large.  Estimated pdfs may be imprecise.  Decrease dt to 0.01 or less.\n",
      "Warning: dt is large.  Estimated pdfs may be imprecise.  Decrease dt to 0.01 or less.\n",
      "Warning: dt is large.  Estimated pdfs may be imprecise.  Decrease dt to 0.01 or less.\n",
      "Warning: dt is large.  Estimated pdfs may be imprecise.  Decrease dt to 0.01 or less.\n",
      "Warning: dt is large.  Estimated pdfs may be imprecise.  Decrease dt to 0.01 or less.\n",
      "Warning: dt is large.  Estimated pdfs may be imprecise.  Decrease dt to 0.01 or less.\n",
      "Warning: dt is large.  Estimated pdfs may be imprecise.  Decrease dt to 0.01 or less.\n",
      "Warning: dt is large.  Estimated pdfs may be imprecise.  Decrease dt to 0.01 or less.\n"
     ]
    },
    {
     "name": "stderr",
     "output_type": "stream",
     "text": [
      "Warning: dt is large.  Estimated pdfs may be imprecise.  Decrease dt to 0.01 or less.\n",
      "Warning: dt is large.  Estimated pdfs may be imprecise.  Decrease dt to 0.01 or less.\n",
      "Warning: dt is large.  Estimated pdfs may be imprecise.  Decrease dt to 0.01 or less.\n",
      "Warning: dt is large.  Estimated pdfs may be imprecise.  Decrease dt to 0.01 or less.\n",
      "Warning: dt is large.  Estimated pdfs may be imprecise.  Decrease dt to 0.01 or less.\n",
      "Warning: dt is large.  Estimated pdfs may be imprecise.  Decrease dt to 0.01 or less.\n",
      "Warning: dt is large.  Estimated pdfs may be imprecise.  Decrease dt to 0.01 or less.\n",
      "Warning: dt is large.  Estimated pdfs may be imprecise.  Decrease dt to 0.01 or less.\n",
      "Warning: dt is large.  Estimated pdfs may be imprecise.  Decrease dt to 0.01 or less.\n",
      "Warning: dt is large.  Estimated pdfs may be imprecise.  Decrease dt to 0.01 or less.\n",
      "Warning: dt is large.  Estimated pdfs may be imprecise.  Decrease dt to 0.01 or less.\n",
      "Warning: dt is large.  Estimated pdfs may be imprecise.  Decrease dt to 0.01 or less.\n",
      "Warning: dt is large.  Estimated pdfs may be imprecise.  Decrease dt to 0.01 or less.\n",
      "Warning: dt is large.  Estimated pdfs may be imprecise.  Decrease dt to 0.01 or less.\n",
      "Warning: dt is large.  Estimated pdfs may be imprecise.  Decrease dt to 0.01 or less.\n",
      "Warning: dt is large.  Estimated pdfs may be imprecise.  Decrease dt to 0.01 or less.\n",
      "Warning: dt is large.  Estimated pdfs may be imprecise.  Decrease dt to 0.01 or less.\n",
      "Warning: dt is large.  Estimated pdfs may be imprecise.  Decrease dt to 0.01 or less.\n",
      "Warning: dt is large.  Estimated pdfs may be imprecise.  Decrease dt to 0.01 or less.\n",
      "Warning: dt is large.  Estimated pdfs may be imprecise.  Decrease dt to 0.01 or less.\n",
      "Warning: dt is large.  Estimated pdfs may be imprecise.  Decrease dt to 0.01 or less.\n",
      "Warning: dt is large.  Estimated pdfs may be imprecise.  Decrease dt to 0.01 or less.\n",
      "Warning: dt is large.  Estimated pdfs may be imprecise.  Decrease dt to 0.01 or less.\n",
      "Warning: dt is large.  Estimated pdfs may be imprecise.  Decrease dt to 0.01 or less.\n",
      "Warning: dt is large.  Estimated pdfs may be imprecise.  Decrease dt to 0.01 or less.\n",
      "Warning: dt is large.  Estimated pdfs may be imprecise.  Decrease dt to 0.01 or less.\n",
      "Warning: dt is large.  Estimated pdfs may be imprecise.  Decrease dt to 0.01 or less.\n",
      "Warning: dt is large.  Estimated pdfs may be imprecise.  Decrease dt to 0.01 or less.\n",
      "Warning: dt is large.  Estimated pdfs may be imprecise.  Decrease dt to 0.01 or less.\n",
      "Warning: dt is large.  Estimated pdfs may be imprecise.  Decrease dt to 0.01 or less.\n",
      "Warning: dt is large.  Estimated pdfs may be imprecise.  Decrease dt to 0.01 or less.\n",
      "Warning: dt is large.  Estimated pdfs may be imprecise.  Decrease dt to 0.01 or less.\n",
      "Warning: dt is large.  Estimated pdfs may be imprecise.  Decrease dt to 0.01 or less.\n",
      "Warning: dt is large.  Estimated pdfs may be imprecise.  Decrease dt to 0.01 or less.\n",
      "Warning: dt is large.  Estimated pdfs may be imprecise.  Decrease dt to 0.01 or less.\n",
      "Warning: dt is large.  Estimated pdfs may be imprecise.  Decrease dt to 0.01 or less.\n",
      "Warning: dt is large.  Estimated pdfs may be imprecise.  Decrease dt to 0.01 or less.\n",
      "Warning: dt is large.  Estimated pdfs may be imprecise.  Decrease dt to 0.01 or less.\n",
      "Warning: dt is large.  Estimated pdfs may be imprecise.  Decrease dt to 0.01 or less.\n",
      "Warning: dt is large.  Estimated pdfs may be imprecise.  Decrease dt to 0.01 or less.\n",
      "Warning: dt is large.  Estimated pdfs may be imprecise.  Decrease dt to 0.01 or less.\n",
      "Warning: dt is large.  Estimated pdfs may be imprecise.  Decrease dt to 0.01 or less.\n",
      "Warning: dt is large.  Estimated pdfs may be imprecise.  Decrease dt to 0.01 or less.\n",
      "Warning: dt is large.  Estimated pdfs may be imprecise.  Decrease dt to 0.01 or less.\n",
      "Warning: dt is large.  Estimated pdfs may be imprecise.  Decrease dt to 0.01 or less.\n",
      "Warning: dt is large.  Estimated pdfs may be imprecise.  Decrease dt to 0.01 or less.\n",
      "Warning: dt is large.  Estimated pdfs may be imprecise.  Decrease dt to 0.01 or less.\n",
      "Warning: dt is large.  Estimated pdfs may be imprecise.  Decrease dt to 0.01 or less.\n",
      "Warning: dt is large.  Estimated pdfs may be imprecise.  Decrease dt to 0.01 or less.\n",
      "Warning: dt is large.  Estimated pdfs may be imprecise.  Decrease dt to 0.01 or less.\n",
      "Warning: dt is large.  Estimated pdfs may be imprecise.  Decrease dt to 0.01 or less.\n",
      "Warning: dt is large.  Estimated pdfs may be imprecise.  Decrease dt to 0.01 or less.\n",
      "Warning: dt is large.  Estimated pdfs may be imprecise.  Decrease dt to 0.01 or less.\n",
      "Warning: dt is large.  Estimated pdfs may be imprecise.  Decrease dt to 0.01 or less.\n",
      "Warning: dt is large.  Estimated pdfs may be imprecise.  Decrease dt to 0.01 or less.\n",
      "Warning: dt is large.  Estimated pdfs may be imprecise.  Decrease dt to 0.01 or less.\n",
      "Warning: dt is large.  Estimated pdfs may be imprecise.  Decrease dt to 0.01 or less.\n",
      "Warning: dt is large.  Estimated pdfs may be imprecise.  Decrease dt to 0.01 or less.\n",
      "Warning: dt is large.  Estimated pdfs may be imprecise.  Decrease dt to 0.01 or less.\n",
      "Warning: dt is large.  Estimated pdfs may be imprecise.  Decrease dt to 0.01 or less.\n",
      "Warning: dt is large.  Estimated pdfs may be imprecise.  Decrease dt to 0.01 or less.\n",
      "Warning: dt is large.  Estimated pdfs may be imprecise.  Decrease dt to 0.01 or less.\n",
      "Warning: dt is large.  Estimated pdfs may be imprecise.  Decrease dt to 0.01 or less.\n",
      "Warning: dt is large.  Estimated pdfs may be imprecise.  Decrease dt to 0.01 or less.\n",
      "Warning: dt is large.  Estimated pdfs may be imprecise.  Decrease dt to 0.01 or less.\n",
      "Warning: dt is large.  Estimated pdfs may be imprecise.  Decrease dt to 0.01 or less.\n",
      "Warning: dt is large.  Estimated pdfs may be imprecise.  Decrease dt to 0.01 or less.\n",
      "Warning: dt is large.  Estimated pdfs may be imprecise.  Decrease dt to 0.01 or less.\n",
      "Warning: dt is large.  Estimated pdfs may be imprecise.  Decrease dt to 0.01 or less.\n",
      "Warning: dt is large.  Estimated pdfs may be imprecise.  Decrease dt to 0.01 or less.\n",
      "Warning: dt is large.  Estimated pdfs may be imprecise.  Decrease dt to 0.01 or less.\n",
      "Warning: dt is large.  Estimated pdfs may be imprecise.  Decrease dt to 0.01 or less.\n",
      "Warning: dt is large.  Estimated pdfs may be imprecise.  Decrease dt to 0.01 or less.\n",
      "Warning: dt is large.  Estimated pdfs may be imprecise.  Decrease dt to 0.01 or less.\n",
      "Warning: dt is large.  Estimated pdfs may be imprecise.  Decrease dt to 0.01 or less.\n",
      "Warning: dt is large.  Estimated pdfs may be imprecise.  Decrease dt to 0.01 or less.\n",
      "Warning: dt is large.  Estimated pdfs may be imprecise.  Decrease dt to 0.01 or less.\n",
      "Warning: dt is large.  Estimated pdfs may be imprecise.  Decrease dt to 0.01 or less.\n",
      "Warning: dt is large.  Estimated pdfs may be imprecise.  Decrease dt to 0.01 or less.\n",
      "Warning: dt is large.  Estimated pdfs may be imprecise.  Decrease dt to 0.01 or less.\n",
      "Warning: dt is large.  Estimated pdfs may be imprecise.  Decrease dt to 0.01 or less.\n",
      "Warning: dt is large.  Estimated pdfs may be imprecise.  Decrease dt to 0.01 or less.\n",
      "Warning: dt is large.  Estimated pdfs may be imprecise.  Decrease dt to 0.01 or less.\n",
      "Warning: dt is large.  Estimated pdfs may be imprecise.  Decrease dt to 0.01 or less.\n",
      "Warning: dt is large.  Estimated pdfs may be imprecise.  Decrease dt to 0.01 or less.\n",
      "Warning: dt is large.  Estimated pdfs may be imprecise.  Decrease dt to 0.01 or less.\n",
      "Warning: dt is large.  Estimated pdfs may be imprecise.  Decrease dt to 0.01 or less.\n",
      "Warning: dt is large.  Estimated pdfs may be imprecise.  Decrease dt to 0.01 or less.\n",
      "Warning: dt is large.  Estimated pdfs may be imprecise.  Decrease dt to 0.01 or less.\n",
      "Warning: dt is large.  Estimated pdfs may be imprecise.  Decrease dt to 0.01 or less.\n",
      "Warning: dt is large.  Estimated pdfs may be imprecise.  Decrease dt to 0.01 or less.\n",
      "Warning: dt is large.  Estimated pdfs may be imprecise.  Decrease dt to 0.01 or less.\n",
      "Warning: dt is large.  Estimated pdfs may be imprecise.  Decrease dt to 0.01 or less.\n",
      "Warning: dt is large.  Estimated pdfs may be imprecise.  Decrease dt to 0.01 or less.\n",
      "Warning: dt is large.  Estimated pdfs may be imprecise.  Decrease dt to 0.01 or less.\n",
      "Warning: dt is large.  Estimated pdfs may be imprecise.  Decrease dt to 0.01 or less.\n"
     ]
    },
    {
     "name": "stderr",
     "output_type": "stream",
     "text": [
      "Warning: dt is large.  Estimated pdfs may be imprecise.  Decrease dt to 0.01 or less.\n",
      "Warning: dt is large.  Estimated pdfs may be imprecise.  Decrease dt to 0.01 or less.\n",
      "Warning: dt is large.  Estimated pdfs may be imprecise.  Decrease dt to 0.01 or less.\n",
      "Warning: dt is large.  Estimated pdfs may be imprecise.  Decrease dt to 0.01 or less.\n",
      "Warning: dt is large.  Estimated pdfs may be imprecise.  Decrease dt to 0.01 or less.\n",
      "Warning: dt is large.  Estimated pdfs may be imprecise.  Decrease dt to 0.01 or less.\n",
      "Warning: dt is large.  Estimated pdfs may be imprecise.  Decrease dt to 0.01 or less.\n",
      "Warning: dt is large.  Estimated pdfs may be imprecise.  Decrease dt to 0.01 or less.\n",
      "Warning: dt is large.  Estimated pdfs may be imprecise.  Decrease dt to 0.01 or less.\n",
      "Warning: dt is large.  Estimated pdfs may be imprecise.  Decrease dt to 0.01 or less.\n",
      "Warning: dt is large.  Estimated pdfs may be imprecise.  Decrease dt to 0.01 or less.\n",
      "Warning: dt is large.  Estimated pdfs may be imprecise.  Decrease dt to 0.01 or less.\n",
      "Warning: dt is large.  Estimated pdfs may be imprecise.  Decrease dt to 0.01 or less.\n",
      "Warning: dt is large.  Estimated pdfs may be imprecise.  Decrease dt to 0.01 or less.\n",
      "Warning: dt is large.  Estimated pdfs may be imprecise.  Decrease dt to 0.01 or less.\n",
      "Warning: dt is large.  Estimated pdfs may be imprecise.  Decrease dt to 0.01 or less.\n",
      "Warning: dt is large.  Estimated pdfs may be imprecise.  Decrease dt to 0.01 or less.\n",
      "Warning: dt is large.  Estimated pdfs may be imprecise.  Decrease dt to 0.01 or less.\n",
      "Warning: dt is large.  Estimated pdfs may be imprecise.  Decrease dt to 0.01 or less.\n",
      "Warning: dt is large.  Estimated pdfs may be imprecise.  Decrease dt to 0.01 or less.\n",
      "Warning: dt is large.  Estimated pdfs may be imprecise.  Decrease dt to 0.01 or less.\n",
      "Warning: dt is large.  Estimated pdfs may be imprecise.  Decrease dt to 0.01 or less.\n",
      "Warning: dt is large.  Estimated pdfs may be imprecise.  Decrease dt to 0.01 or less.\n",
      "Warning: dt is large.  Estimated pdfs may be imprecise.  Decrease dt to 0.01 or less.\n",
      "Warning: dt is large.  Estimated pdfs may be imprecise.  Decrease dt to 0.01 or less.\n",
      "Warning: dt is large.  Estimated pdfs may be imprecise.  Decrease dt to 0.01 or less.\n",
      "Warning: dt is large.  Estimated pdfs may be imprecise.  Decrease dt to 0.01 or less.\n",
      "Warning: dt is large.  Estimated pdfs may be imprecise.  Decrease dt to 0.01 or less.\n",
      "Warning: dt is large.  Estimated pdfs may be imprecise.  Decrease dt to 0.01 or less.\n",
      "Warning: dt is large.  Estimated pdfs may be imprecise.  Decrease dt to 0.01 or less.\n",
      "Warning: dt is large.  Estimated pdfs may be imprecise.  Decrease dt to 0.01 or less.\n",
      "Warning: dt is large.  Estimated pdfs may be imprecise.  Decrease dt to 0.01 or less.\n",
      "Warning: dt is large.  Estimated pdfs may be imprecise.  Decrease dt to 0.01 or less.\n",
      "Warning: dt is large.  Estimated pdfs may be imprecise.  Decrease dt to 0.01 or less.\n",
      "Warning: dt is large.  Estimated pdfs may be imprecise.  Decrease dt to 0.01 or less.\n",
      "Warning: dt is large.  Estimated pdfs may be imprecise.  Decrease dt to 0.01 or less.\n",
      "Warning: dt is large.  Estimated pdfs may be imprecise.  Decrease dt to 0.01 or less.\n",
      "Warning: dt is large.  Estimated pdfs may be imprecise.  Decrease dt to 0.01 or less.\n",
      "Warning: dt is large.  Estimated pdfs may be imprecise.  Decrease dt to 0.01 or less.\n",
      "Warning: dt is large.  Estimated pdfs may be imprecise.  Decrease dt to 0.01 or less.\n",
      "Warning: dt is large.  Estimated pdfs may be imprecise.  Decrease dt to 0.01 or less.\n",
      "Warning: dt is large.  Estimated pdfs may be imprecise.  Decrease dt to 0.01 or less.\n",
      "Warning: dt is large.  Estimated pdfs may be imprecise.  Decrease dt to 0.01 or less.\n",
      "Warning: dt is large.  Estimated pdfs may be imprecise.  Decrease dt to 0.01 or less.\n",
      "Warning: dt is large.  Estimated pdfs may be imprecise.  Decrease dt to 0.01 or less.\n",
      "Warning: dt is large.  Estimated pdfs may be imprecise.  Decrease dt to 0.01 or less.\n",
      "Warning: dt is large.  Estimated pdfs may be imprecise.  Decrease dt to 0.01 or less.\n",
      "Warning: dt is large.  Estimated pdfs may be imprecise.  Decrease dt to 0.01 or less.\n",
      "Warning: dt is large.  Estimated pdfs may be imprecise.  Decrease dt to 0.01 or less.\n",
      "Warning: dt is large.  Estimated pdfs may be imprecise.  Decrease dt to 0.01 or less.\n",
      "Warning: dt is large.  Estimated pdfs may be imprecise.  Decrease dt to 0.01 or less.\n",
      "Warning: dt is large.  Estimated pdfs may be imprecise.  Decrease dt to 0.01 or less.\n",
      "Warning: dt is large.  Estimated pdfs may be imprecise.  Decrease dt to 0.01 or less.\n",
      "Warning: dt is large.  Estimated pdfs may be imprecise.  Decrease dt to 0.01 or less.\n",
      "Warning: dt is large.  Estimated pdfs may be imprecise.  Decrease dt to 0.01 or less.\n",
      "Warning: dt is large.  Estimated pdfs may be imprecise.  Decrease dt to 0.01 or less.\n",
      "Warning: dt is large.  Estimated pdfs may be imprecise.  Decrease dt to 0.01 or less.\n",
      "Warning: dt is large.  Estimated pdfs may be imprecise.  Decrease dt to 0.01 or less.\n",
      "Warning: dt is large.  Estimated pdfs may be imprecise.  Decrease dt to 0.01 or less.\n",
      "Warning: dt is large.  Estimated pdfs may be imprecise.  Decrease dt to 0.01 or less.\n",
      "Warning: dt is large.  Estimated pdfs may be imprecise.  Decrease dt to 0.01 or less.\n",
      "Warning: dt is large.  Estimated pdfs may be imprecise.  Decrease dt to 0.01 or less.\n",
      "Warning: dt is large.  Estimated pdfs may be imprecise.  Decrease dt to 0.01 or less.\n",
      "Warning: dt is large.  Estimated pdfs may be imprecise.  Decrease dt to 0.01 or less.\n",
      "Warning: dt is large.  Estimated pdfs may be imprecise.  Decrease dt to 0.01 or less.\n",
      "Warning: dt is large.  Estimated pdfs may be imprecise.  Decrease dt to 0.01 or less.\n",
      "Warning: dt is large.  Estimated pdfs may be imprecise.  Decrease dt to 0.01 or less.\n",
      "Warning: dt is large.  Estimated pdfs may be imprecise.  Decrease dt to 0.01 or less.\n",
      "Warning: dt is large.  Estimated pdfs may be imprecise.  Decrease dt to 0.01 or less.\n",
      "Warning: dt is large.  Estimated pdfs may be imprecise.  Decrease dt to 0.01 or less.\n",
      "Warning: dt is large.  Estimated pdfs may be imprecise.  Decrease dt to 0.01 or less.\n",
      "Warning: dt is large.  Estimated pdfs may be imprecise.  Decrease dt to 0.01 or less.\n",
      "Warning: dt is large.  Estimated pdfs may be imprecise.  Decrease dt to 0.01 or less.\n",
      "Warning: dt is large.  Estimated pdfs may be imprecise.  Decrease dt to 0.01 or less.\n",
      "Warning: dt is large.  Estimated pdfs may be imprecise.  Decrease dt to 0.01 or less.\n",
      "Warning: dt is large.  Estimated pdfs may be imprecise.  Decrease dt to 0.01 or less.\n",
      "Warning: dt is large.  Estimated pdfs may be imprecise.  Decrease dt to 0.01 or less.\n",
      "Warning: dt is large.  Estimated pdfs may be imprecise.  Decrease dt to 0.01 or less.\n",
      "Warning: dt is large.  Estimated pdfs may be imprecise.  Decrease dt to 0.01 or less.\n",
      "Warning: dt is large.  Estimated pdfs may be imprecise.  Decrease dt to 0.01 or less.\n",
      "Warning: dt is large.  Estimated pdfs may be imprecise.  Decrease dt to 0.01 or less.\n",
      "Warning: dt is large.  Estimated pdfs may be imprecise.  Decrease dt to 0.01 or less.\n",
      "Warning: dt is large.  Estimated pdfs may be imprecise.  Decrease dt to 0.01 or less.\n",
      "Warning: dt is large.  Estimated pdfs may be imprecise.  Decrease dt to 0.01 or less.\n",
      "Warning: dt is large.  Estimated pdfs may be imprecise.  Decrease dt to 0.01 or less.\n",
      "Warning: dt is large.  Estimated pdfs may be imprecise.  Decrease dt to 0.01 or less.\n",
      "Warning: dt is large.  Estimated pdfs may be imprecise.  Decrease dt to 0.01 or less.\n",
      "Warning: dt is large.  Estimated pdfs may be imprecise.  Decrease dt to 0.01 or less.\n",
      "Warning: dt is large.  Estimated pdfs may be imprecise.  Decrease dt to 0.01 or less.\n",
      "Warning: dt is large.  Estimated pdfs may be imprecise.  Decrease dt to 0.01 or less.\n",
      "Warning: dt is large.  Estimated pdfs may be imprecise.  Decrease dt to 0.01 or less.\n",
      "Warning: dt is large.  Estimated pdfs may be imprecise.  Decrease dt to 0.01 or less.\n",
      "Warning: dt is large.  Estimated pdfs may be imprecise.  Decrease dt to 0.01 or less.\n",
      "Warning: dt is large.  Estimated pdfs may be imprecise.  Decrease dt to 0.01 or less.\n",
      "Warning: dt is large.  Estimated pdfs may be imprecise.  Decrease dt to 0.01 or less.\n",
      "Warning: dt is large.  Estimated pdfs may be imprecise.  Decrease dt to 0.01 or less.\n"
     ]
    },
    {
     "name": "stderr",
     "output_type": "stream",
     "text": [
      "Warning: dt is large.  Estimated pdfs may be imprecise.  Decrease dt to 0.01 or less.\n",
      "Warning: dt is large.  Estimated pdfs may be imprecise.  Decrease dt to 0.01 or less.\n",
      "Warning: dt is large.  Estimated pdfs may be imprecise.  Decrease dt to 0.01 or less.\n",
      "Warning: dt is large.  Estimated pdfs may be imprecise.  Decrease dt to 0.01 or less.\n",
      "Warning: dt is large.  Estimated pdfs may be imprecise.  Decrease dt to 0.01 or less.\n",
      "Warning: dt is large.  Estimated pdfs may be imprecise.  Decrease dt to 0.01 or less.\n",
      "Warning: dt is large.  Estimated pdfs may be imprecise.  Decrease dt to 0.01 or less.\n",
      "Warning: dt is large.  Estimated pdfs may be imprecise.  Decrease dt to 0.01 or less.\n",
      "Warning: dt is large.  Estimated pdfs may be imprecise.  Decrease dt to 0.01 or less.\n",
      "Warning: dt is large.  Estimated pdfs may be imprecise.  Decrease dt to 0.01 or less.\n",
      "Warning: dt is large.  Estimated pdfs may be imprecise.  Decrease dt to 0.01 or less.\n",
      "Warning: dt is large.  Estimated pdfs may be imprecise.  Decrease dt to 0.01 or less.\n",
      "Warning: dt is large.  Estimated pdfs may be imprecise.  Decrease dt to 0.01 or less.\n",
      "Warning: dt is large.  Estimated pdfs may be imprecise.  Decrease dt to 0.01 or less.\n",
      "Warning: dt is large.  Estimated pdfs may be imprecise.  Decrease dt to 0.01 or less.\n",
      "Warning: dt is large.  Estimated pdfs may be imprecise.  Decrease dt to 0.01 or less.\n",
      "Warning: dt is large.  Estimated pdfs may be imprecise.  Decrease dt to 0.01 or less.\n",
      "Warning: dt is large.  Estimated pdfs may be imprecise.  Decrease dt to 0.01 or less.\n",
      "Warning: dt is large.  Estimated pdfs may be imprecise.  Decrease dt to 0.01 or less.\n",
      "Warning: dt is large.  Estimated pdfs may be imprecise.  Decrease dt to 0.01 or less.\n",
      "Warning: dt is large.  Estimated pdfs may be imprecise.  Decrease dt to 0.01 or less.\n",
      "Warning: dt is large.  Estimated pdfs may be imprecise.  Decrease dt to 0.01 or less.\n",
      "Warning: dt is large.  Estimated pdfs may be imprecise.  Decrease dt to 0.01 or less.\n",
      "Warning: dt is large.  Estimated pdfs may be imprecise.  Decrease dt to 0.01 or less.\n",
      "Warning: dt is large.  Estimated pdfs may be imprecise.  Decrease dt to 0.01 or less.\n",
      "Warning: dt is large.  Estimated pdfs may be imprecise.  Decrease dt to 0.01 or less.\n",
      "Warning: dt is large.  Estimated pdfs may be imprecise.  Decrease dt to 0.01 or less.\n",
      "Warning: dt is large.  Estimated pdfs may be imprecise.  Decrease dt to 0.01 or less.\n",
      "Warning: dt is large.  Estimated pdfs may be imprecise.  Decrease dt to 0.01 or less.\n",
      "Warning: dt is large.  Estimated pdfs may be imprecise.  Decrease dt to 0.01 or less.\n",
      "Warning: dt is large.  Estimated pdfs may be imprecise.  Decrease dt to 0.01 or less.\n",
      "Warning: dt is large.  Estimated pdfs may be imprecise.  Decrease dt to 0.01 or less.\n",
      "Warning: dt is large.  Estimated pdfs may be imprecise.  Decrease dt to 0.01 or less.\n",
      "Warning: dt is large.  Estimated pdfs may be imprecise.  Decrease dt to 0.01 or less.\n",
      "Warning: dt is large.  Estimated pdfs may be imprecise.  Decrease dt to 0.01 or less.\n",
      "Warning: dt is large.  Estimated pdfs may be imprecise.  Decrease dt to 0.01 or less.\n",
      "Warning: dt is large.  Estimated pdfs may be imprecise.  Decrease dt to 0.01 or less.\n",
      "Warning: dt is large.  Estimated pdfs may be imprecise.  Decrease dt to 0.01 or less.\n",
      "Warning: dt is large.  Estimated pdfs may be imprecise.  Decrease dt to 0.01 or less.\n",
      "Warning: dt is large.  Estimated pdfs may be imprecise.  Decrease dt to 0.01 or less.\n",
      "Warning: dt is large.  Estimated pdfs may be imprecise.  Decrease dt to 0.01 or less.\n",
      "Warning: dt is large.  Estimated pdfs may be imprecise.  Decrease dt to 0.01 or less.\n",
      "Warning: dt is large.  Estimated pdfs may be imprecise.  Decrease dt to 0.01 or less.\n",
      "Warning: dt is large.  Estimated pdfs may be imprecise.  Decrease dt to 0.01 or less.\n",
      "Warning: dt is large.  Estimated pdfs may be imprecise.  Decrease dt to 0.01 or less.\n",
      "Warning: dt is large.  Estimated pdfs may be imprecise.  Decrease dt to 0.01 or less.\n",
      "Warning: dt is large.  Estimated pdfs may be imprecise.  Decrease dt to 0.01 or less.\n",
      "Warning: dt is large.  Estimated pdfs may be imprecise.  Decrease dt to 0.01 or less.\n",
      "Warning: dt is large.  Estimated pdfs may be imprecise.  Decrease dt to 0.01 or less.\n",
      "Warning: dt is large.  Estimated pdfs may be imprecise.  Decrease dt to 0.01 or less.\n",
      "Warning: dt is large.  Estimated pdfs may be imprecise.  Decrease dt to 0.01 or less.\n",
      "Warning: dt is large.  Estimated pdfs may be imprecise.  Decrease dt to 0.01 or less.\n",
      "Warning: dt is large.  Estimated pdfs may be imprecise.  Decrease dt to 0.01 or less.\n",
      "Warning: dt is large.  Estimated pdfs may be imprecise.  Decrease dt to 0.01 or less.\n",
      "Warning: dt is large.  Estimated pdfs may be imprecise.  Decrease dt to 0.01 or less.\n",
      "Warning: dt is large.  Estimated pdfs may be imprecise.  Decrease dt to 0.01 or less.\n",
      "Warning: dt is large.  Estimated pdfs may be imprecise.  Decrease dt to 0.01 or less.\n",
      "Warning: dt is large.  Estimated pdfs may be imprecise.  Decrease dt to 0.01 or less.\n",
      "Warning: dt is large.  Estimated pdfs may be imprecise.  Decrease dt to 0.01 or less.\n",
      "Warning: dt is large.  Estimated pdfs may be imprecise.  Decrease dt to 0.01 or less.\n",
      "Warning: dt is large.  Estimated pdfs may be imprecise.  Decrease dt to 0.01 or less.\n",
      "Warning: dt is large.  Estimated pdfs may be imprecise.  Decrease dt to 0.01 or less.\n",
      "Warning: dt is large.  Estimated pdfs may be imprecise.  Decrease dt to 0.01 or less.\n",
      "Warning: dt is large.  Estimated pdfs may be imprecise.  Decrease dt to 0.01 or less.\n",
      "Warning: dt is large.  Estimated pdfs may be imprecise.  Decrease dt to 0.01 or less.\n",
      "Warning: dt is large.  Estimated pdfs may be imprecise.  Decrease dt to 0.01 or less.\n",
      "Warning: dt is large.  Estimated pdfs may be imprecise.  Decrease dt to 0.01 or less.\n",
      "Warning: dt is large.  Estimated pdfs may be imprecise.  Decrease dt to 0.01 or less.\n",
      "Warning: dt is large.  Estimated pdfs may be imprecise.  Decrease dt to 0.01 or less.\n",
      "Warning: dt is large.  Estimated pdfs may be imprecise.  Decrease dt to 0.01 or less.\n",
      "Warning: dt is large.  Estimated pdfs may be imprecise.  Decrease dt to 0.01 or less.\n",
      "Warning: dt is large.  Estimated pdfs may be imprecise.  Decrease dt to 0.01 or less.\n",
      "Warning: dt is large.  Estimated pdfs may be imprecise.  Decrease dt to 0.01 or less.\n",
      "Warning: dt is large.  Estimated pdfs may be imprecise.  Decrease dt to 0.01 or less.\n",
      "Warning: dt is large.  Estimated pdfs may be imprecise.  Decrease dt to 0.01 or less.\n",
      "Warning: dt is large.  Estimated pdfs may be imprecise.  Decrease dt to 0.01 or less.\n",
      "Warning: dt is large.  Estimated pdfs may be imprecise.  Decrease dt to 0.01 or less.\n",
      "Warning: dt is large.  Estimated pdfs may be imprecise.  Decrease dt to 0.01 or less.\n",
      "Warning: dt is large.  Estimated pdfs may be imprecise.  Decrease dt to 0.01 or less.\n",
      "Warning: dt is large.  Estimated pdfs may be imprecise.  Decrease dt to 0.01 or less.\n",
      "Warning: dt is large.  Estimated pdfs may be imprecise.  Decrease dt to 0.01 or less.\n",
      "Warning: dt is large.  Estimated pdfs may be imprecise.  Decrease dt to 0.01 or less.\n",
      "Warning: dt is large.  Estimated pdfs may be imprecise.  Decrease dt to 0.01 or less.\n",
      "Warning: dt is large.  Estimated pdfs may be imprecise.  Decrease dt to 0.01 or less.\n",
      "Warning: dt is large.  Estimated pdfs may be imprecise.  Decrease dt to 0.01 or less.\n",
      "Warning: dt is large.  Estimated pdfs may be imprecise.  Decrease dt to 0.01 or less.\n",
      "Warning: dt is large.  Estimated pdfs may be imprecise.  Decrease dt to 0.01 or less.\n",
      "Warning: dt is large.  Estimated pdfs may be imprecise.  Decrease dt to 0.01 or less.\n",
      "Warning: dt is large.  Estimated pdfs may be imprecise.  Decrease dt to 0.01 or less.\n",
      "Warning: dt is large.  Estimated pdfs may be imprecise.  Decrease dt to 0.01 or less.\n",
      "Warning: dt is large.  Estimated pdfs may be imprecise.  Decrease dt to 0.01 or less.\n",
      "Warning: dt is large.  Estimated pdfs may be imprecise.  Decrease dt to 0.01 or less.\n",
      "Warning: dt is large.  Estimated pdfs may be imprecise.  Decrease dt to 0.01 or less.\n",
      "Warning: dt is large.  Estimated pdfs may be imprecise.  Decrease dt to 0.01 or less.\n",
      "Warning: dt is large.  Estimated pdfs may be imprecise.  Decrease dt to 0.01 or less.\n",
      "Warning: dt is large.  Estimated pdfs may be imprecise.  Decrease dt to 0.01 or less.\n"
     ]
    },
    {
     "name": "stderr",
     "output_type": "stream",
     "text": [
      "Warning: dt is large.  Estimated pdfs may be imprecise.  Decrease dt to 0.01 or less.\n",
      "Warning: dt is large.  Estimated pdfs may be imprecise.  Decrease dt to 0.01 or less.\n",
      "Warning: dt is large.  Estimated pdfs may be imprecise.  Decrease dt to 0.01 or less.\n",
      "Warning: dt is large.  Estimated pdfs may be imprecise.  Decrease dt to 0.01 or less.\n",
      "Warning: dt is large.  Estimated pdfs may be imprecise.  Decrease dt to 0.01 or less.\n",
      "Warning: dt is large.  Estimated pdfs may be imprecise.  Decrease dt to 0.01 or less.\n",
      "Warning: dt is large.  Estimated pdfs may be imprecise.  Decrease dt to 0.01 or less.\n",
      "Warning: dt is large.  Estimated pdfs may be imprecise.  Decrease dt to 0.01 or less.\n",
      "Warning: dt is large.  Estimated pdfs may be imprecise.  Decrease dt to 0.01 or less.\n",
      "Warning: dt is large.  Estimated pdfs may be imprecise.  Decrease dt to 0.01 or less.\n",
      "Warning: dt is large.  Estimated pdfs may be imprecise.  Decrease dt to 0.01 or less.\n",
      "Warning: dt is large.  Estimated pdfs may be imprecise.  Decrease dt to 0.01 or less.\n",
      "Warning: dt is large.  Estimated pdfs may be imprecise.  Decrease dt to 0.01 or less.\n",
      "Warning: dt is large.  Estimated pdfs may be imprecise.  Decrease dt to 0.01 or less.\n",
      "Warning: dt is large.  Estimated pdfs may be imprecise.  Decrease dt to 0.01 or less.\n",
      "Warning: dt is large.  Estimated pdfs may be imprecise.  Decrease dt to 0.01 or less.\n",
      "Warning: dt is large.  Estimated pdfs may be imprecise.  Decrease dt to 0.01 or less.\n",
      "Warning: dt is large.  Estimated pdfs may be imprecise.  Decrease dt to 0.01 or less.\n",
      "Warning: dt is large.  Estimated pdfs may be imprecise.  Decrease dt to 0.01 or less.\n",
      "Warning: dt is large.  Estimated pdfs may be imprecise.  Decrease dt to 0.01 or less.\n",
      "Warning: dt is large.  Estimated pdfs may be imprecise.  Decrease dt to 0.01 or less.\n",
      "Warning: dt is large.  Estimated pdfs may be imprecise.  Decrease dt to 0.01 or less.\n",
      "Warning: dt is large.  Estimated pdfs may be imprecise.  Decrease dt to 0.01 or less.\n",
      "Warning: dt is large.  Estimated pdfs may be imprecise.  Decrease dt to 0.01 or less.\n",
      "Warning: dt is large.  Estimated pdfs may be imprecise.  Decrease dt to 0.01 or less.\n",
      "Warning: dt is large.  Estimated pdfs may be imprecise.  Decrease dt to 0.01 or less.\n",
      "Warning: dt is large.  Estimated pdfs may be imprecise.  Decrease dt to 0.01 or less.\n",
      "Warning: dt is large.  Estimated pdfs may be imprecise.  Decrease dt to 0.01 or less.\n",
      "Warning: dt is large.  Estimated pdfs may be imprecise.  Decrease dt to 0.01 or less.\n",
      "Warning: dt is large.  Estimated pdfs may be imprecise.  Decrease dt to 0.01 or less.\n",
      "Warning: dt is large.  Estimated pdfs may be imprecise.  Decrease dt to 0.01 or less.\n",
      "Warning: dt is large.  Estimated pdfs may be imprecise.  Decrease dt to 0.01 or less.\n",
      "Warning: dt is large.  Estimated pdfs may be imprecise.  Decrease dt to 0.01 or less.\n",
      "Warning: dt is large.  Estimated pdfs may be imprecise.  Decrease dt to 0.01 or less.\n",
      "Warning: dt is large.  Estimated pdfs may be imprecise.  Decrease dt to 0.01 or less.\n",
      "Warning: dt is large.  Estimated pdfs may be imprecise.  Decrease dt to 0.01 or less.\n",
      "Warning: dt is large.  Estimated pdfs may be imprecise.  Decrease dt to 0.01 or less.\n",
      "Warning: dt is large.  Estimated pdfs may be imprecise.  Decrease dt to 0.01 or less.\n",
      "Warning: dt is large.  Estimated pdfs may be imprecise.  Decrease dt to 0.01 or less.\n",
      "Warning: dt is large.  Estimated pdfs may be imprecise.  Decrease dt to 0.01 or less.\n",
      "Warning: dt is large.  Estimated pdfs may be imprecise.  Decrease dt to 0.01 or less.\n",
      "Warning: dt is large.  Estimated pdfs may be imprecise.  Decrease dt to 0.01 or less.\n",
      "Warning: dt is large.  Estimated pdfs may be imprecise.  Decrease dt to 0.01 or less.\n",
      "Warning: dt is large.  Estimated pdfs may be imprecise.  Decrease dt to 0.01 or less.\n",
      "Warning: dt is large.  Estimated pdfs may be imprecise.  Decrease dt to 0.01 or less.\n",
      "Warning: dt is large.  Estimated pdfs may be imprecise.  Decrease dt to 0.01 or less.\n",
      "Warning: dt is large.  Estimated pdfs may be imprecise.  Decrease dt to 0.01 or less.\n",
      "Warning: dt is large.  Estimated pdfs may be imprecise.  Decrease dt to 0.01 or less.\n",
      "Warning: dt is large.  Estimated pdfs may be imprecise.  Decrease dt to 0.01 or less.\n",
      "Warning: dt is large.  Estimated pdfs may be imprecise.  Decrease dt to 0.01 or less.\n",
      "Warning: dt is large.  Estimated pdfs may be imprecise.  Decrease dt to 0.01 or less.\n",
      "Warning: dt is large.  Estimated pdfs may be imprecise.  Decrease dt to 0.01 or less.\n",
      "Warning: dt is large.  Estimated pdfs may be imprecise.  Decrease dt to 0.01 or less.\n",
      "Warning: dt is large.  Estimated pdfs may be imprecise.  Decrease dt to 0.01 or less.\n",
      "Warning: dt is large.  Estimated pdfs may be imprecise.  Decrease dt to 0.01 or less.\n",
      "Warning: dt is large.  Estimated pdfs may be imprecise.  Decrease dt to 0.01 or less.\n",
      "Warning: dt is large.  Estimated pdfs may be imprecise.  Decrease dt to 0.01 or less.\n",
      "Warning: dt is large.  Estimated pdfs may be imprecise.  Decrease dt to 0.01 or less.\n",
      "Warning: dt is large.  Estimated pdfs may be imprecise.  Decrease dt to 0.01 or less.\n",
      "Warning: dt is large.  Estimated pdfs may be imprecise.  Decrease dt to 0.01 or less.\n",
      "Warning: dt is large.  Estimated pdfs may be imprecise.  Decrease dt to 0.01 or less.\n",
      "Warning: dt is large.  Estimated pdfs may be imprecise.  Decrease dt to 0.01 or less.\n",
      "Warning: dt is large.  Estimated pdfs may be imprecise.  Decrease dt to 0.01 or less.\n",
      "Warning: dt is large.  Estimated pdfs may be imprecise.  Decrease dt to 0.01 or less.\n",
      "Warning: dt is large.  Estimated pdfs may be imprecise.  Decrease dt to 0.01 or less.\n",
      "Warning: dt is large.  Estimated pdfs may be imprecise.  Decrease dt to 0.01 or less.\n",
      "Warning: dt is large.  Estimated pdfs may be imprecise.  Decrease dt to 0.01 or less.\n",
      "Warning: dt is large.  Estimated pdfs may be imprecise.  Decrease dt to 0.01 or less.\n",
      "Warning: dt is large.  Estimated pdfs may be imprecise.  Decrease dt to 0.01 or less.\n",
      "Warning: dt is large.  Estimated pdfs may be imprecise.  Decrease dt to 0.01 or less.\n",
      "Warning: dt is large.  Estimated pdfs may be imprecise.  Decrease dt to 0.01 or less.\n",
      "Warning: dt is large.  Estimated pdfs may be imprecise.  Decrease dt to 0.01 or less.\n",
      "Warning: dt is large.  Estimated pdfs may be imprecise.  Decrease dt to 0.01 or less.\n",
      "Warning: dt is large.  Estimated pdfs may be imprecise.  Decrease dt to 0.01 or less.\n",
      "Warning: dt is large.  Estimated pdfs may be imprecise.  Decrease dt to 0.01 or less.\n",
      "Warning: dt is large.  Estimated pdfs may be imprecise.  Decrease dt to 0.01 or less.\n",
      "Warning: dt is large.  Estimated pdfs may be imprecise.  Decrease dt to 0.01 or less.\n",
      "Warning: dt is large.  Estimated pdfs may be imprecise.  Decrease dt to 0.01 or less.\n",
      "Warning: dt is large.  Estimated pdfs may be imprecise.  Decrease dt to 0.01 or less.\n",
      "Warning: dt is large.  Estimated pdfs may be imprecise.  Decrease dt to 0.01 or less.\n",
      "Warning: dt is large.  Estimated pdfs may be imprecise.  Decrease dt to 0.01 or less.\n",
      "Warning: dt is large.  Estimated pdfs may be imprecise.  Decrease dt to 0.01 or less.\n",
      "Warning: dt is large.  Estimated pdfs may be imprecise.  Decrease dt to 0.01 or less.\n",
      "Warning: dt is large.  Estimated pdfs may be imprecise.  Decrease dt to 0.01 or less.\n",
      "Warning: dt is large.  Estimated pdfs may be imprecise.  Decrease dt to 0.01 or less.\n",
      "Warning: dt is large.  Estimated pdfs may be imprecise.  Decrease dt to 0.01 or less.\n",
      "Warning: dt is large.  Estimated pdfs may be imprecise.  Decrease dt to 0.01 or less.\n",
      "Warning: dt is large.  Estimated pdfs may be imprecise.  Decrease dt to 0.01 or less.\n",
      "Warning: dt is large.  Estimated pdfs may be imprecise.  Decrease dt to 0.01 or less.\n",
      "Warning: dt is large.  Estimated pdfs may be imprecise.  Decrease dt to 0.01 or less.\n",
      "Warning: dt is large.  Estimated pdfs may be imprecise.  Decrease dt to 0.01 or less.\n",
      "Warning: dt is large.  Estimated pdfs may be imprecise.  Decrease dt to 0.01 or less.\n",
      "Warning: dt is large.  Estimated pdfs may be imprecise.  Decrease dt to 0.01 or less.\n",
      "Warning: dt is large.  Estimated pdfs may be imprecise.  Decrease dt to 0.01 or less.\n",
      "Warning: dt is large.  Estimated pdfs may be imprecise.  Decrease dt to 0.01 or less.\n",
      "Warning: dt is large.  Estimated pdfs may be imprecise.  Decrease dt to 0.01 or less.\n"
     ]
    },
    {
     "name": "stderr",
     "output_type": "stream",
     "text": [
      "Warning: dt is large.  Estimated pdfs may be imprecise.  Decrease dt to 0.01 or less.\n",
      "Warning: dt is large.  Estimated pdfs may be imprecise.  Decrease dt to 0.01 or less.\n",
      "Warning: dt is large.  Estimated pdfs may be imprecise.  Decrease dt to 0.01 or less.\n",
      "Warning: dt is large.  Estimated pdfs may be imprecise.  Decrease dt to 0.01 or less.\n",
      "Warning: dt is large.  Estimated pdfs may be imprecise.  Decrease dt to 0.01 or less.\n",
      "Warning: dt is large.  Estimated pdfs may be imprecise.  Decrease dt to 0.01 or less.\n",
      "Warning: dt is large.  Estimated pdfs may be imprecise.  Decrease dt to 0.01 or less.\n",
      "Warning: dt is large.  Estimated pdfs may be imprecise.  Decrease dt to 0.01 or less.\n",
      "Warning: dt is large.  Estimated pdfs may be imprecise.  Decrease dt to 0.01 or less.\n",
      "Warning: dt is large.  Estimated pdfs may be imprecise.  Decrease dt to 0.01 or less.\n",
      "Warning: dt is large.  Estimated pdfs may be imprecise.  Decrease dt to 0.01 or less.\n",
      "Warning: dt is large.  Estimated pdfs may be imprecise.  Decrease dt to 0.01 or less.\n",
      "Warning: dt is large.  Estimated pdfs may be imprecise.  Decrease dt to 0.01 or less.\n",
      "Warning: dt is large.  Estimated pdfs may be imprecise.  Decrease dt to 0.01 or less.\n",
      "Warning: dt is large.  Estimated pdfs may be imprecise.  Decrease dt to 0.01 or less.\n",
      "Warning: dt is large.  Estimated pdfs may be imprecise.  Decrease dt to 0.01 or less.\n",
      "Warning: dt is large.  Estimated pdfs may be imprecise.  Decrease dt to 0.01 or less.\n",
      "Warning: dt is large.  Estimated pdfs may be imprecise.  Decrease dt to 0.01 or less.\n",
      "Warning: dt is large.  Estimated pdfs may be imprecise.  Decrease dt to 0.01 or less.\n",
      "Warning: dt is large.  Estimated pdfs may be imprecise.  Decrease dt to 0.01 or less.\n",
      "Warning: dt is large.  Estimated pdfs may be imprecise.  Decrease dt to 0.01 or less.\n",
      "Warning: dt is large.  Estimated pdfs may be imprecise.  Decrease dt to 0.01 or less.\n",
      "Warning: dt is large.  Estimated pdfs may be imprecise.  Decrease dt to 0.01 or less.\n",
      "Warning: dt is large.  Estimated pdfs may be imprecise.  Decrease dt to 0.01 or less.\n",
      "Warning: dt is large.  Estimated pdfs may be imprecise.  Decrease dt to 0.01 or less.\n",
      "Warning: dt is large.  Estimated pdfs may be imprecise.  Decrease dt to 0.01 or less.\n",
      "Warning: dt is large.  Estimated pdfs may be imprecise.  Decrease dt to 0.01 or less.\n",
      "Warning: dt is large.  Estimated pdfs may be imprecise.  Decrease dt to 0.01 or less.\n",
      "Warning: dt is large.  Estimated pdfs may be imprecise.  Decrease dt to 0.01 or less.\n",
      "Warning: dt is large.  Estimated pdfs may be imprecise.  Decrease dt to 0.01 or less.\n",
      "Warning: dt is large.  Estimated pdfs may be imprecise.  Decrease dt to 0.01 or less.\n",
      "Warning: dt is large.  Estimated pdfs may be imprecise.  Decrease dt to 0.01 or less.\n",
      "Warning: dt is large.  Estimated pdfs may be imprecise.  Decrease dt to 0.01 or less.\n",
      "Warning: dt is large.  Estimated pdfs may be imprecise.  Decrease dt to 0.01 or less.\n",
      "Warning: dt is large.  Estimated pdfs may be imprecise.  Decrease dt to 0.01 or less.\n",
      "Warning: dt is large.  Estimated pdfs may be imprecise.  Decrease dt to 0.01 or less.\n",
      "Warning: dt is large.  Estimated pdfs may be imprecise.  Decrease dt to 0.01 or less.\n",
      "Warning: dt is large.  Estimated pdfs may be imprecise.  Decrease dt to 0.01 or less.\n",
      "Warning: dt is large.  Estimated pdfs may be imprecise.  Decrease dt to 0.01 or less.\n",
      "Warning: dt is large.  Estimated pdfs may be imprecise.  Decrease dt to 0.01 or less.\n",
      "Warning: dt is large.  Estimated pdfs may be imprecise.  Decrease dt to 0.01 or less.\n",
      "Warning: dt is large.  Estimated pdfs may be imprecise.  Decrease dt to 0.01 or less.\n",
      "Warning: dt is large.  Estimated pdfs may be imprecise.  Decrease dt to 0.01 or less.\n",
      "Warning: dt is large.  Estimated pdfs may be imprecise.  Decrease dt to 0.01 or less.\n",
      "Warning: dt is large.  Estimated pdfs may be imprecise.  Decrease dt to 0.01 or less.\n",
      "Warning: dt is large.  Estimated pdfs may be imprecise.  Decrease dt to 0.01 or less.\n",
      "Warning: dt is large.  Estimated pdfs may be imprecise.  Decrease dt to 0.01 or less.\n",
      "Warning: dt is large.  Estimated pdfs may be imprecise.  Decrease dt to 0.01 or less.\n",
      "Warning: dt is large.  Estimated pdfs may be imprecise.  Decrease dt to 0.01 or less.\n",
      "Warning: dt is large.  Estimated pdfs may be imprecise.  Decrease dt to 0.01 or less.\n",
      "Warning: dt is large.  Estimated pdfs may be imprecise.  Decrease dt to 0.01 or less.\n",
      "Warning: dt is large.  Estimated pdfs may be imprecise.  Decrease dt to 0.01 or less.\n",
      "Warning: dt is large.  Estimated pdfs may be imprecise.  Decrease dt to 0.01 or less.\n",
      "Warning: dt is large.  Estimated pdfs may be imprecise.  Decrease dt to 0.01 or less.\n",
      "Warning: dt is large.  Estimated pdfs may be imprecise.  Decrease dt to 0.01 or less.\n",
      "Warning: dt is large.  Estimated pdfs may be imprecise.  Decrease dt to 0.01 or less.\n",
      "Warning: dt is large.  Estimated pdfs may be imprecise.  Decrease dt to 0.01 or less.\n",
      "Warning: dt is large.  Estimated pdfs may be imprecise.  Decrease dt to 0.01 or less.\n",
      "Warning: dt is large.  Estimated pdfs may be imprecise.  Decrease dt to 0.01 or less.\n",
      "Warning: dt is large.  Estimated pdfs may be imprecise.  Decrease dt to 0.01 or less.\n",
      "Warning: dt is large.  Estimated pdfs may be imprecise.  Decrease dt to 0.01 or less.\n",
      "Warning: dt is large.  Estimated pdfs may be imprecise.  Decrease dt to 0.01 or less.\n",
      "Warning: dt is large.  Estimated pdfs may be imprecise.  Decrease dt to 0.01 or less.\n",
      "Warning: dt is large.  Estimated pdfs may be imprecise.  Decrease dt to 0.01 or less.\n",
      "Warning: dt is large.  Estimated pdfs may be imprecise.  Decrease dt to 0.01 or less.\n",
      "Warning: dt is large.  Estimated pdfs may be imprecise.  Decrease dt to 0.01 or less.\n",
      "Warning: dt is large.  Estimated pdfs may be imprecise.  Decrease dt to 0.01 or less.\n",
      "Warning: dt is large.  Estimated pdfs may be imprecise.  Decrease dt to 0.01 or less.\n",
      "Warning: dt is large.  Estimated pdfs may be imprecise.  Decrease dt to 0.01 or less.\n",
      "Warning: dt is large.  Estimated pdfs may be imprecise.  Decrease dt to 0.01 or less.\n",
      "Warning: dt is large.  Estimated pdfs may be imprecise.  Decrease dt to 0.01 or less.\n",
      "Warning: dt is large.  Estimated pdfs may be imprecise.  Decrease dt to 0.01 or less.\n",
      "Warning: dt is large.  Estimated pdfs may be imprecise.  Decrease dt to 0.01 or less.\n",
      "Warning: dt is large.  Estimated pdfs may be imprecise.  Decrease dt to 0.01 or less.\n",
      "Warning: dt is large.  Estimated pdfs may be imprecise.  Decrease dt to 0.01 or less.\n",
      "Warning: dt is large.  Estimated pdfs may be imprecise.  Decrease dt to 0.01 or less.\n",
      "Warning: dt is large.  Estimated pdfs may be imprecise.  Decrease dt to 0.01 or less.\n",
      "Warning: dt is large.  Estimated pdfs may be imprecise.  Decrease dt to 0.01 or less.\n",
      "Warning: dt is large.  Estimated pdfs may be imprecise.  Decrease dt to 0.01 or less.\n",
      "Warning: dt is large.  Estimated pdfs may be imprecise.  Decrease dt to 0.01 or less.\n",
      "Warning: dt is large.  Estimated pdfs may be imprecise.  Decrease dt to 0.01 or less.\n",
      "Warning: dt is large.  Estimated pdfs may be imprecise.  Decrease dt to 0.01 or less.\n",
      "Warning: dt is large.  Estimated pdfs may be imprecise.  Decrease dt to 0.01 or less.\n",
      "Warning: dt is large.  Estimated pdfs may be imprecise.  Decrease dt to 0.01 or less.\n",
      "Warning: dt is large.  Estimated pdfs may be imprecise.  Decrease dt to 0.01 or less.\n",
      "Warning: dt is large.  Estimated pdfs may be imprecise.  Decrease dt to 0.01 or less.\n",
      "Warning: dt is large.  Estimated pdfs may be imprecise.  Decrease dt to 0.01 or less.\n",
      "Warning: dt is large.  Estimated pdfs may be imprecise.  Decrease dt to 0.01 or less.\n",
      "Warning: dt is large.  Estimated pdfs may be imprecise.  Decrease dt to 0.01 or less.\n",
      "Warning: dt is large.  Estimated pdfs may be imprecise.  Decrease dt to 0.01 or less.\n",
      "Warning: dt is large.  Estimated pdfs may be imprecise.  Decrease dt to 0.01 or less.\n",
      "Warning: dt is large.  Estimated pdfs may be imprecise.  Decrease dt to 0.01 or less.\n",
      "Warning: dt is large.  Estimated pdfs may be imprecise.  Decrease dt to 0.01 or less.\n",
      "Warning: dt is large.  Estimated pdfs may be imprecise.  Decrease dt to 0.01 or less.\n",
      "Warning: dt is large.  Estimated pdfs may be imprecise.  Decrease dt to 0.01 or less.\n",
      "Warning: dt is large.  Estimated pdfs may be imprecise.  Decrease dt to 0.01 or less.\n"
     ]
    },
    {
     "name": "stderr",
     "output_type": "stream",
     "text": [
      "Warning: dt is large.  Estimated pdfs may be imprecise.  Decrease dt to 0.01 or less.\n",
      "Warning: dt is large.  Estimated pdfs may be imprecise.  Decrease dt to 0.01 or less.\n",
      "Warning: dt is large.  Estimated pdfs may be imprecise.  Decrease dt to 0.01 or less.\n",
      "Warning: dt is large.  Estimated pdfs may be imprecise.  Decrease dt to 0.01 or less.\n",
      "Warning: dt is large.  Estimated pdfs may be imprecise.  Decrease dt to 0.01 or less.\n",
      "Warning: dt is large.  Estimated pdfs may be imprecise.  Decrease dt to 0.01 or less.\n",
      "Warning: dt is large.  Estimated pdfs may be imprecise.  Decrease dt to 0.01 or less.\n",
      "Warning: dt is large.  Estimated pdfs may be imprecise.  Decrease dt to 0.01 or less.\n",
      "Warning: dt is large.  Estimated pdfs may be imprecise.  Decrease dt to 0.01 or less.\n",
      "Warning: dt is large.  Estimated pdfs may be imprecise.  Decrease dt to 0.01 or less.\n",
      "Warning: dt is large.  Estimated pdfs may be imprecise.  Decrease dt to 0.01 or less.\n",
      "Warning: dt is large.  Estimated pdfs may be imprecise.  Decrease dt to 0.01 or less.\n",
      "Warning: dt is large.  Estimated pdfs may be imprecise.  Decrease dt to 0.01 or less.\n",
      "Warning: dt is large.  Estimated pdfs may be imprecise.  Decrease dt to 0.01 or less.\n",
      "Warning: dt is large.  Estimated pdfs may be imprecise.  Decrease dt to 0.01 or less.\n",
      "Warning: dt is large.  Estimated pdfs may be imprecise.  Decrease dt to 0.01 or less.\n",
      "Warning: dt is large.  Estimated pdfs may be imprecise.  Decrease dt to 0.01 or less.\n",
      "Warning: dt is large.  Estimated pdfs may be imprecise.  Decrease dt to 0.01 or less.\n",
      "Warning: dt is large.  Estimated pdfs may be imprecise.  Decrease dt to 0.01 or less.\n",
      "Warning: dt is large.  Estimated pdfs may be imprecise.  Decrease dt to 0.01 or less.\n",
      "Warning: dt is large.  Estimated pdfs may be imprecise.  Decrease dt to 0.01 or less.\n",
      "Warning: dt is large.  Estimated pdfs may be imprecise.  Decrease dt to 0.01 or less.\n",
      "Warning: dt is large.  Estimated pdfs may be imprecise.  Decrease dt to 0.01 or less.\n",
      "Warning: dt is large.  Estimated pdfs may be imprecise.  Decrease dt to 0.01 or less.\n",
      "Warning: dt is large.  Estimated pdfs may be imprecise.  Decrease dt to 0.01 or less.\n",
      "Warning: dt is large.  Estimated pdfs may be imprecise.  Decrease dt to 0.01 or less.\n",
      "Warning: dt is large.  Estimated pdfs may be imprecise.  Decrease dt to 0.01 or less.\n",
      "Warning: dt is large.  Estimated pdfs may be imprecise.  Decrease dt to 0.01 or less.\n",
      "Warning: dt is large.  Estimated pdfs may be imprecise.  Decrease dt to 0.01 or less.\n",
      "Warning: dt is large.  Estimated pdfs may be imprecise.  Decrease dt to 0.01 or less.\n",
      "Warning: dt is large.  Estimated pdfs may be imprecise.  Decrease dt to 0.01 or less.\n",
      "Warning: dt is large.  Estimated pdfs may be imprecise.  Decrease dt to 0.01 or less.\n",
      "Warning: dt is large.  Estimated pdfs may be imprecise.  Decrease dt to 0.01 or less.\n",
      "Warning: dt is large.  Estimated pdfs may be imprecise.  Decrease dt to 0.01 or less.\n",
      "Warning: dt is large.  Estimated pdfs may be imprecise.  Decrease dt to 0.01 or less.\n",
      "Warning: dt is large.  Estimated pdfs may be imprecise.  Decrease dt to 0.01 or less.\n",
      "Warning: dt is large.  Estimated pdfs may be imprecise.  Decrease dt to 0.01 or less.\n",
      "Warning: dt is large.  Estimated pdfs may be imprecise.  Decrease dt to 0.01 or less.\n",
      "Warning: dt is large.  Estimated pdfs may be imprecise.  Decrease dt to 0.01 or less.\n",
      "Warning: dt is large.  Estimated pdfs may be imprecise.  Decrease dt to 0.01 or less.\n",
      "Warning: dt is large.  Estimated pdfs may be imprecise.  Decrease dt to 0.01 or less.\n",
      "Warning: dt is large.  Estimated pdfs may be imprecise.  Decrease dt to 0.01 or less.\n",
      "Warning: dt is large.  Estimated pdfs may be imprecise.  Decrease dt to 0.01 or less.\n",
      "Warning: dt is large.  Estimated pdfs may be imprecise.  Decrease dt to 0.01 or less.\n",
      "Warning: dt is large.  Estimated pdfs may be imprecise.  Decrease dt to 0.01 or less.\n",
      "Warning: dt is large.  Estimated pdfs may be imprecise.  Decrease dt to 0.01 or less.\n",
      "Warning: dt is large.  Estimated pdfs may be imprecise.  Decrease dt to 0.01 or less.\n",
      "Warning: dt is large.  Estimated pdfs may be imprecise.  Decrease dt to 0.01 or less.\n",
      "Warning: dt is large.  Estimated pdfs may be imprecise.  Decrease dt to 0.01 or less.\n",
      "Warning: dt is large.  Estimated pdfs may be imprecise.  Decrease dt to 0.01 or less.\n",
      "Warning: dt is large.  Estimated pdfs may be imprecise.  Decrease dt to 0.01 or less.\n",
      "Warning: dt is large.  Estimated pdfs may be imprecise.  Decrease dt to 0.01 or less.\n",
      "Warning: dt is large.  Estimated pdfs may be imprecise.  Decrease dt to 0.01 or less.\n",
      "Warning: dt is large.  Estimated pdfs may be imprecise.  Decrease dt to 0.01 or less.\n",
      "Warning: dt is large.  Estimated pdfs may be imprecise.  Decrease dt to 0.01 or less.\n",
      "Warning: dt is large.  Estimated pdfs may be imprecise.  Decrease dt to 0.01 or less.\n",
      "Warning: dt is large.  Estimated pdfs may be imprecise.  Decrease dt to 0.01 or less.\n",
      "Warning: dt is large.  Estimated pdfs may be imprecise.  Decrease dt to 0.01 or less.\n",
      "Warning: dt is large.  Estimated pdfs may be imprecise.  Decrease dt to 0.01 or less.\n",
      "Warning: dt is large.  Estimated pdfs may be imprecise.  Decrease dt to 0.01 or less.\n",
      "Warning: dt is large.  Estimated pdfs may be imprecise.  Decrease dt to 0.01 or less.\n",
      "Warning: dt is large.  Estimated pdfs may be imprecise.  Decrease dt to 0.01 or less.\n",
      "Warning: dt is large.  Estimated pdfs may be imprecise.  Decrease dt to 0.01 or less.\n",
      "Warning: dt is large.  Estimated pdfs may be imprecise.  Decrease dt to 0.01 or less.\n",
      "Warning: dt is large.  Estimated pdfs may be imprecise.  Decrease dt to 0.01 or less.\n",
      "Warning: dt is large.  Estimated pdfs may be imprecise.  Decrease dt to 0.01 or less.\n",
      "Warning: dt is large.  Estimated pdfs may be imprecise.  Decrease dt to 0.01 or less.\n",
      "Warning: dt is large.  Estimated pdfs may be imprecise.  Decrease dt to 0.01 or less.\n",
      "Warning: dt is large.  Estimated pdfs may be imprecise.  Decrease dt to 0.01 or less.\n",
      "Warning: dt is large.  Estimated pdfs may be imprecise.  Decrease dt to 0.01 or less.\n",
      "Warning: dt is large.  Estimated pdfs may be imprecise.  Decrease dt to 0.01 or less.\n",
      "Warning: dt is large.  Estimated pdfs may be imprecise.  Decrease dt to 0.01 or less.\n",
      "Warning: dt is large.  Estimated pdfs may be imprecise.  Decrease dt to 0.01 or less.\n",
      "Warning: dt is large.  Estimated pdfs may be imprecise.  Decrease dt to 0.01 or less.\n",
      "Warning: dt is large.  Estimated pdfs may be imprecise.  Decrease dt to 0.01 or less.\n",
      "Warning: dt is large.  Estimated pdfs may be imprecise.  Decrease dt to 0.01 or less.\n",
      "Warning: dt is large.  Estimated pdfs may be imprecise.  Decrease dt to 0.01 or less.\n",
      "Warning: dt is large.  Estimated pdfs may be imprecise.  Decrease dt to 0.01 or less.\n",
      "Warning: dt is large.  Estimated pdfs may be imprecise.  Decrease dt to 0.01 or less.\n",
      "Warning: dt is large.  Estimated pdfs may be imprecise.  Decrease dt to 0.01 or less.\n",
      "Warning: dt is large.  Estimated pdfs may be imprecise.  Decrease dt to 0.01 or less.\n",
      "Warning: dt is large.  Estimated pdfs may be imprecise.  Decrease dt to 0.01 or less.\n",
      "Warning: dt is large.  Estimated pdfs may be imprecise.  Decrease dt to 0.01 or less.\n",
      "Warning: dt is large.  Estimated pdfs may be imprecise.  Decrease dt to 0.01 or less.\n",
      "Warning: dt is large.  Estimated pdfs may be imprecise.  Decrease dt to 0.01 or less.\n",
      "Warning: dt is large.  Estimated pdfs may be imprecise.  Decrease dt to 0.01 or less.\n",
      "Warning: dt is large.  Estimated pdfs may be imprecise.  Decrease dt to 0.01 or less.\n",
      "Warning: dt is large.  Estimated pdfs may be imprecise.  Decrease dt to 0.01 or less.\n",
      "Warning: dt is large.  Estimated pdfs may be imprecise.  Decrease dt to 0.01 or less.\n",
      "Warning: dt is large.  Estimated pdfs may be imprecise.  Decrease dt to 0.01 or less.\n",
      "Warning: dt is large.  Estimated pdfs may be imprecise.  Decrease dt to 0.01 or less.\n",
      "Warning: dt is large.  Estimated pdfs may be imprecise.  Decrease dt to 0.01 or less.\n",
      "Warning: dt is large.  Estimated pdfs may be imprecise.  Decrease dt to 0.01 or less.\n",
      "Warning: dt is large.  Estimated pdfs may be imprecise.  Decrease dt to 0.01 or less.\n",
      "Warning: dt is large.  Estimated pdfs may be imprecise.  Decrease dt to 0.01 or less.\n",
      "Warning: dt is large.  Estimated pdfs may be imprecise.  Decrease dt to 0.01 or less.\n"
     ]
    },
    {
     "name": "stderr",
     "output_type": "stream",
     "text": [
      "Warning: dt is large.  Estimated pdfs may be imprecise.  Decrease dt to 0.01 or less.\n",
      "Warning: dt is large.  Estimated pdfs may be imprecise.  Decrease dt to 0.01 or less.\n",
      "Warning: dt is large.  Estimated pdfs may be imprecise.  Decrease dt to 0.01 or less.\n",
      "Warning: dt is large.  Estimated pdfs may be imprecise.  Decrease dt to 0.01 or less.\n",
      "Warning: dt is large.  Estimated pdfs may be imprecise.  Decrease dt to 0.01 or less.\n",
      "Warning: dt is large.  Estimated pdfs may be imprecise.  Decrease dt to 0.01 or less.\n",
      "Warning: dt is large.  Estimated pdfs may be imprecise.  Decrease dt to 0.01 or less.\n",
      "Warning: dt is large.  Estimated pdfs may be imprecise.  Decrease dt to 0.01 or less.\n",
      "Warning: dt is large.  Estimated pdfs may be imprecise.  Decrease dt to 0.01 or less.\n",
      "Warning: dt is large.  Estimated pdfs may be imprecise.  Decrease dt to 0.01 or less.\n",
      "Warning: dt is large.  Estimated pdfs may be imprecise.  Decrease dt to 0.01 or less.\n",
      "Warning: dt is large.  Estimated pdfs may be imprecise.  Decrease dt to 0.01 or less.\n",
      "Warning: dt is large.  Estimated pdfs may be imprecise.  Decrease dt to 0.01 or less.\n",
      "Warning: dt is large.  Estimated pdfs may be imprecise.  Decrease dt to 0.01 or less.\n",
      "Warning: dt is large.  Estimated pdfs may be imprecise.  Decrease dt to 0.01 or less.\n",
      "Warning: dt is large.  Estimated pdfs may be imprecise.  Decrease dt to 0.01 or less.\n",
      "Warning: dt is large.  Estimated pdfs may be imprecise.  Decrease dt to 0.01 or less.\n",
      "Warning: dt is large.  Estimated pdfs may be imprecise.  Decrease dt to 0.01 or less.\n",
      "Warning: dt is large.  Estimated pdfs may be imprecise.  Decrease dt to 0.01 or less.\n",
      "Warning: dt is large.  Estimated pdfs may be imprecise.  Decrease dt to 0.01 or less.\n",
      "Warning: dt is large.  Estimated pdfs may be imprecise.  Decrease dt to 0.01 or less.\n",
      "Warning: dt is large.  Estimated pdfs may be imprecise.  Decrease dt to 0.01 or less.\n",
      "Warning: dt is large.  Estimated pdfs may be imprecise.  Decrease dt to 0.01 or less.\n",
      "Warning: dt is large.  Estimated pdfs may be imprecise.  Decrease dt to 0.01 or less.\n",
      "Warning: dt is large.  Estimated pdfs may be imprecise.  Decrease dt to 0.01 or less.\n",
      "Warning: dt is large.  Estimated pdfs may be imprecise.  Decrease dt to 0.01 or less.\n",
      "Warning: dt is large.  Estimated pdfs may be imprecise.  Decrease dt to 0.01 or less.\n",
      "Warning: dt is large.  Estimated pdfs may be imprecise.  Decrease dt to 0.01 or less.\n",
      "Warning: dt is large.  Estimated pdfs may be imprecise.  Decrease dt to 0.01 or less.\n",
      "Warning: dt is large.  Estimated pdfs may be imprecise.  Decrease dt to 0.01 or less.\n",
      "Warning: dt is large.  Estimated pdfs may be imprecise.  Decrease dt to 0.01 or less.\n",
      "Warning: dt is large.  Estimated pdfs may be imprecise.  Decrease dt to 0.01 or less.\n",
      "Warning: dt is large.  Estimated pdfs may be imprecise.  Decrease dt to 0.01 or less.\n",
      "Warning: dt is large.  Estimated pdfs may be imprecise.  Decrease dt to 0.01 or less.\n",
      "Warning: dt is large.  Estimated pdfs may be imprecise.  Decrease dt to 0.01 or less.\n",
      "Warning: dt is large.  Estimated pdfs may be imprecise.  Decrease dt to 0.01 or less.\n",
      "Warning: dt is large.  Estimated pdfs may be imprecise.  Decrease dt to 0.01 or less.\n",
      "Warning: dt is large.  Estimated pdfs may be imprecise.  Decrease dt to 0.01 or less.\n",
      "Warning: dt is large.  Estimated pdfs may be imprecise.  Decrease dt to 0.01 or less.\n",
      "Warning: dt is large.  Estimated pdfs may be imprecise.  Decrease dt to 0.01 or less.\n",
      "Warning: dt is large.  Estimated pdfs may be imprecise.  Decrease dt to 0.01 or less.\n",
      "Warning: dt is large.  Estimated pdfs may be imprecise.  Decrease dt to 0.01 or less.\n",
      "Warning: dt is large.  Estimated pdfs may be imprecise.  Decrease dt to 0.01 or less.\n",
      "Warning: dt is large.  Estimated pdfs may be imprecise.  Decrease dt to 0.01 or less.\n",
      "Warning: dt is large.  Estimated pdfs may be imprecise.  Decrease dt to 0.01 or less.\n",
      "Warning: dt is large.  Estimated pdfs may be imprecise.  Decrease dt to 0.01 or less.\n",
      "Warning: dt is large.  Estimated pdfs may be imprecise.  Decrease dt to 0.01 or less.\n",
      "Warning: dt is large.  Estimated pdfs may be imprecise.  Decrease dt to 0.01 or less.\n",
      "Warning: dt is large.  Estimated pdfs may be imprecise.  Decrease dt to 0.01 or less.\n",
      "Warning: dt is large.  Estimated pdfs may be imprecise.  Decrease dt to 0.01 or less.\n",
      "Warning: dt is large.  Estimated pdfs may be imprecise.  Decrease dt to 0.01 or less.\n",
      "Warning: dt is large.  Estimated pdfs may be imprecise.  Decrease dt to 0.01 or less.\n",
      "Warning: dt is large.  Estimated pdfs may be imprecise.  Decrease dt to 0.01 or less.\n",
      "Warning: dt is large.  Estimated pdfs may be imprecise.  Decrease dt to 0.01 or less.\n",
      "Warning: dt is large.  Estimated pdfs may be imprecise.  Decrease dt to 0.01 or less.\n",
      "Warning: dt is large.  Estimated pdfs may be imprecise.  Decrease dt to 0.01 or less.\n",
      "Warning: dt is large.  Estimated pdfs may be imprecise.  Decrease dt to 0.01 or less.\n",
      "Warning: dt is large.  Estimated pdfs may be imprecise.  Decrease dt to 0.01 or less.\n",
      "Warning: dt is large.  Estimated pdfs may be imprecise.  Decrease dt to 0.01 or less.\n",
      "Warning: dt is large.  Estimated pdfs may be imprecise.  Decrease dt to 0.01 or less.\n",
      "Warning: dt is large.  Estimated pdfs may be imprecise.  Decrease dt to 0.01 or less.\n",
      "Warning: dt is large.  Estimated pdfs may be imprecise.  Decrease dt to 0.01 or less.\n",
      "Warning: dt is large.  Estimated pdfs may be imprecise.  Decrease dt to 0.01 or less.\n",
      "Warning: dt is large.  Estimated pdfs may be imprecise.  Decrease dt to 0.01 or less.\n",
      "Warning: dt is large.  Estimated pdfs may be imprecise.  Decrease dt to 0.01 or less.\n",
      "Warning: dt is large.  Estimated pdfs may be imprecise.  Decrease dt to 0.01 or less.\n",
      "Warning: dt is large.  Estimated pdfs may be imprecise.  Decrease dt to 0.01 or less.\n",
      "Warning: dt is large.  Estimated pdfs may be imprecise.  Decrease dt to 0.01 or less.\n",
      "Warning: dt is large.  Estimated pdfs may be imprecise.  Decrease dt to 0.01 or less.\n",
      "Warning: dt is large.  Estimated pdfs may be imprecise.  Decrease dt to 0.01 or less.\n",
      "Warning: dt is large.  Estimated pdfs may be imprecise.  Decrease dt to 0.01 or less.\n",
      "Warning: dt is large.  Estimated pdfs may be imprecise.  Decrease dt to 0.01 or less.\n",
      "Warning: dt is large.  Estimated pdfs may be imprecise.  Decrease dt to 0.01 or less.\n",
      "Warning: dt is large.  Estimated pdfs may be imprecise.  Decrease dt to 0.01 or less.\n",
      "Warning: dt is large.  Estimated pdfs may be imprecise.  Decrease dt to 0.01 or less.\n",
      "Warning: dt is large.  Estimated pdfs may be imprecise.  Decrease dt to 0.01 or less.\n",
      "Warning: dt is large.  Estimated pdfs may be imprecise.  Decrease dt to 0.01 or less.\n",
      "Warning: dt is large.  Estimated pdfs may be imprecise.  Decrease dt to 0.01 or less.\n",
      "Warning: dt is large.  Estimated pdfs may be imprecise.  Decrease dt to 0.01 or less.\n",
      "Warning: dt is large.  Estimated pdfs may be imprecise.  Decrease dt to 0.01 or less.\n",
      "Warning: dt is large.  Estimated pdfs may be imprecise.  Decrease dt to 0.01 or less.\n",
      "Warning: dt is large.  Estimated pdfs may be imprecise.  Decrease dt to 0.01 or less.\n",
      "Warning: dt is large.  Estimated pdfs may be imprecise.  Decrease dt to 0.01 or less.\n",
      "Warning: dt is large.  Estimated pdfs may be imprecise.  Decrease dt to 0.01 or less.\n",
      "Warning: dt is large.  Estimated pdfs may be imprecise.  Decrease dt to 0.01 or less.\n",
      "Warning: dt is large.  Estimated pdfs may be imprecise.  Decrease dt to 0.01 or less.\n",
      "Warning: dt is large.  Estimated pdfs may be imprecise.  Decrease dt to 0.01 or less.\n",
      "Warning: dt is large.  Estimated pdfs may be imprecise.  Decrease dt to 0.01 or less.\n",
      "Warning: dt is large.  Estimated pdfs may be imprecise.  Decrease dt to 0.01 or less.\n",
      "Warning: dt is large.  Estimated pdfs may be imprecise.  Decrease dt to 0.01 or less.\n",
      "Warning: dt is large.  Estimated pdfs may be imprecise.  Decrease dt to 0.01 or less.\n",
      "Warning: dt is large.  Estimated pdfs may be imprecise.  Decrease dt to 0.01 or less.\n",
      "Warning: dt is large.  Estimated pdfs may be imprecise.  Decrease dt to 0.01 or less.\n",
      "Warning: dt is large.  Estimated pdfs may be imprecise.  Decrease dt to 0.01 or less.\n",
      "Warning: dt is large.  Estimated pdfs may be imprecise.  Decrease dt to 0.01 or less.\n",
      "Warning: dt is large.  Estimated pdfs may be imprecise.  Decrease dt to 0.01 or less.\n"
     ]
    },
    {
     "name": "stderr",
     "output_type": "stream",
     "text": [
      "Warning: dt is large.  Estimated pdfs may be imprecise.  Decrease dt to 0.01 or less.\n",
      "Warning: dt is large.  Estimated pdfs may be imprecise.  Decrease dt to 0.01 or less.\n",
      "Warning: dt is large.  Estimated pdfs may be imprecise.  Decrease dt to 0.01 or less.\n",
      "Warning: dt is large.  Estimated pdfs may be imprecise.  Decrease dt to 0.01 or less.\n",
      "Warning: dt is large.  Estimated pdfs may be imprecise.  Decrease dt to 0.01 or less.\n",
      "Warning: dt is large.  Estimated pdfs may be imprecise.  Decrease dt to 0.01 or less.\n",
      "Warning: dt is large.  Estimated pdfs may be imprecise.  Decrease dt to 0.01 or less.\n",
      "Warning: dt is large.  Estimated pdfs may be imprecise.  Decrease dt to 0.01 or less.\n",
      "Warning: dt is large.  Estimated pdfs may be imprecise.  Decrease dt to 0.01 or less.\n",
      "Warning: dt is large.  Estimated pdfs may be imprecise.  Decrease dt to 0.01 or less.\n",
      "Warning: dt is large.  Estimated pdfs may be imprecise.  Decrease dt to 0.01 or less.\n",
      "Warning: dt is large.  Estimated pdfs may be imprecise.  Decrease dt to 0.01 or less.\n",
      "Warning: dt is large.  Estimated pdfs may be imprecise.  Decrease dt to 0.01 or less.\n",
      "Warning: dt is large.  Estimated pdfs may be imprecise.  Decrease dt to 0.01 or less.\n",
      "Warning: dt is large.  Estimated pdfs may be imprecise.  Decrease dt to 0.01 or less.\n",
      "Warning: dt is large.  Estimated pdfs may be imprecise.  Decrease dt to 0.01 or less.\n",
      "Warning: dt is large.  Estimated pdfs may be imprecise.  Decrease dt to 0.01 or less.\n",
      "Warning: dt is large.  Estimated pdfs may be imprecise.  Decrease dt to 0.01 or less.\n",
      "Warning: dt is large.  Estimated pdfs may be imprecise.  Decrease dt to 0.01 or less.\n",
      "Warning: dt is large.  Estimated pdfs may be imprecise.  Decrease dt to 0.01 or less.\n",
      "Warning: dt is large.  Estimated pdfs may be imprecise.  Decrease dt to 0.01 or less.\n",
      "Warning: dt is large.  Estimated pdfs may be imprecise.  Decrease dt to 0.01 or less.\n",
      "Warning: dt is large.  Estimated pdfs may be imprecise.  Decrease dt to 0.01 or less.\n",
      "Warning: dt is large.  Estimated pdfs may be imprecise.  Decrease dt to 0.01 or less.\n",
      "Warning: dt is large.  Estimated pdfs may be imprecise.  Decrease dt to 0.01 or less.\n",
      "Warning: dt is large.  Estimated pdfs may be imprecise.  Decrease dt to 0.01 or less.\n",
      "Warning: dt is large.  Estimated pdfs may be imprecise.  Decrease dt to 0.01 or less.\n",
      "Warning: dt is large.  Estimated pdfs may be imprecise.  Decrease dt to 0.01 or less.\n",
      "Warning: dt is large.  Estimated pdfs may be imprecise.  Decrease dt to 0.01 or less.\n",
      "Warning: dt is large.  Estimated pdfs may be imprecise.  Decrease dt to 0.01 or less.\n",
      "Warning: dt is large.  Estimated pdfs may be imprecise.  Decrease dt to 0.01 or less.\n",
      "Warning: dt is large.  Estimated pdfs may be imprecise.  Decrease dt to 0.01 or less.\n",
      "Warning: dt is large.  Estimated pdfs may be imprecise.  Decrease dt to 0.01 or less.\n",
      "Warning: dt is large.  Estimated pdfs may be imprecise.  Decrease dt to 0.01 or less.\n",
      "Warning: dt is large.  Estimated pdfs may be imprecise.  Decrease dt to 0.01 or less.\n",
      "Warning: dt is large.  Estimated pdfs may be imprecise.  Decrease dt to 0.01 or less.\n",
      "Warning: dt is large.  Estimated pdfs may be imprecise.  Decrease dt to 0.01 or less.\n",
      "Warning: dt is large.  Estimated pdfs may be imprecise.  Decrease dt to 0.01 or less.\n",
      "Warning: dt is large.  Estimated pdfs may be imprecise.  Decrease dt to 0.01 or less.\n",
      "Warning: dt is large.  Estimated pdfs may be imprecise.  Decrease dt to 0.01 or less.\n",
      "Warning: dt is large.  Estimated pdfs may be imprecise.  Decrease dt to 0.01 or less.\n",
      "Warning: dt is large.  Estimated pdfs may be imprecise.  Decrease dt to 0.01 or less.\n",
      "Warning: dt is large.  Estimated pdfs may be imprecise.  Decrease dt to 0.01 or less.\n",
      "Warning: dt is large.  Estimated pdfs may be imprecise.  Decrease dt to 0.01 or less.\n",
      "Warning: dt is large.  Estimated pdfs may be imprecise.  Decrease dt to 0.01 or less.\n",
      "Warning: dt is large.  Estimated pdfs may be imprecise.  Decrease dt to 0.01 or less.\n",
      "Warning: dt is large.  Estimated pdfs may be imprecise.  Decrease dt to 0.01 or less.\n",
      "Warning: dt is large.  Estimated pdfs may be imprecise.  Decrease dt to 0.01 or less.\n",
      "Warning: dt is large.  Estimated pdfs may be imprecise.  Decrease dt to 0.01 or less.\n",
      "Warning: dt is large.  Estimated pdfs may be imprecise.  Decrease dt to 0.01 or less.\n",
      "Warning: dt is large.  Estimated pdfs may be imprecise.  Decrease dt to 0.01 or less.\n",
      "Warning: dt is large.  Estimated pdfs may be imprecise.  Decrease dt to 0.01 or less.\n",
      "Warning: dt is large.  Estimated pdfs may be imprecise.  Decrease dt to 0.01 or less.\n",
      "Warning: dt is large.  Estimated pdfs may be imprecise.  Decrease dt to 0.01 or less.\n",
      "Warning: dt is large.  Estimated pdfs may be imprecise.  Decrease dt to 0.01 or less.\n",
      "Warning: dt is large.  Estimated pdfs may be imprecise.  Decrease dt to 0.01 or less.\n",
      "Warning: dt is large.  Estimated pdfs may be imprecise.  Decrease dt to 0.01 or less.\n",
      "Warning: dt is large.  Estimated pdfs may be imprecise.  Decrease dt to 0.01 or less.\n",
      "Warning: dt is large.  Estimated pdfs may be imprecise.  Decrease dt to 0.01 or less.\n",
      "Warning: dt is large.  Estimated pdfs may be imprecise.  Decrease dt to 0.01 or less.\n",
      "Warning: dt is large.  Estimated pdfs may be imprecise.  Decrease dt to 0.01 or less.\n",
      "Warning: dt is large.  Estimated pdfs may be imprecise.  Decrease dt to 0.01 or less.\n",
      "Warning: dt is large.  Estimated pdfs may be imprecise.  Decrease dt to 0.01 or less.\n",
      "Warning: dt is large.  Estimated pdfs may be imprecise.  Decrease dt to 0.01 or less.\n",
      "Warning: dt is large.  Estimated pdfs may be imprecise.  Decrease dt to 0.01 or less.\n",
      "Warning: dt is large.  Estimated pdfs may be imprecise.  Decrease dt to 0.01 or less.\n",
      "Warning: dt is large.  Estimated pdfs may be imprecise.  Decrease dt to 0.01 or less.\n",
      "Warning: dt is large.  Estimated pdfs may be imprecise.  Decrease dt to 0.01 or less.\n",
      "Warning: dt is large.  Estimated pdfs may be imprecise.  Decrease dt to 0.01 or less.\n",
      "Warning: dt is large.  Estimated pdfs may be imprecise.  Decrease dt to 0.01 or less.\n",
      "Warning: dt is large.  Estimated pdfs may be imprecise.  Decrease dt to 0.01 or less.\n",
      "Warning: dt is large.  Estimated pdfs may be imprecise.  Decrease dt to 0.01 or less.\n",
      "Warning: dt is large.  Estimated pdfs may be imprecise.  Decrease dt to 0.01 or less.\n",
      "Warning: dt is large.  Estimated pdfs may be imprecise.  Decrease dt to 0.01 or less.\n",
      "Warning: dt is large.  Estimated pdfs may be imprecise.  Decrease dt to 0.01 or less.\n",
      "Warning: dt is large.  Estimated pdfs may be imprecise.  Decrease dt to 0.01 or less.\n",
      "Warning: dt is large.  Estimated pdfs may be imprecise.  Decrease dt to 0.01 or less.\n",
      "Warning: dt is large.  Estimated pdfs may be imprecise.  Decrease dt to 0.01 or less.\n",
      "Warning: dt is large.  Estimated pdfs may be imprecise.  Decrease dt to 0.01 or less.\n",
      "Warning: dt is large.  Estimated pdfs may be imprecise.  Decrease dt to 0.01 or less.\n",
      "Warning: dt is large.  Estimated pdfs may be imprecise.  Decrease dt to 0.01 or less.\n",
      "Warning: dt is large.  Estimated pdfs may be imprecise.  Decrease dt to 0.01 or less.\n",
      "Warning: dt is large.  Estimated pdfs may be imprecise.  Decrease dt to 0.01 or less.\n",
      "Warning: dt is large.  Estimated pdfs may be imprecise.  Decrease dt to 0.01 or less.\n",
      "Warning: dt is large.  Estimated pdfs may be imprecise.  Decrease dt to 0.01 or less.\n",
      "Warning: dt is large.  Estimated pdfs may be imprecise.  Decrease dt to 0.01 or less.\n",
      "Warning: dt is large.  Estimated pdfs may be imprecise.  Decrease dt to 0.01 or less.\n",
      "Warning: dt is large.  Estimated pdfs may be imprecise.  Decrease dt to 0.01 or less.\n",
      "Warning: dt is large.  Estimated pdfs may be imprecise.  Decrease dt to 0.01 or less.\n",
      "Warning: dt is large.  Estimated pdfs may be imprecise.  Decrease dt to 0.01 or less.\n",
      "Warning: dt is large.  Estimated pdfs may be imprecise.  Decrease dt to 0.01 or less.\n",
      "Warning: dt is large.  Estimated pdfs may be imprecise.  Decrease dt to 0.01 or less.\n",
      "Warning: dt is large.  Estimated pdfs may be imprecise.  Decrease dt to 0.01 or less.\n",
      "Warning: dt is large.  Estimated pdfs may be imprecise.  Decrease dt to 0.01 or less.\n",
      "Warning: dt is large.  Estimated pdfs may be imprecise.  Decrease dt to 0.01 or less.\n",
      "Warning: dt is large.  Estimated pdfs may be imprecise.  Decrease dt to 0.01 or less.\n"
     ]
    },
    {
     "name": "stderr",
     "output_type": "stream",
     "text": [
      "Warning: dt is large.  Estimated pdfs may be imprecise.  Decrease dt to 0.01 or less.\n",
      "Warning: dt is large.  Estimated pdfs may be imprecise.  Decrease dt to 0.01 or less.\n",
      "Warning: dt is large.  Estimated pdfs may be imprecise.  Decrease dt to 0.01 or less.\n",
      "Warning: dt is large.  Estimated pdfs may be imprecise.  Decrease dt to 0.01 or less.\n",
      "Warning: dt is large.  Estimated pdfs may be imprecise.  Decrease dt to 0.01 or less.\n",
      "Warning: dt is large.  Estimated pdfs may be imprecise.  Decrease dt to 0.01 or less.\n",
      "Warning: dt is large.  Estimated pdfs may be imprecise.  Decrease dt to 0.01 or less.\n",
      "Warning: dt is large.  Estimated pdfs may be imprecise.  Decrease dt to 0.01 or less.\n",
      "Warning: dt is large.  Estimated pdfs may be imprecise.  Decrease dt to 0.01 or less.\n",
      "Warning: dt is large.  Estimated pdfs may be imprecise.  Decrease dt to 0.01 or less.\n",
      "Warning: dt is large.  Estimated pdfs may be imprecise.  Decrease dt to 0.01 or less.\n",
      "Warning: dt is large.  Estimated pdfs may be imprecise.  Decrease dt to 0.01 or less.\n",
      "Warning: dt is large.  Estimated pdfs may be imprecise.  Decrease dt to 0.01 or less.\n",
      "Warning: dt is large.  Estimated pdfs may be imprecise.  Decrease dt to 0.01 or less.\n",
      "Warning: dt is large.  Estimated pdfs may be imprecise.  Decrease dt to 0.01 or less.\n",
      "Warning: dt is large.  Estimated pdfs may be imprecise.  Decrease dt to 0.01 or less.\n",
      "Warning: dt is large.  Estimated pdfs may be imprecise.  Decrease dt to 0.01 or less.\n",
      "Warning: dt is large.  Estimated pdfs may be imprecise.  Decrease dt to 0.01 or less.\n",
      "Warning: dt is large.  Estimated pdfs may be imprecise.  Decrease dt to 0.01 or less.\n",
      "Warning: dt is large.  Estimated pdfs may be imprecise.  Decrease dt to 0.01 or less.\n",
      "Warning: dt is large.  Estimated pdfs may be imprecise.  Decrease dt to 0.01 or less.\n",
      "Warning: dt is large.  Estimated pdfs may be imprecise.  Decrease dt to 0.01 or less.\n",
      "Warning: dt is large.  Estimated pdfs may be imprecise.  Decrease dt to 0.01 or less.\n",
      "Warning: dt is large.  Estimated pdfs may be imprecise.  Decrease dt to 0.01 or less.\n",
      "Warning: dt is large.  Estimated pdfs may be imprecise.  Decrease dt to 0.01 or less.\n",
      "Warning: dt is large.  Estimated pdfs may be imprecise.  Decrease dt to 0.01 or less.\n",
      "Warning: dt is large.  Estimated pdfs may be imprecise.  Decrease dt to 0.01 or less.\n",
      "Warning: dt is large.  Estimated pdfs may be imprecise.  Decrease dt to 0.01 or less.\n",
      "Warning: dt is large.  Estimated pdfs may be imprecise.  Decrease dt to 0.01 or less.\n",
      "Warning: dt is large.  Estimated pdfs may be imprecise.  Decrease dt to 0.01 or less.\n",
      "Warning: dt is large.  Estimated pdfs may be imprecise.  Decrease dt to 0.01 or less.\n",
      "Warning: dt is large.  Estimated pdfs may be imprecise.  Decrease dt to 0.01 or less.\n",
      "Warning: dt is large.  Estimated pdfs may be imprecise.  Decrease dt to 0.01 or less.\n",
      "Warning: dt is large.  Estimated pdfs may be imprecise.  Decrease dt to 0.01 or less.\n",
      "Warning: dt is large.  Estimated pdfs may be imprecise.  Decrease dt to 0.01 or less.\n",
      "Warning: dt is large.  Estimated pdfs may be imprecise.  Decrease dt to 0.01 or less.\n",
      "Warning: dt is large.  Estimated pdfs may be imprecise.  Decrease dt to 0.01 or less.\n",
      "Warning: dt is large.  Estimated pdfs may be imprecise.  Decrease dt to 0.01 or less.\n",
      "Warning: dt is large.  Estimated pdfs may be imprecise.  Decrease dt to 0.01 or less.\n",
      "Warning: dt is large.  Estimated pdfs may be imprecise.  Decrease dt to 0.01 or less.\n",
      "Warning: dt is large.  Estimated pdfs may be imprecise.  Decrease dt to 0.01 or less.\n",
      "Warning: dt is large.  Estimated pdfs may be imprecise.  Decrease dt to 0.01 or less.\n",
      "Warning: dt is large.  Estimated pdfs may be imprecise.  Decrease dt to 0.01 or less.\n",
      "Warning: dt is large.  Estimated pdfs may be imprecise.  Decrease dt to 0.01 or less.\n",
      "Warning: dt is large.  Estimated pdfs may be imprecise.  Decrease dt to 0.01 or less.\n",
      "Warning: dt is large.  Estimated pdfs may be imprecise.  Decrease dt to 0.01 or less.\n",
      "Warning: dt is large.  Estimated pdfs may be imprecise.  Decrease dt to 0.01 or less.\n",
      "Warning: dt is large.  Estimated pdfs may be imprecise.  Decrease dt to 0.01 or less.\n",
      "Warning: dt is large.  Estimated pdfs may be imprecise.  Decrease dt to 0.01 or less.\n",
      "Warning: dt is large.  Estimated pdfs may be imprecise.  Decrease dt to 0.01 or less.\n",
      "Warning: dt is large.  Estimated pdfs may be imprecise.  Decrease dt to 0.01 or less.\n",
      "Warning: dt is large.  Estimated pdfs may be imprecise.  Decrease dt to 0.01 or less.\n",
      "Warning: dt is large.  Estimated pdfs may be imprecise.  Decrease dt to 0.01 or less.\n",
      "Warning: dt is large.  Estimated pdfs may be imprecise.  Decrease dt to 0.01 or less.\n",
      "Warning: dt is large.  Estimated pdfs may be imprecise.  Decrease dt to 0.01 or less.\n",
      "Warning: dt is large.  Estimated pdfs may be imprecise.  Decrease dt to 0.01 or less.\n",
      "Warning: dt is large.  Estimated pdfs may be imprecise.  Decrease dt to 0.01 or less.\n",
      "Warning: dt is large.  Estimated pdfs may be imprecise.  Decrease dt to 0.01 or less.\n",
      "Warning: dt is large.  Estimated pdfs may be imprecise.  Decrease dt to 0.01 or less.\n",
      "Warning: dt is large.  Estimated pdfs may be imprecise.  Decrease dt to 0.01 or less.\n",
      "Warning: dt is large.  Estimated pdfs may be imprecise.  Decrease dt to 0.01 or less.\n",
      "Warning: dt is large.  Estimated pdfs may be imprecise.  Decrease dt to 0.01 or less.\n",
      "Warning: dt is large.  Estimated pdfs may be imprecise.  Decrease dt to 0.01 or less.\n",
      "Warning: dt is large.  Estimated pdfs may be imprecise.  Decrease dt to 0.01 or less.\n",
      "Warning: dt is large.  Estimated pdfs may be imprecise.  Decrease dt to 0.01 or less.\n",
      "Warning: dt is large.  Estimated pdfs may be imprecise.  Decrease dt to 0.01 or less.\n",
      "Warning: dt is large.  Estimated pdfs may be imprecise.  Decrease dt to 0.01 or less.\n",
      "Warning: dt is large.  Estimated pdfs may be imprecise.  Decrease dt to 0.01 or less.\n",
      "Warning: dt is large.  Estimated pdfs may be imprecise.  Decrease dt to 0.01 or less.\n",
      "Warning: dt is large.  Estimated pdfs may be imprecise.  Decrease dt to 0.01 or less.\n",
      "Warning: dt is large.  Estimated pdfs may be imprecise.  Decrease dt to 0.01 or less.\n",
      "Warning: dt is large.  Estimated pdfs may be imprecise.  Decrease dt to 0.01 or less.\n",
      "Warning: dt is large.  Estimated pdfs may be imprecise.  Decrease dt to 0.01 or less.\n",
      "Warning: dt is large.  Estimated pdfs may be imprecise.  Decrease dt to 0.01 or less.\n",
      "Warning: dt is large.  Estimated pdfs may be imprecise.  Decrease dt to 0.01 or less.\n",
      "Warning: dt is large.  Estimated pdfs may be imprecise.  Decrease dt to 0.01 or less.\n",
      "Warning: dt is large.  Estimated pdfs may be imprecise.  Decrease dt to 0.01 or less.\n",
      "Warning: dt is large.  Estimated pdfs may be imprecise.  Decrease dt to 0.01 or less.\n",
      "Warning: dt is large.  Estimated pdfs may be imprecise.  Decrease dt to 0.01 or less.\n",
      "Warning: dt is large.  Estimated pdfs may be imprecise.  Decrease dt to 0.01 or less.\n",
      "Warning: dt is large.  Estimated pdfs may be imprecise.  Decrease dt to 0.01 or less.\n",
      "Warning: dt is large.  Estimated pdfs may be imprecise.  Decrease dt to 0.01 or less.\n",
      "Warning: dt is large.  Estimated pdfs may be imprecise.  Decrease dt to 0.01 or less.\n",
      "Warning: dt is large.  Estimated pdfs may be imprecise.  Decrease dt to 0.01 or less.\n",
      "Warning: dt is large.  Estimated pdfs may be imprecise.  Decrease dt to 0.01 or less.\n",
      "Warning: dt is large.  Estimated pdfs may be imprecise.  Decrease dt to 0.01 or less.\n",
      "Warning: dt is large.  Estimated pdfs may be imprecise.  Decrease dt to 0.01 or less.\n",
      "Warning: dt is large.  Estimated pdfs may be imprecise.  Decrease dt to 0.01 or less.\n",
      "Warning: dt is large.  Estimated pdfs may be imprecise.  Decrease dt to 0.01 or less.\n",
      "Warning: dt is large.  Estimated pdfs may be imprecise.  Decrease dt to 0.01 or less.\n",
      "Warning: dt is large.  Estimated pdfs may be imprecise.  Decrease dt to 0.01 or less.\n",
      "Warning: dt is large.  Estimated pdfs may be imprecise.  Decrease dt to 0.01 or less.\n",
      "Warning: dt is large.  Estimated pdfs may be imprecise.  Decrease dt to 0.01 or less.\n",
      "Warning: dt is large.  Estimated pdfs may be imprecise.  Decrease dt to 0.01 or less.\n",
      "Warning: dt is large.  Estimated pdfs may be imprecise.  Decrease dt to 0.01 or less.\n",
      "Warning: dt is large.  Estimated pdfs may be imprecise.  Decrease dt to 0.01 or less.\n"
     ]
    },
    {
     "name": "stderr",
     "output_type": "stream",
     "text": [
      "Warning: dt is large.  Estimated pdfs may be imprecise.  Decrease dt to 0.01 or less.\n",
      "Warning: dt is large.  Estimated pdfs may be imprecise.  Decrease dt to 0.01 or less.\n",
      "Warning: dt is large.  Estimated pdfs may be imprecise.  Decrease dt to 0.01 or less.\n",
      "Warning: dt is large.  Estimated pdfs may be imprecise.  Decrease dt to 0.01 or less.\n",
      "Warning: dt is large.  Estimated pdfs may be imprecise.  Decrease dt to 0.01 or less.\n",
      "Warning: dt is large.  Estimated pdfs may be imprecise.  Decrease dt to 0.01 or less.\n",
      "Warning: dt is large.  Estimated pdfs may be imprecise.  Decrease dt to 0.01 or less.\n",
      "Warning: dt is large.  Estimated pdfs may be imprecise.  Decrease dt to 0.01 or less.\n",
      "Warning: dt is large.  Estimated pdfs may be imprecise.  Decrease dt to 0.01 or less.\n",
      "Warning: dt is large.  Estimated pdfs may be imprecise.  Decrease dt to 0.01 or less.\n",
      "Warning: dt is large.  Estimated pdfs may be imprecise.  Decrease dt to 0.01 or less.\n",
      "Warning: dt is large.  Estimated pdfs may be imprecise.  Decrease dt to 0.01 or less.\n",
      "Warning: dt is large.  Estimated pdfs may be imprecise.  Decrease dt to 0.01 or less.\n",
      "Warning: dt is large.  Estimated pdfs may be imprecise.  Decrease dt to 0.01 or less.\n",
      "Warning: dt is large.  Estimated pdfs may be imprecise.  Decrease dt to 0.01 or less.\n",
      "Warning: dt is large.  Estimated pdfs may be imprecise.  Decrease dt to 0.01 or less.\n",
      "Warning: dt is large.  Estimated pdfs may be imprecise.  Decrease dt to 0.01 or less.\n",
      "Warning: dt is large.  Estimated pdfs may be imprecise.  Decrease dt to 0.01 or less.\n",
      "Warning: dt is large.  Estimated pdfs may be imprecise.  Decrease dt to 0.01 or less.\n",
      "Warning: dt is large.  Estimated pdfs may be imprecise.  Decrease dt to 0.01 or less.\n",
      "Warning: dt is large.  Estimated pdfs may be imprecise.  Decrease dt to 0.01 or less.\n",
      "Warning: dt is large.  Estimated pdfs may be imprecise.  Decrease dt to 0.01 or less.\n",
      "Warning: dt is large.  Estimated pdfs may be imprecise.  Decrease dt to 0.01 or less.\n",
      "Warning: dt is large.  Estimated pdfs may be imprecise.  Decrease dt to 0.01 or less.\n",
      "Warning: dt is large.  Estimated pdfs may be imprecise.  Decrease dt to 0.01 or less.\n",
      "Warning: dt is large.  Estimated pdfs may be imprecise.  Decrease dt to 0.01 or less.\n",
      "Warning: dt is large.  Estimated pdfs may be imprecise.  Decrease dt to 0.01 or less.\n",
      "Warning: dt is large.  Estimated pdfs may be imprecise.  Decrease dt to 0.01 or less.\n",
      "Warning: dt is large.  Estimated pdfs may be imprecise.  Decrease dt to 0.01 or less.\n",
      "Warning: dt is large.  Estimated pdfs may be imprecise.  Decrease dt to 0.01 or less.\n",
      "Warning: dt is large.  Estimated pdfs may be imprecise.  Decrease dt to 0.01 or less.\n",
      "Warning: dt is large.  Estimated pdfs may be imprecise.  Decrease dt to 0.01 or less.\n",
      "Warning: dt is large.  Estimated pdfs may be imprecise.  Decrease dt to 0.01 or less.\n",
      "Warning: dt is large.  Estimated pdfs may be imprecise.  Decrease dt to 0.01 or less.\n",
      "Warning: dt is large.  Estimated pdfs may be imprecise.  Decrease dt to 0.01 or less.\n",
      "Warning: dt is large.  Estimated pdfs may be imprecise.  Decrease dt to 0.01 or less.\n",
      "Warning: dt is large.  Estimated pdfs may be imprecise.  Decrease dt to 0.01 or less.\n",
      "Warning: dt is large.  Estimated pdfs may be imprecise.  Decrease dt to 0.01 or less.\n",
      "Warning: dt is large.  Estimated pdfs may be imprecise.  Decrease dt to 0.01 or less.\n",
      "Warning: dt is large.  Estimated pdfs may be imprecise.  Decrease dt to 0.01 or less.\n",
      "Warning: dt is large.  Estimated pdfs may be imprecise.  Decrease dt to 0.01 or less.\n",
      "Warning: dt is large.  Estimated pdfs may be imprecise.  Decrease dt to 0.01 or less.\n",
      "Warning: dt is large.  Estimated pdfs may be imprecise.  Decrease dt to 0.01 or less.\n",
      "Warning: dt is large.  Estimated pdfs may be imprecise.  Decrease dt to 0.01 or less.\n",
      "Warning: dt is large.  Estimated pdfs may be imprecise.  Decrease dt to 0.01 or less.\n",
      "Warning: dt is large.  Estimated pdfs may be imprecise.  Decrease dt to 0.01 or less.\n",
      "Warning: dt is large.  Estimated pdfs may be imprecise.  Decrease dt to 0.01 or less.\n",
      "Warning: dt is large.  Estimated pdfs may be imprecise.  Decrease dt to 0.01 or less.\n",
      "Warning: dt is large.  Estimated pdfs may be imprecise.  Decrease dt to 0.01 or less.\n",
      "Warning: dt is large.  Estimated pdfs may be imprecise.  Decrease dt to 0.01 or less.\n",
      "Warning: dt is large.  Estimated pdfs may be imprecise.  Decrease dt to 0.01 or less.\n",
      "Warning: dt is large.  Estimated pdfs may be imprecise.  Decrease dt to 0.01 or less.\n",
      "Warning: dt is large.  Estimated pdfs may be imprecise.  Decrease dt to 0.01 or less.\n",
      "Warning: dt is large.  Estimated pdfs may be imprecise.  Decrease dt to 0.01 or less.\n",
      "Warning: dt is large.  Estimated pdfs may be imprecise.  Decrease dt to 0.01 or less.\n",
      "Warning: dt is large.  Estimated pdfs may be imprecise.  Decrease dt to 0.01 or less.\n",
      "Warning: dt is large.  Estimated pdfs may be imprecise.  Decrease dt to 0.01 or less.\n",
      "Warning: dt is large.  Estimated pdfs may be imprecise.  Decrease dt to 0.01 or less.\n",
      "Warning: dt is large.  Estimated pdfs may be imprecise.  Decrease dt to 0.01 or less.\n",
      "Warning: dt is large.  Estimated pdfs may be imprecise.  Decrease dt to 0.01 or less.\n",
      "Warning: dt is large.  Estimated pdfs may be imprecise.  Decrease dt to 0.01 or less.\n",
      "Warning: dt is large.  Estimated pdfs may be imprecise.  Decrease dt to 0.01 or less.\n",
      "Warning: dt is large.  Estimated pdfs may be imprecise.  Decrease dt to 0.01 or less.\n",
      "Warning: dt is large.  Estimated pdfs may be imprecise.  Decrease dt to 0.01 or less.\n",
      "Warning: dt is large.  Estimated pdfs may be imprecise.  Decrease dt to 0.01 or less.\n",
      "Warning: dt is large.  Estimated pdfs may be imprecise.  Decrease dt to 0.01 or less.\n",
      "Warning: dt is large.  Estimated pdfs may be imprecise.  Decrease dt to 0.01 or less.\n",
      "Warning: dt is large.  Estimated pdfs may be imprecise.  Decrease dt to 0.01 or less.\n",
      "Warning: dt is large.  Estimated pdfs may be imprecise.  Decrease dt to 0.01 or less.\n",
      "Warning: dt is large.  Estimated pdfs may be imprecise.  Decrease dt to 0.01 or less.\n",
      "Warning: dt is large.  Estimated pdfs may be imprecise.  Decrease dt to 0.01 or less.\n",
      "Warning: dt is large.  Estimated pdfs may be imprecise.  Decrease dt to 0.01 or less.\n",
      "Warning: dt is large.  Estimated pdfs may be imprecise.  Decrease dt to 0.01 or less.\n",
      "Warning: dt is large.  Estimated pdfs may be imprecise.  Decrease dt to 0.01 or less.\n",
      "Warning: dt is large.  Estimated pdfs may be imprecise.  Decrease dt to 0.01 or less.\n",
      "Warning: dt is large.  Estimated pdfs may be imprecise.  Decrease dt to 0.01 or less.\n",
      "Warning: dt is large.  Estimated pdfs may be imprecise.  Decrease dt to 0.01 or less.\n",
      "Warning: dt is large.  Estimated pdfs may be imprecise.  Decrease dt to 0.01 or less.\n",
      "Warning: dt is large.  Estimated pdfs may be imprecise.  Decrease dt to 0.01 or less.\n",
      "Warning: dt is large.  Estimated pdfs may be imprecise.  Decrease dt to 0.01 or less.\n",
      "Warning: dt is large.  Estimated pdfs may be imprecise.  Decrease dt to 0.01 or less.\n",
      "Warning: dt is large.  Estimated pdfs may be imprecise.  Decrease dt to 0.01 or less.\n",
      "Warning: dt is large.  Estimated pdfs may be imprecise.  Decrease dt to 0.01 or less.\n",
      "Warning: dt is large.  Estimated pdfs may be imprecise.  Decrease dt to 0.01 or less.\n",
      "Warning: dt is large.  Estimated pdfs may be imprecise.  Decrease dt to 0.01 or less.\n",
      "Warning: dt is large.  Estimated pdfs may be imprecise.  Decrease dt to 0.01 or less.\n",
      "Warning: dt is large.  Estimated pdfs may be imprecise.  Decrease dt to 0.01 or less.\n",
      "Warning: dt is large.  Estimated pdfs may be imprecise.  Decrease dt to 0.01 or less.\n",
      "Warning: dt is large.  Estimated pdfs may be imprecise.  Decrease dt to 0.01 or less.\n",
      "Warning: dt is large.  Estimated pdfs may be imprecise.  Decrease dt to 0.01 or less.\n",
      "Warning: dt is large.  Estimated pdfs may be imprecise.  Decrease dt to 0.01 or less.\n",
      "Warning: dt is large.  Estimated pdfs may be imprecise.  Decrease dt to 0.01 or less.\n",
      "Warning: dt is large.  Estimated pdfs may be imprecise.  Decrease dt to 0.01 or less.\n",
      "Warning: dt is large.  Estimated pdfs may be imprecise.  Decrease dt to 0.01 or less.\n",
      "Warning: dt is large.  Estimated pdfs may be imprecise.  Decrease dt to 0.01 or less.\n",
      "Warning: dt is large.  Estimated pdfs may be imprecise.  Decrease dt to 0.01 or less.\n"
     ]
    },
    {
     "name": "stderr",
     "output_type": "stream",
     "text": [
      "Warning: dt is large.  Estimated pdfs may be imprecise.  Decrease dt to 0.01 or less.\n",
      "Warning: dt is large.  Estimated pdfs may be imprecise.  Decrease dt to 0.01 or less.\n",
      "Warning: dt is large.  Estimated pdfs may be imprecise.  Decrease dt to 0.01 or less.\n",
      "Warning: dt is large.  Estimated pdfs may be imprecise.  Decrease dt to 0.01 or less.\n",
      "Warning: dt is large.  Estimated pdfs may be imprecise.  Decrease dt to 0.01 or less.\n",
      "Warning: dt is large.  Estimated pdfs may be imprecise.  Decrease dt to 0.01 or less.\n",
      "Warning: dt is large.  Estimated pdfs may be imprecise.  Decrease dt to 0.01 or less.\n",
      "Warning: dt is large.  Estimated pdfs may be imprecise.  Decrease dt to 0.01 or less.\n",
      "Warning: dt is large.  Estimated pdfs may be imprecise.  Decrease dt to 0.01 or less.\n",
      "Warning: dt is large.  Estimated pdfs may be imprecise.  Decrease dt to 0.01 or less.\n",
      "Warning: dt is large.  Estimated pdfs may be imprecise.  Decrease dt to 0.01 or less.\n",
      "Warning: dt is large.  Estimated pdfs may be imprecise.  Decrease dt to 0.01 or less.\n",
      "Warning: dt is large.  Estimated pdfs may be imprecise.  Decrease dt to 0.01 or less.\n",
      "Warning: dt is large.  Estimated pdfs may be imprecise.  Decrease dt to 0.01 or less.\n",
      "Warning: dt is large.  Estimated pdfs may be imprecise.  Decrease dt to 0.01 or less.\n",
      "Warning: dt is large.  Estimated pdfs may be imprecise.  Decrease dt to 0.01 or less.\n",
      "Warning: dt is large.  Estimated pdfs may be imprecise.  Decrease dt to 0.01 or less.\n",
      "Warning: dt is large.  Estimated pdfs may be imprecise.  Decrease dt to 0.01 or less.\n",
      "Warning: dt is large.  Estimated pdfs may be imprecise.  Decrease dt to 0.01 or less.\n",
      "Warning: dt is large.  Estimated pdfs may be imprecise.  Decrease dt to 0.01 or less.\n",
      "Warning: dt is large.  Estimated pdfs may be imprecise.  Decrease dt to 0.01 or less.\n",
      "Warning: dt is large.  Estimated pdfs may be imprecise.  Decrease dt to 0.01 or less.\n",
      "Warning: dt is large.  Estimated pdfs may be imprecise.  Decrease dt to 0.01 or less.\n",
      "Warning: dt is large.  Estimated pdfs may be imprecise.  Decrease dt to 0.01 or less.\n",
      "Warning: dt is large.  Estimated pdfs may be imprecise.  Decrease dt to 0.01 or less.\n",
      "Warning: dt is large.  Estimated pdfs may be imprecise.  Decrease dt to 0.01 or less.\n",
      "Warning: dt is large.  Estimated pdfs may be imprecise.  Decrease dt to 0.01 or less.\n",
      "Warning: dt is large.  Estimated pdfs may be imprecise.  Decrease dt to 0.01 or less.\n",
      "Warning: dt is large.  Estimated pdfs may be imprecise.  Decrease dt to 0.01 or less.\n",
      "Warning: dt is large.  Estimated pdfs may be imprecise.  Decrease dt to 0.01 or less.\n",
      "Warning: dt is large.  Estimated pdfs may be imprecise.  Decrease dt to 0.01 or less.\n",
      "Warning: dt is large.  Estimated pdfs may be imprecise.  Decrease dt to 0.01 or less.\n",
      "Warning: dt is large.  Estimated pdfs may be imprecise.  Decrease dt to 0.01 or less.\n",
      "Warning: dt is large.  Estimated pdfs may be imprecise.  Decrease dt to 0.01 or less.\n",
      "Warning: dt is large.  Estimated pdfs may be imprecise.  Decrease dt to 0.01 or less.\n",
      "Warning: dt is large.  Estimated pdfs may be imprecise.  Decrease dt to 0.01 or less.\n",
      "Warning: dt is large.  Estimated pdfs may be imprecise.  Decrease dt to 0.01 or less.\n",
      "Warning: dt is large.  Estimated pdfs may be imprecise.  Decrease dt to 0.01 or less.\n",
      "Warning: dt is large.  Estimated pdfs may be imprecise.  Decrease dt to 0.01 or less.\n",
      "Warning: dt is large.  Estimated pdfs may be imprecise.  Decrease dt to 0.01 or less.\n",
      "Warning: dt is large.  Estimated pdfs may be imprecise.  Decrease dt to 0.01 or less.\n",
      "Warning: dt is large.  Estimated pdfs may be imprecise.  Decrease dt to 0.01 or less.\n",
      "Warning: dt is large.  Estimated pdfs may be imprecise.  Decrease dt to 0.01 or less.\n",
      "Warning: dt is large.  Estimated pdfs may be imprecise.  Decrease dt to 0.01 or less.\n",
      "Warning: dt is large.  Estimated pdfs may be imprecise.  Decrease dt to 0.01 or less.\n",
      "Warning: dt is large.  Estimated pdfs may be imprecise.  Decrease dt to 0.01 or less.\n",
      "Warning: dt is large.  Estimated pdfs may be imprecise.  Decrease dt to 0.01 or less.\n",
      "Warning: dt is large.  Estimated pdfs may be imprecise.  Decrease dt to 0.01 or less.\n",
      "Warning: dt is large.  Estimated pdfs may be imprecise.  Decrease dt to 0.01 or less.\n",
      "Warning: dt is large.  Estimated pdfs may be imprecise.  Decrease dt to 0.01 or less.\n",
      "Warning: dt is large.  Estimated pdfs may be imprecise.  Decrease dt to 0.01 or less.\n",
      "Warning: dt is large.  Estimated pdfs may be imprecise.  Decrease dt to 0.01 or less.\n",
      "Warning: dt is large.  Estimated pdfs may be imprecise.  Decrease dt to 0.01 or less.\n",
      "Warning: dt is large.  Estimated pdfs may be imprecise.  Decrease dt to 0.01 or less.\n",
      "Warning: dt is large.  Estimated pdfs may be imprecise.  Decrease dt to 0.01 or less.\n",
      "Warning: dt is large.  Estimated pdfs may be imprecise.  Decrease dt to 0.01 or less.\n",
      "Warning: dt is large.  Estimated pdfs may be imprecise.  Decrease dt to 0.01 or less.\n",
      "Warning: dt is large.  Estimated pdfs may be imprecise.  Decrease dt to 0.01 or less.\n",
      "Warning: dt is large.  Estimated pdfs may be imprecise.  Decrease dt to 0.01 or less.\n",
      "Warning: dt is large.  Estimated pdfs may be imprecise.  Decrease dt to 0.01 or less.\n",
      "Warning: dt is large.  Estimated pdfs may be imprecise.  Decrease dt to 0.01 or less.\n",
      "Warning: dt is large.  Estimated pdfs may be imprecise.  Decrease dt to 0.01 or less.\n",
      "Warning: dt is large.  Estimated pdfs may be imprecise.  Decrease dt to 0.01 or less.\n",
      "Warning: dt is large.  Estimated pdfs may be imprecise.  Decrease dt to 0.01 or less.\n",
      "Warning: dt is large.  Estimated pdfs may be imprecise.  Decrease dt to 0.01 or less.\n",
      "Warning: dt is large.  Estimated pdfs may be imprecise.  Decrease dt to 0.01 or less.\n",
      "Warning: dt is large.  Estimated pdfs may be imprecise.  Decrease dt to 0.01 or less.\n",
      "Warning: dt is large.  Estimated pdfs may be imprecise.  Decrease dt to 0.01 or less.\n",
      "Warning: dt is large.  Estimated pdfs may be imprecise.  Decrease dt to 0.01 or less.\n",
      "Warning: dt is large.  Estimated pdfs may be imprecise.  Decrease dt to 0.01 or less.\n",
      "Warning: dt is large.  Estimated pdfs may be imprecise.  Decrease dt to 0.01 or less.\n",
      "Warning: dt is large.  Estimated pdfs may be imprecise.  Decrease dt to 0.01 or less.\n",
      "Warning: dt is large.  Estimated pdfs may be imprecise.  Decrease dt to 0.01 or less.\n",
      "Warning: dt is large.  Estimated pdfs may be imprecise.  Decrease dt to 0.01 or less.\n",
      "Warning: dt is large.  Estimated pdfs may be imprecise.  Decrease dt to 0.01 or less.\n",
      "Warning: dt is large.  Estimated pdfs may be imprecise.  Decrease dt to 0.01 or less.\n",
      "Warning: dt is large.  Estimated pdfs may be imprecise.  Decrease dt to 0.01 or less.\n",
      "Warning: dt is large.  Estimated pdfs may be imprecise.  Decrease dt to 0.01 or less.\n",
      "Warning: dt is large.  Estimated pdfs may be imprecise.  Decrease dt to 0.01 or less.\n",
      "Warning: dt is large.  Estimated pdfs may be imprecise.  Decrease dt to 0.01 or less.\n",
      "Warning: dt is large.  Estimated pdfs may be imprecise.  Decrease dt to 0.01 or less.\n",
      "Warning: dt is large.  Estimated pdfs may be imprecise.  Decrease dt to 0.01 or less.\n",
      "Warning: dt is large.  Estimated pdfs may be imprecise.  Decrease dt to 0.01 or less.\n",
      "Warning: dt is large.  Estimated pdfs may be imprecise.  Decrease dt to 0.01 or less.\n",
      "Warning: dt is large.  Estimated pdfs may be imprecise.  Decrease dt to 0.01 or less.\n",
      "Warning: dt is large.  Estimated pdfs may be imprecise.  Decrease dt to 0.01 or less.\n",
      "Warning: dt is large.  Estimated pdfs may be imprecise.  Decrease dt to 0.01 or less.\n",
      "Warning: dt is large.  Estimated pdfs may be imprecise.  Decrease dt to 0.01 or less.\n",
      "Warning: dt is large.  Estimated pdfs may be imprecise.  Decrease dt to 0.01 or less.\n",
      "Warning: dt is large.  Estimated pdfs may be imprecise.  Decrease dt to 0.01 or less.\n",
      "Warning: dt is large.  Estimated pdfs may be imprecise.  Decrease dt to 0.01 or less.\n",
      "Warning: dt is large.  Estimated pdfs may be imprecise.  Decrease dt to 0.01 or less.\n",
      "Warning: dt is large.  Estimated pdfs may be imprecise.  Decrease dt to 0.01 or less.\n",
      "Warning: dt is large.  Estimated pdfs may be imprecise.  Decrease dt to 0.01 or less.\n",
      "Warning: dt is large.  Estimated pdfs may be imprecise.  Decrease dt to 0.01 or less.\n",
      "Warning: dt is large.  Estimated pdfs may be imprecise.  Decrease dt to 0.01 or less.\n"
     ]
    },
    {
     "name": "stderr",
     "output_type": "stream",
     "text": [
      "Warning: dt is large.  Estimated pdfs may be imprecise.  Decrease dt to 0.01 or less.\n",
      "Warning: dt is large.  Estimated pdfs may be imprecise.  Decrease dt to 0.01 or less.\n",
      "Warning: dt is large.  Estimated pdfs may be imprecise.  Decrease dt to 0.01 or less.\n",
      "Warning: dt is large.  Estimated pdfs may be imprecise.  Decrease dt to 0.01 or less.\n",
      "Warning: dt is large.  Estimated pdfs may be imprecise.  Decrease dt to 0.01 or less.\n",
      "Warning: dt is large.  Estimated pdfs may be imprecise.  Decrease dt to 0.01 or less.\n",
      "Warning: dt is large.  Estimated pdfs may be imprecise.  Decrease dt to 0.01 or less.\n",
      "Warning: dt is large.  Estimated pdfs may be imprecise.  Decrease dt to 0.01 or less.\n",
      "Warning: dt is large.  Estimated pdfs may be imprecise.  Decrease dt to 0.01 or less.\n",
      "Warning: dt is large.  Estimated pdfs may be imprecise.  Decrease dt to 0.01 or less.\n",
      "Warning: dt is large.  Estimated pdfs may be imprecise.  Decrease dt to 0.01 or less.\n",
      "Warning: dt is large.  Estimated pdfs may be imprecise.  Decrease dt to 0.01 or less.\n",
      "Warning: dt is large.  Estimated pdfs may be imprecise.  Decrease dt to 0.01 or less.\n",
      "Warning: dt is large.  Estimated pdfs may be imprecise.  Decrease dt to 0.01 or less.\n",
      "Warning: dt is large.  Estimated pdfs may be imprecise.  Decrease dt to 0.01 or less.\n",
      "Warning: dt is large.  Estimated pdfs may be imprecise.  Decrease dt to 0.01 or less.\n",
      "Warning: dt is large.  Estimated pdfs may be imprecise.  Decrease dt to 0.01 or less.\n",
      "Warning: dt is large.  Estimated pdfs may be imprecise.  Decrease dt to 0.01 or less.\n",
      "Warning: dt is large.  Estimated pdfs may be imprecise.  Decrease dt to 0.01 or less.\n",
      "Warning: dt is large.  Estimated pdfs may be imprecise.  Decrease dt to 0.01 or less.\n",
      "Warning: dt is large.  Estimated pdfs may be imprecise.  Decrease dt to 0.01 or less.\n",
      "Warning: dt is large.  Estimated pdfs may be imprecise.  Decrease dt to 0.01 or less.\n",
      "Warning: dt is large.  Estimated pdfs may be imprecise.  Decrease dt to 0.01 or less.\n",
      "Warning: dt is large.  Estimated pdfs may be imprecise.  Decrease dt to 0.01 or less.\n",
      "Warning: dt is large.  Estimated pdfs may be imprecise.  Decrease dt to 0.01 or less.\n",
      "Warning: dt is large.  Estimated pdfs may be imprecise.  Decrease dt to 0.01 or less.\n",
      "Warning: dt is large.  Estimated pdfs may be imprecise.  Decrease dt to 0.01 or less.\n",
      "Warning: dt is large.  Estimated pdfs may be imprecise.  Decrease dt to 0.01 or less.\n",
      "Warning: dt is large.  Estimated pdfs may be imprecise.  Decrease dt to 0.01 or less.\n",
      "Warning: dt is large.  Estimated pdfs may be imprecise.  Decrease dt to 0.01 or less.\n",
      "Warning: dt is large.  Estimated pdfs may be imprecise.  Decrease dt to 0.01 or less.\n",
      "Warning: dt is large.  Estimated pdfs may be imprecise.  Decrease dt to 0.01 or less.\n",
      "Warning: dt is large.  Estimated pdfs may be imprecise.  Decrease dt to 0.01 or less.\n",
      "Warning: dt is large.  Estimated pdfs may be imprecise.  Decrease dt to 0.01 or less.\n",
      "Warning: dt is large.  Estimated pdfs may be imprecise.  Decrease dt to 0.01 or less.\n",
      "Warning: dt is large.  Estimated pdfs may be imprecise.  Decrease dt to 0.01 or less.\n",
      "Warning: dt is large.  Estimated pdfs may be imprecise.  Decrease dt to 0.01 or less.\n",
      "Warning: dt is large.  Estimated pdfs may be imprecise.  Decrease dt to 0.01 or less.\n",
      "Warning: dt is large.  Estimated pdfs may be imprecise.  Decrease dt to 0.01 or less.\n",
      "Warning: dt is large.  Estimated pdfs may be imprecise.  Decrease dt to 0.01 or less.\n",
      "Warning: dt is large.  Estimated pdfs may be imprecise.  Decrease dt to 0.01 or less.\n",
      "Warning: dt is large.  Estimated pdfs may be imprecise.  Decrease dt to 0.01 or less.\n",
      "Warning: dt is large.  Estimated pdfs may be imprecise.  Decrease dt to 0.01 or less.\n",
      "Warning: dt is large.  Estimated pdfs may be imprecise.  Decrease dt to 0.01 or less.\n",
      "Warning: dt is large.  Estimated pdfs may be imprecise.  Decrease dt to 0.01 or less.\n",
      "Warning: dt is large.  Estimated pdfs may be imprecise.  Decrease dt to 0.01 or less.\n",
      "Warning: dt is large.  Estimated pdfs may be imprecise.  Decrease dt to 0.01 or less.\n",
      "Warning: dt is large.  Estimated pdfs may be imprecise.  Decrease dt to 0.01 or less.\n",
      "Warning: dt is large.  Estimated pdfs may be imprecise.  Decrease dt to 0.01 or less.\n",
      "Warning: dt is large.  Estimated pdfs may be imprecise.  Decrease dt to 0.01 or less.\n",
      "Warning: dt is large.  Estimated pdfs may be imprecise.  Decrease dt to 0.01 or less.\n",
      "Warning: dt is large.  Estimated pdfs may be imprecise.  Decrease dt to 0.01 or less.\n",
      "Warning: dt is large.  Estimated pdfs may be imprecise.  Decrease dt to 0.01 or less.\n",
      "Warning: dt is large.  Estimated pdfs may be imprecise.  Decrease dt to 0.01 or less.\n",
      "Warning: dt is large.  Estimated pdfs may be imprecise.  Decrease dt to 0.01 or less.\n",
      "Warning: dt is large.  Estimated pdfs may be imprecise.  Decrease dt to 0.01 or less.\n",
      "Warning: dt is large.  Estimated pdfs may be imprecise.  Decrease dt to 0.01 or less.\n",
      "Warning: dt is large.  Estimated pdfs may be imprecise.  Decrease dt to 0.01 or less.\n",
      "Warning: dt is large.  Estimated pdfs may be imprecise.  Decrease dt to 0.01 or less.\n",
      "Warning: dt is large.  Estimated pdfs may be imprecise.  Decrease dt to 0.01 or less.\n",
      "Warning: dt is large.  Estimated pdfs may be imprecise.  Decrease dt to 0.01 or less.\n",
      "Warning: dt is large.  Estimated pdfs may be imprecise.  Decrease dt to 0.01 or less.\n",
      "Warning: dt is large.  Estimated pdfs may be imprecise.  Decrease dt to 0.01 or less.\n",
      "Warning: dt is large.  Estimated pdfs may be imprecise.  Decrease dt to 0.01 or less.\n",
      "Warning: dt is large.  Estimated pdfs may be imprecise.  Decrease dt to 0.01 or less.\n",
      "Warning: dt is large.  Estimated pdfs may be imprecise.  Decrease dt to 0.01 or less.\n",
      "Warning: dt is large.  Estimated pdfs may be imprecise.  Decrease dt to 0.01 or less.\n",
      "Warning: dt is large.  Estimated pdfs may be imprecise.  Decrease dt to 0.01 or less.\n",
      "Warning: dt is large.  Estimated pdfs may be imprecise.  Decrease dt to 0.01 or less.\n",
      "Warning: dt is large.  Estimated pdfs may be imprecise.  Decrease dt to 0.01 or less.\n",
      "Warning: dt is large.  Estimated pdfs may be imprecise.  Decrease dt to 0.01 or less.\n",
      "Warning: dt is large.  Estimated pdfs may be imprecise.  Decrease dt to 0.01 or less.\n",
      "Warning: dt is large.  Estimated pdfs may be imprecise.  Decrease dt to 0.01 or less.\n",
      "Warning: dt is large.  Estimated pdfs may be imprecise.  Decrease dt to 0.01 or less.\n",
      "Warning: dt is large.  Estimated pdfs may be imprecise.  Decrease dt to 0.01 or less.\n",
      "Warning: dt is large.  Estimated pdfs may be imprecise.  Decrease dt to 0.01 or less.\n",
      "Warning: dt is large.  Estimated pdfs may be imprecise.  Decrease dt to 0.01 or less.\n",
      "Warning: dt is large.  Estimated pdfs may be imprecise.  Decrease dt to 0.01 or less.\n",
      "Warning: dt is large.  Estimated pdfs may be imprecise.  Decrease dt to 0.01 or less.\n",
      "Warning: dt is large.  Estimated pdfs may be imprecise.  Decrease dt to 0.01 or less.\n",
      "Warning: dt is large.  Estimated pdfs may be imprecise.  Decrease dt to 0.01 or less.\n",
      "Warning: dt is large.  Estimated pdfs may be imprecise.  Decrease dt to 0.01 or less.\n",
      "Warning: dt is large.  Estimated pdfs may be imprecise.  Decrease dt to 0.01 or less.\n",
      "Warning: dt is large.  Estimated pdfs may be imprecise.  Decrease dt to 0.01 or less.\n",
      "Warning: dt is large.  Estimated pdfs may be imprecise.  Decrease dt to 0.01 or less.\n",
      "Warning: dt is large.  Estimated pdfs may be imprecise.  Decrease dt to 0.01 or less.\n",
      "Warning: dt is large.  Estimated pdfs may be imprecise.  Decrease dt to 0.01 or less.\n",
      "Warning: dt is large.  Estimated pdfs may be imprecise.  Decrease dt to 0.01 or less.\n",
      "Warning: dt is large.  Estimated pdfs may be imprecise.  Decrease dt to 0.01 or less.\n",
      "Warning: dt is large.  Estimated pdfs may be imprecise.  Decrease dt to 0.01 or less.\n",
      "Warning: dt is large.  Estimated pdfs may be imprecise.  Decrease dt to 0.01 or less.\n",
      "Warning: dt is large.  Estimated pdfs may be imprecise.  Decrease dt to 0.01 or less.\n",
      "Warning: dt is large.  Estimated pdfs may be imprecise.  Decrease dt to 0.01 or less.\n",
      "Warning: dt is large.  Estimated pdfs may be imprecise.  Decrease dt to 0.01 or less.\n",
      "Warning: dt is large.  Estimated pdfs may be imprecise.  Decrease dt to 0.01 or less.\n",
      "Warning: dt is large.  Estimated pdfs may be imprecise.  Decrease dt to 0.01 or less.\n"
     ]
    },
    {
     "name": "stderr",
     "output_type": "stream",
     "text": [
      "Warning: dt is large.  Estimated pdfs may be imprecise.  Decrease dt to 0.01 or less.\n",
      "Warning: dt is large.  Estimated pdfs may be imprecise.  Decrease dt to 0.01 or less.\n",
      "Warning: dt is large.  Estimated pdfs may be imprecise.  Decrease dt to 0.01 or less.\n",
      "Warning: dt is large.  Estimated pdfs may be imprecise.  Decrease dt to 0.01 or less.\n",
      "Warning: dt is large.  Estimated pdfs may be imprecise.  Decrease dt to 0.01 or less.\n",
      "Warning: dt is large.  Estimated pdfs may be imprecise.  Decrease dt to 0.01 or less.\n",
      "Warning: dt is large.  Estimated pdfs may be imprecise.  Decrease dt to 0.01 or less.\n",
      "Warning: dt is large.  Estimated pdfs may be imprecise.  Decrease dt to 0.01 or less.\n",
      "Warning: dt is large.  Estimated pdfs may be imprecise.  Decrease dt to 0.01 or less.\n",
      "Warning: dt is large.  Estimated pdfs may be imprecise.  Decrease dt to 0.01 or less.\n",
      "Warning: dt is large.  Estimated pdfs may be imprecise.  Decrease dt to 0.01 or less.\n",
      "Warning: dt is large.  Estimated pdfs may be imprecise.  Decrease dt to 0.01 or less.\n",
      "Warning: dt is large.  Estimated pdfs may be imprecise.  Decrease dt to 0.01 or less.\n",
      "Warning: dt is large.  Estimated pdfs may be imprecise.  Decrease dt to 0.01 or less.\n",
      "Warning: dt is large.  Estimated pdfs may be imprecise.  Decrease dt to 0.01 or less.\n",
      "Warning: dt is large.  Estimated pdfs may be imprecise.  Decrease dt to 0.01 or less.\n",
      "Warning: dt is large.  Estimated pdfs may be imprecise.  Decrease dt to 0.01 or less.\n",
      "Warning: dt is large.  Estimated pdfs may be imprecise.  Decrease dt to 0.01 or less.\n",
      "Warning: dt is large.  Estimated pdfs may be imprecise.  Decrease dt to 0.01 or less.\n",
      "Warning: dt is large.  Estimated pdfs may be imprecise.  Decrease dt to 0.01 or less.\n",
      "Warning: dt is large.  Estimated pdfs may be imprecise.  Decrease dt to 0.01 or less.\n",
      "Warning: dt is large.  Estimated pdfs may be imprecise.  Decrease dt to 0.01 or less.\n",
      "Warning: dt is large.  Estimated pdfs may be imprecise.  Decrease dt to 0.01 or less.\n",
      "Warning: dt is large.  Estimated pdfs may be imprecise.  Decrease dt to 0.01 or less.\n",
      "Warning: dt is large.  Estimated pdfs may be imprecise.  Decrease dt to 0.01 or less.\n",
      "Warning: dt is large.  Estimated pdfs may be imprecise.  Decrease dt to 0.01 or less.\n",
      "Warning: dt is large.  Estimated pdfs may be imprecise.  Decrease dt to 0.01 or less.\n",
      "Warning: dt is large.  Estimated pdfs may be imprecise.  Decrease dt to 0.01 or less.\n",
      "Warning: dt is large.  Estimated pdfs may be imprecise.  Decrease dt to 0.01 or less.\n",
      "Warning: dt is large.  Estimated pdfs may be imprecise.  Decrease dt to 0.01 or less.\n",
      "Warning: dt is large.  Estimated pdfs may be imprecise.  Decrease dt to 0.01 or less.\n",
      "Warning: dt is large.  Estimated pdfs may be imprecise.  Decrease dt to 0.01 or less.\n",
      "Warning: dt is large.  Estimated pdfs may be imprecise.  Decrease dt to 0.01 or less.\n",
      "Warning: dt is large.  Estimated pdfs may be imprecise.  Decrease dt to 0.01 or less.\n",
      "Warning: dt is large.  Estimated pdfs may be imprecise.  Decrease dt to 0.01 or less.\n",
      "Warning: dt is large.  Estimated pdfs may be imprecise.  Decrease dt to 0.01 or less.\n",
      "Warning: dt is large.  Estimated pdfs may be imprecise.  Decrease dt to 0.01 or less.\n",
      "Warning: dt is large.  Estimated pdfs may be imprecise.  Decrease dt to 0.01 or less.\n",
      "Warning: dt is large.  Estimated pdfs may be imprecise.  Decrease dt to 0.01 or less.\n",
      "Warning: dt is large.  Estimated pdfs may be imprecise.  Decrease dt to 0.01 or less.\n",
      "Warning: dt is large.  Estimated pdfs may be imprecise.  Decrease dt to 0.01 or less.\n",
      "Warning: dt is large.  Estimated pdfs may be imprecise.  Decrease dt to 0.01 or less.\n",
      "Warning: dt is large.  Estimated pdfs may be imprecise.  Decrease dt to 0.01 or less.\n",
      "Warning: dt is large.  Estimated pdfs may be imprecise.  Decrease dt to 0.01 or less.\n",
      "Warning: dt is large.  Estimated pdfs may be imprecise.  Decrease dt to 0.01 or less.\n",
      "Warning: dt is large.  Estimated pdfs may be imprecise.  Decrease dt to 0.01 or less.\n",
      "Warning: dt is large.  Estimated pdfs may be imprecise.  Decrease dt to 0.01 or less.\n",
      "Warning: dt is large.  Estimated pdfs may be imprecise.  Decrease dt to 0.01 or less.\n",
      "Warning: dt is large.  Estimated pdfs may be imprecise.  Decrease dt to 0.01 or less.\n",
      "Warning: dt is large.  Estimated pdfs may be imprecise.  Decrease dt to 0.01 or less.\n",
      "Warning: dt is large.  Estimated pdfs may be imprecise.  Decrease dt to 0.01 or less.\n",
      "Warning: dt is large.  Estimated pdfs may be imprecise.  Decrease dt to 0.01 or less.\n",
      "Warning: dt is large.  Estimated pdfs may be imprecise.  Decrease dt to 0.01 or less.\n",
      "Warning: dt is large.  Estimated pdfs may be imprecise.  Decrease dt to 0.01 or less.\n",
      "Warning: dt is large.  Estimated pdfs may be imprecise.  Decrease dt to 0.01 or less.\n",
      "Warning: dt is large.  Estimated pdfs may be imprecise.  Decrease dt to 0.01 or less.\n",
      "Warning: dt is large.  Estimated pdfs may be imprecise.  Decrease dt to 0.01 or less.\n",
      "Warning: dt is large.  Estimated pdfs may be imprecise.  Decrease dt to 0.01 or less.\n",
      "Warning: dt is large.  Estimated pdfs may be imprecise.  Decrease dt to 0.01 or less.\n",
      "Warning: dt is large.  Estimated pdfs may be imprecise.  Decrease dt to 0.01 or less.\n",
      "Warning: dt is large.  Estimated pdfs may be imprecise.  Decrease dt to 0.01 or less.\n",
      "Warning: dt is large.  Estimated pdfs may be imprecise.  Decrease dt to 0.01 or less.\n",
      "Warning: dt is large.  Estimated pdfs may be imprecise.  Decrease dt to 0.01 or less.\n",
      "Warning: dt is large.  Estimated pdfs may be imprecise.  Decrease dt to 0.01 or less.\n",
      "Warning: dt is large.  Estimated pdfs may be imprecise.  Decrease dt to 0.01 or less.\n",
      "Warning: dt is large.  Estimated pdfs may be imprecise.  Decrease dt to 0.01 or less.\n",
      "Warning: dt is large.  Estimated pdfs may be imprecise.  Decrease dt to 0.01 or less.\n",
      "Warning: dt is large.  Estimated pdfs may be imprecise.  Decrease dt to 0.01 or less.\n",
      "Warning: dt is large.  Estimated pdfs may be imprecise.  Decrease dt to 0.01 or less.\n",
      "Warning: dt is large.  Estimated pdfs may be imprecise.  Decrease dt to 0.01 or less.\n",
      "Warning: dt is large.  Estimated pdfs may be imprecise.  Decrease dt to 0.01 or less.\n",
      "Warning: dt is large.  Estimated pdfs may be imprecise.  Decrease dt to 0.01 or less.\n",
      "Warning: dt is large.  Estimated pdfs may be imprecise.  Decrease dt to 0.01 or less.\n",
      "Warning: dt is large.  Estimated pdfs may be imprecise.  Decrease dt to 0.01 or less.\n",
      "Warning: dt is large.  Estimated pdfs may be imprecise.  Decrease dt to 0.01 or less.\n",
      "Warning: dt is large.  Estimated pdfs may be imprecise.  Decrease dt to 0.01 or less.\n",
      "Warning: dt is large.  Estimated pdfs may be imprecise.  Decrease dt to 0.01 or less.\n",
      "Warning: dt is large.  Estimated pdfs may be imprecise.  Decrease dt to 0.01 or less.\n",
      "Warning: dt is large.  Estimated pdfs may be imprecise.  Decrease dt to 0.01 or less.\n",
      "Warning: dt is large.  Estimated pdfs may be imprecise.  Decrease dt to 0.01 or less.\n",
      "Warning: dt is large.  Estimated pdfs may be imprecise.  Decrease dt to 0.01 or less.\n",
      "Warning: dt is large.  Estimated pdfs may be imprecise.  Decrease dt to 0.01 or less.\n",
      "Warning: dt is large.  Estimated pdfs may be imprecise.  Decrease dt to 0.01 or less.\n",
      "Warning: dt is large.  Estimated pdfs may be imprecise.  Decrease dt to 0.01 or less.\n",
      "Warning: dt is large.  Estimated pdfs may be imprecise.  Decrease dt to 0.01 or less.\n",
      "Warning: dt is large.  Estimated pdfs may be imprecise.  Decrease dt to 0.01 or less.\n",
      "Warning: dt is large.  Estimated pdfs may be imprecise.  Decrease dt to 0.01 or less.\n",
      "Warning: dt is large.  Estimated pdfs may be imprecise.  Decrease dt to 0.01 or less.\n",
      "Warning: dt is large.  Estimated pdfs may be imprecise.  Decrease dt to 0.01 or less.\n",
      "Warning: dt is large.  Estimated pdfs may be imprecise.  Decrease dt to 0.01 or less.\n",
      "Warning: dt is large.  Estimated pdfs may be imprecise.  Decrease dt to 0.01 or less.\n",
      "Warning: dt is large.  Estimated pdfs may be imprecise.  Decrease dt to 0.01 or less.\n",
      "Warning: dt is large.  Estimated pdfs may be imprecise.  Decrease dt to 0.01 or less.\n",
      "Warning: dt is large.  Estimated pdfs may be imprecise.  Decrease dt to 0.01 or less.\n",
      "Warning: dt is large.  Estimated pdfs may be imprecise.  Decrease dt to 0.01 or less.\n",
      "Warning: dt is large.  Estimated pdfs may be imprecise.  Decrease dt to 0.01 or less.\n"
     ]
    },
    {
     "name": "stderr",
     "output_type": "stream",
     "text": [
      "Warning: dt is large.  Estimated pdfs may be imprecise.  Decrease dt to 0.01 or less.\n",
      "Warning: dt is large.  Estimated pdfs may be imprecise.  Decrease dt to 0.01 or less.\n",
      "Warning: dt is large.  Estimated pdfs may be imprecise.  Decrease dt to 0.01 or less.\n",
      "Warning: dt is large.  Estimated pdfs may be imprecise.  Decrease dt to 0.01 or less.\n",
      "Warning: dt is large.  Estimated pdfs may be imprecise.  Decrease dt to 0.01 or less.\n",
      "Warning: dt is large.  Estimated pdfs may be imprecise.  Decrease dt to 0.01 or less.\n",
      "Warning: dt is large.  Estimated pdfs may be imprecise.  Decrease dt to 0.01 or less.\n",
      "Warning: dt is large.  Estimated pdfs may be imprecise.  Decrease dt to 0.01 or less.\n",
      "Warning: dt is large.  Estimated pdfs may be imprecise.  Decrease dt to 0.01 or less.\n",
      "Warning: dt is large.  Estimated pdfs may be imprecise.  Decrease dt to 0.01 or less.\n",
      "Warning: dt is large.  Estimated pdfs may be imprecise.  Decrease dt to 0.01 or less.\n",
      "Warning: dt is large.  Estimated pdfs may be imprecise.  Decrease dt to 0.01 or less.\n",
      "Warning: dt is large.  Estimated pdfs may be imprecise.  Decrease dt to 0.01 or less.\n",
      "Warning: dt is large.  Estimated pdfs may be imprecise.  Decrease dt to 0.01 or less.\n",
      "Warning: dt is large.  Estimated pdfs may be imprecise.  Decrease dt to 0.01 or less.\n",
      "Warning: dt is large.  Estimated pdfs may be imprecise.  Decrease dt to 0.01 or less.\n",
      "Warning: dt is large.  Estimated pdfs may be imprecise.  Decrease dt to 0.01 or less.\n",
      "Warning: dt is large.  Estimated pdfs may be imprecise.  Decrease dt to 0.01 or less.\n",
      "Warning: dt is large.  Estimated pdfs may be imprecise.  Decrease dt to 0.01 or less.\n",
      "Warning: dt is large.  Estimated pdfs may be imprecise.  Decrease dt to 0.01 or less.\n",
      "Warning: dt is large.  Estimated pdfs may be imprecise.  Decrease dt to 0.01 or less.\n",
      "Warning: dt is large.  Estimated pdfs may be imprecise.  Decrease dt to 0.01 or less.\n",
      "Warning: dt is large.  Estimated pdfs may be imprecise.  Decrease dt to 0.01 or less.\n",
      "Warning: dt is large.  Estimated pdfs may be imprecise.  Decrease dt to 0.01 or less.\n",
      "Warning: dt is large.  Estimated pdfs may be imprecise.  Decrease dt to 0.01 or less.\n",
      "Warning: dt is large.  Estimated pdfs may be imprecise.  Decrease dt to 0.01 or less.\n",
      "Warning: dt is large.  Estimated pdfs may be imprecise.  Decrease dt to 0.01 or less.\n",
      "Warning: dt is large.  Estimated pdfs may be imprecise.  Decrease dt to 0.01 or less.\n",
      "Warning: dt is large.  Estimated pdfs may be imprecise.  Decrease dt to 0.01 or less.\n",
      "Warning: dt is large.  Estimated pdfs may be imprecise.  Decrease dt to 0.01 or less.\n",
      "Warning: dt is large.  Estimated pdfs may be imprecise.  Decrease dt to 0.01 or less.\n",
      "Warning: dt is large.  Estimated pdfs may be imprecise.  Decrease dt to 0.01 or less.\n",
      "Warning: dt is large.  Estimated pdfs may be imprecise.  Decrease dt to 0.01 or less.\n",
      "Warning: dt is large.  Estimated pdfs may be imprecise.  Decrease dt to 0.01 or less.\n",
      "Warning: dt is large.  Estimated pdfs may be imprecise.  Decrease dt to 0.01 or less.\n",
      "Warning: dt is large.  Estimated pdfs may be imprecise.  Decrease dt to 0.01 or less.\n",
      "Warning: dt is large.  Estimated pdfs may be imprecise.  Decrease dt to 0.01 or less.\n",
      "Warning: dt is large.  Estimated pdfs may be imprecise.  Decrease dt to 0.01 or less.\n",
      "Warning: dt is large.  Estimated pdfs may be imprecise.  Decrease dt to 0.01 or less.\n",
      "Warning: dt is large.  Estimated pdfs may be imprecise.  Decrease dt to 0.01 or less.\n",
      "Warning: dt is large.  Estimated pdfs may be imprecise.  Decrease dt to 0.01 or less.\n",
      "Warning: dt is large.  Estimated pdfs may be imprecise.  Decrease dt to 0.01 or less.\n",
      "Warning: dt is large.  Estimated pdfs may be imprecise.  Decrease dt to 0.01 or less.\n",
      "Warning: dt is large.  Estimated pdfs may be imprecise.  Decrease dt to 0.01 or less.\n",
      "Warning: dt is large.  Estimated pdfs may be imprecise.  Decrease dt to 0.01 or less.\n",
      "Warning: dt is large.  Estimated pdfs may be imprecise.  Decrease dt to 0.01 or less.\n",
      "Warning: dt is large.  Estimated pdfs may be imprecise.  Decrease dt to 0.01 or less.\n",
      "Warning: dt is large.  Estimated pdfs may be imprecise.  Decrease dt to 0.01 or less.\n",
      "Warning: dt is large.  Estimated pdfs may be imprecise.  Decrease dt to 0.01 or less.\n",
      "Warning: dt is large.  Estimated pdfs may be imprecise.  Decrease dt to 0.01 or less.\n",
      "Warning: dt is large.  Estimated pdfs may be imprecise.  Decrease dt to 0.01 or less.\n",
      "Warning: dt is large.  Estimated pdfs may be imprecise.  Decrease dt to 0.01 or less.\n",
      "Warning: dt is large.  Estimated pdfs may be imprecise.  Decrease dt to 0.01 or less.\n",
      "Warning: dt is large.  Estimated pdfs may be imprecise.  Decrease dt to 0.01 or less.\n",
      "Warning: dt is large.  Estimated pdfs may be imprecise.  Decrease dt to 0.01 or less.\n",
      "Warning: dt is large.  Estimated pdfs may be imprecise.  Decrease dt to 0.01 or less.\n",
      "Warning: dt is large.  Estimated pdfs may be imprecise.  Decrease dt to 0.01 or less.\n",
      "Warning: dt is large.  Estimated pdfs may be imprecise.  Decrease dt to 0.01 or less.\n",
      "Warning: dt is large.  Estimated pdfs may be imprecise.  Decrease dt to 0.01 or less.\n",
      "Warning: dt is large.  Estimated pdfs may be imprecise.  Decrease dt to 0.01 or less.\n",
      "Warning: dt is large.  Estimated pdfs may be imprecise.  Decrease dt to 0.01 or less.\n",
      "Warning: dt is large.  Estimated pdfs may be imprecise.  Decrease dt to 0.01 or less.\n",
      "Warning: dt is large.  Estimated pdfs may be imprecise.  Decrease dt to 0.01 or less.\n",
      "Warning: dt is large.  Estimated pdfs may be imprecise.  Decrease dt to 0.01 or less.\n",
      "Warning: dt is large.  Estimated pdfs may be imprecise.  Decrease dt to 0.01 or less.\n",
      "Warning: dt is large.  Estimated pdfs may be imprecise.  Decrease dt to 0.01 or less.\n",
      "Warning: dt is large.  Estimated pdfs may be imprecise.  Decrease dt to 0.01 or less.\n",
      "Warning: dt is large.  Estimated pdfs may be imprecise.  Decrease dt to 0.01 or less.\n",
      "Warning: dt is large.  Estimated pdfs may be imprecise.  Decrease dt to 0.01 or less.\n",
      "Warning: dt is large.  Estimated pdfs may be imprecise.  Decrease dt to 0.01 or less.\n",
      "Warning: dt is large.  Estimated pdfs may be imprecise.  Decrease dt to 0.01 or less.\n",
      "Warning: dt is large.  Estimated pdfs may be imprecise.  Decrease dt to 0.01 or less.\n",
      "Warning: dt is large.  Estimated pdfs may be imprecise.  Decrease dt to 0.01 or less.\n",
      "Warning: dt is large.  Estimated pdfs may be imprecise.  Decrease dt to 0.01 or less.\n",
      "Warning: dt is large.  Estimated pdfs may be imprecise.  Decrease dt to 0.01 or less.\n",
      "Warning: dt is large.  Estimated pdfs may be imprecise.  Decrease dt to 0.01 or less.\n",
      "Warning: dt is large.  Estimated pdfs may be imprecise.  Decrease dt to 0.01 or less.\n",
      "Warning: dt is large.  Estimated pdfs may be imprecise.  Decrease dt to 0.01 or less.\n",
      "Warning: dt is large.  Estimated pdfs may be imprecise.  Decrease dt to 0.01 or less.\n",
      "Warning: dt is large.  Estimated pdfs may be imprecise.  Decrease dt to 0.01 or less.\n",
      "Warning: dt is large.  Estimated pdfs may be imprecise.  Decrease dt to 0.01 or less.\n",
      "Warning: dt is large.  Estimated pdfs may be imprecise.  Decrease dt to 0.01 or less.\n",
      "Warning: dt is large.  Estimated pdfs may be imprecise.  Decrease dt to 0.01 or less.\n",
      "Warning: dt is large.  Estimated pdfs may be imprecise.  Decrease dt to 0.01 or less.\n",
      "Warning: dt is large.  Estimated pdfs may be imprecise.  Decrease dt to 0.01 or less.\n",
      "Warning: dt is large.  Estimated pdfs may be imprecise.  Decrease dt to 0.01 or less.\n",
      "Warning: dt is large.  Estimated pdfs may be imprecise.  Decrease dt to 0.01 or less.\n",
      "Warning: dt is large.  Estimated pdfs may be imprecise.  Decrease dt to 0.01 or less.\n",
      "Warning: dt is large.  Estimated pdfs may be imprecise.  Decrease dt to 0.01 or less.\n",
      "Warning: dt is large.  Estimated pdfs may be imprecise.  Decrease dt to 0.01 or less.\n",
      "Warning: dt is large.  Estimated pdfs may be imprecise.  Decrease dt to 0.01 or less.\n",
      "Warning: dt is large.  Estimated pdfs may be imprecise.  Decrease dt to 0.01 or less.\n",
      "Warning: dt is large.  Estimated pdfs may be imprecise.  Decrease dt to 0.01 or less.\n",
      "Warning: dt is large.  Estimated pdfs may be imprecise.  Decrease dt to 0.01 or less.\n",
      "Warning: dt is large.  Estimated pdfs may be imprecise.  Decrease dt to 0.01 or less.\n",
      "Warning: dt is large.  Estimated pdfs may be imprecise.  Decrease dt to 0.01 or less.\n"
     ]
    },
    {
     "name": "stderr",
     "output_type": "stream",
     "text": [
      "Warning: dt is large.  Estimated pdfs may be imprecise.  Decrease dt to 0.01 or less.\n",
      "Warning: dt is large.  Estimated pdfs may be imprecise.  Decrease dt to 0.01 or less.\n",
      "Warning: dt is large.  Estimated pdfs may be imprecise.  Decrease dt to 0.01 or less.\n",
      "Warning: dt is large.  Estimated pdfs may be imprecise.  Decrease dt to 0.01 or less.\n",
      "Warning: dt is large.  Estimated pdfs may be imprecise.  Decrease dt to 0.01 or less.\n",
      "Warning: dt is large.  Estimated pdfs may be imprecise.  Decrease dt to 0.01 or less.\n",
      "Warning: dt is large.  Estimated pdfs may be imprecise.  Decrease dt to 0.01 or less.\n",
      "Warning: dt is large.  Estimated pdfs may be imprecise.  Decrease dt to 0.01 or less.\n",
      "Warning: dt is large.  Estimated pdfs may be imprecise.  Decrease dt to 0.01 or less.\n",
      "Warning: dt is large.  Estimated pdfs may be imprecise.  Decrease dt to 0.01 or less.\n",
      "Warning: dt is large.  Estimated pdfs may be imprecise.  Decrease dt to 0.01 or less.\n",
      "Warning: dt is large.  Estimated pdfs may be imprecise.  Decrease dt to 0.01 or less.\n",
      "Warning: dt is large.  Estimated pdfs may be imprecise.  Decrease dt to 0.01 or less.\n",
      "Warning: dt is large.  Estimated pdfs may be imprecise.  Decrease dt to 0.01 or less.\n",
      "Warning: dt is large.  Estimated pdfs may be imprecise.  Decrease dt to 0.01 or less.\n",
      "Warning: dt is large.  Estimated pdfs may be imprecise.  Decrease dt to 0.01 or less.\n",
      "Warning: dt is large.  Estimated pdfs may be imprecise.  Decrease dt to 0.01 or less.\n",
      "Warning: dt is large.  Estimated pdfs may be imprecise.  Decrease dt to 0.01 or less.\n",
      "Warning: dt is large.  Estimated pdfs may be imprecise.  Decrease dt to 0.01 or less.\n",
      "Warning: dt is large.  Estimated pdfs may be imprecise.  Decrease dt to 0.01 or less.\n",
      "Warning: dt is large.  Estimated pdfs may be imprecise.  Decrease dt to 0.01 or less.\n",
      "Warning: dt is large.  Estimated pdfs may be imprecise.  Decrease dt to 0.01 or less.\n",
      "Warning: dt is large.  Estimated pdfs may be imprecise.  Decrease dt to 0.01 or less.\n",
      "Warning: dt is large.  Estimated pdfs may be imprecise.  Decrease dt to 0.01 or less.\n",
      "Warning: dt is large.  Estimated pdfs may be imprecise.  Decrease dt to 0.01 or less.\n",
      "Warning: dt is large.  Estimated pdfs may be imprecise.  Decrease dt to 0.01 or less.\n",
      "Warning: dt is large.  Estimated pdfs may be imprecise.  Decrease dt to 0.01 or less.\n",
      "Warning: dt is large.  Estimated pdfs may be imprecise.  Decrease dt to 0.01 or less.\n",
      "Warning: dt is large.  Estimated pdfs may be imprecise.  Decrease dt to 0.01 or less.\n",
      "Warning: dt is large.  Estimated pdfs may be imprecise.  Decrease dt to 0.01 or less.\n",
      "Warning: dt is large.  Estimated pdfs may be imprecise.  Decrease dt to 0.01 or less.\n",
      "Warning: dt is large.  Estimated pdfs may be imprecise.  Decrease dt to 0.01 or less.\n",
      "Warning: dt is large.  Estimated pdfs may be imprecise.  Decrease dt to 0.01 or less.\n",
      "Warning: dt is large.  Estimated pdfs may be imprecise.  Decrease dt to 0.01 or less.\n",
      "Warning: dt is large.  Estimated pdfs may be imprecise.  Decrease dt to 0.01 or less.\n",
      "Warning: dt is large.  Estimated pdfs may be imprecise.  Decrease dt to 0.01 or less.\n",
      "Warning: dt is large.  Estimated pdfs may be imprecise.  Decrease dt to 0.01 or less.\n",
      "Warning: dt is large.  Estimated pdfs may be imprecise.  Decrease dt to 0.01 or less.\n",
      "Warning: dt is large.  Estimated pdfs may be imprecise.  Decrease dt to 0.01 or less.\n",
      "Warning: dt is large.  Estimated pdfs may be imprecise.  Decrease dt to 0.01 or less.\n",
      "Warning: dt is large.  Estimated pdfs may be imprecise.  Decrease dt to 0.01 or less.\n",
      "Warning: dt is large.  Estimated pdfs may be imprecise.  Decrease dt to 0.01 or less.\n",
      "Warning: dt is large.  Estimated pdfs may be imprecise.  Decrease dt to 0.01 or less.\n",
      "Warning: dt is large.  Estimated pdfs may be imprecise.  Decrease dt to 0.01 or less.\n",
      "Warning: dt is large.  Estimated pdfs may be imprecise.  Decrease dt to 0.01 or less.\n",
      "Warning: dt is large.  Estimated pdfs may be imprecise.  Decrease dt to 0.01 or less.\n",
      "Warning: dt is large.  Estimated pdfs may be imprecise.  Decrease dt to 0.01 or less.\n",
      "Warning: dt is large.  Estimated pdfs may be imprecise.  Decrease dt to 0.01 or less.\n",
      "Warning: dt is large.  Estimated pdfs may be imprecise.  Decrease dt to 0.01 or less.\n",
      "Warning: dt is large.  Estimated pdfs may be imprecise.  Decrease dt to 0.01 or less.\n",
      "Warning: dt is large.  Estimated pdfs may be imprecise.  Decrease dt to 0.01 or less.\n",
      "Warning: dt is large.  Estimated pdfs may be imprecise.  Decrease dt to 0.01 or less.\n",
      "Warning: dt is large.  Estimated pdfs may be imprecise.  Decrease dt to 0.01 or less.\n",
      "Warning: dt is large.  Estimated pdfs may be imprecise.  Decrease dt to 0.01 or less.\n",
      "Warning: dt is large.  Estimated pdfs may be imprecise.  Decrease dt to 0.01 or less.\n",
      "Warning: dt is large.  Estimated pdfs may be imprecise.  Decrease dt to 0.01 or less.\n",
      "Warning: dt is large.  Estimated pdfs may be imprecise.  Decrease dt to 0.01 or less.\n",
      "Warning: dt is large.  Estimated pdfs may be imprecise.  Decrease dt to 0.01 or less.\n",
      "Warning: dt is large.  Estimated pdfs may be imprecise.  Decrease dt to 0.01 or less.\n",
      "Warning: dt is large.  Estimated pdfs may be imprecise.  Decrease dt to 0.01 or less.\n",
      "Warning: dt is large.  Estimated pdfs may be imprecise.  Decrease dt to 0.01 or less.\n",
      "Warning: dt is large.  Estimated pdfs may be imprecise.  Decrease dt to 0.01 or less.\n",
      "Warning: dt is large.  Estimated pdfs may be imprecise.  Decrease dt to 0.01 or less.\n",
      "Warning: dt is large.  Estimated pdfs may be imprecise.  Decrease dt to 0.01 or less.\n",
      "Warning: dt is large.  Estimated pdfs may be imprecise.  Decrease dt to 0.01 or less.\n",
      "Warning: dt is large.  Estimated pdfs may be imprecise.  Decrease dt to 0.01 or less.\n",
      "Warning: dt is large.  Estimated pdfs may be imprecise.  Decrease dt to 0.01 or less.\n",
      "Warning: dt is large.  Estimated pdfs may be imprecise.  Decrease dt to 0.01 or less.\n",
      "Warning: dt is large.  Estimated pdfs may be imprecise.  Decrease dt to 0.01 or less.\n",
      "Warning: dt is large.  Estimated pdfs may be imprecise.  Decrease dt to 0.01 or less.\n",
      "Warning: dt is large.  Estimated pdfs may be imprecise.  Decrease dt to 0.01 or less.\n",
      "Warning: dt is large.  Estimated pdfs may be imprecise.  Decrease dt to 0.01 or less.\n",
      "Warning: dt is large.  Estimated pdfs may be imprecise.  Decrease dt to 0.01 or less.\n",
      "Warning: dt is large.  Estimated pdfs may be imprecise.  Decrease dt to 0.01 or less.\n",
      "Warning: dt is large.  Estimated pdfs may be imprecise.  Decrease dt to 0.01 or less.\n",
      "Warning: dt is large.  Estimated pdfs may be imprecise.  Decrease dt to 0.01 or less.\n",
      "Warning: dt is large.  Estimated pdfs may be imprecise.  Decrease dt to 0.01 or less.\n",
      "Warning: dt is large.  Estimated pdfs may be imprecise.  Decrease dt to 0.01 or less.\n",
      "Warning: dt is large.  Estimated pdfs may be imprecise.  Decrease dt to 0.01 or less.\n",
      "Warning: dt is large.  Estimated pdfs may be imprecise.  Decrease dt to 0.01 or less.\n",
      "Warning: dt is large.  Estimated pdfs may be imprecise.  Decrease dt to 0.01 or less.\n",
      "Warning: dt is large.  Estimated pdfs may be imprecise.  Decrease dt to 0.01 or less.\n",
      "Warning: dt is large.  Estimated pdfs may be imprecise.  Decrease dt to 0.01 or less.\n",
      "Warning: dt is large.  Estimated pdfs may be imprecise.  Decrease dt to 0.01 or less.\n",
      "Warning: dt is large.  Estimated pdfs may be imprecise.  Decrease dt to 0.01 or less.\n",
      "Warning: dt is large.  Estimated pdfs may be imprecise.  Decrease dt to 0.01 or less.\n",
      "Warning: dt is large.  Estimated pdfs may be imprecise.  Decrease dt to 0.01 or less.\n",
      "Warning: dt is large.  Estimated pdfs may be imprecise.  Decrease dt to 0.01 or less.\n",
      "Warning: dt is large.  Estimated pdfs may be imprecise.  Decrease dt to 0.01 or less.\n",
      "Warning: dt is large.  Estimated pdfs may be imprecise.  Decrease dt to 0.01 or less.\n",
      "Warning: dt is large.  Estimated pdfs may be imprecise.  Decrease dt to 0.01 or less.\n",
      "Warning: dt is large.  Estimated pdfs may be imprecise.  Decrease dt to 0.01 or less.\n",
      "Warning: dt is large.  Estimated pdfs may be imprecise.  Decrease dt to 0.01 or less.\n",
      "Warning: dt is large.  Estimated pdfs may be imprecise.  Decrease dt to 0.01 or less.\n",
      "Warning: dt is large.  Estimated pdfs may be imprecise.  Decrease dt to 0.01 or less.\n",
      "Warning: dt is large.  Estimated pdfs may be imprecise.  Decrease dt to 0.01 or less.\n"
     ]
    },
    {
     "name": "stderr",
     "output_type": "stream",
     "text": [
      "Warning: dt is large.  Estimated pdfs may be imprecise.  Decrease dt to 0.01 or less.\n",
      "Warning: dt is large.  Estimated pdfs may be imprecise.  Decrease dt to 0.01 or less.\n",
      "Warning: dt is large.  Estimated pdfs may be imprecise.  Decrease dt to 0.01 or less.\n",
      "Warning: dt is large.  Estimated pdfs may be imprecise.  Decrease dt to 0.01 or less.\n",
      "Warning: dt is large.  Estimated pdfs may be imprecise.  Decrease dt to 0.01 or less.\n",
      "Warning: dt is large.  Estimated pdfs may be imprecise.  Decrease dt to 0.01 or less.\n",
      "Warning: dt is large.  Estimated pdfs may be imprecise.  Decrease dt to 0.01 or less.\n",
      "Warning: dt is large.  Estimated pdfs may be imprecise.  Decrease dt to 0.01 or less.\n",
      "Warning: dt is large.  Estimated pdfs may be imprecise.  Decrease dt to 0.01 or less.\n",
      "Warning: dt is large.  Estimated pdfs may be imprecise.  Decrease dt to 0.01 or less.\n",
      "Warning: dt is large.  Estimated pdfs may be imprecise.  Decrease dt to 0.01 or less.\n",
      "Warning: dt is large.  Estimated pdfs may be imprecise.  Decrease dt to 0.01 or less.\n",
      "Warning: dt is large.  Estimated pdfs may be imprecise.  Decrease dt to 0.01 or less.\n",
      "Warning: dt is large.  Estimated pdfs may be imprecise.  Decrease dt to 0.01 or less.\n",
      "Warning: dt is large.  Estimated pdfs may be imprecise.  Decrease dt to 0.01 or less.\n",
      "Warning: dt is large.  Estimated pdfs may be imprecise.  Decrease dt to 0.01 or less.\n",
      "Warning: dt is large.  Estimated pdfs may be imprecise.  Decrease dt to 0.01 or less.\n",
      "Warning: dt is large.  Estimated pdfs may be imprecise.  Decrease dt to 0.01 or less.\n",
      "Warning: dt is large.  Estimated pdfs may be imprecise.  Decrease dt to 0.01 or less.\n",
      "Warning: dt is large.  Estimated pdfs may be imprecise.  Decrease dt to 0.01 or less.\n",
      "Warning: dt is large.  Estimated pdfs may be imprecise.  Decrease dt to 0.01 or less.\n",
      "Warning: dt is large.  Estimated pdfs may be imprecise.  Decrease dt to 0.01 or less.\n",
      "Warning: dt is large.  Estimated pdfs may be imprecise.  Decrease dt to 0.01 or less.\n",
      "Warning: dt is large.  Estimated pdfs may be imprecise.  Decrease dt to 0.01 or less.\n",
      "Warning: dt is large.  Estimated pdfs may be imprecise.  Decrease dt to 0.01 or less.\n",
      "Warning: dt is large.  Estimated pdfs may be imprecise.  Decrease dt to 0.01 or less.\n",
      "Warning: dt is large.  Estimated pdfs may be imprecise.  Decrease dt to 0.01 or less.\n",
      "Warning: dt is large.  Estimated pdfs may be imprecise.  Decrease dt to 0.01 or less.\n",
      "Warning: dt is large.  Estimated pdfs may be imprecise.  Decrease dt to 0.01 or less.\n",
      "Warning: dt is large.  Estimated pdfs may be imprecise.  Decrease dt to 0.01 or less.\n",
      "Warning: dt is large.  Estimated pdfs may be imprecise.  Decrease dt to 0.01 or less.\n",
      "Warning: dt is large.  Estimated pdfs may be imprecise.  Decrease dt to 0.01 or less.\n",
      "Warning: dt is large.  Estimated pdfs may be imprecise.  Decrease dt to 0.01 or less.\n",
      "Warning: dt is large.  Estimated pdfs may be imprecise.  Decrease dt to 0.01 or less.\n",
      "Warning: dt is large.  Estimated pdfs may be imprecise.  Decrease dt to 0.01 or less.\n",
      "Warning: dt is large.  Estimated pdfs may be imprecise.  Decrease dt to 0.01 or less.\n",
      "Warning: dt is large.  Estimated pdfs may be imprecise.  Decrease dt to 0.01 or less.\n",
      "Warning: dt is large.  Estimated pdfs may be imprecise.  Decrease dt to 0.01 or less.\n",
      "Warning: dt is large.  Estimated pdfs may be imprecise.  Decrease dt to 0.01 or less.\n",
      "Warning: dt is large.  Estimated pdfs may be imprecise.  Decrease dt to 0.01 or less.\n",
      "Warning: dt is large.  Estimated pdfs may be imprecise.  Decrease dt to 0.01 or less.\n",
      "Warning: dt is large.  Estimated pdfs may be imprecise.  Decrease dt to 0.01 or less.\n",
      "Warning: dt is large.  Estimated pdfs may be imprecise.  Decrease dt to 0.01 or less.\n",
      "Warning: dt is large.  Estimated pdfs may be imprecise.  Decrease dt to 0.01 or less.\n",
      "Warning: dt is large.  Estimated pdfs may be imprecise.  Decrease dt to 0.01 or less.\n",
      "Warning: dt is large.  Estimated pdfs may be imprecise.  Decrease dt to 0.01 or less.\n",
      "Warning: dt is large.  Estimated pdfs may be imprecise.  Decrease dt to 0.01 or less.\n",
      "Warning: dt is large.  Estimated pdfs may be imprecise.  Decrease dt to 0.01 or less.\n",
      "Warning: dt is large.  Estimated pdfs may be imprecise.  Decrease dt to 0.01 or less.\n",
      "Warning: dt is large.  Estimated pdfs may be imprecise.  Decrease dt to 0.01 or less.\n",
      "Warning: dt is large.  Estimated pdfs may be imprecise.  Decrease dt to 0.01 or less.\n",
      "Warning: dt is large.  Estimated pdfs may be imprecise.  Decrease dt to 0.01 or less.\n",
      "Warning: dt is large.  Estimated pdfs may be imprecise.  Decrease dt to 0.01 or less.\n",
      "Warning: dt is large.  Estimated pdfs may be imprecise.  Decrease dt to 0.01 or less.\n",
      "Warning: dt is large.  Estimated pdfs may be imprecise.  Decrease dt to 0.01 or less.\n",
      "Warning: dt is large.  Estimated pdfs may be imprecise.  Decrease dt to 0.01 or less.\n",
      "Warning: dt is large.  Estimated pdfs may be imprecise.  Decrease dt to 0.01 or less.\n",
      "Warning: dt is large.  Estimated pdfs may be imprecise.  Decrease dt to 0.01 or less.\n",
      "Warning: dt is large.  Estimated pdfs may be imprecise.  Decrease dt to 0.01 or less.\n",
      "Warning: dt is large.  Estimated pdfs may be imprecise.  Decrease dt to 0.01 or less.\n",
      "Warning: dt is large.  Estimated pdfs may be imprecise.  Decrease dt to 0.01 or less.\n",
      "Warning: dt is large.  Estimated pdfs may be imprecise.  Decrease dt to 0.01 or less.\n",
      "Warning: dt is large.  Estimated pdfs may be imprecise.  Decrease dt to 0.01 or less.\n",
      "Warning: dt is large.  Estimated pdfs may be imprecise.  Decrease dt to 0.01 or less.\n",
      "Warning: dt is large.  Estimated pdfs may be imprecise.  Decrease dt to 0.01 or less.\n",
      "Warning: dt is large.  Estimated pdfs may be imprecise.  Decrease dt to 0.01 or less.\n",
      "Warning: dt is large.  Estimated pdfs may be imprecise.  Decrease dt to 0.01 or less.\n",
      "Warning: dt is large.  Estimated pdfs may be imprecise.  Decrease dt to 0.01 or less.\n",
      "Warning: dt is large.  Estimated pdfs may be imprecise.  Decrease dt to 0.01 or less.\n",
      "Warning: dt is large.  Estimated pdfs may be imprecise.  Decrease dt to 0.01 or less.\n",
      "Warning: dt is large.  Estimated pdfs may be imprecise.  Decrease dt to 0.01 or less.\n",
      "Warning: dt is large.  Estimated pdfs may be imprecise.  Decrease dt to 0.01 or less.\n",
      "Warning: dt is large.  Estimated pdfs may be imprecise.  Decrease dt to 0.01 or less.\n",
      "Warning: dt is large.  Estimated pdfs may be imprecise.  Decrease dt to 0.01 or less.\n",
      "Warning: dt is large.  Estimated pdfs may be imprecise.  Decrease dt to 0.01 or less.\n",
      "Warning: dt is large.  Estimated pdfs may be imprecise.  Decrease dt to 0.01 or less.\n",
      "Warning: dt is large.  Estimated pdfs may be imprecise.  Decrease dt to 0.01 or less.\n",
      "Warning: dt is large.  Estimated pdfs may be imprecise.  Decrease dt to 0.01 or less.\n",
      "Warning: dt is large.  Estimated pdfs may be imprecise.  Decrease dt to 0.01 or less.\n",
      "Warning: dt is large.  Estimated pdfs may be imprecise.  Decrease dt to 0.01 or less.\n",
      "Warning: dt is large.  Estimated pdfs may be imprecise.  Decrease dt to 0.01 or less.\n",
      "Warning: dt is large.  Estimated pdfs may be imprecise.  Decrease dt to 0.01 or less.\n",
      "Warning: dt is large.  Estimated pdfs may be imprecise.  Decrease dt to 0.01 or less.\n",
      "Warning: dt is large.  Estimated pdfs may be imprecise.  Decrease dt to 0.01 or less.\n",
      "Warning: dt is large.  Estimated pdfs may be imprecise.  Decrease dt to 0.01 or less.\n",
      "Warning: dt is large.  Estimated pdfs may be imprecise.  Decrease dt to 0.01 or less.\n",
      "Warning: dt is large.  Estimated pdfs may be imprecise.  Decrease dt to 0.01 or less.\n",
      "Warning: dt is large.  Estimated pdfs may be imprecise.  Decrease dt to 0.01 or less.\n",
      "Warning: dt is large.  Estimated pdfs may be imprecise.  Decrease dt to 0.01 or less.\n",
      "Warning: dt is large.  Estimated pdfs may be imprecise.  Decrease dt to 0.01 or less.\n",
      "Warning: dt is large.  Estimated pdfs may be imprecise.  Decrease dt to 0.01 or less.\n",
      "Warning: dt is large.  Estimated pdfs may be imprecise.  Decrease dt to 0.01 or less.\n",
      "Warning: dt is large.  Estimated pdfs may be imprecise.  Decrease dt to 0.01 or less.\n",
      "Warning: dt is large.  Estimated pdfs may be imprecise.  Decrease dt to 0.01 or less.\n",
      "Warning: dt is large.  Estimated pdfs may be imprecise.  Decrease dt to 0.01 or less.\n",
      "Warning: dt is large.  Estimated pdfs may be imprecise.  Decrease dt to 0.01 or less.\n"
     ]
    },
    {
     "name": "stderr",
     "output_type": "stream",
     "text": [
      "Warning: dt is large.  Estimated pdfs may be imprecise.  Decrease dt to 0.01 or less.\n",
      "Warning: dt is large.  Estimated pdfs may be imprecise.  Decrease dt to 0.01 or less.\n",
      "Warning: dt is large.  Estimated pdfs may be imprecise.  Decrease dt to 0.01 or less.\n",
      "Warning: dt is large.  Estimated pdfs may be imprecise.  Decrease dt to 0.01 or less.\n",
      "Warning: dt is large.  Estimated pdfs may be imprecise.  Decrease dt to 0.01 or less.\n",
      "Warning: dt is large.  Estimated pdfs may be imprecise.  Decrease dt to 0.01 or less.\n",
      "Warning: dt is large.  Estimated pdfs may be imprecise.  Decrease dt to 0.01 or less.\n",
      "Warning: dt is large.  Estimated pdfs may be imprecise.  Decrease dt to 0.01 or less.\n",
      "Warning: dt is large.  Estimated pdfs may be imprecise.  Decrease dt to 0.01 or less.\n",
      "Warning: dt is large.  Estimated pdfs may be imprecise.  Decrease dt to 0.01 or less.\n",
      "Warning: dt is large.  Estimated pdfs may be imprecise.  Decrease dt to 0.01 or less.\n",
      "Warning: dt is large.  Estimated pdfs may be imprecise.  Decrease dt to 0.01 or less.\n",
      "Warning: dt is large.  Estimated pdfs may be imprecise.  Decrease dt to 0.01 or less.\n",
      "Warning: dt is large.  Estimated pdfs may be imprecise.  Decrease dt to 0.01 or less.\n",
      "Warning: dt is large.  Estimated pdfs may be imprecise.  Decrease dt to 0.01 or less.\n",
      "Warning: dt is large.  Estimated pdfs may be imprecise.  Decrease dt to 0.01 or less.\n",
      "Warning: dt is large.  Estimated pdfs may be imprecise.  Decrease dt to 0.01 or less.\n",
      "Warning: dt is large.  Estimated pdfs may be imprecise.  Decrease dt to 0.01 or less.\n",
      "Warning: dt is large.  Estimated pdfs may be imprecise.  Decrease dt to 0.01 or less.\n",
      "Warning: dt is large.  Estimated pdfs may be imprecise.  Decrease dt to 0.01 or less.\n",
      "Warning: dt is large.  Estimated pdfs may be imprecise.  Decrease dt to 0.01 or less.\n",
      "Warning: dt is large.  Estimated pdfs may be imprecise.  Decrease dt to 0.01 or less.\n",
      "Warning: dt is large.  Estimated pdfs may be imprecise.  Decrease dt to 0.01 or less.\n",
      "Warning: dt is large.  Estimated pdfs may be imprecise.  Decrease dt to 0.01 or less.\n",
      "Warning: dt is large.  Estimated pdfs may be imprecise.  Decrease dt to 0.01 or less.\n",
      "Warning: dt is large.  Estimated pdfs may be imprecise.  Decrease dt to 0.01 or less.\n",
      "Warning: dt is large.  Estimated pdfs may be imprecise.  Decrease dt to 0.01 or less.\n",
      "Warning: dt is large.  Estimated pdfs may be imprecise.  Decrease dt to 0.01 or less.\n",
      "Warning: dt is large.  Estimated pdfs may be imprecise.  Decrease dt to 0.01 or less.\n",
      "Warning: dt is large.  Estimated pdfs may be imprecise.  Decrease dt to 0.01 or less.\n",
      "Warning: dt is large.  Estimated pdfs may be imprecise.  Decrease dt to 0.01 or less.\n",
      "Warning: dt is large.  Estimated pdfs may be imprecise.  Decrease dt to 0.01 or less.\n",
      "Warning: dt is large.  Estimated pdfs may be imprecise.  Decrease dt to 0.01 or less.\n",
      "Warning: dt is large.  Estimated pdfs may be imprecise.  Decrease dt to 0.01 or less.\n",
      "Warning: dt is large.  Estimated pdfs may be imprecise.  Decrease dt to 0.01 or less.\n",
      "Warning: dt is large.  Estimated pdfs may be imprecise.  Decrease dt to 0.01 or less.\n",
      "Warning: dt is large.  Estimated pdfs may be imprecise.  Decrease dt to 0.01 or less.\n",
      "Warning: dt is large.  Estimated pdfs may be imprecise.  Decrease dt to 0.01 or less.\n",
      "Warning: dt is large.  Estimated pdfs may be imprecise.  Decrease dt to 0.01 or less.\n",
      "Warning: dt is large.  Estimated pdfs may be imprecise.  Decrease dt to 0.01 or less.\n",
      "Warning: dt is large.  Estimated pdfs may be imprecise.  Decrease dt to 0.01 or less.\n",
      "Warning: dt is large.  Estimated pdfs may be imprecise.  Decrease dt to 0.01 or less.\n",
      "Warning: dt is large.  Estimated pdfs may be imprecise.  Decrease dt to 0.01 or less.\n",
      "Warning: dt is large.  Estimated pdfs may be imprecise.  Decrease dt to 0.01 or less.\n",
      "Warning: dt is large.  Estimated pdfs may be imprecise.  Decrease dt to 0.01 or less.\n",
      "Warning: dt is large.  Estimated pdfs may be imprecise.  Decrease dt to 0.01 or less.\n",
      "Warning: dt is large.  Estimated pdfs may be imprecise.  Decrease dt to 0.01 or less.\n",
      "Warning: dt is large.  Estimated pdfs may be imprecise.  Decrease dt to 0.01 or less.\n",
      "Warning: dt is large.  Estimated pdfs may be imprecise.  Decrease dt to 0.01 or less.\n",
      "Warning: dt is large.  Estimated pdfs may be imprecise.  Decrease dt to 0.01 or less.\n",
      "Warning: dt is large.  Estimated pdfs may be imprecise.  Decrease dt to 0.01 or less.\n",
      "Warning: dt is large.  Estimated pdfs may be imprecise.  Decrease dt to 0.01 or less.\n",
      "Warning: dt is large.  Estimated pdfs may be imprecise.  Decrease dt to 0.01 or less.\n",
      "Warning: dt is large.  Estimated pdfs may be imprecise.  Decrease dt to 0.01 or less.\n",
      "Warning: dt is large.  Estimated pdfs may be imprecise.  Decrease dt to 0.01 or less.\n",
      "Warning: dt is large.  Estimated pdfs may be imprecise.  Decrease dt to 0.01 or less.\n",
      "Warning: dt is large.  Estimated pdfs may be imprecise.  Decrease dt to 0.01 or less.\n",
      "Warning: dt is large.  Estimated pdfs may be imprecise.  Decrease dt to 0.01 or less.\n",
      "Warning: dt is large.  Estimated pdfs may be imprecise.  Decrease dt to 0.01 or less.\n",
      "Warning: dt is large.  Estimated pdfs may be imprecise.  Decrease dt to 0.01 or less.\n",
      "Warning: dt is large.  Estimated pdfs may be imprecise.  Decrease dt to 0.01 or less.\n",
      "Warning: dt is large.  Estimated pdfs may be imprecise.  Decrease dt to 0.01 or less.\n",
      "Warning: dt is large.  Estimated pdfs may be imprecise.  Decrease dt to 0.01 or less.\n",
      "Warning: dt is large.  Estimated pdfs may be imprecise.  Decrease dt to 0.01 or less.\n",
      "Warning: dt is large.  Estimated pdfs may be imprecise.  Decrease dt to 0.01 or less.\n",
      "Warning: dt is large.  Estimated pdfs may be imprecise.  Decrease dt to 0.01 or less.\n",
      "Warning: dt is large.  Estimated pdfs may be imprecise.  Decrease dt to 0.01 or less.\n",
      "Warning: dt is large.  Estimated pdfs may be imprecise.  Decrease dt to 0.01 or less.\n",
      "Warning: dt is large.  Estimated pdfs may be imprecise.  Decrease dt to 0.01 or less.\n",
      "Warning: dt is large.  Estimated pdfs may be imprecise.  Decrease dt to 0.01 or less.\n",
      "Warning: dt is large.  Estimated pdfs may be imprecise.  Decrease dt to 0.01 or less.\n",
      "Warning: dt is large.  Estimated pdfs may be imprecise.  Decrease dt to 0.01 or less.\n",
      "Warning: dt is large.  Estimated pdfs may be imprecise.  Decrease dt to 0.01 or less.\n",
      "Warning: dt is large.  Estimated pdfs may be imprecise.  Decrease dt to 0.01 or less.\n",
      "Warning: dt is large.  Estimated pdfs may be imprecise.  Decrease dt to 0.01 or less.\n",
      "Warning: dt is large.  Estimated pdfs may be imprecise.  Decrease dt to 0.01 or less.\n",
      "Warning: dt is large.  Estimated pdfs may be imprecise.  Decrease dt to 0.01 or less.\n",
      "Warning: dt is large.  Estimated pdfs may be imprecise.  Decrease dt to 0.01 or less.\n",
      "Warning: dt is large.  Estimated pdfs may be imprecise.  Decrease dt to 0.01 or less.\n",
      "Warning: dt is large.  Estimated pdfs may be imprecise.  Decrease dt to 0.01 or less.\n",
      "Warning: dt is large.  Estimated pdfs may be imprecise.  Decrease dt to 0.01 or less.\n",
      "Warning: dt is large.  Estimated pdfs may be imprecise.  Decrease dt to 0.01 or less.\n",
      "Warning: dt is large.  Estimated pdfs may be imprecise.  Decrease dt to 0.01 or less.\n",
      "Warning: dt is large.  Estimated pdfs may be imprecise.  Decrease dt to 0.01 or less.\n",
      "Warning: dt is large.  Estimated pdfs may be imprecise.  Decrease dt to 0.01 or less.\n",
      "Warning: dt is large.  Estimated pdfs may be imprecise.  Decrease dt to 0.01 or less.\n",
      "Warning: dt is large.  Estimated pdfs may be imprecise.  Decrease dt to 0.01 or less.\n",
      "Warning: dt is large.  Estimated pdfs may be imprecise.  Decrease dt to 0.01 or less.\n",
      "Warning: dt is large.  Estimated pdfs may be imprecise.  Decrease dt to 0.01 or less.\n",
      "Warning: dt is large.  Estimated pdfs may be imprecise.  Decrease dt to 0.01 or less.\n"
     ]
    }
   ],
   "source": [
    "from pyddm import FitResult\n",
    "from pyddm import Fittable, Fitted\n",
    "import pyddm.plot\n",
    "from pyddm.functions import fit_adjust_model, display_model\n",
    "\n",
    "\n",
    "for i_data in list(range(2,5)):\n",
    "    \n",
    "    all_subjects = list(pd.read_csv(f\"model_fits/model_m1/data_E{i_data}/all_subjects.csv\").subj_id)\n",
    "    \n",
    "    for i_model in list(range(1,7)):\n",
    "        \n",
    "        df = pd.DataFrame()\n",
    "            \n",
    "        for i_subj in all_subjects:\n",
    "\n",
    "            with open(f\"model_fits/model_m{i_model}/data_E{i_data}/subj{i_subj}.txt\", \"r\") as f:\n",
    "                model = eval(f.read())\n",
    "\n",
    "            sol_abs = model.solve({'present':-1})\n",
    "            samp_abs = sol_abs.resample(32).to_pandas_dataframe(drop_undecided=True)\n",
    "\n",
    "            sol_pres = model.solve({'present':1})\n",
    "            samp_pres = sol_pres.resample(32).to_pandas_dataframe(drop_undecided=True)\n",
    "\n",
    "            subj_df = pd.concat([samp_abs,samp_pres])\n",
    "            subj_df['subj_id']=i_subj\n",
    "            df = pd.concat([df,subj_df])\n",
    "    \n",
    "        df = df.rename({'RT':'rt'})\n",
    "        df.to_csv(f\"model_fits/model_m{i_model}/data_E{i_data}/all_subjects_gen.csv\", index=False)"
   ]
  },
  {
   "cell_type": "code",
   "execution_count": 17,
   "id": "34059b85",
   "metadata": {},
   "outputs": [],
   "source": [
    "all_subjects = pd.read_csv(f\"model_fits/model_m6/data_E2/all_subjects.csv\").subj_id"
   ]
  },
  {
   "cell_type": "code",
   "execution_count": 19,
   "id": "4ea76680",
   "metadata": {},
   "outputs": [
    {
     "data": {
      "text/plain": [
       "[1,\n",
       " 2,\n",
       " 3,\n",
       " 4,\n",
       " 5,\n",
       " 6,\n",
       " 7,\n",
       " 8,\n",
       " 9,\n",
       " 10,\n",
       " 11,\n",
       " 12,\n",
       " 13,\n",
       " 14,\n",
       " 15,\n",
       " 16,\n",
       " 17,\n",
       " 18,\n",
       " 19,\n",
       " 20,\n",
       " 21,\n",
       " 22,\n",
       " 23,\n",
       " 24,\n",
       " 25,\n",
       " 26,\n",
       " 27,\n",
       " 28,\n",
       " 29,\n",
       " 30,\n",
       " 31,\n",
       " 32,\n",
       " 33,\n",
       " 34,\n",
       " 35,\n",
       " 36,\n",
       " 37,\n",
       " 38,\n",
       " 39,\n",
       " 40,\n",
       " 41,\n",
       " 42,\n",
       " 43,\n",
       " 44,\n",
       " 45,\n",
       " 46,\n",
       " 47,\n",
       " 48,\n",
       " 49,\n",
       " 50,\n",
       " 51,\n",
       " 52,\n",
       " 53,\n",
       " 54,\n",
       " 55,\n",
       " 56,\n",
       " 57,\n",
       " 58,\n",
       " 59,\n",
       " 60,\n",
       " 61,\n",
       " 62,\n",
       " 63,\n",
       " 64,\n",
       " 65,\n",
       " 66,\n",
       " 67,\n",
       " 68,\n",
       " 69,\n",
       " 70,\n",
       " 71,\n",
       " 72,\n",
       " 73,\n",
       " 74,\n",
       " 75,\n",
       " 76,\n",
       " 77,\n",
       " 78,\n",
       " 79,\n",
       " 80,\n",
       " 81,\n",
       " 82,\n",
       " 83,\n",
       " 84,\n",
       " 85,\n",
       " 86,\n",
       " 87,\n",
       " 88,\n",
       " 89,\n",
       " 90,\n",
       " 91,\n",
       " 92,\n",
       " 93,\n",
       " 94,\n",
       " 95,\n",
       " 96,\n",
       " 97,\n",
       " 98,\n",
       " 99,\n",
       " 100,\n",
       " 101,\n",
       " 102,\n",
       " 103,\n",
       " 104,\n",
       " 105,\n",
       " 106,\n",
       " 107,\n",
       " 108,\n",
       " 109,\n",
       " 110,\n",
       " 111,\n",
       " 112,\n",
       " 113,\n",
       " 114,\n",
       " 115,\n",
       " 116,\n",
       " 117,\n",
       " 118,\n",
       " 119,\n",
       " 120,\n",
       " 121,\n",
       " 122,\n",
       " 123,\n",
       " 124,\n",
       " 125,\n",
       " 126,\n",
       " 127,\n",
       " 128,\n",
       " 129,\n",
       " 130,\n",
       " 131,\n",
       " 132,\n",
       " 133,\n",
       " 134,\n",
       " 135,\n",
       " 136,\n",
       " 137,\n",
       " 138,\n",
       " 139,\n",
       " 140,\n",
       " 141,\n",
       " 142,\n",
       " 143,\n",
       " 144,\n",
       " 145,\n",
       " 146,\n",
       " 147,\n",
       " 148,\n",
       " 149,\n",
       " 150,\n",
       " 151,\n",
       " 152,\n",
       " 153,\n",
       " 154,\n",
       " 155,\n",
       " 156,\n",
       " 157,\n",
       " 158,\n",
       " 159,\n",
       " 160,\n",
       " 161,\n",
       " 162,\n",
       " 163,\n",
       " 164,\n",
       " 165,\n",
       " 166,\n",
       " 167,\n",
       " 168,\n",
       " 169,\n",
       " 170,\n",
       " 171,\n",
       " 172,\n",
       " 173,\n",
       " 174,\n",
       " 175,\n",
       " 176,\n",
       " 177,\n",
       " 178,\n",
       " 179,\n",
       " 180,\n",
       " 181,\n",
       " 182,\n",
       " 183,\n",
       " 184,\n",
       " 185,\n",
       " 186,\n",
       " 187,\n",
       " 188,\n",
       " 189,\n",
       " 190,\n",
       " 191,\n",
       " 192,\n",
       " 193,\n",
       " 194,\n",
       " 195,\n",
       " 196,\n",
       " 197,\n",
       " 198,\n",
       " 199,\n",
       " 200,\n",
       " 201,\n",
       " 202,\n",
       " 203,\n",
       " 204,\n",
       " 205,\n",
       " 206,\n",
       " 207,\n",
       " 208,\n",
       " 209,\n",
       " 210,\n",
       " 211,\n",
       " 212,\n",
       " 213,\n",
       " 214,\n",
       " 215,\n",
       " 216,\n",
       " 217,\n",
       " 218,\n",
       " 219,\n",
       " 220,\n",
       " 221,\n",
       " 222,\n",
       " 223,\n",
       " 224,\n",
       " 225,\n",
       " 226,\n",
       " 227,\n",
       " 228,\n",
       " 229,\n",
       " 230,\n",
       " 231,\n",
       " 232,\n",
       " 233,\n",
       " 234,\n",
       " 235,\n",
       " 236,\n",
       " 237,\n",
       " 238,\n",
       " 239,\n",
       " 240,\n",
       " 241,\n",
       " 242,\n",
       " 243,\n",
       " 244,\n",
       " 245,\n",
       " 246,\n",
       " 247,\n",
       " 248,\n",
       " 249,\n",
       " 250,\n",
       " 251,\n",
       " 252,\n",
       " 253,\n",
       " 254,\n",
       " 255,\n",
       " 256,\n",
       " 257,\n",
       " 258,\n",
       " 259,\n",
       " 260,\n",
       " 261,\n",
       " 262,\n",
       " 263,\n",
       " 264,\n",
       " 265,\n",
       " 266,\n",
       " 267,\n",
       " 268,\n",
       " 269,\n",
       " 270,\n",
       " 271,\n",
       " 272,\n",
       " 273,\n",
       " 274,\n",
       " 275,\n",
       " 276,\n",
       " 277,\n",
       " 278,\n",
       " 279,\n",
       " 280,\n",
       " 281,\n",
       " 282,\n",
       " 283,\n",
       " 284,\n",
       " 285,\n",
       " 286,\n",
       " 287,\n",
       " 288,\n",
       " 289,\n",
       " 290,\n",
       " 291,\n",
       " 292,\n",
       " 293,\n",
       " 294,\n",
       " 295,\n",
       " 296,\n",
       " 297,\n",
       " 298]"
      ]
     },
     "execution_count": 19,
     "metadata": {},
     "output_type": "execute_result"
    }
   ],
   "source": [
    "list(all_subjects)"
   ]
  },
  {
   "cell_type": "code",
   "execution_count": 27,
   "id": "e4552a69",
   "metadata": {},
   "outputs": [
    {
     "data": {
      "text/html": [
       "<div>\n",
       "<style scoped>\n",
       "    .dataframe tbody tr th:only-of-type {\n",
       "        vertical-align: middle;\n",
       "    }\n",
       "\n",
       "    .dataframe tbody tr th {\n",
       "        vertical-align: top;\n",
       "    }\n",
       "\n",
       "    .dataframe thead th {\n",
       "        text-align: right;\n",
       "    }\n",
       "</style>\n",
       "<table border=\"1\" class=\"dataframe\">\n",
       "  <thead>\n",
       "    <tr style=\"text-align: right;\">\n",
       "      <th></th>\n",
       "      <th>correct</th>\n",
       "      <th>RT</th>\n",
       "      <th>present</th>\n",
       "    </tr>\n",
       "  </thead>\n",
       "  <tbody>\n",
       "    <tr>\n",
       "      <th>0</th>\n",
       "      <td>1</td>\n",
       "      <td>1.257811</td>\n",
       "      <td>-1</td>\n",
       "    </tr>\n",
       "    <tr>\n",
       "      <th>1</th>\n",
       "      <td>1</td>\n",
       "      <td>1.777802</td>\n",
       "      <td>-1</td>\n",
       "    </tr>\n",
       "    <tr>\n",
       "      <th>2</th>\n",
       "      <td>1</td>\n",
       "      <td>1.735900</td>\n",
       "      <td>-1</td>\n",
       "    </tr>\n",
       "    <tr>\n",
       "      <th>3</th>\n",
       "      <td>1</td>\n",
       "      <td>1.634537</td>\n",
       "      <td>-1</td>\n",
       "    </tr>\n",
       "    <tr>\n",
       "      <th>4</th>\n",
       "      <td>1</td>\n",
       "      <td>1.322723</td>\n",
       "      <td>-1</td>\n",
       "    </tr>\n",
       "    <tr>\n",
       "      <th>5</th>\n",
       "      <td>1</td>\n",
       "      <td>1.102488</td>\n",
       "      <td>-1</td>\n",
       "    </tr>\n",
       "    <tr>\n",
       "      <th>6</th>\n",
       "      <td>1</td>\n",
       "      <td>1.348990</td>\n",
       "      <td>-1</td>\n",
       "    </tr>\n",
       "    <tr>\n",
       "      <th>7</th>\n",
       "      <td>1</td>\n",
       "      <td>1.127214</td>\n",
       "      <td>-1</td>\n",
       "    </tr>\n",
       "    <tr>\n",
       "      <th>8</th>\n",
       "      <td>1</td>\n",
       "      <td>2.531588</td>\n",
       "      <td>-1</td>\n",
       "    </tr>\n",
       "    <tr>\n",
       "      <th>9</th>\n",
       "      <td>1</td>\n",
       "      <td>1.338171</td>\n",
       "      <td>-1</td>\n",
       "    </tr>\n",
       "    <tr>\n",
       "      <th>10</th>\n",
       "      <td>1</td>\n",
       "      <td>1.814317</td>\n",
       "      <td>-1</td>\n",
       "    </tr>\n",
       "    <tr>\n",
       "      <th>11</th>\n",
       "      <td>1</td>\n",
       "      <td>1.091425</td>\n",
       "      <td>-1</td>\n",
       "    </tr>\n",
       "    <tr>\n",
       "      <th>12</th>\n",
       "      <td>1</td>\n",
       "      <td>1.082024</td>\n",
       "      <td>-1</td>\n",
       "    </tr>\n",
       "    <tr>\n",
       "      <th>13</th>\n",
       "      <td>1</td>\n",
       "      <td>1.441985</td>\n",
       "      <td>-1</td>\n",
       "    </tr>\n",
       "    <tr>\n",
       "      <th>14</th>\n",
       "      <td>1</td>\n",
       "      <td>1.490227</td>\n",
       "      <td>-1</td>\n",
       "    </tr>\n",
       "    <tr>\n",
       "      <th>15</th>\n",
       "      <td>1</td>\n",
       "      <td>1.256058</td>\n",
       "      <td>-1</td>\n",
       "    </tr>\n",
       "    <tr>\n",
       "      <th>16</th>\n",
       "      <td>1</td>\n",
       "      <td>1.035594</td>\n",
       "      <td>-1</td>\n",
       "    </tr>\n",
       "    <tr>\n",
       "      <th>17</th>\n",
       "      <td>1</td>\n",
       "      <td>1.250785</td>\n",
       "      <td>-1</td>\n",
       "    </tr>\n",
       "    <tr>\n",
       "      <th>18</th>\n",
       "      <td>1</td>\n",
       "      <td>1.562873</td>\n",
       "      <td>-1</td>\n",
       "    </tr>\n",
       "    <tr>\n",
       "      <th>19</th>\n",
       "      <td>1</td>\n",
       "      <td>1.094676</td>\n",
       "      <td>-1</td>\n",
       "    </tr>\n",
       "    <tr>\n",
       "      <th>20</th>\n",
       "      <td>1</td>\n",
       "      <td>1.823714</td>\n",
       "      <td>-1</td>\n",
       "    </tr>\n",
       "    <tr>\n",
       "      <th>21</th>\n",
       "      <td>1</td>\n",
       "      <td>1.135896</td>\n",
       "      <td>-1</td>\n",
       "    </tr>\n",
       "    <tr>\n",
       "      <th>22</th>\n",
       "      <td>1</td>\n",
       "      <td>1.820110</td>\n",
       "      <td>-1</td>\n",
       "    </tr>\n",
       "    <tr>\n",
       "      <th>23</th>\n",
       "      <td>1</td>\n",
       "      <td>1.070905</td>\n",
       "      <td>-1</td>\n",
       "    </tr>\n",
       "    <tr>\n",
       "      <th>24</th>\n",
       "      <td>1</td>\n",
       "      <td>1.077142</td>\n",
       "      <td>-1</td>\n",
       "    </tr>\n",
       "    <tr>\n",
       "      <th>25</th>\n",
       "      <td>1</td>\n",
       "      <td>1.152686</td>\n",
       "      <td>-1</td>\n",
       "    </tr>\n",
       "    <tr>\n",
       "      <th>26</th>\n",
       "      <td>1</td>\n",
       "      <td>1.878460</td>\n",
       "      <td>-1</td>\n",
       "    </tr>\n",
       "    <tr>\n",
       "      <th>27</th>\n",
       "      <td>1</td>\n",
       "      <td>1.300314</td>\n",
       "      <td>-1</td>\n",
       "    </tr>\n",
       "    <tr>\n",
       "      <th>28</th>\n",
       "      <td>1</td>\n",
       "      <td>1.017439</td>\n",
       "      <td>-1</td>\n",
       "    </tr>\n",
       "    <tr>\n",
       "      <th>29</th>\n",
       "      <td>0</td>\n",
       "      <td>1.161867</td>\n",
       "      <td>-1</td>\n",
       "    </tr>\n",
       "    <tr>\n",
       "      <th>30</th>\n",
       "      <td>0</td>\n",
       "      <td>0.170189</td>\n",
       "      <td>-1</td>\n",
       "    </tr>\n",
       "    <tr>\n",
       "      <th>31</th>\n",
       "      <td>0</td>\n",
       "      <td>2.396579</td>\n",
       "      <td>-1</td>\n",
       "    </tr>\n",
       "  </tbody>\n",
       "</table>\n",
       "</div>"
      ],
      "text/plain": [
       "    correct        RT  present\n",
       "0         1  1.257811       -1\n",
       "1         1  1.777802       -1\n",
       "2         1  1.735900       -1\n",
       "3         1  1.634537       -1\n",
       "4         1  1.322723       -1\n",
       "5         1  1.102488       -1\n",
       "6         1  1.348990       -1\n",
       "7         1  1.127214       -1\n",
       "8         1  2.531588       -1\n",
       "9         1  1.338171       -1\n",
       "10        1  1.814317       -1\n",
       "11        1  1.091425       -1\n",
       "12        1  1.082024       -1\n",
       "13        1  1.441985       -1\n",
       "14        1  1.490227       -1\n",
       "15        1  1.256058       -1\n",
       "16        1  1.035594       -1\n",
       "17        1  1.250785       -1\n",
       "18        1  1.562873       -1\n",
       "19        1  1.094676       -1\n",
       "20        1  1.823714       -1\n",
       "21        1  1.135896       -1\n",
       "22        1  1.820110       -1\n",
       "23        1  1.070905       -1\n",
       "24        1  1.077142       -1\n",
       "25        1  1.152686       -1\n",
       "26        1  1.878460       -1\n",
       "27        1  1.300314       -1\n",
       "28        1  1.017439       -1\n",
       "29        0  1.161867       -1\n",
       "30        0  0.170189       -1\n",
       "31        0  2.396579       -1"
      ]
     },
     "execution_count": 27,
     "metadata": {},
     "output_type": "execute_result"
    }
   ],
   "source": [
    "samp.to_pandas_dataframe()"
   ]
  }
 ],
 "metadata": {
  "kernelspec": {
   "display_name": "Python 3 (ipykernel)",
   "language": "python",
   "name": "python3"
  },
  "language_info": {
   "codemirror_mode": {
    "name": "ipython",
    "version": 3
   },
   "file_extension": ".py",
   "mimetype": "text/x-python",
   "name": "python",
   "nbconvert_exporter": "python",
   "pygments_lexer": "ipython3",
   "version": "3.9.7"
  }
 },
 "nbformat": 4,
 "nbformat_minor": 5
}
