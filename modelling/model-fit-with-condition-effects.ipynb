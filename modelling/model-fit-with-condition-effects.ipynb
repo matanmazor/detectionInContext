{
 "cells": [
  {
   "cell_type": "code",
   "execution_count": 1,
   "id": "ac632b69",
   "metadata": {},
   "outputs": [],
   "source": [
    "import matplotlib.pyplot as plt\n",
    "import scipy.stats as stats\n",
    "from pyddm import Model\n",
    "from pyddm import Sample\n",
    "import pyddm as ddm\n",
    "import numpy as np\n",
    "import pandas as pd\n",
    "import random\n",
    "import os\n",
    "import copy"
   ]
  },
  {
   "cell_type": "markdown",
   "id": "7a166a97",
   "metadata": {},
   "source": [
    "## Fit M1: basic model"
   ]
  },
  {
   "cell_type": "code",
   "execution_count": 2,
   "id": "398b9802",
   "metadata": {},
   "outputs": [],
   "source": [
    "from pyddm import InitialCondition,Fittable, Fitted\n",
    "from pyddm.models import Drift, Bound, LossRobustBIC, NoiseConstant, BoundConstant, OverlayChain, OverlayNonDecision, OverlayPoissonMixture\n",
    "from pyddm.functions import fit_adjust_model\n",
    "\n",
    "class ICPointSideBiasRatioC(InitialCondition):\n",
    "    name = \"A side-biased starting point expressed as a proportion of the distance between the bounds.\"\n",
    "    required_parameters = [\"x00\", \"x01\"]\n",
    "    required_conditions = [\"present\", \"condition\"]\n",
    "    def get_IC(self, x, dx, conditions):\n",
    "        x0 = (conditions['condition']*self.x01 + (1-conditions['condition'])*self.x00)/2 + .5 #rescale to between 0 and 1\n",
    "\n",
    "        # Bias > .5 for left side correct, bias < .5 for right side correct.\n",
    "        # On original scale, positive bias for left, negative for right\n",
    "        if not conditions['present']==1:\n",
    "            x0 = 1-x0\n",
    "        shift_i = int((len(x)-1)*x0)\n",
    "        assert shift_i >= 0 and shift_i < len(x), \"Invalid initial conditions\"\n",
    "        pdf = np.zeros(len(x))\n",
    "        pdf[shift_i] = 1. # Initial condition at x=x0*2*B.\n",
    "        return pdf\n",
    "    \n",
    "class DriftPresentC(ddm.models.Drift):\n",
    "    name = \"Drift depends on target presence\"\n",
    "    required_parameters = [\"driftpresent0\",\"driftabsent0\", \"driftpresent1\",\"driftabsent1\"] # <-- Parameters we want to include in the model\n",
    "    required_conditions = [\"present\", \"condition\"] # <-- Task parameters (\"conditions\"). Should be the same name as in the sample.\n",
    "    # We must always define the get_drift function, which is used to compute the instantaneous value of drift.\n",
    "    def get_drift(self, conditions, **kwargs):\n",
    "        driftpresent = [self.driftpresent0, self.driftpresent1][int(conditions['condition'])]\n",
    "        driftabsent = [self.driftabsent0, self.driftabsent1][int(conditions['condition'])]\n",
    "        # so that driftabsent values are normally negative\n",
    "        return driftpresent * conditions['present'] - driftabsent * (1-conditions['present'])\n",
    "\n",
    "class BoundC(Bound):\n",
    "    name = \"Boundary by condition\"\n",
    "    required_parameters = [\"B0\", \"B1\"]\n",
    "    required_conditions = [\"condition\"]\n",
    "    def get_bound(self, t, conditions, **kwargs):\n",
    "        return conditions['condition']*self.B1 + (1-conditions['condition'])*self.B0\n",
    "                                                  \n",
    "class OverlayNonDecisionC(OverlayNonDecision):\n",
    "    name = \"Non-decision time by condition\"\n",
    "    required_parameters = [\"nondectime0\", \"nondectime1\"]\n",
    "    required_conditions = [\"condition\"] # Side coded as 0=L or 1=R\n",
    "    def get_nondecision_time(self, conditions):\n",
    "        return conditions['condition']*self.nondectime0 + (1-conditions['condition'])*self.nondectime1\n",
    "\n"
   ]
  },
  {
   "cell_type": "code",
   "execution_count": 33,
   "id": "cc6048ad",
   "metadata": {},
   "outputs": [
    {
     "name": "stderr",
     "output_type": "stream",
     "text": [
      "Warning: dt is large.  Estimated pdfs may be imprecise.  Decrease dt to 0.01 or less.\n"
     ]
    },
    {
     "name": "stdout",
     "output_type": "stream",
     "text": [
      "1\n"
     ]
    },
    {
     "name": "stderr",
     "output_type": "stream",
     "text": [
      "Info: Params [ 0.29195065 -1.52399571  0.         -2.22402815  0.69780503  0.6512712\n",
      "  0.35838543  0.41673261  0.62052341  0.51563228] gave 116.81331269994428\n"
     ]
    },
    {
     "name": "stdout",
     "output_type": "stream",
     "text": [
      "2\n"
     ]
    },
    {
     "name": "stderr",
     "output_type": "stream",
     "text": [
      "Info: Params [ 0.         -1.1555448   0.         -1.52428748  0.91918736  0.91921042\n",
      "  0.23828316  0.36157191  0.83285918  0.95784483] gave 185.54241348545816\n"
     ]
    },
    {
     "name": "stdout",
     "output_type": "stream",
     "text": [
      "3\n"
     ]
    },
    {
     "name": "stderr",
     "output_type": "stream",
     "text": [
      "Info: Params [ 0.52189163 -0.30570249  1.58851526 -1.04997442  0.79932362  0.86236482\n",
      " -0.04238611  0.01385196  0.90247093  0.91006113] gave 152.42035031618093\n"
     ]
    },
    {
     "name": "stdout",
     "output_type": "stream",
     "text": [
      "4\n"
     ]
    },
    {
     "name": "stderr",
     "output_type": "stream",
     "text": [
      "Info: Params [ 0.5510719  -1.48944425  0.         -1.41891595  0.99116978  1.14516895\n",
      "  0.32300693  0.6101313   0.86662195  0.91210853] gave 159.83709792995796\n"
     ]
    },
    {
     "name": "stdout",
     "output_type": "stream",
     "text": [
      "5\n"
     ]
    },
    {
     "name": "stderr",
     "output_type": "stream",
     "text": [
      "Info: Params [ 0.         -0.38319678  0.         -0.95442895  0.49255499  0.45071084\n",
      "  0.36515621  0.23484608  0.88394117  0.88325602] gave 100.17052334073631\n"
     ]
    },
    {
     "name": "stdout",
     "output_type": "stream",
     "text": [
      "6\n"
     ]
    },
    {
     "name": "stderr",
     "output_type": "stream",
     "text": [
      "Info: Params [ 0.24562456 -1.89156756  0.78513494 -1.58147289  1.09295832  1.07689427\n",
      "  0.26929175  0.25405056  0.9245955   0.92921089] gave 158.66050875803842\n"
     ]
    },
    {
     "name": "stdout",
     "output_type": "stream",
     "text": [
      "7\n"
     ]
    },
    {
     "name": "stderr",
     "output_type": "stream",
     "text": [
      "Info: Params [ 0.30647556 -1.381859    0.97142957 -0.39943812  1.19426088  0.95068316\n",
      "  0.09518934  0.07038124  0.97061426  0.94751697] gave 197.77829374083643\n"
     ]
    },
    {
     "name": "stdout",
     "output_type": "stream",
     "text": [
      "8\n"
     ]
    },
    {
     "name": "stderr",
     "output_type": "stream",
     "text": [
      "Info: Params [ 0.         -1.56187179  0.25074202 -1.807981    0.89959451  1.01871002\n",
      "  0.43902221  0.66031041  0.60297185  0.74914162] gave 148.52613944296752\n"
     ]
    },
    {
     "name": "stdout",
     "output_type": "stream",
     "text": [
      "9\n"
     ]
    },
    {
     "name": "stderr",
     "output_type": "stream",
     "text": [
      "Info: Params [ 0.51681232 -1.15945766  0.00248884 -1.40024825  0.65431245  0.82698329\n",
      "  0.35727989  0.29890043  0.90535442  0.96121635] gave 151.55322619970275\n"
     ]
    },
    {
     "name": "stdout",
     "output_type": "stream",
     "text": [
      "10\n"
     ]
    },
    {
     "name": "stderr",
     "output_type": "stream",
     "text": [
      "Info: Params [ 0.79918737 -0.71172069  0.25101397 -1.23692605  1.45149492  1.40072755\n",
      "  0.02916705  0.35308184  0.95212253  0.81659147] gave 220.53665055221688\n"
     ]
    },
    {
     "name": "stdout",
     "output_type": "stream",
     "text": [
      "11\n"
     ]
    },
    {
     "name": "stderr",
     "output_type": "stream",
     "text": [
      "Info: Params [ 0.52070678 -1.28299693  0.31780317 -2.24552045  0.98268814  1.25997573\n",
      "  0.40334075  0.57306397  0.8088302   0.93638069] gave 159.96586777918586\n"
     ]
    },
    {
     "name": "stdout",
     "output_type": "stream",
     "text": [
      "12\n"
     ]
    },
    {
     "name": "stderr",
     "output_type": "stream",
     "text": [
      "Info: Params [ 0.29959838 -0.56356801  1.59140457 -0.14607574  0.88621059  0.92148447\n",
      "  0.11488229  0.29143337  0.51163456  0.63465399] gave 173.9607980223691\n"
     ]
    },
    {
     "name": "stdout",
     "output_type": "stream",
     "text": [
      "13\n"
     ]
    },
    {
     "name": "stderr",
     "output_type": "stream",
     "text": [
      "Info: Params [ 0.34244491 -1.26163475  0.04245406 -0.6664143   2.1133155   1.6447715\n",
      "  0.42559164  0.37575897  0.93490404  0.93616686] gave 270.81663903681687\n"
     ]
    },
    {
     "name": "stdout",
     "output_type": "stream",
     "text": [
      "14\n"
     ]
    },
    {
     "name": "stderr",
     "output_type": "stream",
     "text": [
      "Info: Params [ 0.         -1.06115669  0.77872043 -0.84523322  1.24285738  0.99720329\n",
      "  0.31511313  0.317334    0.96205182  0.83455056] gave 222.62012829110418\n"
     ]
    },
    {
     "name": "stdout",
     "output_type": "stream",
     "text": [
      "15\n"
     ]
    },
    {
     "name": "stderr",
     "output_type": "stream",
     "text": [
      "Info: Params [ 0.06322982 -1.48297129  0.40478857 -0.89939719  1.16879783  1.19924595\n",
      "  0.51185353  0.46079716  0.70733586  0.75805316] gave 224.70894031638196\n"
     ]
    },
    {
     "name": "stdout",
     "output_type": "stream",
     "text": [
      "16\n"
     ]
    },
    {
     "name": "stderr",
     "output_type": "stream",
     "text": [
      "Info: Params [ 0.         -1.53976194  0.15854223 -1.27676474  0.94374868  1.15294219\n",
      "  0.51076296  0.54755291  0.97776641  0.81411632] gave 178.01130508237736\n"
     ]
    },
    {
     "name": "stdout",
     "output_type": "stream",
     "text": [
      "17\n"
     ]
    },
    {
     "name": "stderr",
     "output_type": "stream",
     "text": [
      "Info: Params [ 0.11680897 -2.27399098  0.         -2.12349368  1.16945888  0.95678294\n",
      "  0.34907084  0.58367907  0.96215365  0.94718952] gave 151.72801526534403\n"
     ]
    },
    {
     "name": "stdout",
     "output_type": "stream",
     "text": [
      "18\n"
     ]
    },
    {
     "name": "stderr",
     "output_type": "stream",
     "text": [
      "Info: Params [ 0.         -1.11937105  0.46970108 -0.8054533   1.27775243  1.40129988\n",
      "  0.16929559  0.32583195  0.97174231  0.9942708 ] gave 262.1453057312962\n"
     ]
    },
    {
     "name": "stdout",
     "output_type": "stream",
     "text": [
      "19\n"
     ]
    },
    {
     "name": "stderr",
     "output_type": "stream",
     "text": [
      "Info: Params [ 0.91905542 -0.00498054  0.04082282 -1.23949975  1.09685314  0.93984977\n",
      " -0.06207467  0.09856519  0.97027996  0.87605665] gave 216.73134917372775\n"
     ]
    },
    {
     "name": "stdout",
     "output_type": "stream",
     "text": [
      "20\n"
     ]
    },
    {
     "name": "stderr",
     "output_type": "stream",
     "text": [
      "Info: Params [ 0.23044786 -1.32656407  1.20455894 -0.96379029  0.64481181  0.73403014\n",
      "  0.35317802  0.41139317  0.67710585  0.74415466] gave 116.88213416592711\n"
     ]
    },
    {
     "name": "stdout",
     "output_type": "stream",
     "text": [
      "21\n"
     ]
    },
    {
     "name": "stderr",
     "output_type": "stream",
     "text": [
      "Info: Params [ 0.         -1.63629922  0.         -1.69294323  1.15162006  0.95573625\n",
      "  0.39500598  0.26812435  0.98661294  0.96919854] gave 167.50222774279774\n"
     ]
    },
    {
     "name": "stdout",
     "output_type": "stream",
     "text": [
      "22\n"
     ]
    },
    {
     "name": "stderr",
     "output_type": "stream",
     "text": [
      "Info: Params [ 0.         -1.78128785  0.14412196 -1.4153023   1.05268165  0.86028674\n",
      "  0.43159001  0.22780078  0.85960372  0.887234  ] gave 166.0940959170912\n"
     ]
    },
    {
     "name": "stdout",
     "output_type": "stream",
     "text": [
      "23\n"
     ]
    },
    {
     "name": "stderr",
     "output_type": "stream",
     "text": [
      "Info: Params [ 1.08196154 -0.82037084  0.31487746 -0.52904361  0.98747674  0.92664612\n",
      " -0.04511474  0.18411131  0.98816886  0.94369133] gave 197.70360904370736\n"
     ]
    },
    {
     "name": "stdout",
     "output_type": "stream",
     "text": [
      "24\n"
     ]
    },
    {
     "name": "stderr",
     "output_type": "stream",
     "text": [
      "Info: Params [ 0.34234309 -0.82349375  1.56888768 -0.87506645  0.98097993  0.75905388\n",
      "  0.44852746  0.23789736  0.62594155  0.6326558 ] gave 157.12414955850466\n"
     ]
    },
    {
     "name": "stdout",
     "output_type": "stream",
     "text": [
      "25\n"
     ]
    },
    {
     "name": "stderr",
     "output_type": "stream",
     "text": [
      "Info: Params [ 0.         -0.63074377  0.94400366 -0.69020424  1.41549379  1.51892141\n",
      "  0.16472168  0.14954442  0.95383135  0.93490707] gave 249.55416369490976\n"
     ]
    },
    {
     "name": "stdout",
     "output_type": "stream",
     "text": [
      "26\n"
     ]
    },
    {
     "name": "stderr",
     "output_type": "stream",
     "text": [
      "Info: Params [ 0.         -0.73246835  0.67873777 -0.94344345  1.81327936  1.74910312\n",
      "  0.17359185  0.34813307  0.92166923  0.92191551] gave 264.56380876206555\n"
     ]
    },
    {
     "name": "stdout",
     "output_type": "stream",
     "text": [
      "27\n"
     ]
    },
    {
     "name": "stderr",
     "output_type": "stream",
     "text": [
      "Info: Params [ 0.         -1.68727786  0.21943583 -1.51406775  1.05283611  0.98240452\n",
      "  0.31060776  0.30041875  0.74293511  0.70567466] gave 187.41783246763578\n"
     ]
    },
    {
     "name": "stdout",
     "output_type": "stream",
     "text": [
      "28\n"
     ]
    },
    {
     "name": "stderr",
     "output_type": "stream",
     "text": [
      "Info: Params [ 0.51696976 -0.98336404  1.08090789 -0.48109896  0.97588882  0.7963771\n",
      "  0.27189588  0.15814632  0.8703609   0.78010631] gave 178.5026849153396\n"
     ]
    },
    {
     "name": "stdout",
     "output_type": "stream",
     "text": [
      "29\n"
     ]
    },
    {
     "name": "stderr",
     "output_type": "stream",
     "text": [
      "Info: Params [ 0.66078336 -0.98372182  0.29805294 -0.47479328  0.87788458  1.07342107\n",
      "  0.18220853  0.19031115  0.83221918  0.96337244] gave 217.92380651684846\n"
     ]
    },
    {
     "name": "stdout",
     "output_type": "stream",
     "text": [
      "30\n"
     ]
    },
    {
     "name": "stderr",
     "output_type": "stream",
     "text": [
      "Info: Params [ 0.22184144 -1.40681422  0.1138101  -1.48960093  0.88471102  1.21092462\n",
      "  0.07661735  0.3470656   0.70202382  0.87168045] gave 223.74175066747193\n"
     ]
    },
    {
     "name": "stdout",
     "output_type": "stream",
     "text": [
      "31\n"
     ]
    },
    {
     "name": "stderr",
     "output_type": "stream",
     "text": [
      "Info: Params [ 0.         -1.49210117  0.29839974 -0.9938351   1.71000174  1.41393\n",
      "  0.03774333  0.22244958  0.72345478  0.98901924] gave 212.74293388555046\n"
     ]
    },
    {
     "name": "stdout",
     "output_type": "stream",
     "text": [
      "32\n"
     ]
    },
    {
     "name": "stderr",
     "output_type": "stream",
     "text": [
      "Info: Params [ 0.65753295 -0.96165656  0.         -2.14372818  0.79886752  1.01725592\n",
      "  0.36234473  0.37181452  0.77389567  0.87966868] gave 157.81719497967052\n"
     ]
    },
    {
     "name": "stdout",
     "output_type": "stream",
     "text": [
      "33\n"
     ]
    },
    {
     "name": "stderr",
     "output_type": "stream",
     "text": [
      "Info: Params [ 0.80499283 -1.05140153  0.27406446 -1.12774848  0.87931856  0.84035484\n",
      "  0.40230109  0.45307061  0.67304018  0.786249  ] gave 145.27097703611344\n"
     ]
    },
    {
     "name": "stdout",
     "output_type": "stream",
     "text": [
      "34\n"
     ]
    },
    {
     "name": "stderr",
     "output_type": "stream",
     "text": [
      "Info: Params [ 0.62749205 -0.78537115  0.37921421 -0.45415791  1.15426928  0.87489261\n",
      "  0.14222534  0.10282807  0.81333624  0.76901128] gave 236.51231065141735\n"
     ]
    },
    {
     "name": "stdout",
     "output_type": "stream",
     "text": [
      "35\n"
     ]
    },
    {
     "name": "stderr",
     "output_type": "stream",
     "text": [
      "Info: Params [ 0.         -1.29764063  0.         -1.033103    1.60710021  1.44171359\n",
      "  0.33988377  0.12205344  0.91112372  0.98203312] gave 226.51968565462755\n"
     ]
    },
    {
     "name": "stdout",
     "output_type": "stream",
     "text": [
      "36\n"
     ]
    },
    {
     "name": "stderr",
     "output_type": "stream",
     "text": [
      "Info: Params [ 0.06399159 -1.82989005  0.18296259 -1.10790572  0.92271157  0.95848196\n",
      "  0.4450577   0.28328844  0.95356521  0.92107741] gave 163.47980482405808\n"
     ]
    },
    {
     "name": "stdout",
     "output_type": "stream",
     "text": [
      "37\n"
     ]
    },
    {
     "name": "stderr",
     "output_type": "stream",
     "text": [
      "Info: Params [ 0.09232781 -0.81019749  0.17161177 -1.35552145  1.03891413  1.07617228\n",
      "  0.17846797  0.32628305  0.93714694  0.98577735] gave 225.5544786908192\n"
     ]
    },
    {
     "name": "stdout",
     "output_type": "stream",
     "text": [
      "38\n"
     ]
    },
    {
     "name": "stderr",
     "output_type": "stream",
     "text": [
      "Info: Params [ 0.34593406 -0.09857223  0.03765493 -0.67949202  0.74703684  0.92763515\n",
      " -0.10944513  0.46275297  0.54950355  0.59038468] gave 210.639235533055\n"
     ]
    },
    {
     "name": "stdout",
     "output_type": "stream",
     "text": [
      "39\n"
     ]
    },
    {
     "name": "stderr",
     "output_type": "stream",
     "text": [
      "Info: Params [ 0.27797515 -0.72235924  0.         -0.51879685  1.3774116   1.29364123\n",
      "  0.44809445  0.30569236  0.99853476  0.97362182] gave 240.79968143863817\n"
     ]
    },
    {
     "name": "stdout",
     "output_type": "stream",
     "text": [
      "40\n"
     ]
    },
    {
     "name": "stderr",
     "output_type": "stream",
     "text": [
      "Info: Params [ 0.         -2.15687342  1.13458036 -0.87854362  0.88063507  0.90017011\n",
      "  0.56119996  0.31299787  0.81494012  0.91869946] gave 138.33829216477466\n"
     ]
    },
    {
     "name": "stdout",
     "output_type": "stream",
     "text": [
      "41\n"
     ]
    },
    {
     "name": "stderr",
     "output_type": "stream",
     "text": [
      "Info: Params [ 0.39959944 -0.5848374   0.0945141  -1.03908431  1.91672765  2.11710235\n",
      "  0.26928418  0.60202077  0.736363    0.82181987] gave 271.1011999569049\n"
     ]
    },
    {
     "name": "stdout",
     "output_type": "stream",
     "text": [
      "42\n"
     ]
    },
    {
     "name": "stderr",
     "output_type": "stream",
     "text": [
      "Info: Params [ 0.         -1.27769189  0.         -1.23684142  1.54753863  1.4692173\n",
      "  0.49112992  0.58994895  0.74830917  0.72930173] gave 240.71770934344454\n"
     ]
    },
    {
     "name": "stdout",
     "output_type": "stream",
     "text": [
      "43\n"
     ]
    },
    {
     "name": "stderr",
     "output_type": "stream",
     "text": [
      "Info: Params [ 0.13060788 -0.68919226  1.12819779 -0.45872013  1.53560852  1.40011477\n",
      "  0.44353855  0.09582761  0.83273009  0.92682253] gave 223.49042352255933\n"
     ]
    },
    {
     "name": "stdout",
     "output_type": "stream",
     "text": [
      "44\n"
     ]
    },
    {
     "name": "stderr",
     "output_type": "stream",
     "text": [
      "Info: Params [ 0.         -1.72662004  0.         -1.70092894  1.2289025   1.31738313\n",
      "  0.34618544  0.42971688  0.74704964  0.8879725 ] gave 219.67605873064167\n"
     ]
    },
    {
     "name": "stdout",
     "output_type": "stream",
     "text": [
      "45\n"
     ]
    },
    {
     "name": "stderr",
     "output_type": "stream",
     "text": [
      "Info: Params [ 1.0999303  -0.5582214   0.61011864 -0.14179159  1.30605131  1.18598515\n",
      " -0.01695447 -0.09451402  0.81241688  0.87848169] gave 252.09618352573403\n"
     ]
    },
    {
     "name": "stdout",
     "output_type": "stream",
     "text": [
      "46\n"
     ]
    },
    {
     "name": "stderr",
     "output_type": "stream",
     "text": [
      "Info: Params [ 0.         -0.54391718  0.72436709 -0.60256409  1.69636049  1.88175297\n",
      "  0.14741234 -0.2150841   0.95123398  0.96928873] gave 252.68434139721745\n"
     ]
    },
    {
     "name": "stdout",
     "output_type": "stream",
     "text": [
      "47\n"
     ]
    },
    {
     "name": "stderr",
     "output_type": "stream",
     "text": [
      "Info: Params [ 0.29049235 -1.61645507  0.95917825 -2.43554082  0.59327869  0.67645747\n",
      "  0.23412021  0.6989805   0.70307121  0.75066821] gave 71.7138445574154\n"
     ]
    },
    {
     "name": "stdout",
     "output_type": "stream",
     "text": [
      "48\n"
     ]
    },
    {
     "name": "stderr",
     "output_type": "stream",
     "text": [
      "Info: Params [ 0.28998879 -0.35709755  0.         -1.15484629  1.38907915  1.42524706\n",
      "  0.17420044  0.50157855  0.45015981  0.68458864] gave 227.0499083327669\n"
     ]
    },
    {
     "name": "stdout",
     "output_type": "stream",
     "text": [
      "49\n"
     ]
    },
    {
     "name": "stderr",
     "output_type": "stream",
     "text": [
      "Info: Params [ 0.44596385 -1.06009246  0.27197601 -1.64388063  1.18756205  1.14726469\n",
      "  0.2447072   0.1887851   0.97324566  0.98507889] gave 200.77936678405263\n"
     ]
    },
    {
     "name": "stdout",
     "output_type": "stream",
     "text": [
      "50\n"
     ]
    },
    {
     "name": "stderr",
     "output_type": "stream",
     "text": [
      "Info: Params [ 0.18286266 -0.01425671  0.32825466 -0.29770425  1.19376465  1.00698033\n",
      "  0.18995991  0.06749087  0.97038177  0.92624913] gave 246.6863102314788\n"
     ]
    },
    {
     "name": "stdout",
     "output_type": "stream",
     "text": [
      "51\n"
     ]
    },
    {
     "name": "stderr",
     "output_type": "stream",
     "text": [
      "Info: Params [ 0.         -1.17683608  0.         -1.03159315  0.90635564  1.00758584\n",
      "  0.28184176  0.18628435  0.94912543  0.97613857] gave 192.9171474916487\n"
     ]
    },
    {
     "name": "stdout",
     "output_type": "stream",
     "text": [
      "52\n"
     ]
    },
    {
     "name": "stderr",
     "output_type": "stream",
     "text": [
      "Info: Params [ 0.59792307 -0.61243773  0.89719901 -0.12597601  1.42415471  1.31967741\n",
      "  0.12435468 -0.09318563  0.771094    0.96714408] gave 255.28971708398805\n"
     ]
    },
    {
     "name": "stdout",
     "output_type": "stream",
     "text": [
      "53\n"
     ]
    },
    {
     "name": "stderr",
     "output_type": "stream",
     "text": [
      "Info: Params [ 0.45527979 -1.00252567  0.22157946 -0.70577637  1.28601472  1.28369938\n",
      "  0.36172652  0.53651847  0.80906074  0.85404054] gave 231.38705468371154\n"
     ]
    },
    {
     "name": "stdout",
     "output_type": "stream",
     "text": [
      "54\n"
     ]
    },
    {
     "name": "stderr",
     "output_type": "stream",
     "text": [
      "Info: Params [ 0.         -0.66515123  0.         -1.05020115  1.17331829  1.28644646\n",
      "  0.27626703  0.37218205  0.90368851  0.99583827] gave 261.48550503037274\n"
     ]
    },
    {
     "name": "stdout",
     "output_type": "stream",
     "text": [
      "55\n"
     ]
    },
    {
     "name": "stderr",
     "output_type": "stream",
     "text": [
      "Info: Params [ 0.30554744 -0.87108209  0.06495076 -0.89695352  1.31930676  1.31759786\n",
      "  0.24579996  0.32194537  0.92477484  0.94830052] gave 252.89047034774433\n"
     ]
    },
    {
     "name": "stdout",
     "output_type": "stream",
     "text": [
      "56\n"
     ]
    },
    {
     "name": "stderr",
     "output_type": "stream",
     "text": [
      "Info: Params [ 0.40573883 -0.6805132   2.00496113 -0.94105314  0.59765905  0.93602591\n",
      " -0.10123533  0.15778902  0.57160893  0.77661798] gave 122.58332888077405\n"
     ]
    },
    {
     "name": "stdout",
     "output_type": "stream",
     "text": [
      "57\n"
     ]
    },
    {
     "name": "stderr",
     "output_type": "stream",
     "text": [
      "Info: Params [ 0.28601018 -1.69482965  1.39969872 -2.54009945  0.56662342  0.66848411\n",
      "  0.32686132  0.55588976  0.59350965  0.52010126] gave 64.18320001717234\n"
     ]
    },
    {
     "name": "stdout",
     "output_type": "stream",
     "text": [
      "58\n"
     ]
    },
    {
     "name": "stderr",
     "output_type": "stream",
     "text": [
      "Info: Params [ 0.1762898  -0.27229884  0.04023617 -0.98418174  1.49822669  1.77762835\n",
      "  0.11122841  0.42080599  0.51642057  0.54769574] gave 301.8730866841823\n"
     ]
    },
    {
     "name": "stdout",
     "output_type": "stream",
     "text": [
      "59\n"
     ]
    },
    {
     "name": "stderr",
     "output_type": "stream",
     "text": [
      "Info: Params [ 0.38927883 -0.91697917  0.         -0.65221913  1.38120863  1.29541226\n",
      "  0.67409826  0.57593546  0.62438576  0.72993249] gave 238.2778032048793\n"
     ]
    },
    {
     "name": "stdout",
     "output_type": "stream",
     "text": [
      "60\n"
     ]
    },
    {
     "name": "stderr",
     "output_type": "stream",
     "text": [
      "Info: Params [ 0.39618585 -0.96116368  0.38376114 -1.06015146  0.95917707  1.05529149\n",
      "  0.01397835  0.0726697   0.92563633  0.97708034] gave 203.46022879826467\n"
     ]
    },
    {
     "name": "stdout",
     "output_type": "stream",
     "text": [
      "61\n"
     ]
    },
    {
     "name": "stderr",
     "output_type": "stream",
     "text": [
      "Info: Params [ 0.57265037 -1.47654598  0.04871828 -1.34932522  1.12718881  0.92626808\n",
      "  0.33062581  0.27434465  0.99116116  0.95378603] gave 182.40668016753992\n"
     ]
    },
    {
     "name": "stdout",
     "output_type": "stream",
     "text": [
      "62\n"
     ]
    },
    {
     "name": "stderr",
     "output_type": "stream",
     "text": [
      "Info: Params [ 0.38055016 -1.15246223  0.28401655 -1.15466367  1.12084902  1.23429978\n",
      "  0.38474838  0.55914366  0.82805208  0.82418613] gave 223.71122062902666\n"
     ]
    },
    {
     "name": "stdout",
     "output_type": "stream",
     "text": [
      "63\n"
     ]
    },
    {
     "name": "stderr",
     "output_type": "stream",
     "text": [
      "Info: Params [10.         -0.62772409  0.41405311 -0.52572533  0.69129065  0.81266325\n",
      " -0.04661981  0.23325495  0.61060969  0.86477434] gave 159.01910731565079\n"
     ]
    },
    {
     "name": "stdout",
     "output_type": "stream",
     "text": [
      "64\n"
     ]
    },
    {
     "name": "stderr",
     "output_type": "stream",
     "text": [
      "Info: Params [ 0.15055733 -0.2311514   4.83354375 -2.61606925  1.23163046  2.48530305\n",
      "  0.24710933  0.57306763  0.83406654  0.90131489] gave 197.23027901185122\n"
     ]
    },
    {
     "name": "stdout",
     "output_type": "stream",
     "text": [
      "65\n"
     ]
    },
    {
     "name": "stderr",
     "output_type": "stream",
     "text": [
      "Info: Params [ 0.10645048 -1.25045779  1.32297568 -0.29100204  1.27485661  1.05536076\n",
      "  0.41615819  0.18157014  0.78724565  0.94747052] gave 205.34134367714074\n"
     ]
    },
    {
     "name": "stdout",
     "output_type": "stream",
     "text": [
      "66\n"
     ]
    },
    {
     "name": "stderr",
     "output_type": "stream",
     "text": [
      "Info: Params [ 0.         -0.7222298   0.3579915  -1.14332919  1.47743792  1.40662372\n",
      "  0.36182075  0.56188063  0.8668016   0.64040332] gave 260.5012730277752\n"
     ]
    },
    {
     "name": "stdout",
     "output_type": "stream",
     "text": [
      "67\n"
     ]
    },
    {
     "name": "stderr",
     "output_type": "stream",
     "text": [
      "Info: Params [ 0.         -1.87867271  0.56920484 -0.73933058  1.37595901  1.19022968\n",
      "  0.2553312   0.18775016  0.90882567  0.93689187] gave 209.4190128625981\n"
     ]
    },
    {
     "name": "stdout",
     "output_type": "stream",
     "text": [
      "68\n"
     ]
    },
    {
     "name": "stderr",
     "output_type": "stream",
     "text": [
      "Info: Params [ 0.11800728 -0.57657995  0.42136003 -0.52957705  0.77629646  0.75570519\n",
      "  0.3287153   0.19701173  0.74383734  0.75135804] gave 185.6805730900386\n"
     ]
    },
    {
     "name": "stdout",
     "output_type": "stream",
     "text": [
      "69\n"
     ]
    },
    {
     "name": "stderr",
     "output_type": "stream",
     "text": [
      "Info: Params [ 0.         -1.43441335  0.         -0.94221207  0.99140832  1.08039104\n",
      "  0.53430363  0.38738043  0.71678043  0.83414076] gave 202.72479125986393\n"
     ]
    },
    {
     "name": "stdout",
     "output_type": "stream",
     "text": [
      "70\n"
     ]
    },
    {
     "name": "stderr",
     "output_type": "stream",
     "text": [
      "Info: Params [ 0.         -1.64445508  1.09031856 -1.32659647  0.9333208   0.9980374\n",
      "  0.30402069  0.35126746  0.62649528  0.60355067] gave 155.23335573767827\n"
     ]
    },
    {
     "name": "stdout",
     "output_type": "stream",
     "text": [
      "71\n"
     ]
    },
    {
     "name": "stderr",
     "output_type": "stream",
     "text": [
      "Info: Params [ 0.72923953 -0.21879076  0.         -0.66617351  1.28568647  1.27273157\n",
      "  0.39293575  0.28947935  0.49284842  0.4290336 ] gave 270.56567528388433\n"
     ]
    },
    {
     "name": "stdout",
     "output_type": "stream",
     "text": [
      "72\n"
     ]
    },
    {
     "name": "stderr",
     "output_type": "stream",
     "text": [
      "Info: Params [ 0.40543523 -1.09175372  1.92111307 -0.8049517   0.89103507  0.84228765\n",
      "  0.19177383  0.18530654  0.84889531  0.94543954] gave 153.32572759826968\n"
     ]
    },
    {
     "name": "stdout",
     "output_type": "stream",
     "text": [
      "73\n"
     ]
    },
    {
     "name": "stderr",
     "output_type": "stream",
     "text": [
      "Info: Params [ 0.26183724 -0.67009532  0.41796655 -0.88287828  1.63462445  1.95753937\n",
      "  0.3392163   0.28263598  0.95483593  0.93660076] gave 272.2870069203332\n"
     ]
    },
    {
     "name": "stdout",
     "output_type": "stream",
     "text": [
      "74\n"
     ]
    },
    {
     "name": "stderr",
     "output_type": "stream",
     "text": [
      "Info: Params [ 1.79312907 -2.18904749  0.91596978 -1.316765    0.36290782  0.478588\n",
      "  0.11918742  0.17078259  0.76217073  0.86209528] gave 27.18767630575841\n"
     ]
    },
    {
     "name": "stdout",
     "output_type": "stream",
     "text": [
      "75\n"
     ]
    },
    {
     "name": "stderr",
     "output_type": "stream",
     "text": [
      "Info: Params [ 0.22586452 -1.16607416  0.         -1.048315    0.67979397  0.74791116\n",
      "  0.19910931  0.16350872  0.74323548  0.84028874] gave 142.83295013436995\n"
     ]
    },
    {
     "name": "stdout",
     "output_type": "stream",
     "text": [
      "76\n"
     ]
    },
    {
     "name": "stderr",
     "output_type": "stream",
     "text": [
      "Info: Params [ 0.58991705 -1.04506842  0.79536015 -1.32371464  0.67851573  0.73654885\n",
      "  0.10073679  0.22851347  0.60716556  0.71917418] gave 125.89925711951012\n"
     ]
    },
    {
     "name": "stdout",
     "output_type": "stream",
     "text": [
      "77\n"
     ]
    },
    {
     "name": "stderr",
     "output_type": "stream",
     "text": [
      "Info: Params [ 0.02204896 -1.63093802  0.         -1.23023139  1.15101509  1.0469335\n",
      "  0.57128209  0.37707741  0.88397577  0.96309107] gave 184.31391690587915\n"
     ]
    },
    {
     "name": "stdout",
     "output_type": "stream",
     "text": [
      "78\n"
     ]
    },
    {
     "name": "stderr",
     "output_type": "stream",
     "text": [
      "Info: Params [ 0.14225265 -0.61883214  0.         -0.64153779  0.9906111   0.71628935\n",
      "  0.35523394  0.33254411  0.81467988  0.62063501] gave 199.77290185905133\n"
     ]
    },
    {
     "name": "stdout",
     "output_type": "stream",
     "text": [
      "79\n"
     ]
    },
    {
     "name": "stderr",
     "output_type": "stream",
     "text": [
      "Info: Params [ 0.70412818 -0.34318601  0.036375   -0.58365844  1.4601115   1.16435774\n",
      " -0.01073396  0.21858251  0.54010918  0.59008967] gave 275.71534811454177\n"
     ]
    },
    {
     "name": "stdout",
     "output_type": "stream",
     "text": [
      "80\n"
     ]
    },
    {
     "name": "stderr",
     "output_type": "stream",
     "text": [
      "Info: Params [ 0.         -0.71111399  0.57521475 -0.5228966   1.60366895  1.59233236\n",
      "  0.26933734  0.14062857  0.85759218  0.93615904] gave 274.7337244940618\n"
     ]
    },
    {
     "name": "stdout",
     "output_type": "stream",
     "text": [
      "81\n"
     ]
    },
    {
     "name": "stderr",
     "output_type": "stream",
     "text": [
      "Info: Params [ 0.14897714 -1.47183143  0.5411059  -2.09071252  0.73040264  0.88079575\n",
      "  0.28992558  0.61729186  0.73500173  0.72740137] gave 122.23546041920409\n"
     ]
    },
    {
     "name": "stdout",
     "output_type": "stream",
     "text": [
      "82\n"
     ]
    },
    {
     "name": "stderr",
     "output_type": "stream",
     "text": [
      "Info: Params [ 0.         -0.99777872  0.03969534 -1.97676473  1.07591454  1.21491955\n",
      "  0.24079452  0.35794978  0.94838095  0.9704454 ] gave 190.6519249942925\n"
     ]
    },
    {
     "name": "stdout",
     "output_type": "stream",
     "text": [
      "83\n"
     ]
    },
    {
     "name": "stderr",
     "output_type": "stream",
     "text": [
      "Info: Params [ 0.         -1.71921739  0.01054487 -1.2723382   1.07580197  1.14056959\n",
      "  0.32966912  0.29117577  0.54320917  0.79545422] gave 222.2777643975089\n"
     ]
    },
    {
     "name": "stdout",
     "output_type": "stream",
     "text": [
      "84\n"
     ]
    },
    {
     "name": "stderr",
     "output_type": "stream",
     "text": [
      "Info: Params [ 0.         -1.24883682  0.         -1.97442328  1.19648052  1.25616462\n",
      "  0.16815816  0.64977908  0.85424795  0.92083493] gave 186.79722327772643\n"
     ]
    },
    {
     "name": "stdout",
     "output_type": "stream",
     "text": [
      "85\n"
     ]
    },
    {
     "name": "stderr",
     "output_type": "stream",
     "text": [
      "Info: Params [ 0.07133148 -1.12667602  0.35492047 -0.95801596  0.95020681  0.84197354\n",
      "  0.3408818   0.25161954  0.65070669  0.74891108] gave 187.68932862164635\n"
     ]
    },
    {
     "name": "stdout",
     "output_type": "stream",
     "text": [
      "86\n"
     ]
    },
    {
     "name": "stderr",
     "output_type": "stream",
     "text": [
      "Info: Params [ 1.12251475  0.          0.50524307 -0.238573    0.83811086  0.87426038\n",
      " -0.30359616 -0.00630749  0.13030773  0.02500517] gave 179.9040091179838\n"
     ]
    },
    {
     "name": "stdout",
     "output_type": "stream",
     "text": [
      "87\n"
     ]
    },
    {
     "name": "stderr",
     "output_type": "stream",
     "text": [
      "Info: Params [ 1.12388855 -0.14761782  0.31464772 -0.66107423  1.01333843  1.07356694\n",
      " -0.03503354  0.16480054  0.95658318  0.98288189] gave 208.04001936925937\n"
     ]
    },
    {
     "name": "stdout",
     "output_type": "stream",
     "text": [
      "88\n"
     ]
    },
    {
     "name": "stderr",
     "output_type": "stream",
     "text": [
      "Info: Params [ 0.2809108  -1.97364676  0.30152079 -3.01588766  0.68824354  0.75400306\n",
      "  0.1742309   0.68086531  0.70056389  0.77097409] gave 86.24785251933133\n"
     ]
    },
    {
     "name": "stdout",
     "output_type": "stream",
     "text": [
      "89\n"
     ]
    },
    {
     "name": "stderr",
     "output_type": "stream",
     "text": [
      "Info: Params [ 0.37465453 -0.75605098  0.36315061 -1.21422459  1.00938048  1.0614417\n",
      "  0.35903409  0.37526478  0.69023652  0.60166656] gave 207.77617151182577\n"
     ]
    },
    {
     "name": "stdout",
     "output_type": "stream",
     "text": [
      "90\n"
     ]
    },
    {
     "name": "stderr",
     "output_type": "stream",
     "text": [
      "Info: Params [ 0.76323779 -1.23670773  0.         -0.78463498  0.93559264  0.96488209\n",
      "  0.17209542  0.46786274  0.84530724  0.82899399] gave 192.91888850346194\n"
     ]
    },
    {
     "name": "stdout",
     "output_type": "stream",
     "text": [
      "91\n"
     ]
    },
    {
     "name": "stderr",
     "output_type": "stream",
     "text": [
      "Info: Params [ 0.         -1.40725409  0.17752805 -2.08947285  1.29511943  1.5523833\n",
      "  0.23011702  0.54803377  0.98622472  0.90480432] gave 206.62113418474587\n"
     ]
    },
    {
     "name": "stdout",
     "output_type": "stream",
     "text": [
      "92\n"
     ]
    },
    {
     "name": "stderr",
     "output_type": "stream",
     "text": [
      "Info: Params [ 0.         -1.35636113  0.         -0.97762873  0.77970308  0.9844391\n",
      "  0.1908957   0.43137516  0.68003574  0.8856982 ] gave 185.1589507988573\n"
     ]
    },
    {
     "name": "stdout",
     "output_type": "stream",
     "text": [
      "93\n"
     ]
    },
    {
     "name": "stderr",
     "output_type": "stream",
     "text": [
      "Info: Params [ 0.79878665 -1.12631462  0.         -1.47767949  0.79100514  0.86612896\n",
      " -0.05164441  0.27638101  0.782024    0.97241581] gave 150.57459663287554\n"
     ]
    },
    {
     "name": "stdout",
     "output_type": "stream",
     "text": [
      "94\n"
     ]
    },
    {
     "name": "stderr",
     "output_type": "stream",
     "text": [
      "Info: Params [ 0.08735567 -0.65800518  0.22526982 -1.34953783  1.16309696  1.17616933\n",
      "  0.29093918  0.31920686  0.90545497  0.99642788] gave 225.3727669917806\n"
     ]
    },
    {
     "name": "stdout",
     "output_type": "stream",
     "text": [
      "95\n"
     ]
    },
    {
     "name": "stderr",
     "output_type": "stream",
     "text": [
      "Info: Params [ 0.05106853 -0.59167483  0.         -0.69410943  1.37893342  1.372362\n",
      "  0.40549911  0.37666172  0.85899594  0.74267035] gave 275.7838532365356\n"
     ]
    },
    {
     "name": "stdout",
     "output_type": "stream",
     "text": [
      "96\n"
     ]
    },
    {
     "name": "stderr",
     "output_type": "stream",
     "text": [
      "Info: Params [ 0.37217713 -1.33256883  0.823984   -1.17914098  1.38700832  1.11548888\n",
      "  0.12795119  0.0078685   0.91444076  0.97392727] gave 190.9505771982412\n"
     ]
    },
    {
     "name": "stdout",
     "output_type": "stream",
     "text": [
      "97\n"
     ]
    },
    {
     "name": "stderr",
     "output_type": "stream",
     "text": [
      "Info: Params [ 0.         -0.85194724  0.53401401 -0.59022385  1.76206426  1.66610413\n",
      "  0.16757821  0.0628367   0.96755923  0.95970334] gave 292.6788357711274\n"
     ]
    },
    {
     "name": "stdout",
     "output_type": "stream",
     "text": [
      "98\n"
     ]
    },
    {
     "name": "stderr",
     "output_type": "stream",
     "text": [
      "Info: Params [ 0.         -0.8166686   0.86574827 -0.85487781  1.13451733  1.45939174\n",
      "  0.35385435  0.3213262   0.50192838  0.78572583] gave 241.0991343467208\n"
     ]
    },
    {
     "name": "stdout",
     "output_type": "stream",
     "text": [
      "99\n"
     ]
    },
    {
     "name": "stderr",
     "output_type": "stream",
     "text": [
      "Info: Params [ 0.41915742 -0.93138179  0.37768825 -0.98160566  1.73441178  1.6682294\n",
      "  0.28107239  0.35256192  0.75207044  0.74117586] gave 244.22890409159763\n"
     ]
    },
    {
     "name": "stdout",
     "output_type": "stream",
     "text": [
      "100\n"
     ]
    },
    {
     "name": "stderr",
     "output_type": "stream",
     "text": [
      "Info: Params [ 0.53126519 -0.45423774  0.33192535 -1.17865695  1.28930859  1.6076123\n",
      "  0.01898728  0.50990416  0.94174218  0.97364993] gave 241.7151334861341\n"
     ]
    },
    {
     "name": "stdout",
     "output_type": "stream",
     "text": [
      "101\n"
     ]
    },
    {
     "name": "stderr",
     "output_type": "stream",
     "text": [
      "Info: Params [ 0.17156025 -0.28084311  0.12378771 -0.23038033  0.9361688   0.91369983\n",
      "  0.19958762  0.1770676   0.9454303   0.86348766] gave 216.67644625643334\n"
     ]
    },
    {
     "name": "stdout",
     "output_type": "stream",
     "text": [
      "102\n"
     ]
    },
    {
     "name": "stderr",
     "output_type": "stream",
     "text": [
      "Info: Params [ 0.7383916  -1.06046469  0.81069445 -1.53520426  0.75647885  0.83649059\n",
      "  0.54060503  0.60031505  0.6832911   0.61633336] gave 104.31591044308567\n"
     ]
    },
    {
     "name": "stdout",
     "output_type": "stream",
     "text": [
      "103\n"
     ]
    },
    {
     "name": "stderr",
     "output_type": "stream",
     "text": [
      "Info: Params [ 0.36522572 -1.45270195  0.53637314 -1.13187659  0.78068948  0.68828129\n",
      "  0.22881917  0.05793503  0.67129942  0.73343913] gave 156.09342295818726\n"
     ]
    },
    {
     "name": "stdout",
     "output_type": "stream",
     "text": [
      "104\n"
     ]
    },
    {
     "name": "stderr",
     "output_type": "stream",
     "text": [
      "Info: Params [ 0.02924136 -0.62286256  0.09810482 -0.89325765  1.37024381  1.87018856\n",
      " -0.02678224  0.68274968  0.95014479  0.91102096] gave 230.69631787554195\n"
     ]
    },
    {
     "name": "stdout",
     "output_type": "stream",
     "text": [
      "105\n"
     ]
    },
    {
     "name": "stderr",
     "output_type": "stream",
     "text": [
      "Info: Params [ 0.08985954 -1.1491215   0.         -1.01718204  1.24960597  1.15418241\n",
      "  0.3945655   0.47804996  0.88693949  0.83296648] gave 235.63497138124222\n"
     ]
    },
    {
     "name": "stdout",
     "output_type": "stream",
     "text": [
      "106\n"
     ]
    },
    {
     "name": "stderr",
     "output_type": "stream",
     "text": [
      "Info: Params [ 0.1876916  -0.42409549  0.         -1.45241975  0.88714757  0.98766194\n",
      "  0.03710546  0.11496954  0.90292393  0.97481339] gave 196.3771958004236\n"
     ]
    },
    {
     "name": "stdout",
     "output_type": "stream",
     "text": [
      "107\n"
     ]
    },
    {
     "name": "stderr",
     "output_type": "stream",
     "text": [
      "Info: Params [ 0.47572833 -0.99737914  0.66061834 -1.17999528  0.79757618  0.79958346\n",
      "  0.11769411  0.15445047  0.6117099   0.67470733] gave 157.50060315320152\n"
     ]
    },
    {
     "name": "stdout",
     "output_type": "stream",
     "text": [
      "108\n"
     ]
    },
    {
     "name": "stderr",
     "output_type": "stream",
     "text": [
      "Info: Params [ 0.         -0.99548678  0.12964653 -0.76925507  1.08969667  1.01564374\n",
      "  0.14553902 -0.05312409  0.92140686  0.84056185] gave 246.17295673072115\n"
     ]
    },
    {
     "name": "stdout",
     "output_type": "stream",
     "text": [
      "109\n"
     ]
    },
    {
     "name": "stderr",
     "output_type": "stream",
     "text": [
      "Info: Params [ 0.88625268 -1.80859101  0.02666948 -1.52449737  0.90173752  0.73203309\n",
      "  0.17735836  0.22569399  0.96880829  0.86550079] gave 135.74966108143553\n"
     ]
    },
    {
     "name": "stdout",
     "output_type": "stream",
     "text": [
      "110\n"
     ]
    },
    {
     "name": "stderr",
     "output_type": "stream",
     "text": [
      "Info: Params [ 0.         -1.06805003  0.55122884 -0.78507286  0.84468416  0.77890659\n",
      "  0.26055824  0.19123332  0.83703268  0.81607006] gave 170.155487036347\n"
     ]
    },
    {
     "name": "stdout",
     "output_type": "stream",
     "text": [
      "111\n"
     ]
    },
    {
     "name": "stderr",
     "output_type": "stream",
     "text": [
      "Info: Params [ 0.47475244 -1.12548283  0.06283692 -0.86123241  1.08475542  0.96169139\n",
      "  0.22492733  0.39869204  0.83196681  0.89878811] gave 201.11022653050298\n"
     ]
    },
    {
     "name": "stdout",
     "output_type": "stream",
     "text": [
      "112\n"
     ]
    },
    {
     "name": "stderr",
     "output_type": "stream",
     "text": [
      "Info: Params [ 0.41229497 -1.25126379  0.40775027 -1.6056355   0.91065409  0.81857488\n",
      "  0.19050462  0.41067961  0.90822603  0.83474681] gave 156.2783596257749\n"
     ]
    },
    {
     "name": "stdout",
     "output_type": "stream",
     "text": [
      "113\n"
     ]
    },
    {
     "name": "stderr",
     "output_type": "stream",
     "text": [
      "Info: Params [ 0.54550719 -0.5410923   0.         -0.79297279  1.55508227  1.74260445\n",
      " -0.10543609  0.37117362  0.98106318  0.97985889] gave 260.59922553452935\n"
     ]
    },
    {
     "name": "stdout",
     "output_type": "stream",
     "text": [
      "114\n"
     ]
    },
    {
     "name": "stderr",
     "output_type": "stream",
     "text": [
      "Info: Params [ 0.         -0.79861977  0.82921262 -0.51665915  1.44245416  1.48460432\n",
      "  0.26021128  0.0874292   0.90501665  0.97458122] gave 264.0721724682599\n"
     ]
    },
    {
     "name": "stdout",
     "output_type": "stream",
     "text": [
      "115\n"
     ]
    },
    {
     "name": "stderr",
     "output_type": "stream",
     "text": [
      "Info: Params [ 0.         -1.00842867  0.0351547  -1.76179727  0.80793448  0.9101072\n",
      "  0.4943319   0.49905495  0.82860994  0.86377147] gave 161.26857667066963\n"
     ]
    },
    {
     "name": "stdout",
     "output_type": "stream",
     "text": [
      "116\n"
     ]
    },
    {
     "name": "stderr",
     "output_type": "stream",
     "text": [
      "Info: Params [ 0.         -1.00890652  0.         -0.47198885  0.9682078   1.17592244\n",
      "  0.15057003 -0.14551956  0.20593034  0.33858715] gave 241.94634282225059\n"
     ]
    },
    {
     "name": "stdout",
     "output_type": "stream",
     "text": [
      "117\n"
     ]
    },
    {
     "name": "stderr",
     "output_type": "stream",
     "text": [
      "Info: Params [ 0.06858017 -1.0129206   0.         -1.20174322  1.64682117  1.45742504\n",
      "  0.26849058  0.21703913  0.95930095  0.97530653] gave 246.84660356388184\n"
     ]
    },
    {
     "name": "stdout",
     "output_type": "stream",
     "text": [
      "118\n"
     ]
    },
    {
     "name": "stderr",
     "output_type": "stream",
     "text": [
      "Info: Params [ 0.70037114 -0.29496844  1.54647827 -1.29629994  1.04027584  0.88543496\n",
      "  0.16455088  0.1118422   0.8834607   0.63643505] gave 190.46243183939637\n"
     ]
    },
    {
     "name": "stdout",
     "output_type": "stream",
     "text": [
      "119\n"
     ]
    },
    {
     "name": "stderr",
     "output_type": "stream",
     "text": [
      "Info: Params [ 0.27906735 -0.65412686  0.         -0.71397966  1.49474731  1.51430735\n",
      "  0.07709536  0.34810101  0.98182762  0.94866786] gave 263.531889582358\n"
     ]
    },
    {
     "name": "stdout",
     "output_type": "stream",
     "text": [
      "120\n"
     ]
    },
    {
     "name": "stderr",
     "output_type": "stream",
     "text": [
      "Info: Params [ 0.         -1.12647849  0.54473473 -1.1366504   1.5363282   1.59176762\n",
      "  0.19590194  0.19900033  0.95915163  0.95564032] gave 248.77221584649917\n"
     ]
    },
    {
     "name": "stdout",
     "output_type": "stream",
     "text": [
      "121\n"
     ]
    },
    {
     "name": "stderr",
     "output_type": "stream",
     "text": [
      "Info: Params [ 0.34859669 -1.89543661  0.         -1.57184214  0.8506887   0.82428386\n",
      "  0.18131126  0.3031536   0.87719842  0.8227116 ] gave 162.1208894648765\n"
     ]
    },
    {
     "name": "stdout",
     "output_type": "stream",
     "text": [
      "122\n"
     ]
    },
    {
     "name": "stderr",
     "output_type": "stream",
     "text": [
      "Info: Params [ 0.         -2.23117807  0.43221395 -1.2509282   1.04414333  0.78417124\n",
      "  0.30354111  0.11676691  0.96440424  0.96022877] gave 168.1222545731405\n"
     ]
    },
    {
     "name": "stdout",
     "output_type": "stream",
     "text": [
      "123\n"
     ]
    },
    {
     "name": "stderr",
     "output_type": "stream",
     "text": [
      "Info: Params [ 0.0285117  -0.75860604  0.         -0.41423342  1.44221948  1.33791068\n",
      "  0.15071549  0.10857075  0.92063426  0.96037218] gave 279.06308057703257\n"
     ]
    },
    {
     "name": "stdout",
     "output_type": "stream",
     "text": [
      "124\n"
     ]
    },
    {
     "name": "stderr",
     "output_type": "stream",
     "text": [
      "Info: Params [ 1.36088351 -0.5754221   1.11571944 -0.54140972  0.58881952  0.56440271\n",
      "  0.07657394  0.18263381  0.60456224  0.75101186] gave 127.74385592200701\n"
     ]
    },
    {
     "name": "stdout",
     "output_type": "stream",
     "text": [
      "125\n"
     ]
    },
    {
     "name": "stderr",
     "output_type": "stream",
     "text": [
      "Info: Params [ 0.         -1.01559761  0.75513151 -0.56181273  1.55760335  1.36028721\n",
      "  0.19384909  0.36940384  0.9583832   0.96818685] gave 247.79333704926972\n"
     ]
    },
    {
     "name": "stdout",
     "output_type": "stream",
     "text": [
      "126\n"
     ]
    },
    {
     "name": "stderr",
     "output_type": "stream",
     "text": [
      "Info: Params [ 0.23467925 -0.84332693  0.         -0.97129071  1.66606835  1.73574174\n",
      "  0.30443833  0.36055652  0.93597888  0.91055331] gave 264.36906989700236\n"
     ]
    },
    {
     "name": "stdout",
     "output_type": "stream",
     "text": [
      "127\n"
     ]
    },
    {
     "name": "stderr",
     "output_type": "stream",
     "text": [
      "Info: Params [ 0.         -0.9093767   4.64643757 -0.92974196  1.1535051   1.28884037\n",
      "  0.19848386 -0.00751071  0.78252808  0.87437916] gave 176.96405288082357\n"
     ]
    },
    {
     "name": "stdout",
     "output_type": "stream",
     "text": [
      "128\n"
     ]
    },
    {
     "name": "stderr",
     "output_type": "stream",
     "text": [
      "Info: Params [ 0.         -0.71149759  0.545222   -1.49181963  0.90694652  0.9551246\n",
      "  0.22651755  0.38426717  0.8299747   0.96815669] gave 189.70877041566763\n"
     ]
    },
    {
     "name": "stdout",
     "output_type": "stream",
     "text": [
      "129\n"
     ]
    },
    {
     "name": "stderr",
     "output_type": "stream",
     "text": [
      "Info: Params [ 0.         -1.2083177   0.80388333 -1.05366123  1.17378423  1.39484419\n",
      "  0.41944662  0.63494845  0.7136114   0.7271374 ] gave 201.85770029711418\n"
     ]
    },
    {
     "name": "stdout",
     "output_type": "stream",
     "text": [
      "130\n"
     ]
    },
    {
     "name": "stderr",
     "output_type": "stream",
     "text": [
      "Info: Params [ 0.         -0.82804555  1.54241046 -1.76843272  1.15766296  1.50252917\n",
      "  0.51089668  0.50195     0.63389198  0.76444623] gave 192.43865603017724\n"
     ]
    },
    {
     "name": "stdout",
     "output_type": "stream",
     "text": [
      "131\n"
     ]
    },
    {
     "name": "stderr",
     "output_type": "stream",
     "text": [
      "Info: Params [ 0.         -1.57505284  0.37442127 -1.24787004  1.18715254  1.14075311\n",
      "  0.56914158  0.30737628  0.6621106   0.71779767] gave 207.22498629602333\n"
     ]
    },
    {
     "name": "stdout",
     "output_type": "stream",
     "text": [
      "132\n"
     ]
    },
    {
     "name": "stderr",
     "output_type": "stream",
     "text": [
      "Info: Params [ 0.         -1.31372946  0.         -1.4062763   1.72088341  2.02239134\n",
      "  0.51298664  0.68764521  0.92252503  0.91605254] gave 231.13272775597235\n"
     ]
    },
    {
     "name": "stdout",
     "output_type": "stream",
     "text": [
      "133\n"
     ]
    },
    {
     "name": "stderr",
     "output_type": "stream",
     "text": [
      "Info: Params [ 0.         -0.80058896  1.22402477 -1.49887894  0.92790038  1.00841923\n",
      "  0.2772321   0.13177828  0.95615789  0.98996277] gave 176.817448408694\n"
     ]
    },
    {
     "name": "stdout",
     "output_type": "stream",
     "text": [
      "134\n"
     ]
    },
    {
     "name": "stderr",
     "output_type": "stream",
     "text": [
      "Info: Params [ 1.28135575 -1.26962454  1.05933514 -0.87177355  0.59016149  0.67734932\n",
      "  0.12434255  0.29202496  0.42611115  0.4127512 ] gave 87.3966640554068\n"
     ]
    },
    {
     "name": "stdout",
     "output_type": "stream",
     "text": [
      "135\n"
     ]
    },
    {
     "name": "stderr",
     "output_type": "stream",
     "text": [
      "Info: Params [ 0.02465024 -1.66324494  0.36769732 -1.14099143  0.6314841   0.62900184\n",
      "  0.4777003   0.22458397  0.67701565  0.77921156] gave 102.88768334050818\n"
     ]
    },
    {
     "name": "stdout",
     "output_type": "stream",
     "text": [
      "136\n"
     ]
    },
    {
     "name": "stderr",
     "output_type": "stream",
     "text": [
      "Info: Params [ 0.41710463 -1.0445505   0.71750868 -0.87075572  1.21170959  1.06120018\n",
      "  0.04178477  0.24179989  0.72894901  0.84152094] gave 221.95670731946413\n"
     ]
    },
    {
     "name": "stdout",
     "output_type": "stream",
     "text": [
      "137\n"
     ]
    },
    {
     "name": "stderr",
     "output_type": "stream",
     "text": [
      "Info: Params [ 0.35071705 -0.75600804  0.58797865 -0.74655058  1.11673328  0.90112432\n",
      "  0.32719851  0.37622747  0.85950084  0.74724427] gave 222.63867500492967\n"
     ]
    },
    {
     "name": "stdout",
     "output_type": "stream",
     "text": [
      "138\n"
     ]
    },
    {
     "name": "stderr",
     "output_type": "stream",
     "text": [
      "Info: Params [ 0.07159473 -1.20945526  0.         -1.6035138   1.16002206  1.48039391\n",
      "  0.36171819  0.38819687  0.67136767  0.87589562] gave 234.81249601440493\n"
     ]
    },
    {
     "name": "stdout",
     "output_type": "stream",
     "text": [
      "139\n"
     ]
    },
    {
     "name": "stderr",
     "output_type": "stream",
     "text": [
      "Info: Params [ 0.80421125 -0.64853567  0.24580033 -1.48523164  1.10562501  1.06205268\n",
      "  0.12770169  0.3885816   0.83261246  0.83025095] gave 227.46541371742566\n"
     ]
    },
    {
     "name": "stdout",
     "output_type": "stream",
     "text": [
      "140\n"
     ]
    },
    {
     "name": "stderr",
     "output_type": "stream",
     "text": [
      "Info: Params [ 0.         -0.32880574  2.31604807 -0.55432819  0.97780411  0.72286487\n",
      " -0.14416404  0.1770253   0.94337159  0.84617029] gave 172.0202240815001\n"
     ]
    },
    {
     "name": "stdout",
     "output_type": "stream",
     "text": [
      "141\n"
     ]
    },
    {
     "name": "stderr",
     "output_type": "stream",
     "text": [
      "Info: Params [ 0.06867644 -1.80326705  0.17395935 -1.16029917  0.56315149  0.66341401\n",
      " -0.03186194  0.17695695  0.73394032  0.88080205] gave 119.850669197759\n"
     ]
    },
    {
     "name": "stdout",
     "output_type": "stream",
     "text": [
      "142\n"
     ]
    },
    {
     "name": "stderr",
     "output_type": "stream",
     "text": [
      "Info: Params [ 0.00000000e+00 -8.14911194e-01  3.12886045e-01 -6.01121332e-01\n",
      "  1.38219803e+00  1.22965563e+00  1.87895871e-01  7.56632909e-06\n",
      "  9.06276147e-01  8.27651628e-01] gave 280.2736363425974\n"
     ]
    },
    {
     "name": "stdout",
     "output_type": "stream",
     "text": [
      "143\n"
     ]
    },
    {
     "name": "stderr",
     "output_type": "stream",
     "text": [
      "Info: Params [ 0.61048487 -1.05367827  0.44286376 -0.94865983  1.00065137  1.47912826\n",
      "  0.26263424  0.70077908  0.45056523  0.48314053] gave 188.01454515334854\n"
     ]
    },
    {
     "name": "stdout",
     "output_type": "stream",
     "text": [
      "144\n"
     ]
    },
    {
     "name": "stderr",
     "output_type": "stream",
     "text": [
      "Info: Params [ 0.53270595 -0.81992805  0.13111665 -1.12983638  1.17728792  0.91307802\n",
      "  0.31835145  0.44607883  0.89301204  0.81567757] gave 209.95598753256513\n"
     ]
    },
    {
     "name": "stdout",
     "output_type": "stream",
     "text": [
      "145\n"
     ]
    },
    {
     "name": "stderr",
     "output_type": "stream",
     "text": [
      "Info: Params [ 0.         -1.1462316   0.         -0.6202965   1.32147763  1.09589413\n",
      "  0.64532398  0.43968548  0.62229868  0.67295728] gave 226.3141612141858\n"
     ]
    },
    {
     "name": "stdout",
     "output_type": "stream",
     "text": [
      "146\n"
     ]
    },
    {
     "name": "stderr",
     "output_type": "stream",
     "text": [
      "Info: Params [ 0.         -1.15017898  0.00726581 -1.79984361  1.10269303  1.17847225\n",
      "  0.28874163  0.47605473  0.83948629  0.7282519 ] gave 204.55415321915694\n"
     ]
    },
    {
     "name": "stdout",
     "output_type": "stream",
     "text": [
      "147\n"
     ]
    },
    {
     "name": "stderr",
     "output_type": "stream",
     "text": [
      "Info: Params [ 0.15679522 -1.09213349  0.19672928 -0.65980595  1.47918252  1.37246348\n",
      "  0.49963021  0.24842805  0.67741543  0.86420525] gave 257.7019086234001\n"
     ]
    },
    {
     "name": "stdout",
     "output_type": "stream",
     "text": [
      "148\n"
     ]
    },
    {
     "name": "stderr",
     "output_type": "stream",
     "text": [
      "Info: Params [ 0.1603887  -0.87583796  0.27829458 -1.29601131  1.27127868  1.30960184\n",
      "  0.28334416  0.30394839  0.96008738  0.84147185] gave 250.36327550195242\n"
     ]
    },
    {
     "name": "stdout",
     "output_type": "stream",
     "text": [
      "149\n"
     ]
    },
    {
     "name": "stderr",
     "output_type": "stream",
     "text": [
      "Info: Params [ 0.16619844 -0.9488315   0.         -0.97326831  1.90415296  1.85518167\n",
      "  0.48836625  0.71079671  0.9065088   0.79467754] gave 239.28976703436447\n"
     ]
    },
    {
     "name": "stdout",
     "output_type": "stream",
     "text": [
      "150\n"
     ]
    },
    {
     "name": "stderr",
     "output_type": "stream",
     "text": [
      "Info: Params [ 0.45762486 -1.2357275   0.01436031 -0.66245928  0.92147597  0.82890115\n",
      "  0.32512312  0.24086     0.85778296  0.66266064] gave 201.4654257776569\n"
     ]
    },
    {
     "name": "stdout",
     "output_type": "stream",
     "text": [
      "151\n"
     ]
    },
    {
     "name": "stderr",
     "output_type": "stream",
     "text": [
      "Info: Params [ 0.         -1.14498899  1.7059593  -1.86768171  1.38777262  1.84057203\n",
      "  0.31654138  0.53409039  0.93689462  0.96968402] gave 204.08967320483373\n"
     ]
    },
    {
     "name": "stdout",
     "output_type": "stream",
     "text": [
      "152\n"
     ]
    },
    {
     "name": "stderr",
     "output_type": "stream",
     "text": [
      "Info: Params [ 0.         -1.10999535  0.         -1.16962883  0.94630177  1.05622011\n",
      "  0.20102745  0.30700582  0.98569553  0.97800663] gave 209.5601109097214\n"
     ]
    },
    {
     "name": "stdout",
     "output_type": "stream",
     "text": [
      "153\n"
     ]
    },
    {
     "name": "stderr",
     "output_type": "stream",
     "text": [
      "Info: Params [ 0.58108348 -0.98087829  0.60396483 -0.91240595  0.94332506  0.773387\n",
      " -0.26267332 -0.07102936  0.67220199  0.67965569] gave 181.4757083602669\n"
     ]
    },
    {
     "name": "stdout",
     "output_type": "stream",
     "text": [
      "154\n"
     ]
    },
    {
     "name": "stderr",
     "output_type": "stream",
     "text": [
      "Info: Params [ 0.56171066 -1.46564533  0.61495224 -0.93668079  0.83953339  0.71730397\n",
      "  0.19314788  0.36241532  0.96539865  0.96860919] gave 136.99180793187796\n"
     ]
    },
    {
     "name": "stdout",
     "output_type": "stream",
     "text": [
      "155\n"
     ]
    },
    {
     "name": "stderr",
     "output_type": "stream",
     "text": [
      "Info: Params [ 0.60320213 -0.87111834  0.44026085 -1.11296897  0.8028471   0.78415634\n",
      " -0.198549    0.216936    0.84810026  0.94541441] gave 168.68372669146413\n"
     ]
    },
    {
     "name": "stdout",
     "output_type": "stream",
     "text": [
      "156\n"
     ]
    },
    {
     "name": "stderr",
     "output_type": "stream",
     "text": [
      "Info: Params [ 0.56007926 -0.53189885  0.24241936 -0.85653636  1.54026946  1.57444748\n",
      "  0.35283719  0.47122867  0.97363567  0.87924653] gave 275.50241020702606\n"
     ]
    },
    {
     "name": "stdout",
     "output_type": "stream",
     "text": [
      "157\n"
     ]
    },
    {
     "name": "stderr",
     "output_type": "stream",
     "text": [
      "Info: Params [ 0.         -1.20583207  0.         -1.47637701  0.89289241  1.01634853\n",
      "  0.38010725  0.3887894   0.71657874  0.88377383] gave 199.74553299528543\n"
     ]
    },
    {
     "name": "stdout",
     "output_type": "stream",
     "text": [
      "158\n"
     ]
    },
    {
     "name": "stderr",
     "output_type": "stream",
     "text": [
      "Info: Params [ 0.22409748 -0.90048659  0.29070388 -0.57865577  1.19713248  1.23826517\n",
      "  0.34324536  0.21048155  0.96591917  0.90622315] gave 251.0444965470034\n"
     ]
    },
    {
     "name": "stdout",
     "output_type": "stream",
     "text": [
      "159\n"
     ]
    },
    {
     "name": "stderr",
     "output_type": "stream",
     "text": [
      "Info: Params [ 0.31464031 -0.21603144  0.42654238 -0.79734153  1.03946777  1.02983316\n",
      "  0.2728742   0.295274    0.87190105  0.84873924] gave 231.85950872261438\n"
     ]
    },
    {
     "name": "stdout",
     "output_type": "stream",
     "text": [
      "160\n"
     ]
    },
    {
     "name": "stderr",
     "output_type": "stream",
     "text": [
      "Info: Params [ 0.         -0.85219518  0.61900824 -0.67846299  1.34886668  1.39914073\n",
      "  0.30438814  0.20969375  0.95583752  0.99710912] gave 263.1316698055523\n"
     ]
    },
    {
     "name": "stdout",
     "output_type": "stream",
     "text": [
      "161\n"
     ]
    },
    {
     "name": "stderr",
     "output_type": "stream",
     "text": [
      "Info: Params [ 0.18533346 -2.18330911  1.18094168 -1.05883911  0.68203095  0.71118911\n",
      "  0.38298598  0.27119243  0.74671193  0.84854707] gave 102.4976375823939\n"
     ]
    },
    {
     "name": "stdout",
     "output_type": "stream",
     "text": [
      "162\n"
     ]
    },
    {
     "name": "stderr",
     "output_type": "stream",
     "text": [
      "Info: Params [ 0.30105014 -1.16628576  0.82992507 -1.11902391  1.02483107  1.08881346\n",
      "  0.49842372  0.49024358  0.97610445  0.92651803] gave 167.11815204374983\n"
     ]
    },
    {
     "name": "stdout",
     "output_type": "stream",
     "text": [
      "163\n"
     ]
    },
    {
     "name": "stderr",
     "output_type": "stream",
     "text": [
      "Info: Params [ 0.33656952 -1.43386328  0.91709893 -1.28882758  0.63713588  0.67692225\n",
      "  0.23424918  0.59358267  0.62309473  0.74621111] gave 102.05851533648638\n"
     ]
    },
    {
     "name": "stdout",
     "output_type": "stream",
     "text": [
      "164\n"
     ]
    },
    {
     "name": "stderr",
     "output_type": "stream",
     "text": [
      "Info: Params [ 0.         -0.29227868  0.         -0.81667669  1.40107027  1.32170338\n",
      "  0.10817791  0.24922868  0.83470862  0.9878317 ] gave 288.2959002116501\n"
     ]
    },
    {
     "name": "stdout",
     "output_type": "stream",
     "text": [
      "165\n"
     ]
    },
    {
     "name": "stderr",
     "output_type": "stream",
     "text": [
      "Info: Params [ 0.38961998 -0.48778464  0.12706677 -0.68106226  1.02363511  0.83576687\n",
      "  0.08092811  0.05089503  0.61927429  0.67247422] gave 220.61895139977076\n"
     ]
    },
    {
     "name": "stdout",
     "output_type": "stream",
     "text": [
      "166\n"
     ]
    },
    {
     "name": "stderr",
     "output_type": "stream",
     "text": [
      "Info: Params [ 0.         -0.83012642  0.         -0.77510404  1.46168838  1.25351864\n",
      "  0.63563278  0.58919168  0.7721175   0.76967347] gave 255.19619207592427\n"
     ]
    },
    {
     "name": "stdout",
     "output_type": "stream",
     "text": [
      "167\n"
     ]
    },
    {
     "name": "stderr",
     "output_type": "stream",
     "text": [
      "Info: Params [ 0.18765522 -0.41187378  0.76386651 -1.71087681  1.11335615  0.8520692\n",
      "  0.04035457  0.31726567  0.6401998   0.24582073] gave 211.54800819070817\n"
     ]
    },
    {
     "name": "stdout",
     "output_type": "stream",
     "text": [
      "168\n"
     ]
    },
    {
     "name": "stderr",
     "output_type": "stream",
     "text": [
      "Info: Params [ 0.26928444 -0.4251817   1.04725604 -0.658888    1.26602715  1.08762809\n",
      "  0.15820279 -0.10980245  0.86541754  0.9086097 ] gave 226.76470481785083\n"
     ]
    },
    {
     "name": "stdout",
     "output_type": "stream",
     "text": [
      "169\n"
     ]
    },
    {
     "name": "stderr",
     "output_type": "stream",
     "text": [
      "Info: Params [ 0.         -0.94342661  0.19884677 -0.57503125  1.49384757  1.11035155\n",
      "  0.3781544   0.19978337  0.73208118  0.64625564] gave 265.1007943487476\n"
     ]
    },
    {
     "name": "stdout",
     "output_type": "stream",
     "text": [
      "170\n"
     ]
    },
    {
     "name": "stderr",
     "output_type": "stream",
     "text": [
      "Info: Params [ 0.06649346 -0.89538639  0.0830547  -1.75981564  0.77227675  0.76519442\n",
      "  0.30177048  0.32751319  0.73694128  0.73075614] gave 177.89408734993438\n"
     ]
    },
    {
     "name": "stdout",
     "output_type": "stream",
     "text": [
      "171\n"
     ]
    },
    {
     "name": "stderr",
     "output_type": "stream",
     "text": [
      "Info: Params [ 1.13951652 -0.27671524  0.29794175 -2.0566552   0.83954221  0.90716242\n",
      " -0.14502964  0.09984289  0.99682407  0.99398279] gave 153.39209181241245\n"
     ]
    },
    {
     "name": "stdout",
     "output_type": "stream",
     "text": [
      "172\n"
     ]
    },
    {
     "name": "stderr",
     "output_type": "stream",
     "text": [
      "Info: Params [ 0.         -1.19002644  1.37640051 -1.44761822  0.5951182   0.82245622\n",
      "  0.38683492  0.36230242  0.74945667  0.82419132] gave 100.79935823421826\n"
     ]
    },
    {
     "name": "stdout",
     "output_type": "stream",
     "text": [
      "173\n"
     ]
    },
    {
     "name": "stderr",
     "output_type": "stream",
     "text": [
      "Info: Params [ 0.         -0.59513244  0.15910187 -1.42998376  1.15173036  1.36450774\n",
      "  0.32168093  0.47413959  0.76176109  0.77469493] gave 242.1354842522344\n"
     ]
    },
    {
     "name": "stdout",
     "output_type": "stream",
     "text": [
      "174\n"
     ]
    },
    {
     "name": "stderr",
     "output_type": "stream",
     "text": [
      "Info: Params [ 0.10698824 -0.87891956  0.         -0.75880742  1.65384149  1.56731809\n",
      "  0.4617893   0.25636992  0.96918719  0.99762882] gave 260.2845126043871\n"
     ]
    },
    {
     "name": "stdout",
     "output_type": "stream",
     "text": [
      "175\n"
     ]
    },
    {
     "name": "stderr",
     "output_type": "stream",
     "text": [
      "Info: Params [ 0.         -1.42450481  0.11219841 -1.10468806  1.31594863  1.15293004\n",
      "  0.19103443  0.22377611  0.78751479  0.74279691] gave 247.9187675500823\n"
     ]
    },
    {
     "name": "stdout",
     "output_type": "stream",
     "text": [
      "176\n"
     ]
    },
    {
     "name": "stderr",
     "output_type": "stream",
     "text": [
      "Info: Params [ 0.74874717 -0.9533287   0.         -1.31826183  1.21392839  0.98718751\n",
      "  0.29965431  0.3265332   0.79625526  0.63490636] gave 222.10964170943345\n"
     ]
    },
    {
     "name": "stdout",
     "output_type": "stream",
     "text": [
      "177\n"
     ]
    },
    {
     "name": "stderr",
     "output_type": "stream",
     "text": [
      "Info: Params [ 0.03210417 -0.56236958  0.76378364 -0.43734951  1.08917935  1.15285375\n",
      "  0.25675042  0.4332156   0.80867824  0.88477125] gave 210.20505189203456\n"
     ]
    },
    {
     "name": "stdout",
     "output_type": "stream",
     "text": [
      "178\n"
     ]
    },
    {
     "name": "stderr",
     "output_type": "stream",
     "text": [
      "Info: Params [ 1.59150586 -1.20662226  0.21441848 -0.60418449  1.83565584  1.28383713\n",
      "  0.07269218  0.34988681  0.98215951  0.83318402] gave 220.14244036619178\n"
     ]
    },
    {
     "name": "stdout",
     "output_type": "stream",
     "text": [
      "179\n"
     ]
    },
    {
     "name": "stderr",
     "output_type": "stream",
     "text": [
      "Info: Params [ 0.         -1.3639955   0.34933148 -0.98448162  1.75889362  1.22716191\n",
      "  0.48170074  0.36225937  0.94327337  0.99472438] gave 239.37681882373914\n"
     ]
    },
    {
     "name": "stdout",
     "output_type": "stream",
     "text": [
      "180\n"
     ]
    },
    {
     "name": "stderr",
     "output_type": "stream",
     "text": [
      "Info: Params [ 0.         -0.43073025  0.3165375  -0.27478768  1.28612747  1.30866608\n",
      "  0.1288291   0.07749371  0.94909666  0.92610628] gave 278.3530046719412\n"
     ]
    },
    {
     "name": "stdout",
     "output_type": "stream",
     "text": [
      "181\n"
     ]
    },
    {
     "name": "stderr",
     "output_type": "stream",
     "text": [
      "Info: Params [ 0.053316   -1.97769478  0.         -1.73647835  0.92592149  0.82975705\n",
      "  0.61442655  0.5692899   0.83058039  0.86493981] gave 122.45343176379124\n"
     ]
    },
    {
     "name": "stdout",
     "output_type": "stream",
     "text": [
      "182\n"
     ]
    },
    {
     "name": "stderr",
     "output_type": "stream",
     "text": [
      "Info: Params [ 0.34757346 -0.97738021  0.38538407 -0.83614835  1.21293148  1.27734935\n",
      "  0.17826201  0.26125262  0.98208162  0.95060128] gave 227.5804793410817\n"
     ]
    },
    {
     "name": "stdout",
     "output_type": "stream",
     "text": [
      "183\n"
     ]
    },
    {
     "name": "stderr",
     "output_type": "stream",
     "text": [
      "Info: Params [ 0.77209785 -0.70208537  1.0805104  -0.60229581  1.09385828  1.08393917\n",
      "  0.38962018  0.3063262   0.6675728   0.71796098] gave 192.75801162401592\n"
     ]
    },
    {
     "name": "stdout",
     "output_type": "stream",
     "text": [
      "184\n"
     ]
    },
    {
     "name": "stderr",
     "output_type": "stream",
     "text": [
      "Info: Params [ 0.38004503 -0.81999616  0.56734275 -0.24904402  1.22334423  1.15777518\n",
      "  0.23015324  0.1515057   0.70104916  0.73873756] gave 260.52920944209916\n"
     ]
    },
    {
     "name": "stdout",
     "output_type": "stream",
     "text": [
      "185\n"
     ]
    },
    {
     "name": "stderr",
     "output_type": "stream",
     "text": [
      "Info: Params [ 0.84116066 -0.394066    1.4677346  -0.61925764  0.89441091  0.90493946\n",
      "  0.05128619 -0.15874539  0.97263355  0.99197001] gave 160.86761556698332\n"
     ]
    },
    {
     "name": "stdout",
     "output_type": "stream",
     "text": [
      "186\n"
     ]
    },
    {
     "name": "stderr",
     "output_type": "stream",
     "text": [
      "Info: Params [ 0.         -1.65375427  0.18201674 -1.54272318  0.94628347  0.86210942\n",
      "  0.30358135  0.20203381  0.99520649  0.98399249] gave 164.62846938555887\n"
     ]
    },
    {
     "name": "stdout",
     "output_type": "stream",
     "text": [
      "187\n"
     ]
    },
    {
     "name": "stderr",
     "output_type": "stream",
     "text": [
      "Info: Params [ 0.45630185 -0.58970576  0.48295059 -1.7755673   0.99097554  1.09778681\n",
      " -0.10008474  0.52602674  0.69284155  0.64836969] gave 194.85446217709364\n"
     ]
    },
    {
     "name": "stdout",
     "output_type": "stream",
     "text": [
      "188\n"
     ]
    },
    {
     "name": "stderr",
     "output_type": "stream",
     "text": [
      "Info: Params [ 0.00727715 -1.18380098  0.1534806  -0.81834813  0.94022991  1.2113145\n",
      "  0.30276579  0.31095338  0.72098688  0.99007739] gave 223.24995155452413\n"
     ]
    },
    {
     "name": "stdout",
     "output_type": "stream",
     "text": [
      "189\n"
     ]
    },
    {
     "name": "stderr",
     "output_type": "stream",
     "text": [
      "Info: Params [ 0.159552   -0.48822852  1.39151102  0.          1.58891475  1.9590373\n",
      "  0.06606061 -0.01174443  0.98060549  0.99238585] gave 271.1134773869707\n"
     ]
    },
    {
     "name": "stdout",
     "output_type": "stream",
     "text": [
      "190\n"
     ]
    },
    {
     "name": "stderr",
     "output_type": "stream",
     "text": [
      "Info: Params [ 0.         -1.23319866  0.01977655 -1.67367095  1.21241691  1.30102183\n",
      "  0.31603646  0.40409043  0.89003617  0.81631373] gave 220.10670071026863\n"
     ]
    },
    {
     "name": "stdout",
     "output_type": "stream",
     "text": [
      "191\n"
     ]
    },
    {
     "name": "stderr",
     "output_type": "stream",
     "text": [
      "Info: Params [ 0.22523531 -1.2687682   0.         -1.28843706  1.23292402  1.13412152\n",
      "  0.38148256  0.50722443  0.88878078  0.77498869] gave 217.84719686130308\n"
     ]
    },
    {
     "name": "stdout",
     "output_type": "stream",
     "text": [
      "192\n"
     ]
    },
    {
     "name": "stderr",
     "output_type": "stream",
     "text": [
      "Info: Params [ 0.08692591 -0.93614812  0.         -1.03477023  1.04542415  0.97089714\n",
      "  0.11674391  0.27441898  0.53536441  0.59232744] gave 229.3254122280005\n"
     ]
    },
    {
     "name": "stdout",
     "output_type": "stream",
     "text": [
      "193\n"
     ]
    },
    {
     "name": "stderr",
     "output_type": "stream",
     "text": [
      "Info: Params [ 0.32088025 -1.19995285  0.39722253 -0.99125994  1.02818203  1.07128905\n",
      "  0.24494514  0.4832592   0.75781243  0.82691465] gave 210.3181052677044\n"
     ]
    },
    {
     "name": "stdout",
     "output_type": "stream",
     "text": [
      "194\n"
     ]
    },
    {
     "name": "stderr",
     "output_type": "stream",
     "text": [
      "Info: Params [ 0.         -1.48834926  0.94539791 -1.24026956  0.89442443  1.0158478\n",
      "  0.39006188  0.03174585  0.91425835  0.92174706] gave 169.71062633484226\n"
     ]
    },
    {
     "name": "stdout",
     "output_type": "stream",
     "text": [
      "195\n"
     ]
    },
    {
     "name": "stderr",
     "output_type": "stream",
     "text": [
      "Info: Params [ 0.         -1.04896225  0.         -1.03624931  1.24795715  1.22908239\n",
      "  0.45669429  0.51362069  0.90492958  0.81027594] gave 239.60129834291064\n"
     ]
    },
    {
     "name": "stdout",
     "output_type": "stream",
     "text": [
      "196\n"
     ]
    },
    {
     "name": "stderr",
     "output_type": "stream",
     "text": [
      "Info: Params [ 0.         -1.21694993  0.38717908 -1.74746028  1.22834728  1.16268992\n",
      "  0.09082181  0.20553314  0.94946718  0.99217484] gave 209.08882072250728\n"
     ]
    },
    {
     "name": "stdout",
     "output_type": "stream",
     "text": [
      "197\n"
     ]
    },
    {
     "name": "stderr",
     "output_type": "stream",
     "text": [
      "Info: Params [ 1.13026237 -0.30701866  0.16105705 -1.53466538  0.97065074  1.04030076\n",
      "  0.10498273  0.29640696  0.78010057  0.87035176] gave 199.0860146718924\n"
     ]
    },
    {
     "name": "stdout",
     "output_type": "stream",
     "text": [
      "198\n"
     ]
    },
    {
     "name": "stderr",
     "output_type": "stream",
     "text": [
      "Info: Params [ 0.13961518 -0.7830094   0.69428446 -0.44391519  1.22888053  1.5947738\n",
      "  0.49164462  0.55762881  0.73997759  0.80775582] gave 237.14331713407708\n"
     ]
    },
    {
     "name": "stdout",
     "output_type": "stream",
     "text": [
      "199\n"
     ]
    },
    {
     "name": "stderr",
     "output_type": "stream",
     "text": [
      "Info: Params [ 0.         -0.65234833  0.         -0.89050448  1.18939151  1.20293351\n",
      "  0.19804989  0.42514376  0.79033909  0.70414022] gave 246.95960068532915\n"
     ]
    },
    {
     "name": "stdout",
     "output_type": "stream",
     "text": [
      "200\n"
     ]
    },
    {
     "name": "stderr",
     "output_type": "stream",
     "text": [
      "Info: Params [ 0.8357025  -0.54612319  0.         -1.77798946  1.07632154  1.17928901\n",
      "  0.05685488  0.59787276  0.89534702  0.9554277 ] gave 189.26780292213567\n"
     ]
    },
    {
     "name": "stdout",
     "output_type": "stream",
     "text": [
      "201\n"
     ]
    },
    {
     "name": "stderr",
     "output_type": "stream",
     "text": [
      "Info: Params [ 0.63941057 -0.65632162  0.39076028 -0.52596058  1.5650464   1.44596378\n",
      "  0.05381666  0.02566575  0.92457534  0.96439827] gave 262.6900834836039\n"
     ]
    },
    {
     "name": "stdout",
     "output_type": "stream",
     "text": [
      "202\n"
     ]
    },
    {
     "name": "stderr",
     "output_type": "stream",
     "text": [
      "Info: Params [ 0.         -3.45329702  0.37884904 -2.3357515   0.85999192  0.91867251\n",
      "  0.6465812   0.45134969  0.63596126  0.70381448] gave 112.21122691236805\n"
     ]
    },
    {
     "name": "stdout",
     "output_type": "stream",
     "text": [
      "203\n"
     ]
    },
    {
     "name": "stderr",
     "output_type": "stream",
     "text": [
      "Info: Params [ 0.36125284 -0.55918451  0.11976493 -0.79967459  1.39031426  1.36978439\n",
      "  0.22022514  0.50613768  0.96620633  0.90529226] gave 219.21468418918568\n"
     ]
    },
    {
     "name": "stdout",
     "output_type": "stream",
     "text": [
      "204\n"
     ]
    },
    {
     "name": "stderr",
     "output_type": "stream",
     "text": [
      "Info: Params [ 0.20019442 -0.67729632  0.32414953 -0.48119373  1.66340511  1.56051347\n",
      "  0.44788788  0.31647934  0.97731658  0.98235392] gave 283.326208646989\n"
     ]
    },
    {
     "name": "stdout",
     "output_type": "stream",
     "text": [
      "205\n"
     ]
    },
    {
     "name": "stderr",
     "output_type": "stream",
     "text": [
      "Info: Params [ 2.08939716 -1.30875929  0.59787658 -0.68207085  2.17862798  1.33935933\n",
      " -0.11458984  0.23214557  0.93682188  0.92570845] gave 215.33650167726455\n"
     ]
    },
    {
     "name": "stdout",
     "output_type": "stream",
     "text": [
      "206\n"
     ]
    },
    {
     "name": "stderr",
     "output_type": "stream",
     "text": [
      "Info: Params [ 0.40932561 -0.77299737  0.71500669 -1.02990125  1.5459059   1.10335825\n",
      " -0.13565731  0.24223572  0.80429752  0.73315893] gave 238.41492359125573\n"
     ]
    },
    {
     "name": "stdout",
     "output_type": "stream",
     "text": [
      "207\n"
     ]
    },
    {
     "name": "stderr",
     "output_type": "stream",
     "text": [
      "Info: Params [ 0.13616962 -1.23297097  0.43703625 -1.1041357   0.93866972  0.88913568\n",
      "  0.27802898  0.37358734  0.88615941  0.84523411] gave 183.41641415726792\n"
     ]
    },
    {
     "name": "stdout",
     "output_type": "stream",
     "text": [
      "208\n"
     ]
    },
    {
     "name": "stderr",
     "output_type": "stream",
     "text": [
      "Info: Params [ 0.18442138 -0.90651167  0.33129652 -1.04999992  1.18207653  1.27766228\n",
      "  0.38912419  0.37010181  0.84297397  0.86613158] gave 233.880777784869\n"
     ]
    },
    {
     "name": "stdout",
     "output_type": "stream",
     "text": [
      "209\n"
     ]
    },
    {
     "name": "stderr",
     "output_type": "stream",
     "text": [
      "Info: Params [ 0.14171438 -0.6586754   0.4496271  -1.54754035  1.21526329  1.40110302\n",
      "  0.16736561  0.4189636   0.96171775  0.90439756] gave 218.41160633375125\n"
     ]
    },
    {
     "name": "stdout",
     "output_type": "stream",
     "text": [
      "210\n"
     ]
    },
    {
     "name": "stderr",
     "output_type": "stream",
     "text": [
      "Info: Params [ 0.         -0.20842297  1.76051832  0.          0.75325098  0.80657073\n",
      " -0.03827965  0.12574204  0.76853692  0.95087541] gave 157.5875490291813\n"
     ]
    },
    {
     "name": "stdout",
     "output_type": "stream",
     "text": [
      "211\n"
     ]
    },
    {
     "name": "stderr",
     "output_type": "stream",
     "text": [
      "Info: Params [ 0.85164215 -1.33503676  0.         -0.84706152  1.12469895  1.05118119\n",
      "  0.38776065  0.32999614  0.73393205  0.77902167] gave 205.50516617065512\n"
     ]
    },
    {
     "name": "stdout",
     "output_type": "stream",
     "text": [
      "212\n"
     ]
    },
    {
     "name": "stderr",
     "output_type": "stream",
     "text": [
      "Info: Params [ 0.48985028 -0.52530241  0.25512654 -0.80917991  1.18362795  1.22603949\n",
      " -0.030271    0.26227842  0.62466946  0.73056861] gave 238.58109428675954\n"
     ]
    },
    {
     "name": "stdout",
     "output_type": "stream",
     "text": [
      "213\n"
     ]
    },
    {
     "name": "stderr",
     "output_type": "stream",
     "text": [
      "Info: Params [ 0.         -0.7913331   0.         -0.47241897  1.51202707  1.30144448\n",
      "  0.42710815  0.17362481  0.9481404   0.96209803] gave 286.8419109214884\n"
     ]
    },
    {
     "name": "stdout",
     "output_type": "stream",
     "text": [
      "214\n"
     ]
    },
    {
     "name": "stderr",
     "output_type": "stream",
     "text": [
      "Info: Params [ 0.16444698 -0.47387174  0.74833517 -0.72443984  1.42825194  1.28868672\n",
      "  0.04831114 -0.0317406   0.94286703  0.95025905] gave 251.2278711623705\n"
     ]
    },
    {
     "name": "stdout",
     "output_type": "stream",
     "text": [
      "215\n"
     ]
    },
    {
     "name": "stderr",
     "output_type": "stream",
     "text": [
      "Info: Params [ 0.         -0.67794477  0.07986859 -1.34218425  0.94848704  0.91841957\n",
      "  0.12944971  0.16358482  0.96297391  0.80049653] gave 198.79060531192303\n"
     ]
    },
    {
     "name": "stdout",
     "output_type": "stream",
     "text": [
      "216\n"
     ]
    },
    {
     "name": "stderr",
     "output_type": "stream",
     "text": [
      "Info: Params [ 0.13862947 -0.91099351  0.         -1.02420618  1.43198487  1.50214707\n",
      "  0.42852151  0.47403358  0.77587848  0.64893497] gave 251.2198611051385\n"
     ]
    },
    {
     "name": "stdout",
     "output_type": "stream",
     "text": [
      "217\n"
     ]
    },
    {
     "name": "stderr",
     "output_type": "stream",
     "text": [
      "Info: Params [ 0.50944807 -0.77385596  0.85158837 -0.3188841   1.24631497  1.17795623\n",
      " -0.08484807 -0.24718255  0.91972651  0.91333805] gave 249.8361748637647\n"
     ]
    },
    {
     "name": "stdout",
     "output_type": "stream",
     "text": [
      "218\n"
     ]
    },
    {
     "name": "stderr",
     "output_type": "stream",
     "text": [
      "Info: Params [ 0.53058363 -0.88409174  0.79092304  0.          1.4094297   1.29797803\n",
      "  0.21139356  0.01155885  0.92414421  0.90429441] gave 243.1978813293842\n"
     ]
    },
    {
     "name": "stdout",
     "output_type": "stream",
     "text": [
      "219\n"
     ]
    },
    {
     "name": "stderr",
     "output_type": "stream",
     "text": [
      "Info: Params [ 0.06951335 -1.08380945  0.         -1.07062017  1.26890886  1.09303932\n",
      "  0.54310706  0.5920871   0.76760388  0.70442484] gave 208.02142873120886\n"
     ]
    },
    {
     "name": "stdout",
     "output_type": "stream",
     "text": [
      "220\n"
     ]
    },
    {
     "name": "stderr",
     "output_type": "stream",
     "text": [
      "Info: Params [ 0.15975776 -1.20997685  0.         -1.4115924   1.40349457  1.40989259\n",
      "  0.22095587  0.35091404  0.91306055  0.93181738] gave 234.7568378879043\n"
     ]
    },
    {
     "name": "stdout",
     "output_type": "stream",
     "text": [
      "221\n"
     ]
    },
    {
     "name": "stderr",
     "output_type": "stream",
     "text": [
      "Info: Params [ 0.         -1.06548945  0.78206887 -1.19067643  0.7452544   0.94371505\n",
      "  0.48590886  0.57530148  0.74499566  0.81225203] gave 140.86481486843914\n"
     ]
    },
    {
     "name": "stdout",
     "output_type": "stream",
     "text": [
      "222\n"
     ]
    },
    {
     "name": "stderr",
     "output_type": "stream",
     "text": [
      "Info: Params [ 0.         -1.10708012  0.10150046 -1.91547716  1.14695342  1.34326088\n",
      "  0.38127998  0.73477906  0.7378387   0.58178497] gave 189.22294422867913\n"
     ]
    },
    {
     "name": "stdout",
     "output_type": "stream",
     "text": [
      "223\n"
     ]
    },
    {
     "name": "stderr",
     "output_type": "stream",
     "text": [
      "Info: Params [ 0.         -1.06168448  0.500997   -0.70020355  1.38186107  1.07433272\n",
      "  0.03157662  0.42043373  0.66840691  0.98878937] gave 215.53419941383373\n"
     ]
    },
    {
     "name": "stdout",
     "output_type": "stream",
     "text": [
      "224\n"
     ]
    },
    {
     "name": "stderr",
     "output_type": "stream",
     "text": [
      "Info: Params [ 0.7154555  -1.10192386  2.62151481 -0.53000044  0.81294345  0.8649694\n",
      "  0.28944607  0.17319355  0.98356395  0.9262669 ] gave 135.81591528143034\n"
     ]
    },
    {
     "name": "stdout",
     "output_type": "stream",
     "text": [
      "225\n"
     ]
    },
    {
     "name": "stderr",
     "output_type": "stream",
     "text": [
      "Info: Params [ 0.02328796 -1.48296128  0.41304242 -1.95589941  0.87473012  0.95261753\n",
      "  0.28067345  0.51007143  0.71461113  0.80132101] gave 142.4314310407412\n"
     ]
    },
    {
     "name": "stdout",
     "output_type": "stream",
     "text": [
      "226\n"
     ]
    },
    {
     "name": "stderr",
     "output_type": "stream",
     "text": [
      "Info: Params [ 0.         -1.93186522  0.35394038 -2.04134315  0.87084569  0.80500835\n",
      "  0.45168101  0.45007852  0.80371066  0.82606864] gave 125.5451862303995\n"
     ]
    },
    {
     "name": "stdout",
     "output_type": "stream",
     "text": [
      "227\n"
     ]
    },
    {
     "name": "stderr",
     "output_type": "stream",
     "text": [
      "Info: Params [ 0.55393602 -1.3672045   0.16945925 -1.25154717  0.93653996  1.06421347\n",
      "  0.09484957  0.43179994  0.71491656  0.83352683] gave 195.52462165766707\n"
     ]
    },
    {
     "name": "stdout",
     "output_type": "stream",
     "text": [
      "228\n"
     ]
    },
    {
     "name": "stderr",
     "output_type": "stream",
     "text": [
      "Info: Params [ 0.54235447 -1.86054698  0.35358955 -1.0446845   0.8315344   0.71904932\n",
      "  0.07815083  0.00580099  0.99984337  0.84312067] gave 144.3258952341314\n"
     ]
    },
    {
     "name": "stdout",
     "output_type": "stream",
     "text": [
      "229\n"
     ]
    },
    {
     "name": "stderr",
     "output_type": "stream",
     "text": [
      "Info: Params [ 0.         -0.24731164  0.56368792 -1.34335262  1.40716425  1.65566314\n",
      "  0.21155372  0.66706207  0.88038313  0.82268973] gave 243.6131330063252\n"
     ]
    },
    {
     "name": "stdout",
     "output_type": "stream",
     "text": [
      "230\n"
     ]
    },
    {
     "name": "stderr",
     "output_type": "stream",
     "text": [
      "Info: Params [ 0.00445596 -1.05009291  0.20517617 -0.57573398  1.27228704  1.27392322\n",
      "  0.37854887  0.44908352  0.90498256  0.97085619] gave 249.62613440274956\n"
     ]
    },
    {
     "name": "stdout",
     "output_type": "stream",
     "text": [
      "231\n"
     ]
    },
    {
     "name": "stderr",
     "output_type": "stream",
     "text": [
      "Info: Params [ 0.20907269 -1.00807449  0.22035092 -0.84707971  1.64493218  1.4488861\n",
      "  0.57840677  0.23772153  0.92993415  0.98486407] gave 266.8274886894722\n"
     ]
    },
    {
     "name": "stdout",
     "output_type": "stream",
     "text": [
      "232\n"
     ]
    },
    {
     "name": "stderr",
     "output_type": "stream",
     "text": [
      "Info: Params [ 0.         -0.83517021  1.40233973 -2.17650338  1.05932284  1.56869378\n",
      "  0.05727742  0.39677697  0.85462544  0.97259458] gave 188.65304115967695\n"
     ]
    },
    {
     "name": "stdout",
     "output_type": "stream",
     "text": [
      "233\n"
     ]
    },
    {
     "name": "stderr",
     "output_type": "stream",
     "text": [
      "Info: Params [ 0.34635081 -0.34610626  2.08785395 -0.36487396  1.16035061  0.93149197\n",
      "  0.05689624 -0.12607786  0.85697546  0.86324145] gave 221.3718796451476\n"
     ]
    },
    {
     "name": "stdout",
     "output_type": "stream",
     "text": [
      "234\n"
     ]
    },
    {
     "name": "stderr",
     "output_type": "stream",
     "text": [
      "Info: Params [ 0.05873035 -0.50491078  0.53661895 -0.66617038  1.64372243  1.91006943\n",
      "  0.30417387  0.13279689  0.95278604  0.98470853] gave 274.32402236834525\n"
     ]
    },
    {
     "name": "stdout",
     "output_type": "stream",
     "text": [
      "235\n"
     ]
    },
    {
     "name": "stderr",
     "output_type": "stream",
     "text": [
      "Info: Params [ 0.45192853 -0.73879737  0.57000768 -0.7989246   1.65960632  1.7532099\n",
      "  0.30198303 -0.07608795  0.90332718  0.94823595] gave 259.4945542654841\n"
     ]
    },
    {
     "name": "stdout",
     "output_type": "stream",
     "text": [
      "236\n"
     ]
    },
    {
     "name": "stderr",
     "output_type": "stream",
     "text": [
      "Info: Params [ 0.16439291 -1.67577693  0.         -2.8822505   1.16326241  1.00769654\n",
      "  0.36298636  0.43935551  0.76737849  0.60508771] gave 168.3343694659709\n"
     ]
    },
    {
     "name": "stdout",
     "output_type": "stream",
     "text": [
      "237\n"
     ]
    },
    {
     "name": "stderr",
     "output_type": "stream",
     "text": [
      "Info: Params [ 1.38607749 -0.66006357  0.95515848 -0.25787111  0.83245399  0.68205846\n",
      " -0.052451   -0.11945392  0.76599632  0.66391268] gave 154.779084956035\n"
     ]
    },
    {
     "name": "stdout",
     "output_type": "stream",
     "text": [
      "238\n"
     ]
    },
    {
     "name": "stderr",
     "output_type": "stream",
     "text": [
      "Info: Params [ 0.1106297  -1.11511045  0.34900894 -0.20544109  1.04923691  0.96073715\n",
      "  0.3037311   0.04121348  0.95587613  0.72329717] gave 223.23885792321389\n"
     ]
    },
    {
     "name": "stdout",
     "output_type": "stream",
     "text": [
      "239\n"
     ]
    },
    {
     "name": "stderr",
     "output_type": "stream",
     "text": [
      "Info: Params [ 0.16202947 -1.07306649  1.05544049 -0.27795378  1.09312881  0.94630416\n",
      "  0.47755277 -0.01636088  0.70093907  0.94174918] gave 208.0206303590758\n"
     ]
    },
    {
     "name": "stdout",
     "output_type": "stream",
     "text": [
      "240\n"
     ]
    },
    {
     "name": "stderr",
     "output_type": "stream",
     "text": [
      "Info: Params [ 0.05792197 -1.40499961  0.68332135 -1.04408203  1.10707328  0.94353508\n",
      "  0.24571511  0.11420537  0.96977242  0.90626415] gave 201.58804504185963\n"
     ]
    },
    {
     "name": "stdout",
     "output_type": "stream",
     "text": [
      "241\n"
     ]
    },
    {
     "name": "stderr",
     "output_type": "stream",
     "text": [
      "Info: Params [ 0.         -0.34006485  0.22153848 -1.37617091  1.5786693   2.03317385\n",
      "  0.13761797  0.68970696  0.96965972  0.96817805] gave 218.20297853836604\n"
     ]
    },
    {
     "name": "stdout",
     "output_type": "stream",
     "text": [
      "242\n"
     ]
    },
    {
     "name": "stderr",
     "output_type": "stream",
     "text": [
      "Info: Params [ 0.         -1.71529828  0.         -1.17409931  1.40790579  1.37392191\n",
      "  0.22957747  0.31159492  0.9241659   0.97084464] gave 220.59920701677856\n"
     ]
    },
    {
     "name": "stdout",
     "output_type": "stream",
     "text": [
      "243\n"
     ]
    },
    {
     "name": "stderr",
     "output_type": "stream",
     "text": [
      "Info: Params [ 0.76316325 -0.89038285  0.18768377 -0.97797704  0.87616756  0.94604406\n",
      "  0.11725007  0.50768796  0.56094829  0.55341736] gave 183.1331648355265\n"
     ]
    },
    {
     "name": "stdout",
     "output_type": "stream",
     "text": [
      "244\n"
     ]
    },
    {
     "name": "stderr",
     "output_type": "stream",
     "text": [
      "Info: Params [ 0.27372834 -0.57125122  0.72983586 -0.51908177  0.99794654  0.88231539\n",
      "  0.23007305 -0.03060777  0.84163383  0.80846514] gave 223.92164394822896\n"
     ]
    },
    {
     "name": "stdout",
     "output_type": "stream",
     "text": [
      "245\n"
     ]
    },
    {
     "name": "stderr",
     "output_type": "stream",
     "text": [
      "Info: Params [ 0.31180133 -0.5696997   0.92431155 -1.28658745  0.84921033  0.87833063\n",
      " -0.14449094  0.55362082  0.83232155  0.84091941] gave 169.48974482829448\n"
     ]
    },
    {
     "name": "stdout",
     "output_type": "stream",
     "text": [
      "246\n"
     ]
    },
    {
     "name": "stderr",
     "output_type": "stream",
     "text": [
      "Info: Params [ 0.55573652 -0.50043989  0.14703757 -0.95855215  1.30847803  1.46062408\n",
      "  0.07542711  0.25740427  0.28831547  0.25750022] gave 233.34631095296547\n"
     ]
    },
    {
     "name": "stdout",
     "output_type": "stream",
     "text": [
      "247\n"
     ]
    },
    {
     "name": "stderr",
     "output_type": "stream",
     "text": [
      "Info: Params [ 0.84040596 -0.90422591  0.22504142 -1.27950607  0.79128817  0.76448439\n",
      "  0.23619773  0.45942026  0.81594801  0.73065292] gave 133.68361471702303\n"
     ]
    },
    {
     "name": "stdout",
     "output_type": "stream",
     "text": [
      "248\n"
     ]
    },
    {
     "name": "stderr",
     "output_type": "stream",
     "text": [
      "Info: Params [ 1.70416935 -0.73356353  2.28578735 -0.41661733  0.78529301  0.82171733\n",
      " -0.12085376 -0.34845809  0.63401379  0.53238678] gave 146.20131066075072\n"
     ]
    },
    {
     "name": "stdout",
     "output_type": "stream",
     "text": [
      "249\n"
     ]
    },
    {
     "name": "stderr",
     "output_type": "stream",
     "text": [
      "Info: Params [ 1.7948992  -0.91232568  1.07908362 -0.07549819  1.03805947  1.03926134\n",
      " -0.15518337  0.41173983  0.62441215  0.75046018] gave 171.62399521731393\n"
     ]
    },
    {
     "name": "stdout",
     "output_type": "stream",
     "text": [
      "250\n"
     ]
    },
    {
     "name": "stderr",
     "output_type": "stream",
     "text": [
      "Info: Params [ 0.         -0.47379355  0.46508728 -1.10969909  1.53203538  1.46518072\n",
      "  0.33808644  0.55696099  0.92471385  0.73232978] gave 246.11894953811586\n"
     ]
    },
    {
     "name": "stdout",
     "output_type": "stream",
     "text": [
      "251\n"
     ]
    },
    {
     "name": "stderr",
     "output_type": "stream",
     "text": [
      "Info: Params [ 0.8148146  -0.48251073  0.86174993 -0.45016008  1.20660869  0.99837457\n",
      " -0.05403603  0.12552981  0.93365997  0.91305328] gave 229.61823265299947\n"
     ]
    },
    {
     "name": "stdout",
     "output_type": "stream",
     "text": [
      "252\n"
     ]
    },
    {
     "name": "stderr",
     "output_type": "stream",
     "text": [
      "Info: Params [ 0.         -1.42382689  0.         -1.03328723  1.37895234  1.50123598\n",
      "  0.40099304  0.18030907  0.90898768  0.92095706] gave 248.7495782038714\n"
     ]
    },
    {
     "name": "stdout",
     "output_type": "stream",
     "text": [
      "253\n"
     ]
    },
    {
     "name": "stderr",
     "output_type": "stream",
     "text": [
      "Info: Params [ 0.25924774 -0.51746656  0.25216209 -0.61194266  1.61194437  1.67198869\n",
      "  0.30382797  0.35223165  0.9958845   0.93144689] gave 281.90620622095304\n"
     ]
    },
    {
     "name": "stdout",
     "output_type": "stream",
     "text": [
      "254\n"
     ]
    },
    {
     "name": "stderr",
     "output_type": "stream",
     "text": [
      "Info: Params [ 0.31990375 -0.98106567  0.         -1.72468541  1.18601081  1.74501897\n",
      "  0.49724508  0.7893486   0.75153249  0.76034563] gave 193.09879344978611\n"
     ]
    },
    {
     "name": "stdout",
     "output_type": "stream",
     "text": [
      "255\n"
     ]
    },
    {
     "name": "stderr",
     "output_type": "stream",
     "text": [
      "Info: Params [ 0.55618746 -0.72435042  0.4353885  -0.81137685  1.25003472  1.54620345\n",
      "  0.0933334   0.13288217  0.60570456  0.97064307] gave 262.9959585904998\n"
     ]
    },
    {
     "name": "stdout",
     "output_type": "stream",
     "text": [
      "256\n"
     ]
    },
    {
     "name": "stderr",
     "output_type": "stream",
     "text": [
      "Info: Params [ 0.08550418 -1.88032371  0.26615761 -0.6174504   0.87127072  0.86018985\n",
      "  0.33701236  0.35423279  0.6532904   0.79118283] gave 153.194116234796\n"
     ]
    },
    {
     "name": "stdout",
     "output_type": "stream",
     "text": [
      "257\n"
     ]
    },
    {
     "name": "stderr",
     "output_type": "stream",
     "text": [
      "Info: Params [ 0.18358375 -1.11958428  0.44974556 -0.88656174  1.48423809  1.53863838\n",
      "  0.40829699 -0.04179765  0.70330825  0.88050148] gave 235.37357281108658\n"
     ]
    },
    {
     "name": "stdout",
     "output_type": "stream",
     "text": [
      "258\n"
     ]
    },
    {
     "name": "stderr",
     "output_type": "stream",
     "text": [
      "Info: Params [ 0.37146045 -1.38154552  0.2830346  -2.12328307  0.80868622  0.80271066\n",
      "  0.2332852   0.31644979  0.86258726  0.83972848] gave 152.19009919257047\n"
     ]
    },
    {
     "name": "stdout",
     "output_type": "stream",
     "text": [
      "259\n"
     ]
    },
    {
     "name": "stderr",
     "output_type": "stream",
     "text": [
      "Info: Params [ 0.         -1.04179872  1.29426775 -0.94248689  1.57561952  1.67528124\n",
      " -0.13262088 -0.0257623   0.90038301  0.9423557 ] gave 229.2178706730339\n"
     ]
    },
    {
     "name": "stdout",
     "output_type": "stream",
     "text": [
      "260\n"
     ]
    },
    {
     "name": "stderr",
     "output_type": "stream",
     "text": [
      "Info: Params [ 0.55010952 -0.40927229  0.54054018 -1.05489798  1.04616692  1.09796239\n",
      " -0.00394232  0.03912181  0.91692311  0.95852269] gave 221.85506565783055\n"
     ]
    },
    {
     "name": "stdout",
     "output_type": "stream",
     "text": [
      "261\n"
     ]
    },
    {
     "name": "stderr",
     "output_type": "stream",
     "text": [
      "Info: Params [ 0.22574345 -0.26638395  0.61379351 -0.38747109  1.24074501  1.38332006\n",
      " -0.00300197  0.19093556  0.93402356  0.94822402] gave 233.7000354323039\n"
     ]
    },
    {
     "name": "stdout",
     "output_type": "stream",
     "text": [
      "262\n"
     ]
    },
    {
     "name": "stderr",
     "output_type": "stream",
     "text": [
      "Info: Params [ 0.8789847  -1.00922443  0.44501308 -0.61302964  1.77377904  1.31037478\n",
      "  0.31838385  0.3064316   0.90492645  0.95911755] gave 230.67399857953822\n"
     ]
    },
    {
     "name": "stdout",
     "output_type": "stream",
     "text": [
      "263\n"
     ]
    },
    {
     "name": "stderr",
     "output_type": "stream",
     "text": [
      "Info: Params [ 0.         -0.72615909  0.76037023 -0.86614829  1.32262542  1.29323324\n",
      "  0.0117018  -0.26155854  0.95983485  0.90050011] gave 236.97076847303788\n"
     ]
    },
    {
     "name": "stdout",
     "output_type": "stream",
     "text": [
      "264\n"
     ]
    },
    {
     "name": "stderr",
     "output_type": "stream",
     "text": [
      "Info: Params [ 0.         -1.18673499  0.4973709  -1.06353878  1.24315536  1.22314771\n",
      "  0.08296255  0.23525405  0.8767717   0.90294428] gave 239.72875976498602\n"
     ]
    },
    {
     "name": "stdout",
     "output_type": "stream",
     "text": [
      "265\n"
     ]
    },
    {
     "name": "stderr",
     "output_type": "stream",
     "text": [
      "Info: Params [ 0.14349515 -1.63784278  0.13369826 -0.69806663  0.77052658  0.76917172\n",
      "  0.0899232   0.18580265  0.91395092  0.93206726] gave 166.07791521124847\n"
     ]
    },
    {
     "name": "stdout",
     "output_type": "stream",
     "text": [
      "266\n"
     ]
    },
    {
     "name": "stderr",
     "output_type": "stream",
     "text": [
      "Info: Params [ 0.41147985 -1.11269759  0.32350119 -1.87700194  1.15527318  1.14847986\n",
      "  0.0202231   0.0998363   0.93774978  0.97524863] gave 185.41856097056504\n"
     ]
    },
    {
     "name": "stdout",
     "output_type": "stream",
     "text": [
      "267\n"
     ]
    },
    {
     "name": "stderr",
     "output_type": "stream",
     "text": [
      "Info: Params [ 0.         -0.69023967  0.3901135  -0.8930084   1.31897842  1.53787057\n",
      "  0.23059449  0.34754411  0.81980065  0.97876866] gave 287.99505694435635\n"
     ]
    },
    {
     "name": "stdout",
     "output_type": "stream",
     "text": [
      "268\n"
     ]
    },
    {
     "name": "stderr",
     "output_type": "stream",
     "text": [
      "Info: Params [ 0.         -1.17962048  0.71814719 -0.87346701  1.30936968  1.1752878\n",
      "  0.44063459  0.29777617  0.93768389  0.91130214] gave 217.71542224360473\n"
     ]
    },
    {
     "name": "stdout",
     "output_type": "stream",
     "text": [
      "269\n"
     ]
    },
    {
     "name": "stderr",
     "output_type": "stream",
     "text": [
      "Info: Params [ 0.38047075 -0.76223031  0.12395656 -0.63177885  1.6150601   1.63178961\n",
      "  0.47003584  0.33780227  0.97092077  0.84871862] gave 256.5002639647869\n"
     ]
    },
    {
     "name": "stdout",
     "output_type": "stream",
     "text": [
      "270\n"
     ]
    },
    {
     "name": "stderr",
     "output_type": "stream",
     "text": [
      "Info: Params [ 0.         -0.9896143   0.28617199 -1.16173003  1.06740243  1.31186175\n",
      "  0.01768411  0.47526633  0.86471114  0.95603587] gave 215.82635130551415\n"
     ]
    },
    {
     "name": "stdout",
     "output_type": "stream",
     "text": [
      "271\n"
     ]
    },
    {
     "name": "stderr",
     "output_type": "stream",
     "text": [
      "Info: Params [ 0.71945015 -0.59138134  0.69465998 -1.15414893  0.8232478   0.6964257\n",
      "  0.17261836  0.35756885  0.96895001  0.82320867] gave 139.77530310918473\n"
     ]
    },
    {
     "name": "stdout",
     "output_type": "stream",
     "text": [
      "272\n"
     ]
    },
    {
     "name": "stderr",
     "output_type": "stream",
     "text": [
      "Info: Params [ 0.         -0.59733447  0.79060979 -0.54451961  1.19647654  1.1454435\n",
      "  0.14580637  0.02995859  0.63775872  0.60621823] gave 258.8177448427674\n"
     ]
    },
    {
     "name": "stdout",
     "output_type": "stream",
     "text": [
      "273\n"
     ]
    },
    {
     "name": "stderr",
     "output_type": "stream",
     "text": [
      "Info: Params [ 0.22738255 -0.69473811  0.         -1.03144318  1.02751006  1.09443461\n",
      "  0.46099834  0.47117446  0.64522317  0.67667834] gave 214.14457664970865\n"
     ]
    },
    {
     "name": "stdout",
     "output_type": "stream",
     "text": [
      "274\n"
     ]
    },
    {
     "name": "stderr",
     "output_type": "stream",
     "text": [
      "Info: Params [ 0.         -1.15133166  0.33349112 -0.75372083  1.53853293  1.4109119\n",
      "  0.43906869  0.31045121  0.6019601   0.66172631] gave 275.02597961033626\n"
     ]
    },
    {
     "name": "stdout",
     "output_type": "stream",
     "text": [
      "275\n"
     ]
    },
    {
     "name": "stderr",
     "output_type": "stream",
     "text": [
      "Info: Params [ 0.         -0.86891566  0.         -1.15842154  1.5071433   1.67490236\n",
      "  0.3523978   0.51442487  0.91967627  0.92561969] gave 261.1968215686141\n"
     ]
    },
    {
     "name": "stdout",
     "output_type": "stream",
     "text": [
      "276\n"
     ]
    },
    {
     "name": "stderr",
     "output_type": "stream",
     "text": [
      "Info: Params [ 0.         -1.29992597  0.         -1.28897996  1.26056953  1.23717997\n",
      "  0.34105418  0.30048681  0.7145895   0.74754306] gave 236.25689338651748\n"
     ]
    },
    {
     "name": "stdout",
     "output_type": "stream",
     "text": [
      "277\n"
     ]
    },
    {
     "name": "stderr",
     "output_type": "stream",
     "text": [
      "Info: Params [ 0.12000036 -1.57540413  0.         -0.63027952  1.13747215  0.99654789\n",
      "  0.34241282  0.25291173  0.9406245   0.96688652] gave 202.46835493704847\n"
     ]
    },
    {
     "name": "stdout",
     "output_type": "stream",
     "text": [
      "278\n"
     ]
    },
    {
     "name": "stderr",
     "output_type": "stream",
     "text": [
      "Info: Params [ 0.86728648 -0.06033002  0.60921125 -0.64797089  0.83955288  0.77643575\n",
      " -0.2653714   0.15579522  0.65422837  0.79038901] gave 191.70687649573156\n"
     ]
    },
    {
     "name": "stdout",
     "output_type": "stream",
     "text": [
      "279\n"
     ]
    },
    {
     "name": "stderr",
     "output_type": "stream",
     "text": [
      "Info: Params [ 1.20431894 -0.10212685  1.26573812 -0.35050461  1.35818677  1.83284296\n",
      " -0.06788587  0.15583509  0.9172404   0.93113628] gave 209.49360783060433\n"
     ]
    },
    {
     "name": "stdout",
     "output_type": "stream",
     "text": [
      "280\n"
     ]
    },
    {
     "name": "stderr",
     "output_type": "stream",
     "text": [
      "Info: Params [ 0.29226602 -1.46438969  0.69204599 -0.36279032  1.59532135  1.32938354\n",
      "  0.43909124 -0.00464917  0.91282966  0.93913456] gave 221.0482772457762\n"
     ]
    },
    {
     "name": "stdout",
     "output_type": "stream",
     "text": [
      "281\n"
     ]
    },
    {
     "name": "stderr",
     "output_type": "stream",
     "text": [
      "Info: Params [ 1.61928989 -0.39174622  1.15820553 -0.31578122  0.89342405  0.84006252\n",
      "  0.24862407  0.10334284  0.63523351  0.86541141] gave 154.1616637744639\n"
     ]
    },
    {
     "name": "stdout",
     "output_type": "stream",
     "text": [
      "282\n"
     ]
    },
    {
     "name": "stderr",
     "output_type": "stream",
     "text": [
      "Info: Params [ 0.         -1.01825753  0.18063925 -1.42463805  1.60992791  1.67371715\n",
      "  0.19555847  0.60385371  0.6197787   0.70567   ] gave 258.14123057028587\n"
     ]
    },
    {
     "name": "stdout",
     "output_type": "stream",
     "text": [
      "283\n"
     ]
    },
    {
     "name": "stderr",
     "output_type": "stream",
     "text": [
      "Info: Params [ 0.21549714 -0.62087838  0.         -2.29815031  1.16056008  0.97300979\n",
      "  0.21567908  0.3203625   0.93300258  0.75038948] gave 222.26510009208224\n"
     ]
    },
    {
     "name": "stdout",
     "output_type": "stream",
     "text": [
      "284\n"
     ]
    },
    {
     "name": "stderr",
     "output_type": "stream",
     "text": [
      "Info: Params [ 0.37596178 -1.11540479  0.3155447  -0.61170257  1.14890251  1.06948051\n",
      "  0.32201454  0.21344349  0.95949312  0.92030659] gave 215.2306763494322\n"
     ]
    },
    {
     "name": "stdout",
     "output_type": "stream",
     "text": [
      "285\n"
     ]
    },
    {
     "name": "stderr",
     "output_type": "stream",
     "text": [
      "Info: Params [ 0.         -0.71760456  1.74291369 -0.91260436  1.23236337  1.40361693\n",
      "  0.17272328 -0.03741446  0.99370036  0.98188038] gave 215.3861173274442\n"
     ]
    },
    {
     "name": "stdout",
     "output_type": "stream",
     "text": [
      "286\n"
     ]
    },
    {
     "name": "stderr",
     "output_type": "stream",
     "text": [
      "Info: Params [ 0.         -1.46773989  0.45213271 -1.05842118  1.14595931  1.23226245\n",
      "  0.37556589  0.30157578  0.8246592   0.97199438] gave 214.5248478410562\n"
     ]
    },
    {
     "name": "stdout",
     "output_type": "stream",
     "text": [
      "287\n"
     ]
    },
    {
     "name": "stderr",
     "output_type": "stream",
     "text": [
      "Info: Params [ 0.         -1.08996762  0.16831467 -1.08653445  1.0769377   1.19201246\n",
      " -0.14051749 -0.27839355  0.85188211  0.89141878] gave 189.56213832342436\n"
     ]
    },
    {
     "name": "stdout",
     "output_type": "stream",
     "text": [
      "288\n"
     ]
    },
    {
     "name": "stderr",
     "output_type": "stream",
     "text": [
      "Info: Params [ 0.88470881 -0.20457151  1.37295337 -0.14746272  0.92239137  0.77688202\n",
      "  0.00221733  0.20788375  0.81126161  0.93151881] gave 171.154997732198\n"
     ]
    },
    {
     "name": "stdout",
     "output_type": "stream",
     "text": [
      "289\n"
     ]
    },
    {
     "name": "stderr",
     "output_type": "stream",
     "text": [
      "Info: Params [ 0.91506415 -0.63602722  1.12306079 -0.40542616  0.95332133  0.94307101\n",
      "  0.03975324  0.22008107  0.78903673  0.78685481] gave 197.64177368924592\n"
     ]
    },
    {
     "name": "stdout",
     "output_type": "stream",
     "text": [
      "290\n"
     ]
    },
    {
     "name": "stderr",
     "output_type": "stream",
     "text": [
      "Info: Params [ 0.68843123 -0.73690907  0.23236918 -2.10657591  1.13360147  0.85391376\n",
      " -0.22303373  0.34737367  0.85655708  0.52878674] gave 195.06646033893205\n"
     ]
    },
    {
     "name": "stdout",
     "output_type": "stream",
     "text": [
      "291\n"
     ]
    },
    {
     "name": "stderr",
     "output_type": "stream",
     "text": [
      "Info: Params [ 0.21556667 -0.56309695  0.0407318  -0.57571681  1.57675664  1.45242761\n",
      "  0.01751402  0.04771447  0.9276991   0.90147594] gave 266.958387795525\n"
     ]
    },
    {
     "name": "stdout",
     "output_type": "stream",
     "text": [
      "292\n"
     ]
    },
    {
     "name": "stderr",
     "output_type": "stream",
     "text": [
      "Info: Params [ 0.         -1.03449184  0.         -1.11144956  1.45183722  1.31416673\n",
      "  0.10247296  0.59615737  0.95759791  0.84302299] gave 233.53701355103271\n"
     ]
    },
    {
     "name": "stdout",
     "output_type": "stream",
     "text": [
      "293\n"
     ]
    },
    {
     "name": "stderr",
     "output_type": "stream",
     "text": [
      "Info: Params [ 0.27557116 -1.32452355  0.07354897 -1.10692236  0.88641792  1.06455654\n",
      "  0.48273346  0.33792706  0.86828277  0.92175531] gave 181.42476496194718\n"
     ]
    },
    {
     "name": "stdout",
     "output_type": "stream",
     "text": [
      "294\n"
     ]
    },
    {
     "name": "stderr",
     "output_type": "stream",
     "text": [
      "Info: Params [ 1.18903587 -1.27206591  0.         -3.28862385  0.52160599  0.58475019\n",
      "  0.00345204  0.59478438  0.73809201  0.78648409] gave 99.17905166958666\n"
     ]
    },
    {
     "name": "stdout",
     "output_type": "stream",
     "text": [
      "295\n"
     ]
    },
    {
     "name": "stderr",
     "output_type": "stream",
     "text": [
      "Info: Params [ 0.78761739 -0.30334204  0.03315612 -0.43485937  1.10580746  1.25439463\n",
      " -0.09128093  0.16301847  0.59205807  0.80398166] gave 270.08357766474364\n"
     ]
    },
    {
     "name": "stdout",
     "output_type": "stream",
     "text": [
      "296\n"
     ]
    },
    {
     "name": "stderr",
     "output_type": "stream",
     "text": [
      "Info: Params [ 0.07148498 -1.46968034  0.01222583 -1.26171127  1.41217157  1.30509465\n",
      "  0.13653641  0.1734244   0.95833314  0.92723899] gave 222.331290862785\n"
     ]
    },
    {
     "name": "stdout",
     "output_type": "stream",
     "text": [
      "297\n"
     ]
    },
    {
     "name": "stderr",
     "output_type": "stream",
     "text": [
      "Info: Params [ 0.36501626 -0.95693077  0.34062084 -0.92512083  0.95176253  1.00668778\n",
      "  0.10730013 -0.01887038  0.97722111  0.9712809 ] gave 210.78915136576458\n"
     ]
    },
    {
     "name": "stdout",
     "output_type": "stream",
     "text": [
      "298\n"
     ]
    },
    {
     "name": "stderr",
     "output_type": "stream",
     "text": [
      "Info: Params [ 0.6809514  -0.71787613  0.48439048 -0.16337871  1.50157522  1.15701113\n",
      "  0.23102767  0.20928026  0.93170688  0.96196749] gave 252.921480136647\n"
     ]
    },
    {
     "ename": "PermissionError",
     "evalue": "[Errno 13] Permission denied: 'model_fits/model_m1c/data_E2/all_subjects.csv'",
     "output_type": "error",
     "traceback": [
      "\u001b[1;31m---------------------------------------------------------------------------\u001b[0m",
      "\u001b[1;31mPermissionError\u001b[0m                           Traceback (most recent call last)",
      "\u001b[1;32m~\\AppData\\Local\\Temp/ipykernel_26228/3259015722.py\u001b[0m in \u001b[0;36m<module>\u001b[1;34m\u001b[0m\n\u001b[0;32m     57\u001b[0m     \u001b[0msummary_list\u001b[0m\u001b[1;33m.\u001b[0m\u001b[0mappend\u001b[0m\u001b[1;33m(\u001b[0m\u001b[0ma\u001b[0m\u001b[1;33m)\u001b[0m\u001b[1;33m\u001b[0m\u001b[1;33m\u001b[0m\u001b[0m\n\u001b[0;32m     58\u001b[0m \u001b[0msummary_df\u001b[0m \u001b[1;33m=\u001b[0m \u001b[0mpd\u001b[0m\u001b[1;33m.\u001b[0m\u001b[0mconcat\u001b[0m\u001b[1;33m(\u001b[0m\u001b[0msummary_list\u001b[0m\u001b[1;33m)\u001b[0m\u001b[1;33m\u001b[0m\u001b[1;33m\u001b[0m\u001b[0m\n\u001b[1;32m---> 59\u001b[1;33m \u001b[0msummary_df\u001b[0m\u001b[1;33m.\u001b[0m\u001b[0mto_csv\u001b[0m\u001b[1;33m(\u001b[0m\u001b[1;34m\"model_fits/model_m1c/data_E2/all_subjects.csv\"\u001b[0m\u001b[1;33m)\u001b[0m\u001b[1;33m\u001b[0m\u001b[1;33m\u001b[0m\u001b[0m\n\u001b[0m",
      "\u001b[1;32m~\\AppData\\Roaming\\Python\\Python39\\site-packages\\pandas\\util\\_decorators.py\u001b[0m in \u001b[0;36mwrapper\u001b[1;34m(*args, **kwargs)\u001b[0m\n\u001b[0;32m    209\u001b[0m                 \u001b[1;32melse\u001b[0m\u001b[1;33m:\u001b[0m\u001b[1;33m\u001b[0m\u001b[1;33m\u001b[0m\u001b[0m\n\u001b[0;32m    210\u001b[0m                     \u001b[0mkwargs\u001b[0m\u001b[1;33m[\u001b[0m\u001b[0mnew_arg_name\u001b[0m\u001b[1;33m]\u001b[0m \u001b[1;33m=\u001b[0m \u001b[0mnew_arg_value\u001b[0m\u001b[1;33m\u001b[0m\u001b[1;33m\u001b[0m\u001b[0m\n\u001b[1;32m--> 211\u001b[1;33m             \u001b[1;32mreturn\u001b[0m \u001b[0mfunc\u001b[0m\u001b[1;33m(\u001b[0m\u001b[1;33m*\u001b[0m\u001b[0margs\u001b[0m\u001b[1;33m,\u001b[0m \u001b[1;33m**\u001b[0m\u001b[0mkwargs\u001b[0m\u001b[1;33m)\u001b[0m\u001b[1;33m\u001b[0m\u001b[1;33m\u001b[0m\u001b[0m\n\u001b[0m\u001b[0;32m    212\u001b[0m \u001b[1;33m\u001b[0m\u001b[0m\n\u001b[0;32m    213\u001b[0m         \u001b[1;32mreturn\u001b[0m \u001b[0mcast\u001b[0m\u001b[1;33m(\u001b[0m\u001b[0mF\u001b[0m\u001b[1;33m,\u001b[0m \u001b[0mwrapper\u001b[0m\u001b[1;33m)\u001b[0m\u001b[1;33m\u001b[0m\u001b[1;33m\u001b[0m\u001b[0m\n",
      "\u001b[1;32m~\\AppData\\Roaming\\Python\\Python39\\site-packages\\pandas\\core\\generic.py\u001b[0m in \u001b[0;36mto_csv\u001b[1;34m(self, path_or_buf, sep, na_rep, float_format, columns, header, index, index_label, mode, encoding, compression, quoting, quotechar, lineterminator, chunksize, date_format, doublequote, escapechar, decimal, errors, storage_options)\u001b[0m\n\u001b[0;32m   3718\u001b[0m         )\n\u001b[0;32m   3719\u001b[0m \u001b[1;33m\u001b[0m\u001b[0m\n\u001b[1;32m-> 3720\u001b[1;33m         return DataFrameRenderer(formatter).to_csv(\n\u001b[0m\u001b[0;32m   3721\u001b[0m             \u001b[0mpath_or_buf\u001b[0m\u001b[1;33m,\u001b[0m\u001b[1;33m\u001b[0m\u001b[1;33m\u001b[0m\u001b[0m\n\u001b[0;32m   3722\u001b[0m             \u001b[0mlineterminator\u001b[0m\u001b[1;33m=\u001b[0m\u001b[0mlineterminator\u001b[0m\u001b[1;33m,\u001b[0m\u001b[1;33m\u001b[0m\u001b[1;33m\u001b[0m\u001b[0m\n",
      "\u001b[1;32m~\\AppData\\Roaming\\Python\\Python39\\site-packages\\pandas\\util\\_decorators.py\u001b[0m in \u001b[0;36mwrapper\u001b[1;34m(*args, **kwargs)\u001b[0m\n\u001b[0;32m    209\u001b[0m                 \u001b[1;32melse\u001b[0m\u001b[1;33m:\u001b[0m\u001b[1;33m\u001b[0m\u001b[1;33m\u001b[0m\u001b[0m\n\u001b[0;32m    210\u001b[0m                     \u001b[0mkwargs\u001b[0m\u001b[1;33m[\u001b[0m\u001b[0mnew_arg_name\u001b[0m\u001b[1;33m]\u001b[0m \u001b[1;33m=\u001b[0m \u001b[0mnew_arg_value\u001b[0m\u001b[1;33m\u001b[0m\u001b[1;33m\u001b[0m\u001b[0m\n\u001b[1;32m--> 211\u001b[1;33m             \u001b[1;32mreturn\u001b[0m \u001b[0mfunc\u001b[0m\u001b[1;33m(\u001b[0m\u001b[1;33m*\u001b[0m\u001b[0margs\u001b[0m\u001b[1;33m,\u001b[0m \u001b[1;33m**\u001b[0m\u001b[0mkwargs\u001b[0m\u001b[1;33m)\u001b[0m\u001b[1;33m\u001b[0m\u001b[1;33m\u001b[0m\u001b[0m\n\u001b[0m\u001b[0;32m    212\u001b[0m \u001b[1;33m\u001b[0m\u001b[0m\n\u001b[0;32m    213\u001b[0m         \u001b[1;32mreturn\u001b[0m \u001b[0mcast\u001b[0m\u001b[1;33m(\u001b[0m\u001b[0mF\u001b[0m\u001b[1;33m,\u001b[0m \u001b[0mwrapper\u001b[0m\u001b[1;33m)\u001b[0m\u001b[1;33m\u001b[0m\u001b[1;33m\u001b[0m\u001b[0m\n",
      "\u001b[1;32m~\\AppData\\Roaming\\Python\\Python39\\site-packages\\pandas\\io\\formats\\format.py\u001b[0m in \u001b[0;36mto_csv\u001b[1;34m(self, path_or_buf, encoding, sep, columns, index_label, mode, compression, quoting, quotechar, lineterminator, chunksize, date_format, doublequote, escapechar, errors, storage_options)\u001b[0m\n\u001b[0;32m   1187\u001b[0m             \u001b[0mformatter\u001b[0m\u001b[1;33m=\u001b[0m\u001b[0mself\u001b[0m\u001b[1;33m.\u001b[0m\u001b[0mfmt\u001b[0m\u001b[1;33m,\u001b[0m\u001b[1;33m\u001b[0m\u001b[1;33m\u001b[0m\u001b[0m\n\u001b[0;32m   1188\u001b[0m         )\n\u001b[1;32m-> 1189\u001b[1;33m         \u001b[0mcsv_formatter\u001b[0m\u001b[1;33m.\u001b[0m\u001b[0msave\u001b[0m\u001b[1;33m(\u001b[0m\u001b[1;33m)\u001b[0m\u001b[1;33m\u001b[0m\u001b[1;33m\u001b[0m\u001b[0m\n\u001b[0m\u001b[0;32m   1190\u001b[0m \u001b[1;33m\u001b[0m\u001b[0m\n\u001b[0;32m   1191\u001b[0m         \u001b[1;32mif\u001b[0m \u001b[0mcreated_buffer\u001b[0m\u001b[1;33m:\u001b[0m\u001b[1;33m\u001b[0m\u001b[1;33m\u001b[0m\u001b[0m\n",
      "\u001b[1;32m~\\AppData\\Roaming\\Python\\Python39\\site-packages\\pandas\\io\\formats\\csvs.py\u001b[0m in \u001b[0;36msave\u001b[1;34m(self)\u001b[0m\n\u001b[0;32m    239\u001b[0m         \"\"\"\n\u001b[0;32m    240\u001b[0m         \u001b[1;31m# apply compression and byte/text conversion\u001b[0m\u001b[1;33m\u001b[0m\u001b[1;33m\u001b[0m\u001b[0m\n\u001b[1;32m--> 241\u001b[1;33m         with get_handle(\n\u001b[0m\u001b[0;32m    242\u001b[0m             \u001b[0mself\u001b[0m\u001b[1;33m.\u001b[0m\u001b[0mfilepath_or_buffer\u001b[0m\u001b[1;33m,\u001b[0m\u001b[1;33m\u001b[0m\u001b[1;33m\u001b[0m\u001b[0m\n\u001b[0;32m    243\u001b[0m             \u001b[0mself\u001b[0m\u001b[1;33m.\u001b[0m\u001b[0mmode\u001b[0m\u001b[1;33m,\u001b[0m\u001b[1;33m\u001b[0m\u001b[1;33m\u001b[0m\u001b[0m\n",
      "\u001b[1;32m~\\AppData\\Roaming\\Python\\Python39\\site-packages\\pandas\\io\\common.py\u001b[0m in \u001b[0;36mget_handle\u001b[1;34m(path_or_buf, mode, encoding, compression, memory_map, is_text, errors, storage_options)\u001b[0m\n\u001b[0;32m    854\u001b[0m         \u001b[1;32mif\u001b[0m \u001b[0mioargs\u001b[0m\u001b[1;33m.\u001b[0m\u001b[0mencoding\u001b[0m \u001b[1;32mand\u001b[0m \u001b[1;34m\"b\"\u001b[0m \u001b[1;32mnot\u001b[0m \u001b[1;32min\u001b[0m \u001b[0mioargs\u001b[0m\u001b[1;33m.\u001b[0m\u001b[0mmode\u001b[0m\u001b[1;33m:\u001b[0m\u001b[1;33m\u001b[0m\u001b[1;33m\u001b[0m\u001b[0m\n\u001b[0;32m    855\u001b[0m             \u001b[1;31m# Encoding\u001b[0m\u001b[1;33m\u001b[0m\u001b[1;33m\u001b[0m\u001b[0m\n\u001b[1;32m--> 856\u001b[1;33m             handle = open(\n\u001b[0m\u001b[0;32m    857\u001b[0m                 \u001b[0mhandle\u001b[0m\u001b[1;33m,\u001b[0m\u001b[1;33m\u001b[0m\u001b[1;33m\u001b[0m\u001b[0m\n\u001b[0;32m    858\u001b[0m                 \u001b[0mioargs\u001b[0m\u001b[1;33m.\u001b[0m\u001b[0mmode\u001b[0m\u001b[1;33m,\u001b[0m\u001b[1;33m\u001b[0m\u001b[1;33m\u001b[0m\u001b[0m\n",
      "\u001b[1;31mPermissionError\u001b[0m: [Errno 13] Permission denied: 'model_fits/model_m1c/data_E2/all_subjects.csv'"
     ]
    }
   ],
   "source": [
    "m1c_spec = Model(name='Basic model drift varies as a function of target presence',\n",
    "                 drift=DriftPresentC(driftabsent0=Fittable(minval=-10, maxval=0),\n",
    "                                     driftpresent0=Fittable(minval=0, maxval=10),\n",
    "                                     driftabsent1=Fittable(minval=-10, maxval=0),\n",
    "                                     driftpresent1=Fittable(minval=0, maxval=10)),\n",
    "                 noise=NoiseConstant(noise=1),\n",
    "                 IC=ICPointSideBiasRatioC(x00=Fittable(minval=-1, maxval=1),\n",
    "                                         x01=Fittable(minval=-1, maxval=1)),\n",
    "                 bound=BoundC(B0=Fittable(minval=0.1, maxval=2.5),\n",
    "                             B1 = Fittable(minval=0.1, maxval=2.5)),\n",
    "                 overlay=OverlayChain(overlays=[OverlayNonDecisionC(nondectime0=Fittable(minval=0, maxval=1),\n",
    "                                                                   nondectime1=Fittable(minval=0,maxval=1)),\n",
    "                                                OverlayPoissonMixture(pmixturecoef=.02,\n",
    "                                                                      rate=1)]),\n",
    "                 dx=.01, dt=.1, T_dur=5)\n",
    "\n",
    "def fit_m1c(df,data_label):\n",
    "    \n",
    "    df = df.reset_index();\n",
    "    subj_id = df.subj_id[0]\n",
    "    \n",
    "    sample = Sample.from_pandas_dataframe(df, rt_column_name=\"rt\", correct_column_name=\"correct\")\n",
    "    fit_model = fit_adjust_model(sample=sample, model=m1c_spec, verbose=False, lossfunction = LossRobustBIC)\n",
    "    summary_df = pd.DataFrame.from_dict({\n",
    "        'subj_id': [subj_id],\n",
    "        'driftabsent0': [float(fit_model.parameters()['drift']['driftabsent0'])],\n",
    "        'driftpresent0': [float(fit_model.parameters()['drift']['driftpresent0'])],\n",
    "        'noise': [float(fit_model.parameters()['noise']['noise'])],\n",
    "        'bound0': [float(fit_model.parameters()['bound']['B0'])],\n",
    "        'IC0': [float(fit_model.parameters()['IC']['x00'])],\n",
    "        'nondec0': [float(fit_model.parameters()['overlay']['nondectime0'])],\n",
    "        'driftabsent1': [float(fit_model.parameters()['drift']['driftabsent1'])],\n",
    "        'driftpresent1': [float(fit_model.parameters()['drift']['driftpresent1'])],\n",
    "        'bound1': [float(fit_model.parameters()['bound']['B1'])],\n",
    "        'IC1': [float(fit_model.parameters()['IC']['x01'])],\n",
    "        'nondec1': [float(fit_model.parameters()['overlay']['nondectime1'])],\n",
    "        'BIC': [fit_model.fitresult.value()]\n",
    "    })\n",
    "    \n",
    "    if not os.path.exists(\"model_fits/model_m1c/data_\"+data_label):\n",
    "                       os.makedirs(\"model_fits/model_m1c/data_\"+data_label)\n",
    "                       \n",
    "    with open(\"model_fits/model_m1c/data_\"+data_label+\"/subj\"+str(subj_id)+\".txt\", \"w\") as f:\n",
    "        f.write(repr(fit_model))\n",
    "    \n",
    "    return(summary_df)\n",
    "\n",
    "    \n",
    "loaded = pd.read_csv(\"data/E2.csv\") \n",
    "loaded['present'] = loaded['present'].replace(-1,0)\n",
    "loaded['condition'] = loaded['condition_is_congruent'].replace(-1,0)\n",
    "\n",
    "summary_list = []\n",
    "for name, group in loaded.groupby('subj_id'):\n",
    "    print(name)\n",
    "    a= fit_m1c(group.reset_index(),'E2')\n",
    "    summary_list.append(a)\n",
    "summary_df = pd.concat(summary_list)\n",
    "summary_df.to_csv(\"model_fits/model_m1c/data_E2/all_subjects.csv\")"
   ]
  },
  {
   "cell_type": "markdown",
   "id": "aa992246",
   "metadata": {},
   "source": [
    "## Fit M2: boundaries can collapse"
   ]
  },
  {
   "cell_type": "code",
   "execution_count": 3,
   "id": "1da9adf8",
   "metadata": {},
   "outputs": [],
   "source": [
    "from pyddm import InitialCondition,Fittable, Fitted\n",
    "from pyddm.models import Drift, Bound, LossRobustBIC, NoiseConstant, OverlayChain, OverlayNonDecision, OverlayPoissonMixture, Noise\n",
    "from pyddm.functions import fit_adjust_model\n",
    "    \n",
    "class BoundCollapseC(Bound):\n",
    "    name = \"Boundary for the collapsing boundary model\"\n",
    "    required_parameters = [\"B0\", \"uppercollapse0\", \"lowercollapse0\", \"B1\", \"uppercollapse1\", \"lowercollapse1\"]\n",
    "    required_conditions = [\"condition\"]\n",
    "    def get_bound(self, t, conditions, **kwargs):\n",
    "        B = [self.B0, self.B1][int(conditions['condition'])]\n",
    "        uppercollapse = [self.uppercollapse0, self.uppercollapse1][int(conditions['condition'])]\n",
    "        lowercollapse = [self.lowercollapse0, self.lowercollapse1][int(conditions['condition'])]\n",
    "\n",
    "        return max(0.01, B + t*(uppercollapse-lowercollapse)/2)\n",
    "    \n",
    "class DriftPresentCollapseC(ddm.models.Drift):\n",
    "    name = \"Drift depends on target presence and collapses\"\n",
    "    required_parameters = [\"driftpresent0\", \"uppercollapse0\", \"lowercollapse0\", \"driftpresent1\", \"uppercollapse1\", \"lowercollapse1\"] # <-- Parameters we want to include in the model\n",
    "    required_conditions = [\"present\", \"condition\"] # <-- Task parameters (\"conditions\"). Should be the same name as in the sample.\n",
    "\n",
    "    # We must always define the get_drift function, which is used to compute the instantaneous value of drift.\n",
    "    def get_drift(self, t, conditions, **kwargs):\n",
    "        \n",
    "        uppercollapse = [self.uppercollapse0, self.uppercollapse1][int(conditions['condition'])]\n",
    "        lowercollapse = [self.lowercollapse0, self.lowercollapse1][int(conditions['condition'])] \n",
    "        driftpresent = [self.driftpresent0, self.driftpresent1][int(conditions['condition'])]\n",
    "        \n",
    "        # so that driftabsent values are normally negative\n",
    "        return conditions['present'] * driftpresent - (uppercollapse+lowercollapse)/2 + \\\n",
    "    (1-conditions['present']) *(0+ (uppercollapse+lowercollapse)/2) \n",
    "\n",
    "\n",
    "\n"
   ]
  },
  {
   "cell_type": "code",
   "execution_count": 42,
   "id": "9734633f",
   "metadata": {},
   "outputs": [
    {
     "name": "stderr",
     "output_type": "stream",
     "text": [
      "Warning: dt is large.  Estimated pdfs may be imprecise.  Decrease dt to 0.01 or less.\n"
     ]
    },
    {
     "name": "stdout",
     "output_type": "stream",
     "text": [
      "1\n"
     ]
    },
    {
     "name": "stderr",
     "output_type": "stream",
     "text": [
      "Info: Params [ 9.25422412e-01 -1.45443733e-01  1.08086706e-05  6.43905670e-01\n",
      "  0.00000000e+00  0.00000000e+00  6.71995669e-01  5.97712767e-01\n",
      " -2.80918092e-02  5.61409389e-03  6.61843633e-01  5.93135652e-01] gave 147.67377083551852\n"
     ]
    },
    {
     "name": "stdout",
     "output_type": "stream",
     "text": [
      "2\n"
     ]
    },
    {
     "name": "stderr",
     "output_type": "stream",
     "text": [
      "Info: Params [ 0.37150041 -0.19505336  0.29585649  0.72983861 -0.12203764  0.66554657\n",
      "  1.02548245  1.20492232 -0.02502795 -0.0591806   0.76986226  0.90590027] gave 214.22117685594074\n"
     ]
    },
    {
     "name": "stdout",
     "output_type": "stream",
     "text": [
      "3\n"
     ]
    },
    {
     "name": "stderr",
     "output_type": "stream",
     "text": [
      "Info: Params [ 0.64998101 -0.64095006  0.61619281  1.87042754 -0.57345919  0.02654008\n",
      "  1.05376681  0.93042455 -0.14218582 -0.2678993   0.95111731  0.9414496 ] gave 152.3949966696495\n"
     ]
    },
    {
     "name": "stdout",
     "output_type": "stream",
     "text": [
      "4\n"
     ]
    },
    {
     "name": "stderr",
     "output_type": "stream",
     "text": [
      "Info: Params [ 1.40563199 -0.2896242   0.41037818  0.28060456 -0.22994423  0.23672244\n",
      "  1.10058569  1.06078271 -0.1187261   0.37969886  0.81915755  0.97872368] gave 190.89030802656546\n"
     ]
    },
    {
     "name": "stdout",
     "output_type": "stream",
     "text": [
      "5\n"
     ]
    },
    {
     "name": "stderr",
     "output_type": "stream",
     "text": [
      "Info: Params [ 0.00892187 -0.07326216  0.18491456  0.35595627 -0.1370694   1.0629306\n",
      "  0.51883256  0.82152458  0.32290254  0.14714922  0.65238302  0.87017962] gave 105.3200160712911\n"
     ]
    },
    {
     "name": "stdout",
     "output_type": "stream",
     "text": [
      "6\n"
     ]
    },
    {
     "name": "stderr",
     "output_type": "stream",
     "text": [
      "Info: Params [ 0.71835318 -0.8312021   0.26879791  1.31881613 -0.3464409   0.11070215\n",
      "  1.38626098  1.10074423 -0.23212905 -0.2067302   0.96094481  0.90947077] gave 189.9911927379641\n"
     ]
    },
    {
     "name": "stdout",
     "output_type": "stream",
     "text": [
      "7\n"
     ]
    },
    {
     "name": "stderr",
     "output_type": "stream",
     "text": [
      "Info: Params [ 1.4701499  -0.20842402  1.0668884   1.06918524 -0.87502269  0.67497731\n",
      "  1.69784619  1.71150974 -0.35180633 -0.06465831  0.84926386  0.94391775] gave 192.8497204656009\n"
     ]
    },
    {
     "name": "stdout",
     "output_type": "stream",
     "text": [
      "8\n"
     ]
    },
    {
     "name": "stderr",
     "output_type": "stream",
     "text": [
      "Info: Params [ 0.31765903 -0.10242398  0.2653555   0.72231161 -0.08742493  0.19633374\n",
      "  0.87072381  0.84889757  0.13030412  0.359398    0.65656497  0.76680428] gave 185.1600519923721\n"
     ]
    },
    {
     "name": "stdout",
     "output_type": "stream",
     "text": [
      "9\n"
     ]
    },
    {
     "name": "stderr",
     "output_type": "stream",
     "text": [
      "Info: Params [ 0.84603152 -0.35665716  0.5100095   0.20653965 -0.87261311  0.28057547\n",
      "  0.76107884  1.29131768  0.17020221 -0.00318177  0.67892383  0.9400954 ] gave 159.97655032782157\n"
     ]
    },
    {
     "name": "stdout",
     "output_type": "stream",
     "text": [
      "10\n"
     ]
    },
    {
     "name": "stderr",
     "output_type": "stream",
     "text": [
      "Info: Params [ 1.00044015 -0.27765547  0.47234452  0.84742393 -0.36264643  0.50798898\n",
      "  2.2014944   2.0087135  -0.20405753 -0.11408004  0.53827682  0.4712369 ] gave 242.85802300096145\n"
     ]
    },
    {
     "name": "stdout",
     "output_type": "stream",
     "text": [
      "11\n"
     ]
    },
    {
     "name": "stderr",
     "output_type": "stream",
     "text": [
      "Info: Params [ 0.79938546  0.          0.          0.95664893 -0.33996077  0.36003924\n",
      "  0.84871363  1.22275142  0.1199409   0.00714751  0.73506368  0.96457377] gave 200.4021930959961\n"
     ]
    },
    {
     "name": "stdout",
     "output_type": "stream",
     "text": [
      "12\n"
     ]
    },
    {
     "name": "stderr",
     "output_type": "stream",
     "text": [
      "Info: Params [ 0.52867692 -0.00300341  0.05367329  1.85679703 -0.11489011  0.60510989\n",
      "  0.96247754  1.08274565 -0.07132156  0.24767849  0.58752114  0.51852136] gave 182.5237284297041\n"
     ]
    },
    {
     "name": "stdout",
     "output_type": "stream",
     "text": [
      "13\n"
     ]
    },
    {
     "name": "stderr",
     "output_type": "stream",
     "text": [
      "Info: Params [ 0.62782501 -0.58522865  0.5747708   0.25554777 -0.62572781  0.37427226\n",
      "  2.45759044  2.31319527 -0.00949586  0.08833467  0.98177116  0.96913386] gave 269.8519710023181\n"
     ]
    },
    {
     "name": "stdout",
     "output_type": "stream",
     "text": [
      "14\n"
     ]
    },
    {
     "name": "stderr",
     "output_type": "stream",
     "text": [
      "Info: Params [ 4.32496393e-01 -1.43718497e-01  4.68183203e-01  1.41963989e+00\n",
      " -1.36066960e-03  4.85595877e-01  1.66767442e+00  1.21196547e+00\n",
      "  1.84732512e-02  4.36786827e-02  8.21998690e-01  6.76530326e-01] gave 250.44999673467734\n"
     ]
    },
    {
     "name": "stdout",
     "output_type": "stream",
     "text": [
      "15\n"
     ]
    },
    {
     "name": "stderr",
     "output_type": "stream",
     "text": [
      "Info: Params [ 0.42311253 -0.13725944  0.10276341  0.75219231 -0.07938351  0.09839427\n",
      "  1.17133435  1.176249    0.12464224  0.18842869  0.70183679  0.61274824] gave 257.0081888051752\n"
     ]
    },
    {
     "name": "stdout",
     "output_type": "stream",
     "text": [
      "16\n"
     ]
    },
    {
     "name": "stderr",
     "output_type": "stream",
     "text": [
      "Info: Params [ 0.03868078 -0.64227207  0.20217238  0.94880385 -0.20715308  0.4728489\n",
      "  1.00190548  1.45840596  0.23553733  0.10925462  0.77780841  0.83577103] gave 208.09615476747962\n"
     ]
    },
    {
     "name": "stdout",
     "output_type": "stream",
     "text": [
      "17\n"
     ]
    },
    {
     "name": "stderr",
     "output_type": "stream",
     "text": [
      "Info: Params [ 0.8597493  -0.4606817   0.59646243  0.15656218 -0.09453865  0.00544503\n",
      "  1.3714794   0.82475349 -0.18556182  0.26297712  0.92615943  0.91563594] gave 191.07871129722767\n"
     ]
    },
    {
     "name": "stdout",
     "output_type": "stream",
     "text": [
      "18\n"
     ]
    },
    {
     "name": "stderr",
     "output_type": "stream",
     "text": [
      "Info: Params [ 2.04012024e-01 -7.89691913e-02  7.99819034e-01  8.97057920e-01\n",
      " -3.08908981e-01  5.03591019e-01  2.12763527e+00  2.01918709e+00\n",
      " -6.26908008e-02 -3.96562808e-04  7.23076079e-01  4.26040727e-01] gave 277.0308655597664\n"
     ]
    },
    {
     "name": "stdout",
     "output_type": "stream",
     "text": [
      "19\n"
     ]
    },
    {
     "name": "stderr",
     "output_type": "stream",
     "text": [
      "Info: Params [ 0.84730648 -0.148376    0.02459698  0.3446487  -0.13380159  0.06622052\n",
      "  1.15516705  0.9613956  -0.04669018 -0.13110422  0.90448045  0.89160004] gave 236.79576909716195\n"
     ]
    },
    {
     "name": "stdout",
     "output_type": "stream",
     "text": [
      "20\n"
     ]
    },
    {
     "name": "stderr",
     "output_type": "stream",
     "text": [
      "Info: Params [ 1.12498396 -0.19345763  1.30654254  1.31270122 -0.28794669  0.01205387\n",
      "  1.00543637  0.71430791  0.121479    0.25445899  0.61910275  0.65816599] gave 123.2201184663603\n"
     ]
    },
    {
     "name": "stdout",
     "output_type": "stream",
     "text": [
      "21\n"
     ]
    },
    {
     "name": "stderr",
     "output_type": "stream",
     "text": [
      "Info: Params [ 0.8767312  -0.31968805  0.44954386  0.45059198 -0.25451792  0.06312922\n",
      "  1.26455874  0.90977205 -0.13804265 -0.09253862  0.93205935  0.95750876] gave 210.60306619989362\n"
     ]
    },
    {
     "name": "stdout",
     "output_type": "stream",
     "text": [
      "22\n"
     ]
    },
    {
     "name": "stderr",
     "output_type": "stream",
     "text": [
      "Info: Params [ 0.82496974 -0.14790299  0.79495375  0.45445694 -0.44692063  0.07807878\n",
      "  1.11737468  0.97643552  0.08989373 -0.16028222  0.89766441  0.8232989 ] gave 192.91410919377208\n"
     ]
    },
    {
     "name": "stdout",
     "output_type": "stream",
     "text": [
      "23\n"
     ]
    },
    {
     "name": "stderr",
     "output_type": "stream",
     "text": [
      "Info: Params [ 1.52021638 -0.21538612  0.46794638  0.42740482 -0.05320718  0.14679281\n",
      "  1.2091156   1.03731496 -0.25031325  0.10971742  0.95419759  0.94051995] gave 208.61388045739213\n"
     ]
    },
    {
     "name": "stdout",
     "output_type": "stream",
     "text": [
      "24\n"
     ]
    },
    {
     "name": "stderr",
     "output_type": "stream",
     "text": [
      "Info: Params [ 0.46843094 -0.16004115  0.3066255   3.76088395 -0.06649624  0.37195609\n",
      "  1.0483509   0.85829248  0.34366663 -0.14245775  0.63042171  0.6982906 ] gave 167.78637796946413\n"
     ]
    },
    {
     "name": "stdout",
     "output_type": "stream",
     "text": [
      "25\n"
     ]
    },
    {
     "name": "stderr",
     "output_type": "stream",
     "text": [
      "Info: Params [ 0.6177144  -0.11337809  0.7723362   2.29652936 -0.27887812  0.9776119\n",
      "  1.92714034  2.47801674 -0.06539424 -0.25196738  0.96164606  0.96159189] gave 237.80148480126564\n"
     ]
    },
    {
     "name": "stdout",
     "output_type": "stream",
     "text": [
      "26\n"
     ]
    },
    {
     "name": "stderr",
     "output_type": "stream",
     "text": [
      "Info: Params [ 0.54689621 -0.01576426  1.05482397  1.04309704 -0.52790828  0.33345881\n",
      "  2.48023924  2.48495067 -0.04370298 -0.16657454  0.54950339  0.9883916 ] gave 259.76762585472034\n"
     ]
    },
    {
     "name": "stdout",
     "output_type": "stream",
     "text": [
      "27\n"
     ]
    },
    {
     "name": "stderr",
     "output_type": "stream",
     "text": [
      "Info: Params [ 0.15999237 -0.67291855  0.16708146  0.51786383 -0.72386902  0.09740975\n",
      "  1.3532602   1.3385256  -0.13828352 -0.13440326  0.61341515  0.62913332] gave 220.84072963306014\n"
     ]
    },
    {
     "name": "stdout",
     "output_type": "stream",
     "text": [
      "28\n"
     ]
    },
    {
     "name": "stderr",
     "output_type": "stream",
     "text": [
      "Info: Params [ 0.81899057 -0.03268787  0.0739788   1.09037516  0.          0.\n",
      "  0.97340114  0.78699444  0.04801058  0.14866178  0.80586672  0.70748112] gave 196.74225282687854\n"
     ]
    },
    {
     "name": "stdout",
     "output_type": "stream",
     "text": [
      "29\n"
     ]
    },
    {
     "name": "stderr",
     "output_type": "stream",
     "text": [
      "Info: Params [ 0.71748917 -0.46553529  0.06779801  0.64773198 -0.07597734  0.12402243\n",
      "  1.04913282  1.2075484  -0.01630339 -0.06925217  0.78707024  0.92633958] gave 231.87085647609874\n"
     ]
    },
    {
     "name": "stdout",
     "output_type": "stream",
     "text": [
      "30\n"
     ]
    },
    {
     "name": "stderr",
     "output_type": "stream",
     "text": [
      "Info: Params [ 0.71603608 -0.3103256   0.4896744   0.68325279 -0.49897804  0.271977\n",
      "  1.43305532  1.63666721 -0.23971478 -0.2577384   0.45761504  0.588033  ] gave 240.37039421200953\n"
     ]
    },
    {
     "name": "stdout",
     "output_type": "stream",
     "text": [
      "31\n"
     ]
    },
    {
     "name": "stderr",
     "output_type": "stream",
     "text": [
      "Info: Params [ 0.60274202 -0.33747944  0.63026256  0.39600463 -0.41840299  0.15659704\n",
      "  2.23018336  2.0345193  -0.46583305 -0.12877238  0.31028465  0.90234243] gave 239.0717828846374\n"
     ]
    },
    {
     "name": "stdout",
     "output_type": "stream",
     "text": [
      "32\n"
     ]
    },
    {
     "name": "stderr",
     "output_type": "stream",
     "text": [
      "Info: Params [ 1.19692164 -0.23846704  0.22819871  0.32967846 -0.21354025  0.24528352\n",
      "  0.86345186  0.99733283  0.10026714 -0.13390529  0.70329958  0.88264416] gave 190.4344865914383\n"
     ]
    },
    {
     "name": "stdout",
     "output_type": "stream",
     "text": [
      "33\n"
     ]
    },
    {
     "name": "stderr",
     "output_type": "stream",
     "text": [
      "Info: Params [ 1.40533257  0.          0.          0.60624136 -0.29578933  0.25421067\n",
      "  0.79385001  0.85854813  0.11372288  0.27154295  0.60185416  0.78604045] gave 164.75324544928196\n"
     ]
    },
    {
     "name": "stdout",
     "output_type": "stream",
     "text": [
      "34\n"
     ]
    },
    {
     "name": "stderr",
     "output_type": "stream",
     "text": [
      "Info: Params [ 1.00552556 -0.23131872  0.22322784  0.50397624 -0.0294231   0.05239508\n",
      "  1.57395437  1.01170504 -0.19565091 -0.00863318  0.70728658  0.52934931] gave 251.0467401303035\n"
     ]
    },
    {
     "name": "stdout",
     "output_type": "stream",
     "text": [
      "35\n"
     ]
    },
    {
     "name": "stderr",
     "output_type": "stream",
     "text": [
      "Info: Params [ 0.40485944 -0.35879333  0.50120739  0.47280832 -0.1115469   0.51922233\n",
      "  2.38926896  1.86007477 -0.1741859  -0.14345463  0.8148919   0.52487392] gave 263.69555083851105\n"
     ]
    },
    {
     "name": "stdout",
     "output_type": "stream",
     "text": [
      "36\n"
     ]
    },
    {
     "name": "stderr",
     "output_type": "stream",
     "text": [
      "Info: Params [ 0.5529858  -0.32053359  0.07946641  0.37064917 -0.70581048  0.19418168\n",
      "  0.83194999  1.17415142  0.0849905   0.00587685  0.92241797  0.95276996] gave 187.45039337920073\n"
     ]
    },
    {
     "name": "stdout",
     "output_type": "stream",
     "text": [
      "37\n"
     ]
    },
    {
     "name": "stderr",
     "output_type": "stream",
     "text": [
      "Info: Params [ 0.31488678 -0.02721566  0.20741018  0.40524202 -0.36228569  0.09485718\n",
      "  1.08579263  1.26620808  0.06875597 -0.08977035  0.9737294   0.97156124] gave 254.42494047113502\n"
     ]
    },
    {
     "name": "stdout",
     "output_type": "stream",
     "text": [
      "38\n"
     ]
    },
    {
     "name": "stderr",
     "output_type": "stream",
     "text": [
      "Info: Params [ 0.36587202 -0.56366084  0.33633912  0.12122739 -0.0178583   0.0071417\n",
      "  1.38646691  0.90400088 -0.21850175  0.41740592  0.59679491  0.08616492] gave 220.69298089548013\n"
     ]
    },
    {
     "name": "stdout",
     "output_type": "stream",
     "text": [
      "39\n"
     ]
    },
    {
     "name": "stderr",
     "output_type": "stream",
     "text": [
      "Info: Params [ 0.55017639 -0.19508191  0.11261064  0.14542506 -0.29852174  0.42900162\n",
      "  1.67913265  2.04445474  0.03297026  0.17721152  0.5398389   0.60318734] gave 257.83924187085574\n"
     ]
    },
    {
     "name": "stdout",
     "output_type": "stream",
     "text": [
      "40\n"
     ]
    },
    {
     "name": "stderr",
     "output_type": "stream",
     "text": [
      "Info: Params [ 1.17549286 -0.14279004  0.68578361  1.81048081 -0.51719273  0.93995016\n",
      "  1.00050789  1.49535886  0.01087461 -0.01185011  0.65675032  0.89310601] gave 161.8024981612112\n"
     ]
    },
    {
     "name": "stdout",
     "output_type": "stream",
     "text": [
      "41\n"
     ]
    },
    {
     "name": "stderr",
     "output_type": "stream",
     "text": [
      "Info: Params [ 0.57552994 -0.30367643  0.47231774  0.73008162 -0.01134236  0.62865795\n",
      "  2.49410201  2.25873276  0.0051284   0.17112256  0.43406082  0.66698896] gave 284.45016783520487\n"
     ]
    },
    {
     "name": "stdout",
     "output_type": "stream",
     "text": [
      "42\n"
     ]
    },
    {
     "name": "stderr",
     "output_type": "stream",
     "text": [
      "Info: Params [ 0.79476347 -0.27937382  0.82062619  0.53502327 -0.57420566  0.460735\n",
      "  2.17978577  2.3648204   0.08851596  0.10049042  0.22888322  0.53482612] gave 273.2225059400472\n"
     ]
    },
    {
     "name": "stdout",
     "output_type": "stream",
     "text": [
      "43\n"
     ]
    },
    {
     "name": "stderr",
     "output_type": "stream",
     "text": [
      "Info: Params [ 0.34205871 -0.33673359  0.43247592  1.43930126 -0.27199287  0.39050713\n",
      "  2.32175891  2.11554313  0.16572363 -0.16620901  0.51434558  0.43714201] gave 234.96050153212187\n"
     ]
    },
    {
     "name": "stdout",
     "output_type": "stream",
     "text": [
      "44\n"
     ]
    },
    {
     "name": "stderr",
     "output_type": "stream",
     "text": [
      "Info: Params [ 3.85356193e-01 -8.82054046e-02  2.11794598e-01  2.57515731e-07\n",
      " -5.49748820e-02  3.08207766e-01  1.17064145e+00  1.44235718e+00\n",
      " -1.85902851e-01  1.52158854e-01  6.72437296e-01  8.88178377e-01] gave 276.9054745184565\n"
     ]
    },
    {
     "name": "stdout",
     "output_type": "stream",
     "text": [
      "45\n"
     ]
    },
    {
     "name": "stderr",
     "output_type": "stream",
     "text": [
      "Info: Params [ 1.5661794  -0.09039015  0.48556897  0.86660581 -0.10566637  0.61933362\n",
      "  1.96957666  1.84442901 -0.23639099 -0.04668373  0.52042327  0.58297699] gave 264.41169575775575\n"
     ]
    },
    {
     "name": "stdout",
     "output_type": "stream",
     "text": [
      "46\n"
     ]
    },
    {
     "name": "stderr",
     "output_type": "stream",
     "text": [
      "Info: Params [ 0.15409653 -0.31478944  0.49600113  0.26891878 -0.94379764  0.06360977\n",
      "  2.45216013  2.47312552 -0.10107973 -0.27675789  0.9842074   0.87318409] gave 243.9093617251404\n"
     ]
    },
    {
     "name": "stdout",
     "output_type": "stream",
     "text": [
      "47\n"
     ]
    },
    {
     "name": "stderr",
     "output_type": "stream",
     "text": [
      "Info: Params [ 1.04532577 -0.54679996  0.41320004  2.1547193  -0.46030788  0.68969139\n",
      "  0.7241724   0.79057466 -0.1719796   0.21408165  0.62768583  0.71508221] gave 89.7760077100845\n"
     ]
    },
    {
     "name": "stdout",
     "output_type": "stream",
     "text": [
      "48\n"
     ]
    },
    {
     "name": "stderr",
     "output_type": "stream",
     "text": [
      "Info: Params [ 0.27855238 -0.26510995  0.13489005  0.07230755 -0.25442783  0.0455722\n",
      "  1.83412398  1.50917929  0.03051264  0.2355659   0.26189642  0.34915935] gave 252.12266007409153\n"
     ]
    },
    {
     "name": "stdout",
     "output_type": "stream",
     "text": [
      "49\n"
     ]
    },
    {
     "name": "stderr",
     "output_type": "stream",
     "text": [
      "Info: Params [ 0.94570478 -0.04519387  0.10865229  1.46205039 -0.07389035  0.66613706\n",
      "  1.17738708  1.27256165 -0.17535005 -0.25719706  0.95990992  0.98360451] gave 234.13859179224994\n"
     ]
    },
    {
     "name": "stdout",
     "output_type": "stream",
     "text": [
      "50\n"
     ]
    },
    {
     "name": "stderr",
     "output_type": "stream",
     "text": [
      "Info: Params [ 0.48709215 -0.18954462  1.01045538  0.28330385 -0.72201083  0.44778909\n",
      "  1.81951989  1.50154512  0.22953782 -0.04760766  0.90063085  0.9347207 ] gave 225.12847810208268\n"
     ]
    },
    {
     "name": "stdout",
     "output_type": "stream",
     "text": [
      "51\n"
     ]
    },
    {
     "name": "stderr",
     "output_type": "stream",
     "text": [
      "Info: Params [ 0.12448159 -0.59525808  0.40474185  0.30899102 -0.23050342  0.34727437\n",
      "  1.14860267  1.10557916 -0.02126429 -0.03732424  0.92773005  0.9369492 ] gave 203.93196463166848\n"
     ]
    },
    {
     "name": "stdout",
     "output_type": "stream",
     "text": [
      "52\n"
     ]
    },
    {
     "name": "stderr",
     "output_type": "stream",
     "text": [
      "Info: Params [ 0.98610048 -0.35814032  0.61126758  1.06351899 -0.11038118  0.32961883\n",
      "  2.45850113  1.81744547 -0.10260875 -0.19246923  0.49343194  0.56427109] gave 261.12779541390125\n"
     ]
    },
    {
     "name": "stdout",
     "output_type": "stream",
     "text": [
      "53\n"
     ]
    },
    {
     "name": "stderr",
     "output_type": "stream",
     "text": [
      "Info: Params [ 0.66687433 -0.77700822  0.2351137   0.71904978 -0.18662235  0.1925934\n",
      "  2.3747193   1.49105025 -0.0943884   0.21406557  0.60197637  0.35444979] gave 258.87696521967143\n"
     ]
    },
    {
     "name": "stdout",
     "output_type": "stream",
     "text": [
      "54\n"
     ]
    },
    {
     "name": "stderr",
     "output_type": "stream",
     "text": [
      "Info: Params [ 0.22012806 -0.24951669  0.56224913  0.2794222  -0.79100791  0.34745362\n",
      "  1.86417991  2.12442848  0.00613031  0.00716961  0.58990463  0.63202233] gave 280.3687347222901\n"
     ]
    },
    {
     "name": "stdout",
     "output_type": "stream",
     "text": [
      "55\n"
     ]
    },
    {
     "name": "stderr",
     "output_type": "stream",
     "text": [
      "Info: Params [ 0.70975643 -0.01684167  0.21648503  0.30794558 -0.14854721  0.03566331\n",
      "  1.31748106  1.2960822  -0.02795035  0.05364372  0.93558292  0.93577264] gave 282.66057574719423\n"
     ]
    },
    {
     "name": "stdout",
     "output_type": "stream",
     "text": [
      "56\n"
     ]
    },
    {
     "name": "stderr",
     "output_type": "stream",
     "text": [
      "Info: Params [ 0.51861959 -0.72333315  0.21000019  2.23533694 -0.77829913  0.22169988\n",
      "  0.8455019   1.09203245 -0.17268376 -0.11111279  0.58471592  0.63231043] gave 128.12712652564522\n"
     ]
    },
    {
     "name": "stdout",
     "output_type": "stream",
     "text": [
      "57\n"
     ]
    },
    {
     "name": "stderr",
     "output_type": "stream",
     "text": [
      "Info: Params [ 1.39376553 -0.65796976  0.54256937  3.74236829 -0.1347693   0.26523071\n",
      "  0.65074102  0.57417163 -0.05034503 -0.02181325  0.52119893  0.55827484] gave 87.5502638360519\n"
     ]
    },
    {
     "name": "stdout",
     "output_type": "stream",
     "text": [
      "58\n"
     ]
    },
    {
     "name": "stderr",
     "output_type": "stream",
     "text": [
      "Info: Params [ 0.30411813 -0.27739132  0.27103474  0.27399582 -0.45805851  0.09194162\n",
      "  2.21260444  2.19719554 -0.00664272 -0.0142105   0.01360072  0.10551662] gave 319.7714228085339\n"
     ]
    },
    {
     "name": "stdout",
     "output_type": "stream",
     "text": [
      "59\n"
     ]
    },
    {
     "name": "stderr",
     "output_type": "stream",
     "text": [
      "Info: Params [ 0.51889492 -0.30503942  0.0282939   0.38022907 -0.14281377  0.35327536\n",
      "  1.34102119  1.55747438  0.36877772  0.25428081  0.47270494  0.61058862] gave 259.3982196190133\n"
     ]
    },
    {
     "name": "stdout",
     "output_type": "stream",
     "text": [
      "60\n"
     ]
    },
    {
     "name": "stderr",
     "output_type": "stream",
     "text": [
      "Info: Params [ 0.73518097 -0.23045812  0.08780828  1.13902449 -0.18542663  0.85207337\n",
      "  1.01099168  1.64687281 -0.34006959 -0.20057426  0.79125602  0.94788623] gave 219.9648405393055\n"
     ]
    },
    {
     "name": "stdout",
     "output_type": "stream",
     "text": [
      "61\n"
     ]
    },
    {
     "name": "stderr",
     "output_type": "stream",
     "text": [
      "Info: Params [ 1.48930762e+00 -1.96482359e-01  3.32542470e-01  3.59057501e-01\n",
      " -3.63097827e-05  1.07106485e-01  1.33470034e+00  9.08524693e-01\n",
      " -2.32782204e-01  7.87358113e-02  9.40250111e-01  8.37065783e-01] gave 219.16015209453522\n"
     ]
    },
    {
     "name": "stdout",
     "output_type": "stream",
     "text": [
      "62\n"
     ]
    },
    {
     "name": "stderr",
     "output_type": "stream",
     "text": [
      "Info: Params [ 0.70087485 -0.19703647  0.20296353  0.49941374  0.          0.\n",
      "  1.36581176  1.08730101 -0.01208157  0.30842182  0.83001346  0.6956297 ] gave 253.24497770090048\n"
     ]
    },
    {
     "name": "stdout",
     "output_type": "stream",
     "text": [
      "63\n"
     ]
    },
    {
     "name": "stderr",
     "output_type": "stream",
     "text": [
      "Info: Params [10.         -0.0898938   0.0301062   0.6894483  -0.11109713  0.14221507\n",
      "  0.71319081  0.86987233 -0.22829016  0.09816965  0.68125734  0.82529188] gave 169.9313448488179\n"
     ]
    },
    {
     "name": "stdout",
     "output_type": "stream",
     "text": [
      "64\n"
     ]
    },
    {
     "name": "stderr",
     "output_type": "stream",
     "text": [
      "Info: Params [ 0.22451277 -0.69856212  0.46985716  8.8093511  -1.2333269   0.09048159\n",
      "  2.0355176   2.48513901  0.19536122 -0.29815154  0.75028549  0.72910884] gave 210.10633744819395\n"
     ]
    },
    {
     "name": "stdout",
     "output_type": "stream",
     "text": [
      "65\n"
     ]
    },
    {
     "name": "stderr",
     "output_type": "stream",
     "text": [
      "Info: Params [ 0.37496947  0.          0.          1.56242167 -0.15555556  0.\n",
      "  1.0679852   1.13500349  0.11888822  0.054815    0.72387986  0.99601059] gave 230.78642654928996\n"
     ]
    },
    {
     "name": "stdout",
     "output_type": "stream",
     "text": [
      "66\n"
     ]
    },
    {
     "name": "stderr",
     "output_type": "stream",
     "text": [
      "Info: Params [ 0.32919953 -0.13054824  0.34945176  0.93971397 -0.17570437  0.22434526\n",
      "  1.87523749  1.63061264  0.02368339  0.032582    0.53126224  0.39148313] gave 288.2083502046688\n"
     ]
    },
    {
     "name": "stdout",
     "output_type": "stream",
     "text": [
      "67\n"
     ]
    },
    {
     "name": "stderr",
     "output_type": "stream",
     "text": [
      "Info: Params [ 0.81026096 -0.20446528  0.67553672  1.0113289  -1.01030453  0.63969546\n",
      "  1.81060641  2.15999668 -0.33105938 -0.11694394  0.83393057  0.99659128] gave 227.20520430165863\n"
     ]
    },
    {
     "name": "stdout",
     "output_type": "stream",
     "text": [
      "68\n"
     ]
    },
    {
     "name": "stderr",
     "output_type": "stream",
     "text": [
      "Info: Params [ 0.3234992   0.          0.          0.68558724 -0.07617298  0.15239846\n",
      "  0.76673303  0.87178773  0.21090762  0.06304938  0.78555093  0.78265767] gave 198.70013230126423\n"
     ]
    },
    {
     "name": "stdout",
     "output_type": "stream",
     "text": [
      "69\n"
     ]
    },
    {
     "name": "stderr",
     "output_type": "stream",
     "text": [
      "Info: Params [ 7.34128257 -0.10115583  0.89884417  0.60588334 -0.07268251  0.5955699\n",
      "  1.59431896  1.3608906  -0.2935068   0.05390007  0.6386386   0.79362466] gave 232.7383860017265\n"
     ]
    },
    {
     "name": "stdout",
     "output_type": "stream",
     "text": [
      "70\n"
     ]
    },
    {
     "name": "stderr",
     "output_type": "stream",
     "text": [
      "Info: Params [ 0.21270195 -0.09270702  0.37290213  2.62901155 -0.16573494  1.03426506\n",
      "  0.99834188  1.12447208 -0.1061321  -0.03805645  0.66110645  0.60976364] gave 181.44670029764245\n"
     ]
    },
    {
     "name": "stdout",
     "output_type": "stream",
     "text": [
      "71\n"
     ]
    },
    {
     "name": "stderr",
     "output_type": "stream",
     "text": [
      "Info: Params [ 0.90578857 -0.11725395  0.1511671   0.21266865 -0.0749048   0.27124828\n",
      "  1.61682614  1.48387634  0.26242652  0.11129231  0.3928596   0.23549213] gave 287.0661867671514\n"
     ]
    },
    {
     "name": "stdout",
     "output_type": "stream",
     "text": [
      "72\n"
     ]
    },
    {
     "name": "stderr",
     "output_type": "stream",
     "text": [
      "Info: Params [ 0.7681844  -0.02938059  0.03727796  2.28690942 -0.32942874  0.20390469\n",
      "  0.88324086  0.93867682 -0.05576961 -0.04246792  0.81160211  0.94989979] gave 174.82756987963558\n"
     ]
    },
    {
     "name": "stdout",
     "output_type": "stream",
     "text": [
      "73\n"
     ]
    },
    {
     "name": "stderr",
     "output_type": "stream",
     "text": [
      "Info: Params [ 0.28322688 -0.51160217  0.36532091  0.65686519 -0.4383203   0.41168091\n",
      "  2.14480508  2.42711916  0.16438978 -0.12926997  0.87889384  0.85117197] gave 274.6649110151193\n"
     ]
    },
    {
     "name": "stdout",
     "output_type": "stream",
     "text": [
      "74\n"
     ]
    },
    {
     "name": "stderr",
     "output_type": "stream",
     "text": [
      "Info: Params [ 3.51221256 -0.71887128  0.20112872  1.29690709 -1.57774849  0.22239458\n",
      "  0.42485154  0.61527848 -0.36878201 -0.13489938  0.73969045  0.86743795] gave 29.496785949484565\n"
     ]
    },
    {
     "name": "stdout",
     "output_type": "stream",
     "text": [
      "75\n"
     ]
    },
    {
     "name": "stderr",
     "output_type": "stream",
     "text": [
      "Info: Params [ 1.19474486  0.          1.17167769  0.31490943 -0.20791811  1.07208189\n",
      "  0.83288544  0.99221055 -0.06843076  0.0163911   0.78420154  0.86486216] gave 142.08582916145963\n"
     ]
    },
    {
     "name": "stdout",
     "output_type": "stream",
     "text": [
      "76\n"
     ]
    },
    {
     "name": "stderr",
     "output_type": "stream",
     "text": [
      "Info: Params [ 0.85761259 -0.84090637  0.35909363  1.21243519 -0.43566405  0.43922746\n",
      "  0.84387548  0.85267795 -0.19654526 -0.04259784  0.66998527  0.70545133] gave 131.43750702914497\n"
     ]
    },
    {
     "name": "stdout",
     "output_type": "stream",
     "text": [
      "77\n"
     ]
    },
    {
     "name": "stderr",
     "output_type": "stream",
     "text": [
      "Info: Params [ 1.26388735 -0.23724792  0.62941875  0.57705078 -0.15892998  0.74106975\n",
      "  1.37909046  1.22124177  0.04764569  0.07162574  0.83710544  0.84184828] gave 214.0957647359899\n"
     ]
    },
    {
     "name": "stdout",
     "output_type": "stream",
     "text": [
      "78\n"
     ]
    },
    {
     "name": "stderr",
     "output_type": "stream",
     "text": [
      "Info: Params [ 0.24139618 -0.03211414  0.0250283   0.          0.          0.\n",
      "  1.01365734  0.69186119  0.23757473  0.2975354   0.83809962  0.69965281] gave 213.2393681037871\n"
     ]
    },
    {
     "name": "stdout",
     "output_type": "stream",
     "text": [
      "79\n"
     ]
    },
    {
     "name": "stderr",
     "output_type": "stream",
     "text": [
      "Info: Params [ 0.98327523 -0.18366609  0.41065025  0.26579918 -0.00902141  0.14813725\n",
      "  2.16314342  1.23311382 -0.26662075  0.05199335  0.47721643  0.15107016] gave 287.82765982267335\n"
     ]
    },
    {
     "name": "stdout",
     "output_type": "stream",
     "text": [
      "80\n"
     ]
    },
    {
     "name": "stderr",
     "output_type": "stream",
     "text": [
      "Info: Params [ 7.15508179e-03 -6.57922044e-01  1.42077960e-01  4.55547105e-01\n",
      " -5.28438069e-01  2.61149597e-01  2.49233637e+00  2.47330860e+00\n",
      "  5.80163066e-04  2.44058340e-02  4.69753672e-01  3.67629233e-01] gave 283.54052735443884\n"
     ]
    },
    {
     "name": "stdout",
     "output_type": "stream",
     "text": [
      "81\n"
     ]
    },
    {
     "name": "stderr",
     "output_type": "stream",
     "text": [
      "Info: Params [ 0.70568862 -0.28682831  0.14174312  9.64843978 -0.49337911  0.37335371\n",
      "  0.77084564  1.11480179 -0.0661394  -0.32071051  0.72744387  0.76519824] gave 149.4707883685827\n"
     ]
    },
    {
     "name": "stdout",
     "output_type": "stream",
     "text": [
      "82\n"
     ]
    },
    {
     "name": "stderr",
     "output_type": "stream",
     "text": [
      "Info: Params [ 0.68433672 -0.13000836  0.84493783  1.46045427 -0.69739904  1.25260097\n",
      "  1.37151387  1.78848672 -0.05690038 -0.2282579   0.98804139  0.94829799] gave 199.47515321865092\n"
     ]
    },
    {
     "name": "stdout",
     "output_type": "stream",
     "text": [
      "83\n"
     ]
    },
    {
     "name": "stderr",
     "output_type": "stream",
     "text": [
      "Info: Params [ 0.17357643 -0.18200178  0.15640669  0.54867802 -0.08789515  0.23842064\n",
      "  1.16289842  1.36017992 -0.02696375 -0.13821549  0.42017995  0.61403678] gave 270.1024099530521\n"
     ]
    },
    {
     "name": "stdout",
     "output_type": "stream",
     "text": [
      "84\n"
     ]
    },
    {
     "name": "stderr",
     "output_type": "stream",
     "text": [
      "Info: Params [ 0.62855475 -0.06389026  1.05610957  1.13461386 -0.05337259  1.01935464\n",
      "  1.65346324  1.68104308 -0.16811322  0.09430367  0.58798869  0.82226477] gave 233.09520228168086\n"
     ]
    },
    {
     "name": "stdout",
     "output_type": "stream",
     "text": [
      "85\n"
     ]
    },
    {
     "name": "stderr",
     "output_type": "stream",
     "text": [
      "Info: Params [ 0.94310248  0.          0.54285714  0.8847255  -0.00756284  0.3123625\n",
      "  1.1516969   0.92413093 -0.02914145 -0.00857703  0.64960693  0.69236856] gave 210.44793817495926\n"
     ]
    },
    {
     "name": "stdout",
     "output_type": "stream",
     "text": [
      "86\n"
     ]
    },
    {
     "name": "stderr",
     "output_type": "stream",
     "text": [
      "Info: Params [ 1.00761344 -0.345469    0.104531    0.60644488 -0.03449631  0.04694839\n",
      "  0.97308429  0.95863961 -0.30111251 -0.07929671  0.14985519  0.05739305] gave 186.09956677956671\n"
     ]
    },
    {
     "name": "stdout",
     "output_type": "stream",
     "text": [
      "87\n"
     ]
    },
    {
     "name": "stderr",
     "output_type": "stream",
     "text": [
      "Info: Params [ 1.37914416 -0.04529439  0.55470581  0.97759372 -0.0451809   0.94080667\n",
      "  1.15477097  1.54111161 -0.10316248 -0.02281417  0.82897425  0.99979463] gave 208.01433742256975\n"
     ]
    },
    {
     "name": "stdout",
     "output_type": "stream",
     "text": [
      "88\n"
     ]
    },
    {
     "name": "stderr",
     "output_type": "stream",
     "text": [
      "Info: Params [ 0.89721146 -0.4362225   0.16309508  1.26745855 -0.09761197  0.03572092\n",
      "  0.7748461   0.59655894 -0.24835425  0.18724794  0.74976444  0.76331457] gave 125.22036866918654\n"
     ]
    },
    {
     "name": "stdout",
     "output_type": "stream",
     "text": [
      "89\n"
     ]
    },
    {
     "name": "stderr",
     "output_type": "stream",
     "text": [
      "Info: Params [ 6.17674433e-01 -3.77909195e-04  4.96246390e-02  1.14251533e+00\n",
      "  0.00000000e+00  2.00000001e-01  1.01128283e+00  1.01746626e+00\n",
      "  1.32099645e-01 -1.05137097e-01  6.50293873e-01  5.46634970e-01] gave 235.8885137618639\n"
     ]
    },
    {
     "name": "stdout",
     "output_type": "stream",
     "text": [
      "90\n"
     ]
    },
    {
     "name": "stderr",
     "output_type": "stream",
     "text": [
      "Info: Params [ 1.66919943 -0.05504171  0.6449583   0.08926827 -0.06811832  0.03116978\n",
      "  1.18103123  1.00971005 -0.18914404  0.3149519   0.71106578  0.78931655] gave 218.17497906174137\n"
     ]
    },
    {
     "name": "stdout",
     "output_type": "stream",
     "text": [
      "91\n"
     ]
    },
    {
     "name": "stderr",
     "output_type": "stream",
     "text": [
      "Info: Params [ 0.01753209 -1.06974788  0.38024834  0.48824926 -0.54947634  0.10385705\n",
      "  2.03163676  1.67033785 -0.22422089 -0.00380452  0.67001488  0.84277072] gave 241.12822971469924\n"
     ]
    },
    {
     "name": "stdout",
     "output_type": "stream",
     "text": [
      "92\n"
     ]
    },
    {
     "name": "stderr",
     "output_type": "stream",
     "text": [
      "Info: Params [ 0.02036942 -0.18109436  0.32799655  0.18217229 -0.06671531  0.1132255\n",
      "  0.87164202  0.98980573 -0.08494151  0.19448808  0.64746452  0.802519  ] gave 211.1229265321379\n"
     ]
    },
    {
     "name": "stdout",
     "output_type": "stream",
     "text": [
      "93\n"
     ]
    },
    {
     "name": "stderr",
     "output_type": "stream",
     "text": [
      "Info: Params [ 1.11636282 -0.38155836  0.33843698  0.88243804 -0.08771419  1.0189525\n",
      "  0.91090766  1.07069054 -0.26673745 -0.03776297  0.77858212  0.9483063 ] gave 163.53095891581637\n"
     ]
    },
    {
     "name": "stdout",
     "output_type": "stream",
     "text": [
      "94\n"
     ]
    },
    {
     "name": "stderr",
     "output_type": "stream",
     "text": [
      "Info: Params [ 0.44366317 -0.17593119  0.46850854  0.99705957 -0.37673059  0.74328039\n",
      "  1.41456558  1.7700673   0.13324186 -0.16958865  0.73204514  0.90811525] gave 238.78026353254526\n"
     ]
    },
    {
     "name": "stdout",
     "output_type": "stream",
     "text": [
      "95\n"
     ]
    },
    {
     "name": "stderr",
     "output_type": "stream",
     "text": [
      "Info: Params [ 0.03916755 -0.55687929  0.10315724  0.23517741 -0.12776302  0.33890364\n",
      "  1.83915049  1.68659917  0.19981719  0.17570677  0.6265965   0.56230409] gave 289.374106544532\n"
     ]
    },
    {
     "name": "stdout",
     "output_type": "stream",
     "text": [
      "96\n"
     ]
    },
    {
     "name": "stderr",
     "output_type": "stream",
     "text": [
      "Info: Params [ 1.43646517 -0.3039769   1.06745166  1.20473038 -0.62462121  0.43787886\n",
      "  2.06353582  1.53912702 -0.34977138 -0.29708564  0.93964479  0.90332041] gave 206.70448839781906\n"
     ]
    },
    {
     "name": "stdout",
     "output_type": "stream",
     "text": [
      "97\n"
     ]
    },
    {
     "name": "stderr",
     "output_type": "stream",
     "text": [
      "Info: Params [ 0.61389159 -0.26901065  0.83421516  0.6490532  -0.57494335  0.43169995\n",
      "  2.46075278  2.37919214 -0.18242893 -0.13840244  0.92102742  0.95945174] gave 274.09943572944667\n"
     ]
    },
    {
     "name": "stdout",
     "output_type": "stream",
     "text": [
      "98\n"
     ]
    },
    {
     "name": "stderr",
     "output_type": "stream",
     "text": [
      "Info: Params [ 0.18506542 -0.01016106  0.03319478  1.35520658 -0.44223954  0.05776045\n",
      "  1.11560112  1.88059677  0.15526671 -0.11434486  0.32421392  0.78718146] gave 267.44024334510766\n"
     ]
    },
    {
     "name": "stdout",
     "output_type": "stream",
     "text": [
      "99\n"
     ]
    },
    {
     "name": "stderr",
     "output_type": "stream",
     "text": [
      "Info: Params [ 0.5781256  -0.28129713  0.4323392   0.54114266 -0.55232526  0.07405371\n",
      "  2.38342246  2.15151514  0.02261347 -0.10845301  0.49373746  0.36884963] gave 272.37272106403543\n"
     ]
    },
    {
     "name": "stdout",
     "output_type": "stream",
     "text": [
      "100\n"
     ]
    },
    {
     "name": "stderr",
     "output_type": "stream",
     "text": [
      "Info: Params [ 0.88085958 -0.15555281  0.37778057  0.56313855 -0.48909607  0.19661689\n",
      "  1.61163432  2.09862564 -0.1902422   0.06730675  0.51515745  0.95601098] gave 259.7061396892894\n"
     ]
    },
    {
     "name": "stdout",
     "output_type": "stream",
     "text": [
      "101\n"
     ]
    },
    {
     "name": "stderr",
     "output_type": "stream",
     "text": [
      "Info: Params [ 0.29321765 -0.05292851  0.27432299  0.14298694 -0.07445345  0.02554655\n",
      "  1.02547848  0.92995381  0.16583306  0.1190176   0.94247895  0.84669126] gave 224.3738233689976\n"
     ]
    },
    {
     "name": "stdout",
     "output_type": "stream",
     "text": [
      "102\n"
     ]
    },
    {
     "name": "stderr",
     "output_type": "stream",
     "text": [
      "Info: Params [ 0.99260578 -0.22145115  0.34514875  1.27575769 -0.37617977  0.22382024\n",
      "  0.79419742  0.91152666  0.4009735   0.28137581  0.58155087  0.68252784] gave 117.60116403341695\n"
     ]
    },
    {
     "name": "stdout",
     "output_type": "stream",
     "text": [
      "103\n"
     ]
    },
    {
     "name": "stderr",
     "output_type": "stream",
     "text": [
      "Info: Params [ 0.63755171  0.          0.          1.07048676 -0.33876664  0.19456669\n",
      "  0.75581353  0.78717976 -0.04026075 -0.26957834  0.67095428  0.71195976] gave 174.67535586791115\n"
     ]
    },
    {
     "name": "stdout",
     "output_type": "stream",
     "text": [
      "104\n"
     ]
    },
    {
     "name": "stderr",
     "output_type": "stream",
     "text": [
      "Info: Params [ 0.316911   -0.3929155   0.24994165  0.41169186 -0.57576829  0.14614014\n",
      "  1.86648478  2.31545178 -0.2946652   0.30397533  0.666138    0.95551848] gave 243.67956818037712\n"
     ]
    },
    {
     "name": "stdout",
     "output_type": "stream",
     "text": [
      "105\n"
     ]
    },
    {
     "name": "stderr",
     "output_type": "stream",
     "text": [
      "Info: Params [ 0.52617375 -0.21678112  0.39432999  0.87054702 -0.07218671  0.9278251\n",
      "  1.763369    2.16051372  0.02339097  0.06706223  0.29206716  0.54783341] gave 271.71617566840575\n"
     ]
    },
    {
     "name": "stdout",
     "output_type": "stream",
     "text": [
      "106\n"
     ]
    },
    {
     "name": "stderr",
     "output_type": "stream",
     "text": [
      "Info: Params [ 0.47218335 -0.07071717  0.42159053  0.28970176 -0.3072381   0.04990288\n",
      "  1.04477261  1.04094259 -0.0845157  -0.20197977  0.95454948  0.93901392] gave 215.02198446110305\n"
     ]
    },
    {
     "name": "stdout",
     "output_type": "stream",
     "text": [
      "107\n"
     ]
    },
    {
     "name": "stderr",
     "output_type": "stream",
     "text": [
      "Info: Params [ 1.07564761 -0.04459564  0.5554041   1.34169309 -0.69692198  0.15307796\n",
      "  0.91627024  0.89638935 -0.10248533 -0.28321405  0.62424394  0.65988647] gave 172.46575456150939\n"
     ]
    },
    {
     "name": "stdout",
     "output_type": "stream",
     "text": [
      "108\n"
     ]
    },
    {
     "name": "stderr",
     "output_type": "stream",
     "text": [
      "Info: Params [ 0.24609206 -0.43708671  0.31073938  0.09466826 -0.78146437  0.15927484\n",
      "  1.78636254  1.73417605 -0.19652395 -0.23371517  0.66630597  0.40505925] gave 269.21107917772036\n"
     ]
    },
    {
     "name": "stdout",
     "output_type": "stream",
     "text": [
      "109\n"
     ]
    },
    {
     "name": "stderr",
     "output_type": "stream",
     "text": [
      "Info: Params [ 1.62845428 -0.11026277  0.59569784  0.55675697 -0.24422307  0.08911027\n",
      "  0.94295103  0.76091736 -0.18368355 -0.19402864  0.96825613  0.81053343] gave 159.4535547233566\n"
     ]
    },
    {
     "name": "stdout",
     "output_type": "stream",
     "text": [
      "110\n"
     ]
    },
    {
     "name": "stderr",
     "output_type": "stream",
     "text": [
      "Info: Params [ 4.13547869e-11 -1.15713601e-02  2.38428640e-01  7.85586025e-01\n",
      " -2.08600875e-02  2.66595688e-03  8.43383995e-01  7.36818757e-01\n",
      "  6.80779852e-02  4.94933975e-03  8.32214878e-01  8.46574475e-01] gave 186.886356006952\n"
     ]
    },
    {
     "name": "stdout",
     "output_type": "stream",
     "text": [
      "111\n"
     ]
    },
    {
     "name": "stderr",
     "output_type": "stream",
     "text": [
      "Info: Params [ 0.89822808 -0.2172318   0.16458639  0.4023941  -0.00409899  0.04354655\n",
      "  1.12860076  0.89166988 -0.12226771  0.15339323  0.85734859  0.85872158] gave 222.5310572861136\n"
     ]
    },
    {
     "name": "stdout",
     "output_type": "stream",
     "text": [
      "112\n"
     ]
    },
    {
     "name": "stderr",
     "output_type": "stream",
     "text": [
      "Info: Params [ 0.90234167 -0.26258073  0.37741928  0.74570663 -0.57068585  0.14784999\n",
      "  1.14435642  0.92222017 -0.13395948  0.09521348  0.94183282  0.72934606] gave 181.8909681556387\n"
     ]
    },
    {
     "name": "stdout",
     "output_type": "stream",
     "text": [
      "113\n"
     ]
    },
    {
     "name": "stderr",
     "output_type": "stream",
     "text": [
      "Info: Params [ 0.21470027 -0.7955783   0.09886615  0.63215208 -0.05242304  0.89423257\n",
      "  2.46275874  2.39182837 -0.15023594  0.07393448  0.84757668  0.60567382] gave 264.40302709992557\n"
     ]
    },
    {
     "name": "stdout",
     "output_type": "stream",
     "text": [
      "114\n"
     ]
    },
    {
     "name": "stderr",
     "output_type": "stream",
     "text": [
      "Info: Params [ 0.47092413 -0.03547471  0.91657593  0.56669008 -0.78234052  0.09765949\n",
      "  2.27795842  2.22141542  0.14115324 -0.12638684  0.77757358  0.57908348] gave 272.42661306448065\n"
     ]
    },
    {
     "name": "stdout",
     "output_type": "stream",
     "text": [
      "115\n"
     ]
    },
    {
     "name": "stderr",
     "output_type": "stream",
     "text": [
      "Info: Params [ 1.47623303e-01 -3.51147360e-06  2.49970283e-01  8.89493878e-01\n",
      " -1.08059582e-01  2.41940411e-01  7.78434445e-01  1.00438588e+00\n",
      "  3.86662726e-01 -6.46920268e-02  7.36779655e-01  8.92122364e-01] gave 194.99827883887852\n"
     ]
    },
    {
     "name": "stdout",
     "output_type": "stream",
     "text": [
      "116\n"
     ]
    },
    {
     "name": "stderr",
     "output_type": "stream",
     "text": [
      "Info: Params [ 1.44314782e-01 -1.16848129e-04  1.99883148e-01  2.92769018e-02\n",
      " -7.61765846e-02  2.48636097e-01  1.03264461e+00  1.43545713e+00\n",
      " -3.76587086e-02 -3.09536435e-01  1.67321398e-01  3.06997711e-01] gave 260.94353436228744\n"
     ]
    },
    {
     "name": "stdout",
     "output_type": "stream",
     "text": [
      "117\n"
     ]
    },
    {
     "name": "stderr",
     "output_type": "stream",
     "text": [
      "Info: Params [ 0.71902732 -0.2735699   0.54366153  0.27680764 -0.179896    0.3486754\n",
      "  2.16592642  1.60744687 -0.17084518  0.00517318  0.94172904  0.90959954] gave 274.63427539536303\n"
     ]
    },
    {
     "name": "stdout",
     "output_type": "stream",
     "text": [
      "118\n"
     ]
    },
    {
     "name": "stderr",
     "output_type": "stream",
     "text": [
      "Info: Params [ 3.77504016 -0.03173232  0.06957183  1.9549372  -0.05019069  0.15731591\n",
      "  1.14253779  1.02683523 -0.32823484 -0.20195637  0.72412001  0.67638732] gave 209.61099734713034\n"
     ]
    },
    {
     "name": "stdout",
     "output_type": "stream",
     "text": [
      "119\n"
     ]
    },
    {
     "name": "stderr",
     "output_type": "stream",
     "text": [
      "Info: Params [ 0.36737523 -0.49416387  0.35198919  0.45913716 -0.23685113  0.69314304\n",
      "  2.24521352  2.35782284 -0.13956731  0.04038828  0.54079966  0.60353236] gave 271.2413538910028\n"
     ]
    },
    {
     "name": "stdout",
     "output_type": "stream",
     "text": [
      "120\n"
     ]
    },
    {
     "name": "stderr",
     "output_type": "stream",
     "text": [
      "Info: Params [ 0.37413722 -0.05845456  0.70404545  0.79081122 -0.37436981  0.24503725\n",
      "  1.91035813  1.74956424 -0.12573257 -0.13665236  0.99215587  0.92808655] gave 274.06902784439865\n"
     ]
    },
    {
     "name": "stdout",
     "output_type": "stream",
     "text": [
      "121\n"
     ]
    },
    {
     "name": "stderr",
     "output_type": "stream",
     "text": [
      "Info: Params [ 1.56021128 -0.01810296  1.38189703  0.67583861 -0.39594195  0.49524531\n",
      "  1.2125747   1.20416138 -0.21945737 -0.21109028  0.64301195  0.76246036] gave 183.26017716385638\n"
     ]
    },
    {
     "name": "stdout",
     "output_type": "stream",
     "text": [
      "122\n"
     ]
    },
    {
     "name": "stderr",
     "output_type": "stream",
     "text": [
      "Info: Params [ 3.81101814e-01 -1.52552120e-04  6.88386566e-02  9.19248179e-01\n",
      " -1.35372069e-01  1.44627924e-01  8.92027192e-01  8.66655142e-01\n",
      " -1.01010921e-01 -2.06959270e-01  9.96749380e-01  9.85755935e-01] gave 204.40609153314497\n"
     ]
    },
    {
     "name": "stdout",
     "output_type": "stream",
     "text": [
      "123\n"
     ]
    },
    {
     "name": "stderr",
     "output_type": "stream",
     "text": [
      "Info: Params [ 0.48932005 -0.49368278  0.81400717  0.43831157 -0.05525487  1.43363401\n",
      "  2.44417626  2.25607684 -0.09071096  0.02686414  0.97875372  0.78594512] gave 255.13825869056768\n"
     ]
    },
    {
     "name": "stdout",
     "output_type": "stream",
     "text": [
      "124\n"
     ]
    },
    {
     "name": "stderr",
     "output_type": "stream",
     "text": [
      "Info: Params [ 1.76156049  0.          0.          0.39666146 -0.96886259  0.16447073\n",
      "  0.59268484  0.82294869 -0.11003952  0.17210552  0.5585253   0.72345634] gave 133.61301267828185\n"
     ]
    },
    {
     "name": "stdout",
     "output_type": "stream",
     "text": [
      "125\n"
     ]
    },
    {
     "name": "stderr",
     "output_type": "stream",
     "text": [
      "Info: Params [ 0.41472422 -0.55986258  0.4537568   0.79841773 -0.72381352  0.47618648\n",
      "  2.28252527  2.32085601 -0.19301967  0.13414887  0.60032608  0.92281829] gave 255.6876434556268\n"
     ]
    },
    {
     "name": "stdout",
     "output_type": "stream",
     "text": [
      "126\n"
     ]
    },
    {
     "name": "stderr",
     "output_type": "stream",
     "text": [
      "Info: Params [ 0.17659717 -0.73269352  0.09230638  0.18299102 -0.88573354  0.06426645\n",
      "  2.29049262  2.1709361   0.08196376 -0.12128078  0.96428475  0.64770681] gave 269.04658455824097\n"
     ]
    },
    {
     "name": "stdout",
     "output_type": "stream",
     "text": [
      "127\n"
     ]
    },
    {
     "name": "stderr",
     "output_type": "stream",
     "text": [
      "Info: Params [ 0.03707553 -0.12695722  0.27304278  9.38563937 -0.31510164  0.50344176\n",
      "  1.4174173   2.41641327 -0.03689965 -0.56047444  0.66023399  0.62726058] gave 199.82797980084604\n"
     ]
    },
    {
     "name": "stdout",
     "output_type": "stream",
     "text": [
      "128\n"
     ]
    },
    {
     "name": "stderr",
     "output_type": "stream",
     "text": [
      "Info: Params [ 0.02750609  0.          0.          1.05211859  0.          0.\n",
      "  0.86174271  0.86761153  0.10069007 -0.00448728  0.84697188  0.9172729 ] gave 222.28409337612305\n"
     ]
    },
    {
     "name": "stdout",
     "output_type": "stream",
     "text": [
      "129\n"
     ]
    },
    {
     "name": "stderr",
     "output_type": "stream",
     "text": [
      "Info: Params [ 0.20525141 -0.20376033  0.268886    1.17242637 -0.26841731  0.20658269\n",
      "  1.25880642  1.33224948  0.08242526  0.39854527  0.76265185  0.77645535] gave 230.7885953979638\n"
     ]
    },
    {
     "name": "stdout",
     "output_type": "stream",
     "text": [
      "130\n"
     ]
    },
    {
     "name": "stderr",
     "output_type": "stream",
     "text": [
      "Info: Params [ 0.00815058 -0.10671119  0.03715156  2.97396634 -0.07986313  0.70001316\n",
      "  1.07969908  1.52420676  0.35619722 -0.16661519  0.53922728  0.79643035] gave 220.8531104624528\n"
     ]
    },
    {
     "name": "stdout",
     "output_type": "stream",
     "text": [
      "131\n"
     ]
    },
    {
     "name": "stderr",
     "output_type": "stream",
     "text": [
      "Info: Params [ 0.41094477 -0.11967304  0.08032704  0.69183378 -0.21698297  0.01427895\n",
      "  1.19896409  1.12000191 -0.0040413   0.01859199  0.66320433  0.57095164] gave 256.20721339799354\n"
     ]
    },
    {
     "name": "stdout",
     "output_type": "stream",
     "text": [
      "132\n"
     ]
    },
    {
     "name": "stderr",
     "output_type": "stream",
     "text": [
      "Info: Params [ 0.72866369 -0.17910854  0.7021254   0.73344917 -0.14478708  0.63021291\n",
      "  2.29033273  2.26711026  0.05343402  0.14734015  0.50492095  0.61299874] gave 276.52762736069985\n"
     ]
    },
    {
     "name": "stdout",
     "output_type": "stream",
     "text": [
      "133\n"
     ]
    },
    {
     "name": "stderr",
     "output_type": "stream",
     "text": [
      "Info: Params [ 0.75831174 -0.01946285  0.67411528  1.65758361 -0.16499433  0.08500567\n",
      "  1.19417543  1.01022992 -0.0409179  -0.29363698  0.94131498  0.84562951] gave 194.53653841831164\n"
     ]
    },
    {
     "name": "stdout",
     "output_type": "stream",
     "text": [
      "134\n"
     ]
    },
    {
     "name": "stderr",
     "output_type": "stream",
     "text": [
      "Info: Params [ 3.03058179 -0.10229392  1.69770609  1.66998136 -0.2096638   0.62958084\n",
      "  0.81554712  0.79026648 -0.19535168  0.12783585  0.4341378   0.40607426] gave 85.69340067331485\n"
     ]
    },
    {
     "name": "stdout",
     "output_type": "stream",
     "text": [
      "135\n"
     ]
    },
    {
     "name": "stderr",
     "output_type": "stream",
     "text": [
      "Info: Params [ 0.88526867 -0.63107583  0.24892418  0.52873108 -0.65917729  0.27415607\n",
      "  0.63249459  0.72074748  0.13622942  0.00870087  0.6884938   0.72221921] gave 114.29077544165901\n"
     ]
    },
    {
     "name": "stdout",
     "output_type": "stream",
     "text": [
      "136\n"
     ]
    },
    {
     "name": "stderr",
     "output_type": "stream",
     "text": [
      "Info: Params [ 0.9065867  -0.1621897   0.26638173  1.52804026 -0.01279735  0.34926923\n",
      "  1.44188563  1.44357842 -0.33524735 -0.19928453  0.5929578   0.80234375] gave 253.67397491182987\n"
     ]
    },
    {
     "name": "stdout",
     "output_type": "stream",
     "text": [
      "137\n"
     ]
    },
    {
     "name": "stderr",
     "output_type": "stream",
     "text": [
      "Info: Params [ 0.63029332 -0.21990924  0.18009076  0.74453526 -0.23812205  0.03557785\n",
      "  1.42933839  1.06731546  0.03997964  0.18478515  0.75598427  0.53702696] gave 242.82381003761702\n"
     ]
    },
    {
     "name": "stdout",
     "output_type": "stream",
     "text": [
      "138\n"
     ]
    },
    {
     "name": "stderr",
     "output_type": "stream",
     "text": [
      "Info: Params [ 0.72528326 -0.21815678  0.62628766  0.42045059 -0.46787687  0.23981325\n",
      "  1.85865983  1.94766843 -0.11911073 -0.1650843   0.3059545   0.47179501] gave 272.5609721917908\n"
     ]
    },
    {
     "name": "stdout",
     "output_type": "stream",
     "text": [
      "139\n"
     ]
    },
    {
     "name": "stderr",
     "output_type": "stream",
     "text": [
      "Info: Params [ 1.17212996 -0.32444298  0.32101186  0.59199852 -0.13539164  0.24979352\n",
      "  1.56131019  1.27540527 -0.15496939  0.03521904  0.61301157  0.6382569 ] gave 249.42316870383056\n"
     ]
    },
    {
     "name": "stdout",
     "output_type": "stream",
     "text": [
      "140\n"
     ]
    },
    {
     "name": "stderr",
     "output_type": "stream",
     "text": [
      "Info: Params [ 0.          0.          0.          2.66793194  0.          0.\n",
      "  1.00141756  0.72365982 -0.2221485   0.03464097  0.92227054  0.84506085] gave 182.816919076797\n"
     ]
    },
    {
     "name": "stdout",
     "output_type": "stream",
     "text": [
      "141\n"
     ]
    },
    {
     "name": "stderr",
     "output_type": "stream",
     "text": [
      "Info: Params [ 0.80688046 -0.42579028  0.3456383   0.49431591  0.          0.\n",
      "  0.67162338  0.67666864 -0.34978341 -0.06341108  0.77312833  0.81634804] gave 138.70526975596468\n"
     ]
    },
    {
     "name": "stdout",
     "output_type": "stream",
     "text": [
      "142\n"
     ]
    },
    {
     "name": "stderr",
     "output_type": "stream",
     "text": [
      "Info: Params [ 0.37428331 -0.20430729  0.39569329  0.37985626 -0.50993654  0.06506346\n",
      "  1.81399145  1.76195489 -0.01567616 -0.27336533  0.78125418  0.66415847] gave 298.73979924803655\n"
     ]
    },
    {
     "name": "stdout",
     "output_type": "stream",
     "text": [
      "143\n"
     ]
    },
    {
     "name": "stderr",
     "output_type": "stream",
     "text": [
      "Info: Params [ 0.78383777 -0.02853149  0.03813518  0.74415424 -0.31184865  0.08814954\n",
      "  0.91239312  1.39278016  0.09065117  0.53112054  0.48774766  0.45007351] gave 210.4368604555212\n"
     ]
    },
    {
     "name": "stdout",
     "output_type": "stream",
     "text": [
      "144\n"
     ]
    },
    {
     "name": "stderr",
     "output_type": "stream",
     "text": [
      "Info: Params [ 4.21535327 -0.07003558  0.05349383  0.4352073   0.          0.\n",
      "  1.32156294  0.82782409 -0.32188003  0.20792364  0.87009283  0.88624395] gave 234.65945262308415\n"
     ]
    },
    {
     "name": "stdout",
     "output_type": "stream",
     "text": [
      "145\n"
     ]
    },
    {
     "name": "stderr",
     "output_type": "stream",
     "text": [
      "Info: Params [ 0.33712242 -0.06441089  0.15377093  0.          0.          0.36611455\n",
      "  1.18920942  1.24592297  0.43499823  0.36953334  0.53018243  0.69302999] gave 254.44204136259233\n"
     ]
    },
    {
     "name": "stdout",
     "output_type": "stream",
     "text": [
      "146\n"
     ]
    },
    {
     "name": "stderr",
     "output_type": "stream",
     "text": [
      "Info: Params [ 0.30021339 -0.5787303   0.08555542  0.6533884  -0.39075006  0.17591914\n",
      "  1.56311052  1.3451988  -0.13186135 -0.07857629  0.6979405   0.45395916] gave 255.17293990426109\n"
     ]
    },
    {
     "name": "stdout",
     "output_type": "stream",
     "text": [
      "147\n"
     ]
    },
    {
     "name": "stderr",
     "output_type": "stream",
     "text": [
      "Info: Params [ 0.761673    0.          0.4099477   0.7375185  -0.0453364   0.5046636\n",
      "  1.63352266  1.86786754  0.17821643 -0.06647281  0.45275536  0.63409137] gave 284.8196513594072\n"
     ]
    },
    {
     "name": "stdout",
     "output_type": "stream",
     "text": [
      "148\n"
     ]
    },
    {
     "name": "stderr",
     "output_type": "stream",
     "text": [
      "Info: Params [ 0.43394835 -0.31460033  0.57630801  0.52653004 -0.57967353  0.13739964\n",
      "  1.99492387  2.10619121  0.08219616 -0.17445466  0.37083405  0.49938061] gave 280.06341365069636\n"
     ]
    },
    {
     "name": "stdout",
     "output_type": "stream",
     "text": [
      "149\n"
     ]
    },
    {
     "name": "stderr",
     "output_type": "stream",
     "text": [
      "Info: Params [ 0.4610997  -0.30214505  0.48331933  0.15172615 -0.42720337  0.12279663\n",
      "  2.39289012  2.00586074  0.21410033  0.47697207  0.75474027  0.45812106] gave 267.8781450550936\n"
     ]
    },
    {
     "name": "stdout",
     "output_type": "stream",
     "text": [
      "150\n"
     ]
    },
    {
     "name": "stderr",
     "output_type": "stream",
     "text": [
      "Info: Params [ 6.71275797e-01 -6.66666752e-02  0.00000000e+00  3.71163113e-01\n",
      "  0.00000000e+00  0.00000000e+00  8.71647333e-01  9.08192366e-01\n",
      "  8.18186777e-02 -2.88263199e-05  7.10146621e-01  6.47860523e-01] gave 221.33690354788385\n"
     ]
    },
    {
     "name": "stdout",
     "output_type": "stream",
     "text": [
      "151\n"
     ]
    },
    {
     "name": "stderr",
     "output_type": "stream",
     "text": [
      "Info: Params [ 0.19156212 -0.00281075  0.47827035  1.94915444 -0.66743161  0.61258413\n",
      "  1.59528746  1.86016247  0.01938923  0.01333387  0.85359884  0.83753926] gave 237.285323601895\n"
     ]
    },
    {
     "name": "stdout",
     "output_type": "stream",
     "text": [
      "152\n"
     ]
    },
    {
     "name": "stderr",
     "output_type": "stream",
     "text": [
      "Info: Params [ 0.32546665 -0.19723828  0.20276076  0.10637559 -0.22728144  0.07271857\n",
      "  1.06067602  1.14014009 -0.11345151  0.01899082  0.83083519  0.98287617] gave 236.24114655833634\n"
     ]
    },
    {
     "name": "stdout",
     "output_type": "stream",
     "text": [
      "153\n"
     ]
    },
    {
     "name": "stderr",
     "output_type": "stream",
     "text": [
      "Info: Params [ 7.80291075e-01 -3.76760711e-03  1.39110010e-02  9.01407681e-01\n",
      " -7.02411429e-04  5.38430456e-02  9.40022347e-01  7.95920971e-01\n",
      " -4.49011115e-01 -2.82835987e-01  6.21591095e-01  6.09817497e-01] gave 199.93593533870703\n"
     ]
    },
    {
     "name": "stdout",
     "output_type": "stream",
     "text": [
      "154\n"
     ]
    },
    {
     "name": "stderr",
     "output_type": "stream",
     "text": [
      "Info: Params [ 1.29332225 -0.19344986  0.53143012  1.05146906 -0.10824183  0.04175817\n",
      "  0.90517016  0.7242063  -0.10757745  0.14498501  0.94003866  0.99300058] gave 155.6930070753092\n"
     ]
    },
    {
     "name": "stdout",
     "output_type": "stream",
     "text": [
      "155\n"
     ]
    },
    {
     "name": "stderr",
     "output_type": "stream",
     "text": [
      "Info: Params [ 1.0744068  -0.20345123  0.62511783  1.02413446 -0.3620032   0.15799566\n",
      "  1.24742175  0.8386131  -0.39065862 -0.05632222  0.82916867  0.7544912 ] gave 183.4458079988409\n"
     ]
    },
    {
     "name": "stdout",
     "output_type": "stream",
     "text": [
      "156\n"
     ]
    },
    {
     "name": "stderr",
     "output_type": "stream",
     "text": [
      "Info: Params [ 0.79989524 -0.21108157  0.25558518  0.39037299 -0.45197414  0.15358143\n",
      "  1.94145238  2.00062275  0.002296    0.13982243  0.60395153  0.57005134] gave 294.4869606411176\n"
     ]
    },
    {
     "name": "stdout",
     "output_type": "stream",
     "text": [
      "157\n"
     ]
    },
    {
     "name": "stderr",
     "output_type": "stream",
     "text": [
      "Info: Params [ 5.79432658e-01 -1.99659058e-04  3.48799012e-01  2.57633227e-01\n",
      " -1.38378761e-02  8.61621218e-02  1.03427575e+00  9.66069744e-01\n",
      "  2.99417604e-02  6.07469734e-02  7.62429991e-01  7.18563665e-01] gave 240.8555165847073\n"
     ]
    },
    {
     "name": "stdout",
     "output_type": "stream",
     "text": [
      "158\n"
     ]
    },
    {
     "name": "stderr",
     "output_type": "stream",
     "text": [
      "Info: Params [ 0.4994512  -0.41326163  0.4422965   0.51493812 -0.18623369  0.44854895\n",
      "  1.72286918  1.55404058  0.05832669  0.06677278  0.85851815  0.78244069] gave 261.91337468727215\n"
     ]
    },
    {
     "name": "stdout",
     "output_type": "stream",
     "text": [
      "159\n"
     ]
    },
    {
     "name": "stderr",
     "output_type": "stream",
     "text": [
      "Info: Params [ 0.43311181 -0.11341886  0.17888883  0.47613096 -0.38216172  0.11784071\n",
      "  1.22518538  1.25071947  0.21560456  0.13164911  0.72823282  0.87057805] gave 243.71927189049592\n"
     ]
    },
    {
     "name": "stdout",
     "output_type": "stream",
     "text": [
      "160\n"
     ]
    },
    {
     "name": "stderr",
     "output_type": "stream",
     "text": [
      "Info: Params [ 0.22881552 -0.0605948   0.2497611   1.04843669 -0.3220356   0.18830925\n",
      "  1.47406353  1.968534    0.12572246 -0.23805299  0.50284298  0.83788634] gave 290.96334669207283\n"
     ]
    },
    {
     "name": "stdout",
     "output_type": "stream",
     "text": [
      "161\n"
     ]
    },
    {
     "name": "stderr",
     "output_type": "stream",
     "text": [
      "Info: Params [ 1.14853852 -0.42124303  0.24542363  1.46120916 -0.27311767  0.23614269\n",
      "  0.73052567  0.76137436 -0.11313798  0.14245669  0.71910359  0.85780877] gave 126.12079630016281\n"
     ]
    },
    {
     "name": "stdout",
     "output_type": "stream",
     "text": [
      "162\n"
     ]
    },
    {
     "name": "stderr",
     "output_type": "stream",
     "text": [
      "Info: Params [ 0.52372982  0.          0.          1.29133888 -0.2308887   0.06911131\n",
      "  0.91604125  1.07458024  0.25618661  0.1592046   0.95726839  0.94696746] gave 188.2014782054388\n"
     ]
    },
    {
     "name": "stdout",
     "output_type": "stream",
     "text": [
      "163\n"
     ]
    },
    {
     "name": "stderr",
     "output_type": "stream",
     "text": [
      "Info: Params [ 0.86173609 -0.04212006  0.05157573  1.35897376 -0.03810501  0.08738436\n",
      "  0.63865145  0.6144426  -0.16515717  0.41281139  0.68025695  0.73304229] gave 119.74934965820056\n"
     ]
    },
    {
     "name": "stdout",
     "output_type": "stream",
     "text": [
      "164\n"
     ]
    },
    {
     "name": "stderr",
     "output_type": "stream",
     "text": [
      "Info: Params [ 0.         -0.20004815  0.50904276  0.0369493  -0.01584395  0.81204216\n",
      "  1.88370049  1.99147813  0.08168046  0.03006148  0.65875113  0.93123745] gave 285.2997126185887\n"
     ]
    },
    {
     "name": "stdout",
     "output_type": "stream",
     "text": [
      "165\n"
     ]
    },
    {
     "name": "stderr",
     "output_type": "stream",
     "text": [
      "Info: Params [ 0.54603894  0.          0.          0.31330668  0.          0.\n",
      "  0.97618768  0.82178574 -0.05583448 -0.0665239   0.65365078  0.61648962] gave 236.03035265110213\n"
     ]
    },
    {
     "name": "stdout",
     "output_type": "stream",
     "text": [
      "166\n"
     ]
    },
    {
     "name": "stderr",
     "output_type": "stream",
     "text": [
      "Info: Params [ 0.          0.          0.22222222  0.05004152 -0.07019421  0.11532055\n",
      "  1.53123344  1.35842094  0.50873098  0.39343428  0.67792249  0.67563367] gave 293.4419738668779\n"
     ]
    },
    {
     "name": "stdout",
     "output_type": "stream",
     "text": [
      "167\n"
     ]
    },
    {
     "name": "stderr",
     "output_type": "stream",
     "text": [
      "Info: Params [ 0.38590034 -0.16114158  0.35314412  1.48766133 -0.38543245  0.21459058\n",
      "  1.47241265  1.19256619 -0.06346592 -0.31808205  0.34256946  0.07037762] gave 224.27163656080907\n"
     ]
    },
    {
     "name": "stdout",
     "output_type": "stream",
     "text": [
      "168\n"
     ]
    },
    {
     "name": "stderr",
     "output_type": "stream",
     "text": [
      "Info: Params [ 0.49709442 -0.23052537  0.3256237   1.21617951 -0.34391014  0.05608986\n",
      "  1.64054647  1.25126478  0.04514048 -0.29960541  0.89558614  0.9234144 ] gave 233.61028356209303\n"
     ]
    },
    {
     "name": "stdout",
     "output_type": "stream",
     "text": [
      "169\n"
     ]
    },
    {
     "name": "stderr",
     "output_type": "stream",
     "text": [
      "Info: Params [ 0.51580743 -0.45191697  0.51474873  0.54484118 -0.19580337  0.53752997\n",
      "  2.45875121  1.54920024 -0.05226939  0.04730546  0.69251314  0.04062837] gave 277.79478724629985\n"
     ]
    },
    {
     "name": "stdout",
     "output_type": "stream",
     "text": [
      "170\n"
     ]
    },
    {
     "name": "stderr",
     "output_type": "stream",
     "text": [
      "Info: Params [ 0.37272745 -0.16781681  0.12551343  0.56057628  0.          0.\n",
      "  0.96335031  0.75283694  0.09883746 -0.03516148  0.72438101  0.55576006] gave 203.6716710564987\n"
     ]
    },
    {
     "name": "stdout",
     "output_type": "stream",
     "text": [
      "171\n"
     ]
    },
    {
     "name": "stderr",
     "output_type": "stream",
     "text": [
      "Info: Params [ 1.35759835 -0.05364705  0.10496322  0.63326734 -0.57515308  0.02484745\n",
      "  0.89874398  1.04959376 -0.25801309 -0.40302524  0.96161646  0.9407159 ] gave 171.30341531000903\n"
     ]
    },
    {
     "name": "stdout",
     "output_type": "stream",
     "text": [
      "172\n"
     ]
    },
    {
     "name": "stderr",
     "output_type": "stream",
     "text": [
      "Info: Params [ 0.30441429 -0.0069654   0.03306738  1.59958953 -1.05562201  0.44437798\n",
      "  0.56392114  0.96952009  0.12976126  0.06985455  0.7204404   0.89561789] gave 112.85933880359497\n"
     ]
    },
    {
     "name": "stdout",
     "output_type": "stream",
     "text": [
      "173\n"
     ]
    },
    {
     "name": "stderr",
     "output_type": "stream",
     "text": [
      "Info: Params [ 0.17420532 -0.0141446   0.16362101  0.59326176 -0.37490666  0.08872971\n",
      "  1.29584524  1.5459528   0.18330542 -0.00270428  0.5282956   0.65390352] gave 281.53107148725053\n"
     ]
    },
    {
     "name": "stdout",
     "output_type": "stream",
     "text": [
      "174\n"
     ]
    },
    {
     "name": "stderr",
     "output_type": "stream",
     "text": [
      "Info: Params [ 0.82460116 -0.35406276  0.50954506  0.04542757 -0.30322506  0.49677493\n",
      "  2.28149985  2.19108275  0.02077112  0.12967916  0.70688603  0.71724477] gave 274.75704769796937\n"
     ]
    },
    {
     "name": "stdout",
     "output_type": "stream",
     "text": [
      "175\n"
     ]
    },
    {
     "name": "stderr",
     "output_type": "stream",
     "text": [
      "Info: Params [ 0.32435393 -0.14984578  0.26068159  0.7989876  -0.24233024  0.50211429\n",
      "  1.69445972  2.10170757 -0.2422979  -0.29059548  0.28702707  0.56705387] gave 291.82359948318776\n"
     ]
    },
    {
     "name": "stdout",
     "output_type": "stream",
     "text": [
      "176\n"
     ]
    },
    {
     "name": "stderr",
     "output_type": "stream",
     "text": [
      "Info: Params [ 1.48137674 -0.22025644  0.70566949  0.17161558 -0.01936271  0.08833047\n",
      "  1.78759485  1.02343672 -0.01649919  0.10206586  0.61819163  0.48471822] gave 249.96392670433315\n"
     ]
    },
    {
     "name": "stdout",
     "output_type": "stream",
     "text": [
      "177\n"
     ]
    },
    {
     "name": "stderr",
     "output_type": "stream",
     "text": [
      "Info: Params [ 0.22733949 -0.15981314  0.0401872   0.89091784 -0.05642644  0.0185778\n",
      "  1.17810171  1.17067569 -0.0092886   0.3290034   0.85295846  0.77753315] gave 223.6397426489641\n"
     ]
    },
    {
     "name": "stdout",
     "output_type": "stream",
     "text": [
      "178\n"
     ]
    },
    {
     "name": "stderr",
     "output_type": "stream",
     "text": [
      "Info: Params [ 1.91462107 -0.44178756  0.28039937  0.55847389 -0.07145718  0.52854281\n",
      "  2.10348505  1.50716141 -0.34326367  0.20558589  0.94173805  0.79312725] gave 240.21723639250078\n"
     ]
    },
    {
     "name": "stdout",
     "output_type": "stream",
     "text": [
      "179\n"
     ]
    },
    {
     "name": "stderr",
     "output_type": "stream",
     "text": [
      "Info: Params [ 0.94565027 -0.05690621  1.14309379  0.62466993 -0.77489675  0.31922\n",
      "  2.4308656   1.94007098  0.05236539 -0.0178938   0.63592998  0.67835296] gave 262.1950658537205\n"
     ]
    },
    {
     "name": "stdout",
     "output_type": "stream",
     "text": [
      "180\n"
     ]
    },
    {
     "name": "stderr",
     "output_type": "stream",
     "text": [
      "Info: Params [ 1.42638442e-01 -4.37856047e-04  6.56705006e-01  2.41503098e-01\n",
      " -3.19279326e-01  2.45672351e-01  1.73788482e+00  1.69777587e+00\n",
      " -6.95339128e-03  6.36096125e-02  8.97613162e-01  8.50123978e-01] gave 277.6912935779455\n"
     ]
    },
    {
     "name": "stdout",
     "output_type": "stream",
     "text": [
      "181\n"
     ]
    },
    {
     "name": "stderr",
     "output_type": "stream",
     "text": [
      "Info: Params [ 0.56085128 -0.20474109  0.19525887  0.          0.          0.22857179\n",
      "  0.81840398  0.74302165  0.37531074  0.33117289  0.80687341  0.85846339] gave 162.99669476981384\n"
     ]
    },
    {
     "name": "stdout",
     "output_type": "stream",
     "text": [
      "182\n"
     ]
    },
    {
     "name": "stderr",
     "output_type": "stream",
     "text": [
      "Info: Params [ 0.55435096 -0.59819387  0.3732347   0.7120462  -0.39259968  0.56152417\n",
      "  1.56588101  1.65815046 -0.0917313   0.02796524  0.96258047  0.95043434] gave 227.7957115990812\n"
     ]
    },
    {
     "name": "stdout",
     "output_type": "stream",
     "text": [
      "183\n"
     ]
    },
    {
     "name": "stderr",
     "output_type": "stream",
     "text": [
      "Info: Params [ 1.24078201 -0.14049894  0.12616694  1.43587877 -0.03064517  0.00935484\n",
      "  1.24972662  1.00633598  0.10485126  0.03023286  0.66326084  0.66937003] gave 212.15307968038866\n"
     ]
    },
    {
     "name": "stdout",
     "output_type": "stream",
     "text": [
      "184\n"
     ]
    },
    {
     "name": "stderr",
     "output_type": "stream",
     "text": [
      "Info: Params [ 0.50244757 -0.14973724  0.10821024  0.78002633 -0.12436024  0.6756398\n",
      "  1.32832113  1.82365083  0.01447023  0.0649129   0.44690118  0.63974205] gave 275.2516188118358\n"
     ]
    },
    {
     "name": "stdout",
     "output_type": "stream",
     "text": [
      "185\n"
     ]
    },
    {
     "name": "stderr",
     "output_type": "stream",
     "text": [
      "Info: Params [ 0.6442804  -0.61830081  0.58169982  1.21080137 -1.82334185  0.33665815\n",
      "  1.20173184  1.48773944  0.06455552 -0.34456689  0.95402936  0.98009812] gave 142.84534674501657\n"
     ]
    },
    {
     "name": "stdout",
     "output_type": "stream",
     "text": [
      "186\n"
     ]
    },
    {
     "name": "stderr",
     "output_type": "stream",
     "text": [
      "Info: Params [ 0.45812271 -0.5820319   0.44443766  0.42573872 -0.59942946  0.24501499\n",
      "  1.26390902  1.04044785 -0.11686156 -0.12252883  0.96106318  0.81293562] gave 190.30758352948197\n"
     ]
    },
    {
     "name": "stdout",
     "output_type": "stream",
     "text": [
      "187\n"
     ]
    },
    {
     "name": "stderr",
     "output_type": "stream",
     "text": [
      "Info: Params [ 0.83212708 -0.08870915  0.27644736  2.93096491 -0.12430994  0.4090234\n",
      "  1.22868058  1.29376081 -0.29375808 -0.2170099   0.53093248  0.59142722] gave 221.1989460301807\n"
     ]
    },
    {
     "name": "stdout",
     "output_type": "stream",
     "text": [
      "188\n"
     ]
    },
    {
     "name": "stderr",
     "output_type": "stream",
     "text": [
      "Info: Params [ 0.34105574 -0.14687303  0.05314284  0.34672591 -0.14582321  0.17417679\n",
      "  0.93933386  1.37458969  0.0431223   0.11227385  0.76438103  0.98366179] gave 253.36073707949902\n"
     ]
    },
    {
     "name": "stdout",
     "output_type": "stream",
     "text": [
      "189\n"
     ]
    },
    {
     "name": "stderr",
     "output_type": "stream",
     "text": [
      "Info: Params [ 0.27766034 -0.70697245  0.34302755  1.63006725 -0.11125459  0.79207593\n",
      "  2.39183204  2.46715552 -0.11893583 -0.02358138  0.91376389  0.9036416 ] gave 255.20666370784255\n"
     ]
    },
    {
     "name": "stdout",
     "output_type": "stream",
     "text": [
      "190\n"
     ]
    },
    {
     "name": "stderr",
     "output_type": "stream",
     "text": [
      "Info: Params [ 0.27270427 -0.11020411  0.46757294  0.62951024 -0.118242    0.30268402\n",
      "  1.47244788  1.48361677 -0.04131693 -0.09207579  0.77041725  0.7464536 ] gave 269.4918993107012\n"
     ]
    },
    {
     "name": "stdout",
     "output_type": "stream",
     "text": [
      "191\n"
     ]
    },
    {
     "name": "stderr",
     "output_type": "stream",
     "text": [
      "Info: Params [ 0.85722245 -0.0167506   0.23779485  0.          0.          0.02104032\n",
      "  1.20260227  1.07920893 -0.02260227  0.2416377   0.75593739  0.7495018 ] gave 262.5697907929288\n"
     ]
    },
    {
     "name": "stdout",
     "output_type": "stream",
     "text": [
      "192\n"
     ]
    },
    {
     "name": "stderr",
     "output_type": "stream",
     "text": [
      "Info: Params [ 0.39148846 -0.25634868  0.15903604  0.07251997 -0.14083258  0.00978981\n",
      "  1.29835058  1.09855805 -0.20007601  0.05850583  0.40835517  0.47618517] gave 257.91672568034187\n"
     ]
    },
    {
     "name": "stdout",
     "output_type": "stream",
     "text": [
      "193\n"
     ]
    },
    {
     "name": "stderr",
     "output_type": "stream",
     "text": [
      "Info: Params [ 0.65801061 -0.01801518  0.03199349  0.93047309 -0.03046079  0.0195392\n",
      "  1.08270962  1.0563245  -0.09696623  0.08427615  0.6929491   0.77461993] gave 243.85693568525411\n"
     ]
    },
    {
     "name": "stdout",
     "output_type": "stream",
     "text": [
      "194\n"
     ]
    },
    {
     "name": "stderr",
     "output_type": "stream",
     "text": [
      "Info: Params [ 0.48716961 -0.23370576  0.40202911  2.24151382 -0.87030528  1.12969472\n",
      "  1.08477033  1.71617881  0.07981152 -0.42600348  0.93966369  0.80355332] gave 183.3102608193904\n"
     ]
    },
    {
     "name": "stdout",
     "output_type": "stream",
     "text": [
      "195\n"
     ]
    },
    {
     "name": "stderr",
     "output_type": "stream",
     "text": [
      "Info: Params [ 0.25432327 -0.3055761   0.16585248  6.87561832 -0.44312685  0.87117578\n",
      "  1.49500686  1.96757844  0.11713958 -0.12085738  0.9915494   0.64304837] gave 277.1931981084248\n"
     ]
    },
    {
     "name": "stdout",
     "output_type": "stream",
     "text": [
      "196\n"
     ]
    },
    {
     "name": "stderr",
     "output_type": "stream",
     "text": [
      "Info: Params [ 0.18954734 -0.33949857  0.37478716  1.35638342 -0.57220704  1.32772973\n",
      "  1.60293152  2.06147337 -0.26617221 -0.26441049  0.70420953  0.90514216] gave 241.92578333039376\n"
     ]
    },
    {
     "name": "stdout",
     "output_type": "stream",
     "text": [
      "197\n"
     ]
    },
    {
     "name": "stderr",
     "output_type": "stream",
     "text": [
      "Info: Params [ 0.97317696 -0.35083284  0.04916715  0.80393047 -0.14937457  0.15076836\n",
      "  1.20540403  1.09420011  0.09059156 -0.23555521  0.73159802  0.79303839] gave 223.91280326064071\n"
     ]
    },
    {
     "name": "stdout",
     "output_type": "stream",
     "text": [
      "198\n"
     ]
    },
    {
     "name": "stderr",
     "output_type": "stream",
     "text": [
      "Info: Params [ 0.42303065 -0.04544223  0.06705779  0.88764418 -0.13347832  0.23152196\n",
      "  1.2400695   1.97387008  0.11699416  0.30114845  0.40131925  0.64665179] gave 258.5114019670211\n"
     ]
    },
    {
     "name": "stdout",
     "output_type": "stream",
     "text": [
      "199\n"
     ]
    },
    {
     "name": "stderr",
     "output_type": "stream",
     "text": [
      "Info: Params [ 0.07087764 -0.00258173  0.16317661  0.0123688  -0.03174164  0.10825836\n",
      "  1.32432669  1.19231784 -0.0320542   0.24540846  0.74313363  0.66357241] gave 268.6599852694173\n"
     ]
    },
    {
     "name": "stdout",
     "output_type": "stream",
     "text": [
      "200\n"
     ]
    },
    {
     "name": "stderr",
     "output_type": "stream",
     "text": [
      "Info: Params [ 0.73261859 -0.74507279  0.18826055  0.45123147  0.          0.\n",
      "  1.44625973  0.91606438 -0.04078605  0.18603605  0.86015963  0.98913291] gave 208.68075010316517\n"
     ]
    },
    {
     "name": "stdout",
     "output_type": "stream",
     "text": [
      "201\n"
     ]
    },
    {
     "name": "stderr",
     "output_type": "stream",
     "text": [
      "Info: Params [ 0.63646284 -0.99863763  0.2213709   0.58364592 -0.28206843  0.69984066\n",
      "  2.43626026  2.19339727 -0.20861104  0.06253456  0.94857109  0.98120062] gave 247.60143365824894\n"
     ]
    },
    {
     "name": "stdout",
     "output_type": "stream",
     "text": [
      "202\n"
     ]
    },
    {
     "name": "stderr",
     "output_type": "stream",
     "text": [
      "Info: Params [ 1.15707884 -0.16480286  0.16829329  1.48301392 -0.06426164  0.28573836\n",
      "  0.65559271  0.85344809  0.02429064 -0.10425435  0.62325272  0.78251985] gave 155.10508651678632\n"
     ]
    },
    {
     "name": "stdout",
     "output_type": "stream",
     "text": [
      "203\n"
     ]
    },
    {
     "name": "stderr",
     "output_type": "stream",
     "text": [
      "Info: Params [ 0.69957132  0.          0.45384616  0.41254542 -0.14875826  0.21814387\n",
      "  1.80889749  1.51484519  0.01366472  0.27285809  0.90164071  0.70654325] gave 235.9638525540178\n"
     ]
    },
    {
     "name": "stdout",
     "output_type": "stream",
     "text": [
      "204\n"
     ]
    },
    {
     "name": "stderr",
     "output_type": "stream",
     "text": [
      "Info: Params [ 0.63869378 -0.13457656  0.67517953  0.3087847  -0.29195434  0.45804143\n",
      "  2.48622221  2.21331236  0.14074902  0.29198681  0.77821096  0.51006501] gave 292.24839409709034\n"
     ]
    },
    {
     "name": "stdout",
     "output_type": "stream",
     "text": [
      "205\n"
     ]
    },
    {
     "name": "stderr",
     "output_type": "stream",
     "text": [
      "Info: Params [ 1.96778822 -0.47176785  0.49823215  0.91314619 -0.12826501  0.28912542\n",
      "  2.20813405  1.57889808 -0.39371225 -0.05367518  0.81432163  0.89823547] gave 235.7161192954738\n"
     ]
    },
    {
     "name": "stdout",
     "output_type": "stream",
     "text": [
      "206\n"
     ]
    },
    {
     "name": "stderr",
     "output_type": "stream",
     "text": [
      "Info: Params [ 0.7868337  -0.34523339  0.65476661  1.21097303 -0.07661366  0.01774679\n",
      "  2.46900678  1.06064254 -0.36685632 -0.07745522  0.81094954  0.52140369] gave 262.24369721721195\n"
     ]
    },
    {
     "name": "stdout",
     "output_type": "stream",
     "text": [
      "207\n"
     ]
    },
    {
     "name": "stderr",
     "output_type": "stream",
     "text": [
      "Info: Params [ 4.48757989e-01  0.00000000e+00  0.00000000e+00  6.98063084e+00\n",
      " -1.74251782e-01  7.48358855e-04  8.46984104e-01  1.06073954e+00\n",
      "  2.75402896e-02 -2.43272974e-01  8.87173156e-01  8.51294907e-01] gave 218.95727923290997\n"
     ]
    },
    {
     "name": "stdout",
     "output_type": "stream",
     "text": [
      "208\n"
     ]
    },
    {
     "name": "stderr",
     "output_type": "stream",
     "text": [
      "Info: Params [ 0.90602735 -0.2203228   0.81301055  0.8053153  -0.44285224  0.40235807\n",
      "  1.82545606  1.70635851 -0.00689378 -0.04057584  0.71394343  0.56807443] gave 249.8007404331701\n"
     ]
    },
    {
     "name": "stdout",
     "output_type": "stream",
     "text": [
      "209\n"
     ]
    },
    {
     "name": "stderr",
     "output_type": "stream",
     "text": [
      "Info: Params [ 0.30173237 -0.2102498   0.13588563  0.83321162 -0.04329907  0.24558187\n",
      "  1.50897365  1.36661901 -0.05716779  0.09557779  0.81604167  0.76494311] gave 251.1994288366322\n"
     ]
    },
    {
     "name": "stdout",
     "output_type": "stream",
     "text": [
      "210\n"
     ]
    },
    {
     "name": "stderr",
     "output_type": "stream",
     "text": [
      "Info: Params [ 0.10341596 -0.01249109  0.          2.70410485 -0.25663778  0.34336221\n",
      "  0.77999288  0.91458323 -0.13342855  0.03921871  0.7823643   0.99641166] gave 165.05354613293605\n"
     ]
    },
    {
     "name": "stdout",
     "output_type": "stream",
     "text": [
      "211\n"
     ]
    },
    {
     "name": "stderr",
     "output_type": "stream",
     "text": [
      "Info: Params [ 1.37365959e+00 -2.58613269e-01  3.91387250e-01  6.78697821e-04\n",
      " -2.21401213e-02  5.78599471e-02  1.27568644e+00  1.11291390e+00\n",
      "  3.04740732e-03  1.78566126e-01  6.91121515e-01  6.70789118e-01] gave 232.4359773268136\n"
     ]
    },
    {
     "name": "stdout",
     "output_type": "stream",
     "text": [
      "212\n"
     ]
    },
    {
     "name": "stderr",
     "output_type": "stream",
     "text": [
      "Info: Params [ 4.78128213e-01 -5.21917653e-01  4.17187167e-02  5.92666741e-01\n",
      " -7.84165352e-07  1.92787438e-01  1.56616733e+00  1.36440747e+00\n",
      " -2.29605180e-01  2.41843835e-02  5.04487261e-01  6.44510533e-01] gave 254.2916265973509\n"
     ]
    },
    {
     "name": "stdout",
     "output_type": "stream",
     "text": [
      "213\n"
     ]
    },
    {
     "name": "stderr",
     "output_type": "stream",
     "text": [
      "Info: Params [ 0.03012081 -0.17856827  0.50476534  0.12567451 -0.25649217  0.34350783\n",
      "  1.92777587  1.70326944  0.13111278 -0.02098531  0.87207402  0.82262552] gave 293.5358694726638\n"
     ]
    },
    {
     "name": "stdout",
     "output_type": "stream",
     "text": [
      "214\n"
     ]
    },
    {
     "name": "stderr",
     "output_type": "stream",
     "text": [
      "Info: Params [ 0.18405978 -0.48726763  0.37939904  1.25110623 -0.20487072  0.778084\n",
      "  2.167438    1.80354151 -0.12275052 -0.2580634   0.9837796   0.78061272] gave 247.32277947413283\n"
     ]
    },
    {
     "name": "stdout",
     "output_type": "stream",
     "text": [
      "215\n"
     ]
    },
    {
     "name": "stderr",
     "output_type": "stream",
     "text": [
      "Info: Params [ 0.          0.          0.56666667  0.78288354 -0.14950935  0.38015874\n",
      "  1.10953386  1.04715543  0.0103471  -0.2458096   0.94547879  0.84544001] gave 211.03430964616885\n"
     ]
    },
    {
     "name": "stdout",
     "output_type": "stream",
     "text": [
      "216\n"
     ]
    },
    {
     "name": "stderr",
     "output_type": "stream",
     "text": [
      "Info: Params [ 0.50089572 -0.05403541  0.21263652  0.23271886 -0.12891818  0.18965035\n",
      "  1.63674162  1.70099583  0.02561061  0.16290706  0.47218083  0.40934165] gave 284.77194592738846\n"
     ]
    },
    {
     "name": "stdout",
     "output_type": "stream",
     "text": [
      "217\n"
     ]
    },
    {
     "name": "stderr",
     "output_type": "stream",
     "text": [
      "Info: Params [ 0.81228206 -0.05357001  0.19763898  1.3034127  -0.03573216  0.46426784\n",
      "  1.40705334  1.55797349 -0.27919889 -0.38700456  0.98443161  0.98915171] gave 266.2750504069787\n"
     ]
    },
    {
     "name": "stdout",
     "output_type": "stream",
     "text": [
      "218\n"
     ]
    },
    {
     "name": "stderr",
     "output_type": "stream",
     "text": [
      "Info: Params [ 0.80307312 -0.36152381  0.37180952  0.77401421 -0.27581633  0.61261396\n",
      "  1.6702764   1.70108514 -0.02124155  0.10579669  0.94668326  0.92514461] gave 245.48361818637946\n"
     ]
    },
    {
     "name": "stdout",
     "output_type": "stream",
     "text": [
      "219\n"
     ]
    },
    {
     "name": "stderr",
     "output_type": "stream",
     "text": [
      "Info: Params [ 0.31566753 -0.2653096   0.20135708  0.34709264  0.          0.\n",
      "  1.38886417  0.95550065  0.28782749  0.33895285  0.7549485   0.60674889] gave 238.272177167043\n"
     ]
    },
    {
     "name": "stdout",
     "output_type": "stream",
     "text": [
      "220\n"
     ]
    },
    {
     "name": "stderr",
     "output_type": "stream",
     "text": [
      "Info: Params [ 0.48001878 -0.56799533  0.09594538  0.67317215 -0.08382447  0.73156014\n",
      "  1.78438397  1.63813234 -0.2642213   0.02344035  0.97163488  0.92974351] gave 264.2739936636041\n"
     ]
    },
    {
     "name": "stdout",
     "output_type": "stream",
     "text": [
      "221\n"
     ]
    },
    {
     "name": "stderr",
     "output_type": "stream",
     "text": [
      "Info: Params [0.05514566 0.         0.         1.24655467 0.         0.\n",
      " 0.69411991 0.79599327 0.32449577 0.31032025 0.77263665 0.81170828] gave 164.10876297878835\n"
     ]
    },
    {
     "name": "stdout",
     "output_type": "stream",
     "text": [
      "222\n"
     ]
    },
    {
     "name": "stderr",
     "output_type": "stream",
     "text": [
      "Info: Params [ 0.23079128 -0.06164634  0.19549651  0.99100156  0.          0.\n",
      "  1.19337278  0.89273623  0.08853986  0.32545431  0.74460003  0.52706457] gave 234.395324047585\n"
     ]
    },
    {
     "name": "stdout",
     "output_type": "stream",
     "text": [
      "223\n"
     ]
    },
    {
     "name": "stderr",
     "output_type": "stream",
     "text": [
      "Info: Params [ 0.324748   -0.26206279  0.33793723  0.83844151 -0.18872838  0.21125599\n",
      "  1.69426305  1.29684498 -0.41582958  0.15262994  0.55966427  0.95383353] gave 237.7654952972932\n"
     ]
    },
    {
     "name": "stdout",
     "output_type": "stream",
     "text": [
      "224\n"
     ]
    },
    {
     "name": "stderr",
     "output_type": "stream",
     "text": [
      "Info: Params [ 1.30160073 -0.40668175  0.79331826  3.44049191 -0.10847048  0.85819814\n",
      "  0.98117381  1.07199932  0.05595627  0.08484121  0.96973034  0.95399893] gave 137.96079102402456\n"
     ]
    },
    {
     "name": "stdout",
     "output_type": "stream",
     "text": [
      "225\n"
     ]
    },
    {
     "name": "stderr",
     "output_type": "stream",
     "text": [
      "Info: Params [ 0.27500979 -0.23003774  0.08996225  1.33230073 -0.04604747  0.22055965\n",
      "  0.84780258  0.79515837  0.01669877  0.09183695  0.79095201  0.83015537] gave 177.99123472430978\n"
     ]
    },
    {
     "name": "stdout",
     "output_type": "stream",
     "text": [
      "226\n"
     ]
    },
    {
     "name": "stderr",
     "output_type": "stream",
     "text": [
      "Info: Params [ 0.60598628 -0.03066832  0.40933167  0.97946426 -0.44695594  0.03304309\n",
      "  0.82621049  0.74122503  0.11569887 -0.02475246  0.85109415  0.82309511] gave 163.32149956503645\n"
     ]
    },
    {
     "name": "stdout",
     "output_type": "stream",
     "text": [
      "227\n"
     ]
    },
    {
     "name": "stderr",
     "output_type": "stream",
     "text": [
      "Info: Params [ 1.03910809 -0.06603438  0.1529092   0.79291209 -0.02278576  0.05721424\n",
      "  1.07791775  1.02040287 -0.25090511 -0.08483984  0.64652496  0.71866428] gave 231.21849709271734\n"
     ]
    },
    {
     "name": "stdout",
     "output_type": "stream",
     "text": [
      "228\n"
     ]
    },
    {
     "name": "stderr",
     "output_type": "stream",
     "text": [
      "Info: Params [ 1.5845361  -0.23862244  0.42804422  0.61457474  0.          0.\n",
      "  0.89054867  0.69056125 -0.46114113 -0.16193295  0.94734842  0.94876024] gave 168.36170287619439\n"
     ]
    },
    {
     "name": "stdout",
     "output_type": "stream",
     "text": [
      "229\n"
     ]
    },
    {
     "name": "stderr",
     "output_type": "stream",
     "text": [
      "Info: Params [ 0.10461955 -0.24376045  0.64373956  0.55561301 -0.22752632  0.09973938\n",
      "  2.35649119  1.37205674  0.15744102  0.49218128  0.84654463  0.52186987] gave 254.79296040233427\n"
     ]
    },
    {
     "name": "stdout",
     "output_type": "stream",
     "text": [
      "230\n"
     ]
    },
    {
     "name": "stderr",
     "output_type": "stream",
     "text": [
      "Info: Params [ 0.38342604 -0.41591414  0.3021523   0.5394602  -0.25905464  0.29094536\n",
      "  1.7825699   1.68334541  0.03407974  0.18326131  0.70382803  0.61039421] gave 271.80573293760256\n"
     ]
    },
    {
     "name": "stdout",
     "output_type": "stream",
     "text": [
      "231\n"
     ]
    },
    {
     "name": "stderr",
     "output_type": "stream",
     "text": [
      "Info: Params [ 0.76718091 -0.03257029  0.72127447  0.77536811 -0.28644834  0.60521787\n",
      "  2.24367602  2.26509884  0.2278624  -0.10668913  0.5146388   0.54193108] gave 288.75809650976987\n"
     ]
    },
    {
     "name": "stdout",
     "output_type": "stream",
     "text": [
      "232\n"
     ]
    },
    {
     "name": "stderr",
     "output_type": "stream",
     "text": [
      "Info: Params [ 0.00515834 -0.06501143  0.39748857  4.55178878 -0.46743552  1.54646345\n",
      "  1.29653226  2.32922524 -0.1080102  -0.37332867  0.76366483  0.85192514] gave 209.9395597276185\n"
     ]
    },
    {
     "name": "stdout",
     "output_type": "stream",
     "text": [
      "233\n"
     ]
    },
    {
     "name": "stderr",
     "output_type": "stream",
     "text": [
      "Info: Params [ 0.38700116 -0.04476772  0.03151827  5.64063792 -0.15283608  0.58049726\n",
      "  1.18551684  1.7332415   0.01565601 -0.47397695  0.79074026  0.83672038] gave 230.4006292127335\n"
     ]
    },
    {
     "name": "stdout",
     "output_type": "stream",
     "text": [
      "234\n"
     ]
    },
    {
     "name": "stderr",
     "output_type": "stream",
     "text": [
      "Info: Params [ 0.06343415 -0.60299366  0.37200636  1.13098712 -0.15723849  0.78720684\n",
      "  2.40135218  2.49379285  0.1713239  -0.16527178  0.97643141  0.93096559] gave 258.53572896850983\n"
     ]
    },
    {
     "name": "stdout",
     "output_type": "stream",
     "text": [
      "235\n"
     ]
    },
    {
     "name": "stderr",
     "output_type": "stream",
     "text": [
      "Info: Params [ 0.97917677 -0.07325763  0.71245625  1.07002328 -0.19887593  0.61445704\n",
      "  2.39345713  2.35381747 -0.02067921 -0.37042887  0.84395691  0.56518296] gave 273.16199276797266\n"
     ]
    },
    {
     "name": "stdout",
     "output_type": "stream",
     "text": [
      "236\n"
     ]
    },
    {
     "name": "stderr",
     "output_type": "stream",
     "text": [
      "Info: Params [ 0.74856849 -0.38355075  0.44978259  0.53742373 -0.26331521  0.17001362\n",
      "  1.36014618  0.88405756 -0.08405521 -0.12005317  0.74140274  0.55913613] gave 221.523683658887\n"
     ]
    },
    {
     "name": "stdout",
     "output_type": "stream",
     "text": [
      "237\n"
     ]
    },
    {
     "name": "stderr",
     "output_type": "stream",
     "text": [
      "Info: Params [ 1.49644459 -0.67899605  0.32100395  1.44596771 -0.14974065  0.55783876\n",
      "  1.0076998   0.98006415 -0.24623153 -0.26915153  0.67082214  0.67575275] gave 156.53961045356624\n"
     ]
    },
    {
     "name": "stdout",
     "output_type": "stream",
     "text": [
      "238\n"
     ]
    },
    {
     "name": "stderr",
     "output_type": "stream",
     "text": [
      "Info: Params [ 0.53998686 -0.32039849  0.23960151  0.91074909 -0.08967073  0.92696897\n",
      "  1.3007914   1.62535139 -0.03439948 -0.05566281  0.79280175  0.68127312] gave 238.13816237371356\n"
     ]
    },
    {
     "name": "stdout",
     "output_type": "stream",
     "text": [
      "239\n"
     ]
    },
    {
     "name": "stderr",
     "output_type": "stream",
     "text": [
      "Info: Params [ 0.5061975  -0.04315691  0.10684309  1.3149654  -0.00699024  0.08838945\n",
      "  1.14773843  0.97026956  0.14734309 -0.17724439  0.71739939  0.80029724] gave 223.97729889303636\n"
     ]
    },
    {
     "name": "stdout",
     "output_type": "stream",
     "text": [
      "240\n"
     ]
    },
    {
     "name": "stderr",
     "output_type": "stream",
     "text": [
      "Info: Params [ 0.5952075  -0.28309181  0.14547962  0.85793648 -0.32850506  0.09485479\n",
      "  1.28258187  1.17744096 -0.20595129 -0.15659933  0.83212505  0.82033621] gave 235.68084129873245\n"
     ]
    },
    {
     "name": "stdout",
     "output_type": "stream",
     "text": [
      "241\n"
     ]
    },
    {
     "name": "stderr",
     "output_type": "stream",
     "text": [
      "Info: Params [ 0.10053509 -0.16886971  0.71194208  0.74685965 -0.57716962  0.18282982\n",
      "  2.33988746  2.25702311  0.08516205  0.10716745  0.40868797  0.93895846] gave 231.6546180469298\n"
     ]
    },
    {
     "name": "stdout",
     "output_type": "stream",
     "text": [
      "242\n"
     ]
    },
    {
     "name": "stderr",
     "output_type": "stream",
     "text": [
      "Info: Params [ 0.67456648 -0.63709624  0.63246912  0.33944151 -0.39054111  0.30946067\n",
      "  1.82941419  1.62373691 -0.21213071 -0.05549905  0.83892859  0.95543938] gave 244.22337782461858\n"
     ]
    },
    {
     "name": "stdout",
     "output_type": "stream",
     "text": [
      "243\n"
     ]
    },
    {
     "name": "stderr",
     "output_type": "stream",
     "text": [
      "Info: Params [ 2.24471672  0.          0.          0.34157416 -0.05895175  0.04104824\n",
      "  0.6908075   0.9073663  -0.23814092  0.3763906   0.53320843  0.63248498] gave 203.84650654008823\n"
     ]
    },
    {
     "name": "stdout",
     "output_type": "stream",
     "text": [
      "244\n"
     ]
    },
    {
     "name": "stderr",
     "output_type": "stream",
     "text": [
      "Info: Params [ 0.39060303 -0.21321517  0.05345149  0.70172029 -0.56881494  0.18277701\n",
      "  1.12308347  1.3007623   0.04568752 -0.13147926  0.68648065  0.72921648] gave 233.43485092423376\n"
     ]
    },
    {
     "name": "stdout",
     "output_type": "stream",
     "text": [
      "245\n"
     ]
    },
    {
     "name": "stderr",
     "output_type": "stream",
     "text": [
      "Info: Params [ 0.452098   -0.04449863  0.08883471  1.14830422 -0.20585215  0.0707226\n",
      "  0.91152251  0.79799245 -0.24933149  0.27433117  0.88182898  0.84959274] gave 185.3318940258373\n"
     ]
    },
    {
     "name": "stdout",
     "output_type": "stream",
     "text": [
      "246\n"
     ]
    },
    {
     "name": "stderr",
     "output_type": "stream",
     "text": [
      "Info: Params [ 0.53717877 -0.35252826  0.27774042  0.56222381 -0.06356387  0.38016766\n",
      "  1.78082224  1.74037921 -0.00810158 -0.07797791  0.09933755  0.04756984] gave 250.90524146197427\n"
     ]
    },
    {
     "name": "stdout",
     "output_type": "stream",
     "text": [
      "247\n"
     ]
    },
    {
     "name": "stderr",
     "output_type": "stream",
     "text": [
      "Info: Params [ 1.45570961 -0.17059169  0.69607497  0.34368009 -0.53740867  0.09589148\n",
      "  0.94383334  0.7902313   0.02948574  0.25581617  0.81985975  0.738696  ] gave 142.51967812703398\n"
     ]
    },
    {
     "name": "stdout",
     "output_type": "stream",
     "text": [
      "248\n"
     ]
    },
    {
     "name": "stderr",
     "output_type": "stream",
     "text": [
      "Info: Params [ 3.01933507 -0.19354095  0.37009542  2.8022488  -0.17227047  0.32776232\n",
      "  0.97144511  0.97454194 -0.43464507 -0.46264255  0.68805337  0.51312386] gave 155.9173499650155\n"
     ]
    },
    {
     "name": "stdout",
     "output_type": "stream",
     "text": [
      "249\n"
     ]
    },
    {
     "name": "stderr",
     "output_type": "stream",
     "text": [
      "Info: Params [ 1.98829330e+00 -2.50690392e-02  2.21084770e-01  1.06251158e+00\n",
      " -9.98263775e-02  1.73161556e-04  1.16121880e+00  1.06466500e+00\n",
      " -3.21065311e-01  3.85962756e-01  6.49101520e-01  6.27909531e-01] gave 185.441983713061\n"
     ]
    },
    {
     "name": "stdout",
     "output_type": "stream",
     "text": [
      "250\n"
     ]
    },
    {
     "name": "stderr",
     "output_type": "stream",
     "text": [
      "Info: Params [ 0.37840117 -0.19042965  0.50290367  0.84299644 -0.13996306  0.27287385\n",
      "  2.28057271  1.63571665  0.12481283  0.13896008  0.65564829  0.39056865] gave 269.50922353322835\n"
     ]
    },
    {
     "name": "stdout",
     "output_type": "stream",
     "text": [
      "251\n"
     ]
    },
    {
     "name": "stderr",
     "output_type": "stream",
     "text": [
      "Info: Params [ 1.06777047 -0.37419767  0.46568142  0.99799101 -0.05446662  0.20267624\n",
      "  1.83215765  1.16105527 -0.27416184  0.0444439   0.85141966  0.79669573] gave 240.118234240029\n"
     ]
    },
    {
     "name": "stdout",
     "output_type": "stream",
     "text": [
      "252\n"
     ]
    },
    {
     "name": "stderr",
     "output_type": "stream",
     "text": [
      "Info: Params [ 0.23749847 -0.21141206  0.20170014  0.63507827 -0.50257454  0.49742546\n",
      "  1.5881024   2.2177228   0.0867974  -0.33409072  0.93769498  0.71349597] gave 273.7963314083928\n"
     ]
    },
    {
     "name": "stdout",
     "output_type": "stream",
     "text": [
      "253\n"
     ]
    },
    {
     "name": "stderr",
     "output_type": "stream",
     "text": [
      "Info: Params [ 0.15781809 -0.60290964  0.30618128  0.69991946 -0.34231546  0.61626462\n",
      "  2.13195229  2.26179028  0.27973836  0.17105344  0.94587495  0.96225231] gave 269.2581683475766\n"
     ]
    },
    {
     "name": "stdout",
     "output_type": "stream",
     "text": [
      "254\n"
     ]
    },
    {
     "name": "stderr",
     "output_type": "stream",
     "text": [
      "Info: Params [ 0.78681715 -0.01588479  0.07697256  0.15268568 -0.08117523  0.10830352\n",
      "  1.03267705  1.26446863  0.25884667  0.55817865  0.74800013  0.7136356 ] gave 236.24433135937988\n"
     ]
    },
    {
     "name": "stdout",
     "output_type": "stream",
     "text": [
      "255\n"
     ]
    },
    {
     "name": "stderr",
     "output_type": "stream",
     "text": [
      "Info: Params [ 0.77947063 -0.25449662  0.11217019  0.58571599 -0.52475502  0.23819798\n",
      "  1.56161331  2.15223168 -0.21334569 -0.16551234  0.44170953  0.82144653] gave 282.4794959339504\n"
     ]
    },
    {
     "name": "stdout",
     "output_type": "stream",
     "text": [
      "256\n"
     ]
    },
    {
     "name": "stderr",
     "output_type": "stream",
     "text": [
      "Info: Params [ 1.28269965 -0.31281021  0.63718979  0.87472148 -0.00312857  0.84688305\n",
      "  1.02627196  1.01401666 -0.20447224  0.27528591  0.64705262  0.76998743] gave 167.52973735824142\n"
     ]
    },
    {
     "name": "stdout",
     "output_type": "stream",
     "text": [
      "257\n"
     ]
    },
    {
     "name": "stderr",
     "output_type": "stream",
     "text": [
      "Info: Params [ 0.40503976 -0.62730372  0.06019483  0.79007959 -0.15813361  0.21622537\n",
      "  2.19969134  1.68915107 -0.15948528 -0.34414579  0.75121     0.47276359] gave 265.09516525687474\n"
     ]
    },
    {
     "name": "stdout",
     "output_type": "stream",
     "text": [
      "258\n"
     ]
    },
    {
     "name": "stderr",
     "output_type": "stream",
     "text": [
      "Info: Params [ 0.76858653 -0.0857212   0.19427879  0.90287837 -0.5322701   0.14209906\n",
      "  0.7992647   1.02769744 -0.06684806 -0.23629828  0.77228061  0.85356835] gave 180.94516291264478\n"
     ]
    },
    {
     "name": "stdout",
     "output_type": "stream",
     "text": [
      "259\n"
     ]
    },
    {
     "name": "stderr",
     "output_type": "stream",
     "text": [
      "Info: Params [ 0.55153851 -0.29657858  0.77008808  1.97546695 -0.31251574  0.40175308\n",
      "  2.42073959  2.09731886 -0.42298764 -0.43806238  0.94732129  0.93211275] gave 240.1058407114162\n"
     ]
    },
    {
     "name": "stdout",
     "output_type": "stream",
     "text": [
      "260\n"
     ]
    },
    {
     "name": "stderr",
     "output_type": "stream",
     "text": [
      "Info: Params [ 0.59284551 -0.18038232  0.10109915  0.77596085 -0.1323842   0.13192405\n",
      "  1.15231157  1.14296943 -0.07865784 -0.17216317  0.91712356  0.9132977 ] gave 241.10639212006416\n"
     ]
    },
    {
     "name": "stdout",
     "output_type": "stream",
     "text": [
      "261\n"
     ]
    },
    {
     "name": "stderr",
     "output_type": "stream",
     "text": [
      "Info: Params [ 5.47301863e-01  0.00000000e+00  4.66666354e-01  6.69828949e-01\n",
      " -4.03430844e-01  1.38674416e-01  1.72106446e+00  1.85453113e+00\n",
      " -8.52461914e-02 -1.45823311e-03  7.78869376e-01  8.71222371e-01] gave 239.76491264152807\n"
     ]
    },
    {
     "name": "stdout",
     "output_type": "stream",
     "text": [
      "262\n"
     ]
    },
    {
     "name": "stderr",
     "output_type": "stream",
     "text": [
      "Info: Params [ 1.10214741 -0.4315465   0.36314793  0.90595238 -0.21290951  0.48709049\n",
      "  2.12555767  1.85866552 -0.05360438 -0.00508277  0.77146212  0.79931969] gave 243.14912385792042\n"
     ]
    },
    {
     "name": "stdout",
     "output_type": "stream",
     "text": [
      "263\n"
     ]
    },
    {
     "name": "stderr",
     "output_type": "stream",
     "text": [
      "Info: Params [ 0.33234161 -0.3050701   0.40118397  0.96381204 -0.67529361  0.20327782\n",
      "  1.81057078  1.96768219 -0.25057063 -0.4910316   0.87920803  0.98353431] gave 247.63125217285676\n"
     ]
    },
    {
     "name": "stdout",
     "output_type": "stream",
     "text": [
      "264\n"
     ]
    },
    {
     "name": "stderr",
     "output_type": "stream",
     "text": [
      "Info: Params [ 0.63409245 -0.14093133  0.6961057   1.15840897 -0.20601194  0.27396329\n",
      "  1.85399762  1.52412331 -0.23204847 -0.21668621  0.7317307   0.73919949] gave 272.25453291978044\n"
     ]
    },
    {
     "name": "stdout",
     "output_type": "stream",
     "text": [
      "265\n"
     ]
    },
    {
     "name": "stderr",
     "output_type": "stream",
     "text": [
      "Info: Params [ 1.95736811 -0.07165492  1.65334509  1.81336497 -0.03761535  1.22904952\n",
      "  1.17151375  1.16365373 -0.36915567 -0.10681895  0.70408907  0.96666122] gave 174.77599723956558\n"
     ]
    },
    {
     "name": "stdout",
     "output_type": "stream",
     "text": [
      "266\n"
     ]
    },
    {
     "name": "stderr",
     "output_type": "stream",
     "text": [
      "Info: Params [ 0.75351648 -0.69759545  0.90240456  1.40155342 -0.6815767   0.9411558\n",
      "  1.80160759  1.73077669 -0.25003771 -0.43731898  0.96561228  0.94122901] gave 187.8579838451876\n"
     ]
    },
    {
     "name": "stdout",
     "output_type": "stream",
     "text": [
      "267\n"
     ]
    },
    {
     "name": "stderr",
     "output_type": "stream",
     "text": [
      "Info: Params [ 0.18192174 -0.30251297  0.37082003  0.50609122 -0.3387899   0.07787677\n",
      "  2.07050828  1.81331227  0.00836173 -0.04459062  0.59579065  0.51811899] gave 306.07538038840056\n"
     ]
    },
    {
     "name": "stdout",
     "output_type": "stream",
     "text": [
      "268\n"
     ]
    },
    {
     "name": "stderr",
     "output_type": "stream",
     "text": [
      "Info: Params [ 0.23690138 -0.18041991  0.30291073  0.91131309 -0.13494949  0.20505051\n",
      "  1.57815438  1.34197831  0.15212212  0.06729687  0.86144856  0.72391743] gave 251.21347062963417\n"
     ]
    },
    {
     "name": "stdout",
     "output_type": "stream",
     "text": [
      "269\n"
     ]
    },
    {
     "name": "stderr",
     "output_type": "stream",
     "text": [
      "Info: Params [ 0.52298142 -0.41514432  0.23485567  0.48769187 -0.22400609  0.5231931\n",
      "  2.28558791  2.22530485  0.08711775  0.07987246  0.7207494   0.39161109] gave 266.5200312527996\n"
     ]
    },
    {
     "name": "stdout",
     "output_type": "stream",
     "text": [
      "270\n"
     ]
    },
    {
     "name": "stderr",
     "output_type": "stream",
     "text": [
      "Info: Params [ 0.23440055 -0.06343331  0.06156668  0.69621021 -0.23619286  0.12006995\n",
      "  1.11278715  1.40089481 -0.28798066  0.03831906  0.68196096  0.94308167] gave 247.00047255868174\n"
     ]
    },
    {
     "name": "stdout",
     "output_type": "stream",
     "text": [
      "271\n"
     ]
    },
    {
     "name": "stderr",
     "output_type": "stream",
     "text": [
      "Info: Params [ 0.88810839 -0.8564177   0.54358229  0.74788965 -0.98442736  0.1345778\n",
      "  1.13629847  0.86021229  0.01268281  0.16389878  0.96507867  0.87111774] gave 135.9704435961546\n"
     ]
    },
    {
     "name": "stdout",
     "output_type": "stream",
     "text": [
      "272\n"
     ]
    },
    {
     "name": "stderr",
     "output_type": "stream",
     "text": [
      "Info: Params [ 0.50602829 -0.02268959  1.17731041  0.6890091  -0.3632488   0.1423793\n",
      "  2.23156262  1.40427669  0.06916365 -0.11833991  0.52338623  0.23136418] gave 264.8924710287673\n"
     ]
    },
    {
     "name": "stdout",
     "output_type": "stream",
     "text": [
      "273\n"
     ]
    },
    {
     "name": "stderr",
     "output_type": "stream",
     "text": [
      "Info: Params [ 3.84515416e-01 -2.09762038e-01  2.77379642e-02  3.20322230e-02\n",
      " -1.57631835e-02  3.70899471e-19  1.07877188e+00  1.01634456e+00\n",
      "  3.21001956e-01  2.08632010e-01  6.06802749e-01  6.38685210e-01] gave 240.71674401719196\n"
     ]
    },
    {
     "name": "stdout",
     "output_type": "stream",
     "text": [
      "274\n"
     ]
    },
    {
     "name": "stderr",
     "output_type": "stream",
     "text": [
      "Info: Params [ 0.10392151 -0.12086249  0.32913751  1.21381637 -0.10292798  1.003822\n",
      "  1.70668669  2.49168731  0.20305777 -0.07306829  0.26575062  0.45312526] gave 297.92418908451646\n"
     ]
    },
    {
     "name": "stdout",
     "output_type": "stream",
     "text": [
      "275\n"
     ]
    },
    {
     "name": "stderr",
     "output_type": "stream",
     "text": [
      "Info: Params [ 0.17146519 -0.82910601  0.66452095  1.09840868 -0.24825687  1.11174313\n",
      "  2.48073205  2.45364652  0.17105626  0.01613558  0.71661926  0.86855301] gave 260.59355585760477\n"
     ]
    },
    {
     "name": "stdout",
     "output_type": "stream",
     "text": [
      "276\n"
     ]
    },
    {
     "name": "stderr",
     "output_type": "stream",
     "text": [
      "Info: Params [ 0.32356111 -0.50747491  0.29252509  0.30122131 -0.3682919   0.29980523\n",
      "  1.78586132  1.69200834 -0.14945464 -0.02611608  0.49514593  0.47615122] gave 277.2702747227653\n"
     ]
    },
    {
     "name": "stdout",
     "output_type": "stream",
     "text": [
      "277\n"
     ]
    },
    {
     "name": "stderr",
     "output_type": "stream",
     "text": [
      "Info: Params [ 0.70554315 -0.73911428  0.43011649  0.28101019 -0.68268786  0.4465942\n",
      "  1.45106213  1.47202973 -0.14087189  0.00686027  0.88325734  0.98708692] gave 210.15212078768434\n"
     ]
    },
    {
     "name": "stdout",
     "output_type": "stream",
     "text": [
      "278\n"
     ]
    },
    {
     "name": "stderr",
     "output_type": "stream",
     "text": [
      "Info: Params [ 1.03397356 -0.11089676  0.02910355  0.81849004 -0.01735268  0.0759816\n",
      "  0.94915406  0.81642994 -0.38554362  0.03877872  0.60897606  0.77072956] gave 201.83223063339733\n"
     ]
    },
    {
     "name": "stdout",
     "output_type": "stream",
     "text": [
      "279\n"
     ]
    },
    {
     "name": "stderr",
     "output_type": "stream",
     "text": [
      "Info: Params [ 1.25025266 -0.17461135  0.17538866  1.04558288 -0.57818646  0.17679485\n",
      "  1.5094228   2.39265656 -0.1516223  -0.03453748  0.61990529  0.97319386] gave 209.90724894119887\n"
     ]
    },
    {
     "name": "stdout",
     "output_type": "stream",
     "text": [
      "280\n"
     ]
    },
    {
     "name": "stderr",
     "output_type": "stream",
     "text": [
      "Info: Params [ 0.42517877 -0.33021938  0.1591228   0.94354802 -0.0755483   0.15371999\n",
      "  1.88513867  1.57630889  0.06953774 -0.18826225  0.79681845  0.65519919] gave 247.11815392081502\n"
     ]
    },
    {
     "name": "stdout",
     "output_type": "stream",
     "text": [
      "281\n"
     ]
    },
    {
     "name": "stderr",
     "output_type": "stream",
     "text": [
      "Info: Params [ 1.79277348 -0.56641626  0.41134917  1.47113436 -0.2863999   0.98026629\n",
      "  1.18368911  1.36230017  0.19762576  0.05878182  0.58473748  0.84243974] gave 153.30257050346108\n"
     ]
    },
    {
     "name": "stdout",
     "output_type": "stream",
     "text": [
      "282\n"
     ]
    },
    {
     "name": "stderr",
     "output_type": "stream",
     "text": [
      "Info: Params [ 0.45415256 -0.25408209  0.78751263  0.60649617 -0.17614961  0.23848453\n",
      "  2.40734288  1.80815829 -0.20665528  0.15092483  0.3872836   0.70649763] gave 292.45333222164345\n"
     ]
    },
    {
     "name": "stdout",
     "output_type": "stream",
     "text": [
      "283\n"
     ]
    },
    {
     "name": "stderr",
     "output_type": "stream",
     "text": [
      "Info: Params [ 3.55169600e-01 -2.22834762e-01  4.14779233e-02  3.18260995e-01\n",
      " -2.00576099e-05  4.99799362e-02  1.34596949e+00  8.87449121e-01\n",
      " -4.84597927e-02 -8.66783500e-02  9.46892165e-01  6.89796026e-01] gave 255.97848557444902\n"
     ]
    },
    {
     "name": "stdout",
     "output_type": "stream",
     "text": [
      "284\n"
     ]
    },
    {
     "name": "stderr",
     "output_type": "stream",
     "text": [
      "Info: Params [ 1.31394951 -0.60473415  0.88938735  0.28797812 -0.50889262  0.22110738\n",
      "  2.1286915   1.33869767 -0.18240153  0.13054961  0.94861749  0.62221206] gave 225.41491474572322\n"
     ]
    },
    {
     "name": "stdout",
     "output_type": "stream",
     "text": [
      "285\n"
     ]
    },
    {
     "name": "stderr",
     "output_type": "stream",
     "text": [
      "Info: Params [ 0.45713076 -0.54306467  0.82360201  2.6991378  -0.09684346  0.96565652\n",
      "  1.95100824  1.98570565 -0.09968486 -0.35021141  0.85941089  0.93064869] gave 208.1474595371192\n"
     ]
    },
    {
     "name": "stdout",
     "output_type": "stream",
     "text": [
      "286\n"
     ]
    },
    {
     "name": "stderr",
     "output_type": "stream",
     "text": [
      "Info: Params [ 0.25928203 -0.22249287  0.59350711  1.15735214 -0.18306233  0.74421337\n",
      "  1.49909138  1.73132921  0.03523613 -0.07024053  0.61050234  0.82002609] gave 248.34030893282267\n"
     ]
    },
    {
     "name": "stdout",
     "output_type": "stream",
     "text": [
      "287\n"
     ]
    },
    {
     "name": "stderr",
     "output_type": "stream",
     "text": [
      "Info: Params [ 0.21821864 -0.63935765  0.49457266  0.49997929 -0.44505896  0.22160771\n",
      "  1.62542326  1.68157539 -0.49373043 -0.57233181  0.84286832  0.82903371] gave 207.4413896527473\n"
     ]
    },
    {
     "name": "stdout",
     "output_type": "stream",
     "text": [
      "288\n"
     ]
    },
    {
     "name": "stderr",
     "output_type": "stream",
     "text": [
      "Info: Params [ 0.58170703 -0.4930231   0.06697691  1.52203516 -0.13937085  0.66056956\n",
      "  1.19214204  1.02928879  0.12904918  0.2733915   0.84612882  0.9003819 ] gave 172.90689542641826\n"
     ]
    },
    {
     "name": "stdout",
     "output_type": "stream",
     "text": [
      "289\n"
     ]
    },
    {
     "name": "stderr",
     "output_type": "stream",
     "text": [
      "Info: Params [ 1.24565916  0.          0.          1.37986746  0.          0.\n",
      "  0.96176928  0.99781781 -0.20860398  0.08030791  0.70259315  0.7593968 ] gave 210.8904802799114\n"
     ]
    },
    {
     "name": "stdout",
     "output_type": "stream",
     "text": [
      "290\n"
     ]
    },
    {
     "name": "stderr",
     "output_type": "stream",
     "text": [
      "Info: Params [ 1.18286648 -0.31767717  0.41581971  1.06799796 -0.25510809  0.80044746\n",
      "  1.57198624  1.43297713 -0.50883534 -0.15307714  0.54119298  0.53463101] gave 211.70854221749997\n"
     ]
    },
    {
     "name": "stdout",
     "output_type": "stream",
     "text": [
      "291\n"
     ]
    },
    {
     "name": "stderr",
     "output_type": "stream",
     "text": [
      "Info: Params [ 0.81389565 -0.21808181  0.69649829  0.56896767 -0.09821319  0.63512013\n",
      "  2.32810633  1.97937178 -0.28984617 -0.25218183  0.96493662  0.99998495] gave 260.09389706423497\n"
     ]
    },
    {
     "name": "stdout",
     "output_type": "stream",
     "text": [
      "292\n"
     ]
    },
    {
     "name": "stderr",
     "output_type": "stream",
     "text": [
      "Info: Params [ 0.28690293 -0.57483764  0.30016237  0.          0.          0.05254304\n",
      "  2.02166759  1.2032532  -0.32255155  0.44879478  0.91703101  0.79644286] gave 269.72839040098773\n"
     ]
    },
    {
     "name": "stdout",
     "output_type": "stream",
     "text": [
      "293\n"
     ]
    },
    {
     "name": "stderr",
     "output_type": "stream",
     "text": [
      "Info: Params [ 0.43033291 -0.45140871  0.23193147  0.36238228 -0.09926151  0.0507385\n",
      "  0.94296705  0.99251538  0.26649457  0.11767515  0.84598795  0.99706907] gave 211.23389257032386\n"
     ]
    },
    {
     "name": "stdout",
     "output_type": "stream",
     "text": [
      "294\n"
     ]
    },
    {
     "name": "stderr",
     "output_type": "stream",
     "text": [
      "Info: Params [ 2.28518572 -0.23439414  0.33227257  0.61033722 -0.1007487   0.17925131\n",
      "  0.62334459  0.61766309 -0.3284483   0.07560243  0.62306265  0.72619821] gave 125.879863359806\n"
     ]
    },
    {
     "name": "stdout",
     "output_type": "stream",
     "text": [
      "295\n"
     ]
    },
    {
     "name": "stderr",
     "output_type": "stream",
     "text": [
      "Info: Params [ 1.06408304 -0.17316737  0.20865247  0.11424409 -0.03957273  0.08725654\n",
      "  1.47977847  1.30734626 -0.25405202  0.1023491   0.53870671  0.74522379] gave 283.6993143455013\n"
     ]
    },
    {
     "name": "stdout",
     "output_type": "stream",
     "text": [
      "296\n"
     ]
    },
    {
     "name": "stderr",
     "output_type": "stream",
     "text": [
      "Info: Params [ 0.90376844 -0.44607176  0.76413932  0.05762099 -1.04566776  0.17655446\n",
      "  1.97359143  1.83758541 -0.35021728 -0.20318954  0.99523699  0.95111591] gave 234.0970277320043\n"
     ]
    },
    {
     "name": "stdout",
     "output_type": "stream",
     "text": [
      "297\n"
     ]
    },
    {
     "name": "stderr",
     "output_type": "stream",
     "text": [
      "Info: Params [ 0.66610409 -0.04004139  0.05995861  0.46545156 -0.22829037  0.01171413\n",
      "  0.94500479  1.10187932 -0.16667321 -0.21459351  0.98044222  0.9465472 ] gave 229.81076257929783\n"
     ]
    },
    {
     "name": "stdout",
     "output_type": "stream",
     "text": [
      "298\n"
     ]
    },
    {
     "name": "stderr",
     "output_type": "stream",
     "text": [
      "Info: Params [ 1.10964154 -0.07739868  0.93366302  0.57101656 -0.48837431  0.24019711\n",
      "  2.44690412  1.82497113  0.02029316  0.10074447  0.73482942  0.54829458] gave 258.3911733188597\n"
     ]
    }
   ],
   "source": [
    "uppercollapse0 = Fittable(minval=-5, maxval=0)\n",
    "lowercollapse0 = Fittable(minval=0, maxval=5)\n",
    "uppercollapse1 = Fittable(minval=-5, maxval=0)\n",
    "lowercollapse1 = Fittable(minval=0, maxval=5)\n",
    "\n",
    "m2c_spec = Model(name='Absence drift is zero boundaries can collapse',\n",
    "                 drift=DriftPresentCollapseC(driftpresent0=Fittable(minval=0, maxval=10),\n",
    "                                             driftpresent1 = Fittable(minval=0, maxval=10),\n",
    "                                   uppercollapse0=uppercollapse0,\n",
    "                                   lowercollapse0=lowercollapse0,\n",
    "                                   uppercollapse1=uppercollapse1,\n",
    "                                   lowercollapse1=lowercollapse1),\n",
    "                 noise=NoiseConstant(noise=1),\n",
    "                 IC=ICPointSideBiasRatioC(x00=Fittable(minval=-1, maxval=1),\n",
    "                                         x01=Fittable(minval=-1, maxval=1)),\n",
    "                 bound=BoundCollapseC(B0=Fittable(minval=0.1, maxval=2.5),\n",
    "                             B1 = Fittable(minval=0.1, maxval=2.5),\n",
    "                                   uppercollapse0=uppercollapse0,\n",
    "                                   lowercollapse0=lowercollapse0,\n",
    "                                   uppercollapse1=uppercollapse1,\n",
    "                                   lowercollapse1=lowercollapse1),\n",
    "                 overlay=OverlayChain(overlays=[OverlayNonDecisionC(nondectime0=Fittable(minval=0, maxval=1),\n",
    "                                                                   nondectime1=Fittable(minval=0,maxval=1)),\n",
    "                                                OverlayPoissonMixture(pmixturecoef=.02,\n",
    "                                                                      rate=1)]),\n",
    "                 dx=.01, dt=.1, T_dur=5)\n",
    "\n",
    "\n",
    "def fit_m2c(df,data_label):\n",
    "    \n",
    "    df = df.reset_index();\n",
    "    subj_id = df.subj_id[0]\n",
    "    \n",
    "    sample = Sample.from_pandas_dataframe(df, rt_column_name=\"rt\", correct_column_name=\"correct\")\n",
    "    fit_model = fit_adjust_model(sample=sample, model=m2c_spec, verbose=False, lossfunction = LossRobustBIC)\n",
    "    summary_df = pd.DataFrame.from_dict({\n",
    "        'subj_id': [subj_id],\n",
    "        'driftpresent0': [float(fit_model.parameters()['drift']['driftpresent0'])],\n",
    "        'noise': [float(fit_model.parameters()['noise']['noise'])],\n",
    "        'bound0': [float(fit_model.parameters()['bound']['B0'])],\n",
    "        'uppercollapse0': [float(fit_model.parameters()['drift']['uppercollapse0'])],\n",
    "        'lowercollapse0': [float(fit_model.parameters()['drift']['lowercollapse0'])],\n",
    "        'IC0': [float(fit_model.parameters()['IC']['x00'])],\n",
    "        'nondec0': [float(fit_model.parameters()['overlay']['nondectime0'])],\n",
    "        'driftpresent1': [float(fit_model.parameters()['drift']['driftpresent1'])],\n",
    "        'bound1': [float(fit_model.parameters()['bound']['B1'])],\n",
    "        'uppercollapse1': [float(fit_model.parameters()['drift']['uppercollapse1'])],\n",
    "        'lowercollapse1': [float(fit_model.parameters()['drift']['lowercollapse1'])],\n",
    "        'IC1': [float(fit_model.parameters()['IC']['x01'])],\n",
    "        'nondec1': [float(fit_model.parameters()['overlay']['nondectime1'])],\n",
    "        'BIC': [fit_model.fitresult.value()]\n",
    "    })\n",
    "    \n",
    "    if not os.path.exists(\"model_fits/model_m2c/data_\"+data_label):\n",
    "                       os.makedirs(\"model_fits/model_m2c/data_\"+data_label)\n",
    "                       \n",
    "    with open(\"model_fits/model_m2c/data_\"+data_label+\"/subj\"+str(subj_id)+\".txt\", \"w\") as f:\n",
    "        f.write(repr(fit_model))\n",
    "    \n",
    "    return(summary_df)\n",
    "        \n",
    "\n",
    "loaded = pd.read_csv(\"data/E2.csv\") \n",
    "loaded['present'] = loaded['present'].replace(-1,0)\n",
    "loaded['condition'] = loaded['condition_is_congruent'].replace(-1,0)\n",
    "\n",
    "summary_list = []\n",
    "for name, group in loaded.groupby('subj_id'):\n",
    "    print(name)\n",
    "    a= fit_m2c(group.reset_index(),'E2')\n",
    "    summary_list.append(a)\n",
    "summary_df = pd.concat(summary_list)\n",
    "summary_df.to_csv(\"model_fits/model_m2c/data_E2/all_subjects.csv\")"
   ]
  },
  {
   "cell_type": "markdown",
   "id": "1a65d8db",
   "metadata": {},
   "source": [
    "## Fit M3: Lower boundary collapses rapidly\n"
   ]
  },
  {
   "cell_type": "code",
   "execution_count": 4,
   "id": "591a6a30",
   "metadata": {},
   "outputs": [],
   "source": [
    "class BoundNonlinearCollapseC(Bound):\n",
    "    name = \"Lower boundary collapses nonlinearly\"\n",
    "    required_parameters = [\"B0\", \"lowercollapse0\", \"collapsetime0\",\n",
    "                          \"B1\", \"lowercollapse1\", \"collapsetime1\"]\n",
    "    required_conditions = [\"condition\"]\n",
    "    def get_bound(self, t, conditions, **kwargs):\n",
    "        B = [self.B0, self.B1][int(conditions['condition'])]\n",
    "        lowercollapse = [self.lowercollapse0, self.lowercollapse1][int(conditions['condition'])]\n",
    "        collapsetime = [self.collapsetime0, self.collapsetime1][int(conditions['condition'])]\n",
    "        if t<collapsetime:\n",
    "            return B\n",
    "        else:\n",
    "            return max(0.01, B - (t-collapsetime)*lowercollapse/2)\n",
    "            \n",
    "\n",
    "\n",
    "class DriftPresentNonlinearCollapseC(ddm.models.Drift):\n",
    "    name = \"Drift depends on target presence and collapses nonlinearly\"\n",
    "    required_parameters = [\"driftpresent0\",\"lowercollapse0\", \"collapsetime0\", \\\n",
    "                          \"driftpresent1\",\"lowercollapse1\", \"collapsetime1\"] # <-- Parameters we want to include in the model\n",
    "    required_conditions = [\"present\", \"condition\"] # <-- Task parameters (\"conditions\"). Should be the same name as in the sample.\n",
    "\n",
    "    # We must always define the get_drift function, which is used to compute the instantaneous value of drift.\n",
    "    def get_drift(self, t, conditions, **kwargs):\n",
    "        \n",
    "        driftpresent = [self.driftpresent0, self.driftpresent1][int(conditions['condition'])]\n",
    "        lowercollapse = [self.lowercollapse0, self.lowercollapse1][int(conditions['condition'])]\n",
    "        collapsetime = [self.collapsetime0, self.collapsetime1][int(conditions['condition'])]\n",
    "        \n",
    "        if t<collapsetime:\n",
    "            return conditions['present'] * driftpresent\n",
    "        else:\n",
    "            return conditions['present'] * (driftpresent-lowercollapse/2) + \\\n",
    "        (1-conditions['present']) * (0+ lowercollapse/2)\n"
   ]
  },
  {
   "cell_type": "code",
   "execution_count": 6,
   "id": "47574a3f",
   "metadata": {},
   "outputs": [
    {
     "name": "stderr",
     "output_type": "stream",
     "text": [
      "Warning: dt is large.  Estimated pdfs may be imprecise.  Decrease dt to 0.01 or less.\n",
      "Warning: dt is large.  Estimated pdfs may be imprecise.  Decrease dt to 0.01 or less.\n",
      "Warning: dt is large.  Estimated pdfs may be imprecise.  Decrease dt to 0.01 or less.\n",
      "Warning: dt is large.  Estimated pdfs may be imprecise.  Decrease dt to 0.01 or less.\n",
      "Warning: dt is large.  Estimated pdfs may be imprecise.  Decrease dt to 0.01 or less.\n",
      "Warning: dt is large.  Estimated pdfs may be imprecise.  Decrease dt to 0.01 or less.\n",
      "Warning: dt is large.  Estimated pdfs may be imprecise.  Decrease dt to 0.01 or less.\n",
      "Warning: dt is large.  Estimated pdfs may be imprecise.  Decrease dt to 0.01 or less.\n",
      "Warning: dt is large.  Estimated pdfs may be imprecise.  Decrease dt to 0.01 or less.\n",
      "Warning: dt is large.  Estimated pdfs may be imprecise.  Decrease dt to 0.01 or less.\n",
      "Warning: dt is large.  Estimated pdfs may be imprecise.  Decrease dt to 0.01 or less.\n",
      "Warning: dt is large.  Estimated pdfs may be imprecise.  Decrease dt to 0.01 or less.\n",
      "Warning: dt is large.  Estimated pdfs may be imprecise.  Decrease dt to 0.01 or less.\n",
      "Warning: dt is large.  Estimated pdfs may be imprecise.  Decrease dt to 0.01 or less.\n",
      "Warning: dt is large.  Estimated pdfs may be imprecise.  Decrease dt to 0.01 or less.\n",
      "Warning: dt is large.  Estimated pdfs may be imprecise.  Decrease dt to 0.01 or less.\n",
      "Warning: dt is large.  Estimated pdfs may be imprecise.  Decrease dt to 0.01 or less.\n",
      "Warning: dt is large.  Estimated pdfs may be imprecise.  Decrease dt to 0.01 or less.\n",
      "Warning: dt is large.  Estimated pdfs may be imprecise.  Decrease dt to 0.01 or less.\n",
      "Warning: dt is large.  Estimated pdfs may be imprecise.  Decrease dt to 0.01 or less.\n",
      "Warning: dt is large.  Estimated pdfs may be imprecise.  Decrease dt to 0.01 or less.\n",
      "Warning: dt is large.  Estimated pdfs may be imprecise.  Decrease dt to 0.01 or less.\n",
      "Warning: dt is large.  Estimated pdfs may be imprecise.  Decrease dt to 0.01 or less.\n",
      "Warning: dt is large.  Estimated pdfs may be imprecise.  Decrease dt to 0.01 or less.\n",
      "Warning: dt is large.  Estimated pdfs may be imprecise.  Decrease dt to 0.01 or less.\n",
      "Warning: dt is large.  Estimated pdfs may be imprecise.  Decrease dt to 0.01 or less.\n"
     ]
    },
    {
     "name": "stdout",
     "output_type": "stream",
     "text": [
      "1\n",
      "2\n",
      "3\n",
      "4\n",
      "5\n",
      "6\n",
      "7\n",
      "8\n",
      "9\n",
      "10\n",
      "11\n",
      "12\n",
      "13\n",
      "14\n",
      "15\n",
      "16\n",
      "17\n",
      "18\n",
      "19\n",
      "20\n",
      "21\n",
      "22\n",
      "23\n",
      "24\n",
      "25\n"
     ]
    },
    {
     "name": "stderr",
     "output_type": "stream",
     "text": [
      "Warning: dt is large.  Estimated pdfs may be imprecise.  Decrease dt to 0.01 or less.\n",
      "Warning: dt is large.  Estimated pdfs may be imprecise.  Decrease dt to 0.01 or less.\n",
      "Warning: dt is large.  Estimated pdfs may be imprecise.  Decrease dt to 0.01 or less.\n",
      "Warning: dt is large.  Estimated pdfs may be imprecise.  Decrease dt to 0.01 or less.\n",
      "Warning: dt is large.  Estimated pdfs may be imprecise.  Decrease dt to 0.01 or less.\n",
      "Warning: dt is large.  Estimated pdfs may be imprecise.  Decrease dt to 0.01 or less.\n",
      "Warning: dt is large.  Estimated pdfs may be imprecise.  Decrease dt to 0.01 or less.\n",
      "Warning: dt is large.  Estimated pdfs may be imprecise.  Decrease dt to 0.01 or less.\n",
      "Warning: dt is large.  Estimated pdfs may be imprecise.  Decrease dt to 0.01 or less.\n",
      "Warning: dt is large.  Estimated pdfs may be imprecise.  Decrease dt to 0.01 or less.\n",
      "Warning: dt is large.  Estimated pdfs may be imprecise.  Decrease dt to 0.01 or less.\n",
      "Warning: dt is large.  Estimated pdfs may be imprecise.  Decrease dt to 0.01 or less.\n",
      "Warning: dt is large.  Estimated pdfs may be imprecise.  Decrease dt to 0.01 or less.\n",
      "Warning: dt is large.  Estimated pdfs may be imprecise.  Decrease dt to 0.01 or less.\n",
      "Warning: dt is large.  Estimated pdfs may be imprecise.  Decrease dt to 0.01 or less.\n",
      "Warning: dt is large.  Estimated pdfs may be imprecise.  Decrease dt to 0.01 or less.\n",
      "Warning: dt is large.  Estimated pdfs may be imprecise.  Decrease dt to 0.01 or less.\n",
      "Warning: dt is large.  Estimated pdfs may be imprecise.  Decrease dt to 0.01 or less.\n",
      "Warning: dt is large.  Estimated pdfs may be imprecise.  Decrease dt to 0.01 or less.\n",
      "Warning: dt is large.  Estimated pdfs may be imprecise.  Decrease dt to 0.01 or less.\n",
      "Warning: dt is large.  Estimated pdfs may be imprecise.  Decrease dt to 0.01 or less.\n",
      "Warning: dt is large.  Estimated pdfs may be imprecise.  Decrease dt to 0.01 or less.\n",
      "Warning: dt is large.  Estimated pdfs may be imprecise.  Decrease dt to 0.01 or less.\n",
      "Warning: dt is large.  Estimated pdfs may be imprecise.  Decrease dt to 0.01 or less.\n",
      "Warning: dt is large.  Estimated pdfs may be imprecise.  Decrease dt to 0.01 or less.\n"
     ]
    },
    {
     "name": "stdout",
     "output_type": "stream",
     "text": [
      "26\n",
      "27\n",
      "28\n",
      "29\n",
      "30\n",
      "31\n",
      "32\n",
      "33\n",
      "34\n",
      "35\n",
      "36\n",
      "37\n",
      "38\n",
      "39\n",
      "40\n",
      "41\n",
      "42\n",
      "43\n",
      "44\n",
      "45\n",
      "46\n",
      "47\n",
      "48\n",
      "49\n",
      "50\n"
     ]
    },
    {
     "name": "stderr",
     "output_type": "stream",
     "text": [
      "Warning: dt is large.  Estimated pdfs may be imprecise.  Decrease dt to 0.01 or less.\n",
      "Warning: dt is large.  Estimated pdfs may be imprecise.  Decrease dt to 0.01 or less.\n",
      "Warning: dt is large.  Estimated pdfs may be imprecise.  Decrease dt to 0.01 or less.\n",
      "Warning: dt is large.  Estimated pdfs may be imprecise.  Decrease dt to 0.01 or less.\n",
      "Warning: dt is large.  Estimated pdfs may be imprecise.  Decrease dt to 0.01 or less.\n",
      "Warning: dt is large.  Estimated pdfs may be imprecise.  Decrease dt to 0.01 or less.\n",
      "Warning: dt is large.  Estimated pdfs may be imprecise.  Decrease dt to 0.01 or less.\n",
      "Warning: dt is large.  Estimated pdfs may be imprecise.  Decrease dt to 0.01 or less.\n",
      "Warning: dt is large.  Estimated pdfs may be imprecise.  Decrease dt to 0.01 or less.\n",
      "Warning: dt is large.  Estimated pdfs may be imprecise.  Decrease dt to 0.01 or less.\n",
      "Warning: dt is large.  Estimated pdfs may be imprecise.  Decrease dt to 0.01 or less.\n",
      "Warning: dt is large.  Estimated pdfs may be imprecise.  Decrease dt to 0.01 or less.\n",
      "Warning: dt is large.  Estimated pdfs may be imprecise.  Decrease dt to 0.01 or less.\n",
      "Warning: dt is large.  Estimated pdfs may be imprecise.  Decrease dt to 0.01 or less.\n",
      "Warning: dt is large.  Estimated pdfs may be imprecise.  Decrease dt to 0.01 or less.\n",
      "Warning: dt is large.  Estimated pdfs may be imprecise.  Decrease dt to 0.01 or less.\n",
      "Warning: dt is large.  Estimated pdfs may be imprecise.  Decrease dt to 0.01 or less.\n",
      "Warning: dt is large.  Estimated pdfs may be imprecise.  Decrease dt to 0.01 or less.\n",
      "Warning: dt is large.  Estimated pdfs may be imprecise.  Decrease dt to 0.01 or less.\n",
      "Warning: dt is large.  Estimated pdfs may be imprecise.  Decrease dt to 0.01 or less.\n",
      "Warning: dt is large.  Estimated pdfs may be imprecise.  Decrease dt to 0.01 or less.\n",
      "Warning: dt is large.  Estimated pdfs may be imprecise.  Decrease dt to 0.01 or less.\n",
      "Warning: dt is large.  Estimated pdfs may be imprecise.  Decrease dt to 0.01 or less.\n",
      "Warning: dt is large.  Estimated pdfs may be imprecise.  Decrease dt to 0.01 or less.\n",
      "Warning: dt is large.  Estimated pdfs may be imprecise.  Decrease dt to 0.01 or less.\n"
     ]
    },
    {
     "name": "stdout",
     "output_type": "stream",
     "text": [
      "51\n",
      "52\n",
      "53\n",
      "54\n",
      "55\n",
      "56\n",
      "57\n",
      "58\n",
      "59\n",
      "60\n",
      "61\n",
      "62\n",
      "63\n",
      "64\n",
      "65\n",
      "66\n",
      "67\n",
      "68\n",
      "69\n",
      "70\n",
      "71\n",
      "72\n",
      "73\n",
      "74\n",
      "75\n"
     ]
    },
    {
     "name": "stderr",
     "output_type": "stream",
     "text": [
      "Warning: dt is large.  Estimated pdfs may be imprecise.  Decrease dt to 0.01 or less.\n",
      "Warning: dt is large.  Estimated pdfs may be imprecise.  Decrease dt to 0.01 or less.\n",
      "Warning: dt is large.  Estimated pdfs may be imprecise.  Decrease dt to 0.01 or less.\n",
      "Warning: dt is large.  Estimated pdfs may be imprecise.  Decrease dt to 0.01 or less.\n",
      "Warning: dt is large.  Estimated pdfs may be imprecise.  Decrease dt to 0.01 or less.\n",
      "Warning: dt is large.  Estimated pdfs may be imprecise.  Decrease dt to 0.01 or less.\n",
      "Warning: dt is large.  Estimated pdfs may be imprecise.  Decrease dt to 0.01 or less.\n",
      "Warning: dt is large.  Estimated pdfs may be imprecise.  Decrease dt to 0.01 or less.\n",
      "Warning: dt is large.  Estimated pdfs may be imprecise.  Decrease dt to 0.01 or less.\n",
      "Warning: dt is large.  Estimated pdfs may be imprecise.  Decrease dt to 0.01 or less.\n",
      "Warning: dt is large.  Estimated pdfs may be imprecise.  Decrease dt to 0.01 or less.\n",
      "Warning: dt is large.  Estimated pdfs may be imprecise.  Decrease dt to 0.01 or less.\n",
      "Warning: dt is large.  Estimated pdfs may be imprecise.  Decrease dt to 0.01 or less.\n",
      "Warning: dt is large.  Estimated pdfs may be imprecise.  Decrease dt to 0.01 or less.\n",
      "Warning: dt is large.  Estimated pdfs may be imprecise.  Decrease dt to 0.01 or less.\n",
      "Warning: dt is large.  Estimated pdfs may be imprecise.  Decrease dt to 0.01 or less.\n",
      "Warning: dt is large.  Estimated pdfs may be imprecise.  Decrease dt to 0.01 or less.\n",
      "Warning: dt is large.  Estimated pdfs may be imprecise.  Decrease dt to 0.01 or less.\n",
      "Warning: dt is large.  Estimated pdfs may be imprecise.  Decrease dt to 0.01 or less.\n",
      "Warning: dt is large.  Estimated pdfs may be imprecise.  Decrease dt to 0.01 or less.\n",
      "Warning: dt is large.  Estimated pdfs may be imprecise.  Decrease dt to 0.01 or less.\n",
      "Warning: dt is large.  Estimated pdfs may be imprecise.  Decrease dt to 0.01 or less.\n",
      "Warning: dt is large.  Estimated pdfs may be imprecise.  Decrease dt to 0.01 or less.\n",
      "Warning: dt is large.  Estimated pdfs may be imprecise.  Decrease dt to 0.01 or less.\n",
      "Warning: dt is large.  Estimated pdfs may be imprecise.  Decrease dt to 0.01 or less.\n",
      "Warning: dt is large.  Estimated pdfs may be imprecise.  Decrease dt to 0.01 or less.\n"
     ]
    },
    {
     "name": "stdout",
     "output_type": "stream",
     "text": [
      "76\n",
      "77\n",
      "78\n",
      "79\n",
      "80\n",
      "81\n",
      "82\n",
      "83\n",
      "84\n",
      "85\n",
      "86\n",
      "87\n",
      "88\n",
      "89\n",
      "90\n",
      "91\n",
      "92\n",
      "93\n",
      "94\n",
      "95\n",
      "96\n",
      "97\n",
      "98\n",
      "99\n",
      "100\n",
      "101\n"
     ]
    },
    {
     "name": "stderr",
     "output_type": "stream",
     "text": [
      "Warning: dt is large.  Estimated pdfs may be imprecise.  Decrease dt to 0.01 or less.\n",
      "Warning: dt is large.  Estimated pdfs may be imprecise.  Decrease dt to 0.01 or less.\n",
      "Warning: dt is large.  Estimated pdfs may be imprecise.  Decrease dt to 0.01 or less.\n",
      "Warning: dt is large.  Estimated pdfs may be imprecise.  Decrease dt to 0.01 or less.\n",
      "Warning: dt is large.  Estimated pdfs may be imprecise.  Decrease dt to 0.01 or less.\n",
      "Warning: dt is large.  Estimated pdfs may be imprecise.  Decrease dt to 0.01 or less.\n",
      "Warning: dt is large.  Estimated pdfs may be imprecise.  Decrease dt to 0.01 or less.\n",
      "Warning: dt is large.  Estimated pdfs may be imprecise.  Decrease dt to 0.01 or less.\n",
      "Warning: dt is large.  Estimated pdfs may be imprecise.  Decrease dt to 0.01 or less.\n",
      "Warning: dt is large.  Estimated pdfs may be imprecise.  Decrease dt to 0.01 or less.\n",
      "Warning: dt is large.  Estimated pdfs may be imprecise.  Decrease dt to 0.01 or less.\n",
      "Warning: dt is large.  Estimated pdfs may be imprecise.  Decrease dt to 0.01 or less.\n",
      "Warning: dt is large.  Estimated pdfs may be imprecise.  Decrease dt to 0.01 or less.\n",
      "Warning: dt is large.  Estimated pdfs may be imprecise.  Decrease dt to 0.01 or less.\n",
      "Warning: dt is large.  Estimated pdfs may be imprecise.  Decrease dt to 0.01 or less.\n",
      "Warning: dt is large.  Estimated pdfs may be imprecise.  Decrease dt to 0.01 or less.\n",
      "Warning: dt is large.  Estimated pdfs may be imprecise.  Decrease dt to 0.01 or less.\n",
      "Warning: dt is large.  Estimated pdfs may be imprecise.  Decrease dt to 0.01 or less.\n",
      "Warning: dt is large.  Estimated pdfs may be imprecise.  Decrease dt to 0.01 or less.\n",
      "Warning: dt is large.  Estimated pdfs may be imprecise.  Decrease dt to 0.01 or less.\n",
      "Warning: dt is large.  Estimated pdfs may be imprecise.  Decrease dt to 0.01 or less.\n",
      "Warning: dt is large.  Estimated pdfs may be imprecise.  Decrease dt to 0.01 or less.\n",
      "Warning: dt is large.  Estimated pdfs may be imprecise.  Decrease dt to 0.01 or less.\n",
      "Warning: dt is large.  Estimated pdfs may be imprecise.  Decrease dt to 0.01 or less.\n",
      "Warning: dt is large.  Estimated pdfs may be imprecise.  Decrease dt to 0.01 or less.\n",
      "Warning: dt is large.  Estimated pdfs may be imprecise.  Decrease dt to 0.01 or less.\n",
      "Warning: dt is large.  Estimated pdfs may be imprecise.  Decrease dt to 0.01 or less.\n",
      "Warning: dt is large.  Estimated pdfs may be imprecise.  Decrease dt to 0.01 or less.\n"
     ]
    },
    {
     "name": "stdout",
     "output_type": "stream",
     "text": [
      "102\n",
      "103\n",
      "104\n",
      "105\n",
      "106\n",
      "107\n",
      "108\n",
      "109\n",
      "110\n",
      "111\n",
      "112\n",
      "113\n",
      "114\n",
      "115\n",
      "116\n",
      "117\n",
      "118\n",
      "119\n",
      "120\n",
      "121\n",
      "122\n",
      "123\n",
      "124\n",
      "125\n",
      "126\n",
      "127\n",
      "128\n",
      "129\n"
     ]
    },
    {
     "name": "stderr",
     "output_type": "stream",
     "text": [
      "Warning: dt is large.  Estimated pdfs may be imprecise.  Decrease dt to 0.01 or less.\n",
      "Warning: dt is large.  Estimated pdfs may be imprecise.  Decrease dt to 0.01 or less.\n",
      "Warning: dt is large.  Estimated pdfs may be imprecise.  Decrease dt to 0.01 or less.\n",
      "Warning: dt is large.  Estimated pdfs may be imprecise.  Decrease dt to 0.01 or less.\n",
      "Warning: dt is large.  Estimated pdfs may be imprecise.  Decrease dt to 0.01 or less.\n",
      "Warning: dt is large.  Estimated pdfs may be imprecise.  Decrease dt to 0.01 or less.\n",
      "Warning: dt is large.  Estimated pdfs may be imprecise.  Decrease dt to 0.01 or less.\n",
      "Warning: dt is large.  Estimated pdfs may be imprecise.  Decrease dt to 0.01 or less.\n",
      "Warning: dt is large.  Estimated pdfs may be imprecise.  Decrease dt to 0.01 or less.\n",
      "Warning: dt is large.  Estimated pdfs may be imprecise.  Decrease dt to 0.01 or less.\n",
      "Warning: dt is large.  Estimated pdfs may be imprecise.  Decrease dt to 0.01 or less.\n",
      "Warning: dt is large.  Estimated pdfs may be imprecise.  Decrease dt to 0.01 or less.\n",
      "Warning: dt is large.  Estimated pdfs may be imprecise.  Decrease dt to 0.01 or less.\n",
      "Warning: dt is large.  Estimated pdfs may be imprecise.  Decrease dt to 0.01 or less.\n",
      "Warning: dt is large.  Estimated pdfs may be imprecise.  Decrease dt to 0.01 or less.\n",
      "Warning: dt is large.  Estimated pdfs may be imprecise.  Decrease dt to 0.01 or less.\n",
      "Warning: dt is large.  Estimated pdfs may be imprecise.  Decrease dt to 0.01 or less.\n",
      "Warning: dt is large.  Estimated pdfs may be imprecise.  Decrease dt to 0.01 or less.\n",
      "Warning: dt is large.  Estimated pdfs may be imprecise.  Decrease dt to 0.01 or less.\n",
      "Warning: dt is large.  Estimated pdfs may be imprecise.  Decrease dt to 0.01 or less.\n",
      "Warning: dt is large.  Estimated pdfs may be imprecise.  Decrease dt to 0.01 or less.\n",
      "Warning: dt is large.  Estimated pdfs may be imprecise.  Decrease dt to 0.01 or less.\n",
      "Warning: dt is large.  Estimated pdfs may be imprecise.  Decrease dt to 0.01 or less.\n",
      "Warning: dt is large.  Estimated pdfs may be imprecise.  Decrease dt to 0.01 or less.\n",
      "Warning: dt is large.  Estimated pdfs may be imprecise.  Decrease dt to 0.01 or less.\n",
      "Warning: dt is large.  Estimated pdfs may be imprecise.  Decrease dt to 0.01 or less.\n",
      "Warning: dt is large.  Estimated pdfs may be imprecise.  Decrease dt to 0.01 or less.\n",
      "Warning: dt is large.  Estimated pdfs may be imprecise.  Decrease dt to 0.01 or less.\n"
     ]
    },
    {
     "name": "stdout",
     "output_type": "stream",
     "text": [
      "130\n",
      "131\n",
      "132\n",
      "133\n",
      "134\n",
      "135\n",
      "136\n",
      "137\n",
      "138\n",
      "139\n",
      "140\n",
      "141\n",
      "142\n",
      "143\n",
      "144\n",
      "145\n",
      "146\n",
      "147\n",
      "148\n",
      "149\n",
      "150\n",
      "151\n",
      "152\n",
      "153\n",
      "154\n",
      "155\n",
      "156\n",
      "157\n"
     ]
    },
    {
     "name": "stderr",
     "output_type": "stream",
     "text": [
      "Warning: dt is large.  Estimated pdfs may be imprecise.  Decrease dt to 0.01 or less.\n",
      "Warning: dt is large.  Estimated pdfs may be imprecise.  Decrease dt to 0.01 or less.\n",
      "Warning: dt is large.  Estimated pdfs may be imprecise.  Decrease dt to 0.01 or less.\n",
      "Warning: dt is large.  Estimated pdfs may be imprecise.  Decrease dt to 0.01 or less.\n",
      "Warning: dt is large.  Estimated pdfs may be imprecise.  Decrease dt to 0.01 or less.\n",
      "Warning: dt is large.  Estimated pdfs may be imprecise.  Decrease dt to 0.01 or less.\n",
      "Warning: dt is large.  Estimated pdfs may be imprecise.  Decrease dt to 0.01 or less.\n",
      "Warning: dt is large.  Estimated pdfs may be imprecise.  Decrease dt to 0.01 or less.\n",
      "Warning: dt is large.  Estimated pdfs may be imprecise.  Decrease dt to 0.01 or less.\n",
      "Warning: dt is large.  Estimated pdfs may be imprecise.  Decrease dt to 0.01 or less.\n",
      "Warning: dt is large.  Estimated pdfs may be imprecise.  Decrease dt to 0.01 or less.\n",
      "Warning: dt is large.  Estimated pdfs may be imprecise.  Decrease dt to 0.01 or less.\n",
      "Warning: dt is large.  Estimated pdfs may be imprecise.  Decrease dt to 0.01 or less.\n",
      "Warning: dt is large.  Estimated pdfs may be imprecise.  Decrease dt to 0.01 or less.\n",
      "Warning: dt is large.  Estimated pdfs may be imprecise.  Decrease dt to 0.01 or less.\n",
      "Warning: dt is large.  Estimated pdfs may be imprecise.  Decrease dt to 0.01 or less.\n",
      "Warning: dt is large.  Estimated pdfs may be imprecise.  Decrease dt to 0.01 or less.\n",
      "Warning: dt is large.  Estimated pdfs may be imprecise.  Decrease dt to 0.01 or less.\n",
      "Warning: dt is large.  Estimated pdfs may be imprecise.  Decrease dt to 0.01 or less.\n",
      "Warning: dt is large.  Estimated pdfs may be imprecise.  Decrease dt to 0.01 or less.\n",
      "Warning: dt is large.  Estimated pdfs may be imprecise.  Decrease dt to 0.01 or less.\n",
      "Warning: dt is large.  Estimated pdfs may be imprecise.  Decrease dt to 0.01 or less.\n",
      "Warning: dt is large.  Estimated pdfs may be imprecise.  Decrease dt to 0.01 or less.\n",
      "Warning: dt is large.  Estimated pdfs may be imprecise.  Decrease dt to 0.01 or less.\n",
      "Warning: dt is large.  Estimated pdfs may be imprecise.  Decrease dt to 0.01 or less.\n",
      "Warning: dt is large.  Estimated pdfs may be imprecise.  Decrease dt to 0.01 or less.\n",
      "Warning: dt is large.  Estimated pdfs may be imprecise.  Decrease dt to 0.01 or less.\n"
     ]
    },
    {
     "name": "stdout",
     "output_type": "stream",
     "text": [
      "158\n",
      "159\n",
      "160\n",
      "161\n",
      "162\n",
      "163\n",
      "164\n",
      "165\n",
      "166\n",
      "167\n",
      "168\n",
      "169\n",
      "170\n",
      "171\n",
      "172\n",
      "173\n",
      "174\n",
      "175\n",
      "176\n",
      "177\n",
      "178\n",
      "179\n",
      "180\n",
      "181\n",
      "182\n",
      "183\n",
      "184\n"
     ]
    },
    {
     "name": "stderr",
     "output_type": "stream",
     "text": [
      "Warning: dt is large.  Estimated pdfs may be imprecise.  Decrease dt to 0.01 or less.\n",
      "Warning: dt is large.  Estimated pdfs may be imprecise.  Decrease dt to 0.01 or less.\n",
      "Warning: dt is large.  Estimated pdfs may be imprecise.  Decrease dt to 0.01 or less.\n",
      "Warning: dt is large.  Estimated pdfs may be imprecise.  Decrease dt to 0.01 or less.\n",
      "Warning: dt is large.  Estimated pdfs may be imprecise.  Decrease dt to 0.01 or less.\n",
      "Warning: dt is large.  Estimated pdfs may be imprecise.  Decrease dt to 0.01 or less.\n",
      "Warning: dt is large.  Estimated pdfs may be imprecise.  Decrease dt to 0.01 or less.\n",
      "Warning: dt is large.  Estimated pdfs may be imprecise.  Decrease dt to 0.01 or less.\n",
      "Warning: dt is large.  Estimated pdfs may be imprecise.  Decrease dt to 0.01 or less.\n",
      "Warning: dt is large.  Estimated pdfs may be imprecise.  Decrease dt to 0.01 or less.\n",
      "Warning: dt is large.  Estimated pdfs may be imprecise.  Decrease dt to 0.01 or less.\n",
      "Warning: dt is large.  Estimated pdfs may be imprecise.  Decrease dt to 0.01 or less.\n",
      "Warning: dt is large.  Estimated pdfs may be imprecise.  Decrease dt to 0.01 or less.\n",
      "Warning: dt is large.  Estimated pdfs may be imprecise.  Decrease dt to 0.01 or less.\n",
      "Warning: dt is large.  Estimated pdfs may be imprecise.  Decrease dt to 0.01 or less.\n",
      "Warning: dt is large.  Estimated pdfs may be imprecise.  Decrease dt to 0.01 or less.\n",
      "Warning: dt is large.  Estimated pdfs may be imprecise.  Decrease dt to 0.01 or less.\n",
      "Warning: dt is large.  Estimated pdfs may be imprecise.  Decrease dt to 0.01 or less.\n",
      "Warning: dt is large.  Estimated pdfs may be imprecise.  Decrease dt to 0.01 or less.\n",
      "Warning: dt is large.  Estimated pdfs may be imprecise.  Decrease dt to 0.01 or less.\n",
      "Warning: dt is large.  Estimated pdfs may be imprecise.  Decrease dt to 0.01 or less.\n",
      "Warning: dt is large.  Estimated pdfs may be imprecise.  Decrease dt to 0.01 or less.\n",
      "Warning: dt is large.  Estimated pdfs may be imprecise.  Decrease dt to 0.01 or less.\n",
      "Warning: dt is large.  Estimated pdfs may be imprecise.  Decrease dt to 0.01 or less.\n",
      "Warning: dt is large.  Estimated pdfs may be imprecise.  Decrease dt to 0.01 or less.\n"
     ]
    },
    {
     "name": "stdout",
     "output_type": "stream",
     "text": [
      "185\n",
      "186\n",
      "187\n",
      "188\n",
      "189\n",
      "190\n",
      "191\n",
      "192\n",
      "193\n",
      "194\n",
      "195\n",
      "196\n",
      "197\n",
      "198\n",
      "199\n",
      "200\n",
      "201\n",
      "202\n",
      "203\n",
      "204\n",
      "205\n",
      "206\n",
      "207\n",
      "208\n",
      "209\n"
     ]
    },
    {
     "name": "stderr",
     "output_type": "stream",
     "text": [
      "Warning: dt is large.  Estimated pdfs may be imprecise.  Decrease dt to 0.01 or less.\n",
      "Warning: dt is large.  Estimated pdfs may be imprecise.  Decrease dt to 0.01 or less.\n",
      "Warning: dt is large.  Estimated pdfs may be imprecise.  Decrease dt to 0.01 or less.\n",
      "Warning: dt is large.  Estimated pdfs may be imprecise.  Decrease dt to 0.01 or less.\n",
      "Warning: dt is large.  Estimated pdfs may be imprecise.  Decrease dt to 0.01 or less.\n",
      "Warning: dt is large.  Estimated pdfs may be imprecise.  Decrease dt to 0.01 or less.\n",
      "Warning: dt is large.  Estimated pdfs may be imprecise.  Decrease dt to 0.01 or less.\n",
      "Warning: dt is large.  Estimated pdfs may be imprecise.  Decrease dt to 0.01 or less.\n",
      "Warning: dt is large.  Estimated pdfs may be imprecise.  Decrease dt to 0.01 or less.\n",
      "Warning: dt is large.  Estimated pdfs may be imprecise.  Decrease dt to 0.01 or less.\n",
      "Warning: dt is large.  Estimated pdfs may be imprecise.  Decrease dt to 0.01 or less.\n",
      "Warning: dt is large.  Estimated pdfs may be imprecise.  Decrease dt to 0.01 or less.\n",
      "Warning: dt is large.  Estimated pdfs may be imprecise.  Decrease dt to 0.01 or less.\n",
      "Warning: dt is large.  Estimated pdfs may be imprecise.  Decrease dt to 0.01 or less.\n",
      "Warning: dt is large.  Estimated pdfs may be imprecise.  Decrease dt to 0.01 or less.\n",
      "Warning: dt is large.  Estimated pdfs may be imprecise.  Decrease dt to 0.01 or less.\n",
      "Warning: dt is large.  Estimated pdfs may be imprecise.  Decrease dt to 0.01 or less.\n",
      "Warning: dt is large.  Estimated pdfs may be imprecise.  Decrease dt to 0.01 or less.\n",
      "Warning: dt is large.  Estimated pdfs may be imprecise.  Decrease dt to 0.01 or less.\n",
      "Warning: dt is large.  Estimated pdfs may be imprecise.  Decrease dt to 0.01 or less.\n",
      "Warning: dt is large.  Estimated pdfs may be imprecise.  Decrease dt to 0.01 or less.\n",
      "Warning: dt is large.  Estimated pdfs may be imprecise.  Decrease dt to 0.01 or less.\n",
      "Warning: dt is large.  Estimated pdfs may be imprecise.  Decrease dt to 0.01 or less.\n",
      "Warning: dt is large.  Estimated pdfs may be imprecise.  Decrease dt to 0.01 or less.\n",
      "Warning: dt is large.  Estimated pdfs may be imprecise.  Decrease dt to 0.01 or less.\n",
      "Warning: dt is large.  Estimated pdfs may be imprecise.  Decrease dt to 0.01 or less.\n",
      "Warning: dt is large.  Estimated pdfs may be imprecise.  Decrease dt to 0.01 or less.\n",
      "Warning: dt is large.  Estimated pdfs may be imprecise.  Decrease dt to 0.01 or less.\n"
     ]
    },
    {
     "name": "stdout",
     "output_type": "stream",
     "text": [
      "210\n",
      "211\n",
      "212\n",
      "213\n",
      "214\n",
      "215\n",
      "216\n",
      "217\n",
      "218\n",
      "219\n",
      "220\n",
      "221\n",
      "222\n",
      "223\n",
      "224\n",
      "225\n",
      "226\n",
      "227\n",
      "228\n",
      "229\n",
      "230\n",
      "231\n",
      "232\n",
      "233\n",
      "234\n",
      "235\n",
      "236\n",
      "237\n",
      "238\n"
     ]
    },
    {
     "name": "stderr",
     "output_type": "stream",
     "text": [
      "Warning: dt is large.  Estimated pdfs may be imprecise.  Decrease dt to 0.01 or less.\n",
      "Warning: dt is large.  Estimated pdfs may be imprecise.  Decrease dt to 0.01 or less.\n",
      "Warning: dt is large.  Estimated pdfs may be imprecise.  Decrease dt to 0.01 or less.\n",
      "Warning: dt is large.  Estimated pdfs may be imprecise.  Decrease dt to 0.01 or less.\n",
      "Warning: dt is large.  Estimated pdfs may be imprecise.  Decrease dt to 0.01 or less.\n",
      "Warning: dt is large.  Estimated pdfs may be imprecise.  Decrease dt to 0.01 or less.\n",
      "Warning: dt is large.  Estimated pdfs may be imprecise.  Decrease dt to 0.01 or less.\n",
      "Warning: dt is large.  Estimated pdfs may be imprecise.  Decrease dt to 0.01 or less.\n",
      "Warning: dt is large.  Estimated pdfs may be imprecise.  Decrease dt to 0.01 or less.\n",
      "Warning: dt is large.  Estimated pdfs may be imprecise.  Decrease dt to 0.01 or less.\n",
      "Warning: dt is large.  Estimated pdfs may be imprecise.  Decrease dt to 0.01 or less.\n",
      "Warning: dt is large.  Estimated pdfs may be imprecise.  Decrease dt to 0.01 or less.\n",
      "Warning: dt is large.  Estimated pdfs may be imprecise.  Decrease dt to 0.01 or less.\n",
      "Warning: dt is large.  Estimated pdfs may be imprecise.  Decrease dt to 0.01 or less.\n",
      "Warning: dt is large.  Estimated pdfs may be imprecise.  Decrease dt to 0.01 or less.\n",
      "Warning: dt is large.  Estimated pdfs may be imprecise.  Decrease dt to 0.01 or less.\n",
      "Warning: dt is large.  Estimated pdfs may be imprecise.  Decrease dt to 0.01 or less.\n",
      "Warning: dt is large.  Estimated pdfs may be imprecise.  Decrease dt to 0.01 or less.\n",
      "Warning: dt is large.  Estimated pdfs may be imprecise.  Decrease dt to 0.01 or less.\n",
      "Warning: dt is large.  Estimated pdfs may be imprecise.  Decrease dt to 0.01 or less.\n",
      "Warning: dt is large.  Estimated pdfs may be imprecise.  Decrease dt to 0.01 or less.\n",
      "Warning: dt is large.  Estimated pdfs may be imprecise.  Decrease dt to 0.01 or less.\n",
      "Warning: dt is large.  Estimated pdfs may be imprecise.  Decrease dt to 0.01 or less.\n",
      "Warning: dt is large.  Estimated pdfs may be imprecise.  Decrease dt to 0.01 or less.\n",
      "Warning: dt is large.  Estimated pdfs may be imprecise.  Decrease dt to 0.01 or less.\n",
      "Warning: dt is large.  Estimated pdfs may be imprecise.  Decrease dt to 0.01 or less.\n",
      "Warning: dt is large.  Estimated pdfs may be imprecise.  Decrease dt to 0.01 or less.\n",
      "Warning: dt is large.  Estimated pdfs may be imprecise.  Decrease dt to 0.01 or less.\n",
      "Warning: dt is large.  Estimated pdfs may be imprecise.  Decrease dt to 0.01 or less.\n",
      "Warning: dt is large.  Estimated pdfs may be imprecise.  Decrease dt to 0.01 or less.\n"
     ]
    },
    {
     "name": "stdout",
     "output_type": "stream",
     "text": [
      "239\n",
      "240\n",
      "241\n",
      "242\n",
      "243\n",
      "244\n",
      "245\n",
      "246\n",
      "247\n",
      "248\n",
      "249\n",
      "250\n",
      "251\n",
      "252\n",
      "253\n",
      "254\n",
      "255\n",
      "256\n",
      "257\n",
      "258\n",
      "259\n",
      "260\n",
      "261\n",
      "262\n",
      "263\n",
      "264\n",
      "265\n",
      "266\n",
      "267\n"
     ]
    },
    {
     "name": "stderr",
     "output_type": "stream",
     "text": [
      "Warning: dt is large.  Estimated pdfs may be imprecise.  Decrease dt to 0.01 or less.\n",
      "Warning: dt is large.  Estimated pdfs may be imprecise.  Decrease dt to 0.01 or less.\n",
      "Warning: dt is large.  Estimated pdfs may be imprecise.  Decrease dt to 0.01 or less.\n",
      "Warning: dt is large.  Estimated pdfs may be imprecise.  Decrease dt to 0.01 or less.\n",
      "Warning: dt is large.  Estimated pdfs may be imprecise.  Decrease dt to 0.01 or less.\n",
      "Warning: dt is large.  Estimated pdfs may be imprecise.  Decrease dt to 0.01 or less.\n",
      "Warning: dt is large.  Estimated pdfs may be imprecise.  Decrease dt to 0.01 or less.\n"
     ]
    },
    {
     "name": "stdout",
     "output_type": "stream",
     "text": [
      "268\n",
      "269\n",
      "270\n",
      "271\n",
      "272\n",
      "273\n",
      "274\n",
      "275\n"
     ]
    },
    {
     "name": "stderr",
     "output_type": "stream",
     "text": [
      "Info: Params [0.72996617 2.09430978 1.18887262 0.82131381 2.16017465 1.3845776\n",
      " 2.0836327  2.13717693 0.12229327 0.10597944 0.63943282 0.85269385] gave 219.67583141171457\n"
     ]
    },
    {
     "name": "stdout",
     "output_type": "stream",
     "text": [
      "276\n"
     ]
    },
    {
     "name": "stderr",
     "output_type": "stream",
     "text": [
      "Info: Params [ 0.6741749   1.17090495  0.91496472  0.62040638  0.96140071  0.5183002\n",
      "  1.69988409  1.8501804  -0.17485613  0.00958127  0.23163812  0.47293906] gave 255.5926913850454\n"
     ]
    },
    {
     "name": "stdout",
     "output_type": "stream",
     "text": [
      "277\n"
     ]
    },
    {
     "name": "stderr",
     "output_type": "stream",
     "text": [
      "Info: Params [ 1.09589185  1.19517152  0.34968417  0.35798381  1.69973922  1.01724544\n",
      "  1.22549449  1.01370737 -0.08299346  0.02820506  0.97163061  0.93537208] gave 199.2807372025244\n"
     ]
    },
    {
     "name": "stdout",
     "output_type": "stream",
     "text": [
      "278\n"
     ]
    },
    {
     "name": "stderr",
     "output_type": "stream",
     "text": [
      "Info: Params [ 1.14267034  9.66693494  2.70545444  1.02879792  6.79849559  2.09999985\n",
      "  0.90330162  0.80667742 -0.38938237 -0.07825668  0.63009529  0.73212931] gave 193.86041411461014\n"
     ]
    },
    {
     "name": "stdout",
     "output_type": "stream",
     "text": [
      "279\n"
     ]
    },
    {
     "name": "stderr",
     "output_type": "stream",
     "text": [
      "Info: Params [ 1.2379557   6.01434575  4.33624755  1.37846188  1.49022542  2.37204013\n",
      "  1.38464791  1.90639374 -0.14194311 -0.02793234  0.85610084  0.90434281] gave 208.05300535013467\n"
     ]
    },
    {
     "name": "stdout",
     "output_type": "stream",
     "text": [
      "280\n"
     ]
    },
    {
     "name": "stderr",
     "output_type": "stream",
     "text": [
      "Info: Params [ 1.01907923  1.1204974   1.33431742  1.05047828  1.5950684   3.06356651\n",
      "  2.34492064  1.60136464 -0.17447814 -0.17212346  0.76485817  0.18750702] gave 225.84865146293723\n"
     ]
    },
    {
     "name": "stdout",
     "output_type": "stream",
     "text": [
      "281\n"
     ]
    },
    {
     "name": "stderr",
     "output_type": "stream",
     "text": [
      "Info: Params [2.25794393 9.83564224 0.96884656 1.41858401 1.13575459 0.30835863\n",
      " 0.950022   1.02247174 0.02829154 0.07806044 0.65918947 0.85285685] gave 152.01355008872702\n"
     ]
    },
    {
     "name": "stdout",
     "output_type": "stream",
     "text": [
      "282\n"
     ]
    },
    {
     "name": "stderr",
     "output_type": "stream",
     "text": [
      "Info: Params [ 0.56808885  1.72014188  1.5566751   0.82458863  1.98996472  3.37775814\n",
      "  1.94108543  1.48718633 -0.3604004   0.12264153  0.52421289  0.86347658] gave 273.5547791539752\n"
     ]
    },
    {
     "name": "stdout",
     "output_type": "stream",
     "text": [
      "283\n"
     ]
    },
    {
     "name": "stderr",
     "output_type": "stream",
     "text": [
      "Info: Params [ 4.27958009e-01  9.52718468e+00  4.00000002e+00  3.59171994e-01\n",
      "  9.98567346e+00  4.05984100e+00  1.13961851e+00  8.80711300e-01\n",
      " -9.39602487e-03 -1.48755381e-01  9.34938766e-01  7.22432902e-01] gave 253.21996118368693\n"
     ]
    },
    {
     "name": "stdout",
     "output_type": "stream",
     "text": [
      "284\n"
     ]
    },
    {
     "name": "stderr",
     "output_type": "stream",
     "text": [
      "Info: Params [ 1.43896311  1.3811249   0.75075826  0.8048544   1.20038235  0.97861282\n",
      "  1.41316277  1.17525385 -0.13493783  0.02135593  0.98520072  0.89788986] gave 213.50402889750276\n"
     ]
    },
    {
     "name": "stdout",
     "output_type": "stream",
     "text": [
      "285\n"
     ]
    },
    {
     "name": "stderr",
     "output_type": "stream",
     "text": [
      "Info: Params [ 0.5410603   1.46994964  0.42442834  2.1568638   7.4787645   4.28928448\n",
      "  1.76103718  1.38764666  0.02764775 -0.363539    0.92965338  0.90781897] gave 210.66528533482733\n"
     ]
    },
    {
     "name": "stdout",
     "output_type": "stream",
     "text": [
      "286\n"
     ]
    },
    {
     "name": "stderr",
     "output_type": "stream",
     "text": [
      "Info: Params [ 0.47933755  1.03506736  0.35761694  0.98049294  1.19262437  0.559828\n",
      "  1.59196741  1.60557306  0.01194227 -0.02701322  0.67785611  0.76860714] gave 225.85885884737925\n"
     ]
    },
    {
     "name": "stdout",
     "output_type": "stream",
     "text": [
      "287\n"
     ]
    },
    {
     "name": "stderr",
     "output_type": "stream",
     "text": [
      "Info: Params [ 0.19690847  2.9215854   1.29999989  0.30352138  6.46274251  3.26505375\n",
      "  1.26932818  1.15437908 -0.41244826 -0.44603085  0.8639114   0.8912932 ] gave 196.08836305693362\n"
     ]
    },
    {
     "name": "stdout",
     "output_type": "stream",
     "text": [
      "288\n"
     ]
    },
    {
     "name": "stderr",
     "output_type": "stream",
     "text": [
      "Info: Params [ 1.03024645e+00  9.77690427e+00  2.21563400e+00  1.47764003e+00\n",
      "  2.06103315e+00  3.78508591e+00  9.91144376e-01  8.58263165e-01\n",
      " -3.41925044e-03  1.96351498e-01  8.19295525e-01  9.47341896e-01] gave 171.9058285307133\n"
     ]
    },
    {
     "name": "stdout",
     "output_type": "stream",
     "text": [
      "289\n"
     ]
    },
    {
     "name": "stderr",
     "output_type": "stream",
     "text": [
      "Info: Params [ 1.20613938  6.18375059  3.66186849  1.45261965 10.          3.21800001\n",
      "  0.92408264  0.97672555 -0.21133272  0.02378475  0.7984534   0.77809843] gave 207.5470678786782\n"
     ]
    },
    {
     "name": "stdout",
     "output_type": "stream",
     "text": [
      "290\n"
     ]
    },
    {
     "name": "stderr",
     "output_type": "stream",
     "text": [
      "Info: Params [ 1.30746317  6.89178142  2.42126409  1.06559392  1.26431273  0.70668004\n",
      "  1.17818627  1.00075593 -0.55098488 -0.12549343  0.74645197  0.74035711] gave 210.11832182885922\n"
     ]
    },
    {
     "name": "stdout",
     "output_type": "stream",
     "text": [
      "291\n"
     ]
    },
    {
     "name": "stderr",
     "output_type": "stream",
     "text": [
      "Info: Params [ 0.57694623  1.20609516  1.56956819  0.42576459  0.81766771  0.46699155\n",
      "  1.85399562  2.03305121 -0.20598365 -0.19665009  0.71989754  0.91347293] gave 253.2794137720249\n"
     ]
    },
    {
     "name": "stdout",
     "output_type": "stream",
     "text": [
      "292\n"
     ]
    },
    {
     "name": "stderr",
     "output_type": "stream",
     "text": [
      "Info: Params [ 0.6145871   1.12265362  0.60000039  0.03904591  9.17904727  3.63228557\n",
      "  2.23331304  1.17610412 -0.19571335  0.41877963  0.93271625  0.4284358 ] gave 250.61134621748946\n"
     ]
    },
    {
     "name": "stdout",
     "output_type": "stream",
     "text": [
      "293\n"
     ]
    },
    {
     "name": "stderr",
     "output_type": "stream",
     "text": [
      "Info: Params [0.95838086 1.54318017 0.28286676 0.38523681 3.21384569 2.54070291\n",
      " 1.12374784 1.00428086 0.34035749 0.11713374 0.82398855 0.94559496] gave 200.27531357356398\n"
     ]
    },
    {
     "name": "stdout",
     "output_type": "stream",
     "text": [
      "294\n"
     ]
    },
    {
     "name": "stderr",
     "output_type": "stream",
     "text": [
      "Info: Params [ 2.15229541  2.27912798  0.67870731  0.58744382  4.56803074  1.83724166\n",
      "  0.55610912  0.47230044 -0.30013046  0.08962491  0.71356067  0.78114022] gave 126.3204501982398\n"
     ]
    },
    {
     "name": "stdout",
     "output_type": "stream",
     "text": [
      "295\n"
     ]
    },
    {
     "name": "stderr",
     "output_type": "stream",
     "text": [
      "Info: Params [ 1.07811074  1.00049087  2.29277028  0.08349542  3.63790201  3.68754561\n",
      "  1.2775784   1.23578223 -0.3092639  -0.00726596  0.53147599  0.75510901] gave 275.14698801806423\n"
     ]
    },
    {
     "name": "stdout",
     "output_type": "stream",
     "text": [
      "296\n"
     ]
    },
    {
     "name": "stderr",
     "output_type": "stream",
     "text": [
      "Info: Params [ 1.30046946  1.53861345  0.5050859   0.82838403  1.29452835  0.20017824\n",
      "  2.02858188  1.8098976  -0.4607813  -0.09436214  0.91173225  0.90155484] gave 214.92720434498318\n"
     ]
    },
    {
     "name": "stdout",
     "output_type": "stream",
     "text": [
      "297\n"
     ]
    },
    {
     "name": "stderr",
     "output_type": "stream",
     "text": [
      "Info: Params [ 0.64929344  9.91903955  2.92547542  0.64499014  4.08910878  3.09999884\n",
      "  0.90276337  1.02167395 -0.17546834 -0.22546919  0.92621424  0.98686135] gave 221.3684330072526\n"
     ]
    },
    {
     "name": "stdout",
     "output_type": "stream",
     "text": [
      "298\n"
     ]
    },
    {
     "name": "stderr",
     "output_type": "stream",
     "text": [
      "Info: Params [ 1.00585992e+00  8.77299308e-01  4.47638799e-01  6.48837702e-01\n",
      "  2.33604927e+00  2.60935607e+00  1.90850591e+00  1.19743852e+00\n",
      " -2.47803397e-03  1.04822999e-01  9.01758525e-01  8.69234323e-01] gave 248.2495654979767\n"
     ]
    },
    {
     "ename": "TypeError",
     "evalue": "cannot concatenate object of type '<class 'pyddm.model.Model'>'; only Series and DataFrame objs are valid",
     "output_type": "error",
     "traceback": [
      "\u001b[1;31m---------------------------------------------------------------------------\u001b[0m",
      "\u001b[1;31mTypeError\u001b[0m                                 Traceback (most recent call last)",
      "\u001b[1;32m~\\AppData\\Local\\Temp/ipykernel_17760/1552153773.py\u001b[0m in \u001b[0;36m<module>\u001b[1;34m\u001b[0m\n\u001b[0;32m     75\u001b[0m             \u001b[0ma\u001b[0m \u001b[1;33m=\u001b[0m \u001b[0meval\u001b[0m\u001b[1;33m(\u001b[0m\u001b[0mf\u001b[0m\u001b[1;33m.\u001b[0m\u001b[0mread\u001b[0m\u001b[1;33m(\u001b[0m\u001b[1;33m)\u001b[0m\u001b[1;33m)\u001b[0m\u001b[1;33m\u001b[0m\u001b[1;33m\u001b[0m\u001b[0m\n\u001b[0;32m     76\u001b[0m     \u001b[0msummary_list\u001b[0m\u001b[1;33m.\u001b[0m\u001b[0mappend\u001b[0m\u001b[1;33m(\u001b[0m\u001b[0ma\u001b[0m\u001b[1;33m)\u001b[0m\u001b[1;33m\u001b[0m\u001b[1;33m\u001b[0m\u001b[0m\n\u001b[1;32m---> 77\u001b[1;33m \u001b[0msummary_df\u001b[0m \u001b[1;33m=\u001b[0m \u001b[0mpd\u001b[0m\u001b[1;33m.\u001b[0m\u001b[0mconcat\u001b[0m\u001b[1;33m(\u001b[0m\u001b[0msummary_list\u001b[0m\u001b[1;33m)\u001b[0m\u001b[1;33m\u001b[0m\u001b[1;33m\u001b[0m\u001b[0m\n\u001b[0m\u001b[0;32m     78\u001b[0m \u001b[0msummary_df\u001b[0m\u001b[1;33m.\u001b[0m\u001b[0mto_csv\u001b[0m\u001b[1;33m(\u001b[0m\u001b[1;34m\"model_fits/model_m3c/data_E2/all_subjects.csv\"\u001b[0m\u001b[1;33m)\u001b[0m\u001b[1;33m\u001b[0m\u001b[1;33m\u001b[0m\u001b[0m\n",
      "\u001b[1;32m~\\AppData\\Roaming\\Python\\Python39\\site-packages\\pandas\\util\\_decorators.py\u001b[0m in \u001b[0;36mwrapper\u001b[1;34m(*args, **kwargs)\u001b[0m\n\u001b[0;32m    329\u001b[0m                     \u001b[0mstacklevel\u001b[0m\u001b[1;33m=\u001b[0m\u001b[0mfind_stack_level\u001b[0m\u001b[1;33m(\u001b[0m\u001b[1;33m)\u001b[0m\u001b[1;33m,\u001b[0m\u001b[1;33m\u001b[0m\u001b[1;33m\u001b[0m\u001b[0m\n\u001b[0;32m    330\u001b[0m                 )\n\u001b[1;32m--> 331\u001b[1;33m             \u001b[1;32mreturn\u001b[0m \u001b[0mfunc\u001b[0m\u001b[1;33m(\u001b[0m\u001b[1;33m*\u001b[0m\u001b[0margs\u001b[0m\u001b[1;33m,\u001b[0m \u001b[1;33m**\u001b[0m\u001b[0mkwargs\u001b[0m\u001b[1;33m)\u001b[0m\u001b[1;33m\u001b[0m\u001b[1;33m\u001b[0m\u001b[0m\n\u001b[0m\u001b[0;32m    332\u001b[0m \u001b[1;33m\u001b[0m\u001b[0m\n\u001b[0;32m    333\u001b[0m         \u001b[1;31m# error: \"Callable[[VarArg(Any), KwArg(Any)], Any]\" has no\u001b[0m\u001b[1;33m\u001b[0m\u001b[1;33m\u001b[0m\u001b[0m\n",
      "\u001b[1;32m~\\AppData\\Roaming\\Python\\Python39\\site-packages\\pandas\\core\\reshape\\concat.py\u001b[0m in \u001b[0;36mconcat\u001b[1;34m(objs, axis, join, ignore_index, keys, levels, names, verify_integrity, sort, copy)\u001b[0m\n\u001b[0;32m    366\u001b[0m     \u001b[1;36m1\u001b[0m   \u001b[1;36m3\u001b[0m   \u001b[1;36m4\u001b[0m\u001b[1;33m\u001b[0m\u001b[1;33m\u001b[0m\u001b[0m\n\u001b[0;32m    367\u001b[0m     \"\"\"\n\u001b[1;32m--> 368\u001b[1;33m     op = _Concatenator(\n\u001b[0m\u001b[0;32m    369\u001b[0m         \u001b[0mobjs\u001b[0m\u001b[1;33m,\u001b[0m\u001b[1;33m\u001b[0m\u001b[1;33m\u001b[0m\u001b[0m\n\u001b[0;32m    370\u001b[0m         \u001b[0maxis\u001b[0m\u001b[1;33m=\u001b[0m\u001b[0maxis\u001b[0m\u001b[1;33m,\u001b[0m\u001b[1;33m\u001b[0m\u001b[1;33m\u001b[0m\u001b[0m\n",
      "\u001b[1;32m~\\AppData\\Roaming\\Python\\Python39\\site-packages\\pandas\\core\\reshape\\concat.py\u001b[0m in \u001b[0;36m__init__\u001b[1;34m(self, objs, axis, join, keys, levels, names, ignore_index, verify_integrity, copy, sort)\u001b[0m\n\u001b[0;32m    456\u001b[0m                     \u001b[1;34m\"only Series and DataFrame objs are valid\"\u001b[0m\u001b[1;33m\u001b[0m\u001b[1;33m\u001b[0m\u001b[0m\n\u001b[0;32m    457\u001b[0m                 )\n\u001b[1;32m--> 458\u001b[1;33m                 \u001b[1;32mraise\u001b[0m \u001b[0mTypeError\u001b[0m\u001b[1;33m(\u001b[0m\u001b[0mmsg\u001b[0m\u001b[1;33m)\u001b[0m\u001b[1;33m\u001b[0m\u001b[1;33m\u001b[0m\u001b[0m\n\u001b[0m\u001b[0;32m    459\u001b[0m \u001b[1;33m\u001b[0m\u001b[0m\n\u001b[0;32m    460\u001b[0m             \u001b[0mndims\u001b[0m\u001b[1;33m.\u001b[0m\u001b[0madd\u001b[0m\u001b[1;33m(\u001b[0m\u001b[0mobj\u001b[0m\u001b[1;33m.\u001b[0m\u001b[0mndim\u001b[0m\u001b[1;33m)\u001b[0m\u001b[1;33m\u001b[0m\u001b[1;33m\u001b[0m\u001b[0m\n",
      "\u001b[1;31mTypeError\u001b[0m: cannot concatenate object of type '<class 'pyddm.model.Model'>'; only Series and DataFrame objs are valid"
     ]
    }
   ],
   "source": [
    "from pyddm import FitResult\n",
    "\n",
    "lowercollapse0 = Fittable(minval=0, maxval=10)\n",
    "collapsetime0 = Fittable(minval=0, maxval=5)\n",
    "lowercollapse1 = Fittable(minval=0, maxval=10)\n",
    "collapsetime1 = Fittable(minval=0, maxval=5)\n",
    "\n",
    "m3c_spec = Model(name='Absence drift is zero lower boundary can collapse nonlinearly',\n",
    "                 drift=DriftPresentNonlinearCollapseC(driftpresent1=Fittable(minval=0, maxval=10),\n",
    "                                   driftpresent0=Fittable(minval=0, maxval=10),\n",
    "                                   lowercollapse1=lowercollapse1,\n",
    "                                   lowercollapse0=lowercollapse0,\n",
    "                                   collapsetime1=collapsetime1,\n",
    "                                   collapsetime0=collapsetime0),\n",
    "                 noise=NoiseConstant(noise=1),\n",
    "                 IC=ICPointSideBiasRatioC(x00=Fittable(minval=-1, maxval=1),\n",
    "                                         x01=Fittable(minval=-1, maxval=1)),\n",
    "                 bound=BoundNonlinearCollapseC(B0=Fittable(minval=0.1, maxval=2.5),\n",
    "                                    lowercollapse0=lowercollapse0,\n",
    "                                    collapsetime0=collapsetime0,\n",
    "                                    B1=Fittable(minval=0.1, maxval=2.5),\n",
    "                                    lowercollapse1=lowercollapse1,\n",
    "                                    collapsetime1=collapsetime1),\n",
    "                 overlay=OverlayChain(overlays=[OverlayNonDecisionC(nondectime0=Fittable(minval=0, maxval=1),\n",
    "                                                                   nondectime1=Fittable(minval=0,maxval=1)),\n",
    "                                                OverlayPoissonMixture(pmixturecoef=.02,\n",
    "                                                                      rate=1)]),\n",
    "                 dx=.01, dt=.1, T_dur=5)\n",
    "\n",
    "def fit_m3c(df,data_label):\n",
    "    \n",
    "    df = df.reset_index();\n",
    "    subj_id = df.subj_id[0]\n",
    "    \n",
    "    sample = Sample.from_pandas_dataframe(df, rt_column_name=\"rt\", correct_column_name=\"correct\")\n",
    "    fit_model = fit_adjust_model(sample=sample, model=m3c_spec, verbose=False, lossfunction = LossRobustBIC)\n",
    "    summary_df = pd.DataFrame.from_dict({\n",
    "        'subj_id': [subj_id],\n",
    "        'driftpresent0': [float(fit_model.parameters()['drift']['driftpresent0'])],\n",
    "        'noise': [float(fit_model.parameters()['noise']['noise'])],\n",
    "        'bound0': [float(fit_model.parameters()['bound']['B0'])],\n",
    "        'collapsetime0': [float(fit_model.parameters()['drift']['collapsetime0'])],\n",
    "        'lowercollapse0': [float(fit_model.parameters()['drift']['lowercollapse0'])],\n",
    "        'IC0': [float(fit_model.parameters()['IC']['x00'])],\n",
    "        'nondec0': [float(fit_model.parameters()['overlay']['nondectime0'])],\n",
    "        'driftpresent1': [float(fit_model.parameters()['drift']['driftpresent1'])],\n",
    "        'bound1': [float(fit_model.parameters()['bound']['B1'])],\n",
    "        'collapsetime0': [float(fit_model.parameters()['drift']['collapsetime0'])],\n",
    "        'lowercollapse1': [float(fit_model.parameters()['drift']['lowercollapse1'])],\n",
    "        'IC1': [float(fit_model.parameters()['IC']['x01'])],\n",
    "        'nondec1': [float(fit_model.parameters()['overlay']['nondectime1'])],\n",
    "        'BIC': [fit_model.fitresult.value()]\n",
    "    })\n",
    "    \n",
    "    if not os.path.exists(\"model_fits/model_m3c/data_\"+data_label):\n",
    "                       os.makedirs(\"model_fits/model_m3c/data_\"+data_label)\n",
    "                       \n",
    "    with open(\"model_fits/model_m3c/data_\"+data_label+\"/subj\"+str(subj_id)+\".txt\", \"w\") as f:\n",
    "        f.write(repr(fit_model))\n",
    "    \n",
    "    return(summary_df)\n",
    "        \n",
    "\n",
    "loaded = pd.read_csv(\"data/E2.csv\") \n",
    "loaded['present'] = loaded['present'].replace(-1,0)\n",
    "loaded['condition'] = loaded['condition_is_congruent'].replace(-1,0)\n",
    "\n",
    "summary_list = []\n",
    "for name, group in loaded.groupby('subj_id'):\n",
    "    print(name)\n",
    "    if not os.path.exists(\"model_fits/model_m3c/data_E2/subj\"+str(name)+\".txt\"):\n",
    "        a= fit_m3c(group.reset_index(),'E2')\n",
    "    else:\n",
    "        with open(\"model_fits/model_m3c/data_E2/subj\"+str(name)+\".txt\") as f:\n",
    "            a = eval(f.read())\n",
    "    summary_list.append(a)\n",
    "summary_df = pd.concat(summary_list)\n",
    "summary_df.to_csv(\"model_fits/model_m3c/data_E2/all_subjects.csv\")"
   ]
  },
  {
   "cell_type": "markdown",
   "id": "3d3d11c3",
   "metadata": {},
   "source": [
    "## Fit M4: unequal variance"
   ]
  },
  {
   "cell_type": "code",
   "execution_count": 12,
   "id": "83ef20dc",
   "metadata": {},
   "outputs": [],
   "source": [
    "class NoiseAsymmetric(Noise):\n",
    "    name = \"Noise is higher when a target is present\"\n",
    "    required_parameters = [\"noiseabsent\"]\n",
    "    required_conditions = ['present']\n",
    "    def get_noise(self, t, conditions, **kwargs):\n",
    "        if conditions['present']==1:\n",
    "            return 1\n",
    "        else:\n",
    "            return self.noiseabsent"
   ]
  },
  {
   "cell_type": "code",
   "execution_count": 13,
   "id": "36478ebe",
   "metadata": {},
   "outputs": [
    {
     "name": "stderr",
     "output_type": "stream",
     "text": [
      "Warning: dt is large.  Estimated pdfs may be imprecise.  Decrease dt to 0.01 or less.\n"
     ]
    }
   ],
   "source": [
    "m4_spec = Model(name='Basic model drift varies as a function of target presence',\n",
    "                 drift=DriftPresent(driftabsent=Fittable(minval=-10, maxval=0),\n",
    "                                     driftpresent=Fittable(minval=0, maxval=10)),\n",
    "                 noise=NoiseAsymmetric(noiseabsent=Fittable(minval=0.5,maxval=2)),\n",
    "                 IC=ICPointSideBiasRatio(x0=Fittable(minval=-1, maxval=1)),\n",
    "                 bound=BoundConstant(B=Fittable(minval=0.1, maxval=2.5)),\n",
    "                 overlay=OverlayChain(overlays=[OverlayNonDecision(nondectime=Fittable(minval=0, maxval=1)),\n",
    "                                                OverlayPoissonMixture(pmixturecoef=.02,\n",
    "                                                                      rate=1)]),\n",
    "                 dx=.01, dt=.1, T_dur=5)\n",
    "\n",
    "def fit_m4(df,data_label):\n",
    "    \n",
    "    df = df.reset_index();\n",
    "    subj_id = df.subj_id[0]\n",
    "    \n",
    "    sample = Sample.from_pandas_dataframe(df, rt_column_name=\"rt\", correct_column_name=\"correct\")\n",
    "    fit_model = fit_adjust_model(sample=sample, model=m4_spec, verbose=False, lossfunction = LossRobustBIC)\n",
    "    summary_df = pd.DataFrame.from_dict({\n",
    "        'subj_id': [subj_id],\n",
    "        'driftabsent': [float(fit_model.parameters()['drift']['driftabsent'])],\n",
    "        'driftpresent': [float(fit_model.parameters()['drift']['driftpresent'])],\n",
    "        'noiseabsent': [float(fit_model.parameters()['noise']['noiseabsent'])],\n",
    "        'bound': [float(fit_model.parameters()['bound']['B'])],\n",
    "        'IC': [float(fit_model.parameters()['IC']['x0'])],\n",
    "        'nondec': [float(fit_model.parameters()['overlay']['nondectime'])],\n",
    "        'BIC': [fit_model.fitresult.value()]\n",
    "    })\n",
    "    \n",
    "    if not os.path.exists(\"model_fits/model_m4/data_\"+data_label):\n",
    "                       os.makedirs(\"model_fits/model_m4/data_\"+data_label)\n",
    "                       \n",
    "    with open(\"model_fits/model_m4/data_\"+data_label+\"/subj\"+str(subj_id)+\".txt\", \"w\") as f:\n",
    "        f.write(repr(fit_model))\n",
    "    \n",
    "    return(summary_df)\n",
    "\n",
    "# loaded = pd.read_csv(\"data/E2.csv\") \n",
    "# loaded['present'] = loaded['present'].replace(-1,0)\n",
    "# summary_list = []\n",
    "# for name, group in loaded.groupby('subj_id'):\n",
    "#     print(name)\n",
    "#     a= fit_m4(group.reset_index(),'E2')\n",
    "#     summary_list.append(a)\n",
    "# summary_df = pd.concat(summary_list)\n",
    "# summary_df.to_csv(\"model_fits/model_m4/data_E2/all_subjects.csv\")"
   ]
  },
  {
   "cell_type": "markdown",
   "id": "7bb2a1bd",
   "metadata": {},
   "source": [
    "## Fit M5: unequal variance + collapsing boundaries"
   ]
  },
  {
   "cell_type": "code",
   "execution_count": 14,
   "id": "7a4e4c25",
   "metadata": {},
   "outputs": [
    {
     "name": "stderr",
     "output_type": "stream",
     "text": [
      "Warning: dt is large.  Estimated pdfs may be imprecise.  Decrease dt to 0.01 or less.\n"
     ]
    }
   ],
   "source": [
    "m5_spec = Model(name='Absence drift is zero boundaries can collapse',\n",
    "                 drift=DriftPresentCollapse(driftpresent=Fittable(minval=0, maxval=10),\n",
    "                                   uppercollapse=uppercollapse,\n",
    "                                   lowercollapse=lowercollapse),\n",
    "                 noise=NoiseAsymmetric(noiseabsent=Fittable(minval=0.5,maxval=2)),\n",
    "                 IC=ICPointSideBiasRatio(x0=Fittable(minval=-1, maxval=1)),\n",
    "                 bound=BoundCollapse(B=Fittable(minval=0.1, maxval=2.5),\n",
    "                                    uppercollapse=uppercollapse,\n",
    "                                    lowercollapse=lowercollapse),\n",
    "                 overlay=OverlayChain(overlays=[OverlayNonDecision(nondectime=Fittable(minval=0, maxval=1)),\n",
    "                                                OverlayPoissonMixture(pmixturecoef=.02,\n",
    "                                                                      rate=1)]),\n",
    "                 dx=.01, dt=.1, T_dur=5)\n",
    "\n",
    "def fit_m5(df,data_label):\n",
    "    \n",
    "    df = df.reset_index();\n",
    "    subj_id = df.subj_id[0]\n",
    "    \n",
    "    sample = Sample.from_pandas_dataframe(df, rt_column_name=\"rt\", correct_column_name=\"correct\")\n",
    "    fit_model = fit_adjust_model(sample=sample, model=m5_spec, verbose=False, lossfunction = LossRobustBIC)\n",
    "    summary_df = pd.DataFrame.from_dict({\n",
    "        'subj_id': [subj_id],\n",
    "        'driftpresent': [float(fit_model.parameters()['drift']['driftpresent'])],\n",
    "        'uppercollapse': [float(fit_model.parameters()['drift']['uppercollapse'])],\n",
    "        'lowercollapse': [float(fit_model.parameters()['drift']['lowercollapse'])],\n",
    "        'noiseabsent': [float(fit_model.parameters()['noise']['noiseabsent'])],\n",
    "        'bound': [float(fit_model.parameters()['bound']['B'])],\n",
    "        'IC': [float(fit_model.parameters()['IC']['x0'])],\n",
    "        'nondec': [float(fit_model.parameters()['overlay']['nondectime'])],\n",
    "        'BIC': [fit_model.fitresult.value()]\n",
    "    })\n",
    "    \n",
    "    if not os.path.exists(\"model_fits/model_m5/data_\"+data_label):\n",
    "                       os.makedirs(\"model_fits/model_m5/data_\"+data_label)\n",
    "                       \n",
    "    with open(\"model_fits/model_m5/data_\"+data_label+\"/subj\"+str(subj_id)+\".txt\", \"w\") as f:\n",
    "        f.write(repr(fit_model))\n",
    "    \n",
    "    return(summary_df)\n",
    "        \n",
    "\n",
    "# loaded = pd.read_csv(\"data/E2.csv\") \n",
    "# loaded['present'] = loaded['present'].replace(-1,0)\n",
    "# summary_list = []\n",
    "# for name, group in loaded.groupby('subj_id'):\n",
    "#     print(name)\n",
    "#     a= fit_m5(group.reset_index(),'E2')\n",
    "#     summary_list.append(a)\n",
    "# summary_df = pd.concat(summary_list)\n",
    "# summary_df.to_csv(\"model_fits/model_m5/data_E2/all_subjects.csv\")"
   ]
  },
  {
   "cell_type": "markdown",
   "id": "5bf5aa0c",
   "metadata": {},
   "source": [
    "## Fit M6: unequal variance + nonlinearly collapsing boundary"
   ]
  },
  {
   "cell_type": "code",
   "execution_count": 15,
   "id": "5fd1dd50",
   "metadata": {},
   "outputs": [
    {
     "name": "stderr",
     "output_type": "stream",
     "text": [
      "Warning: dt is large.  Estimated pdfs may be imprecise.  Decrease dt to 0.01 or less.\n"
     ]
    }
   ],
   "source": [
    "m6_spec = Model(name='Absence drift is zero lower boundary can collapse nonlinearly',\n",
    "                 drift=DriftPresentNonlinearCollapse(driftpresent=Fittable(minval=0, maxval=10),\n",
    "                                   lowercollapse=lowercollapse,\n",
    "                                   collapsetime=collapsetime),\n",
    "                 noise=NoiseAsymmetric(noiseabsent=Fittable(minval=0,maxval=3)),\n",
    "                 IC=ICPointSideBiasRatio(x0=Fittable(minval=-1, maxval=1)),\n",
    "                 bound=BoundNonlinearCollapse(B=Fittable(minval=0.1, maxval=2.5),\n",
    "                                    lowercollapse=lowercollapse,\n",
    "                                    collapsetime=collapsetime),\n",
    "                 overlay=OverlayChain(overlays=[OverlayNonDecision(nondectime=Fittable(minval=0, maxval=1)),\n",
    "                                                OverlayPoissonMixture(pmixturecoef=.02,\n",
    "                                                                      rate=1)]),\n",
    "                 dx=.01, dt=.1, T_dur=5)\n",
    "\n",
    "def fit_m6(df,data_label):\n",
    "    \n",
    "    df = df.reset_index();\n",
    "    subj_id = df.subj_id[0]\n",
    "    \n",
    "    sample = Sample.from_pandas_dataframe(df, rt_column_name=\"rt\", correct_column_name=\"correct\")\n",
    "    fit_model = fit_adjust_model(sample=sample, model=m6_spec, verbose=False, lossfunction = LossRobustBIC)\n",
    "    summary_df = pd.DataFrame.from_dict({\n",
    "        'subj_id': [subj_id],\n",
    "        'driftpresent': [float(fit_model.parameters()['drift']['driftpresent'])],\n",
    "        'collapsetime': [float(fit_model.parameters()['drift']['collapsetime'])],\n",
    "        'lowercollapse': [float(fit_model.parameters()['drift']['lowercollapse'])],\n",
    "        'noiseabsent': [float(fit_model.parameters()['noise']['noiseabsent'])],\n",
    "        'bound': [float(fit_model.parameters()['bound']['B'])],\n",
    "        'IC': [float(fit_model.parameters()['IC']['x0'])],\n",
    "        'nondec': [float(fit_model.parameters()['overlay']['nondectime'])],\n",
    "        'BIC': [fit_model.fitresult.value()]\n",
    "    })\n",
    "    \n",
    "    if not os.path.exists(\"model_fits/model_m6/data_\"+data_label):\n",
    "                       os.makedirs(\"model_fits/model_m6/data_\"+data_label)\n",
    "                       \n",
    "    with open(\"model_fits/model_m6/data_\"+data_label+\"/subj\"+str(subj_id)+\".txt\", \"w\") as f:\n",
    "        f.write(repr(fit_model))\n",
    "    \n",
    "    return(summary_df)\n",
    "        \n",
    "\n",
    "# loaded = pd.read_csv(\"data/E2.csv\") \n",
    "# loaded['present'] = loaded['present'].replace(-1,0)\n",
    "# summary_list = []\n",
    "# for name, group in loaded.groupby('subj_id'):\n",
    "#     print(name)\n",
    "#     a= fit_m6(group.reset_index(),'E2')\n",
    "#     summary_list.append(a)\n",
    "# summary_df = pd.concat(summary_list)\n",
    "# summary_df.to_csv(\"model_fits/model_m6/data_E2/all_subjects.csv\")"
   ]
  },
  {
   "cell_type": "markdown",
   "id": "a36a88e9",
   "metadata": {},
   "source": [
    "## Fit M7: basic model with changing t0"
   ]
  },
  {
   "cell_type": "code",
   "execution_count": 34,
   "id": "f77a7437",
   "metadata": {},
   "outputs": [],
   "source": [
    "from pyddm import OverlayNonDecision, Solution\n",
    "class OverlayNonDecisionPresent(OverlayNonDecision):\n",
    "    name = \"Separate non-decision time for target presence or absence\"\n",
    "    required_parameters = [\"nondectimepresent\", \"nondectimeabsent\"]\n",
    "    required_conditions = ['present']\n",
    "    def get_nondecision_time(self, conditions):\n",
    "        return self.nondectimepresent if conditions['present'] == 1 else self.nondectimeabsent"
   ]
  },
  {
   "cell_type": "code",
   "execution_count": 35,
   "id": "a15227e2",
   "metadata": {},
   "outputs": [
    {
     "name": "stderr",
     "output_type": "stream",
     "text": [
      "Warning: dt is large.  Estimated pdfs may be imprecise.  Decrease dt to 0.01 or less.\n"
     ]
    }
   ],
   "source": [
    "m7_spec = Model(name='Basic model drift varies as a function of target presence',\n",
    "                 drift=DriftPresent(driftabsent=Fittable(minval=-10, maxval=0),\n",
    "                                     driftpresent=Fittable(minval=0, maxval=10)),\n",
    "                 noise=NoiseConstant(noise=1),\n",
    "                 IC=ICPointSideBiasRatio(x0=Fittable(minval=-1, maxval=1)),\n",
    "                 bound=BoundConstant(B=Fittable(minval=0.1, maxval=2.5)),\n",
    "                 overlay=OverlayChain(overlays=[OverlayNonDecisionPresent(nondectimepresent=Fittable(minval=0, maxval=1),\n",
    "                                                                         nondectimeabsent = Fittable(minval=0, maxval=1)),\n",
    "                                                OverlayPoissonMixture(pmixturecoef=.02,\n",
    "                                                                      rate=1)]),\n",
    "                 dx=.01, dt=.1, T_dur=5)\n",
    "\n",
    "def fit_m7(df,data_label):\n",
    "    \n",
    "    df = df.reset_index();\n",
    "    subj_id = df.subj_id[0]\n",
    "    \n",
    "    sample = Sample.from_pandas_dataframe(df, rt_column_name=\"rt\", correct_column_name=\"correct\")\n",
    "    fit_model = fit_adjust_model(sample=sample, model=m7_spec, verbose=False, lossfunction = LossRobustBIC)\n",
    "    summary_df = pd.DataFrame.from_dict({\n",
    "        'subj_id': [subj_id],\n",
    "        'driftabsent': [float(fit_model.parameters()['drift']['driftabsent'])],\n",
    "        'driftpresent': [float(fit_model.parameters()['drift']['driftpresent'])],\n",
    "        'noise': [float(fit_model.parameters()['noise']['noise'])],\n",
    "        'bound': [float(fit_model.parameters()['bound']['B'])],\n",
    "        'IC': [float(fit_model.parameters()['IC']['x0'])],\n",
    "        'nondecpresent': [float(fit_model.parameters()['overlay']['nondectimepresent'])],\n",
    "        'nondecabsent': [float(fit_model.parameters()['overlay']['nondectimeabsent'])],\n",
    "        'BIC': [fit_model.fitresult.value()]\n",
    "    })\n",
    "    \n",
    "    if not os.path.exists(\"model_fits/model_m7/data_\"+data_label):\n",
    "                       os.makedirs(\"model_fits/model_m7/data_\"+data_label)\n",
    "                       \n",
    "    with open(\"model_fits/model_m7/data_\"+data_label+\"/subj\"+str(subj_id)+\".txt\", \"w\") as f:\n",
    "        f.write(repr(fit_model))\n",
    "    \n",
    "    return(summary_df)"
   ]
  },
  {
   "cell_type": "code",
   "execution_count": 36,
   "id": "f0c8fe94",
   "metadata": {},
   "outputs": [
    {
     "name": "stdout",
     "output_type": "stream",
     "text": [
      "1\n"
     ]
    },
    {
     "name": "stderr",
     "output_type": "stream",
     "text": [
      "Info: Params [ 0.         -1.94030983  0.69793247  0.50168669  0.6095783   0.57921409] gave 101.59308630397221\n"
     ]
    },
    {
     "name": "stdout",
     "output_type": "stream",
     "text": [
      "2\n"
     ]
    },
    {
     "name": "stderr",
     "output_type": "stream",
     "text": [
      "Info: Params [ 0.         -1.38401023  0.90966948  0.2799799   0.83639137  0.98410181] gave 169.46592794966512\n"
     ]
    },
    {
     "name": "stdout",
     "output_type": "stream",
     "text": [
      "3\n"
     ]
    },
    {
     "name": "stderr",
     "output_type": "stream",
     "text": [
      "Info: Params [ 0.99193717 -0.59021712  0.78954867 -0.00177342  0.92010697  0.99703547] gave 140.99937342367946\n"
     ]
    },
    {
     "name": "stdout",
     "output_type": "stream",
     "text": [
      "4\n"
     ]
    },
    {
     "name": "stderr",
     "output_type": "stream",
     "text": [
      "Info: Params [ 0.17689979 -1.40373734  1.09024426  0.48060413  0.8156536   0.84357308] gave 155.8781178919685\n"
     ]
    },
    {
     "name": "stdout",
     "output_type": "stream",
     "text": [
      "5\n"
     ]
    },
    {
     "name": "stderr",
     "output_type": "stream",
     "text": [
      "Info: Params [ 0.         -0.66630829  0.48608767  0.32038928  0.86674124  0.83820696] gave 85.20698124280133\n"
     ]
    },
    {
     "name": "stdout",
     "output_type": "stream",
     "text": [
      "6\n"
     ]
    },
    {
     "name": "stderr",
     "output_type": "stream",
     "text": [
      "Info: Params [ 0.42569976 -1.79650295  1.12995619  0.28909891  0.96027172  0.91004912] gave 143.7472454014502\n"
     ]
    },
    {
     "name": "stdout",
     "output_type": "stream",
     "text": [
      "7\n"
     ]
    },
    {
     "name": "stderr",
     "output_type": "stream",
     "text": [
      "Info: Params [ 0.57815216 -0.81516405  1.0772028   0.09452435  0.9367857   0.91300308] gave 189.98172807105453\n"
     ]
    },
    {
     "name": "stdout",
     "output_type": "stream",
     "text": [
      "8\n"
     ]
    },
    {
     "name": "stderr",
     "output_type": "stream",
     "text": [
      "Info: Params [ 0.         -1.49923433  0.93452944  0.51688109  0.65550871  0.62020502] gave 143.86251198536806\n"
     ]
    },
    {
     "name": "stdout",
     "output_type": "stream",
     "text": [
      "9\n"
     ]
    },
    {
     "name": "stderr",
     "output_type": "stream",
     "text": [
      "Info: Params [ 0.22464289 -1.30168472  0.72614657  0.34523434  0.93677571  0.94728137] gave 137.7167386891706\n"
     ]
    },
    {
     "name": "stdout",
     "output_type": "stream",
     "text": [
      "10\n"
     ]
    },
    {
     "name": "stderr",
     "output_type": "stream",
     "text": [
      "Info: Params [ 0.51847467 -0.96069369  1.40427668  0.24283483  0.99361513  0.87489367] gave 207.75125947118588\n"
     ]
    },
    {
     "name": "stdout",
     "output_type": "stream",
     "text": [
      "11\n"
     ]
    },
    {
     "name": "stderr",
     "output_type": "stream",
     "text": [
      "Info: Params [ 0.44588238 -1.72240292  1.05251689  0.44451564  0.86996365  0.96734726] gave 149.1232543755661\n"
     ]
    },
    {
     "name": "stdout",
     "output_type": "stream",
     "text": [
      "12\n"
     ]
    },
    {
     "name": "stderr",
     "output_type": "stream",
     "text": [
      "Info: Params [ 0.46560902 -0.78559859  0.8564063   0.4476414   0.61082944  0.75174317] gave 168.9505263577837\n"
     ]
    },
    {
     "name": "stdout",
     "output_type": "stream",
     "text": [
      "13\n"
     ]
    },
    {
     "name": "stderr",
     "output_type": "stream",
     "text": [
      "Info: Params [ 0.24852089 -0.83943161  1.78173942  0.31623152  0.9089917   0.96727454] gave 259.26494431124104\n"
     ]
    },
    {
     "name": "stdout",
     "output_type": "stream",
     "text": [
      "14\n"
     ]
    },
    {
     "name": "stderr",
     "output_type": "stream",
     "text": [
      "Info: Params [ 0.20536588 -1.024354    1.12702868  0.34452797  0.82700724  0.92511175] gave 210.68802294598652\n"
     ]
    },
    {
     "name": "stdout",
     "output_type": "stream",
     "text": [
      "15\n"
     ]
    },
    {
     "name": "stderr",
     "output_type": "stream",
     "text": [
      "Info: Params [ 0.2658986  -1.07050536  1.18662928  0.42074089  0.76125439  0.75230849] gave 210.4556273827701\n"
     ]
    },
    {
     "name": "stdout",
     "output_type": "stream",
     "text": [
      "16\n"
     ]
    },
    {
     "name": "stderr",
     "output_type": "stream",
     "text": [
      "Info: Params [ 0.04939968 -1.37856695  1.04118992  0.48375276  0.89085243  0.92636406] gave 168.58513183132106\n"
     ]
    },
    {
     "name": "stdout",
     "output_type": "stream",
     "text": [
      "17\n"
     ]
    },
    {
     "name": "stderr",
     "output_type": "stream",
     "text": [
      "Info: Params [ 0.         -2.15169513  1.02486292  0.4962219   0.99240538  0.91349659] gave 141.0742185364005\n"
     ]
    },
    {
     "name": "stdout",
     "output_type": "stream",
     "text": [
      "18\n"
     ]
    },
    {
     "name": "stderr",
     "output_type": "stream",
     "text": [
      "Info: Params [ 0.         -0.90210358  1.28040386  0.2518724   0.95117678  0.99303806] gave 255.3828524117498\n"
     ]
    },
    {
     "name": "stdout",
     "output_type": "stream",
     "text": [
      "19\n"
     ]
    },
    {
     "name": "stderr",
     "output_type": "stream",
     "text": [
      "Info: Params [ 0.45484838 -0.47142322  0.94669014  0.0394909   0.95484238  0.9007957 ] gave 212.88645889564964\n"
     ]
    },
    {
     "name": "stdout",
     "output_type": "stream",
     "text": [
      "20\n"
     ]
    },
    {
     "name": "stderr",
     "output_type": "stream",
     "text": [
      "Info: Params [ 0.57077194 -1.35427562  0.68634996  0.40476389  0.6640451   0.74167461] gave 104.59928927297297\n"
     ]
    },
    {
     "name": "stdout",
     "output_type": "stream",
     "text": [
      "21\n"
     ]
    },
    {
     "name": "stderr",
     "output_type": "stream",
     "text": [
      "Info: Params [ 0.         -1.6130986   1.02598805  0.35787206  0.99096991  0.96908874] gave 154.44808625181054\n"
     ]
    },
    {
     "name": "stdout",
     "output_type": "stream",
     "text": [
      "22\n"
     ]
    },
    {
     "name": "stderr",
     "output_type": "stream",
     "text": [
      "Info: Params [ 0.08974624 -1.72867567  0.88563118  0.32472089  0.80665721  0.92734995] gave 145.3249060151848\n"
     ]
    },
    {
     "name": "stdout",
     "output_type": "stream",
     "text": [
      "23\n"
     ]
    },
    {
     "name": "stderr",
     "output_type": "stream",
     "text": [
      "Info: Params [ 0.64830994 -0.66483872  0.94646462  0.06182222  0.96269944  0.92079645] gave 185.14002299357787\n"
     ]
    },
    {
     "name": "stdout",
     "output_type": "stream",
     "text": [
      "24\n"
     ]
    },
    {
     "name": "stderr",
     "output_type": "stream",
     "text": [
      "Info: Params [ 0.63522475 -0.89670048  0.84785028  0.36412318  0.67568253  0.69755364] gave 146.7216861817451\n"
     ]
    },
    {
     "name": "stdout",
     "output_type": "stream",
     "text": [
      "25\n"
     ]
    },
    {
     "name": "stderr",
     "output_type": "stream",
     "text": [
      "Info: Params [ 0.30694681 -0.6248618   1.45767189  0.11541192  0.93472531  0.92820986] gave 240.72337382178728\n"
     ]
    },
    {
     "name": "stdout",
     "output_type": "stream",
     "text": [
      "26\n"
     ]
    },
    {
     "name": "stderr",
     "output_type": "stream",
     "text": [
      "Info: Params [ 0.13953109 -0.88198645  1.75899227  0.33889448  0.91140127  0.93753405] gave 260.03743922968835\n"
     ]
    },
    {
     "name": "stdout",
     "output_type": "stream",
     "text": [
      "27\n"
     ]
    },
    {
     "name": "stderr",
     "output_type": "stream",
     "text": [
      "Info: Params [ 0.         -1.74136233  0.98059424  0.28456708  0.79969316  0.86987451] gave 167.7055745776217\n"
     ]
    },
    {
     "name": "stdout",
     "output_type": "stream",
     "text": [
      "28\n"
     ]
    },
    {
     "name": "stderr",
     "output_type": "stream",
     "text": [
      "Info: Params [ 0.80277664 -0.63802665  0.85755405  0.13255063  0.71403516  0.82283247] gave 166.32477845174287\n"
     ]
    },
    {
     "name": "stdout",
     "output_type": "stream",
     "text": [
      "29\n"
     ]
    },
    {
     "name": "stderr",
     "output_type": "stream",
     "text": [
      "Info: Params [ 0.58505665 -0.59774225  1.01783252  0.13529568  0.84231817  0.93684652] gave 204.47364522449016\n"
     ]
    },
    {
     "name": "stdout",
     "output_type": "stream",
     "text": [
      "30\n"
     ]
    },
    {
     "name": "stderr",
     "output_type": "stream",
     "text": [
      "Info: Params [ 0.37917204 -1.17633959  1.06219972  0.00405058  0.64744291  0.81985738] gave 206.8734113536491\n"
     ]
    },
    {
     "name": "stdout",
     "output_type": "stream",
     "text": [
      "31\n"
     ]
    },
    {
     "name": "stderr",
     "output_type": "stream",
     "text": [
      "Info: Params [ 0.         -1.33211408  1.44110519  0.35872667  0.85741163  0.84558824] gave 198.39185168370517\n"
     ]
    },
    {
     "name": "stdout",
     "output_type": "stream",
     "text": [
      "32\n"
     ]
    },
    {
     "name": "stderr",
     "output_type": "stream",
     "text": [
      "Info: Params [ 0.14808177 -1.41176984  0.86613322  0.2760883   0.71208073  0.8543403 ] gave 152.84126260525898\n"
     ]
    },
    {
     "name": "stdout",
     "output_type": "stream",
     "text": [
      "33\n"
     ]
    },
    {
     "name": "stderr",
     "output_type": "stream",
     "text": [
      "Info: Params [ 0.50236385 -1.07266941  0.83194255  0.39942225  0.65345908  0.73849327] gave 129.9921255229527\n"
     ]
    },
    {
     "name": "stdout",
     "output_type": "stream",
     "text": [
      "34\n"
     ]
    },
    {
     "name": "stderr",
     "output_type": "stream",
     "text": [
      "Info: Params [ 0.58456995 -0.52167374  1.06357774  0.04494481  0.77074728  0.71943061] gave 222.71268439114817\n"
     ]
    },
    {
     "name": "stdout",
     "output_type": "stream",
     "text": [
      "35\n"
     ]
    },
    {
     "name": "stderr",
     "output_type": "stream",
     "text": [
      "Info: Params [ 0.         -1.23432761  1.55490638  0.29162125  0.9080908   0.92923064] gave 210.97025108660912\n"
     ]
    },
    {
     "name": "stdout",
     "output_type": "stream",
     "text": [
      "36\n"
     ]
    },
    {
     "name": "stderr",
     "output_type": "stream",
     "text": [
      "Info: Params [ 0.07863301 -1.47258447  0.93603535  0.40254973  0.97948603  0.9316926 ] gave 148.74968094328358\n"
     ]
    },
    {
     "name": "stdout",
     "output_type": "stream",
     "text": [
      "37\n"
     ]
    },
    {
     "name": "stderr",
     "output_type": "stream",
     "text": [
      "Info: Params [ 0.10409654 -1.08439247  1.06353625  0.28921244  0.92656967  0.97996546] gave 209.76051088889693\n"
     ]
    },
    {
     "name": "stdout",
     "output_type": "stream",
     "text": [
      "38\n"
     ]
    },
    {
     "name": "stderr",
     "output_type": "stream",
     "text": [
      "Info: Params [ 0.24801378 -0.41575684  0.77667554  0.18945218  0.5191144   0.5623387 ] gave 205.14312369886346\n"
     ]
    },
    {
     "name": "stdout",
     "output_type": "stream",
     "text": [
      "39\n"
     ]
    },
    {
     "name": "stderr",
     "output_type": "stream",
     "text": [
      "Info: Params [ 0.15026253 -0.60935018  1.38591704  0.3393859   0.825042    0.92133742] gave 226.2259186874376\n"
     ]
    },
    {
     "name": "stdout",
     "output_type": "stream",
     "text": [
      "40\n"
     ]
    },
    {
     "name": "stderr",
     "output_type": "stream",
     "text": [
      "Info: Params [ 0.68086186 -1.33296309  0.85795389  0.34035147  0.80936769  0.96137749] gave 125.58467665585971\n"
     ]
    },
    {
     "name": "stdout",
     "output_type": "stream",
     "text": [
      "41\n"
     ]
    },
    {
     "name": "stderr",
     "output_type": "stream",
     "text": [
      "Info: Params [ 0.24654636 -0.78595343  1.85115843  0.43795931  0.70941351  0.94560659] gave 256.5570333466654\n"
     ]
    },
    {
     "name": "stdout",
     "output_type": "stream",
     "text": [
      "42\n"
     ]
    },
    {
     "name": "stderr",
     "output_type": "stream",
     "text": [
      "Info: Params [ 0.         -1.40849843  1.47553748  0.54480788  0.75172929  0.92461319] gave 216.95808302410165\n"
     ]
    },
    {
     "name": "stdout",
     "output_type": "stream",
     "text": [
      "43\n"
     ]
    },
    {
     "name": "stderr",
     "output_type": "stream",
     "text": [
      "Info: Params [ 0.45116338 -0.59721834  1.33402699  0.33279146  0.9564575   0.95316101] gave 214.46924533465753\n"
     ]
    },
    {
     "name": "stdout",
     "output_type": "stream",
     "text": [
      "44\n"
     ]
    },
    {
     "name": "stderr",
     "output_type": "stream",
     "text": [
      "Info: Params [ 0.         -1.75557344  1.28482616  0.33845329  0.70779468  0.84326246] gave 201.98958841131622\n"
     ]
    },
    {
     "name": "stdout",
     "output_type": "stream",
     "text": [
      "45\n"
     ]
    },
    {
     "name": "stderr",
     "output_type": "stream",
     "text": [
      "Info: Params [ 0.82686143 -0.31760145  1.17373015 -0.09664233  0.88269203  0.92859271] gave 238.10253023329656\n"
     ]
    },
    {
     "name": "stdout",
     "output_type": "stream",
     "text": [
      "46\n"
     ]
    },
    {
     "name": "stderr",
     "output_type": "stream",
     "text": [
      "Info: Params [ 0.33532352 -0.5358861   1.70455126 -0.00367334  0.91700461  0.97300375] gave 243.23310792200198\n"
     ]
    },
    {
     "name": "stdout",
     "output_type": "stream",
     "text": [
      "47\n"
     ]
    },
    {
     "name": "stderr",
     "output_type": "stream",
     "text": [
      "Info: Params [ 0.50621549 -2.04843195  0.61470304  0.51573494  0.74495438  0.74655612] gave 65.45458474350309\n"
     ]
    },
    {
     "name": "stdout",
     "output_type": "stream",
     "text": [
      "48\n"
     ]
    },
    {
     "name": "stderr",
     "output_type": "stream",
     "text": [
      "Info: Params [ 0.1012858  -0.72923493  1.32949355  0.33588632  0.47151343  0.70054758] gave 217.04972068370375\n"
     ]
    },
    {
     "name": "stdout",
     "output_type": "stream",
     "text": [
      "49\n"
     ]
    },
    {
     "name": "stderr",
     "output_type": "stream",
     "text": [
      "Info: Params [ 0.38797324 -1.15622489  1.09366755  0.16401256  0.97233223  0.9155666 ] gave 187.154122992654\n"
     ]
    },
    {
     "name": "stdout",
     "output_type": "stream",
     "text": [
      "50\n"
     ]
    },
    {
     "name": "stderr",
     "output_type": "stream",
     "text": [
      "Info: Params [ 0.2884369  -0.09739499  1.09748115  0.08957433  0.91243399  0.94265305] gave 232.23398327363634\n"
     ]
    },
    {
     "name": "stdout",
     "output_type": "stream",
     "text": [
      "51\n"
     ]
    },
    {
     "name": "stderr",
     "output_type": "stream",
     "text": [
      "Info: Params [ 0.         -1.04565291  0.92849553  0.20462817  0.9230362   0.91396548] gave 176.9528823303658\n"
     ]
    },
    {
     "name": "stdout",
     "output_type": "stream",
     "text": [
      "52\n"
     ]
    },
    {
     "name": "stderr",
     "output_type": "stream",
     "text": [
      "Info: Params [ 0.67048784 -0.44770433  1.39118429  0.08833946  0.73126845  0.87739423] gave 243.62966362449106\n"
     ]
    },
    {
     "name": "stdout",
     "output_type": "stream",
     "text": [
      "53\n"
     ]
    },
    {
     "name": "stderr",
     "output_type": "stream",
     "text": [
      "Info: Params [ 0.32701028 -0.87571445  1.21075809  0.46600269  0.81376008  0.96968473] gave 216.61263731854538\n"
     ]
    },
    {
     "name": "stdout",
     "output_type": "stream",
     "text": [
      "54\n"
     ]
    },
    {
     "name": "stderr",
     "output_type": "stream",
     "text": [
      "Info: Params [ 0.         -0.78500316  1.21681253  0.27683644  0.96259457  0.92642798] gave 246.23418484588922\n"
     ]
    },
    {
     "name": "stdout",
     "output_type": "stream",
     "text": [
      "55\n"
     ]
    },
    {
     "name": "stderr",
     "output_type": "stream",
     "text": [
      "Info: Params [ 0.19021097 -0.86395423  1.29255888  0.27627278  0.94330568  0.93133459] gave 236.6871700541927\n"
     ]
    },
    {
     "name": "stdout",
     "output_type": "stream",
     "text": [
      "56\n"
     ]
    },
    {
     "name": "stderr",
     "output_type": "stream",
     "text": [
      "Info: Params [ 0.91605286 -0.93898049  0.69911032  0.03956165  0.52779949  0.74154169] gave 113.21819939790801\n"
     ]
    },
    {
     "name": "stdout",
     "output_type": "stream",
     "text": [
      "57\n"
     ]
    },
    {
     "name": "stderr",
     "output_type": "stream",
     "text": [
      "Info: Params [ 0.53215582 -2.05983197  0.59104335  0.44606784  0.51139572  0.56662165] gave 52.178810595374316\n"
     ]
    },
    {
     "name": "stdout",
     "output_type": "stream",
     "text": [
      "58\n"
     ]
    },
    {
     "name": "stderr",
     "output_type": "stream",
     "text": [
      "Info: Params [ 0.09459483 -0.56299929  1.53016122  0.27116705  0.58470018  0.52073894] gave 291.2477717385159\n"
     ]
    },
    {
     "name": "stdout",
     "output_type": "stream",
     "text": [
      "59\n"
     ]
    },
    {
     "name": "stderr",
     "output_type": "stream",
     "text": [
      "Info: Params [ 0.1864239  -0.68834935  1.24931473  0.56029471  0.66792164  0.71624241] gave 223.8760888315258\n"
     ]
    },
    {
     "name": "stdout",
     "output_type": "stream",
     "text": [
      "60\n"
     ]
    },
    {
     "name": "stderr",
     "output_type": "stream",
     "text": [
      "Info: Params [ 0.40961893 -0.98510479  0.99247623  0.02504616  0.96045174  0.90929901] gave 187.86529715925695\n"
     ]
    },
    {
     "name": "stdout",
     "output_type": "stream",
     "text": [
      "61\n"
     ]
    },
    {
     "name": "stderr",
     "output_type": "stream",
     "text": [
      "Info: Params [ 0.23100623 -1.32620804  0.98687752  0.29056575  0.91856189  0.95871193] gave 168.48440414349903\n"
     ]
    },
    {
     "name": "stdout",
     "output_type": "stream",
     "text": [
      "62\n"
     ]
    },
    {
     "name": "stderr",
     "output_type": "stream",
     "text": [
      "Info: Params [ 0.34301402 -1.15169354  1.09919185  0.44478444  0.87838469  0.91884189] gave 208.3901012102018\n"
     ]
    },
    {
     "name": "stdout",
     "output_type": "stream",
     "text": [
      "63\n"
     ]
    },
    {
     "name": "stderr",
     "output_type": "stream",
     "text": [
      "Info: Params [ 0.85487192 -0.58710847  0.73810137  0.03122978  0.6707278   0.87571163] gave 143.7298041887408\n"
     ]
    },
    {
     "name": "stdout",
     "output_type": "stream",
     "text": [
      "64\n"
     ]
    },
    {
     "name": "stderr",
     "output_type": "stream",
     "text": [
      "Info: Params [ 0.0533805  -1.06479373  1.30247231  0.53881738  0.8112169   0.96002298] gave 207.48649416508263\n"
     ]
    },
    {
     "name": "stdout",
     "output_type": "stream",
     "text": [
      "65\n"
     ]
    },
    {
     "name": "stderr",
     "output_type": "stream",
     "text": [
      "Info: Params [ 0.46509442 -0.7185059   1.15552754  0.30814659  0.71061565  0.87631585] gave 204.36015133038245\n"
     ]
    },
    {
     "name": "stdout",
     "output_type": "stream",
     "text": [
      "66\n"
     ]
    },
    {
     "name": "stderr",
     "output_type": "stream",
     "text": [
      "Info: Params [ 0.18096684 -0.82531269  1.3670166   0.47216919  0.80952204  0.68828934] gave 249.3817869055134\n"
     ]
    },
    {
     "name": "stdout",
     "output_type": "stream",
     "text": [
      "67\n"
     ]
    },
    {
     "name": "stderr",
     "output_type": "stream",
     "text": [
      "Info: Params [ 0.15883711 -1.23246086  1.2319851   0.23733665  0.9359454   0.96005496] gave 202.7319377693969\n"
     ]
    },
    {
     "name": "stdout",
     "output_type": "stream",
     "text": [
      "68\n"
     ]
    },
    {
     "name": "stderr",
     "output_type": "stream",
     "text": [
      "Info: Params [ 0.3057699  -0.59517053  0.73019644  0.24684952  0.77073399  0.85365172] gave 164.60738192820855\n"
     ]
    },
    {
     "name": "stdout",
     "output_type": "stream",
     "text": [
      "69\n"
     ]
    },
    {
     "name": "stderr",
     "output_type": "stream",
     "text": [
      "Info: Params [ 0.0604922  -1.15530232  0.97538387  0.33794082  0.73120908  0.98307236] gave 183.05239508599158\n"
     ]
    },
    {
     "name": "stdout",
     "output_type": "stream",
     "text": [
      "70\n"
     ]
    },
    {
     "name": "stderr",
     "output_type": "stream",
     "text": [
      "Info: Params [ 0.18555002 -1.72357916  0.88505667  0.37318647  0.63306231  0.75439695] gave 145.96362338943618\n"
     ]
    },
    {
     "name": "stdout",
     "output_type": "stream",
     "text": [
      "71\n"
     ]
    },
    {
     "name": "stderr",
     "output_type": "stream",
     "text": [
      "Info: Params [ 0.12028564 -0.46583483  1.25766313  0.40658118  0.42242951  0.43685927] gave 262.8761076805613\n"
     ]
    },
    {
     "name": "stdout",
     "output_type": "stream",
     "text": [
      "72\n"
     ]
    },
    {
     "name": "stderr",
     "output_type": "stream",
     "text": [
      "Info: Params [ 0.79512852 -1.02063916  0.84755606  0.20213861  0.87085483  0.9148911 ] gave 148.30511227611726\n"
     ]
    },
    {
     "name": "stdout",
     "output_type": "stream",
     "text": [
      "73\n"
     ]
    },
    {
     "name": "stderr",
     "output_type": "stream",
     "text": [
      "Info: Params [ 0.32833258 -0.73682799  1.71432327  0.2927953   0.89720931  0.99335613] gave 257.7231801631504\n"
     ]
    },
    {
     "name": "stdout",
     "output_type": "stream",
     "text": [
      "74\n"
     ]
    },
    {
     "name": "stderr",
     "output_type": "stream",
     "text": [
      "Info: Params [ 1.36336869 -1.52130826  0.42764704  0.02848769  0.7027328   0.84504564] gave 25.605617918615852\n"
     ]
    },
    {
     "name": "stdout",
     "output_type": "stream",
     "text": [
      "75\n"
     ]
    },
    {
     "name": "stderr",
     "output_type": "stream",
     "text": [
      "Info: Params [ 0.         -1.18296274  0.69983826  0.17760647  0.75096548  0.84251896] gave 126.54469897438052\n"
     ]
    },
    {
     "name": "stdout",
     "output_type": "stream",
     "text": [
      "76\n"
     ]
    },
    {
     "name": "stderr",
     "output_type": "stream",
     "text": [
      "Info: Params [ 0.74149314 -1.1284515   0.67676935  0.08867259  0.6198841   0.75729886] gave 112.29745443297232\n"
     ]
    },
    {
     "name": "stdout",
     "output_type": "stream",
     "text": [
      "77\n"
     ]
    },
    {
     "name": "stderr",
     "output_type": "stream",
     "text": [
      "Info: Params [ 0.         -1.42576797  1.09486929  0.4309795   0.85479253  0.95688343] gave 167.8818425254466\n"
     ]
    },
    {
     "name": "stdout",
     "output_type": "stream",
     "text": [
      "78\n"
     ]
    },
    {
     "name": "stderr",
     "output_type": "stream",
     "text": [
      "Info: Params [ 0.         -0.60080563  0.8331823   0.28408486  0.62008684  0.85813595] gave 189.0981486288523\n"
     ]
    },
    {
     "name": "stdout",
     "output_type": "stream",
     "text": [
      "79\n"
     ]
    },
    {
     "name": "stderr",
     "output_type": "stream",
     "text": [
      "Info: Params [ 0.28371946 -0.48428092  1.22731839  0.1894691   0.68376312  0.57885172] gave 267.47054060234353\n"
     ]
    },
    {
     "name": "stdout",
     "output_type": "stream",
     "text": [
      "80\n"
     ]
    },
    {
     "name": "stderr",
     "output_type": "stream",
     "text": [
      "Info: Params [ 0.05946494 -0.70984298  1.55360544  0.34718901  0.96460885  0.95579886] gave 258.9371663333185\n"
     ]
    },
    {
     "name": "stdout",
     "output_type": "stream",
     "text": [
      "81\n"
     ]
    },
    {
     "name": "stderr",
     "output_type": "stream",
     "text": [
      "Info: Params [ 0.33487936 -1.81854358  0.69079018  0.40212745  0.74772608  0.87514358] gave 104.93492458696294\n"
     ]
    },
    {
     "name": "stdout",
     "output_type": "stream",
     "text": [
      "82\n"
     ]
    },
    {
     "name": "stderr",
     "output_type": "stream",
     "text": [
      "Info: Params [ 0.         -1.40020518  1.13020381  0.30562559  0.97761708  0.94188722] gave 177.97014997634653\n"
     ]
    },
    {
     "name": "stdout",
     "output_type": "stream",
     "text": [
      "83\n"
     ]
    },
    {
     "name": "stderr",
     "output_type": "stream",
     "text": [
      "Info: Params [ 0.         -1.47896258  1.15777002  0.28399673  0.55396111  0.60706705] gave 208.54349729269308\n"
     ]
    },
    {
     "name": "stdout",
     "output_type": "stream",
     "text": [
      "84\n"
     ]
    },
    {
     "name": "stderr",
     "output_type": "stream",
     "text": [
      "Info: Params [ 0.         -1.62902689  1.18667566  0.44231621  0.80354108  0.96951504] gave 177.54652201250792\n"
     ]
    },
    {
     "name": "stdout",
     "output_type": "stream",
     "text": [
      "85\n"
     ]
    },
    {
     "name": "stderr",
     "output_type": "stream",
     "text": [
      "Info: Params [ 0.26554716 -1.12882344  0.86940675  0.24801623  0.65970594  0.81092186] gave 170.04943273064202\n"
     ]
    },
    {
     "name": "stdout",
     "output_type": "stream",
     "text": [
      "86\n"
     ]
    },
    {
     "name": "stderr",
     "output_type": "stream",
     "text": [
      "Info: Params [ 0.79574458 -0.0570217   0.88218472 -0.17275749  0.09780274  0.1579361 ] gave 166.84117095801798\n"
     ]
    },
    {
     "name": "stdout",
     "output_type": "stream",
     "text": [
      "87\n"
     ]
    },
    {
     "name": "stderr",
     "output_type": "stream",
     "text": [
      "Info: Params [ 0.68965085 -0.42662641  0.99167892  0.06512518  0.94328518  0.92966503] gave 195.95739739485458\n"
     ]
    },
    {
     "name": "stdout",
     "output_type": "stream",
     "text": [
      "88\n"
     ]
    },
    {
     "name": "stderr",
     "output_type": "stream",
     "text": [
      "Info: Params [ 0.20772807 -2.43383161  0.69414173  0.47303911  0.77296225  0.72514898] gave 77.90202604178556\n"
     ]
    },
    {
     "name": "stdout",
     "output_type": "stream",
     "text": [
      "89\n"
     ]
    },
    {
     "name": "stderr",
     "output_type": "stream",
     "text": [
      "Info: Params [ 0.33026513 -0.98671238  1.01852075  0.40102869  0.67905728  0.63747775] gave 192.2811283773624\n"
     ]
    },
    {
     "name": "stdout",
     "output_type": "stream",
     "text": [
      "90\n"
     ]
    },
    {
     "name": "stderr",
     "output_type": "stream",
     "text": [
      "Info: Params [ 0.27648341 -1.03535402  0.86905415  0.32954837  0.84776133  0.91045709] gave 180.6775741673216\n"
     ]
    },
    {
     "name": "stdout",
     "output_type": "stream",
     "text": [
      "91\n"
     ]
    },
    {
     "name": "stderr",
     "output_type": "stream",
     "text": [
      "Info: Params [ 0.         -1.7053306   1.32499282  0.4457367   0.92045701  0.97668658] gave 197.1535556948822\n"
     ]
    },
    {
     "name": "stdout",
     "output_type": "stream",
     "text": [
      "92\n"
     ]
    },
    {
     "name": "stderr",
     "output_type": "stream",
     "text": [
      "Info: Params [ 0.         -1.14927613  0.91585172  0.26996315  0.65461744  0.70884625] gave 177.53952770287378\n"
     ]
    },
    {
     "name": "stdout",
     "output_type": "stream",
     "text": [
      "93\n"
     ]
    },
    {
     "name": "stderr",
     "output_type": "stream",
     "text": [
      "Info: Params [ 0.13923794 -1.51410602  0.86345426  0.21908423  0.77279309  0.89789529] gave 141.45114488564133\n"
     ]
    },
    {
     "name": "stdout",
     "output_type": "stream",
     "text": [
      "94\n"
     ]
    },
    {
     "name": "stderr",
     "output_type": "stream",
     "text": [
      "Info: Params [ 0.19612377 -0.90972175  1.13748553  0.25517251  0.92655969  0.95417462] gave 211.73859980892786\n"
     ]
    },
    {
     "name": "stdout",
     "output_type": "stream",
     "text": [
      "95\n"
     ]
    },
    {
     "name": "stderr",
     "output_type": "stream",
     "text": [
      "Info: Params [ 0.         -0.70731333  1.35027911  0.41049759  0.73008028  0.94953632] gave 255.34000327665012\n"
     ]
    },
    {
     "name": "stdout",
     "output_type": "stream",
     "text": [
      "96\n"
     ]
    },
    {
     "name": "stderr",
     "output_type": "stream",
     "text": [
      "Info: Params [ 0.5315376  -1.35258327  1.27277165  0.13668576  0.94505156  0.96429266] gave 177.90152118924388\n"
     ]
    },
    {
     "name": "stdout",
     "output_type": "stream",
     "text": [
      "97\n"
     ]
    },
    {
     "name": "stderr",
     "output_type": "stream",
     "text": [
      "Info: Params [ 0.19908933 -0.72556709  1.66837198  0.13786814  0.93508532  0.96178614] gave 280.25599606545904\n"
     ]
    },
    {
     "name": "stdout",
     "output_type": "stream",
     "text": [
      "98\n"
     ]
    },
    {
     "name": "stderr",
     "output_type": "stream",
     "text": [
      "Info: Params [ 0.48247867 -0.7030436   1.18756228  0.14094201  0.52406893  0.84219742] gave 229.88881985362826\n"
     ]
    },
    {
     "name": "stdout",
     "output_type": "stream",
     "text": [
      "99\n"
     ]
    },
    {
     "name": "stderr",
     "output_type": "stream",
     "text": [
      "Info: Params [ 0.30804551 -0.97064063  1.56321827  0.41926157  0.93657743  0.74510372] gave 226.65811824372895\n"
     ]
    },
    {
     "name": "stdout",
     "output_type": "stream",
     "text": [
      "100\n"
     ]
    },
    {
     "name": "stderr",
     "output_type": "stream",
     "text": [
      "Info: Params [ 0.49280422 -0.6859352   1.34195919  0.21242178  0.92532699  0.92385523] gave 232.77142503940374\n"
     ]
    },
    {
     "name": "stdout",
     "output_type": "stream",
     "text": [
      "101\n"
     ]
    },
    {
     "name": "stderr",
     "output_type": "stream",
     "text": [
      "Info: Params [ 0.16505065 -0.22954713  0.90874025  0.17644481  0.93725889  0.8828311 ] gave 198.86368172600373\n"
     ]
    },
    {
     "name": "stdout",
     "output_type": "stream",
     "text": [
      "102\n"
     ]
    },
    {
     "name": "stderr",
     "output_type": "stream",
     "text": [
      "Info: Params [ 0.76181192 -1.2918366   0.79477031  0.58661118  0.66750792  0.65037811] gave 88.14346875647445\n"
     ]
    },
    {
     "name": "stdout",
     "output_type": "stream",
     "text": [
      "103\n"
     ]
    },
    {
     "name": "stderr",
     "output_type": "stream",
     "text": [
      "Info: Params [ 0.47390063 -1.07241964  0.75414252  0.0831939   0.66885905  0.60784101] gave 149.3888552403942\n"
     ]
    },
    {
     "name": "stdout",
     "output_type": "stream",
     "text": [
      "104\n"
     ]
    },
    {
     "name": "stderr",
     "output_type": "stream",
     "text": [
      "Info: Params [ 0.22356371 -0.59574046  1.37383841  0.20157658  0.85873378  0.92220334] gave 233.98345864759912\n"
     ]
    },
    {
     "name": "stdout",
     "output_type": "stream",
     "text": [
      "105\n"
     ]
    },
    {
     "name": "stderr",
     "output_type": "stream",
     "text": [
      "Info: Params [ 0.         -1.18563081  1.21071407  0.45533989  0.85603697  0.98271332] gave 216.29138360920834\n"
     ]
    },
    {
     "name": "stdout",
     "output_type": "stream",
     "text": [
      "106\n"
     ]
    },
    {
     "name": "stderr",
     "output_type": "stream",
     "text": [
      "Info: Params [ 0.         -0.92362574  0.90136725  0.14215384  0.98794562  0.94915671] gave 183.98153196981997\n"
     ]
    },
    {
     "name": "stdout",
     "output_type": "stream",
     "text": [
      "107\n"
     ]
    },
    {
     "name": "stderr",
     "output_type": "stream",
     "text": [
      "Info: Params [ 0.67317659 -1.01802024  0.71920119  0.03915261  0.66729886  0.74025232] gave 134.16876311830572\n"
     ]
    },
    {
     "name": "stdout",
     "output_type": "stream",
     "text": [
      "108\n"
     ]
    },
    {
     "name": "stderr",
     "output_type": "stream",
     "text": [
      "Info: Params [ 0.         -0.94550589  1.10906917  0.02863249  0.70275519  0.91163849] gave 229.31410346568254\n"
     ]
    },
    {
     "name": "stdout",
     "output_type": "stream",
     "text": [
      "109\n"
     ]
    },
    {
     "name": "stderr",
     "output_type": "stream",
     "text": [
      "Info: Params [ 0.57191306 -1.54533008  0.77828368  0.11216157  0.84191401  0.97064178] gave 122.74902845475039\n"
     ]
    },
    {
     "name": "stdout",
     "output_type": "stream",
     "text": [
      "110\n"
     ]
    },
    {
     "name": "stderr",
     "output_type": "stream",
     "text": [
      "Info: Params [ 0.         -1.02466996  0.80912803  0.28790959  0.82756156  0.88655837] gave 155.23450255370454\n"
     ]
    },
    {
     "name": "stdout",
     "output_type": "stream",
     "text": [
      "111\n"
     ]
    },
    {
     "name": "stderr",
     "output_type": "stream",
     "text": [
      "Info: Params [ 0.27913669 -0.96580011  0.92791419  0.30047785  0.88825039  0.91017791] gave 184.13492289754794\n"
     ]
    },
    {
     "name": "stdout",
     "output_type": "stream",
     "text": [
      "112\n"
     ]
    },
    {
     "name": "stderr",
     "output_type": "stream",
     "text": [
      "Info: Params [ 0.45731645 -1.33119959  0.92560006  0.26621943  0.87389252  0.87311331] gave 147.82348319851428\n"
     ]
    },
    {
     "name": "stdout",
     "output_type": "stream",
     "text": [
      "113\n"
     ]
    },
    {
     "name": "stderr",
     "output_type": "stream",
     "text": [
      "Info: Params [ 0.21497468 -0.62915301  1.57328316  0.16673296  0.97140213  0.94808481] gave 251.9353531292562\n"
     ]
    },
    {
     "name": "stdout",
     "output_type": "stream",
     "text": [
      "114\n"
     ]
    },
    {
     "name": "stderr",
     "output_type": "stream",
     "text": [
      "Info: Params [ 0.22357089 -0.70807553  1.41463443  0.26954667  0.9892818   0.91773296] gave 254.8828212653344\n"
     ]
    },
    {
     "name": "stdout",
     "output_type": "stream",
     "text": [
      "115\n"
     ]
    },
    {
     "name": "stderr",
     "output_type": "stream",
     "text": [
      "Info: Params [ 0.         -1.40264452  0.84372692  0.49513526  0.81045733  0.85824286] gave 148.51284741916479\n"
     ]
    },
    {
     "name": "stdout",
     "output_type": "stream",
     "text": [
      "116\n"
     ]
    },
    {
     "name": "stderr",
     "output_type": "stream",
     "text": [
      "Info: Params [ 0.         -0.66427322  1.1084021   0.01649105  0.25099384  0.22306791] gave 229.933549913839\n"
     ]
    },
    {
     "name": "stdout",
     "output_type": "stream",
     "text": [
      "117\n"
     ]
    },
    {
     "name": "stderr",
     "output_type": "stream",
     "text": [
      "Info: Params [ 0.         -1.0240455   1.48932608  0.24614425  0.9096296   0.91728032] gave 233.04796843881957\n"
     ]
    },
    {
     "name": "stdout",
     "output_type": "stream",
     "text": [
      "118\n"
     ]
    },
    {
     "name": "stderr",
     "output_type": "stream",
     "text": [
      "Info: Params [ 1.15430311 -0.55920795  0.97323469  0.1300348   0.73884127  0.61495059] gave 183.98785192419996\n"
     ]
    },
    {
     "name": "stdout",
     "output_type": "stream",
     "text": [
      "119\n"
     ]
    },
    {
     "name": "stderr",
     "output_type": "stream",
     "text": [
      "Info: Params [ 0.09850549 -0.71356784  1.45228803  0.27382095  0.94927528  0.95110441] gave 248.353123246169\n"
     ]
    },
    {
     "name": "stdout",
     "output_type": "stream",
     "text": [
      "120\n"
     ]
    },
    {
     "name": "stderr",
     "output_type": "stream",
     "text": [
      "Info: Params [ 0.         -1.14391718  1.52068919  0.24072406  0.97430484  0.9063259 ] gave 236.49828295120722\n"
     ]
    },
    {
     "name": "stdout",
     "output_type": "stream",
     "text": [
      "121\n"
     ]
    },
    {
     "name": "stderr",
     "output_type": "stream",
     "text": [
      "Info: Params [ 0.13554549 -1.7655164   0.8452224   0.27577367  0.8189082   0.87251364] gave 147.08690122161437\n"
     ]
    },
    {
     "name": "stdout",
     "output_type": "stream",
     "text": [
      "122\n"
     ]
    },
    {
     "name": "stderr",
     "output_type": "stream",
     "text": [
      "Info: Params [ 0.0892164  -1.74724377  0.90302087  0.2432105   0.96707907  0.92365094] gave 155.98330948130132\n"
     ]
    },
    {
     "name": "stdout",
     "output_type": "stream",
     "text": [
      "123\n"
     ]
    },
    {
     "name": "stderr",
     "output_type": "stream",
     "text": [
      "Info: Params [ 0.         -0.62122508  1.37999982  0.18121998  0.94505558  0.92935202] gave 263.70902788018805\n"
     ]
    },
    {
     "name": "stdout",
     "output_type": "stream",
     "text": [
      "124\n"
     ]
    },
    {
     "name": "stderr",
     "output_type": "stream",
     "text": [
      "Info: Params [ 1.19007026 -0.71123124  0.59679448  0.24322813  0.73607728  0.65863217] gave 109.66303426090074\n"
     ]
    },
    {
     "name": "stdout",
     "output_type": "stream",
     "text": [
      "125\n"
     ]
    },
    {
     "name": "stderr",
     "output_type": "stream",
     "text": [
      "Info: Params [ 0.19201976 -0.79600951  1.41617701  0.31178632  0.99855681  0.93676665] gave 245.29088275736856\n"
     ]
    },
    {
     "name": "stdout",
     "output_type": "stream",
     "text": [
      "126\n"
     ]
    },
    {
     "name": "stderr",
     "output_type": "stream",
     "text": [
      "Info: Params [ 0.09953076 -0.89388102  1.62230418  0.35570355  0.92996496  0.95929414] gave 248.30275223435507\n"
     ]
    },
    {
     "name": "stdout",
     "output_type": "stream",
     "text": [
      "127\n"
     ]
    },
    {
     "name": "stderr",
     "output_type": "stream",
     "text": [
      "Info: Params [ 0.10337965 -1.1587401   1.12367876  0.45052257  0.75104656  0.73193169] gave 198.54159758077333\n"
     ]
    },
    {
     "name": "stdout",
     "output_type": "stream",
     "text": [
      "128\n"
     ]
    },
    {
     "name": "stderr",
     "output_type": "stream",
     "text": [
      "Info: Params [ 0.08260371 -1.17168361  0.90909727  0.31959787  0.80126715  0.96505316] gave 180.63781577824005\n"
     ]
    },
    {
     "name": "stdout",
     "output_type": "stream",
     "text": [
      "129\n"
     ]
    },
    {
     "name": "stderr",
     "output_type": "stream",
     "text": [
      "Info: Params [ 0.         -1.15412172  1.18869761  0.55206304  0.75023534  0.85211151] gave 189.8948430040412\n"
     ]
    },
    {
     "name": "stdout",
     "output_type": "stream",
     "text": [
      "130\n"
     ]
    },
    {
     "name": "stderr",
     "output_type": "stream",
     "text": [
      "Info: Params [ 0.00467568 -1.14804364  1.16315566  0.48820915  0.6291275   0.72268472] gave 185.58199607779648\n"
     ]
    },
    {
     "name": "stdout",
     "output_type": "stream",
     "text": [
      "131\n"
     ]
    },
    {
     "name": "stderr",
     "output_type": "stream",
     "text": [
      "Info: Params [ 0.0788908  -1.41018665  1.14805343  0.41721796  0.64777836  0.77060134] gave 192.04392542693046\n"
     ]
    },
    {
     "name": "stdout",
     "output_type": "stream",
     "text": [
      "132\n"
     ]
    },
    {
     "name": "stderr",
     "output_type": "stream",
     "text": [
      "Info: Params [ 0.         -1.39204278  1.92751301  0.61048963  0.98033416  0.96348126] gave 217.34780106775196\n"
     ]
    },
    {
     "name": "stdout",
     "output_type": "stream",
     "text": [
      "133\n"
     ]
    },
    {
     "name": "stderr",
     "output_type": "stream",
     "text": [
      "Info: Params [ 0.72951743 -0.86896188  0.89275391  0.08224076  0.97389402  0.94552152] gave 167.81691808424483\n"
     ]
    },
    {
     "name": "stdout",
     "output_type": "stream",
     "text": [
      "134\n"
     ]
    },
    {
     "name": "stderr",
     "output_type": "stream",
     "text": [
      "Info: Params [ 1.32950601 -1.10753759  0.56602489  0.1051958   0.42951916  0.53788754] gave 69.44623437841125\n"
     ]
    },
    {
     "name": "stdout",
     "output_type": "stream",
     "text": [
      "135\n"
     ]
    },
    {
     "name": "stderr",
     "output_type": "stream",
     "text": [
      "Info: Params [ 0.2689238  -1.1786569   0.61443927  0.33052843  0.79366597  0.69870842] gave 88.89801262079057\n"
     ]
    },
    {
     "name": "stdout",
     "output_type": "stream",
     "text": [
      "136\n"
     ]
    },
    {
     "name": "stderr",
     "output_type": "stream",
     "text": [
      "Info: Params [ 0.58648101 -0.98137527  1.19518587  0.07943236  0.60322797  0.84210493] gave 209.54465167378157\n"
     ]
    },
    {
     "name": "stdout",
     "output_type": "stream",
     "text": [
      "137\n"
     ]
    },
    {
     "name": "stderr",
     "output_type": "stream",
     "text": [
      "Info: Params [ 0.49189096 -0.73888406  1.03087905  0.30685784  0.74163271  0.82293738] gave 209.9391866530695\n"
     ]
    },
    {
     "name": "stdout",
     "output_type": "stream",
     "text": [
      "138\n"
     ]
    },
    {
     "name": "stderr",
     "output_type": "stream",
     "text": [
      "Info: Params [ 0.13944253 -1.32623155  1.23384715  0.20163926  0.62384529  0.93159544] gave 216.62264672908296\n"
     ]
    },
    {
     "name": "stdout",
     "output_type": "stream",
     "text": [
      "139\n"
     ]
    },
    {
     "name": "stderr",
     "output_type": "stream",
     "text": [
      "Info: Params [ 0.52676695 -0.8616732   1.12211193  0.17199548  0.77643345  0.86171427] gave 214.02366778608757\n"
     ]
    },
    {
     "name": "stdout",
     "output_type": "stream",
     "text": [
      "140\n"
     ]
    },
    {
     "name": "stderr",
     "output_type": "stream",
     "text": [
      "Info: Params [ 0.24856164 -0.61719464  0.81322757  0.20097726  0.98591923  0.81873716] gave 189.43080447925524\n"
     ]
    },
    {
     "name": "stdout",
     "output_type": "stream",
     "text": [
      "141\n"
     ]
    },
    {
     "name": "stderr",
     "output_type": "stream",
     "text": [
      "Info: Params [ 0.         -1.47393077  0.62129882  0.17296677  0.82851211  0.72958551] gave 108.4428901571577\n"
     ]
    },
    {
     "name": "stdout",
     "output_type": "stream",
     "text": [
      "142\n"
     ]
    },
    {
     "name": "stderr",
     "output_type": "stream",
     "text": [
      "Info: Params [ 0.17780947 -0.70014153  1.29797381  0.06690061  0.83489722  0.98882231] gave 265.0193368442684\n"
     ]
    },
    {
     "name": "stdout",
     "output_type": "stream",
     "text": [
      "143\n"
     ]
    },
    {
     "name": "stderr",
     "output_type": "stream",
     "text": [
      "Info: Params [ 0.60578201 -0.73660518  1.01345859  0.39084987  0.42615928  0.41881646] gave 180.57854534179444\n"
     ]
    },
    {
     "name": "stdout",
     "output_type": "stream",
     "text": [
      "144\n"
     ]
    },
    {
     "name": "stderr",
     "output_type": "stream",
     "text": [
      "Info: Params [ 0.25818136 -0.95641825  1.10647062  0.43683581  0.89514439  0.71218681] gave 198.5120951564317\n"
     ]
    },
    {
     "name": "stdout",
     "output_type": "stream",
     "text": [
      "145\n"
     ]
    },
    {
     "name": "stderr",
     "output_type": "stream",
     "text": [
      "Info: Params [ 0.         -0.94790864  1.15622779  0.57065364  0.67686971  0.76754599] gave 206.63260054126465\n"
     ]
    },
    {
     "name": "stdout",
     "output_type": "stream",
     "text": [
      "146\n"
     ]
    },
    {
     "name": "stderr",
     "output_type": "stream",
     "text": [
      "Info: Params [ 0.         -1.47323353  1.080421    0.32275222  0.75770698  0.96901889] gave 185.60025067941245\n"
     ]
    },
    {
     "name": "stdout",
     "output_type": "stream",
     "text": [
      "147\n"
     ]
    },
    {
     "name": "stderr",
     "output_type": "stream",
     "text": [
      "Info: Params [ 0.1532579  -0.85313728  1.36367138  0.40182116  0.84326831  0.75852873] gave 244.5371659571955\n"
     ]
    },
    {
     "name": "stdout",
     "output_type": "stream",
     "text": [
      "148\n"
     ]
    },
    {
     "name": "stderr",
     "output_type": "stream",
     "text": [
      "Info: Params [ 0.18414738 -1.19076546  1.34711774  0.30849569  0.64164692  0.9380995 ] gave 232.62906407058716\n"
     ]
    },
    {
     "name": "stdout",
     "output_type": "stream",
     "text": [
      "149\n"
     ]
    },
    {
     "name": "stderr",
     "output_type": "stream",
     "text": [
      "Info: Params [ 0.09857488 -0.91892155  1.77977995  0.5822441   0.75880051  0.98746634] gave 228.12403138935647\n"
     ]
    },
    {
     "name": "stdout",
     "output_type": "stream",
     "text": [
      "150\n"
     ]
    },
    {
     "name": "stderr",
     "output_type": "stream",
     "text": [
      "Info: Params [ 0.31637614 -0.81508587  0.92968605  0.29306749  0.70773349  0.66367738] gave 192.03091583543318\n"
     ]
    },
    {
     "name": "stdout",
     "output_type": "stream",
     "text": [
      "151\n"
     ]
    },
    {
     "name": "stderr",
     "output_type": "stream",
     "text": [
      "Info: Params [ 0.         -1.32207526  1.35190258  0.47828092  0.93644043  0.94183753] gave 200.49978372658495\n"
     ]
    },
    {
     "name": "stdout",
     "output_type": "stream",
     "text": [
      "152\n"
     ]
    },
    {
     "name": "stderr",
     "output_type": "stream",
     "text": [
      "Info: Params [ 0.         -1.10921513  0.98412045  0.24838124  0.93881175  0.98491424] gave 193.9037150211691\n"
     ]
    },
    {
     "name": "stdout",
     "output_type": "stream",
     "text": [
      "153\n"
     ]
    },
    {
     "name": "stderr",
     "output_type": "stream",
     "text": [
      "Info: Params [ 0.49523583 -1.07839975  0.83682163 -0.07307697  0.61735024  0.69442503] gave 167.52493593841297\n"
     ]
    },
    {
     "name": "stdout",
     "output_type": "stream",
     "text": [
      "154\n"
     ]
    },
    {
     "name": "stderr",
     "output_type": "stream",
     "text": [
      "Info: Params [ 0.50570125 -1.24163122  0.7842893   0.31895473  0.99023106  0.97048804] gave 124.47216827311618\n"
     ]
    },
    {
     "name": "stdout",
     "output_type": "stream",
     "text": [
      "155\n"
     ]
    },
    {
     "name": "stderr",
     "output_type": "stream",
     "text": [
      "Info: Params [ 0.34490974 -0.94314939  0.82080739  0.02291416  0.77496791  0.80206717] gave 158.35810703074299\n"
     ]
    },
    {
     "name": "stdout",
     "output_type": "stream",
     "text": [
      "156\n"
     ]
    },
    {
     "name": "stderr",
     "output_type": "stream",
     "text": [
      "Info: Params [ 0.43533115 -0.62220902  1.51789862  0.34921565  0.88095484  0.92903884] gave 260.3756455327991\n"
     ]
    },
    {
     "name": "stdout",
     "output_type": "stream",
     "text": [
      "157\n"
     ]
    },
    {
     "name": "stderr",
     "output_type": "stream",
     "text": [
      "Info: Params [ 0.         -1.3057473   1.02799792  0.36073622  0.74501437  0.77612303] gave 185.4182346856324\n"
     ]
    },
    {
     "name": "stdout",
     "output_type": "stream",
     "text": [
      "158\n"
     ]
    },
    {
     "name": "stderr",
     "output_type": "stream",
     "text": [
      "Info: Params [ 0.26838311 -0.7332721   1.22274575  0.26638801  0.95445657  0.90920319] gave 234.81867789156496\n"
     ]
    },
    {
     "name": "stdout",
     "output_type": "stream",
     "text": [
      "159\n"
     ]
    },
    {
     "name": "stderr",
     "output_type": "stream",
     "text": [
      "Info: Params [ 0.43583436 -0.39737733  1.00034109  0.23144304  0.84459128  0.88418182] gave 218.41322077009795\n"
     ]
    },
    {
     "name": "stdout",
     "output_type": "stream",
     "text": [
      "160\n"
     ]
    },
    {
     "name": "stderr",
     "output_type": "stream",
     "text": [
      "Info: Params [ 0.11564853 -0.78748941  1.36258447  0.3115534   0.91805427  0.91746469] gave 251.1160915963739\n"
     ]
    },
    {
     "name": "stdout",
     "output_type": "stream",
     "text": [
      "161\n"
     ]
    },
    {
     "name": "stderr",
     "output_type": "stream",
     "text": [
      "Info: Params [ 0.71594927 -1.79029635  0.61627209  0.22936027  0.75562523  0.95027931] gave 80.65870857409399\n"
     ]
    },
    {
     "name": "stdout",
     "output_type": "stream",
     "text": [
      "162\n"
     ]
    },
    {
     "name": "stderr",
     "output_type": "stream",
     "text": [
      "Info: Params [ 0.53919977 -1.04084     1.02249633  0.4513545   0.97068325  0.98036987] gave 152.06449669825395\n"
     ]
    },
    {
     "name": "stdout",
     "output_type": "stream",
     "text": [
      "163\n"
     ]
    },
    {
     "name": "stderr",
     "output_type": "stream",
     "text": [
      "Info: Params [ 0.48056004 -1.32531501  0.6980206   0.45708035  0.63949813  0.61493186] gave 106.71691559109645\n"
     ]
    },
    {
     "name": "stdout",
     "output_type": "stream",
     "text": [
      "164\n"
     ]
    },
    {
     "name": "stderr",
     "output_type": "stream",
     "text": [
      "Info: Params [ 0.         -0.50022049  1.35772639  0.16823618  0.98266357  0.82972348] gave 275.8698480393391\n"
     ]
    },
    {
     "name": "stdout",
     "output_type": "stream",
     "text": [
      "165\n"
     ]
    },
    {
     "name": "stderr",
     "output_type": "stream",
     "text": [
      "Info: Params [ 0.25608119 -0.55617822  0.89132173  0.07701706  0.66496127  0.68937855] gave 206.5325697884246\n"
     ]
    },
    {
     "name": "stdout",
     "output_type": "stream",
     "text": [
      "166\n"
     ]
    },
    {
     "name": "stderr",
     "output_type": "stream",
     "text": [
      "Info: Params [ 0.         -0.87298962  1.44168932  0.64232364  0.70709804  0.77330173] gave 238.97580918006486\n"
     ]
    },
    {
     "name": "stdout",
     "output_type": "stream",
     "text": [
      "167\n"
     ]
    },
    {
     "name": "stderr",
     "output_type": "stream",
     "text": [
      "Info: Params [ 0.34731898 -0.86832556  1.00084004  0.17233002  0.41879113  0.33731967] gave 203.03851947791028\n"
     ]
    },
    {
     "name": "stdout",
     "output_type": "stream",
     "text": [
      "168\n"
     ]
    },
    {
     "name": "stderr",
     "output_type": "stream",
     "text": [
      "Info: Params [ 5.53054158e-01 -5.55220390e-01  1.18888125e+00  3.81785562e-04\n",
      "  8.93064438e-01  9.82405432e-01] gave 219.8544032658428\n"
     ]
    },
    {
     "name": "stdout",
     "output_type": "stream",
     "text": [
      "169\n"
     ]
    },
    {
     "name": "stderr",
     "output_type": "stream",
     "text": [
      "Info: Params [ 0.16883435 -0.76716166  1.19078977  0.20357708  0.68230204  0.97307516] gave 247.42228212504148\n"
     ]
    },
    {
     "name": "stdout",
     "output_type": "stream",
     "text": [
      "170\n"
     ]
    },
    {
     "name": "stderr",
     "output_type": "stream",
     "text": [
      "Info: Params [ 0.13639133 -1.33889528  0.71702152  0.26479756  0.71377433  0.87553109] gave 163.45677111759807\n"
     ]
    },
    {
     "name": "stdout",
     "output_type": "stream",
     "text": [
      "171\n"
     ]
    },
    {
     "name": "stderr",
     "output_type": "stream",
     "text": [
      "Info: Params [ 0.75444761 -0.90639528  0.82336506 -0.07844478  0.91329273  0.97086624] gave 144.2906461248907\n"
     ]
    },
    {
     "name": "stdout",
     "output_type": "stream",
     "text": [
      "172\n"
     ]
    },
    {
     "name": "stderr",
     "output_type": "stream",
     "text": [
      "Info: Params [ 0.54760138 -1.22862049  0.66312655  0.30366105  0.79280944  0.86207656] gave 91.97374763137597\n"
     ]
    },
    {
     "name": "stdout",
     "output_type": "stream",
     "text": [
      "173\n"
     ]
    },
    {
     "name": "stderr",
     "output_type": "stream",
     "text": [
      "Info: Params [ 0.         -1.08535756  1.20016225  0.4441586   0.86485892  0.75417247] gave 229.33800451183873\n"
     ]
    },
    {
     "name": "stdout",
     "output_type": "stream",
     "text": [
      "174\n"
     ]
    },
    {
     "name": "stderr",
     "output_type": "stream",
     "text": [
      "Info: Params [ 0.         -0.84323989  1.64191498  0.38452282  0.91231362  0.97622121] gave 245.2374840141817\n"
     ]
    },
    {
     "name": "stdout",
     "output_type": "stream",
     "text": [
      "175\n"
     ]
    },
    {
     "name": "stderr",
     "output_type": "stream",
     "text": [
      "Info: Params [ 0.         -1.21331129  1.22230478  0.17467729  0.77466554  0.78872021] gave 232.83381674089918\n"
     ]
    },
    {
     "name": "stdout",
     "output_type": "stream",
     "text": [
      "176\n"
     ]
    },
    {
     "name": "stderr",
     "output_type": "stream",
     "text": [
      "Info: Params [ 0.21268313 -1.07658137  1.11644776  0.31542186  0.67900727  0.66748103] gave 211.25093817926495\n"
     ]
    },
    {
     "name": "stdout",
     "output_type": "stream",
     "text": [
      "177\n"
     ]
    },
    {
     "name": "stderr",
     "output_type": "stream",
     "text": [
      "Info: Params [ 0.43766251 -0.54726546  1.11176738  0.35309838  0.81636243  0.80575249] gave 199.88437955366976\n"
     ]
    },
    {
     "name": "stdout",
     "output_type": "stream",
     "text": [
      "178\n"
     ]
    },
    {
     "name": "stderr",
     "output_type": "stream",
     "text": [
      "Info: Params [ 0.51772597 -0.86925731  1.31192028  0.27949487  0.90019743  0.9234488 ] gave 212.5022900973156\n"
     ]
    },
    {
     "name": "stdout",
     "output_type": "stream",
     "text": [
      "179\n"
     ]
    },
    {
     "name": "stderr",
     "output_type": "stream",
     "text": [
      "Info: Params [ 0.06740311 -1.1701324   1.44591104  0.4548128   0.92852424  0.91556717] gave 229.69349465102687\n"
     ]
    },
    {
     "name": "stdout",
     "output_type": "stream",
     "text": [
      "180\n"
     ]
    },
    {
     "name": "stderr",
     "output_type": "stream",
     "text": [
      "Info: Params [ 0.         -0.3530439   1.30800432  0.12027987  0.9871924   0.97665215] gave 263.47921280497314\n"
     ]
    },
    {
     "name": "stdout",
     "output_type": "stream",
     "text": [
      "181\n"
     ]
    },
    {
     "name": "stderr",
     "output_type": "stream",
     "text": [
      "Info: Params [ 0.         -1.85404409  0.87348325  0.59675017  0.84356403  0.80927075] gave 106.30504914111715\n"
     ]
    },
    {
     "name": "stdout",
     "output_type": "stream",
     "text": [
      "182\n"
     ]
    },
    {
     "name": "stderr",
     "output_type": "stream",
     "text": [
      "Info: Params [ 0.4271546  -0.7942545   1.20602546  0.15139515  0.97799769  0.99539194] gave 212.05326023102435\n"
     ]
    },
    {
     "name": "stdout",
     "output_type": "stream",
     "text": [
      "183\n"
     ]
    },
    {
     "name": "stderr",
     "output_type": "stream",
     "text": [
      "Info: Params [ 1.0035023  -0.59247544  1.06957987  0.2645616   0.65007801  0.72009761] gave 177.74743807962446\n"
     ]
    },
    {
     "name": "stdout",
     "output_type": "stream",
     "text": [
      "184\n"
     ]
    },
    {
     "name": "stderr",
     "output_type": "stream",
     "text": [
      "Info: Params [ 0.43299071 -0.58720418  1.16498159  0.22110908  0.78859087  0.80590176] gave 246.36352202507277\n"
     ]
    },
    {
     "name": "stdout",
     "output_type": "stream",
     "text": [
      "185\n"
     ]
    },
    {
     "name": "stderr",
     "output_type": "stream",
     "text": [
      "Info: Params [ 1.05792125 -0.60939963  0.91224141 -0.01522173  0.94865004  0.97820933] gave 146.44807807083384\n"
     ]
    },
    {
     "name": "stdout",
     "output_type": "stream",
     "text": [
      "186\n"
     ]
    },
    {
     "name": "stderr",
     "output_type": "stream",
     "text": [
      "Info: Params [ 0.         -1.69063747  0.91025442  0.30128795  0.9475976   0.92242331] gave 148.3901947703328\n"
     ]
    },
    {
     "name": "stdout",
     "output_type": "stream",
     "text": [
      "187\n"
     ]
    },
    {
     "name": "stderr",
     "output_type": "stream",
     "text": [
      "Info: Params [ 0.58596885 -1.00274654  0.91159857  0.14787463  0.63039944  0.7551411 ] gave 185.68699993122823\n"
     ]
    },
    {
     "name": "stdout",
     "output_type": "stream",
     "text": [
      "188\n"
     ]
    },
    {
     "name": "stderr",
     "output_type": "stream",
     "text": [
      "Info: Params [ 0.01379496 -1.18081442  1.07166774  0.3729788   0.92234628  0.91311368] gave 210.34812405979898\n"
     ]
    },
    {
     "name": "stdout",
     "output_type": "stream",
     "text": [
      "189\n"
     ]
    },
    {
     "name": "stderr",
     "output_type": "stream",
     "text": [
      "Info: Params [ 0.53970561 -0.25509335  1.59281542  0.07485789  0.90077451  0.93662036] gave 270.263732129927\n"
     ]
    },
    {
     "name": "stdout",
     "output_type": "stream",
     "text": [
      "190\n"
     ]
    },
    {
     "name": "stderr",
     "output_type": "stream",
     "text": [
      "Info: Params [ 0.         -1.54186115  1.26998626  0.33177018  0.89907326  0.93403865] gave 201.68484590141702\n"
     ]
    },
    {
     "name": "stdout",
     "output_type": "stream",
     "text": [
      "191\n"
     ]
    },
    {
     "name": "stderr",
     "output_type": "stream",
     "text": [
      "Info: Params [ 0.         -1.36735688  1.20232743  0.53824529  0.81954828  0.79976607] gave 201.26258599876658\n"
     ]
    },
    {
     "name": "stdout",
     "output_type": "stream",
     "text": [
      "192\n"
     ]
    },
    {
     "name": "stderr",
     "output_type": "stream",
     "text": [
      "Info: Params [ 0.09534836 -1.05470687  0.98188272  0.09120013  0.4700523   0.70188785] gave 205.6269619017172\n"
     ]
    },
    {
     "name": "stdout",
     "output_type": "stream",
     "text": [
      "193\n"
     ]
    },
    {
     "name": "stderr",
     "output_type": "stream",
     "text": [
      "Info: Params [ 0.30514007 -1.08808758  1.0210368   0.3602541   0.77916551  0.81258722] gave 198.01190221768974\n"
     ]
    },
    {
     "name": "stdout",
     "output_type": "stream",
     "text": [
      "194\n"
     ]
    },
    {
     "name": "stderr",
     "output_type": "stream",
     "text": [
      "Info: Params [ 0.24743002 -1.43900274  0.93845369  0.26727808  0.94909369  0.97321253] gave 158.70536164594097\n"
     ]
    },
    {
     "name": "stdout",
     "output_type": "stream",
     "text": [
      "195\n"
     ]
    },
    {
     "name": "stderr",
     "output_type": "stream",
     "text": [
      "Info: Params [ 0.         -1.03714754  1.21107081  0.45918388  0.84045656  0.9883317 ] gave 222.9991739334539\n"
     ]
    },
    {
     "name": "stdout",
     "output_type": "stream",
     "text": [
      "196\n"
     ]
    },
    {
     "name": "stderr",
     "output_type": "stream",
     "text": [
      "Info: Params [ 0.         -1.62592652  1.2276635   0.24941245  0.93937132  0.98440808] gave 196.01524419123365\n"
     ]
    },
    {
     "name": "stdout",
     "output_type": "stream",
     "text": [
      "197\n"
     ]
    },
    {
     "name": "stderr",
     "output_type": "stream",
     "text": [
      "Info: Params [ 0.73610379 -0.69883828  0.9631641   0.04360074  0.77142793  0.87861956] gave 192.61639612706676\n"
     ]
    },
    {
     "name": "stdout",
     "output_type": "stream",
     "text": [
      "198\n"
     ]
    },
    {
     "name": "stderr",
     "output_type": "stream",
     "text": [
      "Info: Params [ 0.40068145 -0.58327151  1.28694702  0.49755149  0.75722033  0.96297414] gave 225.15985469878245\n"
     ]
    },
    {
     "name": "stdout",
     "output_type": "stream",
     "text": [
      "199\n"
     ]
    },
    {
     "name": "stderr",
     "output_type": "stream",
     "text": [
      "Info: Params [ 0.         -0.76428013  1.15963953  0.34213926  0.8544733   0.78059607] gave 231.5191421546144\n"
     ]
    },
    {
     "name": "stdout",
     "output_type": "stream",
     "text": [
      "200\n"
     ]
    },
    {
     "name": "stderr",
     "output_type": "stream",
     "text": [
      "Info: Params [ 0.41686932 -1.00478571  1.0468      0.28763207  0.87770345  0.96776354] gave 183.81100550664362\n"
     ]
    },
    {
     "name": "stdout",
     "output_type": "stream",
     "text": [
      "201\n"
     ]
    },
    {
     "name": "stderr",
     "output_type": "stream",
     "text": [
      "Info: Params [ 0.52053859 -0.61553681  1.54435251  0.04284652  0.95987267  0.92272091] gave 247.19388369264712\n"
     ]
    },
    {
     "name": "stdout",
     "output_type": "stream",
     "text": [
      "202\n"
     ]
    },
    {
     "name": "stderr",
     "output_type": "stream",
     "text": [
      "Info: Params [ 0.35403234 -2.74248484  0.82499223  0.43510839  0.69583282  0.73392057] gave 103.75083863004464\n"
     ]
    },
    {
     "name": "stdout",
     "output_type": "stream",
     "text": [
      "203\n"
     ]
    },
    {
     "name": "stderr",
     "output_type": "stream",
     "text": [
      "Info: Params [ 0.27626133 -0.66527487  1.40611879  0.35239289  0.99576212  0.93308842] gave 205.24870704667876\n"
     ]
    },
    {
     "name": "stdout",
     "output_type": "stream",
     "text": [
      "204\n"
     ]
    },
    {
     "name": "stderr",
     "output_type": "stream",
     "text": [
      "Info: Params [ 0.27159042 -0.56386858  1.57102709  0.36799325  0.93161306  0.91937625] gave 267.30678613370986\n"
     ]
    },
    {
     "name": "stdout",
     "output_type": "stream",
     "text": [
      "205\n"
     ]
    },
    {
     "name": "stderr",
     "output_type": "stream",
     "text": [
      "Info: Params [ 0.87661538 -0.82854607  1.40382305  0.17304922  0.93789729  0.94892482] gave 206.96977623024645\n"
     ]
    },
    {
     "name": "stdout",
     "output_type": "stream",
     "text": [
      "206\n"
     ]
    },
    {
     "name": "stderr",
     "output_type": "stream",
     "text": [
      "Info: Params [ 0.36106939 -0.97255244  1.29233036  0.16178703  0.71017322  0.78456443] gave 231.7916846275345\n"
     ]
    },
    {
     "name": "stdout",
     "output_type": "stream",
     "text": [
      "207\n"
     ]
    },
    {
     "name": "stderr",
     "output_type": "stream",
     "text": [
      "Info: Params [ 0.25891649 -1.15822172  0.84931199  0.28941827  0.83248605  0.97330036] gave 167.8261907206169\n"
     ]
    },
    {
     "name": "stdout",
     "output_type": "stream",
     "text": [
      "208\n"
     ]
    },
    {
     "name": "stderr",
     "output_type": "stream",
     "text": [
      "Info: Params [ 0.25799629 -0.97230234  1.13459742  0.35659903  0.89238187  0.92527676] gave 215.5153898451283\n"
     ]
    },
    {
     "name": "stdout",
     "output_type": "stream",
     "text": [
      "209\n"
     ]
    },
    {
     "name": "stderr",
     "output_type": "stream",
     "text": [
      "Info: Params [ 0.28343175 -0.98151291  1.22961508  0.29310852  0.93402941  0.94508922] gave 207.69549033776272\n"
     ]
    },
    {
     "name": "stdout",
     "output_type": "stream",
     "text": [
      "210\n"
     ]
    },
    {
     "name": "stderr",
     "output_type": "stream",
     "text": [
      "Info: Params [ 0.69611711 -0.16425674  0.79915556  0.06419859  0.78951556  0.82247948] gave 164.14637705907455\n"
     ]
    },
    {
     "name": "stdout",
     "output_type": "stream",
     "text": [
      "211\n"
     ]
    },
    {
     "name": "stderr",
     "output_type": "stream",
     "text": [
      "Info: Params [ 0.02809011 -1.2532611   1.08120374  0.48784837  0.74960674  0.72987825] gave 193.86899657438678\n"
     ]
    },
    {
     "name": "stdout",
     "output_type": "stream",
     "text": [
      "212\n"
     ]
    },
    {
     "name": "stderr",
     "output_type": "stream",
     "text": [
      "Info: Params [ 0.3653211  -0.67012898  1.16331892  0.1158037   0.71800384  0.72857368] gave 225.73198769212\n"
     ]
    },
    {
     "name": "stdout",
     "output_type": "stream",
     "text": [
      "213\n"
     ]
    },
    {
     "name": "stderr",
     "output_type": "stream",
     "text": [
      "Info: Params [ 0.         -0.51103515  1.34402214  0.19311039  0.94687974  0.91098134] gave 270.36117263705773\n"
     ]
    },
    {
     "name": "stdout",
     "output_type": "stream",
     "text": [
      "214\n"
     ]
    },
    {
     "name": "stderr",
     "output_type": "stream",
     "text": [
      "Info: Params [ 0.4890069  -0.5368648   1.35610919 -0.03772987  0.98140985  0.98912358] gave 240.16090293955176\n"
     ]
    },
    {
     "name": "stdout",
     "output_type": "stream",
     "text": [
      "215\n"
     ]
    },
    {
     "name": "stderr",
     "output_type": "stream",
     "text": [
      "Info: Params [ 0.         -0.99116021  0.8961746   0.14537062  0.85074909  0.98175888] gave 182.5983308932502\n"
     ]
    },
    {
     "name": "stdout",
     "output_type": "stream",
     "text": [
      "216\n"
     ]
    },
    {
     "name": "stderr",
     "output_type": "stream",
     "text": [
      "Info: Params [ 0.0128812  -0.96357698  1.47601132  0.45970101  0.71289621  0.68805005] gave 234.46783262676007\n"
     ]
    },
    {
     "name": "stdout",
     "output_type": "stream",
     "text": [
      "217\n"
     ]
    },
    {
     "name": "stderr",
     "output_type": "stream",
     "text": [
      "Info: Params [ 0.69624398 -0.55721045  1.24905092 -0.16813644  0.92745596  0.95586594] gave 235.09972074291562\n"
     ]
    },
    {
     "name": "stdout",
     "output_type": "stream",
     "text": [
      "218\n"
     ]
    },
    {
     "name": "stderr",
     "output_type": "stream",
     "text": [
      "Info: Params [ 0.62003293 -0.4807166   1.30117039  0.13855678  0.92453327  0.9635488 ] gave 233.52433712231272\n"
     ]
    },
    {
     "name": "stdout",
     "output_type": "stream",
     "text": [
      "219\n"
     ]
    },
    {
     "name": "stderr",
     "output_type": "stream",
     "text": [
      "Info: Params [ 0.02882564 -1.06946272  1.19451753  0.55654895  0.74565301  0.71561621] gave 194.0918755858172\n"
     ]
    },
    {
     "name": "stdout",
     "output_type": "stream",
     "text": [
      "220\n"
     ]
    },
    {
     "name": "stderr",
     "output_type": "stream",
     "text": [
      "Info: Params [ 0.01730855 -1.31592501  1.40782983  0.30407383  0.96024227  0.96221798] gave 218.9262314732024\n"
     ]
    },
    {
     "name": "stdout",
     "output_type": "stream",
     "text": [
      "221\n"
     ]
    },
    {
     "name": "stderr",
     "output_type": "stream",
     "text": [
      "Info: Params [ 0.21916994 -0.95771766  0.83629978  0.4742139   0.74563893  0.75272443] gave 138.90331786892233\n"
     ]
    },
    {
     "name": "stdout",
     "output_type": "stream",
     "text": [
      "222\n"
     ]
    },
    {
     "name": "stderr",
     "output_type": "stream",
     "text": [
      "Info: Params [ 0.         -1.36800935  1.1761608   0.59628056  0.76556972  0.54225051] gave 179.67825466344658\n"
     ]
    },
    {
     "name": "stdout",
     "output_type": "stream",
     "text": [
      "223\n"
     ]
    },
    {
     "name": "stderr",
     "output_type": "stream",
     "text": [
      "Info: Params [ 0.01803907 -1.05320024  1.17180584  0.36538157  0.61787867  0.86206526] gave 218.70644951148472\n"
     ]
    },
    {
     "name": "stdout",
     "output_type": "stream",
     "text": [
      "224\n"
     ]
    },
    {
     "name": "stderr",
     "output_type": "stream",
     "text": [
      "Info: Params [ 1.03603853 -0.77021776  0.79566705  0.25051924  0.93800271  0.94741007] gave 121.46152850383757\n"
     ]
    },
    {
     "name": "stdout",
     "output_type": "stream",
     "text": [
      "225\n"
     ]
    },
    {
     "name": "stderr",
     "output_type": "stream",
     "text": [
      "Info: Params [ 0.10215061 -1.73882087  0.93211263  0.45123897  0.75241196  0.75952167] gave 134.6365897358894\n"
     ]
    },
    {
     "name": "stdout",
     "output_type": "stream",
     "text": [
      "226\n"
     ]
    },
    {
     "name": "stderr",
     "output_type": "stream",
     "text": [
      "Info: Params [ 0.         -2.14235063  0.86067736  0.51373697  0.81754007  0.82591515] gave 110.18023540613554\n"
     ]
    },
    {
     "name": "stdout",
     "output_type": "stream",
     "text": [
      "227\n"
     ]
    },
    {
     "name": "stderr",
     "output_type": "stream",
     "text": [
      "Info: Params [ 0.42787141 -1.1775772   0.96424725  0.19131059  0.75709711  0.83378868] gave 179.47434024761958\n"
     ]
    },
    {
     "name": "stdout",
     "output_type": "stream",
     "text": [
      "228\n"
     ]
    },
    {
     "name": "stderr",
     "output_type": "stream",
     "text": [
      "Info: Params [ 0.50221586 -1.4145148   0.76032549 -0.03214548  0.87684541  0.93545463] gave 127.24654056521892\n"
     ]
    },
    {
     "name": "stdout",
     "output_type": "stream",
     "text": [
      "229\n"
     ]
    },
    {
     "name": "stderr",
     "output_type": "stream",
     "text": [
      "Info: Params [ 0.0087994  -0.7322016   1.40896445  0.56344927  0.8648306   0.9714913 ] gave 239.87883942414155\n"
     ]
    },
    {
     "name": "stdout",
     "output_type": "stream",
     "text": [
      "230\n"
     ]
    },
    {
     "name": "stderr",
     "output_type": "stream",
     "text": [
      "Info: Params [ 0.04117731 -0.90223181  1.31831888  0.47606141  0.95254621  0.98424759] gave 236.04286760386674\n"
     ]
    },
    {
     "name": "stdout",
     "output_type": "stream",
     "text": [
      "231\n"
     ]
    },
    {
     "name": "stderr",
     "output_type": "stream",
     "text": [
      "Info: Params [ 0.25655803 -0.84434923  1.43311603  0.36724078  0.95385357  0.93098863] gave 253.26081811750987\n"
     ]
    },
    {
     "name": "stdout",
     "output_type": "stream",
     "text": [
      "232\n"
     ]
    },
    {
     "name": "stderr",
     "output_type": "stream",
     "text": [
      "Info: Params [ 0.24021438 -1.18502708  1.05134496  0.22571539  0.87976979  0.93155593] gave 192.82921552991988\n"
     ]
    },
    {
     "name": "stdout",
     "output_type": "stream",
     "text": [
      "233\n"
     ]
    },
    {
     "name": "stderr",
     "output_type": "stream",
     "text": [
      "Info: Params [ 0.76636349 -0.3626095   1.03127304 -0.05940434  0.70861574  0.96756006] gave 216.1944083230419\n"
     ]
    },
    {
     "name": "stdout",
     "output_type": "stream",
     "text": [
      "234\n"
     ]
    },
    {
     "name": "stderr",
     "output_type": "stream",
     "text": [
      "Info: Params [ 0.26198415 -0.57848504  1.72914998  0.22093811  0.94537157  0.95800729] gave 262.46072512765204\n"
     ]
    },
    {
     "name": "stdout",
     "output_type": "stream",
     "text": [
      "235\n"
     ]
    },
    {
     "name": "stderr",
     "output_type": "stream",
     "text": [
      "Info: Params [ 0.52710417 -0.71459178  1.62210962  0.08886363  0.98890311  0.95489264] gave 248.79012842233368\n"
     ]
    },
    {
     "name": "stdout",
     "output_type": "stream",
     "text": [
      "236\n"
     ]
    },
    {
     "name": "stderr",
     "output_type": "stream",
     "text": [
      "Info: Params [ 0.         -2.24746704  1.00257986  0.33238286  0.65501797  0.82363591] gave 154.35923410175053\n"
     ]
    },
    {
     "name": "stdout",
     "output_type": "stream",
     "text": [
      "237\n"
     ]
    },
    {
     "name": "stderr",
     "output_type": "stream",
     "text": [
      "Info: Params [ 1.27221124 -0.27796737  0.76408566 -0.2137005   0.65089983  0.75663811] gave 135.29270333640795\n"
     ]
    },
    {
     "name": "stdout",
     "output_type": "stream",
     "text": [
      "238\n"
     ]
    },
    {
     "name": "stderr",
     "output_type": "stream",
     "text": [
      "Info: Params [ 0.34788778 -0.60065258  0.99457144  0.04726642  0.77018847  0.93608135] gave 211.87065318706505\n"
     ]
    },
    {
     "name": "stdout",
     "output_type": "stream",
     "text": [
      "239\n"
     ]
    },
    {
     "name": "stderr",
     "output_type": "stream",
     "text": [
      "Info: Params [ 0.65585773 -0.3746493   0.96104408  0.03264844  0.79891648  0.86905614] gave 202.34622590672916\n"
     ]
    },
    {
     "name": "stdout",
     "output_type": "stream",
     "text": [
      "240\n"
     ]
    },
    {
     "name": "stderr",
     "output_type": "stream",
     "text": [
      "Info: Params [ 0.28902385 -1.35171303  1.03056188  0.27594677  0.90790691  0.9425636 ] gave 187.50263412059263\n"
     ]
    },
    {
     "name": "stdout",
     "output_type": "stream",
     "text": [
      "241\n"
     ]
    },
    {
     "name": "stderr",
     "output_type": "stream",
     "text": [
      "Info: Params [ 0.         -0.87624098  1.66386001  0.57820313  0.95152693  0.93166456] gave 215.39812526284604\n"
     ]
    },
    {
     "name": "stdout",
     "output_type": "stream",
     "text": [
      "242\n"
     ]
    },
    {
     "name": "stderr",
     "output_type": "stream",
     "text": [
      "Info: Params [ 0.         -1.3253418   1.3498995   0.27455879  0.90049632  0.99605177] gave 206.66623877051586\n"
     ]
    },
    {
     "name": "stdout",
     "output_type": "stream",
     "text": [
      "243\n"
     ]
    },
    {
     "name": "stderr",
     "output_type": "stream",
     "text": [
      "Info: Params [ 0.40674788 -0.99596012  0.88474273  0.38610904  0.53563251  0.5252115 ] gave 172.09582384893105\n"
     ]
    },
    {
     "name": "stdout",
     "output_type": "stream",
     "text": [
      "244\n"
     ]
    },
    {
     "name": "stderr",
     "output_type": "stream",
     "text": [
      "Info: Params [ 0.406433   -0.61084569  0.93764788  0.17147635  0.89111183  0.86492092] gave 209.00648083283346\n"
     ]
    },
    {
     "name": "stdout",
     "output_type": "stream",
     "text": [
      "245\n"
     ]
    },
    {
     "name": "stderr",
     "output_type": "stream",
     "text": [
      "Info: Params [ 0.35977126 -0.80238118  0.78194884  0.22478157  0.84871064  0.88785526] gave 171.45051350052614\n"
     ]
    },
    {
     "name": "stdout",
     "output_type": "stream",
     "text": [
      "246\n"
     ]
    },
    {
     "name": "stderr",
     "output_type": "stream",
     "text": [
      "Info: Params [ 0.27555121 -0.8067118   1.37561728  0.27865773  0.3257897   0.16486501] gave 217.1648791510563\n"
     ]
    },
    {
     "name": "stdout",
     "output_type": "stream",
     "text": [
      "247\n"
     ]
    },
    {
     "name": "stderr",
     "output_type": "stream",
     "text": [
      "Info: Params [ 0.45220381 -1.18902893  0.74512314  0.38830134  0.85408806  0.89040674] gave 119.54304282879936\n"
     ]
    },
    {
     "name": "stdout",
     "output_type": "stream",
     "text": [
      "248\n"
     ]
    },
    {
     "name": "stderr",
     "output_type": "stream",
     "text": [
      "Info: Params [ 1.65616697 -0.4910699   0.87480014 -0.28608561  0.49628861  0.58542199] gave 135.73029052294237\n"
     ]
    },
    {
     "name": "stdout",
     "output_type": "stream",
     "text": [
      "249\n"
     ]
    },
    {
     "name": "stderr",
     "output_type": "stream",
     "text": [
      "Info: Params [ 1.20883183 -0.42455545  0.95276819  0.1923082   0.64257727  0.64753308] gave 168.13070335454103\n"
     ]
    },
    {
     "name": "stdout",
     "output_type": "stream",
     "text": [
      "250\n"
     ]
    },
    {
     "name": "stderr",
     "output_type": "stream",
     "text": [
      "Info: Params [ 0.1433992  -0.76763275  1.45663296  0.47180452  0.87095226  0.9250485 ] gave 239.27484219343557\n"
     ]
    },
    {
     "name": "stdout",
     "output_type": "stream",
     "text": [
      "251\n"
     ]
    },
    {
     "name": "stderr",
     "output_type": "stream",
     "text": [
      "Info: Params [ 0.78212364 -0.45309655  1.12058374  0.01658824  0.87691039  0.95855237] gave 218.2232056494911\n"
     ]
    },
    {
     "name": "stdout",
     "output_type": "stream",
     "text": [
      "252\n"
     ]
    },
    {
     "name": "stderr",
     "output_type": "stream",
     "text": [
      "Info: Params [ 0.00736361 -1.10827165  1.36450928  0.28701328  0.9575197   0.93856481] gave 236.075434154873\n"
     ]
    },
    {
     "name": "stdout",
     "output_type": "stream",
     "text": [
      "253\n"
     ]
    },
    {
     "name": "stderr",
     "output_type": "stream",
     "text": [
      "Info: Params [ 0.22914571 -0.57189169  1.61274829  0.34985672  0.9792991   0.93751179] gave 265.2832277828702\n"
     ]
    },
    {
     "name": "stdout",
     "output_type": "stream",
     "text": [
      "254\n"
     ]
    },
    {
     "name": "stderr",
     "output_type": "stream",
     "text": [
      "Info: Params [ 0.         -1.25314312  1.35484888  0.66497663  0.77143191  0.72881539] gave 181.27931551789305\n"
     ]
    },
    {
     "name": "stdout",
     "output_type": "stream",
     "text": [
      "255\n"
     ]
    },
    {
     "name": "stderr",
     "output_type": "stream",
     "text": [
      "Info: Params [ 0.50119726 -0.80571954  1.44033152  0.10484857  0.73417895  0.86960915] gave 248.34429872625168\n"
     ]
    },
    {
     "name": "stdout",
     "output_type": "stream",
     "text": [
      "256\n"
     ]
    },
    {
     "name": "stderr",
     "output_type": "stream",
     "text": [
      "Info: Params [ 0.13343902 -1.53538521  0.76031991  0.36765589  0.74331766  0.80707528] gave 135.79695136024685\n"
     ]
    },
    {
     "name": "stdout",
     "output_type": "stream",
     "text": [
      "257\n"
     ]
    },
    {
     "name": "stderr",
     "output_type": "stream",
     "text": [
      "Info: Params [ 0.4079332  -0.95387921  1.52402223  0.039096    0.52191361  0.978068  ] gave 219.20934346551792\n"
     ]
    },
    {
     "name": "stdout",
     "output_type": "stream",
     "text": [
      "258\n"
     ]
    },
    {
     "name": "stderr",
     "output_type": "stream",
     "text": [
      "Info: Params [ 0.28083244 -1.80796057  0.79172641  0.3074127   0.83339389  0.83717939] gave 136.56968826332485\n"
     ]
    },
    {
     "name": "stdout",
     "output_type": "stream",
     "text": [
      "259\n"
     ]
    },
    {
     "name": "stderr",
     "output_type": "stream",
     "text": [
      "Info: Params [ 0.06142597 -1.02027034  1.45122314  0.07596442  0.94339552  0.93587418] gave 226.98920190100208\n"
     ]
    },
    {
     "name": "stdout",
     "output_type": "stream",
     "text": [
      "260\n"
     ]
    },
    {
     "name": "stderr",
     "output_type": "stream",
     "text": [
      "Info: Params [ 0.46062739 -0.76346366  1.07917756  0.09622439  0.95247897  0.95941623] gave 207.50451477394063\n"
     ]
    },
    {
     "name": "stdout",
     "output_type": "stream",
     "text": [
      "261\n"
     ]
    },
    {
     "name": "stderr",
     "output_type": "stream",
     "text": [
      "Info: Params [ 0.52461736 -0.23894486  1.28304758 -0.02020918  0.9152013   0.93710177] gave 220.77980824421215\n"
     ]
    },
    {
     "name": "stdout",
     "output_type": "stream",
     "text": [
      "262\n"
     ]
    },
    {
     "name": "stderr",
     "output_type": "stream",
     "text": [
      "Info: Params [ 0.63805919 -0.76680866  1.49790084  0.29328226  0.95649203  0.9435549 ] gave 217.38066399715098\n"
     ]
    },
    {
     "name": "stdout",
     "output_type": "stream",
     "text": [
      "263\n"
     ]
    },
    {
     "name": "stderr",
     "output_type": "stream",
     "text": [
      "Info: Params [ 0.22951237 -0.87488454  1.27808837 -0.01275865  0.99903016  0.95208978] gave 226.05433426254888\n"
     ]
    },
    {
     "name": "stdout",
     "output_type": "stream",
     "text": [
      "264\n"
     ]
    },
    {
     "name": "stderr",
     "output_type": "stream",
     "text": [
      "Info: Params [ 0.20346648 -1.06316241  1.1726301   0.10398301  0.834821    0.90049217] gave 226.2192400101597\n"
     ]
    },
    {
     "name": "stdout",
     "output_type": "stream",
     "text": [
      "265\n"
     ]
    },
    {
     "name": "stderr",
     "output_type": "stream",
     "text": [
      "Info: Params [ 0.121603   -1.14705173  0.76510673  0.1476661   0.97358223  0.90266673] gave 153.7108167181069\n"
     ]
    },
    {
     "name": "stdout",
     "output_type": "stream",
     "text": [
      "266\n"
     ]
    },
    {
     "name": "stderr",
     "output_type": "stream",
     "text": [
      "Info: Params [ 0.39975103 -1.44781041  1.17331022  0.03677047  0.90262725  0.9320081 ] gave 171.19058708615768\n"
     ]
    },
    {
     "name": "stdout",
     "output_type": "stream",
     "text": [
      "267\n"
     ]
    },
    {
     "name": "stderr",
     "output_type": "stream",
     "text": [
      "Info: Params [ 0.21077606 -0.69592223  1.38018003  0.17668914  0.75826126  0.94223079] gave 273.138289848462\n"
     ]
    },
    {
     "name": "stdout",
     "output_type": "stream",
     "text": [
      "268\n"
     ]
    },
    {
     "name": "stderr",
     "output_type": "stream",
     "text": [
      "Info: Params [ 0.19281951 -1.1097191   1.22065234  0.45353668  0.90868487  0.92053136] gave 206.40133396620809\n"
     ]
    },
    {
     "name": "stdout",
     "output_type": "stream",
     "text": [
      "269\n"
     ]
    },
    {
     "name": "stderr",
     "output_type": "stream",
     "text": [
      "Info: Params [ 0.25362404 -0.63460831  1.58487651  0.37584748  0.92165017  0.81385208] gave 243.26690645700316\n"
     ]
    },
    {
     "name": "stdout",
     "output_type": "stream",
     "text": [
      "270\n"
     ]
    },
    {
     "name": "stderr",
     "output_type": "stream",
     "text": [
      "Info: Params [ 0.07707805 -1.04356387  1.08628956  0.27427997  0.80360117  0.97123766] gave 211.29332523557034\n"
     ]
    },
    {
     "name": "stdout",
     "output_type": "stream",
     "text": [
      "271\n"
     ]
    },
    {
     "name": "stderr",
     "output_type": "stream",
     "text": [
      "Info: Params [ 0.85232572 -0.70344107  0.75356201  0.15208823  0.80953398  0.99426223] gave 123.84789610669743\n"
     ]
    },
    {
     "name": "stdout",
     "output_type": "stream",
     "text": [
      "272\n"
     ]
    },
    {
     "name": "stderr",
     "output_type": "stream",
     "text": [
      "Info: Params [ 0.17457804 -0.62173581  1.13599252  0.1496982   0.62410541  0.65817918] gave 248.59714577818949\n"
     ]
    },
    {
     "name": "stdout",
     "output_type": "stream",
     "text": [
      "273\n"
     ]
    },
    {
     "name": "stderr",
     "output_type": "stream",
     "text": [
      "Info: Params [ 0.0084201  -0.86970853  1.06133233  0.44637666  0.65170577  0.6252379 ] gave 198.79846659724421\n"
     ]
    },
    {
     "name": "stdout",
     "output_type": "stream",
     "text": [
      "274\n"
     ]
    },
    {
     "name": "stderr",
     "output_type": "stream",
     "text": [
      "Info: Params [ 0.         -1.00988212  1.3197635   0.38648662  0.61500171  0.97454175] gave 254.7592643871509\n"
     ]
    },
    {
     "name": "stdout",
     "output_type": "stream",
     "text": [
      "275\n"
     ]
    },
    {
     "name": "stderr",
     "output_type": "stream",
     "text": [
      "Info: Params [ 0.         -1.01932998  1.58165541  0.44223053  0.949114    0.97961707] gave 245.21605928241422\n"
     ]
    },
    {
     "name": "stdout",
     "output_type": "stream",
     "text": [
      "276\n"
     ]
    },
    {
     "name": "stderr",
     "output_type": "stream",
     "text": [
      "Info: Params [ 0.         -1.34075875  1.2013601   0.30831714  0.79032214  0.82381743] gave 218.7208315171257\n"
     ]
    },
    {
     "name": "stdout",
     "output_type": "stream",
     "text": [
      "277\n"
     ]
    },
    {
     "name": "stderr",
     "output_type": "stream",
     "text": [
      "Info: Params [ 0.08118043 -0.93826462  1.01027326  0.26385238  0.91796371  0.95047846] gave 190.4116834861564\n"
     ]
    },
    {
     "name": "stdout",
     "output_type": "stream",
     "text": [
      "278\n"
     ]
    },
    {
     "name": "stderr",
     "output_type": "stream",
     "text": [
      "Info: Params [ 0.77565422 -0.33381596  0.85052409 -0.06886452  0.68284714  0.61986384] gave 184.61162212759808\n"
     ]
    },
    {
     "name": "stdout",
     "output_type": "stream",
     "text": [
      "279\n"
     ]
    },
    {
     "name": "stderr",
     "output_type": "stream",
     "text": [
      "Info: Params [ 1.25882016 -0.23074511  1.52474882  0.02443598  0.97129646  0.94349122] gave 195.19071055348542\n"
     ]
    },
    {
     "name": "stdout",
     "output_type": "stream",
     "text": [
      "280\n"
     ]
    },
    {
     "name": "stderr",
     "output_type": "stream",
     "text": [
      "Info: Params [ 0.50284891 -0.65334765  1.43386779  0.13954795  0.89482447  0.97300168] gave 212.2095765505849\n"
     ]
    },
    {
     "name": "stdout",
     "output_type": "stream",
     "text": [
      "281\n"
     ]
    },
    {
     "name": "stderr",
     "output_type": "stream",
     "text": [
      "Info: Params [ 1.33908149 -0.24357608  0.90837381  0.07671534  0.61712954  0.70619969] gave 149.65392401936992\n"
     ]
    },
    {
     "name": "stdout",
     "output_type": "stream",
     "text": [
      "282\n"
     ]
    },
    {
     "name": "stderr",
     "output_type": "stream",
     "text": [
      "Info: Params [ 0.         -1.20076503  1.53144597  0.42825008  0.65229184  0.71997142] gave 246.98880891788866\n"
     ]
    },
    {
     "name": "stdout",
     "output_type": "stream",
     "text": [
      "283\n"
     ]
    },
    {
     "name": "stderr",
     "output_type": "stream",
     "text": [
      "Info: Params [ 0.21735207 -0.90004532  1.04629254  0.08564172  0.76059309  0.97294618] gave 217.88977627989925\n"
     ]
    },
    {
     "name": "stdout",
     "output_type": "stream",
     "text": [
      "284\n"
     ]
    },
    {
     "name": "stderr",
     "output_type": "stream",
     "text": [
      "Info: Params [ 0.34282138 -0.85379475  1.0753844   0.23997543  0.9627273   0.94132704] gave 200.41476305595523\n"
     ]
    },
    {
     "name": "stdout",
     "output_type": "stream",
     "text": [
      "285\n"
     ]
    },
    {
     "name": "stderr",
     "output_type": "stream",
     "text": [
      "Info: Params [ 0.55063781 -0.79418641  1.22966894  0.1128417   0.93081373  0.97751474] gave 214.2307062252936\n"
     ]
    },
    {
     "name": "stdout",
     "output_type": "stream",
     "text": [
      "286\n"
     ]
    },
    {
     "name": "stderr",
     "output_type": "stream",
     "text": [
      "Info: Params [ 0.         -1.34850401  1.2308514   0.42847695  0.98891579  0.87315935] gave 200.6662786902653\n"
     ]
    },
    {
     "name": "stdout",
     "output_type": "stream",
     "text": [
      "287\n"
     ]
    },
    {
     "name": "stderr",
     "output_type": "stream",
     "text": [
      "Info: Params [ 0.         -1.11961851  1.12580274 -0.18182757  0.80271443  0.88148054] gave 173.50718863145835\n"
     ]
    },
    {
     "name": "stdout",
     "output_type": "stream",
     "text": [
      "288\n"
     ]
    },
    {
     "name": "stderr",
     "output_type": "stream",
     "text": [
      "Info: Params [ 0.77325007 -0.34236069  0.88941389  0.27466058  0.93788528  0.86042399] gave 162.63051991868338\n"
     ]
    },
    {
     "name": "stdout",
     "output_type": "stream",
     "text": [
      "289\n"
     ]
    },
    {
     "name": "stderr",
     "output_type": "stream",
     "text": [
      "Info: Params [ 1.10897445 -0.47581618  0.95571448  0.08149945  0.72398852  0.76453376] gave 183.773015541735\n"
     ]
    },
    {
     "name": "stdout",
     "output_type": "stream",
     "text": [
      "290\n"
     ]
    },
    {
     "name": "stderr",
     "output_type": "stream",
     "text": [
      "Info: Params [ 0.54061808 -1.03027512  1.031946    0.05561576  0.76384199  0.54726851] gave 188.686323447429\n"
     ]
    },
    {
     "name": "stdout",
     "output_type": "stream",
     "text": [
      "291\n"
     ]
    },
    {
     "name": "stderr",
     "output_type": "stream",
     "text": [
      "Info: Params [ 0.17985259 -0.52113343  1.48616158 -0.0158613   0.99229816  0.96815117] gave 251.5896359244228\n"
     ]
    },
    {
     "name": "stdout",
     "output_type": "stream",
     "text": [
      "292\n"
     ]
    },
    {
     "name": "stderr",
     "output_type": "stream",
     "text": [
      "Info: Params [ 0.         -1.17505257  1.36640562  0.34818216  0.82456381  0.98723441] gave 227.03056730649573\n"
     ]
    },
    {
     "name": "stdout",
     "output_type": "stream",
     "text": [
      "293\n"
     ]
    },
    {
     "name": "stderr",
     "output_type": "stream",
     "text": [
      "Info: Params [ 0.20151944 -1.1947989   0.97734117  0.3840022   0.87291127  0.90813996] gave 166.60353461192494\n"
     ]
    },
    {
     "name": "stdout",
     "output_type": "stream",
     "text": [
      "294\n"
     ]
    },
    {
     "name": "stderr",
     "output_type": "stream",
     "text": [
      "Info: Params [ 0.18421899 -2.17924275  0.53998906  0.35980014  0.76026419  0.76252041] gave 89.09209828685455\n"
     ]
    },
    {
     "name": "stdout",
     "output_type": "stream",
     "text": [
      "295\n"
     ]
    },
    {
     "name": "stderr",
     "output_type": "stream",
     "text": [
      "Info: Params [ 0.32531782 -0.36415602  1.19900063  0.02190344  0.5701493   0.73209813] gave 257.921846552175\n"
     ]
    },
    {
     "name": "stdout",
     "output_type": "stream",
     "text": [
      "296\n"
     ]
    },
    {
     "name": "stderr",
     "output_type": "stream",
     "text": [
      "Info: Params [ 0.03466987 -1.39167683  1.38503741  0.163835    0.91387357  0.95844566] gave 205.93685838462426\n"
     ]
    },
    {
     "name": "stdout",
     "output_type": "stream",
     "text": [
      "297\n"
     ]
    },
    {
     "name": "stderr",
     "output_type": "stream",
     "text": [
      "Info: Params [ 0.37177865 -0.89564915  0.97392639  0.02038952  0.92802343  0.9292813 ] gave 194.8945007553816\n"
     ]
    },
    {
     "name": "stdout",
     "output_type": "stream",
     "text": [
      "298\n"
     ]
    },
    {
     "name": "stderr",
     "output_type": "stream",
     "text": [
      "Info: Params [ 0.67863041 -0.31107945  1.31457587  0.12337219  0.90538316  0.9548102 ] gave 239.98837126890638\n"
     ]
    }
   ],
   "source": [
    "loaded = pd.read_csv(\"data/E2.csv\") \n",
    "loaded['present'] = loaded['present'].replace(-1,0)\n",
    "summary_list = []\n",
    "for name, group in loaded.groupby('subj_id'):\n",
    "    print(name)\n",
    "    a= fit_m7(group.reset_index(),'E2')\n",
    "    summary_list.append(a)\n",
    "summary_df = pd.concat(summary_list)\n",
    "summary_df.to_csv(\"model_fits/model_m7/data_E2/all_subjects.csv\")"
   ]
  },
  {
   "cell_type": "code",
   "execution_count": null,
   "id": "9b030b79",
   "metadata": {},
   "outputs": [
    {
     "name": "stdout",
     "output_type": "stream",
     "text": [
      "1\n"
     ]
    },
    {
     "name": "stderr",
     "output_type": "stream",
     "text": [
      "Info: Params [ 0.40251789 -1.34956371  1.38440093  0.23084832  0.92918123] gave 210.11483117741562\n"
     ]
    },
    {
     "name": "stdout",
     "output_type": "stream",
     "text": [
      "2\n"
     ]
    },
    {
     "name": "stderr",
     "output_type": "stream",
     "text": [
      "Info: Params [ 1.71068887 -1.85767097  0.56922261  0.07482092  0.43234318] gave 23.593523417861512\n"
     ]
    },
    {
     "name": "stdout",
     "output_type": "stream",
     "text": [
      "3\n"
     ]
    },
    {
     "name": "stderr",
     "output_type": "stream",
     "text": [
      "Info: Params [ 0.699724   -1.80951176  0.78489846  0.39105153  0.57594428] gave 86.78983032917714\n"
     ]
    },
    {
     "name": "stdout",
     "output_type": "stream",
     "text": [
      "4\n"
     ]
    },
    {
     "name": "stderr",
     "output_type": "stream",
     "text": [
      "Info: Params [ 0.22800678 -2.3519409   0.78360143  0.3337493   0.66474407] gave 80.86879866951455\n"
     ]
    },
    {
     "name": "stdout",
     "output_type": "stream",
     "text": [
      "5\n"
     ]
    },
    {
     "name": "stderr",
     "output_type": "stream",
     "text": [
      "Info: Params [ 0.         -1.21279957  1.44748237  0.40420965  0.71504618] gave 231.0774713976406\n"
     ]
    },
    {
     "name": "stdout",
     "output_type": "stream",
     "text": [
      "6\n"
     ]
    },
    {
     "name": "stderr",
     "output_type": "stream",
     "text": [
      "Info: Params [ 0.37510907 -2.14851621  0.78086031  0.19487934  0.82033383] gave 120.7255179645377\n"
     ]
    },
    {
     "name": "stdout",
     "output_type": "stream",
     "text": [
      "7\n"
     ]
    },
    {
     "name": "stderr",
     "output_type": "stream",
     "text": [
      "Info: Params [ 0.14916632 -1.52050711  1.41231769  0.51136546  0.65052044] gave 193.1804335953907\n"
     ]
    },
    {
     "name": "stdout",
     "output_type": "stream",
     "text": [
      "8\n"
     ]
    },
    {
     "name": "stderr",
     "output_type": "stream",
     "text": [
      "Info: Params [ 0.055554   -1.97716184  0.75162596  0.26635472  0.8260319 ] gave 117.93220679549798\n"
     ]
    },
    {
     "name": "stdout",
     "output_type": "stream",
     "text": [
      "9\n"
     ]
    },
    {
     "name": "stderr",
     "output_type": "stream",
     "text": [
      "Info: Params [ 0.12278076 -1.08471132  1.67592411  0.69218171  0.74792428] gave 207.52958597923578\n"
     ]
    },
    {
     "name": "stdout",
     "output_type": "stream",
     "text": [
      "10\n"
     ]
    },
    {
     "name": "stderr",
     "output_type": "stream",
     "text": [
      "Info: Params [ 0.39570384 -1.64810066  0.73195975  0.11091175  0.54995313] gave 128.44767673877698\n"
     ]
    },
    {
     "name": "stdout",
     "output_type": "stream",
     "text": [
      "11\n"
     ]
    },
    {
     "name": "stderr",
     "output_type": "stream",
     "text": [
      "Info: Params [ 0.09277125 -1.98686208  0.67006115  0.39642173  0.93650861] gave 108.81839117195338\n"
     ]
    },
    {
     "name": "stdout",
     "output_type": "stream",
     "text": [
      "12\n"
     ]
    },
    {
     "name": "stderr",
     "output_type": "stream",
     "text": [
      "Info: Params [ 0.47229575 -1.00787752  0.97985716  0.06850243  0.97697104] gave 174.52390057794094\n"
     ]
    },
    {
     "name": "stdout",
     "output_type": "stream",
     "text": [
      "13\n"
     ]
    },
    {
     "name": "stderr",
     "output_type": "stream",
     "text": [
      "Info: Params [ 0.53360203 -1.59667788  0.78790328  0.29963645  0.78942086] gave 103.52458953662551\n"
     ]
    },
    {
     "name": "stdout",
     "output_type": "stream",
     "text": [
      "14\n"
     ]
    },
    {
     "name": "stderr",
     "output_type": "stream",
     "text": [
      "Info: Params [ 0.5408818  -0.90981312  0.90872379 -0.06768135  0.93851711] gave 168.37582202468863\n"
     ]
    },
    {
     "name": "stdout",
     "output_type": "stream",
     "text": [
      "15\n"
     ]
    },
    {
     "name": "stderr",
     "output_type": "stream",
     "text": [
      "Info: Params [ 0.57998467 -1.48251235  0.7525143   0.30904575  0.77485855] gave 109.64810656593528\n"
     ]
    },
    {
     "name": "stdout",
     "output_type": "stream",
     "text": [
      "16\n"
     ]
    },
    {
     "name": "stderr",
     "output_type": "stream",
     "text": [
      "Info: Params [ 0.40712849 -1.34403299  1.34163124  0.26373264  0.9568937 ] gave 192.3352593227492\n"
     ]
    },
    {
     "name": "stdout",
     "output_type": "stream",
     "text": [
      "17\n"
     ]
    },
    {
     "name": "stderr",
     "output_type": "stream",
     "text": [
      "Info: Params [ 0.         -1.35570165  1.18788694  0.53998323  0.80595345] gave 206.11650138024294\n"
     ]
    },
    {
     "name": "stdout",
     "output_type": "stream",
     "text": [
      "18\n"
     ]
    },
    {
     "name": "stderr",
     "output_type": "stream",
     "text": [
      "Info: Params [ 0.92491528 -1.47958376  0.88605091  0.20677012  0.9364682 ] gave 116.84427315921604\n"
     ]
    },
    {
     "name": "stdout",
     "output_type": "stream",
     "text": [
      "19\n"
     ]
    },
    {
     "name": "stderr",
     "output_type": "stream",
     "text": [
      "Info: Params [ 0.         -1.26370942  1.5311444   0.5025448   0.85190459] gave 219.75386989108446\n"
     ]
    },
    {
     "name": "stdout",
     "output_type": "stream",
     "text": [
      "20\n"
     ]
    },
    {
     "name": "stderr",
     "output_type": "stream",
     "text": [
      "Info: Params [ 0.26551205 -0.79311293  1.10806346  0.13043484  0.75226556] gave 221.28731348150012\n"
     ]
    },
    {
     "name": "stdout",
     "output_type": "stream",
     "text": [
      "21\n"
     ]
    },
    {
     "name": "stderr",
     "output_type": "stream",
     "text": [
      "Info: Params [ 0.52685026 -1.02991043  2.00323125  0.18985121  0.91446694] gave 227.08641564047429\n"
     ]
    },
    {
     "name": "stdout",
     "output_type": "stream",
     "text": [
      "22\n"
     ]
    },
    {
     "name": "stderr",
     "output_type": "stream",
     "text": [
      "Info: Params [ 0.03959132 -2.2081445   0.94889285  0.49190272  0.87049491] gave 122.3696546094602\n"
     ]
    },
    {
     "name": "stdout",
     "output_type": "stream",
     "text": [
      "23\n"
     ]
    },
    {
     "name": "stderr",
     "output_type": "stream",
     "text": [
      "Info: Params [ 0.05015417 -1.19710057  2.11818305  0.3159531   0.97039048] gave 223.62710257205606\n"
     ]
    },
    {
     "name": "stdout",
     "output_type": "stream",
     "text": [
      "24\n"
     ]
    },
    {
     "name": "stderr",
     "output_type": "stream",
     "text": [
      "Info: Params [ 0.73213724 -0.90603304  1.01063651  0.18392453  0.87551702] gave 189.08412717484862\n"
     ]
    },
    {
     "name": "stdout",
     "output_type": "stream",
     "text": [
      "25\n"
     ]
    },
    {
     "name": "stderr",
     "output_type": "stream",
     "text": [
      "Info: Params [ 0.81430204 -0.82704033  1.07599433  0.42123463  0.69758798] gave 178.46090407729935\n"
     ]
    },
    {
     "name": "stdout",
     "output_type": "stream",
     "text": [
      "26\n"
     ]
    },
    {
     "name": "stderr",
     "output_type": "stream",
     "text": [
      "Info: Params [ 0.31710005 -1.15651855  1.05795968  0.39135808  0.45724336] gave 180.95648755483901\n"
     ]
    },
    {
     "name": "stdout",
     "output_type": "stream",
     "text": [
      "27\n"
     ]
    },
    {
     "name": "stderr",
     "output_type": "stream",
     "text": [
      "Info: Params [ 0.47306867 -1.12066869  1.00734553  0.25530359  0.94762731] gave 190.1038242411288\n"
     ]
    },
    {
     "name": "stdout",
     "output_type": "stream",
     "text": [
      "28\n"
     ]
    },
    {
     "name": "stderr",
     "output_type": "stream",
     "text": [
      "Info: Params [ 0.30328043 -1.38480626  1.13439723  0.41405191  0.83567209] gave 176.56093572386226\n"
     ]
    },
    {
     "name": "stdout",
     "output_type": "stream",
     "text": [
      "29\n"
     ]
    },
    {
     "name": "stderr",
     "output_type": "stream",
     "text": [
      "Info: Params [ 0.82097284 -0.81334026  0.94923661  0.1508171   0.6735938 ] gave 167.02211331958836\n"
     ]
    },
    {
     "name": "stdout",
     "output_type": "stream",
     "text": [
      "30\n"
     ]
    },
    {
     "name": "stderr",
     "output_type": "stream",
     "text": [
      "Info: Params [ 0.04644171 -1.25778181  1.41986743  0.54155242  0.67069205] gave 209.03804394724818\n"
     ]
    },
    {
     "name": "stdout",
     "output_type": "stream",
     "text": [
      "31\n"
     ]
    },
    {
     "name": "stderr",
     "output_type": "stream",
     "text": [
      "Info: Params [ 0.55759172 -1.28927194  0.99672152  0.33787429  0.94085708] gave 159.56115498727686\n"
     ]
    },
    {
     "name": "stdout",
     "output_type": "stream",
     "text": [
      "32\n"
     ]
    },
    {
     "name": "stderr",
     "output_type": "stream",
     "text": [
      "Info: Params [ 0.14748243 -1.2395857   1.61941129  0.31667676  0.99880993] gave 216.6476749948922\n"
     ]
    },
    {
     "name": "stdout",
     "output_type": "stream",
     "text": [
      "33\n"
     ]
    },
    {
     "name": "stderr",
     "output_type": "stream",
     "text": [
      "Info: Params [ 0.59416873 -0.82223691  1.0242005  -0.1563541   0.78204807] gave 199.39574735226597\n"
     ]
    },
    {
     "name": "stdout",
     "output_type": "stream",
     "text": [
      "34\n"
     ]
    },
    {
     "name": "stderr",
     "output_type": "stream",
     "text": [
      "Info: Params [ 0.59297563 -1.08956651  0.88258788  0.03163478  0.74617036] gave 172.93325154864272\n"
     ]
    },
    {
     "name": "stdout",
     "output_type": "stream",
     "text": [
      "35\n"
     ]
    },
    {
     "name": "stderr",
     "output_type": "stream",
     "text": [
      "Info: Params [ 0.1935155  -1.20207601  0.88506422  0.36079677  0.54265046] gave 174.3867526592719\n"
     ]
    },
    {
     "name": "stdout",
     "output_type": "stream",
     "text": [
      "36\n"
     ]
    },
    {
     "name": "stderr",
     "output_type": "stream",
     "text": [
      "Info: Params [ 0.84240757 -1.02873775  0.87899896  0.21758533  0.61571842] gave 147.2250712611815\n"
     ]
    },
    {
     "name": "stdout",
     "output_type": "stream",
     "text": [
      "37\n"
     ]
    },
    {
     "name": "stderr",
     "output_type": "stream",
     "text": [
      "Info: Params [ 0.11393863 -1.3093817   1.38208293  0.50964141  0.60067513] gave 195.90299050669572\n"
     ]
    },
    {
     "name": "stdout",
     "output_type": "stream",
     "text": [
      "38\n"
     ]
    },
    {
     "name": "stderr",
     "output_type": "stream",
     "text": [
      "Info: Params [ 0.33871714 -1.28831172  1.07945861  0.36421181  0.78712354] gave 162.05039369137788\n"
     ]
    },
    {
     "name": "stdout",
     "output_type": "stream",
     "text": [
      "39\n"
     ]
    },
    {
     "name": "stderr",
     "output_type": "stream",
     "text": [
      "Info: Params [ 0.         -1.89252139  0.84174627  0.48307904  0.6713017 ] gave 128.25667270159332\n"
     ]
    },
    {
     "name": "stdout",
     "output_type": "stream",
     "text": [
      "40\n"
     ]
    },
    {
     "name": "stderr",
     "output_type": "stream",
     "text": [
      "Info: Params [ 0.28767212 -1.7568384   1.06838653  0.45907261  0.79244449] gave 166.62241890370925\n"
     ]
    },
    {
     "name": "stdout",
     "output_type": "stream",
     "text": [
      "41\n"
     ]
    },
    {
     "name": "stderr",
     "output_type": "stream",
     "text": [
      "Info: Params [ 0.35298074 -0.9277422   1.4614572   0.42361481  0.97540973] gave 214.04706183843103\n"
     ]
    },
    {
     "name": "stdout",
     "output_type": "stream",
     "text": [
      "42\n"
     ]
    },
    {
     "name": "stderr",
     "output_type": "stream",
     "text": [
      "Info: Params [ 1.02136787 -1.472001    0.67555778  0.38662914  0.57618135] gave 65.08645097397313\n"
     ]
    },
    {
     "name": "stdout",
     "output_type": "stream",
     "text": [
      "43\n"
     ]
    },
    {
     "name": "stderr",
     "output_type": "stream",
     "text": [
      "Info: Params [ 0.91193808 -1.23204185  1.2595457   0.15162722  0.8369249 ] gave 162.11679735837703\n"
     ]
    },
    {
     "name": "stdout",
     "output_type": "stream",
     "text": [
      "44\n"
     ]
    },
    {
     "name": "stderr",
     "output_type": "stream",
     "text": [
      "Info: Params [ 0.34245982 -1.09626132  1.86545388  0.29627294  0.97743092] gave 235.63387552506825\n"
     ]
    },
    {
     "name": "stdout",
     "output_type": "stream",
     "text": [
      "45\n"
     ]
    },
    {
     "name": "stderr",
     "output_type": "stream",
     "text": [
      "Info: Params [ 0.39604213 -0.74193305  1.79451765  0.16531282  0.96255302] gave 269.52614500938887\n"
     ]
    },
    {
     "name": "stdout",
     "output_type": "stream",
     "text": [
      "46\n"
     ]
    },
    {
     "name": "stderr",
     "output_type": "stream",
     "text": [
      "Info: Params [ 0.         -1.78472072  1.05961618  0.41444107  0.67581374] gave 152.83350835825476\n"
     ]
    },
    {
     "name": "stdout",
     "output_type": "stream",
     "text": [
      "47\n"
     ]
    },
    {
     "name": "stderr",
     "output_type": "stream",
     "text": [
      "Info: Params [ 0.74135398 -1.67450934  0.67502541  0.08539128  0.76994691] gave 97.02397476346655\n"
     ]
    },
    {
     "name": "stdout",
     "output_type": "stream",
     "text": [
      "48\n"
     ]
    },
    {
     "name": "stderr",
     "output_type": "stream",
     "text": [
      "Info: Params [ 0.01366577 -1.83576537  1.18750963  0.43966381  0.75786909] gave 158.54648854061463\n"
     ]
    },
    {
     "name": "stdout",
     "output_type": "stream",
     "text": [
      "49\n"
     ]
    },
    {
     "name": "stderr",
     "output_type": "stream",
     "text": [
      "Info: Params [ 0.46635665 -1.03474945  1.10094491  0.31939264  0.9628904 ] gave 196.2912382266124\n"
     ]
    },
    {
     "name": "stdout",
     "output_type": "stream",
     "text": [
      "50\n"
     ]
    },
    {
     "name": "stderr",
     "output_type": "stream",
     "text": [
      "Info: Params [ 0.81396091 -0.85043651  1.37814195  0.18258991  0.85443792] gave 212.77383458491812\n"
     ]
    },
    {
     "name": "stdout",
     "output_type": "stream",
     "text": [
      "51\n"
     ]
    },
    {
     "name": "stderr",
     "output_type": "stream",
     "text": [
      "Info: Params [ 0.69694964 -0.73393046  1.26003679  0.20569453  0.85188626] gave 226.66412894810986\n"
     ]
    },
    {
     "name": "stdout",
     "output_type": "stream",
     "text": [
      "52\n"
     ]
    },
    {
     "name": "stderr",
     "output_type": "stream",
     "text": [
      "Info: Params [ 0.         -1.7218272   1.29188719  0.36241795  0.87220815] gave 185.83761147736203\n"
     ]
    },
    {
     "name": "stdout",
     "output_type": "stream",
     "text": [
      "53\n"
     ]
    },
    {
     "name": "stderr",
     "output_type": "stream",
     "text": [
      "Info: Params [ 0.26669106 -1.36407442  1.09482609  0.42782588  0.87212904] gave 194.5855074609546\n"
     ]
    },
    {
     "name": "stdout",
     "output_type": "stream",
     "text": [
      "54\n"
     ]
    },
    {
     "name": "stderr",
     "output_type": "stream",
     "text": [
      "Info: Params [ 0.00998644 -2.26303198  1.07123877  0.57057997  0.888195  ] gave 129.38356495851022\n"
     ]
    },
    {
     "name": "stdout",
     "output_type": "stream",
     "text": [
      "55\n"
     ]
    },
    {
     "name": "stderr",
     "output_type": "stream",
     "text": [
      "Info: Params [ 0.31490581 -1.21189323  1.0810957   0.19491413  0.95913354] gave 183.71895737994544\n"
     ]
    },
    {
     "name": "stdout",
     "output_type": "stream",
     "text": [
      "56\n"
     ]
    },
    {
     "name": "stderr",
     "output_type": "stream",
     "text": [
      "Info: Params [ 0.27491545 -1.37019072  0.82588515  0.42435336  0.73119277] gave 135.02520834623263\n"
     ]
    },
    {
     "name": "stdout",
     "output_type": "stream",
     "text": [
      "57\n"
     ]
    },
    {
     "name": "stderr",
     "output_type": "stream",
     "text": [
      "Info: Params [ 0.43043445 -0.70976592  1.59952409  0.41858862  0.68956264] gave 232.22927285061155\n"
     ]
    },
    {
     "name": "stdout",
     "output_type": "stream",
     "text": [
      "58\n"
     ]
    },
    {
     "name": "stderr",
     "output_type": "stream",
     "text": [
      "Info: Params [ 0.00202322 -1.4526535   0.86363842  0.26154686  0.70294804] gave 140.47938412762278\n"
     ]
    },
    {
     "name": "stdout",
     "output_type": "stream",
     "text": [
      "59\n"
     ]
    },
    {
     "name": "stderr",
     "output_type": "stream",
     "text": [
      "Info: Params [ 0.01449442 -1.75205626  1.15301875  0.50406567  0.85887549] gave 146.5637429659208\n"
     ]
    },
    {
     "name": "stdout",
     "output_type": "stream",
     "text": [
      "60\n"
     ]
    },
    {
     "name": "stderr",
     "output_type": "stream",
     "text": [
      "Info: Params [ 0.47833471 -0.88112311  0.92637213  0.23705874  0.59472637] gave 174.64822371744884\n"
     ]
    },
    {
     "name": "stdout",
     "output_type": "stream",
     "text": [
      "61\n"
     ]
    },
    {
     "name": "stderr",
     "output_type": "stream",
     "text": [
      "Info: Params [ 0.48654857 -0.93589977  1.48494357  0.29013624  0.99969966] gave 228.73914572366274\n"
     ]
    },
    {
     "name": "stdout",
     "output_type": "stream",
     "text": [
      "62\n"
     ]
    },
    {
     "name": "stderr",
     "output_type": "stream",
     "text": [
      "Info: Params [ 0.70884046 -0.55366519  1.17572746  0.2154726   0.84297528] gave 223.45400047577863\n"
     ]
    },
    {
     "name": "stdout",
     "output_type": "stream",
     "text": [
      "63\n"
     ]
    },
    {
     "name": "stderr",
     "output_type": "stream",
     "text": [
      "Info: Params [ 0.87654563 -0.33554389  0.75805299  0.20905104  0.65603559] gave 127.45862658730928\n"
     ]
    },
    {
     "name": "stdout",
     "output_type": "stream",
     "text": [
      "64\n"
     ]
    },
    {
     "name": "stderr",
     "output_type": "stream",
     "text": [
      "Info: Params [ 0.37138173 -0.97881839  1.08710873  0.22141005  0.892964  ] gave 208.5365201877521\n"
     ]
    },
    {
     "name": "stdout",
     "output_type": "stream",
     "text": [
      "65\n"
     ]
    },
    {
     "name": "stderr",
     "output_type": "stream",
     "text": [
      "Info: Params [ 0.40048331 -0.74021642  1.32577538  0.32603506  0.88226067] gave 228.01642333631952\n"
     ]
    },
    {
     "name": "stdout",
     "output_type": "stream",
     "text": [
      "66\n"
     ]
    },
    {
     "name": "stderr",
     "output_type": "stream",
     "text": [
      "Info: Params [ 0.07343956 -0.80509558  1.45144839  0.67863621  0.77616845] gave 235.91018199844908\n"
     ]
    },
    {
     "name": "stdout",
     "output_type": "stream",
     "text": [
      "67\n"
     ]
    },
    {
     "name": "stderr",
     "output_type": "stream",
     "text": [
      "Info: Params [ 1.27167735 -0.68963105  0.73520207  0.3380872   0.71806737] gave 90.72235628672414\n"
     ]
    },
    {
     "name": "stdout",
     "output_type": "stream",
     "text": [
      "68\n"
     ]
    },
    {
     "name": "stderr",
     "output_type": "stream",
     "text": [
      "Info: Params [ 1.53268494 -0.90375699  0.73686754  0.15795485  0.93620177] gave 89.00717809432564\n"
     ]
    },
    {
     "name": "stdout",
     "output_type": "stream",
     "text": [
      "69\n"
     ]
    },
    {
     "name": "stderr",
     "output_type": "stream",
     "text": [
      "Info: Params [ 0.10150419 -1.32316639  1.3761513   0.56167339  0.87704479] gave 202.37148724761676\n"
     ]
    },
    {
     "name": "stdout",
     "output_type": "stream",
     "text": [
      "70\n"
     ]
    },
    {
     "name": "stderr",
     "output_type": "stream",
     "text": [
      "Info: Params [ 0.44615491 -2.71907723  0.82208933  0.53407579  0.65218779] gave 53.49691461152145\n"
     ]
    },
    {
     "name": "stdout",
     "output_type": "stream",
     "text": [
      "71\n"
     ]
    },
    {
     "name": "stderr",
     "output_type": "stream",
     "text": [
      "Info: Params [ 0.11361596 -2.11269656  1.02002337  0.64358926  0.77921969] gave 132.89912703050106\n"
     ]
    },
    {
     "name": "stdout",
     "output_type": "stream",
     "text": [
      "72\n"
     ]
    },
    {
     "name": "stderr",
     "output_type": "stream",
     "text": [
      "Info: Params [ 0.39601067 -0.75991084  1.64481952  0.60124354  0.74175009] gave 229.29946939944332\n"
     ]
    },
    {
     "name": "stdout",
     "output_type": "stream",
     "text": [
      "73\n"
     ]
    },
    {
     "name": "stderr",
     "output_type": "stream",
     "text": [
      "Info: Params [ 0.51062034 -1.39753339  0.93817657  0.3919734   0.65106383] gave 147.51714731645558\n"
     ]
    },
    {
     "name": "stdout",
     "output_type": "stream",
     "text": [
      "74\n"
     ]
    },
    {
     "name": "stderr",
     "output_type": "stream",
     "text": [
      "Info: Params [ 0.4023091  -0.74788855  1.62656225  0.09651851  0.86497566] gave 251.2568245739248\n"
     ]
    },
    {
     "name": "stdout",
     "output_type": "stream",
     "text": [
      "75\n"
     ]
    },
    {
     "name": "stderr",
     "output_type": "stream",
     "text": [
      "Info: Params [ 0.36137847 -1.3622359   0.79374295  0.33669723  0.69666459] gave 135.95327238552522\n"
     ]
    },
    {
     "name": "stdout",
     "output_type": "stream",
     "text": [
      "76\n"
     ]
    },
    {
     "name": "stderr",
     "output_type": "stream",
     "text": [
      "Info: Params [ 0.14833215 -1.1974161   1.86553534  0.57080254  0.63306045] gave 245.2753786371268\n"
     ]
    },
    {
     "name": "stdout",
     "output_type": "stream",
     "text": [
      "77\n"
     ]
    },
    {
     "name": "stderr",
     "output_type": "stream",
     "text": [
      "Info: Params [ 0.         -1.45753396  0.90656907  0.38518226  0.74748384] gave 141.68784934413705\n"
     ]
    },
    {
     "name": "stdout",
     "output_type": "stream",
     "text": [
      "78\n"
     ]
    },
    {
     "name": "stderr",
     "output_type": "stream",
     "text": [
      "Info: Params [ 3.73909225 -0.27052305  0.67458581 -0.3471229   0.53097809] gave 85.7981811142439\n"
     ]
    },
    {
     "name": "stdout",
     "output_type": "stream",
     "text": [
      "79\n"
     ]
    },
    {
     "name": "stderr",
     "output_type": "stream",
     "text": [
      "Info: Params [ 0.57433723 -1.03857261  1.64582478  0.22153496  0.93893382] gave 214.09224911040695\n"
     ]
    },
    {
     "name": "stdout",
     "output_type": "stream",
     "text": [
      "80\n"
     ]
    },
    {
     "name": "stderr",
     "output_type": "stream",
     "text": [
      "Info: Params [ 1.26293716 -1.00046186  0.79776733  0.3822485   0.64896687] gave 100.71173013087156\n"
     ]
    },
    {
     "name": "stdout",
     "output_type": "stream",
     "text": [
      "81\n"
     ]
    },
    {
     "name": "stderr",
     "output_type": "stream",
     "text": [
      "Info: Params [ 0.59719859 -1.8965798   0.67053231  0.37990514  0.57603761] gave 79.08446704606067\n"
     ]
    },
    {
     "name": "stdout",
     "output_type": "stream",
     "text": [
      "82\n"
     ]
    },
    {
     "name": "stderr",
     "output_type": "stream",
     "text": [
      "Info: Params [ 0.35117741 -0.82918649  0.90730584  0.12759269  0.61806381] gave 185.56303081534853\n"
     ]
    },
    {
     "name": "stdout",
     "output_type": "stream",
     "text": [
      "83\n"
     ]
    },
    {
     "name": "stderr",
     "output_type": "stream",
     "text": [
      "Info: Params [ 0.25556761 -1.20370613  1.133745    0.40607665  0.69176588] gave 181.86052542864815\n"
     ]
    },
    {
     "name": "stdout",
     "output_type": "stream",
     "text": [
      "84\n"
     ]
    },
    {
     "name": "stderr",
     "output_type": "stream",
     "text": [
      "Info: Params [ 0.77029759 -0.87874598  1.08516159  0.19691649  0.8380057 ] gave 175.62730440750022\n"
     ]
    },
    {
     "name": "stdout",
     "output_type": "stream",
     "text": [
      "85\n"
     ]
    },
    {
     "name": "stderr",
     "output_type": "stream",
     "text": [
      "Info: Params [ 1.56141402 -0.73571928  0.85399321  0.10907085  0.61668444] gave 110.84772889889277\n"
     ]
    },
    {
     "name": "stdout",
     "output_type": "stream",
     "text": [
      "86\n"
     ]
    },
    {
     "name": "stderr",
     "output_type": "stream",
     "text": [
      "Info: Params [ 0.12571751 -1.70272514  1.38066439  0.54386936  0.62943713] gave 190.46000779993454\n"
     ]
    },
    {
     "name": "stdout",
     "output_type": "stream",
     "text": [
      "87\n"
     ]
    },
    {
     "name": "stderr",
     "output_type": "stream",
     "text": [
      "Info: Params [ 0.09853133 -1.13570597  1.28460247  0.40511773  0.79639291] gave 218.2505102165544\n"
     ]
    },
    {
     "name": "stdout",
     "output_type": "stream",
     "text": [
      "88\n"
     ]
    },
    {
     "name": "stderr",
     "output_type": "stream",
     "text": [
      "Info: Params [ 0.13409982 -1.03323067  1.0913271   0.2652115   0.70266248] gave 212.95250606772004\n"
     ]
    },
    {
     "name": "stdout",
     "output_type": "stream",
     "text": [
      "89\n"
     ]
    },
    {
     "name": "stderr",
     "output_type": "stream",
     "text": [
      "Info: Params [ 0.62187846 -1.68761967  0.84526696  0.30779533  0.74770381] gave 106.23049090241149\n"
     ]
    },
    {
     "name": "stdout",
     "output_type": "stream",
     "text": [
      "90\n"
     ]
    },
    {
     "name": "stderr",
     "output_type": "stream",
     "text": [
      "Info: Params [ 0.46520297 -1.00189587  1.10131065  0.0567661   0.87528478] gave 204.85122286989952\n"
     ]
    },
    {
     "name": "stdout",
     "output_type": "stream",
     "text": [
      "91\n"
     ]
    },
    {
     "name": "stderr",
     "output_type": "stream",
     "text": [
      "Info: Params [ 0.37368148 -1.0627357   1.22438493  0.47260529  0.91458726] gave 204.5303098316993\n"
     ]
    },
    {
     "name": "stdout",
     "output_type": "stream",
     "text": [
      "92\n"
     ]
    },
    {
     "name": "stderr",
     "output_type": "stream",
     "text": [
      "Info: Params [ 0.12443092 -1.25421769  1.46420614  0.33910754  0.92291758] gave 211.6307356865315\n"
     ]
    },
    {
     "name": "stdout",
     "output_type": "stream",
     "text": [
      "93\n"
     ]
    },
    {
     "name": "stderr",
     "output_type": "stream",
     "text": [
      "Info: Params [ 0.42699728 -0.88721351  1.05459562  0.25934487  0.65471846] gave 199.78652624006065\n"
     ]
    },
    {
     "name": "stdout",
     "output_type": "stream",
     "text": [
      "94\n"
     ]
    },
    {
     "name": "stderr",
     "output_type": "stream",
     "text": [
      "Info: Params [ 0.60184747 -1.02693488  0.93296975  0.37378491  0.78250209] gave 146.3735394489628\n"
     ]
    },
    {
     "name": "stdout",
     "output_type": "stream",
     "text": [
      "95\n"
     ]
    },
    {
     "name": "stderr",
     "output_type": "stream",
     "text": [
      "Info: Params [ 0.7188206  -0.8068537   1.53590812  0.53031733  0.68950298] gave 178.26657477182403\n"
     ]
    },
    {
     "name": "stdout",
     "output_type": "stream",
     "text": [
      "96\n"
     ]
    },
    {
     "name": "stderr",
     "output_type": "stream",
     "text": [
      "Info: Params [ 0.02930939 -1.49594688  0.97611515  0.29880127  0.85078353] gave 155.4590380233316\n"
     ]
    },
    {
     "name": "stdout",
     "output_type": "stream",
     "text": [
      "97\n"
     ]
    },
    {
     "name": "stderr",
     "output_type": "stream",
     "text": [
      "Info: Params [ 0.59551456 -0.64427116  1.42221156  0.15348059  0.64006939] gave 211.90123557492842\n"
     ]
    },
    {
     "name": "stdout",
     "output_type": "stream",
     "text": [
      "98\n"
     ]
    },
    {
     "name": "stderr",
     "output_type": "stream",
     "text": [
      "Info: Params [ 0.         -1.12201184  1.39928543  0.43079827  0.76882711] gave 219.57645970512755\n"
     ]
    },
    {
     "name": "stdout",
     "output_type": "stream",
     "text": [
      "99\n"
     ]
    },
    {
     "name": "stderr",
     "output_type": "stream",
     "text": [
      "Info: Params [ 0.         -2.20149552  0.99867618  0.41317026  0.83736506] gave 146.3901023674895\n"
     ]
    },
    {
     "name": "stdout",
     "output_type": "stream",
     "text": [
      "100\n"
     ]
    },
    {
     "name": "stderr",
     "output_type": "stream",
     "text": [
      "Info: Params [ 0.41480586 -1.12665828  1.16359144  0.17733925  0.73944247] gave 203.5804185652051\n"
     ]
    },
    {
     "name": "stdout",
     "output_type": "stream",
     "text": [
      "101\n"
     ]
    },
    {
     "name": "stderr",
     "output_type": "stream",
     "text": [
      "Info: Params [ 0.22136758 -0.87422687  1.40106638  0.16632386  0.90314827] gave 247.61949502534026\n"
     ]
    },
    {
     "name": "stdout",
     "output_type": "stream",
     "text": [
      "102\n"
     ]
    },
    {
     "name": "stderr",
     "output_type": "stream",
     "text": [
      "Info: Params [ 0.         -1.98445885  0.57724494  0.44726488  0.75028718] gave 48.38923525302736\n"
     ]
    },
    {
     "name": "stdout",
     "output_type": "stream",
     "text": [
      "103\n"
     ]
    },
    {
     "name": "stderr",
     "output_type": "stream",
     "text": [
      "Info: Params [ 0.25109876 -1.30789322  1.53275656  0.5775451   0.94955448] gave 214.8496576883492\n"
     ]
    },
    {
     "name": "stdout",
     "output_type": "stream",
     "text": [
      "104\n"
     ]
    },
    {
     "name": "stderr",
     "output_type": "stream",
     "text": [
      "Info: Params [ 0.30921442 -1.01903033  1.49425804  0.26328685  0.97195587] gave 229.46416328401008\n"
     ]
    },
    {
     "name": "stdout",
     "output_type": "stream",
     "text": [
      "105\n"
     ]
    },
    {
     "name": "stderr",
     "output_type": "stream",
     "text": [
      "Info: Params [ 0.33877051 -1.40120896  1.28115105  0.47812498  0.72572565] gave 175.033843793131\n"
     ]
    },
    {
     "name": "stdout",
     "output_type": "stream",
     "text": [
      "106\n"
     ]
    },
    {
     "name": "stderr",
     "output_type": "stream",
     "text": [
      "Info: Params [ 0.95368844 -1.08444634  0.81584585  0.25498963  0.85377241] gave 125.94287909621016\n"
     ]
    },
    {
     "name": "stdout",
     "output_type": "stream",
     "text": [
      "107\n"
     ]
    },
    {
     "name": "stderr",
     "output_type": "stream",
     "text": [
      "Info: Params [ 0.3097188  -1.14783679  1.18781381  0.44580703  0.74728212] gave 204.498706865663\n"
     ]
    },
    {
     "name": "stdout",
     "output_type": "stream",
     "text": [
      "108\n"
     ]
    },
    {
     "name": "stderr",
     "output_type": "stream",
     "text": [
      "Info: Params [ 0.18226986 -0.87478029  1.34146326  0.40814633  0.61481838] gave 239.67742316877155\n"
     ]
    },
    {
     "name": "stdout",
     "output_type": "stream",
     "text": [
      "109\n"
     ]
    },
    {
     "name": "stderr",
     "output_type": "stream",
     "text": [
      "Info: Params [ 0.         -1.47089331  1.4690396   0.49806684  0.91253391] gave 220.35824730871767\n"
     ]
    },
    {
     "name": "stdout",
     "output_type": "stream",
     "text": [
      "110\n"
     ]
    },
    {
     "name": "stderr",
     "output_type": "stream",
     "text": [
      "Info: Params [ 0.40106163 -1.49436292  0.81837785  0.33839223  0.83144109] gave 148.4751070893073\n"
     ]
    },
    {
     "name": "stdout",
     "output_type": "stream",
     "text": [
      "111\n"
     ]
    },
    {
     "name": "stderr",
     "output_type": "stream",
     "text": [
      "Info: Params [ 0.15746349 -1.36961081  1.20354658  0.61755628  0.84347252] gave 171.31181075318284\n"
     ]
    },
    {
     "name": "stdout",
     "output_type": "stream",
     "text": [
      "112\n"
     ]
    },
    {
     "name": "stderr",
     "output_type": "stream",
     "text": [
      "Info: Params [ 0.281062   -1.95965438  1.10763086  0.34397205  0.97344796] gave 158.26630652428753\n"
     ]
    },
    {
     "name": "stdout",
     "output_type": "stream",
     "text": [
      "113\n"
     ]
    },
    {
     "name": "stderr",
     "output_type": "stream",
     "text": [
      "Info: Params [ 0.30318604 -1.96167888  0.71585516  0.2957354   0.90063624] gave 129.08197873302066\n"
     ]
    },
    {
     "name": "stdout",
     "output_type": "stream",
     "text": [
      "114\n"
     ]
    },
    {
     "name": "stderr",
     "output_type": "stream",
     "text": [
      "Info: Params [ 0.63686819 -1.79370564  0.84636864  0.23215677  0.68667701] gave 113.20908564537022\n"
     ]
    },
    {
     "name": "stdout",
     "output_type": "stream",
     "text": [
      "115\n"
     ]
    },
    {
     "name": "stderr",
     "output_type": "stream",
     "text": [
      "Info: Params [ 0.41950465 -1.02624727  1.46892366  0.32832424  0.8387001 ] gave 199.1621610405477\n"
     ]
    },
    {
     "name": "stdout",
     "output_type": "stream",
     "text": [
      "116\n"
     ]
    },
    {
     "name": "stderr",
     "output_type": "stream",
     "text": [
      "Info: Params [ 0.26800415 -1.21341697  1.59116623  0.54729192  0.73791151] gave 206.3782155196069\n"
     ]
    },
    {
     "name": "stdout",
     "output_type": "stream",
     "text": [
      "117\n"
     ]
    },
    {
     "name": "stderr",
     "output_type": "stream",
     "text": [
      "Info: Params [ 0.88701254 -0.61244812  1.60018915  0.17280251  0.92608674] gave 229.04696588011413\n"
     ]
    },
    {
     "name": "stdout",
     "output_type": "stream",
     "text": [
      "118\n"
     ]
    },
    {
     "name": "stderr",
     "output_type": "stream",
     "text": [
      "Info: Params [ 0.8921753  -2.18392523  0.68302575  0.0693334   0.84104614] gave 87.99875527993098\n"
     ]
    },
    {
     "name": "stdout",
     "output_type": "stream",
     "text": [
      "119\n"
     ]
    },
    {
     "name": "stderr",
     "output_type": "stream",
     "text": [
      "Info: Params [ 0.         -1.55667509  1.21820234  0.59549731  0.82931855] gave 186.10885952761703\n"
     ]
    },
    {
     "name": "stdout",
     "output_type": "stream",
     "text": [
      "120\n"
     ]
    },
    {
     "name": "stderr",
     "output_type": "stream",
     "text": [
      "Info: Params [ 0.27630726 -1.24677242  1.56514452  0.17453589  0.90810755] gave 227.3792344283998\n"
     ]
    },
    {
     "name": "stdout",
     "output_type": "stream",
     "text": [
      "121\n"
     ]
    },
    {
     "name": "stderr",
     "output_type": "stream",
     "text": [
      "Info: Params [ 0.06208163 -0.9683313   1.47617454  0.34268698  0.71558647] gave 226.32523142155785\n"
     ]
    },
    {
     "name": "stdout",
     "output_type": "stream",
     "text": [
      "122\n"
     ]
    },
    {
     "name": "stderr",
     "output_type": "stream",
     "text": [
      "Info: Params [ 0.         -1.66547242  1.09834205  0.33445333  0.81353793] gave 182.48293812462236\n"
     ]
    },
    {
     "name": "stdout",
     "output_type": "stream",
     "text": [
      "123\n"
     ]
    },
    {
     "name": "stderr",
     "output_type": "stream",
     "text": [
      "Info: Params [ 0.2680223  -0.84823781  1.23158114  0.30827188  0.78908074] gave 227.83924443126256\n"
     ]
    },
    {
     "name": "stdout",
     "output_type": "stream",
     "text": [
      "124\n"
     ]
    },
    {
     "name": "stderr",
     "output_type": "stream",
     "text": [
      "Info: Params [ 0.30180102 -2.3539505   0.5330258   0.38931448  0.68361984] gave 42.265104870814866\n"
     ]
    },
    {
     "name": "stdout",
     "output_type": "stream",
     "text": [
      "125\n"
     ]
    },
    {
     "name": "stderr",
     "output_type": "stream",
     "text": [
      "Info: Params [ 0.         -1.12751716  1.13625216  0.41984532  0.8715346 ] gave 211.07530271615158\n"
     ]
    },
    {
     "name": "stdout",
     "output_type": "stream",
     "text": [
      "126\n"
     ]
    },
    {
     "name": "stderr",
     "output_type": "stream",
     "text": [
      "Info: Params [ 0.36382257 -1.06411516  1.35439175  0.2827469   0.9159804 ] gave 219.0542621978197\n"
     ]
    },
    {
     "name": "stdout",
     "output_type": "stream",
     "text": [
      "127\n"
     ]
    },
    {
     "name": "stderr",
     "output_type": "stream",
     "text": [
      "Info: Params [ 0.68059408 -0.37791275  1.39295996  0.28688165  0.85560449] gave 226.52300911182866\n"
     ]
    },
    {
     "name": "stdout",
     "output_type": "stream",
     "text": [
      "128\n"
     ]
    },
    {
     "name": "stderr",
     "output_type": "stream",
     "text": [
      "Info: Params [ 0.58357211 -2.07633297  0.81485459  0.33875324  0.6981658 ] gave 87.84071814145109\n"
     ]
    },
    {
     "name": "stdout",
     "output_type": "stream",
     "text": [
      "129\n"
     ]
    },
    {
     "name": "stderr",
     "output_type": "stream",
     "text": [
      "Info: Params [ 0.25753524 -1.5065185   0.86085642  0.26573905  0.83445565] gave 143.0183151668865\n"
     ]
    },
    {
     "name": "stdout",
     "output_type": "stream",
     "text": [
      "130\n"
     ]
    },
    {
     "name": "stderr",
     "output_type": "stream",
     "text": [
      "Info: Params [ 0.10143703 -1.04414236  0.88632217  0.24884131  0.55124799] gave 160.3919957468159\n"
     ]
    },
    {
     "name": "stdout",
     "output_type": "stream",
     "text": [
      "131\n"
     ]
    },
    {
     "name": "stderr",
     "output_type": "stream",
     "text": [
      "Info: Params [ 0.35045593 -1.11752867  1.02570851  0.29212568  0.78361803] gave 169.26415686504043\n"
     ]
    },
    {
     "name": "stdout",
     "output_type": "stream",
     "text": [
      "132\n"
     ]
    },
    {
     "name": "stderr",
     "output_type": "stream",
     "text": [
      "Info: Params [ 0.50369378 -1.22953953  1.02592828  0.37052222  0.72313955] gave 152.4207878031292\n"
     ]
    },
    {
     "name": "stdout",
     "output_type": "stream",
     "text": [
      "133\n"
     ]
    },
    {
     "name": "stderr",
     "output_type": "stream",
     "text": [
      "Info: Params [ 0.44958628 -1.56426073  0.79995059  0.27805505  0.8983109 ] gave 120.17540046530755\n"
     ]
    },
    {
     "name": "stdout",
     "output_type": "stream",
     "text": [
      "134\n"
     ]
    },
    {
     "name": "stderr",
     "output_type": "stream",
     "text": [
      "Info: Params [ 0.         -1.23062286  1.46758524  0.4223147   0.83699981] gave 220.76011068401021\n"
     ]
    },
    {
     "name": "stdout",
     "output_type": "stream",
     "text": [
      "135\n"
     ]
    },
    {
     "name": "stderr",
     "output_type": "stream",
     "text": [
      "Info: Params [ 2.27941968 -1.208908    0.66895141  0.33423714  0.62679367] gave 43.38372040819621\n"
     ]
    },
    {
     "name": "stdout",
     "output_type": "stream",
     "text": [
      "136\n"
     ]
    },
    {
     "name": "stderr",
     "output_type": "stream",
     "text": [
      "Info: Params [ 0.56859591 -0.67197681  1.12561551  0.23012241  0.9570298 ] gave 201.87569425618472\n"
     ]
    },
    {
     "name": "stdout",
     "output_type": "stream",
     "text": [
      "137\n"
     ]
    },
    {
     "name": "stderr",
     "output_type": "stream",
     "text": [
      "Info: Params [ 0.03679433 -1.31155871  1.18997282  0.34898175  0.60230584] gave 213.54482448164708\n"
     ]
    },
    {
     "name": "stdout",
     "output_type": "stream",
     "text": [
      "138\n"
     ]
    },
    {
     "name": "stderr",
     "output_type": "stream",
     "text": [
      "Info: Params [ 0.65320928 -1.86125756  0.65873696  0.07945569  0.73240011] gave 92.96299486786504\n"
     ]
    },
    {
     "name": "stdout",
     "output_type": "stream",
     "text": [
      "139\n"
     ]
    },
    {
     "name": "stderr",
     "output_type": "stream",
     "text": [
      "Info: Params [ 0.36121499 -1.04138131  1.04969077  0.26533973  0.71077786] gave 187.6742552674396\n"
     ]
    },
    {
     "name": "stdout",
     "output_type": "stream",
     "text": [
      "140\n"
     ]
    },
    {
     "name": "stderr",
     "output_type": "stream",
     "text": [
      "Info: Params [ 1.05256209 -0.52908471  1.355792    0.30815933  0.87209522] gave 202.27039098979108\n"
     ]
    },
    {
     "name": "stdout",
     "output_type": "stream",
     "text": [
      "141\n"
     ]
    },
    {
     "name": "stderr",
     "output_type": "stream",
     "text": [
      "Info: Params [ 0.5268257  -1.32819293  1.00732241  0.40723498  0.62526837] gave 153.0767947872986\n"
     ]
    },
    {
     "name": "stdout",
     "output_type": "stream",
     "text": [
      "142\n"
     ]
    },
    {
     "name": "stderr",
     "output_type": "stream",
     "text": [
      "Info: Params [ 0.58390144 -0.90359877  1.45610537  0.3390158   0.92507511] gave 222.09782916832322\n"
     ]
    },
    {
     "name": "stdout",
     "output_type": "stream",
     "text": [
      "143\n"
     ]
    },
    {
     "name": "stderr",
     "output_type": "stream",
     "text": [
      "Info: Params [ 0.8595409  -1.20717147  0.76890488  0.42226555  0.7093829 ] gave 115.51979830817587\n"
     ]
    },
    {
     "name": "stdout",
     "output_type": "stream",
     "text": [
      "144\n"
     ]
    },
    {
     "name": "stderr",
     "output_type": "stream",
     "text": [
      "Info: Params [ 0.81265586 -0.58537944  1.11255451  0.08657065  0.57569964] gave 211.81143342223515\n"
     ]
    },
    {
     "name": "stdout",
     "output_type": "stream",
     "text": [
      "145\n"
     ]
    },
    {
     "name": "stderr",
     "output_type": "stream",
     "text": [
      "Info: Params [ 0.61408093 -1.13793261  0.92510905  0.20612678  0.60048865] gave 161.05085778942606\n"
     ]
    },
    {
     "name": "stdout",
     "output_type": "stream",
     "text": [
      "146\n"
     ]
    },
    {
     "name": "stderr",
     "output_type": "stream",
     "text": [
      "Info: Params [ 0.3281229  -0.7146034   1.43406775  0.26450982  0.59025761] gave 247.33085528306006\n"
     ]
    },
    {
     "name": "stdout",
     "output_type": "stream",
     "text": [
      "147\n"
     ]
    },
    {
     "name": "stderr",
     "output_type": "stream",
     "text": [
      "Info: Params [ 0.         -1.86608386  1.76131884  0.56899266  0.94113163] gave 193.58317111933707\n"
     ]
    },
    {
     "name": "stdout",
     "output_type": "stream",
     "text": [
      "148\n"
     ]
    },
    {
     "name": "stderr",
     "output_type": "stream",
     "text": [
      "Info: Params [ 0.71277216 -2.19915763  0.6326724   0.34480284  0.65282859] gave 46.52460475167928\n"
     ]
    },
    {
     "name": "stdout",
     "output_type": "stream",
     "text": [
      "149\n"
     ]
    },
    {
     "name": "stderr",
     "output_type": "stream",
     "text": [
      "Info: Params [ 0.1836816  -0.86004933  1.2042497   0.23439922  0.83633985] gave 227.16065930605657\n"
     ]
    },
    {
     "name": "stdout",
     "output_type": "stream",
     "text": [
      "150\n"
     ]
    },
    {
     "name": "stderr",
     "output_type": "stream",
     "text": [
      "Info: Params [ 0.32184751 -0.80666151  1.55764272  0.57826935  0.66250478] gave 189.71942868131245\n"
     ]
    },
    {
     "name": "stdout",
     "output_type": "stream",
     "text": [
      "151\n"
     ]
    },
    {
     "name": "stderr",
     "output_type": "stream",
     "text": [
      "Info: Params [ 0.47092032 -0.85289554  0.97966154  0.29404992  0.85186468] gave 179.96041077574895\n"
     ]
    },
    {
     "name": "stdout",
     "output_type": "stream",
     "text": [
      "152\n"
     ]
    },
    {
     "name": "stderr",
     "output_type": "stream",
     "text": [
      "Info: Params [ 0.17725759 -1.27990739  1.21463944  0.61749335  0.70597988] gave 180.05533730516316\n"
     ]
    },
    {
     "name": "stdout",
     "output_type": "stream",
     "text": [
      "153\n"
     ]
    },
    {
     "name": "stderr",
     "output_type": "stream",
     "text": [
      "Info: Params [ 0.30111078 -1.78466772  0.65769416  0.46330398  0.53379089] gave 91.708402795105\n"
     ]
    },
    {
     "name": "stdout",
     "output_type": "stream",
     "text": [
      "154\n"
     ]
    },
    {
     "name": "stderr",
     "output_type": "stream",
     "text": [
      "Info: Params [ 0.17271983 -1.28618475  1.63635074  0.59724704  0.6150156 ] gave 202.63175105719463\n"
     ]
    },
    {
     "name": "stdout",
     "output_type": "stream",
     "text": [
      "155\n"
     ]
    },
    {
     "name": "stderr",
     "output_type": "stream",
     "text": [
      "Info: Params [ 0.         -1.37709126  1.47540048  0.55324171  0.6550603 ] gave 208.6077110271037\n"
     ]
    },
    {
     "name": "stdout",
     "output_type": "stream",
     "text": [
      "156\n"
     ]
    },
    {
     "name": "stderr",
     "output_type": "stream",
     "text": [
      "Info: Params [ 1.09465005 -2.04809209  0.74695904  0.24917183  0.86097673] gave 70.14498076397237\n"
     ]
    },
    {
     "name": "stdout",
     "output_type": "stream",
     "text": [
      "157\n"
     ]
    },
    {
     "name": "stderr",
     "output_type": "stream",
     "text": [
      "Info: Params [ 0.14141824 -2.83160512  0.77859504  0.36505504  0.75736765] gave 80.81150291655919\n"
     ]
    },
    {
     "name": "stdout",
     "output_type": "stream",
     "text": [
      "158\n"
     ]
    },
    {
     "name": "stderr",
     "output_type": "stream",
     "text": [
      "Info: Params [ 0.07634601 -1.01040281  1.70709114  0.38161668  0.99388289] gave 192.67125563113225\n"
     ]
    },
    {
     "name": "stdout",
     "output_type": "stream",
     "text": [
      "159\n"
     ]
    },
    {
     "name": "stderr",
     "output_type": "stream",
     "text": [
      "Info: Params [ 0.30931996 -1.35027836  1.10173441  0.5503342   0.67246599] gave 150.4781107375957\n"
     ]
    },
    {
     "name": "stdout",
     "output_type": "stream",
     "text": [
      "160\n"
     ]
    },
    {
     "name": "stderr",
     "output_type": "stream",
     "text": [
      "Info: Params [ 0.16827669 -0.62131787  1.13976866  0.34798792  0.73495775] gave 246.35666695590302\n"
     ]
    },
    {
     "name": "stdout",
     "output_type": "stream",
     "text": [
      "161\n"
     ]
    },
    {
     "name": "stderr",
     "output_type": "stream",
     "text": [
      "Info: Params [ 0.1452901  -1.28952304  1.0102079   0.34817265  0.83135601] gave 175.06029010646242\n"
     ]
    },
    {
     "name": "stdout",
     "output_type": "stream",
     "text": [
      "162\n"
     ]
    },
    {
     "name": "stderr",
     "output_type": "stream",
     "text": [
      "Info: Params [ 0.84879917 -1.17846542  0.8926361  -0.01159683  0.65992731] gave 151.0986813888803\n"
     ]
    },
    {
     "name": "stdout",
     "output_type": "stream",
     "text": [
      "163\n"
     ]
    },
    {
     "name": "stderr",
     "output_type": "stream",
     "text": [
      "Info: Params [ 0.39781934 -0.32963581  0.94431934 -0.14397722  0.09427536] gave 178.7124933517085\n"
     ]
    },
    {
     "name": "stdout",
     "output_type": "stream",
     "text": [
      "164\n"
     ]
    },
    {
     "name": "stderr",
     "output_type": "stream",
     "text": [
      "Info: Params [ 0.44831494 -0.98904015  1.07594538  0.2431492   0.82995838] gave 193.8098085465933\n"
     ]
    },
    {
     "name": "stdout",
     "output_type": "stream",
     "text": [
      "165\n"
     ]
    },
    {
     "name": "stderr",
     "output_type": "stream",
     "text": [
      "Info: Params [ 0.60759735 -0.67751088  0.86912374  0.10796001  0.87218871] gave 172.5994691969221\n"
     ]
    },
    {
     "name": "stdout",
     "output_type": "stream",
     "text": [
      "166\n"
     ]
    },
    {
     "name": "stderr",
     "output_type": "stream",
     "text": [
      "Info: Params [ 0.25972087 -1.20375327  1.05896022  0.39910364  0.59429284] gave 186.91738039337065\n"
     ]
    },
    {
     "name": "stdout",
     "output_type": "stream",
     "text": [
      "167\n"
     ]
    },
    {
     "name": "stderr",
     "output_type": "stream",
     "text": [
      "Info: Params [ 0.32433432 -1.16796356  0.86850825  0.39532827  0.79053442] gave 154.33575741877146\n"
     ]
    },
    {
     "name": "stdout",
     "output_type": "stream",
     "text": [
      "168\n"
     ]
    },
    {
     "name": "stderr",
     "output_type": "stream",
     "text": [
      "Info: Params [ 0.00955372 -1.98255851  0.83890997  0.44364779  0.78940188] gave 126.31736409435064\n"
     ]
    },
    {
     "name": "stdout",
     "output_type": "stream",
     "text": [
      "169\n"
     ]
    },
    {
     "name": "stderr",
     "output_type": "stream",
     "text": [
      "Info: Params [ 0.         -3.65415527  0.83301759  0.5558972   0.78022661] gave 111.5913878454725\n"
     ]
    },
    {
     "name": "stdout",
     "output_type": "stream",
     "text": [
      "170\n"
     ]
    },
    {
     "name": "stderr",
     "output_type": "stream",
     "text": [
      "Info: Params [ 0.70699245 -0.87320477  0.93057843  0.17382003  0.47877579] gave 160.68042403809875\n"
     ]
    },
    {
     "name": "stdout",
     "output_type": "stream",
     "text": [
      "171\n"
     ]
    },
    {
     "name": "stderr",
     "output_type": "stream",
     "text": [
      "Info: Params [ 0.25109664 -1.54960914  0.83126273  0.17305844  0.53322601] gave 150.84813535520792\n"
     ]
    },
    {
     "name": "stdout",
     "output_type": "stream",
     "text": [
      "172\n"
     ]
    },
    {
     "name": "stderr",
     "output_type": "stream",
     "text": [
      "Info: Params [ 0.69381548 -0.80738642  1.00742584  0.20178972  0.48310353] gave 170.58197257903666\n"
     ]
    },
    {
     "name": "stdout",
     "output_type": "stream",
     "text": [
      "173\n"
     ]
    },
    {
     "name": "stderr",
     "output_type": "stream",
     "text": [
      "Info: Params [ 0.05984179 -0.95241631  1.25796489  0.13948731  0.8425036 ] gave 233.36615947281567\n"
     ]
    },
    {
     "name": "stdout",
     "output_type": "stream",
     "text": [
      "174\n"
     ]
    },
    {
     "name": "stderr",
     "output_type": "stream",
     "text": [
      "Info: Params [ 0.21379552 -1.16374771  1.05180567  0.11888963  0.87553092] gave 198.3931994778332\n"
     ]
    },
    {
     "name": "stdout",
     "output_type": "stream",
     "text": [
      "175\n"
     ]
    },
    {
     "name": "stderr",
     "output_type": "stream",
     "text": [
      "Info: Params [ 1.5066519  -0.6564545   0.91321762  0.18901695  0.66265009] gave 128.36438493441855\n"
     ]
    },
    {
     "name": "stdout",
     "output_type": "stream",
     "text": [
      "176\n"
     ]
    },
    {
     "name": "stderr",
     "output_type": "stream",
     "text": [
      "Info: Params [ 0.77334018 -0.66110821  1.06856392  0.11336846  0.87589778] gave 198.54450343297654\n"
     ]
    },
    {
     "name": "stdout",
     "output_type": "stream",
     "text": [
      "177\n"
     ]
    },
    {
     "name": "stderr",
     "output_type": "stream",
     "text": [
      "Info: Params [ 0.09064579 -1.38454708  1.37237225  0.22863715  0.91760459] gave 206.63917243469646\n"
     ]
    },
    {
     "name": "stdout",
     "output_type": "stream",
     "text": [
      "178\n"
     ]
    },
    {
     "name": "stderr",
     "output_type": "stream",
     "text": [
      "Info: Params [ 0.33103966 -3.06105296  0.73774869  0.4005056   0.60711431] gave 113.4910514365385\n"
     ]
    },
    {
     "name": "stdout",
     "output_type": "stream",
     "text": [
      "179\n"
     ]
    },
    {
     "name": "stderr",
     "output_type": "stream",
     "text": [
      "Info: Params [ 0.66944727 -0.5641272   1.28200642  0.21931125  0.74817873] gave 225.7789759994149\n"
     ]
    },
    {
     "name": "stdout",
     "output_type": "stream",
     "text": [
      "180\n"
     ]
    },
    {
     "name": "stderr",
     "output_type": "stream",
     "text": [
      "Info: Params [ 0.32171896 -0.95700872  1.29099638  0.3108264   0.78294087] gave 219.63574603159822\n"
     ]
    },
    {
     "name": "stdout",
     "output_type": "stream",
     "text": [
      "181\n"
     ]
    },
    {
     "name": "stderr",
     "output_type": "stream",
     "text": [
      "Info: Params [ 0.26353978 -1.3585999   1.03486821  0.48609843  0.67298737] gave 156.0745669040373\n"
     ]
    },
    {
     "name": "stdout",
     "output_type": "stream",
     "text": [
      "182\n"
     ]
    },
    {
     "name": "stderr",
     "output_type": "stream",
     "text": [
      "Info: Params [ 0.         -1.20236252  1.02160331  0.53135178  0.71458198] gave 174.86880339914654\n"
     ]
    },
    {
     "name": "stdout",
     "output_type": "stream",
     "text": [
      "183\n"
     ]
    },
    {
     "name": "stderr",
     "output_type": "stream",
     "text": [
      "Info: Params [ 0.56910557 -1.10226678  0.97430101  0.17374115  0.90956148] gave 176.33485804944152\n"
     ]
    },
    {
     "name": "stdout",
     "output_type": "stream",
     "text": [
      "184\n"
     ]
    },
    {
     "name": "stderr",
     "output_type": "stream",
     "text": [
      "Info: Params [ 0.25428068 -2.48909416  0.69454185  0.3087111   0.61549732] gave 77.04158331332664\n"
     ]
    },
    {
     "name": "stdout",
     "output_type": "stream",
     "text": [
      "185\n"
     ]
    },
    {
     "name": "stderr",
     "output_type": "stream",
     "text": [
      "Info: Params [ 0.24470773 -1.39415115  0.96013592  0.51085886  0.67694452] gave 139.99129439955055\n"
     ]
    },
    {
     "name": "stdout",
     "output_type": "stream",
     "text": [
      "186\n"
     ]
    },
    {
     "name": "stderr",
     "output_type": "stream",
     "text": [
      "Info: Params [ 0.70092274 -0.85346141  1.46382715  0.25976895  0.92976368] gave 199.613304838099\n"
     ]
    },
    {
     "name": "stdout",
     "output_type": "stream",
     "text": [
      "187\n"
     ]
    },
    {
     "name": "stderr",
     "output_type": "stream",
     "text": [
      "Info: Params [ 0.67422408 -1.14786485  0.97990719  0.22881799  0.94181622] gave 160.3452808144167\n"
     ]
    },
    {
     "name": "stdout",
     "output_type": "stream",
     "text": [
      "188\n"
     ]
    },
    {
     "name": "stderr",
     "output_type": "stream",
     "text": [
      "Info: Params [ 0.         -1.83972927  1.08289851  0.2735428   0.70481232] gave 175.58867617948135\n"
     ]
    },
    {
     "name": "stdout",
     "output_type": "stream",
     "text": [
      "189\n"
     ]
    },
    {
     "name": "stderr",
     "output_type": "stream",
     "text": [
      "Info: Params [ 2.04914384 -1.26646317  0.53090974  0.06213824  0.66734249] gave 42.21650157241259\n"
     ]
    },
    {
     "name": "stdout",
     "output_type": "stream",
     "text": [
      "190\n"
     ]
    },
    {
     "name": "stderr",
     "output_type": "stream",
     "text": [
      "Info: Params [ 0.06254279 -1.63051595  1.15648628  0.39817829  0.6522602 ] gave 174.69010643087626\n"
     ]
    },
    {
     "name": "stdout",
     "output_type": "stream",
     "text": [
      "191\n"
     ]
    },
    {
     "name": "stderr",
     "output_type": "stream",
     "text": [
      "Info: Params [ 0.73187394 -1.2034542   1.01707854  0.29655902  0.63158184] gave 148.5919824998792\n"
     ]
    },
    {
     "name": "stdout",
     "output_type": "stream",
     "text": [
      "192\n"
     ]
    },
    {
     "name": "stderr",
     "output_type": "stream",
     "text": [
      "Info: Params [ 0.47060637 -0.99359415  1.12520374  0.27793142  0.88761708] gave 203.57930551742498\n"
     ]
    },
    {
     "name": "stdout",
     "output_type": "stream",
     "text": [
      "193\n"
     ]
    },
    {
     "name": "stderr",
     "output_type": "stream",
     "text": [
      "Info: Params [ 0.1109949  -1.36976437  1.05419778  0.51503584  0.62436   ] gave 158.394423617135\n"
     ]
    },
    {
     "name": "stdout",
     "output_type": "stream",
     "text": [
      "194\n"
     ]
    },
    {
     "name": "stderr",
     "output_type": "stream",
     "text": [
      "Info: Params [ 0.11589083 -1.17457015  1.94371584  0.57149551  0.7168166 ] gave 223.61330292780417\n"
     ]
    },
    {
     "name": "stdout",
     "output_type": "stream",
     "text": [
      "195\n"
     ]
    },
    {
     "name": "stderr",
     "output_type": "stream",
     "text": [
      "Info: Params [ 0.23110135 -0.70030446  1.10048677  0.03406633  0.70029414] gave 228.7146147021444\n"
     ]
    },
    {
     "name": "stdout",
     "output_type": "stream",
     "text": [
      "196\n"
     ]
    },
    {
     "name": "stderr",
     "output_type": "stream",
     "text": [
      "Info: Params [ 0.33870439 -1.1856415   0.98128758  0.32099137  0.80413474] gave 173.45091242044103\n"
     ]
    },
    {
     "name": "stdout",
     "output_type": "stream",
     "text": [
      "197\n"
     ]
    },
    {
     "name": "stderr",
     "output_type": "stream",
     "text": [
      "Info: Params [ 0.         -1.97970877  1.0627444   0.5751      0.82741928] gave 131.52887470602604\n"
     ]
    },
    {
     "name": "stdout",
     "output_type": "stream",
     "text": [
      "198\n"
     ]
    },
    {
     "name": "stderr",
     "output_type": "stream",
     "text": [
      "Info: Params [ 1.02042652 -0.47583874  0.97142842 -0.05604045  0.55009428] gave 174.70358847936012\n"
     ]
    },
    {
     "name": "stdout",
     "output_type": "stream",
     "text": [
      "199\n"
     ]
    },
    {
     "name": "stderr",
     "output_type": "stream",
     "text": [
      "Info: Params [ 0.45831921 -1.02428707  1.19207276 -0.10426945  0.85358232] gave 198.70456801253334\n"
     ]
    },
    {
     "name": "stdout",
     "output_type": "stream",
     "text": [
      "200\n"
     ]
    },
    {
     "name": "stderr",
     "output_type": "stream",
     "text": [
      "Info: Params [ 0.34475692 -2.05183621  0.75488258  0.15626783  0.63470137] gave 104.34240930429212\n"
     ]
    },
    {
     "name": "stdout",
     "output_type": "stream",
     "text": [
      "201\n"
     ]
    },
    {
     "name": "stderr",
     "output_type": "stream",
     "text": [
      "Info: Params [ 0.37151777 -2.52085759  0.71512391  0.36473586  0.61708083] gave 79.39597951998014\n"
     ]
    },
    {
     "name": "stdout",
     "output_type": "stream",
     "text": [
      "202\n"
     ]
    },
    {
     "name": "stderr",
     "output_type": "stream",
     "text": [
      "Info: Params [ 0.42358048 -1.12514715  0.99662471  0.34504325  0.76409123] gave 168.731856404467\n"
     ]
    },
    {
     "name": "stdout",
     "output_type": "stream",
     "text": [
      "203\n"
     ]
    },
    {
     "name": "stderr",
     "output_type": "stream",
     "text": [
      "Info: Params [ 0.71867297 -0.84015371  1.10052041  0.36057497  0.84086845] gave 183.27251555273085\n"
     ]
    },
    {
     "name": "stdout",
     "output_type": "stream",
     "text": [
      "204\n"
     ]
    },
    {
     "name": "stderr",
     "output_type": "stream",
     "text": [
      "Info: Params [ 0.10116744 -1.46431425  1.53776898  0.31749188  0.94162303] gave 218.5964748868316\n"
     ]
    },
    {
     "name": "stdout",
     "output_type": "stream",
     "text": [
      "205\n"
     ]
    },
    {
     "name": "stderr",
     "output_type": "stream",
     "text": [
      "Info: Params [ 0.96943264 -1.28376946  0.61569329  0.09422656  0.75000059] gave 91.51795979838414\n"
     ]
    },
    {
     "name": "stdout",
     "output_type": "stream",
     "text": [
      "206\n"
     ]
    },
    {
     "name": "stderr",
     "output_type": "stream",
     "text": [
      "Info: Params [ 0.42978389 -0.84487081  1.21476328  0.31049762  0.88029853] gave 209.44392912411035\n"
     ]
    },
    {
     "name": "stdout",
     "output_type": "stream",
     "text": [
      "207\n"
     ]
    },
    {
     "name": "stderr",
     "output_type": "stream",
     "text": [
      "Info: Params [ 0.06675233 -1.67908897  1.06438699  0.46411688  0.85933416] gave 167.95940860895573\n"
     ]
    },
    {
     "name": "stdout",
     "output_type": "stream",
     "text": [
      "208\n"
     ]
    },
    {
     "name": "stderr",
     "output_type": "stream",
     "text": [
      "Info: Params [ 0.53849247 -1.9645284   0.73453139  0.32017214  0.67582275] gave 77.73375629827271\n"
     ]
    },
    {
     "name": "stdout",
     "output_type": "stream",
     "text": [
      "209\n"
     ]
    },
    {
     "name": "stderr",
     "output_type": "stream",
     "text": [
      "Info: Params [ 0.46611507 -1.06320939  1.18659538  0.38882501  0.82522661] gave 197.27253476741632\n"
     ]
    },
    {
     "name": "stdout",
     "output_type": "stream",
     "text": [
      "210\n"
     ]
    },
    {
     "name": "stderr",
     "output_type": "stream",
     "text": [
      "Info: Params [ 0.54613243 -0.96336705  1.5126569   0.33858097  0.84972322] gave 188.15087864912329\n"
     ]
    },
    {
     "name": "stdout",
     "output_type": "stream",
     "text": [
      "211\n"
     ]
    },
    {
     "name": "stderr",
     "output_type": "stream",
     "text": [
      "Info: Params [ 0.41003478 -1.09657936  0.79334405  0.06044487  0.79545967] gave 151.15126228504403\n"
     ]
    },
    {
     "name": "stdout",
     "output_type": "stream",
     "text": [
      "212\n"
     ]
    },
    {
     "name": "stderr",
     "output_type": "stream",
     "text": [
      "Info: Params [ 0.14886414 -1.25926572  1.11276315  0.26668929  0.52407537] gave 192.17801814440497\n"
     ]
    },
    {
     "name": "stdout",
     "output_type": "stream",
     "text": [
      "213\n"
     ]
    },
    {
     "name": "stderr",
     "output_type": "stream",
     "text": [
      "Info: Params [ 1.19697685 -0.91827719  0.72269281  0.2002389   0.96571735] gave 117.62575360180355\n"
     ]
    },
    {
     "name": "stdout",
     "output_type": "stream",
     "text": [
      "214\n"
     ]
    },
    {
     "name": "stderr",
     "output_type": "stream",
     "text": [
      "Info: Params [ 5.07249802e-04 -1.37682189e+00  1.27205841e+00  3.64548043e-01\n",
      "  5.53198699e-01] gave 212.00460138353438\n"
     ]
    },
    {
     "name": "stdout",
     "output_type": "stream",
     "text": [
      "215\n"
     ]
    },
    {
     "name": "stderr",
     "output_type": "stream",
     "text": [
      "Info: Params [ 0.21824755 -1.19465899  0.90470653  0.34860128  0.7727919 ] gave 169.63000242633635\n"
     ]
    },
    {
     "name": "stdout",
     "output_type": "stream",
     "text": [
      "216\n"
     ]
    },
    {
     "name": "stderr",
     "output_type": "stream",
     "text": [
      "Info: Params [ 0.         -1.66712479  1.07393642  0.47097395  0.79747568] gave 161.17421037649905\n"
     ]
    },
    {
     "name": "stdout",
     "output_type": "stream",
     "text": [
      "217\n"
     ]
    },
    {
     "name": "stderr",
     "output_type": "stream",
     "text": [
      "Info: Params [ 0.06509547 -1.29654469  1.1623315   0.33781571  0.35514845] gave 189.93061905750403\n"
     ]
    },
    {
     "name": "stdout",
     "output_type": "stream",
     "text": [
      "218\n"
     ]
    },
    {
     "name": "stderr",
     "output_type": "stream",
     "text": [
      "Info: Params [ 0.89293289 -1.23195341  0.86365161  0.26237377  0.72842186] gave 126.25639660813206\n"
     ]
    },
    {
     "name": "stdout",
     "output_type": "stream",
     "text": [
      "219\n"
     ]
    },
    {
     "name": "stderr",
     "output_type": "stream",
     "text": [
      "Info: Params [ 0.33373206 -1.03460095  1.14016135  0.15262428  0.94495173] gave 204.58786500649018\n"
     ]
    },
    {
     "name": "stdout",
     "output_type": "stream",
     "text": [
      "220\n"
     ]
    },
    {
     "name": "stderr",
     "output_type": "stream",
     "text": [
      "Info: Params [ 0.24465083 -2.16233506  0.50902592  0.38903251  0.76173626] gave 58.430749546366265\n"
     ]
    },
    {
     "name": "stdout",
     "output_type": "stream",
     "text": [
      "221\n"
     ]
    },
    {
     "name": "stderr",
     "output_type": "stream",
     "text": [
      "Info: Params [ 0.21889755 -1.01562191  1.27570568  0.49919925  0.54529581] gave 209.17581074870415\n"
     ]
    },
    {
     "name": "stdout",
     "output_type": "stream",
     "text": [
      "222\n"
     ]
    },
    {
     "name": "stderr",
     "output_type": "stream",
     "text": [
      "Info: Params [ 0.         -1.14391474  0.97302902  0.24131842  0.54301975] gave 181.20157054796647\n"
     ]
    },
    {
     "name": "stdout",
     "output_type": "stream",
     "text": [
      "223\n"
     ]
    },
    {
     "name": "stderr",
     "output_type": "stream",
     "text": [
      "Info: Params [ 1.08917641 -1.00687189  0.7888527   0.34372765  0.61352192] gave 90.48310178642947\n"
     ]
    },
    {
     "name": "stdout",
     "output_type": "stream",
     "text": [
      "224\n"
     ]
    },
    {
     "name": "stderr",
     "output_type": "stream",
     "text": [
      "Info: Params [ 0.         -1.1602044   1.4674912   0.48378222  0.92250189] gave 236.55194585108407\n"
     ]
    },
    {
     "name": "stdout",
     "output_type": "stream",
     "text": [
      "225\n"
     ]
    },
    {
     "name": "stderr",
     "output_type": "stream",
     "text": [
      "Info: Params [ 0.13062929 -1.61108821  0.92708045  0.36065334  0.78669934] gave 146.83259943973815\n"
     ]
    },
    {
     "name": "stdout",
     "output_type": "stream",
     "text": [
      "226\n"
     ]
    },
    {
     "name": "stderr",
     "output_type": "stream",
     "text": [
      "Info: Params [ 0.20646501 -1.69844294  0.91175624  0.50320377  0.86134438] gave 153.6324596308766\n"
     ]
    },
    {
     "name": "stdout",
     "output_type": "stream",
     "text": [
      "227\n"
     ]
    },
    {
     "name": "stderr",
     "output_type": "stream",
     "text": [
      "Info: Params [ 1.03137041 -0.98315568  0.66254594  0.35253366  0.54691225] gave 88.3559077883009\n"
     ]
    },
    {
     "name": "stdout",
     "output_type": "stream",
     "text": [
      "228\n"
     ]
    },
    {
     "name": "stderr",
     "output_type": "stream",
     "text": [
      "Info: Params [ 0.15767491 -1.13172419  0.92398071  0.16257032  0.75460174] gave 184.6433757425553\n"
     ]
    },
    {
     "name": "stdout",
     "output_type": "stream",
     "text": [
      "229\n"
     ]
    },
    {
     "name": "stderr",
     "output_type": "stream",
     "text": [
      "Info: Params [ 0.08108452 -1.56487995  1.30838521  0.46208817  0.68676589] gave 173.13541092393547\n"
     ]
    },
    {
     "name": "stdout",
     "output_type": "stream",
     "text": [
      "230\n"
     ]
    },
    {
     "name": "stderr",
     "output_type": "stream",
     "text": [
      "Info: Params [ 0.         -1.19048039  1.40877777  0.55645431  0.65681919] gave 212.3127613317073\n"
     ]
    },
    {
     "name": "stdout",
     "output_type": "stream",
     "text": [
      "231\n"
     ]
    },
    {
     "name": "stderr",
     "output_type": "stream",
     "text": [
      "Info: Params [ 0.35500242 -0.69833631  1.25419545  0.39864672  0.96403212] gave 200.05681095245637\n"
     ]
    },
    {
     "name": "stdout",
     "output_type": "stream",
     "text": [
      "232\n"
     ]
    },
    {
     "name": "stderr",
     "output_type": "stream",
     "text": [
      "Info: Params [ 0.56374474 -0.75772973  1.12772414  0.08152794  0.6100122 ] gave 217.81268377175005\n"
     ]
    },
    {
     "name": "stdout",
     "output_type": "stream",
     "text": [
      "233\n"
     ]
    },
    {
     "name": "stderr",
     "output_type": "stream",
     "text": [
      "Info: Params [ 0.53711066 -1.18190788  0.96787129  0.18700353  0.79921256] gave 170.76795007160757\n"
     ]
    },
    {
     "name": "stdout",
     "output_type": "stream",
     "text": [
      "234\n"
     ]
    },
    {
     "name": "stderr",
     "output_type": "stream",
     "text": [
      "Info: Params [ 0.40135692 -0.94729823  1.02595832  0.23678434  0.4483346 ] gave 197.58720778619872\n"
     ]
    },
    {
     "name": "stdout",
     "output_type": "stream",
     "text": [
      "235\n"
     ]
    },
    {
     "name": "stderr",
     "output_type": "stream",
     "text": [
      "Info: Params [ 0.32212985 -0.56315167  1.33864093  0.1909643   0.76100493] gave 254.0244962174229\n"
     ]
    },
    {
     "name": "stdout",
     "output_type": "stream",
     "text": [
      "236\n"
     ]
    },
    {
     "name": "stderr",
     "output_type": "stream",
     "text": [
      "Info: Params [ 0.35321654 -2.0526167   1.17109808  0.53379387  0.74799404] gave 126.7894283325131\n"
     ]
    },
    {
     "name": "stdout",
     "output_type": "stream",
     "text": [
      "237\n"
     ]
    },
    {
     "name": "stderr",
     "output_type": "stream",
     "text": [
      "Info: Params [ 0.11972754 -1.0957588   1.03077992  0.28080516  0.79667541] gave 205.5739749714446\n"
     ]
    },
    {
     "name": "stdout",
     "output_type": "stream",
     "text": [
      "238\n"
     ]
    },
    {
     "name": "stderr",
     "output_type": "stream",
     "text": [
      "Info: Params [ 0.96604441 -0.01512534  1.06090171 -0.34873174  0.76567001] gave 201.68995496240427\n"
     ]
    },
    {
     "name": "stdout",
     "output_type": "stream",
     "text": [
      "239\n"
     ]
    },
    {
     "name": "stderr",
     "output_type": "stream",
     "text": [
      "Info: Params [ 0.64411401 -0.85102981  1.22660291  0.16316416  0.68489634] gave 200.1004035372546\n"
     ]
    },
    {
     "name": "stdout",
     "output_type": "stream",
     "text": [
      "240\n"
     ]
    },
    {
     "name": "stderr",
     "output_type": "stream",
     "text": [
      "Info: Params [ 0.95975432 -0.29602617  1.07496335  0.06291413  0.59160668] gave 201.10127982720283\n"
     ]
    },
    {
     "name": "stdout",
     "output_type": "stream",
     "text": [
      "241\n"
     ]
    },
    {
     "name": "stderr",
     "output_type": "stream",
     "text": [
      "Info: Params [ 0.34764242 -1.2508797   1.2378396   0.28518224  0.75336956] gave 185.85966207060386\n"
     ]
    },
    {
     "name": "stdout",
     "output_type": "stream",
     "text": [
      "242\n"
     ]
    },
    {
     "name": "stderr",
     "output_type": "stream",
     "text": [
      "Info: Params [ 0.26136928 -0.81071882  1.14794862  0.10623921  0.8998486 ] gave 228.30388052664603\n"
     ]
    },
    {
     "name": "stdout",
     "output_type": "stream",
     "text": [
      "243\n"
     ]
    },
    {
     "name": "stderr",
     "output_type": "stream",
     "text": [
      "Info: Params [ 0.8583243  -1.16871927  0.96218478  0.49103214  0.55183416] gave 128.2892847054202\n"
     ]
    },
    {
     "name": "stdout",
     "output_type": "stream",
     "text": [
      "244\n"
     ]
    },
    {
     "name": "stderr",
     "output_type": "stream",
     "text": [
      "Info: Params [ 0.         -1.41343316  1.17355761  0.54241727  0.94944915] gave 197.55269267824642\n"
     ]
    },
    {
     "name": "stdout",
     "output_type": "stream",
     "text": [
      "245\n"
     ]
    },
    {
     "name": "stderr",
     "output_type": "stream",
     "text": [
      "Info: Params [ 0.73469238 -0.81619751  0.9044399   0.24992811  0.66932666] gave 156.82422057141633\n"
     ]
    },
    {
     "name": "stdout",
     "output_type": "stream",
     "text": [
      "246\n"
     ]
    },
    {
     "name": "stderr",
     "output_type": "stream",
     "text": [
      "Info: Params [ 0.83319925 -1.23505202  1.30557384  0.33655113  0.78952481] gave 161.14463620371188\n"
     ]
    },
    {
     "name": "stdout",
     "output_type": "stream",
     "text": [
      "247\n"
     ]
    },
    {
     "name": "stderr",
     "output_type": "stream",
     "text": [
      "Info: Params [ 0.39708935 -0.44183571  1.11110181  0.35035898  0.75765956] gave 217.8890732787978\n"
     ]
    },
    {
     "name": "stdout",
     "output_type": "stream",
     "text": [
      "248\n"
     ]
    },
    {
     "name": "stderr",
     "output_type": "stream",
     "text": [
      "Info: Params [ 0.         -1.68430554  1.0423736   0.45227323  0.89367719] gave 152.6047392499382\n"
     ]
    },
    {
     "name": "stdout",
     "output_type": "stream",
     "text": [
      "249\n"
     ]
    },
    {
     "name": "stderr",
     "output_type": "stream",
     "text": [
      "Info: Params [ 0.66981192 -1.00222306  1.08928015  0.28678582  0.52068392] gave 170.8584634879513\n"
     ]
    },
    {
     "name": "stdout",
     "output_type": "stream",
     "text": [
      "250\n"
     ]
    },
    {
     "name": "stderr",
     "output_type": "stream",
     "text": [
      "Info: Params [ 0.68204679 -0.51743956  1.32652093 -0.01740063  0.93543851] gave 226.92409265661277\n"
     ]
    },
    {
     "name": "stdout",
     "output_type": "stream",
     "text": [
      "251\n"
     ]
    },
    {
     "name": "stderr",
     "output_type": "stream",
     "text": [
      "Info: Params [ 0.49856341 -0.93086817  1.28235346  0.38244077  0.52946276] gave 181.84024970791216\n"
     ]
    },
    {
     "name": "stdout",
     "output_type": "stream",
     "text": [
      "1\n"
     ]
    },
    {
     "name": "stderr",
     "output_type": "stream",
     "text": [
      "Info: Params [ 1.21166666  0.          1.07999999  2.43433137 -0.06216433  0.57045949] gave 220.6092421603417\n"
     ]
    },
    {
     "name": "stdout",
     "output_type": "stream",
     "text": [
      "2\n"
     ]
    },
    {
     "name": "stderr",
     "output_type": "stream",
     "text": [
      "Info: Params [ 3.37939999  0.          1.86666664  0.76450666 -0.13933406  0.45942767] gave 15.045865365543204\n"
     ]
    },
    {
     "name": "stdout",
     "output_type": "stream",
     "text": [
      "3\n"
     ]
    },
    {
     "name": "stderr",
     "output_type": "stream",
     "text": [
      "Info: Params [2.0173836  0.         1.14999999 0.94000279 0.10617743 0.56414417] gave 91.47732644998072\n"
     ]
    },
    {
     "name": "stdout",
     "output_type": "stream",
     "text": [
      "4\n"
     ]
    },
    {
     "name": "stderr",
     "output_type": "stream",
     "text": [
      "Info: Params [ 1.82112516  0.          1.24000002  0.96788516 -0.10185454  0.64990814] gave 95.22965073854901\n"
     ]
    },
    {
     "name": "stdout",
     "output_type": "stream",
     "text": [
      "5\n"
     ]
    },
    {
     "name": "stderr",
     "output_type": "stream",
     "text": [
      "Info: Params [0.64812629 0.         0.80571428 2.22138162 0.10317953 0.35343159] gave 253.07170431984323\n"
     ]
    },
    {
     "name": "stdout",
     "output_type": "stream",
     "text": [
      "6\n"
     ]
    },
    {
     "name": "stderr",
     "output_type": "stream",
     "text": [
      "Info: Params [ 1.17403407  0.          0.55238095  0.96545842 -0.14722842  0.79749885] gave 149.24526222147733\n"
     ]
    },
    {
     "name": "stdout",
     "output_type": "stream",
     "text": [
      "7\n"
     ]
    },
    {
     "name": "stderr",
     "output_type": "stream",
     "text": [
      "Info: Params [0.86324221 0.         0.67272726 1.83246791 0.12096668 0.34967782] gave 229.6032786091257\n"
     ]
    },
    {
     "name": "stdout",
     "output_type": "stream",
     "text": [
      "8\n"
     ]
    },
    {
     "name": "stderr",
     "output_type": "stream",
     "text": [
      "Info: Params [ 1.20554501  0.          0.84444445  1.01163725 -0.09281935  0.73621685] gave 136.52072528116707\n"
     ]
    },
    {
     "name": "stdout",
     "output_type": "stream",
     "text": [
      "9\n"
     ]
    },
    {
     "name": "stderr",
     "output_type": "stream",
     "text": [
      "Info: Params [0.67324455 0.         0.75199996 1.98120866 0.55965106 0.67134408] gave 222.4817340720897\n"
     ]
    },
    {
     "name": "stdout",
     "output_type": "stream",
     "text": [
      "10\n"
     ]
    },
    {
     "name": "stderr",
     "output_type": "stream",
     "text": [
      "Info: Params [ 0.89751681  0.          0.          0.70485143 -0.23276516  0.56465444] gave 152.67917931802924\n"
     ]
    },
    {
     "name": "stdout",
     "output_type": "stream",
     "text": [
      "11\n"
     ]
    },
    {
     "name": "stderr",
     "output_type": "stream",
     "text": [
      "Info: Params [ 1.24212701  0.          0.45        0.81292641 -0.07900403  0.81512935] gave 131.65724672572583\n"
     ]
    },
    {
     "name": "stdout",
     "output_type": "stream",
     "text": [
      "12\n"
     ]
    },
    {
     "name": "stderr",
     "output_type": "stream",
     "text": [
      "Info: Params [ 1.15563143  0.          0.86666666  1.40344318 -0.1135291   0.80823987] gave 178.42990771702614\n"
     ]
    },
    {
     "name": "stdout",
     "output_type": "stream",
     "text": [
      "13\n"
     ]
    },
    {
     "name": "stderr",
     "output_type": "stream",
     "text": [
      "Info: Params [1.63188842 0.         1.23999999 1.01308855 0.0746791  0.7801714 ] gave 104.74469502026166\n"
     ]
    },
    {
     "name": "stdout",
     "output_type": "stream",
     "text": [
      "14\n"
     ]
    },
    {
     "name": "stderr",
     "output_type": "stream",
     "text": [
      "Info: Params [ 1.14655818  0.          0.42677916  1.05808815 -0.29372188  0.98624052] gave 179.31910619471432\n"
     ]
    },
    {
     "name": "stdout",
     "output_type": "stream",
     "text": [
      "15\n"
     ]
    },
    {
     "name": "stderr",
     "output_type": "stream",
     "text": [
      "Info: Params [1.51821718 0.         0.59999999 0.80950274 0.00835984 0.71351233] gave 131.25559299052253\n"
     ]
    },
    {
     "name": "stdout",
     "output_type": "stream",
     "text": [
      "16\n"
     ]
    },
    {
     "name": "stderr",
     "output_type": "stream",
     "text": [
      "Info: Params [ 1.1451068   0.          0.9         1.8660115  -0.00776606  0.73442757] gave 202.89865159035952\n"
     ]
    },
    {
     "name": "stdout",
     "output_type": "stream",
     "text": [
      "17\n"
     ]
    },
    {
     "name": "stderr",
     "output_type": "stream",
     "text": [
      "Info: Params [0.60473995 0.         0.73809523 1.87429554 0.19887283 0.38499832] gave 234.7954486644544\n"
     ]
    },
    {
     "name": "stdout",
     "output_type": "stream",
     "text": [
      "18\n"
     ]
    },
    {
     "name": "stderr",
     "output_type": "stream",
     "text": [
      "Info: Params [1.77658125 0.         1.425      1.28007723 0.06373623 0.83872789] gave 108.05697673794016\n"
     ]
    },
    {
     "name": "stdout",
     "output_type": "stream",
     "text": [
      "19\n"
     ]
    },
    {
     "name": "stderr",
     "output_type": "stream",
     "text": [
      "Info: Params [0.61444912 0.         0.91034482 2.35095589 0.21210193 0.38820105] gave 231.71188359463557\n"
     ]
    },
    {
     "name": "stdout",
     "output_type": "stream",
     "text": [
      "20\n"
     ]
    },
    {
     "name": "stderr",
     "output_type": "stream",
     "text": [
      "Info: Params [ 7.67388614e-01 -7.05163629e-04  3.99294832e-01  1.35722670e+00\n",
      " -6.77385126e-02  6.14685133e-01] gave 235.06519372746075\n"
     ]
    },
    {
     "name": "stdout",
     "output_type": "stream",
     "text": [
      "21\n"
     ]
    },
    {
     "name": "stderr",
     "output_type": "stream",
     "text": [
      "Info: Params [0.98584221 0.         1.02857143 2.49906936 0.10096424 0.90164374] gave 206.68867663327083\n"
     ]
    },
    {
     "name": "stdout",
     "output_type": "stream",
     "text": [
      "22\n"
     ]
    },
    {
     "name": "stderr",
     "output_type": "stream",
     "text": [
      "Info: Params [1.18189344 0.         1.16666667 1.36426207 0.1071013  0.63723907] gave 149.39733594934677\n"
     ]
    },
    {
     "name": "stdout",
     "output_type": "stream",
     "text": [
      "23\n"
     ]
    },
    {
     "name": "stderr",
     "output_type": "stream",
     "text": [
      "Info: Params [0.71328205 0.         0.94285714 2.48602274 0.08896489 0.96398028] gave 211.45624830699387\n"
     ]
    },
    {
     "name": "stdout",
     "output_type": "stream",
     "text": [
      "24\n"
     ]
    },
    {
     "name": "stderr",
     "output_type": "stream",
     "text": [
      "Info: Params [ 1.23100553  0.          0.44        1.35675445 -0.08017296  0.66382   ] gave 203.797565348638\n"
     ]
    },
    {
     "name": "stdout",
     "output_type": "stream",
     "text": [
      "25\n"
     ]
    },
    {
     "name": "stderr",
     "output_type": "stream",
     "text": [
      "Info: Params [1.21987054 0.         0.3        1.19542013 0.17182832 0.52891293] gave 192.97211611824048\n"
     ]
    },
    {
     "name": "stdout",
     "output_type": "stream",
     "text": [
      "26\n"
     ]
    },
    {
     "name": "stderr",
     "output_type": "stream",
     "text": [
      "Info: Params [0.71871002 0.         0.10476523 0.99479253 0.10043415 0.49956756] gave 206.2456018516905\n"
     ]
    },
    {
     "name": "stdout",
     "output_type": "stream",
     "text": [
      "27\n"
     ]
    },
    {
     "name": "stderr",
     "output_type": "stream",
     "text": [
      "Info: Params [ 1.15894795  0.          0.68        1.5812935  -0.03307397  0.6205649 ] gave 209.95711185710803\n"
     ]
    },
    {
     "name": "stdout",
     "output_type": "stream",
     "text": [
      "28\n"
     ]
    },
    {
     "name": "stderr",
     "output_type": "stream",
     "text": [
      "Info: Params [0.90082996 0.         0.5        1.38197963 0.06133432 0.63248963] gave 206.33052758701191\n"
     ]
    },
    {
     "name": "stdout",
     "output_type": "stream",
     "text": [
      "29\n"
     ]
    },
    {
     "name": "stderr",
     "output_type": "stream",
     "text": [
      "Info: Params [1.64328101 0.         1.02222221 1.42177888 0.01549188 0.55977872] gave 171.17539828055186\n"
     ]
    },
    {
     "name": "stdout",
     "output_type": "stream",
     "text": [
      "30\n"
     ]
    },
    {
     "name": "stderr",
     "output_type": "stream",
     "text": [
      "Info: Params [0.82412875 0.         1.26896552 2.32679095 0.35873072 0.39189367] gave 225.13245670647717\n"
     ]
    },
    {
     "name": "stdout",
     "output_type": "stream",
     "text": [
      "31\n"
     ]
    },
    {
     "name": "stderr",
     "output_type": "stream",
     "text": [
      "Info: Params [1.86083297e+00 0.00000000e+00 1.09999993e+00 1.58563572e+00\n",
      " 1.32393061e-03 7.25352273e-01] gave 172.51470387763203\n"
     ]
    },
    {
     "name": "stdout",
     "output_type": "stream",
     "text": [
      "32\n"
     ]
    },
    {
     "name": "stderr",
     "output_type": "stream",
     "text": [
      "Info: Params [1.00228383 0.         1.14999999 2.45121236 0.06644536 0.70858841] gave 207.66454571116208\n"
     ]
    },
    {
     "name": "stdout",
     "output_type": "stream",
     "text": [
      "33\n"
     ]
    },
    {
     "name": "stderr",
     "output_type": "stream",
     "text": [
      "Info: Params [ 0.91337474  0.          0.18666629  1.13617741 -0.34657181  0.71783212] gave 215.81942399530485\n"
     ]
    },
    {
     "name": "stdout",
     "output_type": "stream",
     "text": [
      "34\n"
     ]
    },
    {
     "name": "stderr",
     "output_type": "stream",
     "text": [
      "Info: Params [ 1.01452567  0.          0.16        0.93955761 -0.24727714  0.7532654 ] gave 189.5583010451798\n"
     ]
    },
    {
     "name": "stdout",
     "output_type": "stream",
     "text": [
      "35\n"
     ]
    },
    {
     "name": "stderr",
     "output_type": "stream",
     "text": [
      "Info: Params [ 0.5392306  -0.0051275   0.17605347  0.88846841  0.10375065  0.55160023] gave 199.31467223615942\n"
     ]
    },
    {
     "name": "stdout",
     "output_type": "stream",
     "text": [
      "36\n"
     ]
    },
    {
     "name": "stderr",
     "output_type": "stream",
     "text": [
      "Info: Params [1.34524866 0.         0.76666666 1.117029   0.07243238 0.53246251] gave 159.05816527824018\n"
     ]
    },
    {
     "name": "stdout",
     "output_type": "stream",
     "text": [
      "37\n"
     ]
    },
    {
     "name": "stderr",
     "output_type": "stream",
     "text": [
      "Info: Params [1.05874902 0.         1.37142865 2.35903368 0.28380064 0.36886088] gave 197.441229646375\n"
     ]
    },
    {
     "name": "stdout",
     "output_type": "stream",
     "text": [
      "38\n"
     ]
    },
    {
     "name": "stderr",
     "output_type": "stream",
     "text": [
      "Info: Params [1.06948834 0.         0.9        1.27991318 0.17954849 0.71439004] gave 177.08880888332146\n"
     ]
    },
    {
     "name": "stdout",
     "output_type": "stream",
     "text": [
      "39\n"
     ]
    },
    {
     "name": "stderr",
     "output_type": "stream",
     "text": [
      "Info: Params [0.86641225 0.         0.6        0.96652555 0.13341214 0.5385626 ] gave 154.7226556482343\n"
     ]
    },
    {
     "name": "stdout",
     "output_type": "stream",
     "text": [
      "40\n"
     ]
    },
    {
     "name": "stderr",
     "output_type": "stream",
     "text": [
      "Info: Params [1.31828725 0.         0.71428571 1.13511827 0.01744615 0.67053565] gave 204.6330611891962\n"
     ]
    },
    {
     "name": "stdout",
     "output_type": "stream",
     "text": [
      "41\n"
     ]
    },
    {
     "name": "stderr",
     "output_type": "stream",
     "text": [
      "Info: Params [0.99189551 0.         0.875      2.22048964 0.23794861 0.61453009] gave 220.37717609829707\n"
     ]
    },
    {
     "name": "stdout",
     "output_type": "stream",
     "text": [
      "42\n"
     ]
    },
    {
     "name": "stderr",
     "output_type": "stream",
     "text": [
      "Info: Params [1.98560177 0.         1.05714291 0.77199227 0.2297455  0.57773551] gave 76.24039640979062\n"
     ]
    },
    {
     "name": "stdout",
     "output_type": "stream",
     "text": [
      "43\n"
     ]
    },
    {
     "name": "stderr",
     "output_type": "stream",
     "text": [
      "Info: Params [ 1.69151298  0.          0.92998932  1.6925826  -0.09837066  0.79612451] gave 168.60992720202975\n"
     ]
    },
    {
     "name": "stdout",
     "output_type": "stream",
     "text": [
      "44\n"
     ]
    },
    {
     "name": "stderr",
     "output_type": "stream",
     "text": [
      "Info: Params [1.06024449 0.         1.38749999 2.49378261 0.17927082 0.93920587] gave 190.57960495421236\n"
     ]
    },
    {
     "name": "stdout",
     "output_type": "stream",
     "text": [
      "45\n"
     ]
    },
    {
     "name": "stderr",
     "output_type": "stream",
     "text": [
      "Info: Params [0.86587273 0.         1.05263163 2.49562784 0.11272983 0.99195629] gave 231.273596991056\n"
     ]
    },
    {
     "name": "stdout",
     "output_type": "stream",
     "text": [
      "46\n"
     ]
    }
   ],
   "source": [
    "models = [0, fit_m1, fit_m2, fit_m3, fit_m4, fit_m5, fit_m6]\n",
    "\n",
    "for i_data in list(range(3,5)):\n",
    "    loaded = pd.read_csv(\"data/E\"+str(i_data)+\".csv\") \n",
    "    loaded['present'] = loaded['present'].replace(-1,0)\n",
    "    for i_model in list(range(1,7)):\n",
    "        summary_list = []\n",
    "        for name, group in loaded.groupby('subj_id'):\n",
    "            print(name)\n",
    "            fit_result = models[i_model](group.reset_index(),'E2')\n",
    "            summary_list.append(fit_result)\n",
    "        summary_df = pd.concat(summary_list)\n",
    "        if not os.path.exists(\"model_fits/model_m\"+str(i_model)+\"/data_E\"+str(i_data)):\n",
    "                   os.makedirs(\"model_fits/model_m\"+str(i_model)+\"/data_E\"+str(i_data))\n",
    "        summary_df.to_csv(\"model_fits/model_m\"+str(i_model)+\"/data_E\"+str(i_data)+\"/all_subjects.csv\")"
   ]
  },
  {
   "cell_type": "code",
   "execution_count": 16,
   "id": "eaadbe54",
   "metadata": {},
   "outputs": [],
   "source": [
    "from pyddm import FitResult\n",
    "from pyddm import Fittable, Fitted\n",
    "import pyddm.plot\n",
    "\n",
    "\n",
    "def plotSubj(subj_id, model_fit, exp):\n",
    "    \n",
    "    with open(\"model_fits/model_\"+model_fit+\"/data_\"+exp+\"/subj\"+str(subj_id)+\".txt\", \"r\") as f:\n",
    "        model = eval(f.read())\n",
    "        \n",
    "    data_loaded = pd.read_csv(\"data/\"+exp+\".csv\") \n",
    "\n",
    "    pyddm.plot.model_gui(model=model, sample = Sample.from_pandas_dataframe(data_loaded[data_loaded.subj_id==subj_id], rt_column_name=\"rt\", correct_column_name=\"correct\"))\n"
   ]
  },
  {
   "cell_type": "code",
   "execution_count": 46,
   "id": "92c89e11",
   "metadata": {},
   "outputs": [
    {
     "name": "stderr",
     "output_type": "stream",
     "text": [
      "Warning: dt is large.  Estimated pdfs may be imprecise.  Decrease dt to 0.01 or less.\n"
     ]
    }
   ],
   "source": [
    "plotSubj(8,'m3','E2')"
   ]
  }
 ],
 "metadata": {
  "kernelspec": {
   "display_name": "Python 3 (ipykernel)",
   "language": "python",
   "name": "python3"
  },
  "language_info": {
   "codemirror_mode": {
    "name": "ipython",
    "version": 3
   },
   "file_extension": ".py",
   "mimetype": "text/x-python",
   "name": "python",
   "nbconvert_exporter": "python",
   "pygments_lexer": "ipython3",
   "version": "3.9.7"
  }
 },
 "nbformat": 4,
 "nbformat_minor": 5
}
