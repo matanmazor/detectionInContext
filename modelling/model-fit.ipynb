{
 "cells": [
  {
   "cell_type": "code",
   "execution_count": 1,
   "id": "ac632b69",
   "metadata": {},
   "outputs": [],
   "source": [
    "import matplotlib.pyplot as plt\n",
    "import scipy.stats as stats\n",
    "from pyddm import Model\n",
    "from pyddm import Sample\n",
    "import pyddm as ddm\n",
    "import numpy as np\n",
    "import pandas as pd\n",
    "import random\n",
    "import os\n",
    "import copy"
   ]
  },
  {
   "cell_type": "markdown",
   "id": "7a166a97",
   "metadata": {},
   "source": [
    "## Fit M1: basic model"
   ]
  },
  {
   "cell_type": "code",
   "execution_count": 2,
   "id": "398b9802",
   "metadata": {},
   "outputs": [],
   "source": [
    "from pyddm import InitialCondition,Fittable, Fitted\n",
    "from pyddm.models import Drift, Bound, LossRobustBIC, NoiseConstant, BoundConstant, OverlayChain, OverlayNonDecision, OverlayPoissonMixture\n",
    "from pyddm.functions import fit_adjust_model\n",
    "\n",
    "class ICPointSideBiasRatio(InitialCondition):\n",
    "    name = \"A side-biased starting point expressed as a proportion of the distance between the bounds.\"\n",
    "    required_parameters = [\"x0\"]\n",
    "    required_conditions = [\"present\"]\n",
    "    def get_IC(self, x, dx, conditions):\n",
    "        x0 = self.x0/2 + .5 #rescale to between 0 and 1\n",
    "        # Bias > .5 for left side correct, bias < .5 for right side correct.\n",
    "        # On original scale, positive bias for left, negative for right\n",
    "        if not conditions['present']==1:\n",
    "            x0 = 1-x0\n",
    "        shift_i = int((len(x)-1)*x0)\n",
    "        assert shift_i >= 0 and shift_i < len(x), \"Invalid initial conditions\"\n",
    "        pdf = np.zeros(len(x))\n",
    "        pdf[shift_i] = 1. # Initial condition at x=x0*2*B.\n",
    "        return pdf\n",
    "    \n",
    "class DriftPresent(ddm.models.Drift):\n",
    "    name = \"Drift depends on target presence\"\n",
    "    required_parameters = [\"driftpresent\",\"driftabsent\"] # <-- Parameters we want to include in the model\n",
    "    required_conditions = [\"present\"] # <-- Task parameters (\"conditions\"). Should be the same name as in the sample.\n",
    "\n",
    "    # We must always define the get_drift function, which is used to compute the instantaneous value of drift.\n",
    "    def get_drift(self, conditions, **kwargs):\n",
    "        # so that driftabsent values are normally negative\n",
    "        return self.driftpresent * conditions['present'] - self.driftabsent * (1-conditions['present'])\n",
    "\n",
    "\n"
   ]
  },
  {
   "cell_type": "code",
   "execution_count": 6,
   "id": "cc6048ad",
   "metadata": {},
   "outputs": [
    {
     "name": "stderr",
     "output_type": "stream",
     "text": [
      "Warning: dt is large.  Estimated pdfs may be imprecise.  Decrease dt to 0.01 or less.\n"
     ]
    }
   ],
   "source": [
    "m1_spec = Model(name='Basic model drift varies as a function of target presence',\n",
    "                 drift=DriftPresent(driftabsent=Fittable(minval=-10, maxval=0),\n",
    "                                     driftpresent=Fittable(minval=0, maxval=10)),\n",
    "                 noise=NoiseConstant(noise=1),\n",
    "                 IC=ICPointSideBiasRatio(x0=Fittable(minval=-1, maxval=1)),\n",
    "                 bound=BoundConstant(B=Fittable(minval=0.1, maxval=2.5)),\n",
    "                 overlay=OverlayChain(overlays=[OverlayNonDecision(nondectime=Fittable(minval=0, maxval=1)),\n",
    "                                                OverlayPoissonMixture(pmixturecoef=.02,\n",
    "                                                                      rate=1)]),\n",
    "                 dx=.01, dt=.1, T_dur=5)\n",
    "\n",
    "def fit_m1(df,data_label):\n",
    "    \n",
    "    df = df.reset_index();\n",
    "    subj_id = df.subj_id[0]\n",
    "    \n",
    "    sample = Sample.from_pandas_dataframe(df, rt_column_name=\"rt\", correct_column_name=\"correct\")\n",
    "    fit_model = fit_adjust_model(sample=sample, model=m1_spec, verbose=False, lossfunction = LossRobustBIC)\n",
    "    summary_df = pd.DataFrame.from_dict({\n",
    "        'subj_id': [subj_id],\n",
    "        'driftabsent': [float(fit_model.parameters()['drift']['driftabsent'])],\n",
    "        'driftpresent': [float(fit_model.parameters()['drift']['driftpresent'])],\n",
    "        'noise': [float(fit_model.parameters()['noise']['noise'])],\n",
    "        'bound': [float(fit_model.parameters()['bound']['B'])],\n",
    "        'IC': [float(fit_model.parameters()['IC']['x0'])],\n",
    "        'nondec': [float(fit_model.parameters()['overlay']['nondectime'])],\n",
    "        'BIC': [fit_model.fitresult.value()]\n",
    "    })\n",
    "    \n",
    "    if not os.path.exists(\"model_fits/model_m1/data_\"+data_label):\n",
    "                       os.makedirs(\"model_fits/model_m1/data_\"+data_label)\n",
    "                       \n",
    "    with open(\"model_fits/model_m1/data_\"+data_label+\"/subj\"+str(subj_id)+\".txt\", \"w\") as f:\n",
    "        f.write(repr(fit_model))\n",
    "    \n",
    "    return(summary_df)\n",
    "\n",
    "    \n",
    "# loaded = pd.read_csv(\"data/E2.csv\") \n",
    "# loaded['present'] = loaded['present'].replace(-1,0)\n",
    "# summary_list = []\n",
    "# for name, group in loaded.groupby('subj_id'):\n",
    "#     print(name)\n",
    "#     a= fit_m1(group.reset_index(),'E2')\n",
    "#     summary_list.append(a)\n",
    "# summary_df = pd.concat(summary_list)\n",
    "# summary_df.to_csv(\"model_fits/model_m1/data_E2/all_subjects.csv\")"
   ]
  },
  {
   "cell_type": "markdown",
   "id": "aa992246",
   "metadata": {},
   "source": [
    "## Fit M2: boundaries can collapse"
   ]
  },
  {
   "cell_type": "code",
   "execution_count": 7,
   "id": "1da9adf8",
   "metadata": {},
   "outputs": [],
   "source": [
    "from pyddm import InitialCondition,Fittable, Fitted\n",
    "from pyddm.models import Drift, Bound, LossRobustBIC, NoiseConstant, OverlayChain, OverlayNonDecision, OverlayPoissonMixture, Noise\n",
    "from pyddm.functions import fit_adjust_model\n",
    "\n",
    "class BoundCollapse(Bound):\n",
    "    name = \"Boundary for the collapsing boundary model\"\n",
    "    required_parameters = [\"B\", \"uppercollapse\", \"lowercollapse\"]\n",
    "    required_conditions = []\n",
    "    def get_bound(self, t, conditions, **kwargs):\n",
    "        return max(0.01, self.B + t*(self.uppercollapse-self.lowercollapse)/2)\n",
    "    \n",
    "class DriftPresentCollapse(ddm.models.Drift):\n",
    "    name = \"Drift depends on target presence and collapses\"\n",
    "    required_parameters = [\"driftpresent\",\"uppercollapse\", \"lowercollapse\"] # <-- Parameters we want to include in the model\n",
    "    required_conditions = [\"present\"] # <-- Task parameters (\"conditions\"). Should be the same name as in the sample.\n",
    "\n",
    "    # We must always define the get_drift function, which is used to compute the instantaneous value of drift.\n",
    "    def get_drift(self, t, conditions, **kwargs):\n",
    "        # so that driftabsent values are normally negative\n",
    "        return conditions['present'] * (self.driftpresent - (self.uppercollapse+self.lowercollapse)/2) + \\\n",
    "    (1-conditions['present']) *(0+ (self.uppercollapse+self.lowercollapse)/2)\n",
    "\n",
    "\n",
    "\n"
   ]
  },
  {
   "cell_type": "code",
   "execution_count": 8,
   "id": "9734633f",
   "metadata": {},
   "outputs": [
    {
     "name": "stderr",
     "output_type": "stream",
     "text": [
      "Warning: dt is large.  Estimated pdfs may be imprecise.  Decrease dt to 0.01 or less.\n"
     ]
    }
   ],
   "source": [
    "uppercollapse = Fittable(minval=-5, maxval=0)\n",
    "lowercollapse = Fittable(minval=0, maxval=5)\n",
    "\n",
    "m2_spec = Model(name='Absence drift is zero boundaries can collapse',\n",
    "                 drift=DriftPresentCollapse(driftpresent=Fittable(minval=0, maxval=10),\n",
    "                                   uppercollapse=uppercollapse,\n",
    "                                   lowercollapse=lowercollapse),\n",
    "                 noise=NoiseConstant(noise=1),\n",
    "                 IC=ICPointSideBiasRatio(x0=Fittable(minval=-1, maxval=1)),\n",
    "                 bound=BoundCollapse(B=Fittable(minval=0.1, maxval=2.5),\n",
    "                                    uppercollapse=uppercollapse,\n",
    "                                    lowercollapse=lowercollapse),\n",
    "                 overlay=OverlayChain(overlays=[OverlayNonDecision(nondectime=Fittable(minval=0, maxval=1)),\n",
    "                                                OverlayPoissonMixture(pmixturecoef=.02,\n",
    "                                                                      rate=1)]),\n",
    "                 dx=.01, dt=.1, T_dur=5)\n",
    "\n",
    "def fit_m2(df,data_label):\n",
    "    \n",
    "    df = df.reset_index();\n",
    "    subj_id = df.subj_id[0]\n",
    "    \n",
    "    sample = Sample.from_pandas_dataframe(df, rt_column_name=\"rt\", correct_column_name=\"correct\")\n",
    "    fit_model = fit_adjust_model(sample=sample, model=m2_spec, verbose=False, lossfunction = LossRobustBIC)\n",
    "    summary_df = pd.DataFrame.from_dict({\n",
    "        'subj_id': [subj_id],\n",
    "        'driftpresent': [float(fit_model.parameters()['drift']['driftpresent'])],\n",
    "        'uppercollapse': [float(fit_model.parameters()['drift']['uppercollapse'])],\n",
    "        'lowercollapse': [float(fit_model.parameters()['drift']['lowercollapse'])],\n",
    "        'noise': [float(fit_model.parameters()['noise']['noise'])],\n",
    "        'bound': [float(fit_model.parameters()['bound']['B'])],\n",
    "        'IC': [float(fit_model.parameters()['IC']['x0'])],\n",
    "        'nondec': [float(fit_model.parameters()['overlay']['nondectime'])],\n",
    "        'BIC': [fit_model.fitresult.value()]\n",
    "    })\n",
    "    \n",
    "    if not os.path.exists(\"model_fits/model_m2/data_\"+data_label):\n",
    "                       os.makedirs(\"model_fits/model_m2/data_\"+data_label)\n",
    "                       \n",
    "    with open(\"model_fits/model_m2/data_\"+data_label+\"/subj\"+str(subj_id)+\".txt\", \"w\") as f:\n",
    "        f.write(repr(fit_model))\n",
    "    \n",
    "    return(summary_df)\n",
    "        \n",
    "\n",
    "# loaded = pd.read_csv(\"data/E2.csv\") \n",
    "# loaded['present'] = loaded['present'].replace(-1,0)\n",
    "# summary_list = []\n",
    "# for name, group in loaded.groupby('subj_id'):\n",
    "#     print(name)\n",
    "#     a= fit_m2(group.reset_index(),'E2')\n",
    "#     summary_list.append(a)\n",
    "# summary_df = pd.concat(summary_list)\n",
    "# summary_df.to_csv(\"model_fits/model_m2/data_E2/all_subjects.csv\")"
   ]
  },
  {
   "cell_type": "markdown",
   "id": "1a65d8db",
   "metadata": {},
   "source": [
    "## Fit M3: Lower boundary collapses rapidly\n"
   ]
  },
  {
   "cell_type": "code",
   "execution_count": 10,
   "id": "591a6a30",
   "metadata": {},
   "outputs": [],
   "source": [
    "class BoundNonlinearCollapse(Bound):\n",
    "    name = \"Lower boundary collapses nonlinearly\"\n",
    "    required_parameters = [\"B\", \"lowercollapse\", \"collapsetime\"]\n",
    "    required_conditions = []\n",
    "    def get_bound(self, t, conditions, **kwargs):\n",
    "        if t<self.collapsetime:\n",
    "            return(self.B)\n",
    "        else:\n",
    "            return max(0.01, self.B - (t-self.collapsetime)*self.lowercollapse/2)\n",
    "    \n",
    "class DriftPresentNonlinearCollapse(ddm.models.Drift):\n",
    "    name = \"Drift depends on target presence and collapses nonlinearly\"\n",
    "    required_parameters = [\"driftpresent\",\"lowercollapse\", \"collapsetime\"] # <-- Parameters we want to include in the model\n",
    "    required_conditions = [\"present\"] # <-- Task parameters (\"conditions\"). Should be the same name as in the sample.\n",
    "\n",
    "    # We must always define the get_drift function, which is used to compute the instantaneous value of drift.\n",
    "    def get_drift(self, t, conditions, **kwargs):\n",
    "        if t<self.collapsetime:\n",
    "            return conditions['present'] * (self.driftpresent)\n",
    "        else:\n",
    "            return conditions['present'] * (self.driftpresent-self.lowercollapse/2) + \\\n",
    "        (1-conditions['present']) * (0+ self.lowercollapse/2)\n"
   ]
  },
  {
   "cell_type": "code",
   "execution_count": 11,
   "id": "47574a3f",
   "metadata": {},
   "outputs": [
    {
     "name": "stderr",
     "output_type": "stream",
     "text": [
      "Warning: dt is large.  Estimated pdfs may be imprecise.  Decrease dt to 0.01 or less.\n"
     ]
    }
   ],
   "source": [
    "lowercollapse = Fittable(minval=0, maxval=10)\n",
    "collapsetime = Fittable(minval=0, maxval=5)\n",
    "\n",
    "m3_spec = Model(name='Absence drift is zero lower boundary can collapse nonlinearly',\n",
    "                 drift=DriftPresentNonlinearCollapse(driftpresent=Fittable(minval=0, maxval=10),\n",
    "                                   lowercollapse=lowercollapse,\n",
    "                                   collapsetime=collapsetime),\n",
    "                 noise=NoiseConstant(noise=1),\n",
    "                 IC=ICPointSideBiasRatio(x0=Fittable(minval=-1, maxval=1)),\n",
    "                 bound=BoundNonlinearCollapse(B=Fittable(minval=0.1, maxval=2.5),\n",
    "                                    lowercollapse=lowercollapse,\n",
    "                                    collapsetime=collapsetime),\n",
    "                 overlay=OverlayChain(overlays=[OverlayNonDecision(nondectime=Fittable(minval=0, maxval=1)),\n",
    "                                                OverlayPoissonMixture(pmixturecoef=.02,\n",
    "                                                                      rate=1)]),\n",
    "                 dx=.01, dt=.1, T_dur=5)\n",
    "\n",
    "def fit_m3(df,data_label):\n",
    "    \n",
    "    df = df.reset_index();\n",
    "    subj_id = df.subj_id[0]\n",
    "    \n",
    "    sample = Sample.from_pandas_dataframe(df, rt_column_name=\"rt\", correct_column_name=\"correct\")\n",
    "    fit_model = fit_adjust_model(sample=sample, model=m3_spec, verbose=False, lossfunction = LossRobustBIC)\n",
    "    summary_df = pd.DataFrame.from_dict({\n",
    "        'subj_id': [subj_id],\n",
    "        'driftpresent': [float(fit_model.parameters()['drift']['driftpresent'])],\n",
    "        'collapsetime': [float(fit_model.parameters()['drift']['collapsetime'])],\n",
    "        'lowercollapse': [float(fit_model.parameters()['drift']['lowercollapse'])],\n",
    "        'noise': [float(fit_model.parameters()['noise']['noise'])],\n",
    "        'bound': [float(fit_model.parameters()['bound']['B'])],\n",
    "        'IC': [float(fit_model.parameters()['IC']['x0'])],\n",
    "        'nondec': [float(fit_model.parameters()['overlay']['nondectime'])],\n",
    "        'BIC': [fit_model.fitresult.value()]\n",
    "    })\n",
    "    \n",
    "    if not os.path.exists(\"model_fits/model_m3/data_\"+data_label):\n",
    "                       os.makedirs(\"model_fits/model_m3/data_\"+data_label)\n",
    "                       \n",
    "    with open(\"model_fits/model_m3/data_\"+data_label+\"/subj\"+str(subj_id)+\".txt\", \"w\") as f:\n",
    "        f.write(repr(fit_model))\n",
    "    \n",
    "    return(summary_df)\n",
    "        \n",
    "\n",
    "# loaded = pd.read_csv(\"data/E2.csv\") \n",
    "# loaded['present'] = loaded['present'].replace(-1,0)\n",
    "# summary_list = []\n",
    "# for name, group in loaded.groupby('subj_id'):\n",
    "#     print(name)\n",
    "#     a= fit_m3(group.reset_index(),'E2')\n",
    "#     summary_list.append(a)\n",
    "# summary_df = pd.concat(summary_list)\n",
    "# summary_df.to_csv(\"model_fits/model_m3/data_E2/all_subjects.csv\")"
   ]
  },
  {
   "cell_type": "markdown",
   "id": "3d3d11c3",
   "metadata": {},
   "source": [
    "## Fit M4: unequal variance"
   ]
  },
  {
   "cell_type": "code",
   "execution_count": 12,
   "id": "83ef20dc",
   "metadata": {},
   "outputs": [],
   "source": [
    "class NoiseAsymmetric(Noise):\n",
    "    name = \"Noise is higher when a target is present\"\n",
    "    required_parameters = [\"noiseabsent\"]\n",
    "    required_conditions = ['present']\n",
    "    def get_noise(self, t, conditions, **kwargs):\n",
    "        if conditions['present']==1:\n",
    "            return 1\n",
    "        else:\n",
    "            return self.noiseabsent"
   ]
  },
  {
   "cell_type": "code",
   "execution_count": 13,
   "id": "36478ebe",
   "metadata": {},
   "outputs": [
    {
     "name": "stderr",
     "output_type": "stream",
     "text": [
      "Warning: dt is large.  Estimated pdfs may be imprecise.  Decrease dt to 0.01 or less.\n"
     ]
    }
   ],
   "source": [
    "m4_spec = Model(name='Basic model drift varies as a function of target presence',\n",
    "                 drift=DriftPresent(driftabsent=Fittable(minval=-10, maxval=0),\n",
    "                                     driftpresent=Fittable(minval=0, maxval=10)),\n",
    "                 noise=NoiseAsymmetric(noiseabsent=Fittable(minval=0.5,maxval=2)),\n",
    "                 IC=ICPointSideBiasRatio(x0=Fittable(minval=-1, maxval=1)),\n",
    "                 bound=BoundConstant(B=Fittable(minval=0.1, maxval=2.5)),\n",
    "                 overlay=OverlayChain(overlays=[OverlayNonDecision(nondectime=Fittable(minval=0, maxval=1)),\n",
    "                                                OverlayPoissonMixture(pmixturecoef=.02,\n",
    "                                                                      rate=1)]),\n",
    "                 dx=.01, dt=.1, T_dur=5)\n",
    "\n",
    "def fit_m4(df,data_label):\n",
    "    \n",
    "    df = df.reset_index();\n",
    "    subj_id = df.subj_id[0]\n",
    "    \n",
    "    sample = Sample.from_pandas_dataframe(df, rt_column_name=\"rt\", correct_column_name=\"correct\")\n",
    "    fit_model = fit_adjust_model(sample=sample, model=m4_spec, verbose=False, lossfunction = LossRobustBIC)\n",
    "    summary_df = pd.DataFrame.from_dict({\n",
    "        'subj_id': [subj_id],\n",
    "        'driftabsent': [float(fit_model.parameters()['drift']['driftabsent'])],\n",
    "        'driftpresent': [float(fit_model.parameters()['drift']['driftpresent'])],\n",
    "        'noiseabsent': [float(fit_model.parameters()['noise']['noiseabsent'])],\n",
    "        'bound': [float(fit_model.parameters()['bound']['B'])],\n",
    "        'IC': [float(fit_model.parameters()['IC']['x0'])],\n",
    "        'nondec': [float(fit_model.parameters()['overlay']['nondectime'])],\n",
    "        'BIC': [fit_model.fitresult.value()]\n",
    "    })\n",
    "    \n",
    "    if not os.path.exists(\"model_fits/model_m4/data_\"+data_label):\n",
    "                       os.makedirs(\"model_fits/model_m4/data_\"+data_label)\n",
    "                       \n",
    "    with open(\"model_fits/model_m4/data_\"+data_label+\"/subj\"+str(subj_id)+\".txt\", \"w\") as f:\n",
    "        f.write(repr(fit_model))\n",
    "    \n",
    "    return(summary_df)\n",
    "\n",
    "# loaded = pd.read_csv(\"data/E2.csv\") \n",
    "# loaded['present'] = loaded['present'].replace(-1,0)\n",
    "# summary_list = []\n",
    "# for name, group in loaded.groupby('subj_id'):\n",
    "#     print(name)\n",
    "#     a= fit_m4(group.reset_index(),'E2')\n",
    "#     summary_list.append(a)\n",
    "# summary_df = pd.concat(summary_list)\n",
    "# summary_df.to_csv(\"model_fits/model_m4/data_E2/all_subjects.csv\")"
   ]
  },
  {
   "cell_type": "markdown",
   "id": "7bb2a1bd",
   "metadata": {},
   "source": [
    "## Fit M5: unequal variance + collapsing boundaries"
   ]
  },
  {
   "cell_type": "code",
   "execution_count": 14,
   "id": "7a4e4c25",
   "metadata": {},
   "outputs": [
    {
     "name": "stderr",
     "output_type": "stream",
     "text": [
      "Warning: dt is large.  Estimated pdfs may be imprecise.  Decrease dt to 0.01 or less.\n"
     ]
    }
   ],
   "source": [
    "m5_spec = Model(name='Absence drift is zero boundaries can collapse',\n",
    "                 drift=DriftPresentCollapse(driftpresent=Fittable(minval=0, maxval=10),\n",
    "                                   uppercollapse=uppercollapse,\n",
    "                                   lowercollapse=lowercollapse),\n",
    "                 noise=NoiseAsymmetric(noiseabsent=Fittable(minval=0.5,maxval=2)),\n",
    "                 IC=ICPointSideBiasRatio(x0=Fittable(minval=-1, maxval=1)),\n",
    "                 bound=BoundCollapse(B=Fittable(minval=0.1, maxval=2.5),\n",
    "                                    uppercollapse=uppercollapse,\n",
    "                                    lowercollapse=lowercollapse),\n",
    "                 overlay=OverlayChain(overlays=[OverlayNonDecision(nondectime=Fittable(minval=0, maxval=1)),\n",
    "                                                OverlayPoissonMixture(pmixturecoef=.02,\n",
    "                                                                      rate=1)]),\n",
    "                 dx=.01, dt=.1, T_dur=5)\n",
    "\n",
    "def fit_m5(df,data_label):\n",
    "    \n",
    "    df = df.reset_index();\n",
    "    subj_id = df.subj_id[0]\n",
    "    \n",
    "    sample = Sample.from_pandas_dataframe(df, rt_column_name=\"rt\", correct_column_name=\"correct\")\n",
    "    fit_model = fit_adjust_model(sample=sample, model=m5_spec, verbose=False, lossfunction = LossRobustBIC)\n",
    "    summary_df = pd.DataFrame.from_dict({\n",
    "        'subj_id': [subj_id],\n",
    "        'driftpresent': [float(fit_model.parameters()['drift']['driftpresent'])],\n",
    "        'uppercollapse': [float(fit_model.parameters()['drift']['uppercollapse'])],\n",
    "        'lowercollapse': [float(fit_model.parameters()['drift']['lowercollapse'])],\n",
    "        'noiseabsent': [float(fit_model.parameters()['noise']['noiseabsent'])],\n",
    "        'bound': [float(fit_model.parameters()['bound']['B'])],\n",
    "        'IC': [float(fit_model.parameters()['IC']['x0'])],\n",
    "        'nondec': [float(fit_model.parameters()['overlay']['nondectime'])],\n",
    "        'BIC': [fit_model.fitresult.value()]\n",
    "    })\n",
    "    \n",
    "    if not os.path.exists(\"model_fits/model_m5/data_\"+data_label):\n",
    "                       os.makedirs(\"model_fits/model_m5/data_\"+data_label)\n",
    "                       \n",
    "    with open(\"model_fits/model_m5/data_\"+data_label+\"/subj\"+str(subj_id)+\".txt\", \"w\") as f:\n",
    "        f.write(repr(fit_model))\n",
    "    \n",
    "    return(summary_df)\n",
    "        \n",
    "\n",
    "# loaded = pd.read_csv(\"data/E2.csv\") \n",
    "# loaded['present'] = loaded['present'].replace(-1,0)\n",
    "# summary_list = []\n",
    "# for name, group in loaded.groupby('subj_id'):\n",
    "#     print(name)\n",
    "#     a= fit_m5(group.reset_index(),'E2')\n",
    "#     summary_list.append(a)\n",
    "# summary_df = pd.concat(summary_list)\n",
    "# summary_df.to_csv(\"model_fits/model_m5/data_E2/all_subjects.csv\")"
   ]
  },
  {
   "cell_type": "markdown",
   "id": "5bf5aa0c",
   "metadata": {},
   "source": [
    "## Fit M6: unequal variance + nonlinearly collapsing boundary"
   ]
  },
  {
   "cell_type": "code",
   "execution_count": 15,
   "id": "5fd1dd50",
   "metadata": {},
   "outputs": [
    {
     "name": "stderr",
     "output_type": "stream",
     "text": [
      "Warning: dt is large.  Estimated pdfs may be imprecise.  Decrease dt to 0.01 or less.\n"
     ]
    }
   ],
   "source": [
    "m6_spec = Model(name='Absence drift is zero lower boundary can collapse nonlinearly',\n",
    "                 drift=DriftPresentNonlinearCollapse(driftpresent=Fittable(minval=0, maxval=10),\n",
    "                                   lowercollapse=lowercollapse,\n",
    "                                   collapsetime=collapsetime),\n",
    "                 noise=NoiseAsymmetric(noiseabsent=Fittable(minval=0,maxval=3)),\n",
    "                 IC=ICPointSideBiasRatio(x0=Fittable(minval=-1, maxval=1)),\n",
    "                 bound=BoundNonlinearCollapse(B=Fittable(minval=0.1, maxval=2.5),\n",
    "                                    lowercollapse=lowercollapse,\n",
    "                                    collapsetime=collapsetime),\n",
    "                 overlay=OverlayChain(overlays=[OverlayNonDecision(nondectime=Fittable(minval=0, maxval=1)),\n",
    "                                                OverlayPoissonMixture(pmixturecoef=.02,\n",
    "                                                                      rate=1)]),\n",
    "                 dx=.01, dt=.1, T_dur=5)\n",
    "\n",
    "def fit_m6(df,data_label):\n",
    "    \n",
    "    df = df.reset_index();\n",
    "    subj_id = df.subj_id[0]\n",
    "    \n",
    "    sample = Sample.from_pandas_dataframe(df, rt_column_name=\"rt\", correct_column_name=\"correct\")\n",
    "    fit_model = fit_adjust_model(sample=sample, model=m6_spec, verbose=False, lossfunction = LossRobustBIC)\n",
    "    summary_df = pd.DataFrame.from_dict({\n",
    "        'subj_id': [subj_id],\n",
    "        'driftpresent': [float(fit_model.parameters()['drift']['driftpresent'])],\n",
    "        'collapsetime': [float(fit_model.parameters()['drift']['collapsetime'])],\n",
    "        'lowercollapse': [float(fit_model.parameters()['drift']['lowercollapse'])],\n",
    "        'noiseabsent': [float(fit_model.parameters()['noise']['noiseabsent'])],\n",
    "        'bound': [float(fit_model.parameters()['bound']['B'])],\n",
    "        'IC': [float(fit_model.parameters()['IC']['x0'])],\n",
    "        'nondec': [float(fit_model.parameters()['overlay']['nondectime'])],\n",
    "        'BIC': [fit_model.fitresult.value()]\n",
    "    })\n",
    "    \n",
    "    if not os.path.exists(\"model_fits/model_m6/data_\"+data_label):\n",
    "                       os.makedirs(\"model_fits/model_m6/data_\"+data_label)\n",
    "                       \n",
    "    with open(\"model_fits/model_m6/data_\"+data_label+\"/subj\"+str(subj_id)+\".txt\", \"w\") as f:\n",
    "        f.write(repr(fit_model))\n",
    "    \n",
    "    return(summary_df)\n",
    "        \n",
    "\n",
    "# loaded = pd.read_csv(\"data/E2.csv\") \n",
    "# loaded['present'] = loaded['present'].replace(-1,0)\n",
    "# summary_list = []\n",
    "# for name, group in loaded.groupby('subj_id'):\n",
    "#     print(name)\n",
    "#     a= fit_m6(group.reset_index(),'E2')\n",
    "#     summary_list.append(a)\n",
    "# summary_df = pd.concat(summary_list)\n",
    "# summary_df.to_csv(\"model_fits/model_m6/data_E2/all_subjects.csv\")"
   ]
  },
  {
   "cell_type": "markdown",
   "id": "a36a88e9",
   "metadata": {},
   "source": [
    "## Fit M7: basic model with changing t0"
   ]
  },
  {
   "cell_type": "code",
   "execution_count": 34,
   "id": "f77a7437",
   "metadata": {},
   "outputs": [],
   "source": [
    "from pyddm import OverlayNonDecision, Solution\n",
    "class OverlayNonDecisionPresent(OverlayNonDecision):\n",
    "    name = \"Separate non-decision time for target presence or absence\"\n",
    "    required_parameters = [\"nondectimepresent\", \"nondectimeabsent\"]\n",
    "    required_conditions = ['present']\n",
    "    def get_nondecision_time(self, conditions):\n",
    "        return self.nondectimepresent if conditions['present'] == 1 else self.nondectimeabsent"
   ]
  },
  {
   "cell_type": "code",
   "execution_count": 35,
   "id": "a15227e2",
   "metadata": {},
   "outputs": [
    {
     "name": "stderr",
     "output_type": "stream",
     "text": [
      "Warning: dt is large.  Estimated pdfs may be imprecise.  Decrease dt to 0.01 or less.\n"
     ]
    }
   ],
   "source": [
    "m7_spec = Model(name='Basic model drift varies as a function of target presence',\n",
    "                 drift=DriftPresent(driftabsent=Fittable(minval=-10, maxval=0),\n",
    "                                     driftpresent=Fittable(minval=0, maxval=10)),\n",
    "                 noise=NoiseConstant(noise=1),\n",
    "                 IC=ICPointSideBiasRatio(x0=Fittable(minval=-1, maxval=1)),\n",
    "                 bound=BoundConstant(B=Fittable(minval=0.1, maxval=2.5)),\n",
    "                 overlay=OverlayChain(overlays=[OverlayNonDecisionPresent(nondectimepresent=Fittable(minval=0, maxval=1),\n",
    "                                                                         nondectimeabsent = Fittable(minval=0, maxval=1)),\n",
    "                                                OverlayPoissonMixture(pmixturecoef=.02,\n",
    "                                                                      rate=1)]),\n",
    "                 dx=.01, dt=.1, T_dur=5)\n",
    "\n",
    "def fit_m7(df,data_label):\n",
    "    \n",
    "    df = df.reset_index();\n",
    "    subj_id = df.subj_id[0]\n",
    "    \n",
    "    sample = Sample.from_pandas_dataframe(df, rt_column_name=\"rt\", correct_column_name=\"correct\")\n",
    "    fit_model = fit_adjust_model(sample=sample, model=m7_spec, verbose=False, lossfunction = LossRobustBIC)\n",
    "    summary_df = pd.DataFrame.from_dict({\n",
    "        'subj_id': [subj_id],\n",
    "        'driftabsent': [float(fit_model.parameters()['drift']['driftabsent'])],\n",
    "        'driftpresent': [float(fit_model.parameters()['drift']['driftpresent'])],\n",
    "        'noise': [float(fit_model.parameters()['noise']['noise'])],\n",
    "        'bound': [float(fit_model.parameters()['bound']['B'])],\n",
    "        'IC': [float(fit_model.parameters()['IC']['x0'])],\n",
    "        'nondecpresent': [float(fit_model.parameters()['overlay']['nondectimepresent'])],\n",
    "        'nondecabsent': [float(fit_model.parameters()['overlay']['nondectimeabsent'])],\n",
    "        'BIC': [fit_model.fitresult.value()]\n",
    "    })\n",
    "    \n",
    "    if not os.path.exists(\"model_fits/model_m7/data_\"+data_label):\n",
    "                       os.makedirs(\"model_fits/model_m7/data_\"+data_label)\n",
    "                       \n",
    "    with open(\"model_fits/model_m7/data_\"+data_label+\"/subj\"+str(subj_id)+\".txt\", \"w\") as f:\n",
    "        f.write(repr(fit_model))\n",
    "    \n",
    "    return(summary_df)"
   ]
  },
  {
   "cell_type": "code",
   "execution_count": 36,
   "id": "f0c8fe94",
   "metadata": {},
   "outputs": [
    {
     "name": "stdout",
     "output_type": "stream",
     "text": [
      "1\n"
     ]
    },
    {
     "name": "stderr",
     "output_type": "stream",
     "text": [
      "Info: Params [ 0.         -1.94030983  0.69793247  0.50168669  0.6095783   0.57921409] gave 101.59308630397221\n"
     ]
    },
    {
     "name": "stdout",
     "output_type": "stream",
     "text": [
      "2\n"
     ]
    },
    {
     "name": "stderr",
     "output_type": "stream",
     "text": [
      "Info: Params [ 0.         -1.38401023  0.90966948  0.2799799   0.83639137  0.98410181] gave 169.46592794966512\n"
     ]
    },
    {
     "name": "stdout",
     "output_type": "stream",
     "text": [
      "3\n"
     ]
    },
    {
     "name": "stderr",
     "output_type": "stream",
     "text": [
      "Info: Params [ 0.99193717 -0.59021712  0.78954867 -0.00177342  0.92010697  0.99703547] gave 140.99937342367946\n"
     ]
    },
    {
     "name": "stdout",
     "output_type": "stream",
     "text": [
      "4\n"
     ]
    },
    {
     "name": "stderr",
     "output_type": "stream",
     "text": [
      "Info: Params [ 0.17689979 -1.40373734  1.09024426  0.48060413  0.8156536   0.84357308] gave 155.8781178919685\n"
     ]
    },
    {
     "name": "stdout",
     "output_type": "stream",
     "text": [
      "5\n"
     ]
    },
    {
     "name": "stderr",
     "output_type": "stream",
     "text": [
      "Info: Params [ 0.         -0.66630829  0.48608767  0.32038928  0.86674124  0.83820696] gave 85.20698124280133\n"
     ]
    },
    {
     "name": "stdout",
     "output_type": "stream",
     "text": [
      "6\n"
     ]
    },
    {
     "name": "stderr",
     "output_type": "stream",
     "text": [
      "Info: Params [ 0.42569976 -1.79650295  1.12995619  0.28909891  0.96027172  0.91004912] gave 143.7472454014502\n"
     ]
    },
    {
     "name": "stdout",
     "output_type": "stream",
     "text": [
      "7\n"
     ]
    },
    {
     "name": "stderr",
     "output_type": "stream",
     "text": [
      "Info: Params [ 0.57815216 -0.81516405  1.0772028   0.09452435  0.9367857   0.91300308] gave 189.98172807105453\n"
     ]
    },
    {
     "name": "stdout",
     "output_type": "stream",
     "text": [
      "8\n"
     ]
    },
    {
     "name": "stderr",
     "output_type": "stream",
     "text": [
      "Info: Params [ 0.         -1.49923433  0.93452944  0.51688109  0.65550871  0.62020502] gave 143.86251198536806\n"
     ]
    },
    {
     "name": "stdout",
     "output_type": "stream",
     "text": [
      "9\n"
     ]
    },
    {
     "name": "stderr",
     "output_type": "stream",
     "text": [
      "Info: Params [ 0.22464289 -1.30168472  0.72614657  0.34523434  0.93677571  0.94728137] gave 137.7167386891706\n"
     ]
    },
    {
     "name": "stdout",
     "output_type": "stream",
     "text": [
      "10\n"
     ]
    },
    {
     "name": "stderr",
     "output_type": "stream",
     "text": [
      "Info: Params [ 0.51847467 -0.96069369  1.40427668  0.24283483  0.99361513  0.87489367] gave 207.75125947118588\n"
     ]
    },
    {
     "name": "stdout",
     "output_type": "stream",
     "text": [
      "11\n"
     ]
    },
    {
     "name": "stderr",
     "output_type": "stream",
     "text": [
      "Info: Params [ 0.44588238 -1.72240292  1.05251689  0.44451564  0.86996365  0.96734726] gave 149.1232543755661\n"
     ]
    },
    {
     "name": "stdout",
     "output_type": "stream",
     "text": [
      "12\n"
     ]
    },
    {
     "name": "stderr",
     "output_type": "stream",
     "text": [
      "Info: Params [ 0.46560902 -0.78559859  0.8564063   0.4476414   0.61082944  0.75174317] gave 168.9505263577837\n"
     ]
    },
    {
     "name": "stdout",
     "output_type": "stream",
     "text": [
      "13\n"
     ]
    },
    {
     "name": "stderr",
     "output_type": "stream",
     "text": [
      "Info: Params [ 0.24852089 -0.83943161  1.78173942  0.31623152  0.9089917   0.96727454] gave 259.26494431124104\n"
     ]
    },
    {
     "name": "stdout",
     "output_type": "stream",
     "text": [
      "14\n"
     ]
    },
    {
     "name": "stderr",
     "output_type": "stream",
     "text": [
      "Info: Params [ 0.20536588 -1.024354    1.12702868  0.34452797  0.82700724  0.92511175] gave 210.68802294598652\n"
     ]
    },
    {
     "name": "stdout",
     "output_type": "stream",
     "text": [
      "15\n"
     ]
    },
    {
     "name": "stderr",
     "output_type": "stream",
     "text": [
      "Info: Params [ 0.2658986  -1.07050536  1.18662928  0.42074089  0.76125439  0.75230849] gave 210.4556273827701\n"
     ]
    },
    {
     "name": "stdout",
     "output_type": "stream",
     "text": [
      "16\n"
     ]
    },
    {
     "name": "stderr",
     "output_type": "stream",
     "text": [
      "Info: Params [ 0.04939968 -1.37856695  1.04118992  0.48375276  0.89085243  0.92636406] gave 168.58513183132106\n"
     ]
    },
    {
     "name": "stdout",
     "output_type": "stream",
     "text": [
      "17\n"
     ]
    },
    {
     "name": "stderr",
     "output_type": "stream",
     "text": [
      "Info: Params [ 0.         -2.15169513  1.02486292  0.4962219   0.99240538  0.91349659] gave 141.0742185364005\n"
     ]
    },
    {
     "name": "stdout",
     "output_type": "stream",
     "text": [
      "18\n"
     ]
    },
    {
     "name": "stderr",
     "output_type": "stream",
     "text": [
      "Info: Params [ 0.         -0.90210358  1.28040386  0.2518724   0.95117678  0.99303806] gave 255.3828524117498\n"
     ]
    },
    {
     "name": "stdout",
     "output_type": "stream",
     "text": [
      "19\n"
     ]
    },
    {
     "name": "stderr",
     "output_type": "stream",
     "text": [
      "Info: Params [ 0.45484838 -0.47142322  0.94669014  0.0394909   0.95484238  0.9007957 ] gave 212.88645889564964\n"
     ]
    },
    {
     "name": "stdout",
     "output_type": "stream",
     "text": [
      "20\n"
     ]
    },
    {
     "name": "stderr",
     "output_type": "stream",
     "text": [
      "Info: Params [ 0.57077194 -1.35427562  0.68634996  0.40476389  0.6640451   0.74167461] gave 104.59928927297297\n"
     ]
    },
    {
     "name": "stdout",
     "output_type": "stream",
     "text": [
      "21\n"
     ]
    },
    {
     "name": "stderr",
     "output_type": "stream",
     "text": [
      "Info: Params [ 0.         -1.6130986   1.02598805  0.35787206  0.99096991  0.96908874] gave 154.44808625181054\n"
     ]
    },
    {
     "name": "stdout",
     "output_type": "stream",
     "text": [
      "22\n"
     ]
    },
    {
     "name": "stderr",
     "output_type": "stream",
     "text": [
      "Info: Params [ 0.08974624 -1.72867567  0.88563118  0.32472089  0.80665721  0.92734995] gave 145.3249060151848\n"
     ]
    },
    {
     "name": "stdout",
     "output_type": "stream",
     "text": [
      "23\n"
     ]
    },
    {
     "name": "stderr",
     "output_type": "stream",
     "text": [
      "Info: Params [ 0.64830994 -0.66483872  0.94646462  0.06182222  0.96269944  0.92079645] gave 185.14002299357787\n"
     ]
    },
    {
     "name": "stdout",
     "output_type": "stream",
     "text": [
      "24\n"
     ]
    },
    {
     "name": "stderr",
     "output_type": "stream",
     "text": [
      "Info: Params [ 0.63522475 -0.89670048  0.84785028  0.36412318  0.67568253  0.69755364] gave 146.7216861817451\n"
     ]
    },
    {
     "name": "stdout",
     "output_type": "stream",
     "text": [
      "25\n"
     ]
    },
    {
     "name": "stderr",
     "output_type": "stream",
     "text": [
      "Info: Params [ 0.30694681 -0.6248618   1.45767189  0.11541192  0.93472531  0.92820986] gave 240.72337382178728\n"
     ]
    },
    {
     "name": "stdout",
     "output_type": "stream",
     "text": [
      "26\n"
     ]
    },
    {
     "name": "stderr",
     "output_type": "stream",
     "text": [
      "Info: Params [ 0.13953109 -0.88198645  1.75899227  0.33889448  0.91140127  0.93753405] gave 260.03743922968835\n"
     ]
    },
    {
     "name": "stdout",
     "output_type": "stream",
     "text": [
      "27\n"
     ]
    },
    {
     "name": "stderr",
     "output_type": "stream",
     "text": [
      "Info: Params [ 0.         -1.74136233  0.98059424  0.28456708  0.79969316  0.86987451] gave 167.7055745776217\n"
     ]
    },
    {
     "name": "stdout",
     "output_type": "stream",
     "text": [
      "28\n"
     ]
    },
    {
     "name": "stderr",
     "output_type": "stream",
     "text": [
      "Info: Params [ 0.80277664 -0.63802665  0.85755405  0.13255063  0.71403516  0.82283247] gave 166.32477845174287\n"
     ]
    },
    {
     "name": "stdout",
     "output_type": "stream",
     "text": [
      "29\n"
     ]
    },
    {
     "name": "stderr",
     "output_type": "stream",
     "text": [
      "Info: Params [ 0.58505665 -0.59774225  1.01783252  0.13529568  0.84231817  0.93684652] gave 204.47364522449016\n"
     ]
    },
    {
     "name": "stdout",
     "output_type": "stream",
     "text": [
      "30\n"
     ]
    },
    {
     "name": "stderr",
     "output_type": "stream",
     "text": [
      "Info: Params [ 0.37917204 -1.17633959  1.06219972  0.00405058  0.64744291  0.81985738] gave 206.8734113536491\n"
     ]
    },
    {
     "name": "stdout",
     "output_type": "stream",
     "text": [
      "31\n"
     ]
    },
    {
     "name": "stderr",
     "output_type": "stream",
     "text": [
      "Info: Params [ 0.         -1.33211408  1.44110519  0.35872667  0.85741163  0.84558824] gave 198.39185168370517\n"
     ]
    },
    {
     "name": "stdout",
     "output_type": "stream",
     "text": [
      "32\n"
     ]
    },
    {
     "name": "stderr",
     "output_type": "stream",
     "text": [
      "Info: Params [ 0.14808177 -1.41176984  0.86613322  0.2760883   0.71208073  0.8543403 ] gave 152.84126260525898\n"
     ]
    },
    {
     "name": "stdout",
     "output_type": "stream",
     "text": [
      "33\n"
     ]
    },
    {
     "name": "stderr",
     "output_type": "stream",
     "text": [
      "Info: Params [ 0.50236385 -1.07266941  0.83194255  0.39942225  0.65345908  0.73849327] gave 129.9921255229527\n"
     ]
    },
    {
     "name": "stdout",
     "output_type": "stream",
     "text": [
      "34\n"
     ]
    },
    {
     "name": "stderr",
     "output_type": "stream",
     "text": [
      "Info: Params [ 0.58456995 -0.52167374  1.06357774  0.04494481  0.77074728  0.71943061] gave 222.71268439114817\n"
     ]
    },
    {
     "name": "stdout",
     "output_type": "stream",
     "text": [
      "35\n"
     ]
    },
    {
     "name": "stderr",
     "output_type": "stream",
     "text": [
      "Info: Params [ 0.         -1.23432761  1.55490638  0.29162125  0.9080908   0.92923064] gave 210.97025108660912\n"
     ]
    },
    {
     "name": "stdout",
     "output_type": "stream",
     "text": [
      "36\n"
     ]
    },
    {
     "name": "stderr",
     "output_type": "stream",
     "text": [
      "Info: Params [ 0.07863301 -1.47258447  0.93603535  0.40254973  0.97948603  0.9316926 ] gave 148.74968094328358\n"
     ]
    },
    {
     "name": "stdout",
     "output_type": "stream",
     "text": [
      "37\n"
     ]
    },
    {
     "name": "stderr",
     "output_type": "stream",
     "text": [
      "Info: Params [ 0.10409654 -1.08439247  1.06353625  0.28921244  0.92656967  0.97996546] gave 209.76051088889693\n"
     ]
    },
    {
     "name": "stdout",
     "output_type": "stream",
     "text": [
      "38\n"
     ]
    },
    {
     "name": "stderr",
     "output_type": "stream",
     "text": [
      "Info: Params [ 0.24801378 -0.41575684  0.77667554  0.18945218  0.5191144   0.5623387 ] gave 205.14312369886346\n"
     ]
    },
    {
     "name": "stdout",
     "output_type": "stream",
     "text": [
      "39\n"
     ]
    },
    {
     "name": "stderr",
     "output_type": "stream",
     "text": [
      "Info: Params [ 0.15026253 -0.60935018  1.38591704  0.3393859   0.825042    0.92133742] gave 226.2259186874376\n"
     ]
    },
    {
     "name": "stdout",
     "output_type": "stream",
     "text": [
      "40\n"
     ]
    },
    {
     "name": "stderr",
     "output_type": "stream",
     "text": [
      "Info: Params [ 0.68086186 -1.33296309  0.85795389  0.34035147  0.80936769  0.96137749] gave 125.58467665585971\n"
     ]
    },
    {
     "name": "stdout",
     "output_type": "stream",
     "text": [
      "41\n"
     ]
    },
    {
     "name": "stderr",
     "output_type": "stream",
     "text": [
      "Info: Params [ 0.24654636 -0.78595343  1.85115843  0.43795931  0.70941351  0.94560659] gave 256.5570333466654\n"
     ]
    },
    {
     "name": "stdout",
     "output_type": "stream",
     "text": [
      "42\n"
     ]
    },
    {
     "name": "stderr",
     "output_type": "stream",
     "text": [
      "Info: Params [ 0.         -1.40849843  1.47553748  0.54480788  0.75172929  0.92461319] gave 216.95808302410165\n"
     ]
    },
    {
     "name": "stdout",
     "output_type": "stream",
     "text": [
      "43\n"
     ]
    },
    {
     "name": "stderr",
     "output_type": "stream",
     "text": [
      "Info: Params [ 0.45116338 -0.59721834  1.33402699  0.33279146  0.9564575   0.95316101] gave 214.46924533465753\n"
     ]
    },
    {
     "name": "stdout",
     "output_type": "stream",
     "text": [
      "44\n"
     ]
    },
    {
     "name": "stderr",
     "output_type": "stream",
     "text": [
      "Info: Params [ 0.         -1.75557344  1.28482616  0.33845329  0.70779468  0.84326246] gave 201.98958841131622\n"
     ]
    },
    {
     "name": "stdout",
     "output_type": "stream",
     "text": [
      "45\n"
     ]
    },
    {
     "name": "stderr",
     "output_type": "stream",
     "text": [
      "Info: Params [ 0.82686143 -0.31760145  1.17373015 -0.09664233  0.88269203  0.92859271] gave 238.10253023329656\n"
     ]
    },
    {
     "name": "stdout",
     "output_type": "stream",
     "text": [
      "46\n"
     ]
    },
    {
     "name": "stderr",
     "output_type": "stream",
     "text": [
      "Info: Params [ 0.33532352 -0.5358861   1.70455126 -0.00367334  0.91700461  0.97300375] gave 243.23310792200198\n"
     ]
    },
    {
     "name": "stdout",
     "output_type": "stream",
     "text": [
      "47\n"
     ]
    },
    {
     "name": "stderr",
     "output_type": "stream",
     "text": [
      "Info: Params [ 0.50621549 -2.04843195  0.61470304  0.51573494  0.74495438  0.74655612] gave 65.45458474350309\n"
     ]
    },
    {
     "name": "stdout",
     "output_type": "stream",
     "text": [
      "48\n"
     ]
    },
    {
     "name": "stderr",
     "output_type": "stream",
     "text": [
      "Info: Params [ 0.1012858  -0.72923493  1.32949355  0.33588632  0.47151343  0.70054758] gave 217.04972068370375\n"
     ]
    },
    {
     "name": "stdout",
     "output_type": "stream",
     "text": [
      "49\n"
     ]
    },
    {
     "name": "stderr",
     "output_type": "stream",
     "text": [
      "Info: Params [ 0.38797324 -1.15622489  1.09366755  0.16401256  0.97233223  0.9155666 ] gave 187.154122992654\n"
     ]
    },
    {
     "name": "stdout",
     "output_type": "stream",
     "text": [
      "50\n"
     ]
    },
    {
     "name": "stderr",
     "output_type": "stream",
     "text": [
      "Info: Params [ 0.2884369  -0.09739499  1.09748115  0.08957433  0.91243399  0.94265305] gave 232.23398327363634\n"
     ]
    },
    {
     "name": "stdout",
     "output_type": "stream",
     "text": [
      "51\n"
     ]
    },
    {
     "name": "stderr",
     "output_type": "stream",
     "text": [
      "Info: Params [ 0.         -1.04565291  0.92849553  0.20462817  0.9230362   0.91396548] gave 176.9528823303658\n"
     ]
    },
    {
     "name": "stdout",
     "output_type": "stream",
     "text": [
      "52\n"
     ]
    },
    {
     "name": "stderr",
     "output_type": "stream",
     "text": [
      "Info: Params [ 0.67048784 -0.44770433  1.39118429  0.08833946  0.73126845  0.87739423] gave 243.62966362449106\n"
     ]
    },
    {
     "name": "stdout",
     "output_type": "stream",
     "text": [
      "53\n"
     ]
    },
    {
     "name": "stderr",
     "output_type": "stream",
     "text": [
      "Info: Params [ 0.32701028 -0.87571445  1.21075809  0.46600269  0.81376008  0.96968473] gave 216.61263731854538\n"
     ]
    },
    {
     "name": "stdout",
     "output_type": "stream",
     "text": [
      "54\n"
     ]
    },
    {
     "name": "stderr",
     "output_type": "stream",
     "text": [
      "Info: Params [ 0.         -0.78500316  1.21681253  0.27683644  0.96259457  0.92642798] gave 246.23418484588922\n"
     ]
    },
    {
     "name": "stdout",
     "output_type": "stream",
     "text": [
      "55\n"
     ]
    },
    {
     "name": "stderr",
     "output_type": "stream",
     "text": [
      "Info: Params [ 0.19021097 -0.86395423  1.29255888  0.27627278  0.94330568  0.93133459] gave 236.6871700541927\n"
     ]
    },
    {
     "name": "stdout",
     "output_type": "stream",
     "text": [
      "56\n"
     ]
    },
    {
     "name": "stderr",
     "output_type": "stream",
     "text": [
      "Info: Params [ 0.91605286 -0.93898049  0.69911032  0.03956165  0.52779949  0.74154169] gave 113.21819939790801\n"
     ]
    },
    {
     "name": "stdout",
     "output_type": "stream",
     "text": [
      "57\n"
     ]
    },
    {
     "name": "stderr",
     "output_type": "stream",
     "text": [
      "Info: Params [ 0.53215582 -2.05983197  0.59104335  0.44606784  0.51139572  0.56662165] gave 52.178810595374316\n"
     ]
    },
    {
     "name": "stdout",
     "output_type": "stream",
     "text": [
      "58\n"
     ]
    },
    {
     "name": "stderr",
     "output_type": "stream",
     "text": [
      "Info: Params [ 0.09459483 -0.56299929  1.53016122  0.27116705  0.58470018  0.52073894] gave 291.2477717385159\n"
     ]
    },
    {
     "name": "stdout",
     "output_type": "stream",
     "text": [
      "59\n"
     ]
    },
    {
     "name": "stderr",
     "output_type": "stream",
     "text": [
      "Info: Params [ 0.1864239  -0.68834935  1.24931473  0.56029471  0.66792164  0.71624241] gave 223.8760888315258\n"
     ]
    },
    {
     "name": "stdout",
     "output_type": "stream",
     "text": [
      "60\n"
     ]
    },
    {
     "name": "stderr",
     "output_type": "stream",
     "text": [
      "Info: Params [ 0.40961893 -0.98510479  0.99247623  0.02504616  0.96045174  0.90929901] gave 187.86529715925695\n"
     ]
    },
    {
     "name": "stdout",
     "output_type": "stream",
     "text": [
      "61\n"
     ]
    },
    {
     "name": "stderr",
     "output_type": "stream",
     "text": [
      "Info: Params [ 0.23100623 -1.32620804  0.98687752  0.29056575  0.91856189  0.95871193] gave 168.48440414349903\n"
     ]
    },
    {
     "name": "stdout",
     "output_type": "stream",
     "text": [
      "62\n"
     ]
    },
    {
     "name": "stderr",
     "output_type": "stream",
     "text": [
      "Info: Params [ 0.34301402 -1.15169354  1.09919185  0.44478444  0.87838469  0.91884189] gave 208.3901012102018\n"
     ]
    },
    {
     "name": "stdout",
     "output_type": "stream",
     "text": [
      "63\n"
     ]
    },
    {
     "name": "stderr",
     "output_type": "stream",
     "text": [
      "Info: Params [ 0.85487192 -0.58710847  0.73810137  0.03122978  0.6707278   0.87571163] gave 143.7298041887408\n"
     ]
    },
    {
     "name": "stdout",
     "output_type": "stream",
     "text": [
      "64\n"
     ]
    },
    {
     "name": "stderr",
     "output_type": "stream",
     "text": [
      "Info: Params [ 0.0533805  -1.06479373  1.30247231  0.53881738  0.8112169   0.96002298] gave 207.48649416508263\n"
     ]
    },
    {
     "name": "stdout",
     "output_type": "stream",
     "text": [
      "65\n"
     ]
    },
    {
     "name": "stderr",
     "output_type": "stream",
     "text": [
      "Info: Params [ 0.46509442 -0.7185059   1.15552754  0.30814659  0.71061565  0.87631585] gave 204.36015133038245\n"
     ]
    },
    {
     "name": "stdout",
     "output_type": "stream",
     "text": [
      "66\n"
     ]
    },
    {
     "name": "stderr",
     "output_type": "stream",
     "text": [
      "Info: Params [ 0.18096684 -0.82531269  1.3670166   0.47216919  0.80952204  0.68828934] gave 249.3817869055134\n"
     ]
    },
    {
     "name": "stdout",
     "output_type": "stream",
     "text": [
      "67\n"
     ]
    },
    {
     "name": "stderr",
     "output_type": "stream",
     "text": [
      "Info: Params [ 0.15883711 -1.23246086  1.2319851   0.23733665  0.9359454   0.96005496] gave 202.7319377693969\n"
     ]
    },
    {
     "name": "stdout",
     "output_type": "stream",
     "text": [
      "68\n"
     ]
    },
    {
     "name": "stderr",
     "output_type": "stream",
     "text": [
      "Info: Params [ 0.3057699  -0.59517053  0.73019644  0.24684952  0.77073399  0.85365172] gave 164.60738192820855\n"
     ]
    },
    {
     "name": "stdout",
     "output_type": "stream",
     "text": [
      "69\n"
     ]
    },
    {
     "name": "stderr",
     "output_type": "stream",
     "text": [
      "Info: Params [ 0.0604922  -1.15530232  0.97538387  0.33794082  0.73120908  0.98307236] gave 183.05239508599158\n"
     ]
    },
    {
     "name": "stdout",
     "output_type": "stream",
     "text": [
      "70\n"
     ]
    },
    {
     "name": "stderr",
     "output_type": "stream",
     "text": [
      "Info: Params [ 0.18555002 -1.72357916  0.88505667  0.37318647  0.63306231  0.75439695] gave 145.96362338943618\n"
     ]
    },
    {
     "name": "stdout",
     "output_type": "stream",
     "text": [
      "71\n"
     ]
    },
    {
     "name": "stderr",
     "output_type": "stream",
     "text": [
      "Info: Params [ 0.12028564 -0.46583483  1.25766313  0.40658118  0.42242951  0.43685927] gave 262.8761076805613\n"
     ]
    },
    {
     "name": "stdout",
     "output_type": "stream",
     "text": [
      "72\n"
     ]
    },
    {
     "name": "stderr",
     "output_type": "stream",
     "text": [
      "Info: Params [ 0.79512852 -1.02063916  0.84755606  0.20213861  0.87085483  0.9148911 ] gave 148.30511227611726\n"
     ]
    },
    {
     "name": "stdout",
     "output_type": "stream",
     "text": [
      "73\n"
     ]
    },
    {
     "name": "stderr",
     "output_type": "stream",
     "text": [
      "Info: Params [ 0.32833258 -0.73682799  1.71432327  0.2927953   0.89720931  0.99335613] gave 257.7231801631504\n"
     ]
    },
    {
     "name": "stdout",
     "output_type": "stream",
     "text": [
      "74\n"
     ]
    },
    {
     "name": "stderr",
     "output_type": "stream",
     "text": [
      "Info: Params [ 1.36336869 -1.52130826  0.42764704  0.02848769  0.7027328   0.84504564] gave 25.605617918615852\n"
     ]
    },
    {
     "name": "stdout",
     "output_type": "stream",
     "text": [
      "75\n"
     ]
    },
    {
     "name": "stderr",
     "output_type": "stream",
     "text": [
      "Info: Params [ 0.         -1.18296274  0.69983826  0.17760647  0.75096548  0.84251896] gave 126.54469897438052\n"
     ]
    },
    {
     "name": "stdout",
     "output_type": "stream",
     "text": [
      "76\n"
     ]
    },
    {
     "name": "stderr",
     "output_type": "stream",
     "text": [
      "Info: Params [ 0.74149314 -1.1284515   0.67676935  0.08867259  0.6198841   0.75729886] gave 112.29745443297232\n"
     ]
    },
    {
     "name": "stdout",
     "output_type": "stream",
     "text": [
      "77\n"
     ]
    },
    {
     "name": "stderr",
     "output_type": "stream",
     "text": [
      "Info: Params [ 0.         -1.42576797  1.09486929  0.4309795   0.85479253  0.95688343] gave 167.8818425254466\n"
     ]
    },
    {
     "name": "stdout",
     "output_type": "stream",
     "text": [
      "78\n"
     ]
    },
    {
     "name": "stderr",
     "output_type": "stream",
     "text": [
      "Info: Params [ 0.         -0.60080563  0.8331823   0.28408486  0.62008684  0.85813595] gave 189.0981486288523\n"
     ]
    },
    {
     "name": "stdout",
     "output_type": "stream",
     "text": [
      "79\n"
     ]
    },
    {
     "name": "stderr",
     "output_type": "stream",
     "text": [
      "Info: Params [ 0.28371946 -0.48428092  1.22731839  0.1894691   0.68376312  0.57885172] gave 267.47054060234353\n"
     ]
    },
    {
     "name": "stdout",
     "output_type": "stream",
     "text": [
      "80\n"
     ]
    },
    {
     "name": "stderr",
     "output_type": "stream",
     "text": [
      "Info: Params [ 0.05946494 -0.70984298  1.55360544  0.34718901  0.96460885  0.95579886] gave 258.9371663333185\n"
     ]
    },
    {
     "name": "stdout",
     "output_type": "stream",
     "text": [
      "81\n"
     ]
    },
    {
     "name": "stderr",
     "output_type": "stream",
     "text": [
      "Info: Params [ 0.33487936 -1.81854358  0.69079018  0.40212745  0.74772608  0.87514358] gave 104.93492458696294\n"
     ]
    },
    {
     "name": "stdout",
     "output_type": "stream",
     "text": [
      "82\n"
     ]
    },
    {
     "name": "stderr",
     "output_type": "stream",
     "text": [
      "Info: Params [ 0.         -1.40020518  1.13020381  0.30562559  0.97761708  0.94188722] gave 177.97014997634653\n"
     ]
    },
    {
     "name": "stdout",
     "output_type": "stream",
     "text": [
      "83\n"
     ]
    },
    {
     "name": "stderr",
     "output_type": "stream",
     "text": [
      "Info: Params [ 0.         -1.47896258  1.15777002  0.28399673  0.55396111  0.60706705] gave 208.54349729269308\n"
     ]
    },
    {
     "name": "stdout",
     "output_type": "stream",
     "text": [
      "84\n"
     ]
    },
    {
     "name": "stderr",
     "output_type": "stream",
     "text": [
      "Info: Params [ 0.         -1.62902689  1.18667566  0.44231621  0.80354108  0.96951504] gave 177.54652201250792\n"
     ]
    },
    {
     "name": "stdout",
     "output_type": "stream",
     "text": [
      "85\n"
     ]
    },
    {
     "name": "stderr",
     "output_type": "stream",
     "text": [
      "Info: Params [ 0.26554716 -1.12882344  0.86940675  0.24801623  0.65970594  0.81092186] gave 170.04943273064202\n"
     ]
    },
    {
     "name": "stdout",
     "output_type": "stream",
     "text": [
      "86\n"
     ]
    },
    {
     "name": "stderr",
     "output_type": "stream",
     "text": [
      "Info: Params [ 0.79574458 -0.0570217   0.88218472 -0.17275749  0.09780274  0.1579361 ] gave 166.84117095801798\n"
     ]
    },
    {
     "name": "stdout",
     "output_type": "stream",
     "text": [
      "87\n"
     ]
    },
    {
     "name": "stderr",
     "output_type": "stream",
     "text": [
      "Info: Params [ 0.68965085 -0.42662641  0.99167892  0.06512518  0.94328518  0.92966503] gave 195.95739739485458\n"
     ]
    },
    {
     "name": "stdout",
     "output_type": "stream",
     "text": [
      "88\n"
     ]
    },
    {
     "name": "stderr",
     "output_type": "stream",
     "text": [
      "Info: Params [ 0.20772807 -2.43383161  0.69414173  0.47303911  0.77296225  0.72514898] gave 77.90202604178556\n"
     ]
    },
    {
     "name": "stdout",
     "output_type": "stream",
     "text": [
      "89\n"
     ]
    },
    {
     "name": "stderr",
     "output_type": "stream",
     "text": [
      "Info: Params [ 0.33026513 -0.98671238  1.01852075  0.40102869  0.67905728  0.63747775] gave 192.2811283773624\n"
     ]
    },
    {
     "name": "stdout",
     "output_type": "stream",
     "text": [
      "90\n"
     ]
    },
    {
     "name": "stderr",
     "output_type": "stream",
     "text": [
      "Info: Params [ 0.27648341 -1.03535402  0.86905415  0.32954837  0.84776133  0.91045709] gave 180.6775741673216\n"
     ]
    },
    {
     "name": "stdout",
     "output_type": "stream",
     "text": [
      "91\n"
     ]
    },
    {
     "name": "stderr",
     "output_type": "stream",
     "text": [
      "Info: Params [ 0.         -1.7053306   1.32499282  0.4457367   0.92045701  0.97668658] gave 197.1535556948822\n"
     ]
    },
    {
     "name": "stdout",
     "output_type": "stream",
     "text": [
      "92\n"
     ]
    },
    {
     "name": "stderr",
     "output_type": "stream",
     "text": [
      "Info: Params [ 0.         -1.14927613  0.91585172  0.26996315  0.65461744  0.70884625] gave 177.53952770287378\n"
     ]
    },
    {
     "name": "stdout",
     "output_type": "stream",
     "text": [
      "93\n"
     ]
    },
    {
     "name": "stderr",
     "output_type": "stream",
     "text": [
      "Info: Params [ 0.13923794 -1.51410602  0.86345426  0.21908423  0.77279309  0.89789529] gave 141.45114488564133\n"
     ]
    },
    {
     "name": "stdout",
     "output_type": "stream",
     "text": [
      "94\n"
     ]
    },
    {
     "name": "stderr",
     "output_type": "stream",
     "text": [
      "Info: Params [ 0.19612377 -0.90972175  1.13748553  0.25517251  0.92655969  0.95417462] gave 211.73859980892786\n"
     ]
    },
    {
     "name": "stdout",
     "output_type": "stream",
     "text": [
      "95\n"
     ]
    },
    {
     "name": "stderr",
     "output_type": "stream",
     "text": [
      "Info: Params [ 0.         -0.70731333  1.35027911  0.41049759  0.73008028  0.94953632] gave 255.34000327665012\n"
     ]
    },
    {
     "name": "stdout",
     "output_type": "stream",
     "text": [
      "96\n"
     ]
    },
    {
     "name": "stderr",
     "output_type": "stream",
     "text": [
      "Info: Params [ 0.5315376  -1.35258327  1.27277165  0.13668576  0.94505156  0.96429266] gave 177.90152118924388\n"
     ]
    },
    {
     "name": "stdout",
     "output_type": "stream",
     "text": [
      "97\n"
     ]
    },
    {
     "name": "stderr",
     "output_type": "stream",
     "text": [
      "Info: Params [ 0.19908933 -0.72556709  1.66837198  0.13786814  0.93508532  0.96178614] gave 280.25599606545904\n"
     ]
    },
    {
     "name": "stdout",
     "output_type": "stream",
     "text": [
      "98\n"
     ]
    },
    {
     "name": "stderr",
     "output_type": "stream",
     "text": [
      "Info: Params [ 0.48247867 -0.7030436   1.18756228  0.14094201  0.52406893  0.84219742] gave 229.88881985362826\n"
     ]
    },
    {
     "name": "stdout",
     "output_type": "stream",
     "text": [
      "99\n"
     ]
    },
    {
     "name": "stderr",
     "output_type": "stream",
     "text": [
      "Info: Params [ 0.30804551 -0.97064063  1.56321827  0.41926157  0.93657743  0.74510372] gave 226.65811824372895\n"
     ]
    },
    {
     "name": "stdout",
     "output_type": "stream",
     "text": [
      "100\n"
     ]
    },
    {
     "name": "stderr",
     "output_type": "stream",
     "text": [
      "Info: Params [ 0.49280422 -0.6859352   1.34195919  0.21242178  0.92532699  0.92385523] gave 232.77142503940374\n"
     ]
    },
    {
     "name": "stdout",
     "output_type": "stream",
     "text": [
      "101\n"
     ]
    },
    {
     "name": "stderr",
     "output_type": "stream",
     "text": [
      "Info: Params [ 0.16505065 -0.22954713  0.90874025  0.17644481  0.93725889  0.8828311 ] gave 198.86368172600373\n"
     ]
    },
    {
     "name": "stdout",
     "output_type": "stream",
     "text": [
      "102\n"
     ]
    },
    {
     "name": "stderr",
     "output_type": "stream",
     "text": [
      "Info: Params [ 0.76181192 -1.2918366   0.79477031  0.58661118  0.66750792  0.65037811] gave 88.14346875647445\n"
     ]
    },
    {
     "name": "stdout",
     "output_type": "stream",
     "text": [
      "103\n"
     ]
    },
    {
     "name": "stderr",
     "output_type": "stream",
     "text": [
      "Info: Params [ 0.47390063 -1.07241964  0.75414252  0.0831939   0.66885905  0.60784101] gave 149.3888552403942\n"
     ]
    },
    {
     "name": "stdout",
     "output_type": "stream",
     "text": [
      "104\n"
     ]
    },
    {
     "name": "stderr",
     "output_type": "stream",
     "text": [
      "Info: Params [ 0.22356371 -0.59574046  1.37383841  0.20157658  0.85873378  0.92220334] gave 233.98345864759912\n"
     ]
    },
    {
     "name": "stdout",
     "output_type": "stream",
     "text": [
      "105\n"
     ]
    },
    {
     "name": "stderr",
     "output_type": "stream",
     "text": [
      "Info: Params [ 0.         -1.18563081  1.21071407  0.45533989  0.85603697  0.98271332] gave 216.29138360920834\n"
     ]
    },
    {
     "name": "stdout",
     "output_type": "stream",
     "text": [
      "106\n"
     ]
    },
    {
     "name": "stderr",
     "output_type": "stream",
     "text": [
      "Info: Params [ 0.         -0.92362574  0.90136725  0.14215384  0.98794562  0.94915671] gave 183.98153196981997\n"
     ]
    },
    {
     "name": "stdout",
     "output_type": "stream",
     "text": [
      "107\n"
     ]
    },
    {
     "name": "stderr",
     "output_type": "stream",
     "text": [
      "Info: Params [ 0.67317659 -1.01802024  0.71920119  0.03915261  0.66729886  0.74025232] gave 134.16876311830572\n"
     ]
    },
    {
     "name": "stdout",
     "output_type": "stream",
     "text": [
      "108\n"
     ]
    },
    {
     "name": "stderr",
     "output_type": "stream",
     "text": [
      "Info: Params [ 0.         -0.94550589  1.10906917  0.02863249  0.70275519  0.91163849] gave 229.31410346568254\n"
     ]
    },
    {
     "name": "stdout",
     "output_type": "stream",
     "text": [
      "109\n"
     ]
    },
    {
     "name": "stderr",
     "output_type": "stream",
     "text": [
      "Info: Params [ 0.57191306 -1.54533008  0.77828368  0.11216157  0.84191401  0.97064178] gave 122.74902845475039\n"
     ]
    },
    {
     "name": "stdout",
     "output_type": "stream",
     "text": [
      "110\n"
     ]
    },
    {
     "name": "stderr",
     "output_type": "stream",
     "text": [
      "Info: Params [ 0.         -1.02466996  0.80912803  0.28790959  0.82756156  0.88655837] gave 155.23450255370454\n"
     ]
    },
    {
     "name": "stdout",
     "output_type": "stream",
     "text": [
      "111\n"
     ]
    },
    {
     "name": "stderr",
     "output_type": "stream",
     "text": [
      "Info: Params [ 0.27913669 -0.96580011  0.92791419  0.30047785  0.88825039  0.91017791] gave 184.13492289754794\n"
     ]
    },
    {
     "name": "stdout",
     "output_type": "stream",
     "text": [
      "112\n"
     ]
    },
    {
     "name": "stderr",
     "output_type": "stream",
     "text": [
      "Info: Params [ 0.45731645 -1.33119959  0.92560006  0.26621943  0.87389252  0.87311331] gave 147.82348319851428\n"
     ]
    },
    {
     "name": "stdout",
     "output_type": "stream",
     "text": [
      "113\n"
     ]
    },
    {
     "name": "stderr",
     "output_type": "stream",
     "text": [
      "Info: Params [ 0.21497468 -0.62915301  1.57328316  0.16673296  0.97140213  0.94808481] gave 251.9353531292562\n"
     ]
    },
    {
     "name": "stdout",
     "output_type": "stream",
     "text": [
      "114\n"
     ]
    },
    {
     "name": "stderr",
     "output_type": "stream",
     "text": [
      "Info: Params [ 0.22357089 -0.70807553  1.41463443  0.26954667  0.9892818   0.91773296] gave 254.8828212653344\n"
     ]
    },
    {
     "name": "stdout",
     "output_type": "stream",
     "text": [
      "115\n"
     ]
    },
    {
     "name": "stderr",
     "output_type": "stream",
     "text": [
      "Info: Params [ 0.         -1.40264452  0.84372692  0.49513526  0.81045733  0.85824286] gave 148.51284741916479\n"
     ]
    },
    {
     "name": "stdout",
     "output_type": "stream",
     "text": [
      "116\n"
     ]
    },
    {
     "name": "stderr",
     "output_type": "stream",
     "text": [
      "Info: Params [ 0.         -0.66427322  1.1084021   0.01649105  0.25099384  0.22306791] gave 229.933549913839\n"
     ]
    },
    {
     "name": "stdout",
     "output_type": "stream",
     "text": [
      "117\n"
     ]
    },
    {
     "name": "stderr",
     "output_type": "stream",
     "text": [
      "Info: Params [ 0.         -1.0240455   1.48932608  0.24614425  0.9096296   0.91728032] gave 233.04796843881957\n"
     ]
    },
    {
     "name": "stdout",
     "output_type": "stream",
     "text": [
      "118\n"
     ]
    },
    {
     "name": "stderr",
     "output_type": "stream",
     "text": [
      "Info: Params [ 1.15430311 -0.55920795  0.97323469  0.1300348   0.73884127  0.61495059] gave 183.98785192419996\n"
     ]
    },
    {
     "name": "stdout",
     "output_type": "stream",
     "text": [
      "119\n"
     ]
    },
    {
     "name": "stderr",
     "output_type": "stream",
     "text": [
      "Info: Params [ 0.09850549 -0.71356784  1.45228803  0.27382095  0.94927528  0.95110441] gave 248.353123246169\n"
     ]
    },
    {
     "name": "stdout",
     "output_type": "stream",
     "text": [
      "120\n"
     ]
    },
    {
     "name": "stderr",
     "output_type": "stream",
     "text": [
      "Info: Params [ 0.         -1.14391718  1.52068919  0.24072406  0.97430484  0.9063259 ] gave 236.49828295120722\n"
     ]
    },
    {
     "name": "stdout",
     "output_type": "stream",
     "text": [
      "121\n"
     ]
    },
    {
     "name": "stderr",
     "output_type": "stream",
     "text": [
      "Info: Params [ 0.13554549 -1.7655164   0.8452224   0.27577367  0.8189082   0.87251364] gave 147.08690122161437\n"
     ]
    },
    {
     "name": "stdout",
     "output_type": "stream",
     "text": [
      "122\n"
     ]
    },
    {
     "name": "stderr",
     "output_type": "stream",
     "text": [
      "Info: Params [ 0.0892164  -1.74724377  0.90302087  0.2432105   0.96707907  0.92365094] gave 155.98330948130132\n"
     ]
    },
    {
     "name": "stdout",
     "output_type": "stream",
     "text": [
      "123\n"
     ]
    },
    {
     "name": "stderr",
     "output_type": "stream",
     "text": [
      "Info: Params [ 0.         -0.62122508  1.37999982  0.18121998  0.94505558  0.92935202] gave 263.70902788018805\n"
     ]
    },
    {
     "name": "stdout",
     "output_type": "stream",
     "text": [
      "124\n"
     ]
    },
    {
     "name": "stderr",
     "output_type": "stream",
     "text": [
      "Info: Params [ 1.19007026 -0.71123124  0.59679448  0.24322813  0.73607728  0.65863217] gave 109.66303426090074\n"
     ]
    },
    {
     "name": "stdout",
     "output_type": "stream",
     "text": [
      "125\n"
     ]
    },
    {
     "name": "stderr",
     "output_type": "stream",
     "text": [
      "Info: Params [ 0.19201976 -0.79600951  1.41617701  0.31178632  0.99855681  0.93676665] gave 245.29088275736856\n"
     ]
    },
    {
     "name": "stdout",
     "output_type": "stream",
     "text": [
      "126\n"
     ]
    },
    {
     "name": "stderr",
     "output_type": "stream",
     "text": [
      "Info: Params [ 0.09953076 -0.89388102  1.62230418  0.35570355  0.92996496  0.95929414] gave 248.30275223435507\n"
     ]
    },
    {
     "name": "stdout",
     "output_type": "stream",
     "text": [
      "127\n"
     ]
    },
    {
     "name": "stderr",
     "output_type": "stream",
     "text": [
      "Info: Params [ 0.10337965 -1.1587401   1.12367876  0.45052257  0.75104656  0.73193169] gave 198.54159758077333\n"
     ]
    },
    {
     "name": "stdout",
     "output_type": "stream",
     "text": [
      "128\n"
     ]
    },
    {
     "name": "stderr",
     "output_type": "stream",
     "text": [
      "Info: Params [ 0.08260371 -1.17168361  0.90909727  0.31959787  0.80126715  0.96505316] gave 180.63781577824005\n"
     ]
    },
    {
     "name": "stdout",
     "output_type": "stream",
     "text": [
      "129\n"
     ]
    },
    {
     "name": "stderr",
     "output_type": "stream",
     "text": [
      "Info: Params [ 0.         -1.15412172  1.18869761  0.55206304  0.75023534  0.85211151] gave 189.8948430040412\n"
     ]
    },
    {
     "name": "stdout",
     "output_type": "stream",
     "text": [
      "130\n"
     ]
    },
    {
     "name": "stderr",
     "output_type": "stream",
     "text": [
      "Info: Params [ 0.00467568 -1.14804364  1.16315566  0.48820915  0.6291275   0.72268472] gave 185.58199607779648\n"
     ]
    },
    {
     "name": "stdout",
     "output_type": "stream",
     "text": [
      "131\n"
     ]
    },
    {
     "name": "stderr",
     "output_type": "stream",
     "text": [
      "Info: Params [ 0.0788908  -1.41018665  1.14805343  0.41721796  0.64777836  0.77060134] gave 192.04392542693046\n"
     ]
    },
    {
     "name": "stdout",
     "output_type": "stream",
     "text": [
      "132\n"
     ]
    },
    {
     "name": "stderr",
     "output_type": "stream",
     "text": [
      "Info: Params [ 0.         -1.39204278  1.92751301  0.61048963  0.98033416  0.96348126] gave 217.34780106775196\n"
     ]
    },
    {
     "name": "stdout",
     "output_type": "stream",
     "text": [
      "133\n"
     ]
    },
    {
     "name": "stderr",
     "output_type": "stream",
     "text": [
      "Info: Params [ 0.72951743 -0.86896188  0.89275391  0.08224076  0.97389402  0.94552152] gave 167.81691808424483\n"
     ]
    },
    {
     "name": "stdout",
     "output_type": "stream",
     "text": [
      "134\n"
     ]
    },
    {
     "name": "stderr",
     "output_type": "stream",
     "text": [
      "Info: Params [ 1.32950601 -1.10753759  0.56602489  0.1051958   0.42951916  0.53788754] gave 69.44623437841125\n"
     ]
    },
    {
     "name": "stdout",
     "output_type": "stream",
     "text": [
      "135\n"
     ]
    },
    {
     "name": "stderr",
     "output_type": "stream",
     "text": [
      "Info: Params [ 0.2689238  -1.1786569   0.61443927  0.33052843  0.79366597  0.69870842] gave 88.89801262079057\n"
     ]
    },
    {
     "name": "stdout",
     "output_type": "stream",
     "text": [
      "136\n"
     ]
    },
    {
     "name": "stderr",
     "output_type": "stream",
     "text": [
      "Info: Params [ 0.58648101 -0.98137527  1.19518587  0.07943236  0.60322797  0.84210493] gave 209.54465167378157\n"
     ]
    },
    {
     "name": "stdout",
     "output_type": "stream",
     "text": [
      "137\n"
     ]
    },
    {
     "name": "stderr",
     "output_type": "stream",
     "text": [
      "Info: Params [ 0.49189096 -0.73888406  1.03087905  0.30685784  0.74163271  0.82293738] gave 209.9391866530695\n"
     ]
    },
    {
     "name": "stdout",
     "output_type": "stream",
     "text": [
      "138\n"
     ]
    },
    {
     "name": "stderr",
     "output_type": "stream",
     "text": [
      "Info: Params [ 0.13944253 -1.32623155  1.23384715  0.20163926  0.62384529  0.93159544] gave 216.62264672908296\n"
     ]
    },
    {
     "name": "stdout",
     "output_type": "stream",
     "text": [
      "139\n"
     ]
    },
    {
     "name": "stderr",
     "output_type": "stream",
     "text": [
      "Info: Params [ 0.52676695 -0.8616732   1.12211193  0.17199548  0.77643345  0.86171427] gave 214.02366778608757\n"
     ]
    },
    {
     "name": "stdout",
     "output_type": "stream",
     "text": [
      "140\n"
     ]
    },
    {
     "name": "stderr",
     "output_type": "stream",
     "text": [
      "Info: Params [ 0.24856164 -0.61719464  0.81322757  0.20097726  0.98591923  0.81873716] gave 189.43080447925524\n"
     ]
    },
    {
     "name": "stdout",
     "output_type": "stream",
     "text": [
      "141\n"
     ]
    },
    {
     "name": "stderr",
     "output_type": "stream",
     "text": [
      "Info: Params [ 0.         -1.47393077  0.62129882  0.17296677  0.82851211  0.72958551] gave 108.4428901571577\n"
     ]
    },
    {
     "name": "stdout",
     "output_type": "stream",
     "text": [
      "142\n"
     ]
    },
    {
     "name": "stderr",
     "output_type": "stream",
     "text": [
      "Info: Params [ 0.17780947 -0.70014153  1.29797381  0.06690061  0.83489722  0.98882231] gave 265.0193368442684\n"
     ]
    },
    {
     "name": "stdout",
     "output_type": "stream",
     "text": [
      "143\n"
     ]
    },
    {
     "name": "stderr",
     "output_type": "stream",
     "text": [
      "Info: Params [ 0.60578201 -0.73660518  1.01345859  0.39084987  0.42615928  0.41881646] gave 180.57854534179444\n"
     ]
    },
    {
     "name": "stdout",
     "output_type": "stream",
     "text": [
      "144\n"
     ]
    },
    {
     "name": "stderr",
     "output_type": "stream",
     "text": [
      "Info: Params [ 0.25818136 -0.95641825  1.10647062  0.43683581  0.89514439  0.71218681] gave 198.5120951564317\n"
     ]
    },
    {
     "name": "stdout",
     "output_type": "stream",
     "text": [
      "145\n"
     ]
    },
    {
     "name": "stderr",
     "output_type": "stream",
     "text": [
      "Info: Params [ 0.         -0.94790864  1.15622779  0.57065364  0.67686971  0.76754599] gave 206.63260054126465\n"
     ]
    },
    {
     "name": "stdout",
     "output_type": "stream",
     "text": [
      "146\n"
     ]
    },
    {
     "name": "stderr",
     "output_type": "stream",
     "text": [
      "Info: Params [ 0.         -1.47323353  1.080421    0.32275222  0.75770698  0.96901889] gave 185.60025067941245\n"
     ]
    },
    {
     "name": "stdout",
     "output_type": "stream",
     "text": [
      "147\n"
     ]
    },
    {
     "name": "stderr",
     "output_type": "stream",
     "text": [
      "Info: Params [ 0.1532579  -0.85313728  1.36367138  0.40182116  0.84326831  0.75852873] gave 244.5371659571955\n"
     ]
    },
    {
     "name": "stdout",
     "output_type": "stream",
     "text": [
      "148\n"
     ]
    },
    {
     "name": "stderr",
     "output_type": "stream",
     "text": [
      "Info: Params [ 0.18414738 -1.19076546  1.34711774  0.30849569  0.64164692  0.9380995 ] gave 232.62906407058716\n"
     ]
    },
    {
     "name": "stdout",
     "output_type": "stream",
     "text": [
      "149\n"
     ]
    },
    {
     "name": "stderr",
     "output_type": "stream",
     "text": [
      "Info: Params [ 0.09857488 -0.91892155  1.77977995  0.5822441   0.75880051  0.98746634] gave 228.12403138935647\n"
     ]
    },
    {
     "name": "stdout",
     "output_type": "stream",
     "text": [
      "150\n"
     ]
    },
    {
     "name": "stderr",
     "output_type": "stream",
     "text": [
      "Info: Params [ 0.31637614 -0.81508587  0.92968605  0.29306749  0.70773349  0.66367738] gave 192.03091583543318\n"
     ]
    },
    {
     "name": "stdout",
     "output_type": "stream",
     "text": [
      "151\n"
     ]
    },
    {
     "name": "stderr",
     "output_type": "stream",
     "text": [
      "Info: Params [ 0.         -1.32207526  1.35190258  0.47828092  0.93644043  0.94183753] gave 200.49978372658495\n"
     ]
    },
    {
     "name": "stdout",
     "output_type": "stream",
     "text": [
      "152\n"
     ]
    },
    {
     "name": "stderr",
     "output_type": "stream",
     "text": [
      "Info: Params [ 0.         -1.10921513  0.98412045  0.24838124  0.93881175  0.98491424] gave 193.9037150211691\n"
     ]
    },
    {
     "name": "stdout",
     "output_type": "stream",
     "text": [
      "153\n"
     ]
    },
    {
     "name": "stderr",
     "output_type": "stream",
     "text": [
      "Info: Params [ 0.49523583 -1.07839975  0.83682163 -0.07307697  0.61735024  0.69442503] gave 167.52493593841297\n"
     ]
    },
    {
     "name": "stdout",
     "output_type": "stream",
     "text": [
      "154\n"
     ]
    },
    {
     "name": "stderr",
     "output_type": "stream",
     "text": [
      "Info: Params [ 0.50570125 -1.24163122  0.7842893   0.31895473  0.99023106  0.97048804] gave 124.47216827311618\n"
     ]
    },
    {
     "name": "stdout",
     "output_type": "stream",
     "text": [
      "155\n"
     ]
    },
    {
     "name": "stderr",
     "output_type": "stream",
     "text": [
      "Info: Params [ 0.34490974 -0.94314939  0.82080739  0.02291416  0.77496791  0.80206717] gave 158.35810703074299\n"
     ]
    },
    {
     "name": "stdout",
     "output_type": "stream",
     "text": [
      "156\n"
     ]
    },
    {
     "name": "stderr",
     "output_type": "stream",
     "text": [
      "Info: Params [ 0.43533115 -0.62220902  1.51789862  0.34921565  0.88095484  0.92903884] gave 260.3756455327991\n"
     ]
    },
    {
     "name": "stdout",
     "output_type": "stream",
     "text": [
      "157\n"
     ]
    },
    {
     "name": "stderr",
     "output_type": "stream",
     "text": [
      "Info: Params [ 0.         -1.3057473   1.02799792  0.36073622  0.74501437  0.77612303] gave 185.4182346856324\n"
     ]
    },
    {
     "name": "stdout",
     "output_type": "stream",
     "text": [
      "158\n"
     ]
    },
    {
     "name": "stderr",
     "output_type": "stream",
     "text": [
      "Info: Params [ 0.26838311 -0.7332721   1.22274575  0.26638801  0.95445657  0.90920319] gave 234.81867789156496\n"
     ]
    },
    {
     "name": "stdout",
     "output_type": "stream",
     "text": [
      "159\n"
     ]
    },
    {
     "name": "stderr",
     "output_type": "stream",
     "text": [
      "Info: Params [ 0.43583436 -0.39737733  1.00034109  0.23144304  0.84459128  0.88418182] gave 218.41322077009795\n"
     ]
    },
    {
     "name": "stdout",
     "output_type": "stream",
     "text": [
      "160\n"
     ]
    },
    {
     "name": "stderr",
     "output_type": "stream",
     "text": [
      "Info: Params [ 0.11564853 -0.78748941  1.36258447  0.3115534   0.91805427  0.91746469] gave 251.1160915963739\n"
     ]
    },
    {
     "name": "stdout",
     "output_type": "stream",
     "text": [
      "161\n"
     ]
    },
    {
     "name": "stderr",
     "output_type": "stream",
     "text": [
      "Info: Params [ 0.71594927 -1.79029635  0.61627209  0.22936027  0.75562523  0.95027931] gave 80.65870857409399\n"
     ]
    },
    {
     "name": "stdout",
     "output_type": "stream",
     "text": [
      "162\n"
     ]
    },
    {
     "name": "stderr",
     "output_type": "stream",
     "text": [
      "Info: Params [ 0.53919977 -1.04084     1.02249633  0.4513545   0.97068325  0.98036987] gave 152.06449669825395\n"
     ]
    },
    {
     "name": "stdout",
     "output_type": "stream",
     "text": [
      "163\n"
     ]
    },
    {
     "name": "stderr",
     "output_type": "stream",
     "text": [
      "Info: Params [ 0.48056004 -1.32531501  0.6980206   0.45708035  0.63949813  0.61493186] gave 106.71691559109645\n"
     ]
    },
    {
     "name": "stdout",
     "output_type": "stream",
     "text": [
      "164\n"
     ]
    },
    {
     "name": "stderr",
     "output_type": "stream",
     "text": [
      "Info: Params [ 0.         -0.50022049  1.35772639  0.16823618  0.98266357  0.82972348] gave 275.8698480393391\n"
     ]
    },
    {
     "name": "stdout",
     "output_type": "stream",
     "text": [
      "165\n"
     ]
    },
    {
     "name": "stderr",
     "output_type": "stream",
     "text": [
      "Info: Params [ 0.25608119 -0.55617822  0.89132173  0.07701706  0.66496127  0.68937855] gave 206.5325697884246\n"
     ]
    },
    {
     "name": "stdout",
     "output_type": "stream",
     "text": [
      "166\n"
     ]
    },
    {
     "name": "stderr",
     "output_type": "stream",
     "text": [
      "Info: Params [ 0.         -0.87298962  1.44168932  0.64232364  0.70709804  0.77330173] gave 238.97580918006486\n"
     ]
    },
    {
     "name": "stdout",
     "output_type": "stream",
     "text": [
      "167\n"
     ]
    },
    {
     "name": "stderr",
     "output_type": "stream",
     "text": [
      "Info: Params [ 0.34731898 -0.86832556  1.00084004  0.17233002  0.41879113  0.33731967] gave 203.03851947791028\n"
     ]
    },
    {
     "name": "stdout",
     "output_type": "stream",
     "text": [
      "168\n"
     ]
    },
    {
     "name": "stderr",
     "output_type": "stream",
     "text": [
      "Info: Params [ 5.53054158e-01 -5.55220390e-01  1.18888125e+00  3.81785562e-04\n",
      "  8.93064438e-01  9.82405432e-01] gave 219.8544032658428\n"
     ]
    },
    {
     "name": "stdout",
     "output_type": "stream",
     "text": [
      "169\n"
     ]
    },
    {
     "name": "stderr",
     "output_type": "stream",
     "text": [
      "Info: Params [ 0.16883435 -0.76716166  1.19078977  0.20357708  0.68230204  0.97307516] gave 247.42228212504148\n"
     ]
    },
    {
     "name": "stdout",
     "output_type": "stream",
     "text": [
      "170\n"
     ]
    },
    {
     "name": "stderr",
     "output_type": "stream",
     "text": [
      "Info: Params [ 0.13639133 -1.33889528  0.71702152  0.26479756  0.71377433  0.87553109] gave 163.45677111759807\n"
     ]
    },
    {
     "name": "stdout",
     "output_type": "stream",
     "text": [
      "171\n"
     ]
    },
    {
     "name": "stderr",
     "output_type": "stream",
     "text": [
      "Info: Params [ 0.75444761 -0.90639528  0.82336506 -0.07844478  0.91329273  0.97086624] gave 144.2906461248907\n"
     ]
    },
    {
     "name": "stdout",
     "output_type": "stream",
     "text": [
      "172\n"
     ]
    },
    {
     "name": "stderr",
     "output_type": "stream",
     "text": [
      "Info: Params [ 0.54760138 -1.22862049  0.66312655  0.30366105  0.79280944  0.86207656] gave 91.97374763137597\n"
     ]
    },
    {
     "name": "stdout",
     "output_type": "stream",
     "text": [
      "173\n"
     ]
    },
    {
     "name": "stderr",
     "output_type": "stream",
     "text": [
      "Info: Params [ 0.         -1.08535756  1.20016225  0.4441586   0.86485892  0.75417247] gave 229.33800451183873\n"
     ]
    },
    {
     "name": "stdout",
     "output_type": "stream",
     "text": [
      "174\n"
     ]
    },
    {
     "name": "stderr",
     "output_type": "stream",
     "text": [
      "Info: Params [ 0.         -0.84323989  1.64191498  0.38452282  0.91231362  0.97622121] gave 245.2374840141817\n"
     ]
    },
    {
     "name": "stdout",
     "output_type": "stream",
     "text": [
      "175\n"
     ]
    },
    {
     "name": "stderr",
     "output_type": "stream",
     "text": [
      "Info: Params [ 0.         -1.21331129  1.22230478  0.17467729  0.77466554  0.78872021] gave 232.83381674089918\n"
     ]
    },
    {
     "name": "stdout",
     "output_type": "stream",
     "text": [
      "176\n"
     ]
    },
    {
     "name": "stderr",
     "output_type": "stream",
     "text": [
      "Info: Params [ 0.21268313 -1.07658137  1.11644776  0.31542186  0.67900727  0.66748103] gave 211.25093817926495\n"
     ]
    },
    {
     "name": "stdout",
     "output_type": "stream",
     "text": [
      "177\n"
     ]
    },
    {
     "name": "stderr",
     "output_type": "stream",
     "text": [
      "Info: Params [ 0.43766251 -0.54726546  1.11176738  0.35309838  0.81636243  0.80575249] gave 199.88437955366976\n"
     ]
    },
    {
     "name": "stdout",
     "output_type": "stream",
     "text": [
      "178\n"
     ]
    },
    {
     "name": "stderr",
     "output_type": "stream",
     "text": [
      "Info: Params [ 0.51772597 -0.86925731  1.31192028  0.27949487  0.90019743  0.9234488 ] gave 212.5022900973156\n"
     ]
    },
    {
     "name": "stdout",
     "output_type": "stream",
     "text": [
      "179\n"
     ]
    },
    {
     "name": "stderr",
     "output_type": "stream",
     "text": [
      "Info: Params [ 0.06740311 -1.1701324   1.44591104  0.4548128   0.92852424  0.91556717] gave 229.69349465102687\n"
     ]
    },
    {
     "name": "stdout",
     "output_type": "stream",
     "text": [
      "180\n"
     ]
    },
    {
     "name": "stderr",
     "output_type": "stream",
     "text": [
      "Info: Params [ 0.         -0.3530439   1.30800432  0.12027987  0.9871924   0.97665215] gave 263.47921280497314\n"
     ]
    },
    {
     "name": "stdout",
     "output_type": "stream",
     "text": [
      "181\n"
     ]
    },
    {
     "name": "stderr",
     "output_type": "stream",
     "text": [
      "Info: Params [ 0.         -1.85404409  0.87348325  0.59675017  0.84356403  0.80927075] gave 106.30504914111715\n"
     ]
    },
    {
     "name": "stdout",
     "output_type": "stream",
     "text": [
      "182\n"
     ]
    },
    {
     "name": "stderr",
     "output_type": "stream",
     "text": [
      "Info: Params [ 0.4271546  -0.7942545   1.20602546  0.15139515  0.97799769  0.99539194] gave 212.05326023102435\n"
     ]
    },
    {
     "name": "stdout",
     "output_type": "stream",
     "text": [
      "183\n"
     ]
    },
    {
     "name": "stderr",
     "output_type": "stream",
     "text": [
      "Info: Params [ 1.0035023  -0.59247544  1.06957987  0.2645616   0.65007801  0.72009761] gave 177.74743807962446\n"
     ]
    },
    {
     "name": "stdout",
     "output_type": "stream",
     "text": [
      "184\n"
     ]
    },
    {
     "name": "stderr",
     "output_type": "stream",
     "text": [
      "Info: Params [ 0.43299071 -0.58720418  1.16498159  0.22110908  0.78859087  0.80590176] gave 246.36352202507277\n"
     ]
    },
    {
     "name": "stdout",
     "output_type": "stream",
     "text": [
      "185\n"
     ]
    },
    {
     "name": "stderr",
     "output_type": "stream",
     "text": [
      "Info: Params [ 1.05792125 -0.60939963  0.91224141 -0.01522173  0.94865004  0.97820933] gave 146.44807807083384\n"
     ]
    },
    {
     "name": "stdout",
     "output_type": "stream",
     "text": [
      "186\n"
     ]
    },
    {
     "name": "stderr",
     "output_type": "stream",
     "text": [
      "Info: Params [ 0.         -1.69063747  0.91025442  0.30128795  0.9475976   0.92242331] gave 148.3901947703328\n"
     ]
    },
    {
     "name": "stdout",
     "output_type": "stream",
     "text": [
      "187\n"
     ]
    },
    {
     "name": "stderr",
     "output_type": "stream",
     "text": [
      "Info: Params [ 0.58596885 -1.00274654  0.91159857  0.14787463  0.63039944  0.7551411 ] gave 185.68699993122823\n"
     ]
    },
    {
     "name": "stdout",
     "output_type": "stream",
     "text": [
      "188\n"
     ]
    },
    {
     "name": "stderr",
     "output_type": "stream",
     "text": [
      "Info: Params [ 0.01379496 -1.18081442  1.07166774  0.3729788   0.92234628  0.91311368] gave 210.34812405979898\n"
     ]
    },
    {
     "name": "stdout",
     "output_type": "stream",
     "text": [
      "189\n"
     ]
    },
    {
     "name": "stderr",
     "output_type": "stream",
     "text": [
      "Info: Params [ 0.53970561 -0.25509335  1.59281542  0.07485789  0.90077451  0.93662036] gave 270.263732129927\n"
     ]
    },
    {
     "name": "stdout",
     "output_type": "stream",
     "text": [
      "190\n"
     ]
    },
    {
     "name": "stderr",
     "output_type": "stream",
     "text": [
      "Info: Params [ 0.         -1.54186115  1.26998626  0.33177018  0.89907326  0.93403865] gave 201.68484590141702\n"
     ]
    },
    {
     "name": "stdout",
     "output_type": "stream",
     "text": [
      "191\n"
     ]
    },
    {
     "name": "stderr",
     "output_type": "stream",
     "text": [
      "Info: Params [ 0.         -1.36735688  1.20232743  0.53824529  0.81954828  0.79976607] gave 201.26258599876658\n"
     ]
    },
    {
     "name": "stdout",
     "output_type": "stream",
     "text": [
      "192\n"
     ]
    },
    {
     "name": "stderr",
     "output_type": "stream",
     "text": [
      "Info: Params [ 0.09534836 -1.05470687  0.98188272  0.09120013  0.4700523   0.70188785] gave 205.6269619017172\n"
     ]
    },
    {
     "name": "stdout",
     "output_type": "stream",
     "text": [
      "193\n"
     ]
    },
    {
     "name": "stderr",
     "output_type": "stream",
     "text": [
      "Info: Params [ 0.30514007 -1.08808758  1.0210368   0.3602541   0.77916551  0.81258722] gave 198.01190221768974\n"
     ]
    },
    {
     "name": "stdout",
     "output_type": "stream",
     "text": [
      "194\n"
     ]
    },
    {
     "name": "stderr",
     "output_type": "stream",
     "text": [
      "Info: Params [ 0.24743002 -1.43900274  0.93845369  0.26727808  0.94909369  0.97321253] gave 158.70536164594097\n"
     ]
    },
    {
     "name": "stdout",
     "output_type": "stream",
     "text": [
      "195\n"
     ]
    },
    {
     "name": "stderr",
     "output_type": "stream",
     "text": [
      "Info: Params [ 0.         -1.03714754  1.21107081  0.45918388  0.84045656  0.9883317 ] gave 222.9991739334539\n"
     ]
    },
    {
     "name": "stdout",
     "output_type": "stream",
     "text": [
      "196\n"
     ]
    },
    {
     "name": "stderr",
     "output_type": "stream",
     "text": [
      "Info: Params [ 0.         -1.62592652  1.2276635   0.24941245  0.93937132  0.98440808] gave 196.01524419123365\n"
     ]
    },
    {
     "name": "stdout",
     "output_type": "stream",
     "text": [
      "197\n"
     ]
    },
    {
     "name": "stderr",
     "output_type": "stream",
     "text": [
      "Info: Params [ 0.73610379 -0.69883828  0.9631641   0.04360074  0.77142793  0.87861956] gave 192.61639612706676\n"
     ]
    },
    {
     "name": "stdout",
     "output_type": "stream",
     "text": [
      "198\n"
     ]
    },
    {
     "name": "stderr",
     "output_type": "stream",
     "text": [
      "Info: Params [ 0.40068145 -0.58327151  1.28694702  0.49755149  0.75722033  0.96297414] gave 225.15985469878245\n"
     ]
    },
    {
     "name": "stdout",
     "output_type": "stream",
     "text": [
      "199\n"
     ]
    },
    {
     "name": "stderr",
     "output_type": "stream",
     "text": [
      "Info: Params [ 0.         -0.76428013  1.15963953  0.34213926  0.8544733   0.78059607] gave 231.5191421546144\n"
     ]
    },
    {
     "name": "stdout",
     "output_type": "stream",
     "text": [
      "200\n"
     ]
    },
    {
     "name": "stderr",
     "output_type": "stream",
     "text": [
      "Info: Params [ 0.41686932 -1.00478571  1.0468      0.28763207  0.87770345  0.96776354] gave 183.81100550664362\n"
     ]
    },
    {
     "name": "stdout",
     "output_type": "stream",
     "text": [
      "201\n"
     ]
    },
    {
     "name": "stderr",
     "output_type": "stream",
     "text": [
      "Info: Params [ 0.52053859 -0.61553681  1.54435251  0.04284652  0.95987267  0.92272091] gave 247.19388369264712\n"
     ]
    },
    {
     "name": "stdout",
     "output_type": "stream",
     "text": [
      "202\n"
     ]
    },
    {
     "name": "stderr",
     "output_type": "stream",
     "text": [
      "Info: Params [ 0.35403234 -2.74248484  0.82499223  0.43510839  0.69583282  0.73392057] gave 103.75083863004464\n"
     ]
    },
    {
     "name": "stdout",
     "output_type": "stream",
     "text": [
      "203\n"
     ]
    },
    {
     "name": "stderr",
     "output_type": "stream",
     "text": [
      "Info: Params [ 0.27626133 -0.66527487  1.40611879  0.35239289  0.99576212  0.93308842] gave 205.24870704667876\n"
     ]
    },
    {
     "name": "stdout",
     "output_type": "stream",
     "text": [
      "204\n"
     ]
    },
    {
     "name": "stderr",
     "output_type": "stream",
     "text": [
      "Info: Params [ 0.27159042 -0.56386858  1.57102709  0.36799325  0.93161306  0.91937625] gave 267.30678613370986\n"
     ]
    },
    {
     "name": "stdout",
     "output_type": "stream",
     "text": [
      "205\n"
     ]
    },
    {
     "name": "stderr",
     "output_type": "stream",
     "text": [
      "Info: Params [ 0.87661538 -0.82854607  1.40382305  0.17304922  0.93789729  0.94892482] gave 206.96977623024645\n"
     ]
    },
    {
     "name": "stdout",
     "output_type": "stream",
     "text": [
      "206\n"
     ]
    },
    {
     "name": "stderr",
     "output_type": "stream",
     "text": [
      "Info: Params [ 0.36106939 -0.97255244  1.29233036  0.16178703  0.71017322  0.78456443] gave 231.7916846275345\n"
     ]
    },
    {
     "name": "stdout",
     "output_type": "stream",
     "text": [
      "207\n"
     ]
    },
    {
     "name": "stderr",
     "output_type": "stream",
     "text": [
      "Info: Params [ 0.25891649 -1.15822172  0.84931199  0.28941827  0.83248605  0.97330036] gave 167.8261907206169\n"
     ]
    },
    {
     "name": "stdout",
     "output_type": "stream",
     "text": [
      "208\n"
     ]
    },
    {
     "name": "stderr",
     "output_type": "stream",
     "text": [
      "Info: Params [ 0.25799629 -0.97230234  1.13459742  0.35659903  0.89238187  0.92527676] gave 215.5153898451283\n"
     ]
    },
    {
     "name": "stdout",
     "output_type": "stream",
     "text": [
      "209\n"
     ]
    },
    {
     "name": "stderr",
     "output_type": "stream",
     "text": [
      "Info: Params [ 0.28343175 -0.98151291  1.22961508  0.29310852  0.93402941  0.94508922] gave 207.69549033776272\n"
     ]
    },
    {
     "name": "stdout",
     "output_type": "stream",
     "text": [
      "210\n"
     ]
    },
    {
     "name": "stderr",
     "output_type": "stream",
     "text": [
      "Info: Params [ 0.69611711 -0.16425674  0.79915556  0.06419859  0.78951556  0.82247948] gave 164.14637705907455\n"
     ]
    },
    {
     "name": "stdout",
     "output_type": "stream",
     "text": [
      "211\n"
     ]
    },
    {
     "name": "stderr",
     "output_type": "stream",
     "text": [
      "Info: Params [ 0.02809011 -1.2532611   1.08120374  0.48784837  0.74960674  0.72987825] gave 193.86899657438678\n"
     ]
    },
    {
     "name": "stdout",
     "output_type": "stream",
     "text": [
      "212\n"
     ]
    },
    {
     "name": "stderr",
     "output_type": "stream",
     "text": [
      "Info: Params [ 0.3653211  -0.67012898  1.16331892  0.1158037   0.71800384  0.72857368] gave 225.73198769212\n"
     ]
    },
    {
     "name": "stdout",
     "output_type": "stream",
     "text": [
      "213\n"
     ]
    },
    {
     "name": "stderr",
     "output_type": "stream",
     "text": [
      "Info: Params [ 0.         -0.51103515  1.34402214  0.19311039  0.94687974  0.91098134] gave 270.36117263705773\n"
     ]
    },
    {
     "name": "stdout",
     "output_type": "stream",
     "text": [
      "214\n"
     ]
    },
    {
     "name": "stderr",
     "output_type": "stream",
     "text": [
      "Info: Params [ 0.4890069  -0.5368648   1.35610919 -0.03772987  0.98140985  0.98912358] gave 240.16090293955176\n"
     ]
    },
    {
     "name": "stdout",
     "output_type": "stream",
     "text": [
      "215\n"
     ]
    },
    {
     "name": "stderr",
     "output_type": "stream",
     "text": [
      "Info: Params [ 0.         -0.99116021  0.8961746   0.14537062  0.85074909  0.98175888] gave 182.5983308932502\n"
     ]
    },
    {
     "name": "stdout",
     "output_type": "stream",
     "text": [
      "216\n"
     ]
    },
    {
     "name": "stderr",
     "output_type": "stream",
     "text": [
      "Info: Params [ 0.0128812  -0.96357698  1.47601132  0.45970101  0.71289621  0.68805005] gave 234.46783262676007\n"
     ]
    },
    {
     "name": "stdout",
     "output_type": "stream",
     "text": [
      "217\n"
     ]
    },
    {
     "name": "stderr",
     "output_type": "stream",
     "text": [
      "Info: Params [ 0.69624398 -0.55721045  1.24905092 -0.16813644  0.92745596  0.95586594] gave 235.09972074291562\n"
     ]
    },
    {
     "name": "stdout",
     "output_type": "stream",
     "text": [
      "218\n"
     ]
    },
    {
     "name": "stderr",
     "output_type": "stream",
     "text": [
      "Info: Params [ 0.62003293 -0.4807166   1.30117039  0.13855678  0.92453327  0.9635488 ] gave 233.52433712231272\n"
     ]
    },
    {
     "name": "stdout",
     "output_type": "stream",
     "text": [
      "219\n"
     ]
    },
    {
     "name": "stderr",
     "output_type": "stream",
     "text": [
      "Info: Params [ 0.02882564 -1.06946272  1.19451753  0.55654895  0.74565301  0.71561621] gave 194.0918755858172\n"
     ]
    },
    {
     "name": "stdout",
     "output_type": "stream",
     "text": [
      "220\n"
     ]
    },
    {
     "name": "stderr",
     "output_type": "stream",
     "text": [
      "Info: Params [ 0.01730855 -1.31592501  1.40782983  0.30407383  0.96024227  0.96221798] gave 218.9262314732024\n"
     ]
    },
    {
     "name": "stdout",
     "output_type": "stream",
     "text": [
      "221\n"
     ]
    },
    {
     "name": "stderr",
     "output_type": "stream",
     "text": [
      "Info: Params [ 0.21916994 -0.95771766  0.83629978  0.4742139   0.74563893  0.75272443] gave 138.90331786892233\n"
     ]
    },
    {
     "name": "stdout",
     "output_type": "stream",
     "text": [
      "222\n"
     ]
    },
    {
     "name": "stderr",
     "output_type": "stream",
     "text": [
      "Info: Params [ 0.         -1.36800935  1.1761608   0.59628056  0.76556972  0.54225051] gave 179.67825466344658\n"
     ]
    },
    {
     "name": "stdout",
     "output_type": "stream",
     "text": [
      "223\n"
     ]
    },
    {
     "name": "stderr",
     "output_type": "stream",
     "text": [
      "Info: Params [ 0.01803907 -1.05320024  1.17180584  0.36538157  0.61787867  0.86206526] gave 218.70644951148472\n"
     ]
    },
    {
     "name": "stdout",
     "output_type": "stream",
     "text": [
      "224\n"
     ]
    },
    {
     "name": "stderr",
     "output_type": "stream",
     "text": [
      "Info: Params [ 1.03603853 -0.77021776  0.79566705  0.25051924  0.93800271  0.94741007] gave 121.46152850383757\n"
     ]
    },
    {
     "name": "stdout",
     "output_type": "stream",
     "text": [
      "225\n"
     ]
    },
    {
     "name": "stderr",
     "output_type": "stream",
     "text": [
      "Info: Params [ 0.10215061 -1.73882087  0.93211263  0.45123897  0.75241196  0.75952167] gave 134.6365897358894\n"
     ]
    },
    {
     "name": "stdout",
     "output_type": "stream",
     "text": [
      "226\n"
     ]
    },
    {
     "name": "stderr",
     "output_type": "stream",
     "text": [
      "Info: Params [ 0.         -2.14235063  0.86067736  0.51373697  0.81754007  0.82591515] gave 110.18023540613554\n"
     ]
    },
    {
     "name": "stdout",
     "output_type": "stream",
     "text": [
      "227\n"
     ]
    },
    {
     "name": "stderr",
     "output_type": "stream",
     "text": [
      "Info: Params [ 0.42787141 -1.1775772   0.96424725  0.19131059  0.75709711  0.83378868] gave 179.47434024761958\n"
     ]
    },
    {
     "name": "stdout",
     "output_type": "stream",
     "text": [
      "228\n"
     ]
    },
    {
     "name": "stderr",
     "output_type": "stream",
     "text": [
      "Info: Params [ 0.50221586 -1.4145148   0.76032549 -0.03214548  0.87684541  0.93545463] gave 127.24654056521892\n"
     ]
    },
    {
     "name": "stdout",
     "output_type": "stream",
     "text": [
      "229\n"
     ]
    },
    {
     "name": "stderr",
     "output_type": "stream",
     "text": [
      "Info: Params [ 0.0087994  -0.7322016   1.40896445  0.56344927  0.8648306   0.9714913 ] gave 239.87883942414155\n"
     ]
    },
    {
     "name": "stdout",
     "output_type": "stream",
     "text": [
      "230\n"
     ]
    },
    {
     "name": "stderr",
     "output_type": "stream",
     "text": [
      "Info: Params [ 0.04117731 -0.90223181  1.31831888  0.47606141  0.95254621  0.98424759] gave 236.04286760386674\n"
     ]
    },
    {
     "name": "stdout",
     "output_type": "stream",
     "text": [
      "231\n"
     ]
    },
    {
     "name": "stderr",
     "output_type": "stream",
     "text": [
      "Info: Params [ 0.25655803 -0.84434923  1.43311603  0.36724078  0.95385357  0.93098863] gave 253.26081811750987\n"
     ]
    },
    {
     "name": "stdout",
     "output_type": "stream",
     "text": [
      "232\n"
     ]
    },
    {
     "name": "stderr",
     "output_type": "stream",
     "text": [
      "Info: Params [ 0.24021438 -1.18502708  1.05134496  0.22571539  0.87976979  0.93155593] gave 192.82921552991988\n"
     ]
    },
    {
     "name": "stdout",
     "output_type": "stream",
     "text": [
      "233\n"
     ]
    },
    {
     "name": "stderr",
     "output_type": "stream",
     "text": [
      "Info: Params [ 0.76636349 -0.3626095   1.03127304 -0.05940434  0.70861574  0.96756006] gave 216.1944083230419\n"
     ]
    },
    {
     "name": "stdout",
     "output_type": "stream",
     "text": [
      "234\n"
     ]
    },
    {
     "name": "stderr",
     "output_type": "stream",
     "text": [
      "Info: Params [ 0.26198415 -0.57848504  1.72914998  0.22093811  0.94537157  0.95800729] gave 262.46072512765204\n"
     ]
    },
    {
     "name": "stdout",
     "output_type": "stream",
     "text": [
      "235\n"
     ]
    },
    {
     "name": "stderr",
     "output_type": "stream",
     "text": [
      "Info: Params [ 0.52710417 -0.71459178  1.62210962  0.08886363  0.98890311  0.95489264] gave 248.79012842233368\n"
     ]
    },
    {
     "name": "stdout",
     "output_type": "stream",
     "text": [
      "236\n"
     ]
    },
    {
     "name": "stderr",
     "output_type": "stream",
     "text": [
      "Info: Params [ 0.         -2.24746704  1.00257986  0.33238286  0.65501797  0.82363591] gave 154.35923410175053\n"
     ]
    },
    {
     "name": "stdout",
     "output_type": "stream",
     "text": [
      "237\n"
     ]
    },
    {
     "name": "stderr",
     "output_type": "stream",
     "text": [
      "Info: Params [ 1.27221124 -0.27796737  0.76408566 -0.2137005   0.65089983  0.75663811] gave 135.29270333640795\n"
     ]
    },
    {
     "name": "stdout",
     "output_type": "stream",
     "text": [
      "238\n"
     ]
    },
    {
     "name": "stderr",
     "output_type": "stream",
     "text": [
      "Info: Params [ 0.34788778 -0.60065258  0.99457144  0.04726642  0.77018847  0.93608135] gave 211.87065318706505\n"
     ]
    },
    {
     "name": "stdout",
     "output_type": "stream",
     "text": [
      "239\n"
     ]
    },
    {
     "name": "stderr",
     "output_type": "stream",
     "text": [
      "Info: Params [ 0.65585773 -0.3746493   0.96104408  0.03264844  0.79891648  0.86905614] gave 202.34622590672916\n"
     ]
    },
    {
     "name": "stdout",
     "output_type": "stream",
     "text": [
      "240\n"
     ]
    },
    {
     "name": "stderr",
     "output_type": "stream",
     "text": [
      "Info: Params [ 0.28902385 -1.35171303  1.03056188  0.27594677  0.90790691  0.9425636 ] gave 187.50263412059263\n"
     ]
    },
    {
     "name": "stdout",
     "output_type": "stream",
     "text": [
      "241\n"
     ]
    },
    {
     "name": "stderr",
     "output_type": "stream",
     "text": [
      "Info: Params [ 0.         -0.87624098  1.66386001  0.57820313  0.95152693  0.93166456] gave 215.39812526284604\n"
     ]
    },
    {
     "name": "stdout",
     "output_type": "stream",
     "text": [
      "242\n"
     ]
    },
    {
     "name": "stderr",
     "output_type": "stream",
     "text": [
      "Info: Params [ 0.         -1.3253418   1.3498995   0.27455879  0.90049632  0.99605177] gave 206.66623877051586\n"
     ]
    },
    {
     "name": "stdout",
     "output_type": "stream",
     "text": [
      "243\n"
     ]
    },
    {
     "name": "stderr",
     "output_type": "stream",
     "text": [
      "Info: Params [ 0.40674788 -0.99596012  0.88474273  0.38610904  0.53563251  0.5252115 ] gave 172.09582384893105\n"
     ]
    },
    {
     "name": "stdout",
     "output_type": "stream",
     "text": [
      "244\n"
     ]
    },
    {
     "name": "stderr",
     "output_type": "stream",
     "text": [
      "Info: Params [ 0.406433   -0.61084569  0.93764788  0.17147635  0.89111183  0.86492092] gave 209.00648083283346\n"
     ]
    },
    {
     "name": "stdout",
     "output_type": "stream",
     "text": [
      "245\n"
     ]
    },
    {
     "name": "stderr",
     "output_type": "stream",
     "text": [
      "Info: Params [ 0.35977126 -0.80238118  0.78194884  0.22478157  0.84871064  0.88785526] gave 171.45051350052614\n"
     ]
    },
    {
     "name": "stdout",
     "output_type": "stream",
     "text": [
      "246\n"
     ]
    },
    {
     "name": "stderr",
     "output_type": "stream",
     "text": [
      "Info: Params [ 0.27555121 -0.8067118   1.37561728  0.27865773  0.3257897   0.16486501] gave 217.1648791510563\n"
     ]
    },
    {
     "name": "stdout",
     "output_type": "stream",
     "text": [
      "247\n"
     ]
    },
    {
     "name": "stderr",
     "output_type": "stream",
     "text": [
      "Info: Params [ 0.45220381 -1.18902893  0.74512314  0.38830134  0.85408806  0.89040674] gave 119.54304282879936\n"
     ]
    },
    {
     "name": "stdout",
     "output_type": "stream",
     "text": [
      "248\n"
     ]
    },
    {
     "name": "stderr",
     "output_type": "stream",
     "text": [
      "Info: Params [ 1.65616697 -0.4910699   0.87480014 -0.28608561  0.49628861  0.58542199] gave 135.73029052294237\n"
     ]
    },
    {
     "name": "stdout",
     "output_type": "stream",
     "text": [
      "249\n"
     ]
    },
    {
     "name": "stderr",
     "output_type": "stream",
     "text": [
      "Info: Params [ 1.20883183 -0.42455545  0.95276819  0.1923082   0.64257727  0.64753308] gave 168.13070335454103\n"
     ]
    },
    {
     "name": "stdout",
     "output_type": "stream",
     "text": [
      "250\n"
     ]
    },
    {
     "name": "stderr",
     "output_type": "stream",
     "text": [
      "Info: Params [ 0.1433992  -0.76763275  1.45663296  0.47180452  0.87095226  0.9250485 ] gave 239.27484219343557\n"
     ]
    },
    {
     "name": "stdout",
     "output_type": "stream",
     "text": [
      "251\n"
     ]
    },
    {
     "name": "stderr",
     "output_type": "stream",
     "text": [
      "Info: Params [ 0.78212364 -0.45309655  1.12058374  0.01658824  0.87691039  0.95855237] gave 218.2232056494911\n"
     ]
    },
    {
     "name": "stdout",
     "output_type": "stream",
     "text": [
      "252\n"
     ]
    },
    {
     "name": "stderr",
     "output_type": "stream",
     "text": [
      "Info: Params [ 0.00736361 -1.10827165  1.36450928  0.28701328  0.9575197   0.93856481] gave 236.075434154873\n"
     ]
    },
    {
     "name": "stdout",
     "output_type": "stream",
     "text": [
      "253\n"
     ]
    },
    {
     "name": "stderr",
     "output_type": "stream",
     "text": [
      "Info: Params [ 0.22914571 -0.57189169  1.61274829  0.34985672  0.9792991   0.93751179] gave 265.2832277828702\n"
     ]
    },
    {
     "name": "stdout",
     "output_type": "stream",
     "text": [
      "254\n"
     ]
    },
    {
     "name": "stderr",
     "output_type": "stream",
     "text": [
      "Info: Params [ 0.         -1.25314312  1.35484888  0.66497663  0.77143191  0.72881539] gave 181.27931551789305\n"
     ]
    },
    {
     "name": "stdout",
     "output_type": "stream",
     "text": [
      "255\n"
     ]
    },
    {
     "name": "stderr",
     "output_type": "stream",
     "text": [
      "Info: Params [ 0.50119726 -0.80571954  1.44033152  0.10484857  0.73417895  0.86960915] gave 248.34429872625168\n"
     ]
    },
    {
     "name": "stdout",
     "output_type": "stream",
     "text": [
      "256\n"
     ]
    },
    {
     "name": "stderr",
     "output_type": "stream",
     "text": [
      "Info: Params [ 0.13343902 -1.53538521  0.76031991  0.36765589  0.74331766  0.80707528] gave 135.79695136024685\n"
     ]
    },
    {
     "name": "stdout",
     "output_type": "stream",
     "text": [
      "257\n"
     ]
    },
    {
     "name": "stderr",
     "output_type": "stream",
     "text": [
      "Info: Params [ 0.4079332  -0.95387921  1.52402223  0.039096    0.52191361  0.978068  ] gave 219.20934346551792\n"
     ]
    },
    {
     "name": "stdout",
     "output_type": "stream",
     "text": [
      "258\n"
     ]
    },
    {
     "name": "stderr",
     "output_type": "stream",
     "text": [
      "Info: Params [ 0.28083244 -1.80796057  0.79172641  0.3074127   0.83339389  0.83717939] gave 136.56968826332485\n"
     ]
    },
    {
     "name": "stdout",
     "output_type": "stream",
     "text": [
      "259\n"
     ]
    },
    {
     "name": "stderr",
     "output_type": "stream",
     "text": [
      "Info: Params [ 0.06142597 -1.02027034  1.45122314  0.07596442  0.94339552  0.93587418] gave 226.98920190100208\n"
     ]
    },
    {
     "name": "stdout",
     "output_type": "stream",
     "text": [
      "260\n"
     ]
    },
    {
     "name": "stderr",
     "output_type": "stream",
     "text": [
      "Info: Params [ 0.46062739 -0.76346366  1.07917756  0.09622439  0.95247897  0.95941623] gave 207.50451477394063\n"
     ]
    },
    {
     "name": "stdout",
     "output_type": "stream",
     "text": [
      "261\n"
     ]
    },
    {
     "name": "stderr",
     "output_type": "stream",
     "text": [
      "Info: Params [ 0.52461736 -0.23894486  1.28304758 -0.02020918  0.9152013   0.93710177] gave 220.77980824421215\n"
     ]
    },
    {
     "name": "stdout",
     "output_type": "stream",
     "text": [
      "262\n"
     ]
    },
    {
     "name": "stderr",
     "output_type": "stream",
     "text": [
      "Info: Params [ 0.63805919 -0.76680866  1.49790084  0.29328226  0.95649203  0.9435549 ] gave 217.38066399715098\n"
     ]
    },
    {
     "name": "stdout",
     "output_type": "stream",
     "text": [
      "263\n"
     ]
    },
    {
     "name": "stderr",
     "output_type": "stream",
     "text": [
      "Info: Params [ 0.22951237 -0.87488454  1.27808837 -0.01275865  0.99903016  0.95208978] gave 226.05433426254888\n"
     ]
    },
    {
     "name": "stdout",
     "output_type": "stream",
     "text": [
      "264\n"
     ]
    },
    {
     "name": "stderr",
     "output_type": "stream",
     "text": [
      "Info: Params [ 0.20346648 -1.06316241  1.1726301   0.10398301  0.834821    0.90049217] gave 226.2192400101597\n"
     ]
    },
    {
     "name": "stdout",
     "output_type": "stream",
     "text": [
      "265\n"
     ]
    },
    {
     "name": "stderr",
     "output_type": "stream",
     "text": [
      "Info: Params [ 0.121603   -1.14705173  0.76510673  0.1476661   0.97358223  0.90266673] gave 153.7108167181069\n"
     ]
    },
    {
     "name": "stdout",
     "output_type": "stream",
     "text": [
      "266\n"
     ]
    },
    {
     "name": "stderr",
     "output_type": "stream",
     "text": [
      "Info: Params [ 0.39975103 -1.44781041  1.17331022  0.03677047  0.90262725  0.9320081 ] gave 171.19058708615768\n"
     ]
    },
    {
     "name": "stdout",
     "output_type": "stream",
     "text": [
      "267\n"
     ]
    },
    {
     "name": "stderr",
     "output_type": "stream",
     "text": [
      "Info: Params [ 0.21077606 -0.69592223  1.38018003  0.17668914  0.75826126  0.94223079] gave 273.138289848462\n"
     ]
    },
    {
     "name": "stdout",
     "output_type": "stream",
     "text": [
      "268\n"
     ]
    },
    {
     "name": "stderr",
     "output_type": "stream",
     "text": [
      "Info: Params [ 0.19281951 -1.1097191   1.22065234  0.45353668  0.90868487  0.92053136] gave 206.40133396620809\n"
     ]
    },
    {
     "name": "stdout",
     "output_type": "stream",
     "text": [
      "269\n"
     ]
    },
    {
     "name": "stderr",
     "output_type": "stream",
     "text": [
      "Info: Params [ 0.25362404 -0.63460831  1.58487651  0.37584748  0.92165017  0.81385208] gave 243.26690645700316\n"
     ]
    },
    {
     "name": "stdout",
     "output_type": "stream",
     "text": [
      "270\n"
     ]
    },
    {
     "name": "stderr",
     "output_type": "stream",
     "text": [
      "Info: Params [ 0.07707805 -1.04356387  1.08628956  0.27427997  0.80360117  0.97123766] gave 211.29332523557034\n"
     ]
    },
    {
     "name": "stdout",
     "output_type": "stream",
     "text": [
      "271\n"
     ]
    },
    {
     "name": "stderr",
     "output_type": "stream",
     "text": [
      "Info: Params [ 0.85232572 -0.70344107  0.75356201  0.15208823  0.80953398  0.99426223] gave 123.84789610669743\n"
     ]
    },
    {
     "name": "stdout",
     "output_type": "stream",
     "text": [
      "272\n"
     ]
    },
    {
     "name": "stderr",
     "output_type": "stream",
     "text": [
      "Info: Params [ 0.17457804 -0.62173581  1.13599252  0.1496982   0.62410541  0.65817918] gave 248.59714577818949\n"
     ]
    },
    {
     "name": "stdout",
     "output_type": "stream",
     "text": [
      "273\n"
     ]
    },
    {
     "name": "stderr",
     "output_type": "stream",
     "text": [
      "Info: Params [ 0.0084201  -0.86970853  1.06133233  0.44637666  0.65170577  0.6252379 ] gave 198.79846659724421\n"
     ]
    },
    {
     "name": "stdout",
     "output_type": "stream",
     "text": [
      "274\n"
     ]
    },
    {
     "name": "stderr",
     "output_type": "stream",
     "text": [
      "Info: Params [ 0.         -1.00988212  1.3197635   0.38648662  0.61500171  0.97454175] gave 254.7592643871509\n"
     ]
    },
    {
     "name": "stdout",
     "output_type": "stream",
     "text": [
      "275\n"
     ]
    },
    {
     "name": "stderr",
     "output_type": "stream",
     "text": [
      "Info: Params [ 0.         -1.01932998  1.58165541  0.44223053  0.949114    0.97961707] gave 245.21605928241422\n"
     ]
    },
    {
     "name": "stdout",
     "output_type": "stream",
     "text": [
      "276\n"
     ]
    },
    {
     "name": "stderr",
     "output_type": "stream",
     "text": [
      "Info: Params [ 0.         -1.34075875  1.2013601   0.30831714  0.79032214  0.82381743] gave 218.7208315171257\n"
     ]
    },
    {
     "name": "stdout",
     "output_type": "stream",
     "text": [
      "277\n"
     ]
    },
    {
     "name": "stderr",
     "output_type": "stream",
     "text": [
      "Info: Params [ 0.08118043 -0.93826462  1.01027326  0.26385238  0.91796371  0.95047846] gave 190.4116834861564\n"
     ]
    },
    {
     "name": "stdout",
     "output_type": "stream",
     "text": [
      "278\n"
     ]
    },
    {
     "name": "stderr",
     "output_type": "stream",
     "text": [
      "Info: Params [ 0.77565422 -0.33381596  0.85052409 -0.06886452  0.68284714  0.61986384] gave 184.61162212759808\n"
     ]
    },
    {
     "name": "stdout",
     "output_type": "stream",
     "text": [
      "279\n"
     ]
    },
    {
     "name": "stderr",
     "output_type": "stream",
     "text": [
      "Info: Params [ 1.25882016 -0.23074511  1.52474882  0.02443598  0.97129646  0.94349122] gave 195.19071055348542\n"
     ]
    },
    {
     "name": "stdout",
     "output_type": "stream",
     "text": [
      "280\n"
     ]
    },
    {
     "name": "stderr",
     "output_type": "stream",
     "text": [
      "Info: Params [ 0.50284891 -0.65334765  1.43386779  0.13954795  0.89482447  0.97300168] gave 212.2095765505849\n"
     ]
    },
    {
     "name": "stdout",
     "output_type": "stream",
     "text": [
      "281\n"
     ]
    },
    {
     "name": "stderr",
     "output_type": "stream",
     "text": [
      "Info: Params [ 1.33908149 -0.24357608  0.90837381  0.07671534  0.61712954  0.70619969] gave 149.65392401936992\n"
     ]
    },
    {
     "name": "stdout",
     "output_type": "stream",
     "text": [
      "282\n"
     ]
    },
    {
     "name": "stderr",
     "output_type": "stream",
     "text": [
      "Info: Params [ 0.         -1.20076503  1.53144597  0.42825008  0.65229184  0.71997142] gave 246.98880891788866\n"
     ]
    },
    {
     "name": "stdout",
     "output_type": "stream",
     "text": [
      "283\n"
     ]
    },
    {
     "name": "stderr",
     "output_type": "stream",
     "text": [
      "Info: Params [ 0.21735207 -0.90004532  1.04629254  0.08564172  0.76059309  0.97294618] gave 217.88977627989925\n"
     ]
    },
    {
     "name": "stdout",
     "output_type": "stream",
     "text": [
      "284\n"
     ]
    },
    {
     "name": "stderr",
     "output_type": "stream",
     "text": [
      "Info: Params [ 0.34282138 -0.85379475  1.0753844   0.23997543  0.9627273   0.94132704] gave 200.41476305595523\n"
     ]
    },
    {
     "name": "stdout",
     "output_type": "stream",
     "text": [
      "285\n"
     ]
    },
    {
     "name": "stderr",
     "output_type": "stream",
     "text": [
      "Info: Params [ 0.55063781 -0.79418641  1.22966894  0.1128417   0.93081373  0.97751474] gave 214.2307062252936\n"
     ]
    },
    {
     "name": "stdout",
     "output_type": "stream",
     "text": [
      "286\n"
     ]
    },
    {
     "name": "stderr",
     "output_type": "stream",
     "text": [
      "Info: Params [ 0.         -1.34850401  1.2308514   0.42847695  0.98891579  0.87315935] gave 200.6662786902653\n"
     ]
    },
    {
     "name": "stdout",
     "output_type": "stream",
     "text": [
      "287\n"
     ]
    },
    {
     "name": "stderr",
     "output_type": "stream",
     "text": [
      "Info: Params [ 0.         -1.11961851  1.12580274 -0.18182757  0.80271443  0.88148054] gave 173.50718863145835\n"
     ]
    },
    {
     "name": "stdout",
     "output_type": "stream",
     "text": [
      "288\n"
     ]
    },
    {
     "name": "stderr",
     "output_type": "stream",
     "text": [
      "Info: Params [ 0.77325007 -0.34236069  0.88941389  0.27466058  0.93788528  0.86042399] gave 162.63051991868338\n"
     ]
    },
    {
     "name": "stdout",
     "output_type": "stream",
     "text": [
      "289\n"
     ]
    },
    {
     "name": "stderr",
     "output_type": "stream",
     "text": [
      "Info: Params [ 1.10897445 -0.47581618  0.95571448  0.08149945  0.72398852  0.76453376] gave 183.773015541735\n"
     ]
    },
    {
     "name": "stdout",
     "output_type": "stream",
     "text": [
      "290\n"
     ]
    },
    {
     "name": "stderr",
     "output_type": "stream",
     "text": [
      "Info: Params [ 0.54061808 -1.03027512  1.031946    0.05561576  0.76384199  0.54726851] gave 188.686323447429\n"
     ]
    },
    {
     "name": "stdout",
     "output_type": "stream",
     "text": [
      "291\n"
     ]
    },
    {
     "name": "stderr",
     "output_type": "stream",
     "text": [
      "Info: Params [ 0.17985259 -0.52113343  1.48616158 -0.0158613   0.99229816  0.96815117] gave 251.5896359244228\n"
     ]
    },
    {
     "name": "stdout",
     "output_type": "stream",
     "text": [
      "292\n"
     ]
    },
    {
     "name": "stderr",
     "output_type": "stream",
     "text": [
      "Info: Params [ 0.         -1.17505257  1.36640562  0.34818216  0.82456381  0.98723441] gave 227.03056730649573\n"
     ]
    },
    {
     "name": "stdout",
     "output_type": "stream",
     "text": [
      "293\n"
     ]
    },
    {
     "name": "stderr",
     "output_type": "stream",
     "text": [
      "Info: Params [ 0.20151944 -1.1947989   0.97734117  0.3840022   0.87291127  0.90813996] gave 166.60353461192494\n"
     ]
    },
    {
     "name": "stdout",
     "output_type": "stream",
     "text": [
      "294\n"
     ]
    },
    {
     "name": "stderr",
     "output_type": "stream",
     "text": [
      "Info: Params [ 0.18421899 -2.17924275  0.53998906  0.35980014  0.76026419  0.76252041] gave 89.09209828685455\n"
     ]
    },
    {
     "name": "stdout",
     "output_type": "stream",
     "text": [
      "295\n"
     ]
    },
    {
     "name": "stderr",
     "output_type": "stream",
     "text": [
      "Info: Params [ 0.32531782 -0.36415602  1.19900063  0.02190344  0.5701493   0.73209813] gave 257.921846552175\n"
     ]
    },
    {
     "name": "stdout",
     "output_type": "stream",
     "text": [
      "296\n"
     ]
    },
    {
     "name": "stderr",
     "output_type": "stream",
     "text": [
      "Info: Params [ 0.03466987 -1.39167683  1.38503741  0.163835    0.91387357  0.95844566] gave 205.93685838462426\n"
     ]
    },
    {
     "name": "stdout",
     "output_type": "stream",
     "text": [
      "297\n"
     ]
    },
    {
     "name": "stderr",
     "output_type": "stream",
     "text": [
      "Info: Params [ 0.37177865 -0.89564915  0.97392639  0.02038952  0.92802343  0.9292813 ] gave 194.8945007553816\n"
     ]
    },
    {
     "name": "stdout",
     "output_type": "stream",
     "text": [
      "298\n"
     ]
    },
    {
     "name": "stderr",
     "output_type": "stream",
     "text": [
      "Info: Params [ 0.67863041 -0.31107945  1.31457587  0.12337219  0.90538316  0.9548102 ] gave 239.98837126890638\n"
     ]
    }
   ],
   "source": [
    "loaded = pd.read_csv(\"data/E2.csv\") \n",
    "loaded['present'] = loaded['present'].replace(-1,0)\n",
    "summary_list = []\n",
    "for name, group in loaded.groupby('subj_id'):\n",
    "    print(name)\n",
    "    a= fit_m7(group.reset_index(),'E2')\n",
    "    summary_list.append(a)\n",
    "summary_df = pd.concat(summary_list)\n",
    "summary_df.to_csv(\"model_fits/model_m7/data_E2/all_subjects.csv\")"
   ]
  },
  {
   "cell_type": "code",
   "execution_count": null,
   "id": "9b030b79",
   "metadata": {},
   "outputs": [
    {
     "name": "stdout",
     "output_type": "stream",
     "text": [
      "1\n"
     ]
    },
    {
     "name": "stderr",
     "output_type": "stream",
     "text": [
      "Info: Params [ 0.40251789 -1.34956371  1.38440093  0.23084832  0.92918123] gave 210.11483117741562\n"
     ]
    },
    {
     "name": "stdout",
     "output_type": "stream",
     "text": [
      "2\n"
     ]
    },
    {
     "name": "stderr",
     "output_type": "stream",
     "text": [
      "Info: Params [ 1.71068887 -1.85767097  0.56922261  0.07482092  0.43234318] gave 23.593523417861512\n"
     ]
    },
    {
     "name": "stdout",
     "output_type": "stream",
     "text": [
      "3\n"
     ]
    },
    {
     "name": "stderr",
     "output_type": "stream",
     "text": [
      "Info: Params [ 0.699724   -1.80951176  0.78489846  0.39105153  0.57594428] gave 86.78983032917714\n"
     ]
    },
    {
     "name": "stdout",
     "output_type": "stream",
     "text": [
      "4\n"
     ]
    },
    {
     "name": "stderr",
     "output_type": "stream",
     "text": [
      "Info: Params [ 0.22800678 -2.3519409   0.78360143  0.3337493   0.66474407] gave 80.86879866951455\n"
     ]
    },
    {
     "name": "stdout",
     "output_type": "stream",
     "text": [
      "5\n"
     ]
    },
    {
     "name": "stderr",
     "output_type": "stream",
     "text": [
      "Info: Params [ 0.         -1.21279957  1.44748237  0.40420965  0.71504618] gave 231.0774713976406\n"
     ]
    },
    {
     "name": "stdout",
     "output_type": "stream",
     "text": [
      "6\n"
     ]
    },
    {
     "name": "stderr",
     "output_type": "stream",
     "text": [
      "Info: Params [ 0.37510907 -2.14851621  0.78086031  0.19487934  0.82033383] gave 120.7255179645377\n"
     ]
    },
    {
     "name": "stdout",
     "output_type": "stream",
     "text": [
      "7\n"
     ]
    },
    {
     "name": "stderr",
     "output_type": "stream",
     "text": [
      "Info: Params [ 0.14916632 -1.52050711  1.41231769  0.51136546  0.65052044] gave 193.1804335953907\n"
     ]
    },
    {
     "name": "stdout",
     "output_type": "stream",
     "text": [
      "8\n"
     ]
    },
    {
     "name": "stderr",
     "output_type": "stream",
     "text": [
      "Info: Params [ 0.055554   -1.97716184  0.75162596  0.26635472  0.8260319 ] gave 117.93220679549798\n"
     ]
    },
    {
     "name": "stdout",
     "output_type": "stream",
     "text": [
      "9\n"
     ]
    },
    {
     "name": "stderr",
     "output_type": "stream",
     "text": [
      "Info: Params [ 0.12278076 -1.08471132  1.67592411  0.69218171  0.74792428] gave 207.52958597923578\n"
     ]
    },
    {
     "name": "stdout",
     "output_type": "stream",
     "text": [
      "10\n"
     ]
    },
    {
     "name": "stderr",
     "output_type": "stream",
     "text": [
      "Info: Params [ 0.39570384 -1.64810066  0.73195975  0.11091175  0.54995313] gave 128.44767673877698\n"
     ]
    },
    {
     "name": "stdout",
     "output_type": "stream",
     "text": [
      "11\n"
     ]
    },
    {
     "name": "stderr",
     "output_type": "stream",
     "text": [
      "Info: Params [ 0.09277125 -1.98686208  0.67006115  0.39642173  0.93650861] gave 108.81839117195338\n"
     ]
    },
    {
     "name": "stdout",
     "output_type": "stream",
     "text": [
      "12\n"
     ]
    },
    {
     "name": "stderr",
     "output_type": "stream",
     "text": [
      "Info: Params [ 0.47229575 -1.00787752  0.97985716  0.06850243  0.97697104] gave 174.52390057794094\n"
     ]
    },
    {
     "name": "stdout",
     "output_type": "stream",
     "text": [
      "13\n"
     ]
    },
    {
     "name": "stderr",
     "output_type": "stream",
     "text": [
      "Info: Params [ 0.53360203 -1.59667788  0.78790328  0.29963645  0.78942086] gave 103.52458953662551\n"
     ]
    },
    {
     "name": "stdout",
     "output_type": "stream",
     "text": [
      "14\n"
     ]
    },
    {
     "name": "stderr",
     "output_type": "stream",
     "text": [
      "Info: Params [ 0.5408818  -0.90981312  0.90872379 -0.06768135  0.93851711] gave 168.37582202468863\n"
     ]
    },
    {
     "name": "stdout",
     "output_type": "stream",
     "text": [
      "15\n"
     ]
    },
    {
     "name": "stderr",
     "output_type": "stream",
     "text": [
      "Info: Params [ 0.57998467 -1.48251235  0.7525143   0.30904575  0.77485855] gave 109.64810656593528\n"
     ]
    },
    {
     "name": "stdout",
     "output_type": "stream",
     "text": [
      "16\n"
     ]
    },
    {
     "name": "stderr",
     "output_type": "stream",
     "text": [
      "Info: Params [ 0.40712849 -1.34403299  1.34163124  0.26373264  0.9568937 ] gave 192.3352593227492\n"
     ]
    },
    {
     "name": "stdout",
     "output_type": "stream",
     "text": [
      "17\n"
     ]
    },
    {
     "name": "stderr",
     "output_type": "stream",
     "text": [
      "Info: Params [ 0.         -1.35570165  1.18788694  0.53998323  0.80595345] gave 206.11650138024294\n"
     ]
    },
    {
     "name": "stdout",
     "output_type": "stream",
     "text": [
      "18\n"
     ]
    },
    {
     "name": "stderr",
     "output_type": "stream",
     "text": [
      "Info: Params [ 0.92491528 -1.47958376  0.88605091  0.20677012  0.9364682 ] gave 116.84427315921604\n"
     ]
    },
    {
     "name": "stdout",
     "output_type": "stream",
     "text": [
      "19\n"
     ]
    },
    {
     "name": "stderr",
     "output_type": "stream",
     "text": [
      "Info: Params [ 0.         -1.26370942  1.5311444   0.5025448   0.85190459] gave 219.75386989108446\n"
     ]
    },
    {
     "name": "stdout",
     "output_type": "stream",
     "text": [
      "20\n"
     ]
    },
    {
     "name": "stderr",
     "output_type": "stream",
     "text": [
      "Info: Params [ 0.26551205 -0.79311293  1.10806346  0.13043484  0.75226556] gave 221.28731348150012\n"
     ]
    },
    {
     "name": "stdout",
     "output_type": "stream",
     "text": [
      "21\n"
     ]
    },
    {
     "name": "stderr",
     "output_type": "stream",
     "text": [
      "Info: Params [ 0.52685026 -1.02991043  2.00323125  0.18985121  0.91446694] gave 227.08641564047429\n"
     ]
    },
    {
     "name": "stdout",
     "output_type": "stream",
     "text": [
      "22\n"
     ]
    },
    {
     "name": "stderr",
     "output_type": "stream",
     "text": [
      "Info: Params [ 0.03959132 -2.2081445   0.94889285  0.49190272  0.87049491] gave 122.3696546094602\n"
     ]
    },
    {
     "name": "stdout",
     "output_type": "stream",
     "text": [
      "23\n"
     ]
    },
    {
     "name": "stderr",
     "output_type": "stream",
     "text": [
      "Info: Params [ 0.05015417 -1.19710057  2.11818305  0.3159531   0.97039048] gave 223.62710257205606\n"
     ]
    },
    {
     "name": "stdout",
     "output_type": "stream",
     "text": [
      "24\n"
     ]
    },
    {
     "name": "stderr",
     "output_type": "stream",
     "text": [
      "Info: Params [ 0.73213724 -0.90603304  1.01063651  0.18392453  0.87551702] gave 189.08412717484862\n"
     ]
    },
    {
     "name": "stdout",
     "output_type": "stream",
     "text": [
      "25\n"
     ]
    },
    {
     "name": "stderr",
     "output_type": "stream",
     "text": [
      "Info: Params [ 0.81430204 -0.82704033  1.07599433  0.42123463  0.69758798] gave 178.46090407729935\n"
     ]
    },
    {
     "name": "stdout",
     "output_type": "stream",
     "text": [
      "26\n"
     ]
    },
    {
     "name": "stderr",
     "output_type": "stream",
     "text": [
      "Info: Params [ 0.31710005 -1.15651855  1.05795968  0.39135808  0.45724336] gave 180.95648755483901\n"
     ]
    },
    {
     "name": "stdout",
     "output_type": "stream",
     "text": [
      "27\n"
     ]
    },
    {
     "name": "stderr",
     "output_type": "stream",
     "text": [
      "Info: Params [ 0.47306867 -1.12066869  1.00734553  0.25530359  0.94762731] gave 190.1038242411288\n"
     ]
    },
    {
     "name": "stdout",
     "output_type": "stream",
     "text": [
      "28\n"
     ]
    },
    {
     "name": "stderr",
     "output_type": "stream",
     "text": [
      "Info: Params [ 0.30328043 -1.38480626  1.13439723  0.41405191  0.83567209] gave 176.56093572386226\n"
     ]
    },
    {
     "name": "stdout",
     "output_type": "stream",
     "text": [
      "29\n"
     ]
    },
    {
     "name": "stderr",
     "output_type": "stream",
     "text": [
      "Info: Params [ 0.82097284 -0.81334026  0.94923661  0.1508171   0.6735938 ] gave 167.02211331958836\n"
     ]
    },
    {
     "name": "stdout",
     "output_type": "stream",
     "text": [
      "30\n"
     ]
    },
    {
     "name": "stderr",
     "output_type": "stream",
     "text": [
      "Info: Params [ 0.04644171 -1.25778181  1.41986743  0.54155242  0.67069205] gave 209.03804394724818\n"
     ]
    },
    {
     "name": "stdout",
     "output_type": "stream",
     "text": [
      "31\n"
     ]
    },
    {
     "name": "stderr",
     "output_type": "stream",
     "text": [
      "Info: Params [ 0.55759172 -1.28927194  0.99672152  0.33787429  0.94085708] gave 159.56115498727686\n"
     ]
    },
    {
     "name": "stdout",
     "output_type": "stream",
     "text": [
      "32\n"
     ]
    },
    {
     "name": "stderr",
     "output_type": "stream",
     "text": [
      "Info: Params [ 0.14748243 -1.2395857   1.61941129  0.31667676  0.99880993] gave 216.6476749948922\n"
     ]
    },
    {
     "name": "stdout",
     "output_type": "stream",
     "text": [
      "33\n"
     ]
    },
    {
     "name": "stderr",
     "output_type": "stream",
     "text": [
      "Info: Params [ 0.59416873 -0.82223691  1.0242005  -0.1563541   0.78204807] gave 199.39574735226597\n"
     ]
    },
    {
     "name": "stdout",
     "output_type": "stream",
     "text": [
      "34\n"
     ]
    },
    {
     "name": "stderr",
     "output_type": "stream",
     "text": [
      "Info: Params [ 0.59297563 -1.08956651  0.88258788  0.03163478  0.74617036] gave 172.93325154864272\n"
     ]
    },
    {
     "name": "stdout",
     "output_type": "stream",
     "text": [
      "35\n"
     ]
    },
    {
     "name": "stderr",
     "output_type": "stream",
     "text": [
      "Info: Params [ 0.1935155  -1.20207601  0.88506422  0.36079677  0.54265046] gave 174.3867526592719\n"
     ]
    },
    {
     "name": "stdout",
     "output_type": "stream",
     "text": [
      "36\n"
     ]
    },
    {
     "name": "stderr",
     "output_type": "stream",
     "text": [
      "Info: Params [ 0.84240757 -1.02873775  0.87899896  0.21758533  0.61571842] gave 147.2250712611815\n"
     ]
    },
    {
     "name": "stdout",
     "output_type": "stream",
     "text": [
      "37\n"
     ]
    },
    {
     "name": "stderr",
     "output_type": "stream",
     "text": [
      "Info: Params [ 0.11393863 -1.3093817   1.38208293  0.50964141  0.60067513] gave 195.90299050669572\n"
     ]
    },
    {
     "name": "stdout",
     "output_type": "stream",
     "text": [
      "38\n"
     ]
    },
    {
     "name": "stderr",
     "output_type": "stream",
     "text": [
      "Info: Params [ 0.33871714 -1.28831172  1.07945861  0.36421181  0.78712354] gave 162.05039369137788\n"
     ]
    },
    {
     "name": "stdout",
     "output_type": "stream",
     "text": [
      "39\n"
     ]
    },
    {
     "name": "stderr",
     "output_type": "stream",
     "text": [
      "Info: Params [ 0.         -1.89252139  0.84174627  0.48307904  0.6713017 ] gave 128.25667270159332\n"
     ]
    },
    {
     "name": "stdout",
     "output_type": "stream",
     "text": [
      "40\n"
     ]
    },
    {
     "name": "stderr",
     "output_type": "stream",
     "text": [
      "Info: Params [ 0.28767212 -1.7568384   1.06838653  0.45907261  0.79244449] gave 166.62241890370925\n"
     ]
    },
    {
     "name": "stdout",
     "output_type": "stream",
     "text": [
      "41\n"
     ]
    },
    {
     "name": "stderr",
     "output_type": "stream",
     "text": [
      "Info: Params [ 0.35298074 -0.9277422   1.4614572   0.42361481  0.97540973] gave 214.04706183843103\n"
     ]
    },
    {
     "name": "stdout",
     "output_type": "stream",
     "text": [
      "42\n"
     ]
    },
    {
     "name": "stderr",
     "output_type": "stream",
     "text": [
      "Info: Params [ 1.02136787 -1.472001    0.67555778  0.38662914  0.57618135] gave 65.08645097397313\n"
     ]
    },
    {
     "name": "stdout",
     "output_type": "stream",
     "text": [
      "43\n"
     ]
    },
    {
     "name": "stderr",
     "output_type": "stream",
     "text": [
      "Info: Params [ 0.91193808 -1.23204185  1.2595457   0.15162722  0.8369249 ] gave 162.11679735837703\n"
     ]
    },
    {
     "name": "stdout",
     "output_type": "stream",
     "text": [
      "44\n"
     ]
    },
    {
     "name": "stderr",
     "output_type": "stream",
     "text": [
      "Info: Params [ 0.34245982 -1.09626132  1.86545388  0.29627294  0.97743092] gave 235.63387552506825\n"
     ]
    },
    {
     "name": "stdout",
     "output_type": "stream",
     "text": [
      "45\n"
     ]
    },
    {
     "name": "stderr",
     "output_type": "stream",
     "text": [
      "Info: Params [ 0.39604213 -0.74193305  1.79451765  0.16531282  0.96255302] gave 269.52614500938887\n"
     ]
    },
    {
     "name": "stdout",
     "output_type": "stream",
     "text": [
      "46\n"
     ]
    },
    {
     "name": "stderr",
     "output_type": "stream",
     "text": [
      "Info: Params [ 0.         -1.78472072  1.05961618  0.41444107  0.67581374] gave 152.83350835825476\n"
     ]
    },
    {
     "name": "stdout",
     "output_type": "stream",
     "text": [
      "47\n"
     ]
    },
    {
     "name": "stderr",
     "output_type": "stream",
     "text": [
      "Info: Params [ 0.74135398 -1.67450934  0.67502541  0.08539128  0.76994691] gave 97.02397476346655\n"
     ]
    },
    {
     "name": "stdout",
     "output_type": "stream",
     "text": [
      "48\n"
     ]
    },
    {
     "name": "stderr",
     "output_type": "stream",
     "text": [
      "Info: Params [ 0.01366577 -1.83576537  1.18750963  0.43966381  0.75786909] gave 158.54648854061463\n"
     ]
    },
    {
     "name": "stdout",
     "output_type": "stream",
     "text": [
      "49\n"
     ]
    },
    {
     "name": "stderr",
     "output_type": "stream",
     "text": [
      "Info: Params [ 0.46635665 -1.03474945  1.10094491  0.31939264  0.9628904 ] gave 196.2912382266124\n"
     ]
    },
    {
     "name": "stdout",
     "output_type": "stream",
     "text": [
      "50\n"
     ]
    },
    {
     "name": "stderr",
     "output_type": "stream",
     "text": [
      "Info: Params [ 0.81396091 -0.85043651  1.37814195  0.18258991  0.85443792] gave 212.77383458491812\n"
     ]
    },
    {
     "name": "stdout",
     "output_type": "stream",
     "text": [
      "51\n"
     ]
    },
    {
     "name": "stderr",
     "output_type": "stream",
     "text": [
      "Info: Params [ 0.69694964 -0.73393046  1.26003679  0.20569453  0.85188626] gave 226.66412894810986\n"
     ]
    },
    {
     "name": "stdout",
     "output_type": "stream",
     "text": [
      "52\n"
     ]
    },
    {
     "name": "stderr",
     "output_type": "stream",
     "text": [
      "Info: Params [ 0.         -1.7218272   1.29188719  0.36241795  0.87220815] gave 185.83761147736203\n"
     ]
    },
    {
     "name": "stdout",
     "output_type": "stream",
     "text": [
      "53\n"
     ]
    },
    {
     "name": "stderr",
     "output_type": "stream",
     "text": [
      "Info: Params [ 0.26669106 -1.36407442  1.09482609  0.42782588  0.87212904] gave 194.5855074609546\n"
     ]
    },
    {
     "name": "stdout",
     "output_type": "stream",
     "text": [
      "54\n"
     ]
    },
    {
     "name": "stderr",
     "output_type": "stream",
     "text": [
      "Info: Params [ 0.00998644 -2.26303198  1.07123877  0.57057997  0.888195  ] gave 129.38356495851022\n"
     ]
    },
    {
     "name": "stdout",
     "output_type": "stream",
     "text": [
      "55\n"
     ]
    },
    {
     "name": "stderr",
     "output_type": "stream",
     "text": [
      "Info: Params [ 0.31490581 -1.21189323  1.0810957   0.19491413  0.95913354] gave 183.71895737994544\n"
     ]
    },
    {
     "name": "stdout",
     "output_type": "stream",
     "text": [
      "56\n"
     ]
    },
    {
     "name": "stderr",
     "output_type": "stream",
     "text": [
      "Info: Params [ 0.27491545 -1.37019072  0.82588515  0.42435336  0.73119277] gave 135.02520834623263\n"
     ]
    },
    {
     "name": "stdout",
     "output_type": "stream",
     "text": [
      "57\n"
     ]
    },
    {
     "name": "stderr",
     "output_type": "stream",
     "text": [
      "Info: Params [ 0.43043445 -0.70976592  1.59952409  0.41858862  0.68956264] gave 232.22927285061155\n"
     ]
    },
    {
     "name": "stdout",
     "output_type": "stream",
     "text": [
      "58\n"
     ]
    },
    {
     "name": "stderr",
     "output_type": "stream",
     "text": [
      "Info: Params [ 0.00202322 -1.4526535   0.86363842  0.26154686  0.70294804] gave 140.47938412762278\n"
     ]
    },
    {
     "name": "stdout",
     "output_type": "stream",
     "text": [
      "59\n"
     ]
    },
    {
     "name": "stderr",
     "output_type": "stream",
     "text": [
      "Info: Params [ 0.01449442 -1.75205626  1.15301875  0.50406567  0.85887549] gave 146.5637429659208\n"
     ]
    },
    {
     "name": "stdout",
     "output_type": "stream",
     "text": [
      "60\n"
     ]
    },
    {
     "name": "stderr",
     "output_type": "stream",
     "text": [
      "Info: Params [ 0.47833471 -0.88112311  0.92637213  0.23705874  0.59472637] gave 174.64822371744884\n"
     ]
    },
    {
     "name": "stdout",
     "output_type": "stream",
     "text": [
      "61\n"
     ]
    },
    {
     "name": "stderr",
     "output_type": "stream",
     "text": [
      "Info: Params [ 0.48654857 -0.93589977  1.48494357  0.29013624  0.99969966] gave 228.73914572366274\n"
     ]
    },
    {
     "name": "stdout",
     "output_type": "stream",
     "text": [
      "62\n"
     ]
    },
    {
     "name": "stderr",
     "output_type": "stream",
     "text": [
      "Info: Params [ 0.70884046 -0.55366519  1.17572746  0.2154726   0.84297528] gave 223.45400047577863\n"
     ]
    },
    {
     "name": "stdout",
     "output_type": "stream",
     "text": [
      "63\n"
     ]
    },
    {
     "name": "stderr",
     "output_type": "stream",
     "text": [
      "Info: Params [ 0.87654563 -0.33554389  0.75805299  0.20905104  0.65603559] gave 127.45862658730928\n"
     ]
    },
    {
     "name": "stdout",
     "output_type": "stream",
     "text": [
      "64\n"
     ]
    },
    {
     "name": "stderr",
     "output_type": "stream",
     "text": [
      "Info: Params [ 0.37138173 -0.97881839  1.08710873  0.22141005  0.892964  ] gave 208.5365201877521\n"
     ]
    },
    {
     "name": "stdout",
     "output_type": "stream",
     "text": [
      "65\n"
     ]
    },
    {
     "name": "stderr",
     "output_type": "stream",
     "text": [
      "Info: Params [ 0.40048331 -0.74021642  1.32577538  0.32603506  0.88226067] gave 228.01642333631952\n"
     ]
    },
    {
     "name": "stdout",
     "output_type": "stream",
     "text": [
      "66\n"
     ]
    },
    {
     "name": "stderr",
     "output_type": "stream",
     "text": [
      "Info: Params [ 0.07343956 -0.80509558  1.45144839  0.67863621  0.77616845] gave 235.91018199844908\n"
     ]
    },
    {
     "name": "stdout",
     "output_type": "stream",
     "text": [
      "67\n"
     ]
    },
    {
     "name": "stderr",
     "output_type": "stream",
     "text": [
      "Info: Params [ 1.27167735 -0.68963105  0.73520207  0.3380872   0.71806737] gave 90.72235628672414\n"
     ]
    },
    {
     "name": "stdout",
     "output_type": "stream",
     "text": [
      "68\n"
     ]
    },
    {
     "name": "stderr",
     "output_type": "stream",
     "text": [
      "Info: Params [ 1.53268494 -0.90375699  0.73686754  0.15795485  0.93620177] gave 89.00717809432564\n"
     ]
    },
    {
     "name": "stdout",
     "output_type": "stream",
     "text": [
      "69\n"
     ]
    },
    {
     "name": "stderr",
     "output_type": "stream",
     "text": [
      "Info: Params [ 0.10150419 -1.32316639  1.3761513   0.56167339  0.87704479] gave 202.37148724761676\n"
     ]
    },
    {
     "name": "stdout",
     "output_type": "stream",
     "text": [
      "70\n"
     ]
    },
    {
     "name": "stderr",
     "output_type": "stream",
     "text": [
      "Info: Params [ 0.44615491 -2.71907723  0.82208933  0.53407579  0.65218779] gave 53.49691461152145\n"
     ]
    },
    {
     "name": "stdout",
     "output_type": "stream",
     "text": [
      "71\n"
     ]
    },
    {
     "name": "stderr",
     "output_type": "stream",
     "text": [
      "Info: Params [ 0.11361596 -2.11269656  1.02002337  0.64358926  0.77921969] gave 132.89912703050106\n"
     ]
    },
    {
     "name": "stdout",
     "output_type": "stream",
     "text": [
      "72\n"
     ]
    },
    {
     "name": "stderr",
     "output_type": "stream",
     "text": [
      "Info: Params [ 0.39601067 -0.75991084  1.64481952  0.60124354  0.74175009] gave 229.29946939944332\n"
     ]
    },
    {
     "name": "stdout",
     "output_type": "stream",
     "text": [
      "73\n"
     ]
    },
    {
     "name": "stderr",
     "output_type": "stream",
     "text": [
      "Info: Params [ 0.51062034 -1.39753339  0.93817657  0.3919734   0.65106383] gave 147.51714731645558\n"
     ]
    },
    {
     "name": "stdout",
     "output_type": "stream",
     "text": [
      "74\n"
     ]
    },
    {
     "name": "stderr",
     "output_type": "stream",
     "text": [
      "Info: Params [ 0.4023091  -0.74788855  1.62656225  0.09651851  0.86497566] gave 251.2568245739248\n"
     ]
    },
    {
     "name": "stdout",
     "output_type": "stream",
     "text": [
      "75\n"
     ]
    },
    {
     "name": "stderr",
     "output_type": "stream",
     "text": [
      "Info: Params [ 0.36137847 -1.3622359   0.79374295  0.33669723  0.69666459] gave 135.95327238552522\n"
     ]
    },
    {
     "name": "stdout",
     "output_type": "stream",
     "text": [
      "76\n"
     ]
    },
    {
     "name": "stderr",
     "output_type": "stream",
     "text": [
      "Info: Params [ 0.14833215 -1.1974161   1.86553534  0.57080254  0.63306045] gave 245.2753786371268\n"
     ]
    },
    {
     "name": "stdout",
     "output_type": "stream",
     "text": [
      "77\n"
     ]
    },
    {
     "name": "stderr",
     "output_type": "stream",
     "text": [
      "Info: Params [ 0.         -1.45753396  0.90656907  0.38518226  0.74748384] gave 141.68784934413705\n"
     ]
    },
    {
     "name": "stdout",
     "output_type": "stream",
     "text": [
      "78\n"
     ]
    },
    {
     "name": "stderr",
     "output_type": "stream",
     "text": [
      "Info: Params [ 3.73909225 -0.27052305  0.67458581 -0.3471229   0.53097809] gave 85.7981811142439\n"
     ]
    },
    {
     "name": "stdout",
     "output_type": "stream",
     "text": [
      "79\n"
     ]
    },
    {
     "name": "stderr",
     "output_type": "stream",
     "text": [
      "Info: Params [ 0.57433723 -1.03857261  1.64582478  0.22153496  0.93893382] gave 214.09224911040695\n"
     ]
    },
    {
     "name": "stdout",
     "output_type": "stream",
     "text": [
      "80\n"
     ]
    },
    {
     "name": "stderr",
     "output_type": "stream",
     "text": [
      "Info: Params [ 1.26293716 -1.00046186  0.79776733  0.3822485   0.64896687] gave 100.71173013087156\n"
     ]
    },
    {
     "name": "stdout",
     "output_type": "stream",
     "text": [
      "81\n"
     ]
    },
    {
     "name": "stderr",
     "output_type": "stream",
     "text": [
      "Info: Params [ 0.59719859 -1.8965798   0.67053231  0.37990514  0.57603761] gave 79.08446704606067\n"
     ]
    },
    {
     "name": "stdout",
     "output_type": "stream",
     "text": [
      "82\n"
     ]
    },
    {
     "name": "stderr",
     "output_type": "stream",
     "text": [
      "Info: Params [ 0.35117741 -0.82918649  0.90730584  0.12759269  0.61806381] gave 185.56303081534853\n"
     ]
    },
    {
     "name": "stdout",
     "output_type": "stream",
     "text": [
      "83\n"
     ]
    },
    {
     "name": "stderr",
     "output_type": "stream",
     "text": [
      "Info: Params [ 0.25556761 -1.20370613  1.133745    0.40607665  0.69176588] gave 181.86052542864815\n"
     ]
    },
    {
     "name": "stdout",
     "output_type": "stream",
     "text": [
      "84\n"
     ]
    },
    {
     "name": "stderr",
     "output_type": "stream",
     "text": [
      "Info: Params [ 0.77029759 -0.87874598  1.08516159  0.19691649  0.8380057 ] gave 175.62730440750022\n"
     ]
    },
    {
     "name": "stdout",
     "output_type": "stream",
     "text": [
      "85\n"
     ]
    },
    {
     "name": "stderr",
     "output_type": "stream",
     "text": [
      "Info: Params [ 1.56141402 -0.73571928  0.85399321  0.10907085  0.61668444] gave 110.84772889889277\n"
     ]
    },
    {
     "name": "stdout",
     "output_type": "stream",
     "text": [
      "86\n"
     ]
    },
    {
     "name": "stderr",
     "output_type": "stream",
     "text": [
      "Info: Params [ 0.12571751 -1.70272514  1.38066439  0.54386936  0.62943713] gave 190.46000779993454\n"
     ]
    },
    {
     "name": "stdout",
     "output_type": "stream",
     "text": [
      "87\n"
     ]
    },
    {
     "name": "stderr",
     "output_type": "stream",
     "text": [
      "Info: Params [ 0.09853133 -1.13570597  1.28460247  0.40511773  0.79639291] gave 218.2505102165544\n"
     ]
    },
    {
     "name": "stdout",
     "output_type": "stream",
     "text": [
      "88\n"
     ]
    },
    {
     "name": "stderr",
     "output_type": "stream",
     "text": [
      "Info: Params [ 0.13409982 -1.03323067  1.0913271   0.2652115   0.70266248] gave 212.95250606772004\n"
     ]
    },
    {
     "name": "stdout",
     "output_type": "stream",
     "text": [
      "89\n"
     ]
    },
    {
     "name": "stderr",
     "output_type": "stream",
     "text": [
      "Info: Params [ 0.62187846 -1.68761967  0.84526696  0.30779533  0.74770381] gave 106.23049090241149\n"
     ]
    },
    {
     "name": "stdout",
     "output_type": "stream",
     "text": [
      "90\n"
     ]
    },
    {
     "name": "stderr",
     "output_type": "stream",
     "text": [
      "Info: Params [ 0.46520297 -1.00189587  1.10131065  0.0567661   0.87528478] gave 204.85122286989952\n"
     ]
    },
    {
     "name": "stdout",
     "output_type": "stream",
     "text": [
      "91\n"
     ]
    },
    {
     "name": "stderr",
     "output_type": "stream",
     "text": [
      "Info: Params [ 0.37368148 -1.0627357   1.22438493  0.47260529  0.91458726] gave 204.5303098316993\n"
     ]
    },
    {
     "name": "stdout",
     "output_type": "stream",
     "text": [
      "92\n"
     ]
    },
    {
     "name": "stderr",
     "output_type": "stream",
     "text": [
      "Info: Params [ 0.12443092 -1.25421769  1.46420614  0.33910754  0.92291758] gave 211.6307356865315\n"
     ]
    },
    {
     "name": "stdout",
     "output_type": "stream",
     "text": [
      "93\n"
     ]
    },
    {
     "name": "stderr",
     "output_type": "stream",
     "text": [
      "Info: Params [ 0.42699728 -0.88721351  1.05459562  0.25934487  0.65471846] gave 199.78652624006065\n"
     ]
    },
    {
     "name": "stdout",
     "output_type": "stream",
     "text": [
      "94\n"
     ]
    },
    {
     "name": "stderr",
     "output_type": "stream",
     "text": [
      "Info: Params [ 0.60184747 -1.02693488  0.93296975  0.37378491  0.78250209] gave 146.3735394489628\n"
     ]
    },
    {
     "name": "stdout",
     "output_type": "stream",
     "text": [
      "95\n"
     ]
    },
    {
     "name": "stderr",
     "output_type": "stream",
     "text": [
      "Info: Params [ 0.7188206  -0.8068537   1.53590812  0.53031733  0.68950298] gave 178.26657477182403\n"
     ]
    },
    {
     "name": "stdout",
     "output_type": "stream",
     "text": [
      "96\n"
     ]
    },
    {
     "name": "stderr",
     "output_type": "stream",
     "text": [
      "Info: Params [ 0.02930939 -1.49594688  0.97611515  0.29880127  0.85078353] gave 155.4590380233316\n"
     ]
    },
    {
     "name": "stdout",
     "output_type": "stream",
     "text": [
      "97\n"
     ]
    },
    {
     "name": "stderr",
     "output_type": "stream",
     "text": [
      "Info: Params [ 0.59551456 -0.64427116  1.42221156  0.15348059  0.64006939] gave 211.90123557492842\n"
     ]
    },
    {
     "name": "stdout",
     "output_type": "stream",
     "text": [
      "98\n"
     ]
    },
    {
     "name": "stderr",
     "output_type": "stream",
     "text": [
      "Info: Params [ 0.         -1.12201184  1.39928543  0.43079827  0.76882711] gave 219.57645970512755\n"
     ]
    },
    {
     "name": "stdout",
     "output_type": "stream",
     "text": [
      "99\n"
     ]
    },
    {
     "name": "stderr",
     "output_type": "stream",
     "text": [
      "Info: Params [ 0.         -2.20149552  0.99867618  0.41317026  0.83736506] gave 146.3901023674895\n"
     ]
    },
    {
     "name": "stdout",
     "output_type": "stream",
     "text": [
      "100\n"
     ]
    },
    {
     "name": "stderr",
     "output_type": "stream",
     "text": [
      "Info: Params [ 0.41480586 -1.12665828  1.16359144  0.17733925  0.73944247] gave 203.5804185652051\n"
     ]
    },
    {
     "name": "stdout",
     "output_type": "stream",
     "text": [
      "101\n"
     ]
    },
    {
     "name": "stderr",
     "output_type": "stream",
     "text": [
      "Info: Params [ 0.22136758 -0.87422687  1.40106638  0.16632386  0.90314827] gave 247.61949502534026\n"
     ]
    },
    {
     "name": "stdout",
     "output_type": "stream",
     "text": [
      "102\n"
     ]
    },
    {
     "name": "stderr",
     "output_type": "stream",
     "text": [
      "Info: Params [ 0.         -1.98445885  0.57724494  0.44726488  0.75028718] gave 48.38923525302736\n"
     ]
    },
    {
     "name": "stdout",
     "output_type": "stream",
     "text": [
      "103\n"
     ]
    },
    {
     "name": "stderr",
     "output_type": "stream",
     "text": [
      "Info: Params [ 0.25109876 -1.30789322  1.53275656  0.5775451   0.94955448] gave 214.8496576883492\n"
     ]
    },
    {
     "name": "stdout",
     "output_type": "stream",
     "text": [
      "104\n"
     ]
    },
    {
     "name": "stderr",
     "output_type": "stream",
     "text": [
      "Info: Params [ 0.30921442 -1.01903033  1.49425804  0.26328685  0.97195587] gave 229.46416328401008\n"
     ]
    },
    {
     "name": "stdout",
     "output_type": "stream",
     "text": [
      "105\n"
     ]
    },
    {
     "name": "stderr",
     "output_type": "stream",
     "text": [
      "Info: Params [ 0.33877051 -1.40120896  1.28115105  0.47812498  0.72572565] gave 175.033843793131\n"
     ]
    },
    {
     "name": "stdout",
     "output_type": "stream",
     "text": [
      "106\n"
     ]
    },
    {
     "name": "stderr",
     "output_type": "stream",
     "text": [
      "Info: Params [ 0.95368844 -1.08444634  0.81584585  0.25498963  0.85377241] gave 125.94287909621016\n"
     ]
    },
    {
     "name": "stdout",
     "output_type": "stream",
     "text": [
      "107\n"
     ]
    },
    {
     "name": "stderr",
     "output_type": "stream",
     "text": [
      "Info: Params [ 0.3097188  -1.14783679  1.18781381  0.44580703  0.74728212] gave 204.498706865663\n"
     ]
    },
    {
     "name": "stdout",
     "output_type": "stream",
     "text": [
      "108\n"
     ]
    },
    {
     "name": "stderr",
     "output_type": "stream",
     "text": [
      "Info: Params [ 0.18226986 -0.87478029  1.34146326  0.40814633  0.61481838] gave 239.67742316877155\n"
     ]
    },
    {
     "name": "stdout",
     "output_type": "stream",
     "text": [
      "109\n"
     ]
    },
    {
     "name": "stderr",
     "output_type": "stream",
     "text": [
      "Info: Params [ 0.         -1.47089331  1.4690396   0.49806684  0.91253391] gave 220.35824730871767\n"
     ]
    },
    {
     "name": "stdout",
     "output_type": "stream",
     "text": [
      "110\n"
     ]
    },
    {
     "name": "stderr",
     "output_type": "stream",
     "text": [
      "Info: Params [ 0.40106163 -1.49436292  0.81837785  0.33839223  0.83144109] gave 148.4751070893073\n"
     ]
    },
    {
     "name": "stdout",
     "output_type": "stream",
     "text": [
      "111\n"
     ]
    },
    {
     "name": "stderr",
     "output_type": "stream",
     "text": [
      "Info: Params [ 0.15746349 -1.36961081  1.20354658  0.61755628  0.84347252] gave 171.31181075318284\n"
     ]
    },
    {
     "name": "stdout",
     "output_type": "stream",
     "text": [
      "112\n"
     ]
    },
    {
     "name": "stderr",
     "output_type": "stream",
     "text": [
      "Info: Params [ 0.281062   -1.95965438  1.10763086  0.34397205  0.97344796] gave 158.26630652428753\n"
     ]
    },
    {
     "name": "stdout",
     "output_type": "stream",
     "text": [
      "113\n"
     ]
    },
    {
     "name": "stderr",
     "output_type": "stream",
     "text": [
      "Info: Params [ 0.30318604 -1.96167888  0.71585516  0.2957354   0.90063624] gave 129.08197873302066\n"
     ]
    },
    {
     "name": "stdout",
     "output_type": "stream",
     "text": [
      "114\n"
     ]
    },
    {
     "name": "stderr",
     "output_type": "stream",
     "text": [
      "Info: Params [ 0.63686819 -1.79370564  0.84636864  0.23215677  0.68667701] gave 113.20908564537022\n"
     ]
    },
    {
     "name": "stdout",
     "output_type": "stream",
     "text": [
      "115\n"
     ]
    },
    {
     "name": "stderr",
     "output_type": "stream",
     "text": [
      "Info: Params [ 0.41950465 -1.02624727  1.46892366  0.32832424  0.8387001 ] gave 199.1621610405477\n"
     ]
    },
    {
     "name": "stdout",
     "output_type": "stream",
     "text": [
      "116\n"
     ]
    },
    {
     "name": "stderr",
     "output_type": "stream",
     "text": [
      "Info: Params [ 0.26800415 -1.21341697  1.59116623  0.54729192  0.73791151] gave 206.3782155196069\n"
     ]
    },
    {
     "name": "stdout",
     "output_type": "stream",
     "text": [
      "117\n"
     ]
    },
    {
     "name": "stderr",
     "output_type": "stream",
     "text": [
      "Info: Params [ 0.88701254 -0.61244812  1.60018915  0.17280251  0.92608674] gave 229.04696588011413\n"
     ]
    },
    {
     "name": "stdout",
     "output_type": "stream",
     "text": [
      "118\n"
     ]
    },
    {
     "name": "stderr",
     "output_type": "stream",
     "text": [
      "Info: Params [ 0.8921753  -2.18392523  0.68302575  0.0693334   0.84104614] gave 87.99875527993098\n"
     ]
    },
    {
     "name": "stdout",
     "output_type": "stream",
     "text": [
      "119\n"
     ]
    },
    {
     "name": "stderr",
     "output_type": "stream",
     "text": [
      "Info: Params [ 0.         -1.55667509  1.21820234  0.59549731  0.82931855] gave 186.10885952761703\n"
     ]
    },
    {
     "name": "stdout",
     "output_type": "stream",
     "text": [
      "120\n"
     ]
    },
    {
     "name": "stderr",
     "output_type": "stream",
     "text": [
      "Info: Params [ 0.27630726 -1.24677242  1.56514452  0.17453589  0.90810755] gave 227.3792344283998\n"
     ]
    },
    {
     "name": "stdout",
     "output_type": "stream",
     "text": [
      "121\n"
     ]
    },
    {
     "name": "stderr",
     "output_type": "stream",
     "text": [
      "Info: Params [ 0.06208163 -0.9683313   1.47617454  0.34268698  0.71558647] gave 226.32523142155785\n"
     ]
    },
    {
     "name": "stdout",
     "output_type": "stream",
     "text": [
      "122\n"
     ]
    },
    {
     "name": "stderr",
     "output_type": "stream",
     "text": [
      "Info: Params [ 0.         -1.66547242  1.09834205  0.33445333  0.81353793] gave 182.48293812462236\n"
     ]
    },
    {
     "name": "stdout",
     "output_type": "stream",
     "text": [
      "123\n"
     ]
    },
    {
     "name": "stderr",
     "output_type": "stream",
     "text": [
      "Info: Params [ 0.2680223  -0.84823781  1.23158114  0.30827188  0.78908074] gave 227.83924443126256\n"
     ]
    },
    {
     "name": "stdout",
     "output_type": "stream",
     "text": [
      "124\n"
     ]
    },
    {
     "name": "stderr",
     "output_type": "stream",
     "text": [
      "Info: Params [ 0.30180102 -2.3539505   0.5330258   0.38931448  0.68361984] gave 42.265104870814866\n"
     ]
    },
    {
     "name": "stdout",
     "output_type": "stream",
     "text": [
      "125\n"
     ]
    },
    {
     "name": "stderr",
     "output_type": "stream",
     "text": [
      "Info: Params [ 0.         -1.12751716  1.13625216  0.41984532  0.8715346 ] gave 211.07530271615158\n"
     ]
    },
    {
     "name": "stdout",
     "output_type": "stream",
     "text": [
      "126\n"
     ]
    },
    {
     "name": "stderr",
     "output_type": "stream",
     "text": [
      "Info: Params [ 0.36382257 -1.06411516  1.35439175  0.2827469   0.9159804 ] gave 219.0542621978197\n"
     ]
    },
    {
     "name": "stdout",
     "output_type": "stream",
     "text": [
      "127\n"
     ]
    },
    {
     "name": "stderr",
     "output_type": "stream",
     "text": [
      "Info: Params [ 0.68059408 -0.37791275  1.39295996  0.28688165  0.85560449] gave 226.52300911182866\n"
     ]
    },
    {
     "name": "stdout",
     "output_type": "stream",
     "text": [
      "128\n"
     ]
    },
    {
     "name": "stderr",
     "output_type": "stream",
     "text": [
      "Info: Params [ 0.58357211 -2.07633297  0.81485459  0.33875324  0.6981658 ] gave 87.84071814145109\n"
     ]
    },
    {
     "name": "stdout",
     "output_type": "stream",
     "text": [
      "129\n"
     ]
    },
    {
     "name": "stderr",
     "output_type": "stream",
     "text": [
      "Info: Params [ 0.25753524 -1.5065185   0.86085642  0.26573905  0.83445565] gave 143.0183151668865\n"
     ]
    },
    {
     "name": "stdout",
     "output_type": "stream",
     "text": [
      "130\n"
     ]
    },
    {
     "name": "stderr",
     "output_type": "stream",
     "text": [
      "Info: Params [ 0.10143703 -1.04414236  0.88632217  0.24884131  0.55124799] gave 160.3919957468159\n"
     ]
    },
    {
     "name": "stdout",
     "output_type": "stream",
     "text": [
      "131\n"
     ]
    },
    {
     "name": "stderr",
     "output_type": "stream",
     "text": [
      "Info: Params [ 0.35045593 -1.11752867  1.02570851  0.29212568  0.78361803] gave 169.26415686504043\n"
     ]
    },
    {
     "name": "stdout",
     "output_type": "stream",
     "text": [
      "132\n"
     ]
    },
    {
     "name": "stderr",
     "output_type": "stream",
     "text": [
      "Info: Params [ 0.50369378 -1.22953953  1.02592828  0.37052222  0.72313955] gave 152.4207878031292\n"
     ]
    },
    {
     "name": "stdout",
     "output_type": "stream",
     "text": [
      "133\n"
     ]
    },
    {
     "name": "stderr",
     "output_type": "stream",
     "text": [
      "Info: Params [ 0.44958628 -1.56426073  0.79995059  0.27805505  0.8983109 ] gave 120.17540046530755\n"
     ]
    },
    {
     "name": "stdout",
     "output_type": "stream",
     "text": [
      "134\n"
     ]
    },
    {
     "name": "stderr",
     "output_type": "stream",
     "text": [
      "Info: Params [ 0.         -1.23062286  1.46758524  0.4223147   0.83699981] gave 220.76011068401021\n"
     ]
    },
    {
     "name": "stdout",
     "output_type": "stream",
     "text": [
      "135\n"
     ]
    },
    {
     "name": "stderr",
     "output_type": "stream",
     "text": [
      "Info: Params [ 2.27941968 -1.208908    0.66895141  0.33423714  0.62679367] gave 43.38372040819621\n"
     ]
    },
    {
     "name": "stdout",
     "output_type": "stream",
     "text": [
      "136\n"
     ]
    },
    {
     "name": "stderr",
     "output_type": "stream",
     "text": [
      "Info: Params [ 0.56859591 -0.67197681  1.12561551  0.23012241  0.9570298 ] gave 201.87569425618472\n"
     ]
    },
    {
     "name": "stdout",
     "output_type": "stream",
     "text": [
      "137\n"
     ]
    },
    {
     "name": "stderr",
     "output_type": "stream",
     "text": [
      "Info: Params [ 0.03679433 -1.31155871  1.18997282  0.34898175  0.60230584] gave 213.54482448164708\n"
     ]
    },
    {
     "name": "stdout",
     "output_type": "stream",
     "text": [
      "138\n"
     ]
    },
    {
     "name": "stderr",
     "output_type": "stream",
     "text": [
      "Info: Params [ 0.65320928 -1.86125756  0.65873696  0.07945569  0.73240011] gave 92.96299486786504\n"
     ]
    },
    {
     "name": "stdout",
     "output_type": "stream",
     "text": [
      "139\n"
     ]
    },
    {
     "name": "stderr",
     "output_type": "stream",
     "text": [
      "Info: Params [ 0.36121499 -1.04138131  1.04969077  0.26533973  0.71077786] gave 187.6742552674396\n"
     ]
    },
    {
     "name": "stdout",
     "output_type": "stream",
     "text": [
      "140\n"
     ]
    },
    {
     "name": "stderr",
     "output_type": "stream",
     "text": [
      "Info: Params [ 1.05256209 -0.52908471  1.355792    0.30815933  0.87209522] gave 202.27039098979108\n"
     ]
    },
    {
     "name": "stdout",
     "output_type": "stream",
     "text": [
      "141\n"
     ]
    },
    {
     "name": "stderr",
     "output_type": "stream",
     "text": [
      "Info: Params [ 0.5268257  -1.32819293  1.00732241  0.40723498  0.62526837] gave 153.0767947872986\n"
     ]
    },
    {
     "name": "stdout",
     "output_type": "stream",
     "text": [
      "142\n"
     ]
    },
    {
     "name": "stderr",
     "output_type": "stream",
     "text": [
      "Info: Params [ 0.58390144 -0.90359877  1.45610537  0.3390158   0.92507511] gave 222.09782916832322\n"
     ]
    },
    {
     "name": "stdout",
     "output_type": "stream",
     "text": [
      "143\n"
     ]
    },
    {
     "name": "stderr",
     "output_type": "stream",
     "text": [
      "Info: Params [ 0.8595409  -1.20717147  0.76890488  0.42226555  0.7093829 ] gave 115.51979830817587\n"
     ]
    },
    {
     "name": "stdout",
     "output_type": "stream",
     "text": [
      "144\n"
     ]
    },
    {
     "name": "stderr",
     "output_type": "stream",
     "text": [
      "Info: Params [ 0.81265586 -0.58537944  1.11255451  0.08657065  0.57569964] gave 211.81143342223515\n"
     ]
    },
    {
     "name": "stdout",
     "output_type": "stream",
     "text": [
      "145\n"
     ]
    },
    {
     "name": "stderr",
     "output_type": "stream",
     "text": [
      "Info: Params [ 0.61408093 -1.13793261  0.92510905  0.20612678  0.60048865] gave 161.05085778942606\n"
     ]
    },
    {
     "name": "stdout",
     "output_type": "stream",
     "text": [
      "146\n"
     ]
    },
    {
     "name": "stderr",
     "output_type": "stream",
     "text": [
      "Info: Params [ 0.3281229  -0.7146034   1.43406775  0.26450982  0.59025761] gave 247.33085528306006\n"
     ]
    },
    {
     "name": "stdout",
     "output_type": "stream",
     "text": [
      "147\n"
     ]
    },
    {
     "name": "stderr",
     "output_type": "stream",
     "text": [
      "Info: Params [ 0.         -1.86608386  1.76131884  0.56899266  0.94113163] gave 193.58317111933707\n"
     ]
    },
    {
     "name": "stdout",
     "output_type": "stream",
     "text": [
      "148\n"
     ]
    },
    {
     "name": "stderr",
     "output_type": "stream",
     "text": [
      "Info: Params [ 0.71277216 -2.19915763  0.6326724   0.34480284  0.65282859] gave 46.52460475167928\n"
     ]
    },
    {
     "name": "stdout",
     "output_type": "stream",
     "text": [
      "149\n"
     ]
    },
    {
     "name": "stderr",
     "output_type": "stream",
     "text": [
      "Info: Params [ 0.1836816  -0.86004933  1.2042497   0.23439922  0.83633985] gave 227.16065930605657\n"
     ]
    },
    {
     "name": "stdout",
     "output_type": "stream",
     "text": [
      "150\n"
     ]
    },
    {
     "name": "stderr",
     "output_type": "stream",
     "text": [
      "Info: Params [ 0.32184751 -0.80666151  1.55764272  0.57826935  0.66250478] gave 189.71942868131245\n"
     ]
    },
    {
     "name": "stdout",
     "output_type": "stream",
     "text": [
      "151\n"
     ]
    },
    {
     "name": "stderr",
     "output_type": "stream",
     "text": [
      "Info: Params [ 0.47092032 -0.85289554  0.97966154  0.29404992  0.85186468] gave 179.96041077574895\n"
     ]
    },
    {
     "name": "stdout",
     "output_type": "stream",
     "text": [
      "152\n"
     ]
    },
    {
     "name": "stderr",
     "output_type": "stream",
     "text": [
      "Info: Params [ 0.17725759 -1.27990739  1.21463944  0.61749335  0.70597988] gave 180.05533730516316\n"
     ]
    },
    {
     "name": "stdout",
     "output_type": "stream",
     "text": [
      "153\n"
     ]
    },
    {
     "name": "stderr",
     "output_type": "stream",
     "text": [
      "Info: Params [ 0.30111078 -1.78466772  0.65769416  0.46330398  0.53379089] gave 91.708402795105\n"
     ]
    },
    {
     "name": "stdout",
     "output_type": "stream",
     "text": [
      "154\n"
     ]
    },
    {
     "name": "stderr",
     "output_type": "stream",
     "text": [
      "Info: Params [ 0.17271983 -1.28618475  1.63635074  0.59724704  0.6150156 ] gave 202.63175105719463\n"
     ]
    },
    {
     "name": "stdout",
     "output_type": "stream",
     "text": [
      "155\n"
     ]
    },
    {
     "name": "stderr",
     "output_type": "stream",
     "text": [
      "Info: Params [ 0.         -1.37709126  1.47540048  0.55324171  0.6550603 ] gave 208.6077110271037\n"
     ]
    },
    {
     "name": "stdout",
     "output_type": "stream",
     "text": [
      "156\n"
     ]
    },
    {
     "name": "stderr",
     "output_type": "stream",
     "text": [
      "Info: Params [ 1.09465005 -2.04809209  0.74695904  0.24917183  0.86097673] gave 70.14498076397237\n"
     ]
    },
    {
     "name": "stdout",
     "output_type": "stream",
     "text": [
      "157\n"
     ]
    },
    {
     "name": "stderr",
     "output_type": "stream",
     "text": [
      "Info: Params [ 0.14141824 -2.83160512  0.77859504  0.36505504  0.75736765] gave 80.81150291655919\n"
     ]
    },
    {
     "name": "stdout",
     "output_type": "stream",
     "text": [
      "158\n"
     ]
    },
    {
     "name": "stderr",
     "output_type": "stream",
     "text": [
      "Info: Params [ 0.07634601 -1.01040281  1.70709114  0.38161668  0.99388289] gave 192.67125563113225\n"
     ]
    },
    {
     "name": "stdout",
     "output_type": "stream",
     "text": [
      "159\n"
     ]
    },
    {
     "name": "stderr",
     "output_type": "stream",
     "text": [
      "Info: Params [ 0.30931996 -1.35027836  1.10173441  0.5503342   0.67246599] gave 150.4781107375957\n"
     ]
    },
    {
     "name": "stdout",
     "output_type": "stream",
     "text": [
      "160\n"
     ]
    },
    {
     "name": "stderr",
     "output_type": "stream",
     "text": [
      "Info: Params [ 0.16827669 -0.62131787  1.13976866  0.34798792  0.73495775] gave 246.35666695590302\n"
     ]
    },
    {
     "name": "stdout",
     "output_type": "stream",
     "text": [
      "161\n"
     ]
    },
    {
     "name": "stderr",
     "output_type": "stream",
     "text": [
      "Info: Params [ 0.1452901  -1.28952304  1.0102079   0.34817265  0.83135601] gave 175.06029010646242\n"
     ]
    },
    {
     "name": "stdout",
     "output_type": "stream",
     "text": [
      "162\n"
     ]
    },
    {
     "name": "stderr",
     "output_type": "stream",
     "text": [
      "Info: Params [ 0.84879917 -1.17846542  0.8926361  -0.01159683  0.65992731] gave 151.0986813888803\n"
     ]
    },
    {
     "name": "stdout",
     "output_type": "stream",
     "text": [
      "163\n"
     ]
    },
    {
     "name": "stderr",
     "output_type": "stream",
     "text": [
      "Info: Params [ 0.39781934 -0.32963581  0.94431934 -0.14397722  0.09427536] gave 178.7124933517085\n"
     ]
    },
    {
     "name": "stdout",
     "output_type": "stream",
     "text": [
      "164\n"
     ]
    },
    {
     "name": "stderr",
     "output_type": "stream",
     "text": [
      "Info: Params [ 0.44831494 -0.98904015  1.07594538  0.2431492   0.82995838] gave 193.8098085465933\n"
     ]
    },
    {
     "name": "stdout",
     "output_type": "stream",
     "text": [
      "165\n"
     ]
    },
    {
     "name": "stderr",
     "output_type": "stream",
     "text": [
      "Info: Params [ 0.60759735 -0.67751088  0.86912374  0.10796001  0.87218871] gave 172.5994691969221\n"
     ]
    },
    {
     "name": "stdout",
     "output_type": "stream",
     "text": [
      "166\n"
     ]
    },
    {
     "name": "stderr",
     "output_type": "stream",
     "text": [
      "Info: Params [ 0.25972087 -1.20375327  1.05896022  0.39910364  0.59429284] gave 186.91738039337065\n"
     ]
    },
    {
     "name": "stdout",
     "output_type": "stream",
     "text": [
      "167\n"
     ]
    },
    {
     "name": "stderr",
     "output_type": "stream",
     "text": [
      "Info: Params [ 0.32433432 -1.16796356  0.86850825  0.39532827  0.79053442] gave 154.33575741877146\n"
     ]
    },
    {
     "name": "stdout",
     "output_type": "stream",
     "text": [
      "168\n"
     ]
    },
    {
     "name": "stderr",
     "output_type": "stream",
     "text": [
      "Info: Params [ 0.00955372 -1.98255851  0.83890997  0.44364779  0.78940188] gave 126.31736409435064\n"
     ]
    },
    {
     "name": "stdout",
     "output_type": "stream",
     "text": [
      "169\n"
     ]
    },
    {
     "name": "stderr",
     "output_type": "stream",
     "text": [
      "Info: Params [ 0.         -3.65415527  0.83301759  0.5558972   0.78022661] gave 111.5913878454725\n"
     ]
    },
    {
     "name": "stdout",
     "output_type": "stream",
     "text": [
      "170\n"
     ]
    },
    {
     "name": "stderr",
     "output_type": "stream",
     "text": [
      "Info: Params [ 0.70699245 -0.87320477  0.93057843  0.17382003  0.47877579] gave 160.68042403809875\n"
     ]
    },
    {
     "name": "stdout",
     "output_type": "stream",
     "text": [
      "171\n"
     ]
    },
    {
     "name": "stderr",
     "output_type": "stream",
     "text": [
      "Info: Params [ 0.25109664 -1.54960914  0.83126273  0.17305844  0.53322601] gave 150.84813535520792\n"
     ]
    },
    {
     "name": "stdout",
     "output_type": "stream",
     "text": [
      "172\n"
     ]
    },
    {
     "name": "stderr",
     "output_type": "stream",
     "text": [
      "Info: Params [ 0.69381548 -0.80738642  1.00742584  0.20178972  0.48310353] gave 170.58197257903666\n"
     ]
    },
    {
     "name": "stdout",
     "output_type": "stream",
     "text": [
      "173\n"
     ]
    },
    {
     "name": "stderr",
     "output_type": "stream",
     "text": [
      "Info: Params [ 0.05984179 -0.95241631  1.25796489  0.13948731  0.8425036 ] gave 233.36615947281567\n"
     ]
    },
    {
     "name": "stdout",
     "output_type": "stream",
     "text": [
      "174\n"
     ]
    },
    {
     "name": "stderr",
     "output_type": "stream",
     "text": [
      "Info: Params [ 0.21379552 -1.16374771  1.05180567  0.11888963  0.87553092] gave 198.3931994778332\n"
     ]
    },
    {
     "name": "stdout",
     "output_type": "stream",
     "text": [
      "175\n"
     ]
    },
    {
     "name": "stderr",
     "output_type": "stream",
     "text": [
      "Info: Params [ 1.5066519  -0.6564545   0.91321762  0.18901695  0.66265009] gave 128.36438493441855\n"
     ]
    },
    {
     "name": "stdout",
     "output_type": "stream",
     "text": [
      "176\n"
     ]
    },
    {
     "name": "stderr",
     "output_type": "stream",
     "text": [
      "Info: Params [ 0.77334018 -0.66110821  1.06856392  0.11336846  0.87589778] gave 198.54450343297654\n"
     ]
    },
    {
     "name": "stdout",
     "output_type": "stream",
     "text": [
      "177\n"
     ]
    },
    {
     "name": "stderr",
     "output_type": "stream",
     "text": [
      "Info: Params [ 0.09064579 -1.38454708  1.37237225  0.22863715  0.91760459] gave 206.63917243469646\n"
     ]
    },
    {
     "name": "stdout",
     "output_type": "stream",
     "text": [
      "178\n"
     ]
    },
    {
     "name": "stderr",
     "output_type": "stream",
     "text": [
      "Info: Params [ 0.33103966 -3.06105296  0.73774869  0.4005056   0.60711431] gave 113.4910514365385\n"
     ]
    },
    {
     "name": "stdout",
     "output_type": "stream",
     "text": [
      "179\n"
     ]
    },
    {
     "name": "stderr",
     "output_type": "stream",
     "text": [
      "Info: Params [ 0.66944727 -0.5641272   1.28200642  0.21931125  0.74817873] gave 225.7789759994149\n"
     ]
    },
    {
     "name": "stdout",
     "output_type": "stream",
     "text": [
      "180\n"
     ]
    },
    {
     "name": "stderr",
     "output_type": "stream",
     "text": [
      "Info: Params [ 0.32171896 -0.95700872  1.29099638  0.3108264   0.78294087] gave 219.63574603159822\n"
     ]
    },
    {
     "name": "stdout",
     "output_type": "stream",
     "text": [
      "181\n"
     ]
    },
    {
     "name": "stderr",
     "output_type": "stream",
     "text": [
      "Info: Params [ 0.26353978 -1.3585999   1.03486821  0.48609843  0.67298737] gave 156.0745669040373\n"
     ]
    },
    {
     "name": "stdout",
     "output_type": "stream",
     "text": [
      "182\n"
     ]
    },
    {
     "name": "stderr",
     "output_type": "stream",
     "text": [
      "Info: Params [ 0.         -1.20236252  1.02160331  0.53135178  0.71458198] gave 174.86880339914654\n"
     ]
    },
    {
     "name": "stdout",
     "output_type": "stream",
     "text": [
      "183\n"
     ]
    },
    {
     "name": "stderr",
     "output_type": "stream",
     "text": [
      "Info: Params [ 0.56910557 -1.10226678  0.97430101  0.17374115  0.90956148] gave 176.33485804944152\n"
     ]
    },
    {
     "name": "stdout",
     "output_type": "stream",
     "text": [
      "184\n"
     ]
    },
    {
     "name": "stderr",
     "output_type": "stream",
     "text": [
      "Info: Params [ 0.25428068 -2.48909416  0.69454185  0.3087111   0.61549732] gave 77.04158331332664\n"
     ]
    },
    {
     "name": "stdout",
     "output_type": "stream",
     "text": [
      "185\n"
     ]
    },
    {
     "name": "stderr",
     "output_type": "stream",
     "text": [
      "Info: Params [ 0.24470773 -1.39415115  0.96013592  0.51085886  0.67694452] gave 139.99129439955055\n"
     ]
    },
    {
     "name": "stdout",
     "output_type": "stream",
     "text": [
      "186\n"
     ]
    },
    {
     "name": "stderr",
     "output_type": "stream",
     "text": [
      "Info: Params [ 0.70092274 -0.85346141  1.46382715  0.25976895  0.92976368] gave 199.613304838099\n"
     ]
    },
    {
     "name": "stdout",
     "output_type": "stream",
     "text": [
      "187\n"
     ]
    },
    {
     "name": "stderr",
     "output_type": "stream",
     "text": [
      "Info: Params [ 0.67422408 -1.14786485  0.97990719  0.22881799  0.94181622] gave 160.3452808144167\n"
     ]
    },
    {
     "name": "stdout",
     "output_type": "stream",
     "text": [
      "188\n"
     ]
    },
    {
     "name": "stderr",
     "output_type": "stream",
     "text": [
      "Info: Params [ 0.         -1.83972927  1.08289851  0.2735428   0.70481232] gave 175.58867617948135\n"
     ]
    },
    {
     "name": "stdout",
     "output_type": "stream",
     "text": [
      "189\n"
     ]
    },
    {
     "name": "stderr",
     "output_type": "stream",
     "text": [
      "Info: Params [ 2.04914384 -1.26646317  0.53090974  0.06213824  0.66734249] gave 42.21650157241259\n"
     ]
    },
    {
     "name": "stdout",
     "output_type": "stream",
     "text": [
      "190\n"
     ]
    },
    {
     "name": "stderr",
     "output_type": "stream",
     "text": [
      "Info: Params [ 0.06254279 -1.63051595  1.15648628  0.39817829  0.6522602 ] gave 174.69010643087626\n"
     ]
    },
    {
     "name": "stdout",
     "output_type": "stream",
     "text": [
      "191\n"
     ]
    },
    {
     "name": "stderr",
     "output_type": "stream",
     "text": [
      "Info: Params [ 0.73187394 -1.2034542   1.01707854  0.29655902  0.63158184] gave 148.5919824998792\n"
     ]
    },
    {
     "name": "stdout",
     "output_type": "stream",
     "text": [
      "192\n"
     ]
    },
    {
     "name": "stderr",
     "output_type": "stream",
     "text": [
      "Info: Params [ 0.47060637 -0.99359415  1.12520374  0.27793142  0.88761708] gave 203.57930551742498\n"
     ]
    },
    {
     "name": "stdout",
     "output_type": "stream",
     "text": [
      "193\n"
     ]
    },
    {
     "name": "stderr",
     "output_type": "stream",
     "text": [
      "Info: Params [ 0.1109949  -1.36976437  1.05419778  0.51503584  0.62436   ] gave 158.394423617135\n"
     ]
    },
    {
     "name": "stdout",
     "output_type": "stream",
     "text": [
      "194\n"
     ]
    },
    {
     "name": "stderr",
     "output_type": "stream",
     "text": [
      "Info: Params [ 0.11589083 -1.17457015  1.94371584  0.57149551  0.7168166 ] gave 223.61330292780417\n"
     ]
    },
    {
     "name": "stdout",
     "output_type": "stream",
     "text": [
      "195\n"
     ]
    },
    {
     "name": "stderr",
     "output_type": "stream",
     "text": [
      "Info: Params [ 0.23110135 -0.70030446  1.10048677  0.03406633  0.70029414] gave 228.7146147021444\n"
     ]
    },
    {
     "name": "stdout",
     "output_type": "stream",
     "text": [
      "196\n"
     ]
    },
    {
     "name": "stderr",
     "output_type": "stream",
     "text": [
      "Info: Params [ 0.33870439 -1.1856415   0.98128758  0.32099137  0.80413474] gave 173.45091242044103\n"
     ]
    },
    {
     "name": "stdout",
     "output_type": "stream",
     "text": [
      "197\n"
     ]
    },
    {
     "name": "stderr",
     "output_type": "stream",
     "text": [
      "Info: Params [ 0.         -1.97970877  1.0627444   0.5751      0.82741928] gave 131.52887470602604\n"
     ]
    },
    {
     "name": "stdout",
     "output_type": "stream",
     "text": [
      "198\n"
     ]
    },
    {
     "name": "stderr",
     "output_type": "stream",
     "text": [
      "Info: Params [ 1.02042652 -0.47583874  0.97142842 -0.05604045  0.55009428] gave 174.70358847936012\n"
     ]
    },
    {
     "name": "stdout",
     "output_type": "stream",
     "text": [
      "199\n"
     ]
    },
    {
     "name": "stderr",
     "output_type": "stream",
     "text": [
      "Info: Params [ 0.45831921 -1.02428707  1.19207276 -0.10426945  0.85358232] gave 198.70456801253334\n"
     ]
    },
    {
     "name": "stdout",
     "output_type": "stream",
     "text": [
      "200\n"
     ]
    },
    {
     "name": "stderr",
     "output_type": "stream",
     "text": [
      "Info: Params [ 0.34475692 -2.05183621  0.75488258  0.15626783  0.63470137] gave 104.34240930429212\n"
     ]
    },
    {
     "name": "stdout",
     "output_type": "stream",
     "text": [
      "201\n"
     ]
    },
    {
     "name": "stderr",
     "output_type": "stream",
     "text": [
      "Info: Params [ 0.37151777 -2.52085759  0.71512391  0.36473586  0.61708083] gave 79.39597951998014\n"
     ]
    },
    {
     "name": "stdout",
     "output_type": "stream",
     "text": [
      "202\n"
     ]
    },
    {
     "name": "stderr",
     "output_type": "stream",
     "text": [
      "Info: Params [ 0.42358048 -1.12514715  0.99662471  0.34504325  0.76409123] gave 168.731856404467\n"
     ]
    },
    {
     "name": "stdout",
     "output_type": "stream",
     "text": [
      "203\n"
     ]
    },
    {
     "name": "stderr",
     "output_type": "stream",
     "text": [
      "Info: Params [ 0.71867297 -0.84015371  1.10052041  0.36057497  0.84086845] gave 183.27251555273085\n"
     ]
    },
    {
     "name": "stdout",
     "output_type": "stream",
     "text": [
      "204\n"
     ]
    },
    {
     "name": "stderr",
     "output_type": "stream",
     "text": [
      "Info: Params [ 0.10116744 -1.46431425  1.53776898  0.31749188  0.94162303] gave 218.5964748868316\n"
     ]
    },
    {
     "name": "stdout",
     "output_type": "stream",
     "text": [
      "205\n"
     ]
    },
    {
     "name": "stderr",
     "output_type": "stream",
     "text": [
      "Info: Params [ 0.96943264 -1.28376946  0.61569329  0.09422656  0.75000059] gave 91.51795979838414\n"
     ]
    },
    {
     "name": "stdout",
     "output_type": "stream",
     "text": [
      "206\n"
     ]
    },
    {
     "name": "stderr",
     "output_type": "stream",
     "text": [
      "Info: Params [ 0.42978389 -0.84487081  1.21476328  0.31049762  0.88029853] gave 209.44392912411035\n"
     ]
    },
    {
     "name": "stdout",
     "output_type": "stream",
     "text": [
      "207\n"
     ]
    },
    {
     "name": "stderr",
     "output_type": "stream",
     "text": [
      "Info: Params [ 0.06675233 -1.67908897  1.06438699  0.46411688  0.85933416] gave 167.95940860895573\n"
     ]
    },
    {
     "name": "stdout",
     "output_type": "stream",
     "text": [
      "208\n"
     ]
    },
    {
     "name": "stderr",
     "output_type": "stream",
     "text": [
      "Info: Params [ 0.53849247 -1.9645284   0.73453139  0.32017214  0.67582275] gave 77.73375629827271\n"
     ]
    },
    {
     "name": "stdout",
     "output_type": "stream",
     "text": [
      "209\n"
     ]
    },
    {
     "name": "stderr",
     "output_type": "stream",
     "text": [
      "Info: Params [ 0.46611507 -1.06320939  1.18659538  0.38882501  0.82522661] gave 197.27253476741632\n"
     ]
    },
    {
     "name": "stdout",
     "output_type": "stream",
     "text": [
      "210\n"
     ]
    },
    {
     "name": "stderr",
     "output_type": "stream",
     "text": [
      "Info: Params [ 0.54613243 -0.96336705  1.5126569   0.33858097  0.84972322] gave 188.15087864912329\n"
     ]
    },
    {
     "name": "stdout",
     "output_type": "stream",
     "text": [
      "211\n"
     ]
    },
    {
     "name": "stderr",
     "output_type": "stream",
     "text": [
      "Info: Params [ 0.41003478 -1.09657936  0.79334405  0.06044487  0.79545967] gave 151.15126228504403\n"
     ]
    },
    {
     "name": "stdout",
     "output_type": "stream",
     "text": [
      "212\n"
     ]
    },
    {
     "name": "stderr",
     "output_type": "stream",
     "text": [
      "Info: Params [ 0.14886414 -1.25926572  1.11276315  0.26668929  0.52407537] gave 192.17801814440497\n"
     ]
    },
    {
     "name": "stdout",
     "output_type": "stream",
     "text": [
      "213\n"
     ]
    },
    {
     "name": "stderr",
     "output_type": "stream",
     "text": [
      "Info: Params [ 1.19697685 -0.91827719  0.72269281  0.2002389   0.96571735] gave 117.62575360180355\n"
     ]
    },
    {
     "name": "stdout",
     "output_type": "stream",
     "text": [
      "214\n"
     ]
    },
    {
     "name": "stderr",
     "output_type": "stream",
     "text": [
      "Info: Params [ 5.07249802e-04 -1.37682189e+00  1.27205841e+00  3.64548043e-01\n",
      "  5.53198699e-01] gave 212.00460138353438\n"
     ]
    },
    {
     "name": "stdout",
     "output_type": "stream",
     "text": [
      "215\n"
     ]
    },
    {
     "name": "stderr",
     "output_type": "stream",
     "text": [
      "Info: Params [ 0.21824755 -1.19465899  0.90470653  0.34860128  0.7727919 ] gave 169.63000242633635\n"
     ]
    },
    {
     "name": "stdout",
     "output_type": "stream",
     "text": [
      "216\n"
     ]
    },
    {
     "name": "stderr",
     "output_type": "stream",
     "text": [
      "Info: Params [ 0.         -1.66712479  1.07393642  0.47097395  0.79747568] gave 161.17421037649905\n"
     ]
    },
    {
     "name": "stdout",
     "output_type": "stream",
     "text": [
      "217\n"
     ]
    },
    {
     "name": "stderr",
     "output_type": "stream",
     "text": [
      "Info: Params [ 0.06509547 -1.29654469  1.1623315   0.33781571  0.35514845] gave 189.93061905750403\n"
     ]
    },
    {
     "name": "stdout",
     "output_type": "stream",
     "text": [
      "218\n"
     ]
    },
    {
     "name": "stderr",
     "output_type": "stream",
     "text": [
      "Info: Params [ 0.89293289 -1.23195341  0.86365161  0.26237377  0.72842186] gave 126.25639660813206\n"
     ]
    },
    {
     "name": "stdout",
     "output_type": "stream",
     "text": [
      "219\n"
     ]
    },
    {
     "name": "stderr",
     "output_type": "stream",
     "text": [
      "Info: Params [ 0.33373206 -1.03460095  1.14016135  0.15262428  0.94495173] gave 204.58786500649018\n"
     ]
    },
    {
     "name": "stdout",
     "output_type": "stream",
     "text": [
      "220\n"
     ]
    },
    {
     "name": "stderr",
     "output_type": "stream",
     "text": [
      "Info: Params [ 0.24465083 -2.16233506  0.50902592  0.38903251  0.76173626] gave 58.430749546366265\n"
     ]
    },
    {
     "name": "stdout",
     "output_type": "stream",
     "text": [
      "221\n"
     ]
    },
    {
     "name": "stderr",
     "output_type": "stream",
     "text": [
      "Info: Params [ 0.21889755 -1.01562191  1.27570568  0.49919925  0.54529581] gave 209.17581074870415\n"
     ]
    },
    {
     "name": "stdout",
     "output_type": "stream",
     "text": [
      "222\n"
     ]
    },
    {
     "name": "stderr",
     "output_type": "stream",
     "text": [
      "Info: Params [ 0.         -1.14391474  0.97302902  0.24131842  0.54301975] gave 181.20157054796647\n"
     ]
    },
    {
     "name": "stdout",
     "output_type": "stream",
     "text": [
      "223\n"
     ]
    },
    {
     "name": "stderr",
     "output_type": "stream",
     "text": [
      "Info: Params [ 1.08917641 -1.00687189  0.7888527   0.34372765  0.61352192] gave 90.48310178642947\n"
     ]
    },
    {
     "name": "stdout",
     "output_type": "stream",
     "text": [
      "224\n"
     ]
    },
    {
     "name": "stderr",
     "output_type": "stream",
     "text": [
      "Info: Params [ 0.         -1.1602044   1.4674912   0.48378222  0.92250189] gave 236.55194585108407\n"
     ]
    },
    {
     "name": "stdout",
     "output_type": "stream",
     "text": [
      "225\n"
     ]
    },
    {
     "name": "stderr",
     "output_type": "stream",
     "text": [
      "Info: Params [ 0.13062929 -1.61108821  0.92708045  0.36065334  0.78669934] gave 146.83259943973815\n"
     ]
    },
    {
     "name": "stdout",
     "output_type": "stream",
     "text": [
      "226\n"
     ]
    },
    {
     "name": "stderr",
     "output_type": "stream",
     "text": [
      "Info: Params [ 0.20646501 -1.69844294  0.91175624  0.50320377  0.86134438] gave 153.6324596308766\n"
     ]
    },
    {
     "name": "stdout",
     "output_type": "stream",
     "text": [
      "227\n"
     ]
    },
    {
     "name": "stderr",
     "output_type": "stream",
     "text": [
      "Info: Params [ 1.03137041 -0.98315568  0.66254594  0.35253366  0.54691225] gave 88.3559077883009\n"
     ]
    },
    {
     "name": "stdout",
     "output_type": "stream",
     "text": [
      "228\n"
     ]
    },
    {
     "name": "stderr",
     "output_type": "stream",
     "text": [
      "Info: Params [ 0.15767491 -1.13172419  0.92398071  0.16257032  0.75460174] gave 184.6433757425553\n"
     ]
    },
    {
     "name": "stdout",
     "output_type": "stream",
     "text": [
      "229\n"
     ]
    },
    {
     "name": "stderr",
     "output_type": "stream",
     "text": [
      "Info: Params [ 0.08108452 -1.56487995  1.30838521  0.46208817  0.68676589] gave 173.13541092393547\n"
     ]
    },
    {
     "name": "stdout",
     "output_type": "stream",
     "text": [
      "230\n"
     ]
    },
    {
     "name": "stderr",
     "output_type": "stream",
     "text": [
      "Info: Params [ 0.         -1.19048039  1.40877777  0.55645431  0.65681919] gave 212.3127613317073\n"
     ]
    },
    {
     "name": "stdout",
     "output_type": "stream",
     "text": [
      "231\n"
     ]
    },
    {
     "name": "stderr",
     "output_type": "stream",
     "text": [
      "Info: Params [ 0.35500242 -0.69833631  1.25419545  0.39864672  0.96403212] gave 200.05681095245637\n"
     ]
    },
    {
     "name": "stdout",
     "output_type": "stream",
     "text": [
      "232\n"
     ]
    },
    {
     "name": "stderr",
     "output_type": "stream",
     "text": [
      "Info: Params [ 0.56374474 -0.75772973  1.12772414  0.08152794  0.6100122 ] gave 217.81268377175005\n"
     ]
    },
    {
     "name": "stdout",
     "output_type": "stream",
     "text": [
      "233\n"
     ]
    },
    {
     "name": "stderr",
     "output_type": "stream",
     "text": [
      "Info: Params [ 0.53711066 -1.18190788  0.96787129  0.18700353  0.79921256] gave 170.76795007160757\n"
     ]
    },
    {
     "name": "stdout",
     "output_type": "stream",
     "text": [
      "234\n"
     ]
    },
    {
     "name": "stderr",
     "output_type": "stream",
     "text": [
      "Info: Params [ 0.40135692 -0.94729823  1.02595832  0.23678434  0.4483346 ] gave 197.58720778619872\n"
     ]
    },
    {
     "name": "stdout",
     "output_type": "stream",
     "text": [
      "235\n"
     ]
    },
    {
     "name": "stderr",
     "output_type": "stream",
     "text": [
      "Info: Params [ 0.32212985 -0.56315167  1.33864093  0.1909643   0.76100493] gave 254.0244962174229\n"
     ]
    },
    {
     "name": "stdout",
     "output_type": "stream",
     "text": [
      "236\n"
     ]
    },
    {
     "name": "stderr",
     "output_type": "stream",
     "text": [
      "Info: Params [ 0.35321654 -2.0526167   1.17109808  0.53379387  0.74799404] gave 126.7894283325131\n"
     ]
    },
    {
     "name": "stdout",
     "output_type": "stream",
     "text": [
      "237\n"
     ]
    },
    {
     "name": "stderr",
     "output_type": "stream",
     "text": [
      "Info: Params [ 0.11972754 -1.0957588   1.03077992  0.28080516  0.79667541] gave 205.5739749714446\n"
     ]
    },
    {
     "name": "stdout",
     "output_type": "stream",
     "text": [
      "238\n"
     ]
    },
    {
     "name": "stderr",
     "output_type": "stream",
     "text": [
      "Info: Params [ 0.96604441 -0.01512534  1.06090171 -0.34873174  0.76567001] gave 201.68995496240427\n"
     ]
    },
    {
     "name": "stdout",
     "output_type": "stream",
     "text": [
      "239\n"
     ]
    },
    {
     "name": "stderr",
     "output_type": "stream",
     "text": [
      "Info: Params [ 0.64411401 -0.85102981  1.22660291  0.16316416  0.68489634] gave 200.1004035372546\n"
     ]
    },
    {
     "name": "stdout",
     "output_type": "stream",
     "text": [
      "240\n"
     ]
    },
    {
     "name": "stderr",
     "output_type": "stream",
     "text": [
      "Info: Params [ 0.95975432 -0.29602617  1.07496335  0.06291413  0.59160668] gave 201.10127982720283\n"
     ]
    },
    {
     "name": "stdout",
     "output_type": "stream",
     "text": [
      "241\n"
     ]
    },
    {
     "name": "stderr",
     "output_type": "stream",
     "text": [
      "Info: Params [ 0.34764242 -1.2508797   1.2378396   0.28518224  0.75336956] gave 185.85966207060386\n"
     ]
    },
    {
     "name": "stdout",
     "output_type": "stream",
     "text": [
      "242\n"
     ]
    },
    {
     "name": "stderr",
     "output_type": "stream",
     "text": [
      "Info: Params [ 0.26136928 -0.81071882  1.14794862  0.10623921  0.8998486 ] gave 228.30388052664603\n"
     ]
    },
    {
     "name": "stdout",
     "output_type": "stream",
     "text": [
      "243\n"
     ]
    },
    {
     "name": "stderr",
     "output_type": "stream",
     "text": [
      "Info: Params [ 0.8583243  -1.16871927  0.96218478  0.49103214  0.55183416] gave 128.2892847054202\n"
     ]
    },
    {
     "name": "stdout",
     "output_type": "stream",
     "text": [
      "244\n"
     ]
    },
    {
     "name": "stderr",
     "output_type": "stream",
     "text": [
      "Info: Params [ 0.         -1.41343316  1.17355761  0.54241727  0.94944915] gave 197.55269267824642\n"
     ]
    },
    {
     "name": "stdout",
     "output_type": "stream",
     "text": [
      "245\n"
     ]
    },
    {
     "name": "stderr",
     "output_type": "stream",
     "text": [
      "Info: Params [ 0.73469238 -0.81619751  0.9044399   0.24992811  0.66932666] gave 156.82422057141633\n"
     ]
    },
    {
     "name": "stdout",
     "output_type": "stream",
     "text": [
      "246\n"
     ]
    },
    {
     "name": "stderr",
     "output_type": "stream",
     "text": [
      "Info: Params [ 0.83319925 -1.23505202  1.30557384  0.33655113  0.78952481] gave 161.14463620371188\n"
     ]
    },
    {
     "name": "stdout",
     "output_type": "stream",
     "text": [
      "247\n"
     ]
    },
    {
     "name": "stderr",
     "output_type": "stream",
     "text": [
      "Info: Params [ 0.39708935 -0.44183571  1.11110181  0.35035898  0.75765956] gave 217.8890732787978\n"
     ]
    },
    {
     "name": "stdout",
     "output_type": "stream",
     "text": [
      "248\n"
     ]
    },
    {
     "name": "stderr",
     "output_type": "stream",
     "text": [
      "Info: Params [ 0.         -1.68430554  1.0423736   0.45227323  0.89367719] gave 152.6047392499382\n"
     ]
    },
    {
     "name": "stdout",
     "output_type": "stream",
     "text": [
      "249\n"
     ]
    },
    {
     "name": "stderr",
     "output_type": "stream",
     "text": [
      "Info: Params [ 0.66981192 -1.00222306  1.08928015  0.28678582  0.52068392] gave 170.8584634879513\n"
     ]
    },
    {
     "name": "stdout",
     "output_type": "stream",
     "text": [
      "250\n"
     ]
    },
    {
     "name": "stderr",
     "output_type": "stream",
     "text": [
      "Info: Params [ 0.68204679 -0.51743956  1.32652093 -0.01740063  0.93543851] gave 226.92409265661277\n"
     ]
    },
    {
     "name": "stdout",
     "output_type": "stream",
     "text": [
      "251\n"
     ]
    },
    {
     "name": "stderr",
     "output_type": "stream",
     "text": [
      "Info: Params [ 0.49856341 -0.93086817  1.28235346  0.38244077  0.52946276] gave 181.84024970791216\n"
     ]
    },
    {
     "name": "stdout",
     "output_type": "stream",
     "text": [
      "1\n"
     ]
    },
    {
     "name": "stderr",
     "output_type": "stream",
     "text": [
      "Info: Params [ 1.21166666  0.          1.07999999  2.43433137 -0.06216433  0.57045949] gave 220.6092421603417\n"
     ]
    },
    {
     "name": "stdout",
     "output_type": "stream",
     "text": [
      "2\n"
     ]
    },
    {
     "name": "stderr",
     "output_type": "stream",
     "text": [
      "Info: Params [ 3.37939999  0.          1.86666664  0.76450666 -0.13933406  0.45942767] gave 15.045865365543204\n"
     ]
    },
    {
     "name": "stdout",
     "output_type": "stream",
     "text": [
      "3\n"
     ]
    },
    {
     "name": "stderr",
     "output_type": "stream",
     "text": [
      "Info: Params [2.0173836  0.         1.14999999 0.94000279 0.10617743 0.56414417] gave 91.47732644998072\n"
     ]
    },
    {
     "name": "stdout",
     "output_type": "stream",
     "text": [
      "4\n"
     ]
    },
    {
     "name": "stderr",
     "output_type": "stream",
     "text": [
      "Info: Params [ 1.82112516  0.          1.24000002  0.96788516 -0.10185454  0.64990814] gave 95.22965073854901\n"
     ]
    },
    {
     "name": "stdout",
     "output_type": "stream",
     "text": [
      "5\n"
     ]
    },
    {
     "name": "stderr",
     "output_type": "stream",
     "text": [
      "Info: Params [0.64812629 0.         0.80571428 2.22138162 0.10317953 0.35343159] gave 253.07170431984323\n"
     ]
    },
    {
     "name": "stdout",
     "output_type": "stream",
     "text": [
      "6\n"
     ]
    },
    {
     "name": "stderr",
     "output_type": "stream",
     "text": [
      "Info: Params [ 1.17403407  0.          0.55238095  0.96545842 -0.14722842  0.79749885] gave 149.24526222147733\n"
     ]
    },
    {
     "name": "stdout",
     "output_type": "stream",
     "text": [
      "7\n"
     ]
    },
    {
     "name": "stderr",
     "output_type": "stream",
     "text": [
      "Info: Params [0.86324221 0.         0.67272726 1.83246791 0.12096668 0.34967782] gave 229.6032786091257\n"
     ]
    },
    {
     "name": "stdout",
     "output_type": "stream",
     "text": [
      "8\n"
     ]
    },
    {
     "name": "stderr",
     "output_type": "stream",
     "text": [
      "Info: Params [ 1.20554501  0.          0.84444445  1.01163725 -0.09281935  0.73621685] gave 136.52072528116707\n"
     ]
    },
    {
     "name": "stdout",
     "output_type": "stream",
     "text": [
      "9\n"
     ]
    },
    {
     "name": "stderr",
     "output_type": "stream",
     "text": [
      "Info: Params [0.67324455 0.         0.75199996 1.98120866 0.55965106 0.67134408] gave 222.4817340720897\n"
     ]
    },
    {
     "name": "stdout",
     "output_type": "stream",
     "text": [
      "10\n"
     ]
    },
    {
     "name": "stderr",
     "output_type": "stream",
     "text": [
      "Info: Params [ 0.89751681  0.          0.          0.70485143 -0.23276516  0.56465444] gave 152.67917931802924\n"
     ]
    },
    {
     "name": "stdout",
     "output_type": "stream",
     "text": [
      "11\n"
     ]
    },
    {
     "name": "stderr",
     "output_type": "stream",
     "text": [
      "Info: Params [ 1.24212701  0.          0.45        0.81292641 -0.07900403  0.81512935] gave 131.65724672572583\n"
     ]
    },
    {
     "name": "stdout",
     "output_type": "stream",
     "text": [
      "12\n"
     ]
    },
    {
     "name": "stderr",
     "output_type": "stream",
     "text": [
      "Info: Params [ 1.15563143  0.          0.86666666  1.40344318 -0.1135291   0.80823987] gave 178.42990771702614\n"
     ]
    },
    {
     "name": "stdout",
     "output_type": "stream",
     "text": [
      "13\n"
     ]
    },
    {
     "name": "stderr",
     "output_type": "stream",
     "text": [
      "Info: Params [1.63188842 0.         1.23999999 1.01308855 0.0746791  0.7801714 ] gave 104.74469502026166\n"
     ]
    },
    {
     "name": "stdout",
     "output_type": "stream",
     "text": [
      "14\n"
     ]
    },
    {
     "name": "stderr",
     "output_type": "stream",
     "text": [
      "Info: Params [ 1.14655818  0.          0.42677916  1.05808815 -0.29372188  0.98624052] gave 179.31910619471432\n"
     ]
    },
    {
     "name": "stdout",
     "output_type": "stream",
     "text": [
      "15\n"
     ]
    },
    {
     "name": "stderr",
     "output_type": "stream",
     "text": [
      "Info: Params [1.51821718 0.         0.59999999 0.80950274 0.00835984 0.71351233] gave 131.25559299052253\n"
     ]
    },
    {
     "name": "stdout",
     "output_type": "stream",
     "text": [
      "16\n"
     ]
    },
    {
     "name": "stderr",
     "output_type": "stream",
     "text": [
      "Info: Params [ 1.1451068   0.          0.9         1.8660115  -0.00776606  0.73442757] gave 202.89865159035952\n"
     ]
    },
    {
     "name": "stdout",
     "output_type": "stream",
     "text": [
      "17\n"
     ]
    },
    {
     "name": "stderr",
     "output_type": "stream",
     "text": [
      "Info: Params [0.60473995 0.         0.73809523 1.87429554 0.19887283 0.38499832] gave 234.7954486644544\n"
     ]
    },
    {
     "name": "stdout",
     "output_type": "stream",
     "text": [
      "18\n"
     ]
    },
    {
     "name": "stderr",
     "output_type": "stream",
     "text": [
      "Info: Params [1.77658125 0.         1.425      1.28007723 0.06373623 0.83872789] gave 108.05697673794016\n"
     ]
    },
    {
     "name": "stdout",
     "output_type": "stream",
     "text": [
      "19\n"
     ]
    },
    {
     "name": "stderr",
     "output_type": "stream",
     "text": [
      "Info: Params [0.61444912 0.         0.91034482 2.35095589 0.21210193 0.38820105] gave 231.71188359463557\n"
     ]
    },
    {
     "name": "stdout",
     "output_type": "stream",
     "text": [
      "20\n"
     ]
    },
    {
     "name": "stderr",
     "output_type": "stream",
     "text": [
      "Info: Params [ 7.67388614e-01 -7.05163629e-04  3.99294832e-01  1.35722670e+00\n",
      " -6.77385126e-02  6.14685133e-01] gave 235.06519372746075\n"
     ]
    },
    {
     "name": "stdout",
     "output_type": "stream",
     "text": [
      "21\n"
     ]
    },
    {
     "name": "stderr",
     "output_type": "stream",
     "text": [
      "Info: Params [0.98584221 0.         1.02857143 2.49906936 0.10096424 0.90164374] gave 206.68867663327083\n"
     ]
    },
    {
     "name": "stdout",
     "output_type": "stream",
     "text": [
      "22\n"
     ]
    },
    {
     "name": "stderr",
     "output_type": "stream",
     "text": [
      "Info: Params [1.18189344 0.         1.16666667 1.36426207 0.1071013  0.63723907] gave 149.39733594934677\n"
     ]
    },
    {
     "name": "stdout",
     "output_type": "stream",
     "text": [
      "23\n"
     ]
    },
    {
     "name": "stderr",
     "output_type": "stream",
     "text": [
      "Info: Params [0.71328205 0.         0.94285714 2.48602274 0.08896489 0.96398028] gave 211.45624830699387\n"
     ]
    },
    {
     "name": "stdout",
     "output_type": "stream",
     "text": [
      "24\n"
     ]
    },
    {
     "name": "stderr",
     "output_type": "stream",
     "text": [
      "Info: Params [ 1.23100553  0.          0.44        1.35675445 -0.08017296  0.66382   ] gave 203.797565348638\n"
     ]
    },
    {
     "name": "stdout",
     "output_type": "stream",
     "text": [
      "25\n"
     ]
    },
    {
     "name": "stderr",
     "output_type": "stream",
     "text": [
      "Info: Params [1.21987054 0.         0.3        1.19542013 0.17182832 0.52891293] gave 192.97211611824048\n"
     ]
    },
    {
     "name": "stdout",
     "output_type": "stream",
     "text": [
      "26\n"
     ]
    },
    {
     "name": "stderr",
     "output_type": "stream",
     "text": [
      "Info: Params [0.71871002 0.         0.10476523 0.99479253 0.10043415 0.49956756] gave 206.2456018516905\n"
     ]
    },
    {
     "name": "stdout",
     "output_type": "stream",
     "text": [
      "27\n"
     ]
    },
    {
     "name": "stderr",
     "output_type": "stream",
     "text": [
      "Info: Params [ 1.15894795  0.          0.68        1.5812935  -0.03307397  0.6205649 ] gave 209.95711185710803\n"
     ]
    },
    {
     "name": "stdout",
     "output_type": "stream",
     "text": [
      "28\n"
     ]
    },
    {
     "name": "stderr",
     "output_type": "stream",
     "text": [
      "Info: Params [0.90082996 0.         0.5        1.38197963 0.06133432 0.63248963] gave 206.33052758701191\n"
     ]
    },
    {
     "name": "stdout",
     "output_type": "stream",
     "text": [
      "29\n"
     ]
    },
    {
     "name": "stderr",
     "output_type": "stream",
     "text": [
      "Info: Params [1.64328101 0.         1.02222221 1.42177888 0.01549188 0.55977872] gave 171.17539828055186\n"
     ]
    },
    {
     "name": "stdout",
     "output_type": "stream",
     "text": [
      "30\n"
     ]
    },
    {
     "name": "stderr",
     "output_type": "stream",
     "text": [
      "Info: Params [0.82412875 0.         1.26896552 2.32679095 0.35873072 0.39189367] gave 225.13245670647717\n"
     ]
    },
    {
     "name": "stdout",
     "output_type": "stream",
     "text": [
      "31\n"
     ]
    },
    {
     "name": "stderr",
     "output_type": "stream",
     "text": [
      "Info: Params [1.86083297e+00 0.00000000e+00 1.09999993e+00 1.58563572e+00\n",
      " 1.32393061e-03 7.25352273e-01] gave 172.51470387763203\n"
     ]
    },
    {
     "name": "stdout",
     "output_type": "stream",
     "text": [
      "32\n"
     ]
    },
    {
     "name": "stderr",
     "output_type": "stream",
     "text": [
      "Info: Params [1.00228383 0.         1.14999999 2.45121236 0.06644536 0.70858841] gave 207.66454571116208\n"
     ]
    },
    {
     "name": "stdout",
     "output_type": "stream",
     "text": [
      "33\n"
     ]
    },
    {
     "name": "stderr",
     "output_type": "stream",
     "text": [
      "Info: Params [ 0.91337474  0.          0.18666629  1.13617741 -0.34657181  0.71783212] gave 215.81942399530485\n"
     ]
    },
    {
     "name": "stdout",
     "output_type": "stream",
     "text": [
      "34\n"
     ]
    },
    {
     "name": "stderr",
     "output_type": "stream",
     "text": [
      "Info: Params [ 1.01452567  0.          0.16        0.93955761 -0.24727714  0.7532654 ] gave 189.5583010451798\n"
     ]
    },
    {
     "name": "stdout",
     "output_type": "stream",
     "text": [
      "35\n"
     ]
    },
    {
     "name": "stderr",
     "output_type": "stream",
     "text": [
      "Info: Params [ 0.5392306  -0.0051275   0.17605347  0.88846841  0.10375065  0.55160023] gave 199.31467223615942\n"
     ]
    },
    {
     "name": "stdout",
     "output_type": "stream",
     "text": [
      "36\n"
     ]
    },
    {
     "name": "stderr",
     "output_type": "stream",
     "text": [
      "Info: Params [1.34524866 0.         0.76666666 1.117029   0.07243238 0.53246251] gave 159.05816527824018\n"
     ]
    },
    {
     "name": "stdout",
     "output_type": "stream",
     "text": [
      "37\n"
     ]
    },
    {
     "name": "stderr",
     "output_type": "stream",
     "text": [
      "Info: Params [1.05874902 0.         1.37142865 2.35903368 0.28380064 0.36886088] gave 197.441229646375\n"
     ]
    },
    {
     "name": "stdout",
     "output_type": "stream",
     "text": [
      "38\n"
     ]
    },
    {
     "name": "stderr",
     "output_type": "stream",
     "text": [
      "Info: Params [1.06948834 0.         0.9        1.27991318 0.17954849 0.71439004] gave 177.08880888332146\n"
     ]
    },
    {
     "name": "stdout",
     "output_type": "stream",
     "text": [
      "39\n"
     ]
    },
    {
     "name": "stderr",
     "output_type": "stream",
     "text": [
      "Info: Params [0.86641225 0.         0.6        0.96652555 0.13341214 0.5385626 ] gave 154.7226556482343\n"
     ]
    },
    {
     "name": "stdout",
     "output_type": "stream",
     "text": [
      "40\n"
     ]
    },
    {
     "name": "stderr",
     "output_type": "stream",
     "text": [
      "Info: Params [1.31828725 0.         0.71428571 1.13511827 0.01744615 0.67053565] gave 204.6330611891962\n"
     ]
    },
    {
     "name": "stdout",
     "output_type": "stream",
     "text": [
      "41\n"
     ]
    },
    {
     "name": "stderr",
     "output_type": "stream",
     "text": [
      "Info: Params [0.99189551 0.         0.875      2.22048964 0.23794861 0.61453009] gave 220.37717609829707\n"
     ]
    },
    {
     "name": "stdout",
     "output_type": "stream",
     "text": [
      "42\n"
     ]
    },
    {
     "name": "stderr",
     "output_type": "stream",
     "text": [
      "Info: Params [1.98560177 0.         1.05714291 0.77199227 0.2297455  0.57773551] gave 76.24039640979062\n"
     ]
    },
    {
     "name": "stdout",
     "output_type": "stream",
     "text": [
      "43\n"
     ]
    },
    {
     "name": "stderr",
     "output_type": "stream",
     "text": [
      "Info: Params [ 1.69151298  0.          0.92998932  1.6925826  -0.09837066  0.79612451] gave 168.60992720202975\n"
     ]
    },
    {
     "name": "stdout",
     "output_type": "stream",
     "text": [
      "44\n"
     ]
    },
    {
     "name": "stderr",
     "output_type": "stream",
     "text": [
      "Info: Params [1.06024449 0.         1.38749999 2.49378261 0.17927082 0.93920587] gave 190.57960495421236\n"
     ]
    },
    {
     "name": "stdout",
     "output_type": "stream",
     "text": [
      "45\n"
     ]
    },
    {
     "name": "stderr",
     "output_type": "stream",
     "text": [
      "Info: Params [0.86587273 0.         1.05263163 2.49562784 0.11272983 0.99195629] gave 231.273596991056\n"
     ]
    },
    {
     "name": "stdout",
     "output_type": "stream",
     "text": [
      "46\n"
     ]
    }
   ],
   "source": [
    "models = [0, fit_m1, fit_m2, fit_m3, fit_m4, fit_m5, fit_m6]\n",
    "\n",
    "for i_data in list(range(3,5)):\n",
    "    loaded = pd.read_csv(\"data/E\"+str(i_data)+\".csv\") \n",
    "    loaded['present'] = loaded['present'].replace(-1,0)\n",
    "    for i_model in list(range(1,7)):\n",
    "        summary_list = []\n",
    "        for name, group in loaded.groupby('subj_id'):\n",
    "            print(name)\n",
    "            fit_result = models[i_model](group.reset_index(),'E2')\n",
    "            summary_list.append(fit_result)\n",
    "        summary_df = pd.concat(summary_list)\n",
    "        if not os.path.exists(\"model_fits/model_m\"+str(i_model)+\"/data_E\"+str(i_data)):\n",
    "                   os.makedirs(\"model_fits/model_m\"+str(i_model)+\"/data_E\"+str(i_data))\n",
    "        summary_df.to_csv(\"model_fits/model_m\"+str(i_model)+\"/data_E\"+str(i_data)+\"/all_subjects.csv\")"
   ]
  },
  {
   "cell_type": "code",
   "execution_count": 16,
   "id": "eaadbe54",
   "metadata": {},
   "outputs": [],
   "source": [
    "from pyddm import FitResult\n",
    "from pyddm import Fittable, Fitted\n",
    "import pyddm.plot\n",
    "\n",
    "\n",
    "def plotSubj(subj_id, model_fit, exp):\n",
    "    \n",
    "    with open(\"model_fits/model_\"+model_fit+\"/data_\"+exp+\"/subj\"+str(subj_id)+\".txt\", \"r\") as f:\n",
    "        model = eval(f.read())\n",
    "        \n",
    "    data_loaded = pd.read_csv(\"data/\"+exp+\".csv\") \n",
    "\n",
    "    pyddm.plot.model_gui(model=model, sample = Sample.from_pandas_dataframe(data_loaded[data_loaded.subj_id==subj_id], rt_column_name=\"rt\", correct_column_name=\"correct\"))\n"
   ]
  },
  {
   "cell_type": "code",
   "execution_count": 46,
   "id": "92c89e11",
   "metadata": {},
   "outputs": [
    {
     "name": "stderr",
     "output_type": "stream",
     "text": [
      "Warning: dt is large.  Estimated pdfs may be imprecise.  Decrease dt to 0.01 or less.\n"
     ]
    }
   ],
   "source": [
    "plotSubj(8,'m3','E2')"
   ]
  }
 ],
 "metadata": {
  "kernelspec": {
   "display_name": "Python 3 (ipykernel)",
   "language": "python",
   "name": "python3"
  },
  "language_info": {
   "codemirror_mode": {
    "name": "ipython",
    "version": 3
   },
   "file_extension": ".py",
   "mimetype": "text/x-python",
   "name": "python",
   "nbconvert_exporter": "python",
   "pygments_lexer": "ipython3",
   "version": "3.9.7"
  }
 },
 "nbformat": 4,
 "nbformat_minor": 5
}
